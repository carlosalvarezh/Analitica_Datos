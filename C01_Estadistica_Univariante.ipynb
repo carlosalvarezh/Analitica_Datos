{
 "cells": [
  {
   "cell_type": "markdown",
   "id": "2d9048b9",
   "metadata": {},
   "source": [
    "<h1 align=\"center\">Analítica de datos para la toma de decisiones empresariales</h1>\n",
    "<h1 align=\"center\">Estadística Univariante</h1>\n",
    "<h1 align=\"center\">Centro de Educación Continua</h1>\n",
    "<h1 align=\"center\">EAFIT</h1>\n",
    "<h1 align=\"center\">2023</h1>\n",
    "<h1 align=\"center\">MEDELLÍN - COLOMBIA</h1>"
   ]
  },
  {
   "cell_type": "markdown",
   "id": "597a8d9e",
   "metadata": {},
   "source": [
    "*** \n",
    "|![Gmail](https://img.shields.io/badge/Gmail-D14836?style=plastic&logo=gmail&logoColor=white)|<carlosalvarezh@gmail.com>|![Outlook](https://img.shields.io/badge/Microsoft_Outlook-0078D4?style=plastic&logo=microsoft-outlook&logoColor=white)|<calvar52@eafit.edu.co>|\n",
    "|-:|:-|--:|:--|\n",
    "|[![LinkedIn](https://img.shields.io/badge/linkedin-%230077B5.svg?style=plastic&logo=linkedin&logoColor=white)](https://www.linkedin.com/in/carlosalvarez5/)|[![@alvarezhenao](https://img.shields.io/twitter/url/https/twitter.com/alvarezhenao.svg?style=social&label=Follow%20%40alvarezhenao)](https://twitter.com/alvarezhenao)|[![@carlosalvarezh](https://img.shields.io/badge/github-%23121011.svg?style=plastic&logo=github&logoColor=white)](https://github.com/carlosalvarezh)|[![Open In Colab](https://colab.research.google.com/assets/colab-badge.svg)](https://colab.research.google.com/github/carlosalvarezh/Curso_CEC_EAFIT/blob/main/C01_Estadistica_Univariante.ipynb)|\n",
    "\n",
    "<table>\n",
    " <tr align=left><td><img align=left src=\"https://github.com/carlosalvarezh/Curso_CEC_EAFIT/blob/main/images/CCLogoColorPop1.gif?raw=true\" width=\"25\">\n",
    " <td>Text provided under a Creative Commons Attribution license, CC-BY. All code is made available under the FSF-approved MIT license.(c) Carlos Alberto Alvarez Henao</td>\n",
    "</table>\n",
    "\n",
    "***"
   ]
  },
  {
   "cell_type": "markdown",
   "id": "3352bab9",
   "metadata": {},
   "source": [
    "<p float=\"center\">\n",
    "  <img src=\"https://github.com/carlosalvarezh/Curso_CEC_EAFIT/blob/main/images/C02_02_WordCloudStatistics.jpg?raw=true\" width=\"300\" />\n",
    "</p>"
   ]
  },
  {
   "cell_type": "markdown",
   "id": "11f5d061",
   "metadata": {},
   "source": [
    "## Definiciones  y conceptos"
   ]
  },
  {
   "cell_type": "markdown",
   "id": "d2e27708",
   "metadata": {},
   "source": [
    "### Introducción"
   ]
  },
  {
   "cell_type": "markdown",
   "id": "16491ad3",
   "metadata": {},
   "source": [
    "La capacidad de tomar decisiones informadas y estratégicas es esencial en el entorno empresarial actual, y la estadística desempeña un papel fundamental en este proceso. Exploraremos cómo la estadística univariante, en particular el análisis univariante, puede proporcionarnos información valiosa y confiable a partir de los datos, permitiéndonos tomar decisiones más efectivas y fundamentadas. "
   ]
  },
  {
   "cell_type": "markdown",
   "id": "01512dcb",
   "metadata": {},
   "source": [
    "### Qué es la Estadística"
   ]
  },
  {
   "cell_type": "markdown",
   "id": "efc055d3",
   "metadata": {},
   "source": [
    "La [estadística](https://en.wikipedia.org/wiki/Statistics) es la ciencia que nos permite recopilar, organizar, analizar e interpretar [datos](https://en.wikipedia.org/wiki/Data) para tomar decisiones basadas en evidencia. Es un puente crucial entre la información cruda y el conocimiento accionable.\n",
    "\n",
    "Veamos el siguiente conjunto de datos:\n",
    "\n",
    "<p float=\"center\">\n",
    "  <img src=\"https://github.com/carlosalvarezh/Curso_CEC_EAFIT/blob/main/images/C02_01_Tabla.PNG?raw=true\" width=\"750\" />\n",
    "</p>\n",
    "\n",
    "Puede inferir algo de esta tabla?\n",
    "\n",
    "La estadística nos permitirá convertir esos datos \"inconexos\" en información."
   ]
  },
  {
   "cell_type": "markdown",
   "id": "dc6d5140",
   "metadata": {},
   "source": [
    "### Ramas de la estadística"
   ]
  },
  {
   "cell_type": "markdown",
   "id": "08d51e21",
   "metadata": {},
   "source": [
    "La estadística suele ser dividida en dos grandes ramas:"
   ]
  },
  {
   "cell_type": "markdown",
   "id": "815b7d56",
   "metadata": {},
   "source": [
    "#### Estadística descriptiva "
   ]
  },
  {
   "cell_type": "markdown",
   "id": "08ae5ada",
   "metadata": {},
   "source": [
    "La [estadística descriptiva](https://en.wikipedia.org/wiki/Descriptive_statistics) se centra en la recopilación, organización, resumen y presentación de datos de manera informativa. Su objetivo principal es describir las características esenciales de un conjunto de datos sin realizar inferencias o generalizaciones más allá de los datos en sí. Calcula los parámetros estadísticos que describen el conjunto estudiado. Algunos conceptos y técnicas asociadas con la estadística descriptiva incluyen:\n",
    "\n",
    "- ***Medidas de tendencia central:*** como la media, mediana y moda, que resumen la ubicación promedio de los datos.  \n",
    "<p>&nbsp;</p>\n",
    "- ***Medidas de dispersión:*** como la desviación estándar y el rango intercuartílico, que indican cuánto se dispersan los datos alrededor de las medidas de tendencia central.  \n",
    "<p>&nbsp;</p>\n",
    "- ***Gráficos y diagramas:*** como histogramas, gráficos de barras y gráficos de dispersión, que visualizan los patrones y la distribución de los datos.\n"
   ]
  },
  {
   "cell_type": "markdown",
   "id": "f2c33f80",
   "metadata": {},
   "source": [
    "#### Estadistica inferencial"
   ]
  },
  {
   "cell_type": "markdown",
   "id": "ad7cc57f",
   "metadata": {},
   "source": [
    "<p float=\"center\">\n",
    "  <img src=\"https://github.com/carlosalvarezh/Curso_CEC_EAFIT/blob/main/images/PopulationSample.png?raw=true\" width=\"500\" />\n",
    "</p>\n",
    "\n",
    "La [estadística inferencial](https://en.wikipedia.org/wiki/Statistical_inference), también conocida como estadística diferencial, se refiere al proceso de hacer inferencias o conclusiones sobre una población (*Population*) basándose en los datos de una muestra (*Sample*) seleccionada de esa población. Esta rama se utiliza para sacar conclusiones más allá de los datos observados y para tomar decisiones informadas sobre hipótesis y afirmaciones. Algunos conceptos y técnicas asociadas con la estadística inferencial incluyen:\n",
    "\n",
    "- ***Estimación de parámetros:*** Utiliza los datos de la muestra para estimar los parámetros poblacionales desconocidos, como la media o la proporción.\n",
    "<p>&nbsp;</p>\n",
    "\n",
    "- ***Pruebas de hipótesis:*** Evalúa si ciertas afirmaciones sobre la población son compatibles con los datos de la muestra o si deberían rechazarse en favor de otra afirmación.\n",
    "<p>&nbsp;</p>\n",
    "\n",
    "- ***Intervalos de confianza:*** Proporcionan un rango de valores dentro del cual se espera que se encuentre un parámetro poblacional con un cierto nivel de confianza.\n",
    "<p>&nbsp;</p>\n",
    "\n",
    "- ***Regresión y correlación:*** Modelan relaciones entre variables y permiten hacer predicciones y análisis de causalidad."
   ]
  },
  {
   "cell_type": "markdown",
   "id": "acb8b994",
   "metadata": {},
   "source": [
    "### Probabilidad"
   ]
  },
  {
   "cell_type": "markdown",
   "id": "8b5474ee",
   "metadata": {},
   "source": [
    "Mientras que, como se dijo, la estadística se enfoca en la recopilación, organización, análisis e interpretación de datos, la [probabilidad](https://en.wikipedia.org/wiki/Probability) es la medida cuantitativa de la incertidumbre. Se utiliza para cuantificar la posibilidad de que ocurra un evento específico. En esencia, la probabilidad es una forma de asignar un valor numérico a la chance de que un evento suceda, y estos valores generalmente se encuentran en el rango de 0 (evento imposible) a 1 (evento seguro). También puede ser visto como un porcentaje (0% - 100%). La teoría de la probabilidad se basa en modelos matemáticos que describen cómo se distribuyen las posibilidades en diferentes situaciones. La probabilidad se aplica en diversas áreas, como la toma de decisiones bajo incertidumbre, estadísticas, teoría de juegos, análisis de riesgos y más."
   ]
  },
  {
   "cell_type": "markdown",
   "id": "c3b79e13",
   "metadata": {},
   "source": [
    "En resumen, la probabilidad se relaciona con la cuantificación de la incertidumbre, mientras que la estadística se refiere al análisis y la interpretación de datos para tomar decisiones informadas. Aunque son conceptos distintos, a menudo se interrelacionan en campos como la teoría de la probabilidad, la estadística matemática y la inferencia estadística."
   ]
  },
  {
   "cell_type": "markdown",
   "id": "6d86f37b",
   "metadata": {},
   "source": [
    "### Actividades en un análisis estadístico"
   ]
  },
  {
   "cell_type": "markdown",
   "id": "67dd9b3a",
   "metadata": {},
   "source": [
    "El análisis estadístico implica una serie de actividades fundamentales para comprender, resumir y extraer información útil de los datos. Estas actividades básicas son esenciales para llevar a cabo una investigación o análisis de datos de manera efectiva. Aquí están algunas de las actividades básicas del análisis estadístico:\n",
    "\n",
    "- ***Recopilación de Datos:*** Esta es la fase inicial en la que se reúnen los datos relevantes para el estudio. Los datos pueden ser recolectados a través de encuestas, experimentos, observaciones, registros u otras fuentes.\n",
    "<p>&nbsp;</p>\n",
    "\n",
    "- ***Organización y Limpieza de Datos:*** Los datos recopilados a menudo pueden ser desordenados o contener errores. En esta etapa, los datos se organizan en una forma adecuada para el análisis y se eliminan o corrigen los errores obvios.\n",
    "<p>&nbsp;</p>\n",
    "\n",
    "- ***Descripción de Datos:*** En esta etapa, se utilizan técnicas de estadística descriptiva para resumir y presentar los datos. Esto puede incluir cálculos de medidas de tendencia central (como la media, mediana y moda) y medidas de dispersión (como la desviación estándar y el rango).\n",
    "<p>&nbsp;</p>\n",
    "\n",
    "- ***Visualización de Datos:*** Se crean gráficos para visualizar patrones, distribuciones y relaciones en los datos. Ejemplos de esto son histogramas, diagramas de dispersión y gráficos de barras.\n",
    "<p>&nbsp;</p>\n",
    "\n",
    "- ***Análisis Exploratorio de Datos:*** Esta fase implica explorar más a fondo los datos para identificar patrones interesantes o relaciones. Se pueden utilizar técnicas como análisis de clusters o análisis de componentes principales para encontrar estructuras subyacentes en los datos.\n",
    "<p>&nbsp;</p>\n",
    "\n",
    "- ***Inferencia Estadística:*** En esta etapa, se aplican técnicas de estadística inferencial para hacer generalizaciones sobre una población más amplia basadas en los datos de muestra. Esto incluye la estimación de parámetros poblacionales y la realización de pruebas de hipótesis.\n",
    "<p>&nbsp;</p>\n",
    "\n",
    "- ***Modelado y Predicción:*** Se utilizan modelos matemáticos y estadísticos para describir y predecir relaciones entre variables. Esto puede implicar el uso de regresión, análisis de series temporales u otras técnicas de modelado.\n",
    "<p>&nbsp;</p>\n",
    "\n",
    "- ***Validación y Verificación:*** Se evalúa la confiabilidad y validez de los resultados obtenidos. Esto puede involucrar el uso de técnicas como validación cruzada y pruebas de sensibilidad.\n",
    "<p>&nbsp;</p>\n",
    "\n",
    "- ***Comunicación de Resultados:*** Los resultados y conclusiones del análisis se presentan de manera clara y comprensible para las personas interesadas. Esto puede incluir informes, presentaciones y visualizaciones.\n",
    "<p>&nbsp;</p>\n",
    "\n",
    "- ***Toma de Decisiones:*** Finalmente, los resultados del análisis estadístico se utilizan para tomar decisiones informadas, hacer recomendaciones o llevar a cabo acciones basadas en la comprensión de los datos.\n",
    "<p>&nbsp;</p>\n",
    "\n",
    "Estas actividades básicas no son necesariamente lineales y a menudo se superponen en diferentes etapas del proceso de análisis. El análisis estadístico es un proceso iterativo en el que se pueden ajustar y refinar enfoques a medida que se adquiere una comprensión más profunda de los datos y los resultados."
   ]
  },
  {
   "cell_type": "markdown",
   "id": "3f589b6e",
   "metadata": {},
   "source": [
    "### Rol de la Analítica de Datos en la Toma de Decisiones Empresariales"
   ]
  },
  {
   "cell_type": "markdown",
   "id": "99cd5111",
   "metadata": {},
   "source": [
    "La analítica de datos se ha convertido en una herramienta indispensable para las empresas modernas. Desde la identificación de patrones hasta la detección de tendencias, la analítica de datos nos proporciona una visión profunda y valiosa que influye en las decisiones estratégicas."
   ]
  },
  {
   "cell_type": "markdown",
   "id": "9e27ae7e",
   "metadata": {},
   "source": [
    "### Bibliotecas para tratamiento de datos estadísticos"
   ]
  },
  {
   "cell_type": "markdown",
   "id": "69aed67f",
   "metadata": {},
   "source": [
    "Python tiene una extensa variedad de bibliotecas que ayudan en el trabajo con datos. A continuación se presentará un compendio de las más utilizadas (algunas ya las hemos visto):\n",
    "\n",
    "- ***[matplotlib](https://matplotlib.org/):*** Es la librería más popular en Python para visualizaciones y gráficos. Ella nos va a permitir realizar los gráficos de las distintas distribuciones de datos.\n",
    "<p>&nbsp;</p>\n",
    "\n",
    "- ***[seaborn](https://stanford.edu/~mwaskom/software/seaborn/):*** Esta librería es un complemento ideal de matplotlib para realizar gráficos estadísticos.\n",
    "<p>&nbsp;</p>\n",
    "\n",
    "- ***[numpy](https://www.numpy.org/):*** El popular paquete matemático de Python, se utiliza tanto que mucha gente ya lo considera parte integral del lenguaje. Nos proporciona algunas funciones estadísticas que podemos aplicar fácilmente sobre los arrays de Numpy.\n",
    "<p>&nbsp;</p>\n",
    "\n",
    "- ***[scipy.stats](https://docs.scipy.org/doc/scipy/reference/stats.html#module-scipy.stats):*** Este submodulo del paquete científico Scipy es el complemento perfecto para Numpy, las funciones estadisticas que no encontremos en uno, las podemos encontrar en el otro.\n",
    "<p>&nbsp;</p>\n",
    "\n",
    "- ***[pandas](https://pandas.pydata.org/):*** Esta es la biblioteca más popular para análisis de datos y financieros. Posee algunas funciones muy útiles para realizar estadística descriptiva sobre nuestros datos y nos facilita sobremanera el trabajar con series de tiempo.\n",
    "<p>&nbsp;</p>\n",
    "\n",
    "- ***[statsmodels](https://statsmodels.sourceforge.net/):*** Esta biblioteca nos brinda un gran número de herramientas para explorar datos, estimar modelos estadísticos, realizar pruebas estadísticas y muchas cosas más.\n",
    "<p>&nbsp;</p>\n",
    "\n",
    "- ***[Scikit-Learn](https://scikit-learn.org/stable/index.html) (sklearn):*** Es una de las bibliotecas de aprendizaje automático más utilizadas en Python. Se emplea para una amplia variedad de tareas relacionadas con el aprendizaje automático y la minería de datos. \n",
    "\n",
    "A manera de resumen podríamos indicar:\n",
    "\n",
    "|Library|Arrays|Structured data|Solvers: basic|Solvers: adv|Stats: basic|Stats: adv| ML|\n",
    "|:------|:----:|:-------------:|:------------:|:----------:|:----------:|:--------:|:-:|\n",
    "|Numpy  |  X   |               |      X       |            |            |          |   |\n",
    "|Scipy  |      |               |      X       |      X     |      X     |          |   |\n",
    "|Pandas |      |       X       |              |            |            |          |   |\n",
    "|Statmodels|   |               |              |            |      X     |      X   |   |\n",
    "|Scikitlearn|  |               |              |            |            |          | X |"
   ]
  },
  {
   "cell_type": "markdown",
   "id": "9d067050",
   "metadata": {},
   "source": [
    "## Estadística descriptiva"
   ]
  },
  {
   "cell_type": "markdown",
   "id": "4537d0ba",
   "metadata": {},
   "source": [
    "La [estadística descriptiva](https://en.wikipedia.org/wiki/Descriptive_statistics) es una rama fundamental de la estadística que se enfoca en la descripción, resumen y organización de los [datos](https://en.wikipedia.org/wiki/Data) de manera que podamos entender mejor su estructura, patrones y características principales. Su objetivo principal es proporcionar una visión clara y concisa de un conjunto de datos, lo que permite identificar tendencias, patrones, distribuciones y resaltar aspectos clave sin realizar inferencias más allá de los datos presentes. Veamos los componentes esenciales de la estadística descriptiva y cómo se aplican a través de ejemplos."
   ]
  },
  {
   "cell_type": "markdown",
   "id": "6b9bdc5a",
   "metadata": {},
   "source": [
    "### Medidas de Tendencia Central"
   ]
  },
  {
   "cell_type": "markdown",
   "id": "524c4ed8",
   "metadata": {},
   "source": [
    "Las medidas de tendencia central se utilizan para identificar el valor central o típico en un conjunto de datos. Ejemplos de medidas de tendencia central incluyen:"
   ]
  },
  {
   "cell_type": "markdown",
   "id": "59de2ad4",
   "metadata": {},
   "source": [
    "<a id='mean'></a>"
   ]
  },
  {
   "cell_type": "markdown",
   "id": "ad12c187",
   "metadata": {},
   "source": [
    "#### Media aritmética"
   ]
  },
  {
   "cell_type": "markdown",
   "id": "8918a5bf",
   "metadata": {},
   "source": [
    "La [media aritmética](https://en.wikipedia.org/wiki/Arithmetic_mean) es la suma de todos los valores dividida por el número total de valores. Se suele representar con la letra griega $\\mu$. Si tenemos una muestra de $n$ valores, $x_i$, la media aritmética, $\\mu$, es la suma de los valores divididos por el numero de elementos; en otras palabras:\n",
    "\n",
    "$$\\mu = \\frac{1}{n}\\sum_{i=1}^n{x_i}=\\frac{x_1+x_2+x_3+\\ldots+x_n}{n}$$\n",
    "\n",
    "***Ejemplo:*** En un conjunto de calificaciones de estudiantes $(85, 90, 78, 92, 88)$, la media sería \n",
    "\n",
    "$$\\frac{(85 + 90 + 78 + 92 + 88)} {5} = 86.6$$\n",
    "\n",
    "veamos diferentes formas de cómo sería empleando un lenguaje de programación (python). Empecemos por la forma más básica hasta avanzar a la forma \"correcta\":"
   ]
  },
  {
   "cell_type": "markdown",
   "id": "dd2f1f20",
   "metadata": {},
   "source": [
    "La primera forma es emplear Python como simple calculadora:"
   ]
  },
  {
   "cell_type": "code",
   "execution_count": null,
   "id": "0654f2ff",
   "metadata": {},
   "outputs": [],
   "source": [
    "# python como simple calculadora\n",
    "media = (85 + 90 + 78 + 92 + 88) / 5\n",
    "media"
   ]
  },
  {
   "cell_type": "markdown",
   "id": "0c5915e5",
   "metadata": {},
   "source": [
    "Avancemos un poco y ahora usemos algunas de las estructuras de programación vistas en el mini-curso de Python. Creemos una lista con los datos y usemos las funcionalidades que tiene python para extraer información."
   ]
  },
  {
   "cell_type": "code",
   "execution_count": null,
   "id": "b54d4a04",
   "metadata": {},
   "outputs": [],
   "source": [
    "# empleando un ciclo for que recorra todo el vector de datos x\n",
    "\n",
    "data = [85, 90, 78, 92, 88]\n",
    "n = len(data) \n",
    "suma = 0\n",
    "for i in data:\n",
    "    suma += i\n",
    "media = suma / n\n",
    "print(media)"
   ]
  },
  {
   "cell_type": "markdown",
   "id": "7594e36b",
   "metadata": {},
   "source": [
    "Ahora vamos un paso más adelante y empleemos las funciones predefinidas que posee Python para obtener de forma rápida y eficiente algunos valores. Veamos primero cuáles son esas funciones predefinidas:"
   ]
  },
  {
   "cell_type": "code",
   "execution_count": null,
   "id": "702caee2",
   "metadata": {},
   "outputs": [],
   "source": [
    "import builtins\n",
    "\n",
    "print(dir(builtins))"
   ]
  },
  {
   "cell_type": "markdown",
   "id": "83b1487b",
   "metadata": {},
   "source": [
    "Observemos que ya hay una función `sum` predefinida. Veamos qué hace esa función:"
   ]
  },
  {
   "cell_type": "code",
   "execution_count": null,
   "id": "b7fb3df2",
   "metadata": {
    "scrolled": true
   },
   "outputs": [],
   "source": [
    "help(sum)"
   ]
  },
  {
   "cell_type": "markdown",
   "id": "670845f1",
   "metadata": {},
   "source": [
    "Ahora usemos la función predefinida en nuestros cálculos,"
   ]
  },
  {
   "cell_type": "code",
   "execution_count": null,
   "id": "2747165a",
   "metadata": {},
   "outputs": [],
   "source": [
    "# empleando la función suma (más eficiente)\n",
    "\n",
    "data = [85, 90, 78, 92, 88]    # lista con datos\n",
    "n = len(data)  \n",
    "suma = sum(data)\n",
    "media = suma / n\n",
    "print(media)"
   ]
  },
  {
   "cell_type": "markdown",
   "id": "903c04c7",
   "metadata": {},
   "source": [
    "Ya no es necesario usar un ciclo para determinar la suma. Python ya trae por defecto dicha operación (además, de ser más eficiente computacionalmente). \n",
    "\n",
    "Por último, empleemos las bibliotecas que contiene Python para facilitar el trabajo. Empecemos con la biblioteca [`Numpy`](https://numpy.org/)"
   ]
  },
  {
   "cell_type": "code",
   "execution_count": null,
   "id": "ef3947a5",
   "metadata": {},
   "outputs": [],
   "source": [
    "# empleando el módulo Numpy y sus funciones - la opción correcta!\n",
    "import numpy as np\n",
    "\n",
    "data = [85, 90, 78, 92, 88]\n",
    "media = np.mean(data)\n",
    "print(media)"
   ]
  },
  {
   "cell_type": "markdown",
   "id": "80269665",
   "metadata": {},
   "source": [
    "Observése que, aprovechando las funcionalidades del lenguaje, se logra una mayor eficiencia en el trabajo. Para los siguientes cálculos emplearemos en lo posible el llamado a bibliotecas y funciones predefinidas en Python."
   ]
  },
  {
   "cell_type": "markdown",
   "id": "9d8df883",
   "metadata": {},
   "source": [
    "#### Mediana"
   ]
  },
  {
   "cell_type": "markdown",
   "id": "8b235955",
   "metadata": {},
   "source": [
    "La mediana es el valor que divide el conjunto de datos en dos partes iguales. \n",
    "\n",
    "- ***Ejemplo:*** En un conjunto de datos $(85, 90, 78, 92, 88)$, la mediana sería el valor que está en la mitad. Lo primero que hay qué hacer es ordenarlo en forma ascendente: $(78, 85, 88, 90, 92)$, con esto, el valor que se encuentra en la mitad es $88$. Obsérvese que este conjunto de datos tiene una cantidad impar de datos, por lo que el dato que ocupa la mitad es la mediana. Si fuera un conjunto de datos con una cantidad par, por ejemplo $(78, 85, 88, 90, 92, 96)$, la mediana sería el promedio entre los datos $88$ y $90$, es decir: $(88 + 90) / 2 = 89.0$"
   ]
  },
  {
   "cell_type": "code",
   "execution_count": null,
   "id": "f71127b5",
   "metadata": {
    "scrolled": true
   },
   "outputs": [],
   "source": [
    "# cuentas con \"calculadora\"\n",
    "(88 + 90) / 2"
   ]
  },
  {
   "cell_type": "markdown",
   "id": "d1f6d94f",
   "metadata": {},
   "source": [
    "Programemos en python nuestra propia función para calcular la mediana:"
   ]
  },
  {
   "cell_type": "code",
   "execution_count": null,
   "id": "ea3dd563",
   "metadata": {},
   "outputs": [],
   "source": [
    "def mediana(x):\n",
    "    n = len(x)\n",
    "    x_sort = sorted(x)\n",
    "\n",
    "    if n % 2 == 0:\n",
    "        low = n // 2 - 1\n",
    "        high = n // 2\n",
    "        mediana = (x_sort[low] + x_sort[high]) / 2\n",
    "    else:\n",
    "        indice_mediana = n // 2\n",
    "        mediana = x_sort[indice_mediana]\n",
    "\n",
    "    print(\"La mediana es:\", mediana)"
   ]
  },
  {
   "cell_type": "code",
   "execution_count": null,
   "id": "0f4843a2",
   "metadata": {},
   "outputs": [],
   "source": [
    "# data\n",
    "\n",
    "data = [90, 78, 88, 85, 96, 92]  # cantidad par de datos\n",
    "#data = [78,85,88,90,92]  # cantidad impar de datos"
   ]
  },
  {
   "cell_type": "code",
   "execution_count": null,
   "id": "4658c51b",
   "metadata": {},
   "outputs": [],
   "source": [
    "# llamado a la función mediana\n",
    "\n",
    "mediana(data)"
   ]
  },
  {
   "cell_type": "markdown",
   "id": "90052a61",
   "metadata": {},
   "source": [
    "O podemos emplear la función `median` de `numpy`,"
   ]
  },
  {
   "cell_type": "code",
   "execution_count": null,
   "id": "adac2262",
   "metadata": {
    "scrolled": true
   },
   "outputs": [],
   "source": [
    "import numpy as np\n",
    "np.median(data)"
   ]
  },
  {
   "cell_type": "markdown",
   "id": "552b2fcb",
   "metadata": {},
   "source": [
    "#### Moda"
   ]
  },
  {
   "cell_type": "markdown",
   "id": "af96a045",
   "metadata": {},
   "source": [
    "La moda es el valor que ocurre con mayor frecuencia en un conjunto de datos. \n",
    "\n",
    "- ***Ejemplo:*** Sea el siguiente conjunto de datos:"
   ]
  },
  {
   "cell_type": "code",
   "execution_count": null,
   "id": "80604a54",
   "metadata": {},
   "outputs": [],
   "source": [
    "data = [8, 7, 5, 12, 7, 5, 8, 8, 5, 12, 7, 5, 4, 6, 7, 5, 8, 4, 5, 7, 5]\n",
    "\n",
    "frecuencias = {}\n",
    "for dato in data:\n",
    "    if dato in frecuencias:\n",
    "        frecuencias[dato] += 1\n",
    "    else:\n",
    "        frecuencias[dato] = 1\n",
    "\n",
    "moda = []\n",
    "frecuencia_maxima = max(frecuencias.values())\n",
    "\n",
    "for dato, frecuencia in frecuencias.items():\n",
    "    if frecuencia == frecuencia_maxima:\n",
    "        moda.append(dato)\n",
    "\n",
    "print(\"La moda es:\", moda)\n"
   ]
  },
  {
   "cell_type": "markdown",
   "id": "b22f644c",
   "metadata": {},
   "source": [
    "veamos qué se almacenó en el diccionario `frecuencias`:"
   ]
  },
  {
   "cell_type": "code",
   "execution_count": null,
   "id": "d02c875f",
   "metadata": {},
   "outputs": [],
   "source": [
    "print(frecuencias)"
   ]
  },
  {
   "cell_type": "markdown",
   "id": "7937f902",
   "metadata": {},
   "source": [
    "`Numpy` no incluye una función directa para calcular la moda. Sin embargo, podemos lograrlo importando otra biblioteca llamada [`scipy`](https://scipy.org/), que se basa en `Numpy` para ofrecer funcionalidades adicionales en tareas científicas y de ingeniería."
   ]
  },
  {
   "cell_type": "code",
   "execution_count": null,
   "id": "17ae99c3",
   "metadata": {},
   "outputs": [],
   "source": [
    "from scipy import stats"
   ]
  },
  {
   "cell_type": "code",
   "execution_count": null,
   "id": "6d35bc68",
   "metadata": {
    "scrolled": false
   },
   "outputs": [],
   "source": [
    "moda = stats.mode(data) \n",
    "print(moda)"
   ]
  },
  {
   "cell_type": "markdown",
   "id": "2368287a",
   "metadata": {},
   "source": [
    "### Indicadores de Dispersión"
   ]
  },
  {
   "cell_type": "markdown",
   "id": "c184a18f",
   "metadata": {},
   "source": [
    "#### Varianza"
   ]
  },
  {
   "cell_type": "markdown",
   "id": "3a4ef1df",
   "metadata": {},
   "source": [
    "La varianza es una medida de la dispersión o variabilidad de un conjunto de datos. Indica qué tan alejados están los valores individuales del valor promedio (media) del conjunto. Una varianza más alta indica que los valores están más dispersos, mientras que una varianza más baja indica que los valores están más agrupados alrededor de la media. Se representa con el símbolo $\\sigma^2$, y su fórmula general para un conjunto de datos es:\n",
    "\n",
    "$$\\sigma^2=\\frac{\\sum \\limits_{i=1}^n \\left(x_i - \\mu \\right)^2}{n}$$\n",
    "\n",
    "un código en Python para calcular la varianza podría ser:"
   ]
  },
  {
   "cell_type": "code",
   "execution_count": null,
   "id": "88b77f8e",
   "metadata": {},
   "outputs": [],
   "source": [
    "#data = [25, 30, 32, 38, 40, 45]\n",
    "#data = [1,2,2,2,1,1,3,2,2,2]\n",
    "data = [100,101,101,100,103,101,102,101,100,103,100,102,102]\n",
    "\n",
    "n = len(data)\n",
    "media = sum(data) / n\n",
    "\n",
    "diferencias_cuadradas = [(x - media) ** 2 for x in data]    # list comprenhension para evitar el ciclo for\n",
    "varianza = sum(diferencias_cuadradas) / n\n",
    "\n",
    "print(\"La media es:\", media)\n",
    "print(\"La varianza es:\", varianza)\n"
   ]
  },
  {
   "cell_type": "markdown",
   "id": "9231ab4f",
   "metadata": {},
   "source": [
    "Empleando la biblioteca `Numpy`:"
   ]
  },
  {
   "cell_type": "code",
   "execution_count": null,
   "id": "51cb68b2",
   "metadata": {},
   "outputs": [],
   "source": [
    "np.var(data)"
   ]
  },
  {
   "cell_type": "markdown",
   "id": "ece86c71",
   "metadata": {},
   "source": [
    "#### Desviación estándar"
   ]
  },
  {
   "cell_type": "markdown",
   "id": "bde5eb8d",
   "metadata": {},
   "source": [
    "La [desviación estándar](https://en.wikipedia.org/wiki/Standard_deviation) es una medida estadística que indica cuánto se desvían los valores individuales de un conjunto de datos con respecto a su media. En otras palabras, mide la dispersión o variabilidad de los valores con respecto a la media. Una desviación estándar mayor indica que los valores están más dispersos, mientras que una desviación estándar menor indica que los valores están más cerca de la media. Matemáticamente, la desviación estándar es la raíz cuadrada de la varianza:\n",
    "\n",
    "$$\\sigma=\\sqrt{\\frac{\\sum \\limits_{i=1}^n \\left(x_i - \\mu \\right)^2}{n}}$$"
   ]
  },
  {
   "cell_type": "code",
   "execution_count": null,
   "id": "8ab495bf",
   "metadata": {},
   "outputs": [],
   "source": [
    "np.std(data)"
   ]
  },
  {
   "cell_type": "markdown",
   "id": "13769b47",
   "metadata": {},
   "source": [
    "### Indicadores de Forma"
   ]
  },
  {
   "cell_type": "markdown",
   "id": "d882df6e",
   "metadata": {},
   "source": [
    "#### Asimetría (Skewness)"
   ]
  },
  {
   "cell_type": "markdown",
   "id": "c40be242",
   "metadata": {},
   "source": [
    "<p float=\"center\">\n",
    "  <img src=\"https://github.com/carlosalvarezh/Curso_CEC_EAFIT/blob/main/images/Skewness.png?raw=true\" width=\"500\" />\n",
    "</p>\n",
    "\n",
    "Mide la [asimetría](https://en.wikipedia.org/wiki/Skewness) de la distribución. Un valor positivo indica que la distribución se extiende más hacia la derecha, mientras que un valor negativo indica que se extiende más hacia la izquierda.\n",
    "\n",
    "La asimetría mide la falta de simetría en una distribución. Una distribución simétrica tiene valores iguales a ambos lados de la medida central (media o mediana), mientras que una distribución asimétrica tiene valores que se extienden más hacia uno de los lados. La asimetría se calcula como:\n",
    "\n",
    "$$Asimetria=\\frac{3 \\left( \\text{Media}-\\text{Mediana}\\right)}{\\text{Desv. Estándar}}=\\frac{3 \\left( \\mu-\\text{Mediana}\\right)}{\\sigma}$$\n",
    "\n",
    "- Un valor positivo de asimetría indica una cola derecha (distribución con valores más bajos extendiéndose hacia la izquierda y valores más altos hacia la derecha).\n",
    "<p>&nbsp;</p>\n",
    "\n",
    "- Un valor negativo de asimetría indica una cola izquierda (distribución con valores más bajos hacia la derecha y valores más altos hacia la izquierda).\n",
    "<p>&nbsp;</p>\n",
    "\n",
    "- Un valor cercano a cero indica una distribución aproximadamente simétrica.\n",
    "\n",
    "***Uso:*** La asimetría es útil para comprender cómo se distribuyen los datos alrededor de la media o mediana. Por ejemplo, en finanzas, la asimetría se utiliza para analizar los rendimientos de inversión y evaluar el riesgo asociado con ellos."
   ]
  },
  {
   "cell_type": "markdown",
   "id": "e8c1f2cf",
   "metadata": {},
   "source": [
    "#### Curtosis (Kurtosis)"
   ]
  },
  {
   "cell_type": "markdown",
   "id": "84c45144",
   "metadata": {},
   "source": [
    "La [curtosis](https://en.wikipedia.org/wiki/Kurtosis) mide la concentración de los datos en las colas de la distribución en comparación con una distribución normal. Una distribución con alta curtosis tiene colas más pesadas y valores extremos, mientras que una distribución con baja curtosis tiene colas más livianas. Hay varios coeficientes de curtosis que se utilizan en estadística, pero uno de los más comunes es el coeficiente de [curtosis de Fisher](https://www.itl.nist.gov/div898/handbook/eda/section3/eda35b.htm), también conocido como *curtosis de Fisher* o *curtosis de cuarto momento*.\n",
    "\n",
    "El coeficiente de curtosis de Fisher se calcula de la siguiente manera:\n",
    "\n",
    "$$\n",
    "K=\\frac{M_4}{\\sigma^4}\n",
    "$$\n",
    "\n",
    "Donde:\n",
    "\n",
    "- $K$ es el coeficiente de curtosis de Fisher.\n",
    "- $M_4$ es el cuarto momento central de la distribución.\n",
    "- $\\sigma$ es la desviación estándar de la distribución.\n",
    "\n",
    "El cuarto momento central, $M_4$, se calcula como la media de los cuartos poderes de las desviaciones de cada valor de la variable aleatoria con respecto a la media elevada a la cuarta potencia. Matemáticamente, se expresa como:\n",
    "\n",
    "$$\n",
    "M_4 = \\frac{1}{N}\\sum_{i=1}^N \\left(x_i-\\mu \\right)^4\n",
    "$$\n",
    "\n",
    "Donde:\n",
    "- $N$ es el número de observaciones.\n",
    "- $x_i$ son los valores individuales de la variable aleatoria\n",
    "- $\\mu$ es la media de la distribución\n",
    "\n",
    "Una vez que hayas calculado $K$, puedes interpretar su valor de la siguiente manera:\n",
    "\n",
    "- Kurtosis > 3: Colas más pesadas que la distribución normal (distribución leptocúrtica). Esto indica una mayor concentración de datos alrededor de la media.\n",
    "<p>&nbsp;</p>\n",
    "\n",
    "- Kurtosis estándar (mesocúrtica) = 3: que se resta del valor calculado para ajustar la distribución normal.\n",
    "<p>&nbsp;</p>\n",
    "\n",
    "- Kurtosis < 3: Colas más livianas que la distribución normal (distribución platicúrtica). Esto indica una dispersión de datos más amplia.\n",
    "\n",
    "***Uso:*** La curtosis nos ayuda a identificar la proporción de valores extremos en una distribución. Por ejemplo, en análisis financiero, la curtosis puede utilizarse para evaluar si una inversión es más o menos volátil en comparación con una distribución normal."
   ]
  },
  {
   "cell_type": "code",
   "execution_count": null,
   "id": "d9c1ce35",
   "metadata": {},
   "outputs": [],
   "source": [
    "import numpy as np\n",
    "import pandas as pd\n",
    "import matplotlib.pyplot as plt\n",
    "import seaborn as sns\n",
    "from scipy.stats import skew, kurtosis\n",
    "\n",
    "# Crear un conjunto de datos de ejemplo\n",
    "np.random.seed(42)\n",
    "data = np.random.normal(loc=0, scale=1, size=1000)\n",
    "\n",
    "# Crear un DataFrame de Pandas\n",
    "df = pd.DataFrame({'Data': data})\n",
    "\n",
    "# Calcular la asimetría utilizando Pandas y Scipy\n",
    "data_skew = skew(df['Data'])\n",
    "\n",
    "# Calcular la curtosis utilizando Pandas y Scipy\n",
    "data_kurtosis = kurtosis(df['Data'])\n",
    "\n",
    "# Calcular el momento de tercer orden (Skewness Absoluto)\n",
    "skew_abs = np.mean((df['Data'] - df['Data'].mean())**3) / np.power(df['Data'].std(), 3)\n",
    "\n",
    "# Calcular el momento de cuarto orden (Kurtosis Exceso)\n",
    "kurt_excess = np.mean((df['Data'] - df['Data'].mean())**4) / np.power(df['Data'].std(), 4) - 3\n",
    "\n",
    "# Visualizar la distribución y los indicadores\n",
    "sns.set(style=\"whitegrid\")\n",
    "plt.figure(figsize=(12, 6))\n",
    "\n",
    "# Histograma con KDE\n",
    "sns.histplot(data=df['Data'], bins=30, kde=True)\n",
    "\n",
    "# Líneas verticales para los indicadores\n",
    "plt.axvline(df['Data'].mean(), color='r', linestyle='dashed', linewidth=1, label='Media')\n",
    "plt.axvline(np.median(df['Data']), color='g', linestyle='dashed', linewidth=1, label='Mediana')\n",
    "plt.legend()\n",
    "\n",
    "# Anotaciones para los indicadores\n",
    "plt.annotate(f\"Asimetría: {data_skew:.2f}\", xy=(0.05, 0.9), xycoords='axes fraction')\n",
    "plt.annotate(f\"Curtosis: {data_kurtosis:.2f}\", xy=(0.05, 0.85), xycoords='axes fraction')\n",
    "plt.annotate(f\"Skewness Absoluto: {skew_abs:.2f}\", xy=(0.05, 0.8), xycoords='axes fraction')\n",
    "plt.annotate(f\"Kurtosis Exceso: {kurt_excess:.2f}\", xy=(0.05, 0.75), xycoords='axes fraction')\n",
    "\n",
    "plt.xlabel('Valor')\n",
    "plt.ylabel('Frecuencia')\n",
    "plt.title('Distribución de Datos y Indicadores de Forma')\n",
    "plt.show()\n"
   ]
  },
  {
   "cell_type": "markdown",
   "id": "1954f816",
   "metadata": {},
   "source": [
    "De la gráfica y los valores indicados, se puede interpretar lo siguiente:\n",
    "\n",
    "- ***Asimetría (Skewness):*** Con un valor de asimetría de $0.12$, la distribución muestra una ligera asimetría hacia la derecha. Esto significa que la mayoría de los valores se concentran en el lado izquierdo de la distribución, mientras que la cola derecha se extiende más lejos.\n",
    "<p>&nbsp;</p>\n",
    "\n",
    "- ***Curtosis (Kurtosis):*** Un valor de curtosis de $0.07$ indica que la distribución tiene colas más ligeras y menos concentración en los valores extremos en comparación con una distribución normal. Esta distribución es menos puntiaguda en el centro y las colas, lo que sugiere menos probabilidad de valores atípicos.\n",
    "<p>&nbsp;</p>\n",
    "\n",
    "- ***Skewness Absoluto:*** El valor de $0.12$ para el skewness absoluto confirma la ligera asimetría hacia la derecha, similar a lo que se observa en el valor de asimetría.\n",
    "<p>&nbsp;</p>\n",
    "\n",
    "- ***Kurtosis Exceso:*** Con un valor de kurtosis exceso de 0.06, la distribución muestra una ligera cantidad de colas más ligeras que las de la distribución normal. Esto sugiere que la distribución tiene una concentración razonable de valores cerca de la media y colas menos densas.\n",
    "\n",
    "En resumen, la distribución de datos en este caso parece ser relativamente simétrica, con colas más ligeras y menos concentración en los valores extremos. Esto podría indicar que los datos tienden a agruparse en el centro y tienen menos presencia de valores atípicos en comparación con una distribución normal. Es importante recordar que estas interpretaciones se hacen en relación con los valores de referencia (como una distribución normal), y las interpretaciones pueden variar según el contexto del análisis."
   ]
  },
  {
   "cell_type": "markdown",
   "id": "0135e3cc",
   "metadata": {},
   "source": [
    "### Generación de números aleatorios"
   ]
  },
  {
   "cell_type": "markdown",
   "id": "a289c0ee",
   "metadata": {},
   "source": [
    "#### Introducción"
   ]
  },
  {
   "cell_type": "markdown",
   "id": "dc860688",
   "metadata": {},
   "source": [
    "Los [números aleatorios](https://en.wikipedia.org/wiki/Random_number_generation) son fundamentales en la simulación, el análisis estadístico y muchas otras aplicaciones en ciencias de datos. NumPy es una biblioteca numérica que nos proporciona herramientas eficientes para generar secuencias de números pseudoaleatorios con diversas distribuciones y propiedades.\n",
    "\n",
    "NumPy proporciona un módulo llamado [`numpy.random`](https://numpy.org/doc/stable/reference/random/index.html) que contiene una variedad de funciones para la generación de números aleatorios. Estos números no son verdaderamente aleatorios, sino que se generan utilizando algoritmos deterministas, lo que los hace pseudoaleatorios. Esto es útil para la reproducibilidad y el control experimental."
   ]
  },
  {
   "cell_type": "markdown",
   "id": "6fc85f49",
   "metadata": {},
   "source": [
    "#### Funciones principales"
   ]
  },
  {
   "cell_type": "markdown",
   "id": "d6bcaeac",
   "metadata": {},
   "source": [
    "- `numpy.random.rand()` genera números aleatorios en el rango `[0, 1)` con [distribución uniforme](https://en.wikipedia.org/wiki/Discrete_uniform_distribution)."
   ]
  },
  {
   "cell_type": "code",
   "execution_count": null,
   "id": "17b54a12",
   "metadata": {},
   "outputs": [],
   "source": [
    "import numpy as np\n",
    "\n",
    "#np.random.seed(654)\n",
    "uniform_random_nums = np.random.rand(10000000) #Genera n números aleatorios uniformes\n",
    "np.std(uniform_random_nums)\n",
    "media = np.mean(uniform_random_nums)\n",
    "#print(uniform_random_nums)\n",
    "print(media)\n"
   ]
  },
  {
   "cell_type": "code",
   "execution_count": null,
   "id": "2c31f203",
   "metadata": {},
   "outputs": [],
   "source": [
    "np.std(uniform_random_nums)"
   ]
  },
  {
   "cell_type": "code",
   "execution_count": null,
   "id": "8bab19b5",
   "metadata": {},
   "outputs": [],
   "source": [
    "np.mean(uniform_random_nums)"
   ]
  },
  {
   "cell_type": "markdown",
   "id": "81e81071",
   "metadata": {},
   "source": [
    "- `numpy.random.randn()` genera números aleatorios con [distribución normal estándar](https://en.wikipedia.org/wiki/Normal_distribution) (media 0 y desviación estándar 1)."
   ]
  },
  {
   "cell_type": "code",
   "execution_count": null,
   "id": "db8ac12e",
   "metadata": {},
   "outputs": [],
   "source": [
    "normal_random_nums = np.random.randn(500000000)  # Genera n números aleatorios con distribución normal\n",
    "#print(normal_random_nums)\n",
    "media = np.mean(normal_random_nums)\n",
    "print('media: ',media)\n",
    "std = np.std(normal_random_nums)\n",
    "print('std: ', std)"
   ]
  },
  {
   "cell_type": "code",
   "execution_count": null,
   "id": "04ea5779",
   "metadata": {},
   "outputs": [],
   "source": [
    "np.mean(normal_random_nums)"
   ]
  },
  {
   "cell_type": "code",
   "execution_count": null,
   "id": "9acfac49",
   "metadata": {},
   "outputs": [],
   "source": [
    "np.std(normal_random_nums)"
   ]
  },
  {
   "cell_type": "markdown",
   "id": "81feecf2",
   "metadata": {},
   "source": [
    "- `numpy.random.randint()`: Genera números enteros aleatorios en un rango específico."
   ]
  },
  {
   "cell_type": "code",
   "execution_count": null,
   "id": "8a70656a",
   "metadata": {},
   "outputs": [],
   "source": [
    "random_integers = np.random.randint(18, 100, size=25)  # Genera n enteros aleatorios entre 1 y 9\n",
    "print(random_integers)"
   ]
  },
  {
   "cell_type": "markdown",
   "id": "989dae1d",
   "metadata": {},
   "source": [
    "- `numpy.random.choice()`: Genera una muestra aleatoria de valores a partir de una secuencia dada."
   ]
  },
  {
   "cell_type": "code",
   "execution_count": null,
   "id": "855aa3da",
   "metadata": {},
   "outputs": [],
   "source": [
    "datos = ['manzana', 'banana', 'cereza', 'dátil', 'uva', 'papaya', 'mango', 'lulo', 'curuba']\n",
    "random_fruit = np.random.choice(datos, size=4, replace=False)  # Elige n frutas sin reemplazo\n",
    "print(random_fruit)"
   ]
  },
  {
   "cell_type": "markdown",
   "id": "b745deee",
   "metadata": {},
   "source": [
    "- `numpy.random.shuffle()`: Mezcla una secuencia en su lugar."
   ]
  },
  {
   "cell_type": "code",
   "execution_count": null,
   "id": "828a581f",
   "metadata": {},
   "outputs": [],
   "source": [
    "deck_of_cards = np.arange(1, 53)\n",
    "print(deck_of_cards)"
   ]
  },
  {
   "cell_type": "code",
   "execution_count": null,
   "id": "dbcd9436",
   "metadata": {},
   "outputs": [],
   "source": [
    "a = np.random.shuffle(deck_of_cards)  # Mezcla las cartas del mazo\n",
    "print(deck_of_cards)"
   ]
  },
  {
   "cell_type": "markdown",
   "id": "92ec68d2",
   "metadata": {},
   "source": [
    "- `numpy.random.seed()`: Establece una semilla para generar números pseudoaleatorios, lo que permite la reproducibilidad."
   ]
  },
  {
   "cell_type": "code",
   "execution_count": null,
   "id": "ba470a99",
   "metadata": {},
   "outputs": [],
   "source": [
    "np.random.seed(546)  # Fija la semilla para reproducibilidad\n",
    "random_nums = np.random.rand(5)  \n",
    "print(random_nums)"
   ]
  },
  {
   "cell_type": "markdown",
   "id": "78995f43",
   "metadata": {},
   "source": [
    "### Ejemplo"
   ]
  },
  {
   "cell_type": "markdown",
   "id": "750a36ec",
   "metadata": {},
   "source": [
    "#### Numpy"
   ]
  },
  {
   "cell_type": "code",
   "execution_count": 1,
   "id": "a6bd9cab",
   "metadata": {},
   "outputs": [],
   "source": [
    "# Ejemplos de estadistica descriptiva con python\n",
    "\n",
    "import numpy as np # importando numpy\n",
    "import pandas as pd # importando pandas\n",
    "import matplotlib.pyplot as plt\n",
    "from scipy import stats # importando scipy.stats\n",
    "\n",
    "np.random.seed(40) # para poder replicar el random"
   ]
  },
  {
   "cell_type": "code",
   "execution_count": 3,
   "id": "5c844611",
   "metadata": {},
   "outputs": [
    {
     "data": {
      "text/plain": [
       "array([[-0.46700242,  2.29249034,  0.48881005,  0.71026699],\n",
       "       [ 1.05553444,  0.0540731 ,  0.25795342,  0.58828165],\n",
       "       [ 0.88524424, -1.01700702, -0.13369303, -0.4381855 ],\n",
       "       [ 0.49344349, -0.19900912, -1.27498361,  0.29349415],\n",
       "       [ 0.10895031,  0.03172679,  1.27263986,  1.0714479 ]])"
      ]
     },
     "execution_count": 3,
     "metadata": {},
     "output_type": "execute_result"
    }
   ],
   "source": [
    "datos = np.random.randn(5,4) # datos normalmente distribuidos\n",
    "datos"
   ]
  },
  {
   "cell_type": "code",
   "execution_count": 4,
   "id": "9b7f68dd",
   "metadata": {},
   "outputs": [
    {
     "data": {
      "text/plain": [
       "0.3037238018696976"
      ]
     },
     "execution_count": 4,
     "metadata": {},
     "output_type": "execute_result"
    }
   ],
   "source": [
    "# media arítmetica\n",
    "datos.mean() # Calcula la media aritmetica de"
   ]
  },
  {
   "cell_type": "code",
   "execution_count": 5,
   "id": "c738bdb6",
   "metadata": {},
   "outputs": [
    {
     "data": {
      "text/plain": [
       "0.3037238018696976"
      ]
     },
     "execution_count": 5,
     "metadata": {},
     "output_type": "execute_result"
    }
   ],
   "source": [
    "np.mean(datos) # Mismo resultado desde la funcion de numpy"
   ]
  },
  {
   "cell_type": "code",
   "execution_count": 6,
   "id": "aab2cfaf",
   "metadata": {},
   "outputs": [
    {
     "data": {
      "text/plain": [
       "array([ 0.75614124,  0.48896065, -0.17591033, -0.17176377,  0.62119122])"
      ]
     },
     "execution_count": 6,
     "metadata": {},
     "output_type": "execute_result"
    }
   ],
   "source": [
    "datos.mean(axis=1) # media aritmetica de cada fila"
   ]
  },
  {
   "cell_type": "code",
   "execution_count": null,
   "id": "49d9273a",
   "metadata": {},
   "outputs": [],
   "source": [
    "help(datos.mean)"
   ]
  },
  {
   "cell_type": "code",
   "execution_count": 7,
   "id": "eee95e18",
   "metadata": {},
   "outputs": [
    {
     "data": {
      "text/plain": [
       "array([0.41523401, 0.23245482, 0.12214534, 0.44506104])"
      ]
     },
     "execution_count": 7,
     "metadata": {},
     "output_type": "execute_result"
    }
   ],
   "source": [
    "datos.mean(axis=0) # media aritmetica de cada columna"
   ]
  },
  {
   "cell_type": "code",
   "execution_count": 8,
   "id": "684f256f",
   "metadata": {},
   "outputs": [
    {
     "data": {
      "text/plain": [
       "0.2757237853899224"
      ]
     },
     "execution_count": 8,
     "metadata": {},
     "output_type": "execute_result"
    }
   ],
   "source": [
    "np.median(datos) # mediana"
   ]
  },
  {
   "cell_type": "code",
   "execution_count": 9,
   "id": "630c24d0",
   "metadata": {},
   "outputs": [
    {
     "data": {
      "text/plain": [
       "array([0.41523401, 0.23245482, 0.12214534, 0.44506104])"
      ]
     },
     "execution_count": 9,
     "metadata": {},
     "output_type": "execute_result"
    }
   ],
   "source": [
    "np.mean(datos, axis = 0) # media aritmetica de cada columna"
   ]
  },
  {
   "cell_type": "code",
   "execution_count": 10,
   "id": "778fa37a",
   "metadata": {},
   "outputs": [
    {
     "data": {
      "text/plain": [
       "0.7970222893513522"
      ]
     },
     "execution_count": 10,
     "metadata": {},
     "output_type": "execute_result"
    }
   ],
   "source": [
    "np.std(datos) # Desviación típica"
   ]
  },
  {
   "cell_type": "code",
   "execution_count": 11,
   "id": "42859703",
   "metadata": {},
   "outputs": [
    {
     "data": {
      "text/plain": [
       "array([0.54939272, 1.101197  , 0.83593625, 0.5072088 ])"
      ]
     },
     "execution_count": 11,
     "metadata": {},
     "output_type": "execute_result"
    }
   ],
   "source": [
    "np.std(datos, 0) # Desviación típica de cada columna"
   ]
  },
  {
   "cell_type": "code",
   "execution_count": 12,
   "id": "dc12376d",
   "metadata": {},
   "outputs": [
    {
     "data": {
      "text/plain": [
       "0.6352445297228706"
      ]
     },
     "execution_count": 12,
     "metadata": {},
     "output_type": "execute_result"
    }
   ],
   "source": [
    "np.var(datos) # varianza"
   ]
  },
  {
   "cell_type": "code",
   "execution_count": 13,
   "id": "601716ea",
   "metadata": {},
   "outputs": [
    {
     "data": {
      "text/plain": [
       "array([0.30183236, 1.21263483, 0.69878941, 0.25726076])"
      ]
     },
     "execution_count": 13,
     "metadata": {},
     "output_type": "execute_result"
    }
   ],
   "source": [
    "np.var(datos, 0) # varianza de cada columna"
   ]
  },
  {
   "cell_type": "code",
   "execution_count": 14,
   "id": "b71c81bf",
   "metadata": {},
   "outputs": [
    {
     "name": "stdout",
     "output_type": "stream",
     "text": [
      "moda:  [-0.46700242 -1.01700702 -1.27498361 -0.4381855 ]\n",
      "conteo:  [1 1 1 1]\n"
     ]
    }
   ],
   "source": [
    "# Calcula la moda de cada columna\n",
    "moda, conteo = stats.mode(datos, keepdims=False)\n",
    "\n",
    "print('moda: ', moda)\n",
    "print('conteo: ', conteo)"
   ]
  },
  {
   "cell_type": "code",
   "execution_count": 15,
   "id": "2074d127",
   "metadata": {},
   "outputs": [
    {
     "name": "stdout",
     "output_type": "stream",
     "text": [
      "moda:  6\n",
      "conteo:  5\n"
     ]
    }
   ],
   "source": [
    "datos2 = np.array([1, 2, 3, 6, 6, 1, 2, 4, 2, 2, 6, 6, 8, 10, 6])\n",
    "\n",
    "moda, conteo = stats.mode(datos2, keepdims=False)\n",
    "\n",
    "print('moda: ', moda)\n",
    "print('conteo: ', conteo) # aqui la moda es el 6 porque aparece 5 veces en el vector."
   ]
  },
  {
   "cell_type": "markdown",
   "id": "3c24ba28",
   "metadata": {},
   "source": [
    "#### Pandas"
   ]
  },
  {
   "cell_type": "code",
   "execution_count": 16,
   "id": "bb3b8bf5",
   "metadata": {
    "scrolled": true
   },
   "outputs": [
    {
     "data": {
      "text/html": [
       "<div>\n",
       "<style scoped>\n",
       "    .dataframe tbody tr th:only-of-type {\n",
       "        vertical-align: middle;\n",
       "    }\n",
       "\n",
       "    .dataframe tbody tr th {\n",
       "        vertical-align: top;\n",
       "    }\n",
       "\n",
       "    .dataframe thead th {\n",
       "        text-align: right;\n",
       "    }\n",
       "</style>\n",
       "<table border=\"1\" class=\"dataframe\">\n",
       "  <thead>\n",
       "    <tr style=\"text-align: right;\">\n",
       "      <th></th>\n",
       "      <th>Prod1</th>\n",
       "      <th>Prod2</th>\n",
       "      <th>Prod3</th>\n",
       "      <th>Prod4</th>\n",
       "    </tr>\n",
       "  </thead>\n",
       "  <tbody>\n",
       "    <tr>\n",
       "      <th>Almacén1</th>\n",
       "      <td>-0.467002</td>\n",
       "      <td>2.292490</td>\n",
       "      <td>0.488810</td>\n",
       "      <td>0.710267</td>\n",
       "    </tr>\n",
       "    <tr>\n",
       "      <th>Almacén2</th>\n",
       "      <td>1.055534</td>\n",
       "      <td>0.054073</td>\n",
       "      <td>0.257953</td>\n",
       "      <td>0.588282</td>\n",
       "    </tr>\n",
       "    <tr>\n",
       "      <th>Almacén3</th>\n",
       "      <td>0.885244</td>\n",
       "      <td>-1.017007</td>\n",
       "      <td>-0.133693</td>\n",
       "      <td>-0.438186</td>\n",
       "    </tr>\n",
       "    <tr>\n",
       "      <th>Almacén4</th>\n",
       "      <td>0.493443</td>\n",
       "      <td>-0.199009</td>\n",
       "      <td>-1.274984</td>\n",
       "      <td>0.293494</td>\n",
       "    </tr>\n",
       "    <tr>\n",
       "      <th>Almacén5</th>\n",
       "      <td>0.108950</td>\n",
       "      <td>0.031727</td>\n",
       "      <td>1.272640</td>\n",
       "      <td>1.071448</td>\n",
       "    </tr>\n",
       "  </tbody>\n",
       "</table>\n",
       "</div>"
      ],
      "text/plain": [
       "             Prod1     Prod2     Prod3     Prod4\n",
       "Almacén1 -0.467002  2.292490  0.488810  0.710267\n",
       "Almacén2  1.055534  0.054073  0.257953  0.588282\n",
       "Almacén3  0.885244 -1.017007 -0.133693 -0.438186\n",
       "Almacén4  0.493443 -0.199009 -1.274984  0.293494\n",
       "Almacén5  0.108950  0.031727  1.272640  1.071448"
      ]
     },
     "execution_count": 16,
     "metadata": {},
     "output_type": "execute_result"
    }
   ],
   "source": [
    "dataframe = pd.DataFrame(datos, index=['Almacén1', 'Almacén2', 'Almacén3', 'Almacén4', 'Almacén5'], \n",
    "                        columns=['Prod1', 'Prod2', 'Prod3', 'Prod4'])\n",
    "dataframe"
   ]
  },
  {
   "cell_type": "code",
   "execution_count": 17,
   "id": "d411f60b",
   "metadata": {},
   "outputs": [
    {
     "data": {
      "text/html": [
       "<div>\n",
       "<style scoped>\n",
       "    .dataframe tbody tr th:only-of-type {\n",
       "        vertical-align: middle;\n",
       "    }\n",
       "\n",
       "    .dataframe tbody tr th {\n",
       "        vertical-align: top;\n",
       "    }\n",
       "\n",
       "    .dataframe thead th {\n",
       "        text-align: right;\n",
       "    }\n",
       "</style>\n",
       "<table border=\"1\" class=\"dataframe\">\n",
       "  <thead>\n",
       "    <tr style=\"text-align: right;\">\n",
       "      <th></th>\n",
       "      <th>Prod1</th>\n",
       "      <th>Prod2</th>\n",
       "      <th>Prod3</th>\n",
       "      <th>Prod4</th>\n",
       "    </tr>\n",
       "  </thead>\n",
       "  <tbody>\n",
       "    <tr>\n",
       "      <th>Almacén4</th>\n",
       "      <td>0.493443</td>\n",
       "      <td>-0.199009</td>\n",
       "      <td>-1.274984</td>\n",
       "      <td>0.293494</td>\n",
       "    </tr>\n",
       "    <tr>\n",
       "      <th>Almacén5</th>\n",
       "      <td>0.108950</td>\n",
       "      <td>0.031727</td>\n",
       "      <td>1.272640</td>\n",
       "      <td>1.071448</td>\n",
       "    </tr>\n",
       "  </tbody>\n",
       "</table>\n",
       "</div>"
      ],
      "text/plain": [
       "             Prod1     Prod2     Prod3     Prod4\n",
       "Almacén4  0.493443 -0.199009 -1.274984  0.293494\n",
       "Almacén5  0.108950  0.031727  1.272640  1.071448"
      ]
     },
     "execution_count": 17,
     "metadata": {},
     "output_type": "execute_result"
    }
   ],
   "source": [
    "dataframe.tail(2)"
   ]
  },
  {
   "cell_type": "code",
   "execution_count": 18,
   "id": "2f3fa02f",
   "metadata": {},
   "outputs": [
    {
     "name": "stdout",
     "output_type": "stream",
     "text": [
      "<class 'pandas.core.frame.DataFrame'>\n",
      "Index: 5 entries, Almacén1 to Almacén5\n",
      "Data columns (total 4 columns):\n",
      " #   Column  Non-Null Count  Dtype  \n",
      "---  ------  --------------  -----  \n",
      " 0   Prod1   5 non-null      float64\n",
      " 1   Prod2   5 non-null      float64\n",
      " 2   Prod3   5 non-null      float64\n",
      " 3   Prod4   5 non-null      float64\n",
      "dtypes: float64(4)\n",
      "memory usage: 200.0+ bytes\n"
     ]
    }
   ],
   "source": [
    "dataframe.info()"
   ]
  },
  {
   "cell_type": "code",
   "execution_count": 19,
   "id": "419d8798",
   "metadata": {},
   "outputs": [
    {
     "data": {
      "text/html": [
       "<div>\n",
       "<style scoped>\n",
       "    .dataframe tbody tr th:only-of-type {\n",
       "        vertical-align: middle;\n",
       "    }\n",
       "\n",
       "    .dataframe tbody tr th {\n",
       "        vertical-align: top;\n",
       "    }\n",
       "\n",
       "    .dataframe thead th {\n",
       "        text-align: right;\n",
       "    }\n",
       "</style>\n",
       "<table border=\"1\" class=\"dataframe\">\n",
       "  <thead>\n",
       "    <tr style=\"text-align: right;\">\n",
       "      <th></th>\n",
       "      <th>Prod1</th>\n",
       "      <th>Prod2</th>\n",
       "      <th>Prod3</th>\n",
       "      <th>Prod4</th>\n",
       "    </tr>\n",
       "  </thead>\n",
       "  <tbody>\n",
       "    <tr>\n",
       "      <th>count</th>\n",
       "      <td>5.000000</td>\n",
       "      <td>5.000000</td>\n",
       "      <td>5.000000</td>\n",
       "      <td>5.000000</td>\n",
       "    </tr>\n",
       "    <tr>\n",
       "      <th>mean</th>\n",
       "      <td>0.415234</td>\n",
       "      <td>0.232455</td>\n",
       "      <td>0.122145</td>\n",
       "      <td>0.445061</td>\n",
       "    </tr>\n",
       "    <tr>\n",
       "      <th>std</th>\n",
       "      <td>0.614240</td>\n",
       "      <td>1.231176</td>\n",
       "      <td>0.934605</td>\n",
       "      <td>0.567077</td>\n",
       "    </tr>\n",
       "    <tr>\n",
       "      <th>min</th>\n",
       "      <td>-0.467002</td>\n",
       "      <td>-1.017007</td>\n",
       "      <td>-1.274984</td>\n",
       "      <td>-0.438186</td>\n",
       "    </tr>\n",
       "    <tr>\n",
       "      <th>25%</th>\n",
       "      <td>0.108950</td>\n",
       "      <td>-0.199009</td>\n",
       "      <td>-0.133693</td>\n",
       "      <td>0.293494</td>\n",
       "    </tr>\n",
       "    <tr>\n",
       "      <th>50%</th>\n",
       "      <td>0.493443</td>\n",
       "      <td>0.031727</td>\n",
       "      <td>0.257953</td>\n",
       "      <td>0.588282</td>\n",
       "    </tr>\n",
       "    <tr>\n",
       "      <th>75%</th>\n",
       "      <td>0.885244</td>\n",
       "      <td>0.054073</td>\n",
       "      <td>0.488810</td>\n",
       "      <td>0.710267</td>\n",
       "    </tr>\n",
       "    <tr>\n",
       "      <th>max</th>\n",
       "      <td>1.055534</td>\n",
       "      <td>2.292490</td>\n",
       "      <td>1.272640</td>\n",
       "      <td>1.071448</td>\n",
       "    </tr>\n",
       "  </tbody>\n",
       "</table>\n",
       "</div>"
      ],
      "text/plain": [
       "          Prod1     Prod2     Prod3     Prod4\n",
       "count  5.000000  5.000000  5.000000  5.000000\n",
       "mean   0.415234  0.232455  0.122145  0.445061\n",
       "std    0.614240  1.231176  0.934605  0.567077\n",
       "min   -0.467002 -1.017007 -1.274984 -0.438186\n",
       "25%    0.108950 -0.199009 -0.133693  0.293494\n",
       "50%    0.493443  0.031727  0.257953  0.588282\n",
       "75%    0.885244  0.054073  0.488810  0.710267\n",
       "max    1.055534  2.292490  1.272640  1.071448"
      ]
     },
     "execution_count": 19,
     "metadata": {},
     "output_type": "execute_result"
    }
   ],
   "source": [
    "dataframe.describe() # resumen estadistadistico con pandas"
   ]
  },
  {
   "cell_type": "code",
   "execution_count": 20,
   "id": "04d39a0b",
   "metadata": {},
   "outputs": [
    {
     "data": {
      "text/plain": [
       "Prod1    2.076170\n",
       "Prod2    1.162274\n",
       "Prod3    0.610727\n",
       "Prod4    2.225305\n",
       "dtype: float64"
      ]
     },
     "execution_count": 20,
     "metadata": {},
     "output_type": "execute_result"
    }
   ],
   "source": [
    "dataframe.sum() # sumando las columnas"
   ]
  },
  {
   "cell_type": "code",
   "execution_count": 21,
   "id": "de5152d0",
   "metadata": {},
   "outputs": [
    {
     "data": {
      "text/plain": [
       "Almacén1    3.024565\n",
       "Almacén2    1.955843\n",
       "Almacén3   -0.703641\n",
       "Almacén4   -0.687055\n",
       "Almacén5    2.484765\n",
       "dtype: float64"
      ]
     },
     "execution_count": 21,
     "metadata": {},
     "output_type": "execute_result"
    }
   ],
   "source": [
    "dataframe.sum(axis=1) # sumando filas"
   ]
  },
  {
   "cell_type": "code",
   "execution_count": 22,
   "id": "09541265",
   "metadata": {},
   "outputs": [
    {
     "data": {
      "text/html": [
       "<div>\n",
       "<style scoped>\n",
       "    .dataframe tbody tr th:only-of-type {\n",
       "        vertical-align: middle;\n",
       "    }\n",
       "\n",
       "    .dataframe tbody tr th {\n",
       "        vertical-align: top;\n",
       "    }\n",
       "\n",
       "    .dataframe thead th {\n",
       "        text-align: right;\n",
       "    }\n",
       "</style>\n",
       "<table border=\"1\" class=\"dataframe\">\n",
       "  <thead>\n",
       "    <tr style=\"text-align: right;\">\n",
       "      <th></th>\n",
       "      <th>Prod1</th>\n",
       "      <th>Prod2</th>\n",
       "      <th>Prod3</th>\n",
       "      <th>Prod4</th>\n",
       "    </tr>\n",
       "  </thead>\n",
       "  <tbody>\n",
       "    <tr>\n",
       "      <th>Almacén1</th>\n",
       "      <td>-0.467002</td>\n",
       "      <td>2.292490</td>\n",
       "      <td>0.488810</td>\n",
       "      <td>0.710267</td>\n",
       "    </tr>\n",
       "    <tr>\n",
       "      <th>Almacén2</th>\n",
       "      <td>0.588532</td>\n",
       "      <td>2.346563</td>\n",
       "      <td>0.746763</td>\n",
       "      <td>1.298549</td>\n",
       "    </tr>\n",
       "    <tr>\n",
       "      <th>Almacén3</th>\n",
       "      <td>1.473776</td>\n",
       "      <td>1.329556</td>\n",
       "      <td>0.613070</td>\n",
       "      <td>0.860363</td>\n",
       "    </tr>\n",
       "    <tr>\n",
       "      <th>Almacén4</th>\n",
       "      <td>1.967220</td>\n",
       "      <td>1.130547</td>\n",
       "      <td>-0.661913</td>\n",
       "      <td>1.153857</td>\n",
       "    </tr>\n",
       "    <tr>\n",
       "      <th>Almacén5</th>\n",
       "      <td>2.076170</td>\n",
       "      <td>1.162274</td>\n",
       "      <td>0.610727</td>\n",
       "      <td>2.225305</td>\n",
       "    </tr>\n",
       "  </tbody>\n",
       "</table>\n",
       "</div>"
      ],
      "text/plain": [
       "             Prod1     Prod2     Prod3     Prod4\n",
       "Almacén1 -0.467002  2.292490  0.488810  0.710267\n",
       "Almacén2  0.588532  2.346563  0.746763  1.298549\n",
       "Almacén3  1.473776  1.329556  0.613070  0.860363\n",
       "Almacén4  1.967220  1.130547 -0.661913  1.153857\n",
       "Almacén5  2.076170  1.162274  0.610727  2.225305"
      ]
     },
     "execution_count": 22,
     "metadata": {},
     "output_type": "execute_result"
    }
   ],
   "source": [
    "dataframe.cumsum() # acumulados"
   ]
  },
  {
   "cell_type": "code",
   "execution_count": 23,
   "id": "33bfeaad",
   "metadata": {},
   "outputs": [
    {
     "data": {
      "text/plain": [
       "Prod1    0.415234\n",
       "Prod2    0.232455\n",
       "Prod3    0.122145\n",
       "Prod4    0.445061\n",
       "dtype: float64"
      ]
     },
     "execution_count": 23,
     "metadata": {},
     "output_type": "execute_result"
    }
   ],
   "source": [
    "dataframe.mean() # media aritmetica de cada columna con pandas"
   ]
  },
  {
   "cell_type": "code",
   "execution_count": 24,
   "id": "33e3327c",
   "metadata": {},
   "outputs": [
    {
     "data": {
      "text/plain": [
       "Almacén1    0.756141\n",
       "Almacén2    0.488961\n",
       "Almacén3   -0.175910\n",
       "Almacén4   -0.171764\n",
       "Almacén5    0.621191\n",
       "dtype: float64"
      ]
     },
     "execution_count": 24,
     "metadata": {},
     "output_type": "execute_result"
    }
   ],
   "source": [
    "dataframe.mean(axis=1) # media aritmetica de cada fila con pandas"
   ]
  },
  {
   "cell_type": "markdown",
   "id": "0491fae5",
   "metadata": {},
   "source": [
    "## Descripción gráfica de los datos"
   ]
  },
  {
   "cell_type": "markdown",
   "id": "19cffa2b",
   "metadata": {},
   "source": [
    "### Introducción"
   ]
  },
  {
   "cell_type": "markdown",
   "id": "6cd7fe84",
   "metadata": {},
   "source": [
    "En la estadística descriptiva, una parte fundamental es la capacidad de visualizar y comprender los datos mediante gráficos. Los gráficos nos permiten resumir, analizar y presentar de manera efectiva la información contenida en un conjunto de datos. En esta sesión, exploraremos los gráficos más empleados para la descripción de los datos y cómo interpretarlos correctamente.\n",
    "\n",
    "La descripción gráfica de los datos es esencial para comprender la distribución, patrones y relaciones dentro de un conjunto de datos. Los histogramas, diagramas de barras, gráficos de dispersión, diagramas de caja, gráficos de torta y gráficos de líneas son herramientas valiosas que nos ayudan a visualizar y comunicar la información contenida en los datos de manera efectiva. Cada tipo de gráfico tiene su propia utilidad y puede proporcionar información única sobre los datos que estamos analizando."
   ]
  },
  {
   "cell_type": "code",
   "execution_count": 25,
   "id": "28ddae20",
   "metadata": {},
   "outputs": [],
   "source": [
    "import pandas as pd\n",
    "import numpy as np\n",
    "import matplotlib.pyplot as plt"
   ]
  },
  {
   "cell_type": "markdown",
   "id": "a4f6dd83",
   "metadata": {},
   "source": [
    "### Histograma"
   ]
  },
  {
   "cell_type": "markdown",
   "id": "e6bcb767",
   "metadata": {},
   "source": [
    "#### Introducción"
   ]
  },
  {
   "cell_type": "markdown",
   "id": "42c2012e",
   "metadata": {},
   "source": [
    "El histograma es una herramienta esencial para comprender la distribución de los datos en un conjunto. Se utiliza para representar la frecuencia con la que ocurren diferentes valores en un rango de valores continuos. En el eje horizontal se ubican los intervalos (llamados \"clases\") y en el eje vertical se muestra la frecuencia o la densidad de observaciones en cada intervalo.\n",
    "\n",
    "***Interpretación:*** Un histograma puede ayudarnos a identificar si los datos siguen una distribución normal, si presentan sesgos hacia algún extremo o si hay valores atípicos (outliers) presentes."
   ]
  },
  {
   "cell_type": "code",
   "execution_count": 31,
   "id": "60c63d60",
   "metadata": {
    "scrolled": false
   },
   "outputs": [
    {
     "data": {
      "image/png": "[encoded data removed]",
      "text/plain": [
       "<Figure size 800x400 with 1 Axes>"
      ]
     },
     "metadata": {},
     "output_type": "display_data"
    }
   ],
   "source": [
    "# Genera datos aleatorios para el ejemplo\n",
    "data = np.random.normal(0, 1, 100)\n",
    "\n",
    "# Crear un histograma\n",
    "plt.figure(figsize=(8, 4))\n",
    "plt.hist(data, bins=10, edgecolor='k')\n",
    "plt.title('Histograma')\n",
    "plt.xlabel('Valores')\n",
    "plt.ylabel('Frecuencia')\n",
    "plt.show()"
   ]
  },
  {
   "cell_type": "markdown",
   "id": "981dd4ae",
   "metadata": {},
   "source": [
    "#### Construcción de un Histograma"
   ]
  },
  {
   "cell_type": "markdown",
   "id": "98778bf5",
   "metadata": {},
   "source": [
    "Para crear un histograma, seguimos los siguientes pasos:\n",
    "\n",
    "- ***División en Intervalos:*** Definimos los intervalos o \"bins\" en los cuales agruparemos los datos. Estos intervalos deben ser apropiados para la naturaleza de los datos y la pregunta de investigación. La regla de Sturges es una fórmula comúnmente utilizada para determinar el número de bins, pero también se pueden emplear otros enfoques.\n",
    "<p>&nbsp;</p>\n",
    "\n",
    "\n",
    "- ***Conteo de Frecuencias:*** Contamos cuántas observaciones caen en cada intervalo y representamos esta frecuencia en el eje vertical.\n",
    "<p>&nbsp;</p>\n",
    "\n",
    "\n",
    "- ***Visualización:*** Dibujamos las barras correspondientes a cada intervalo en el gráfico, donde la altura de cada barra representa la frecuencia o proporción de observaciones en ese intervalo."
   ]
  },
  {
   "cell_type": "markdown",
   "id": "654c0e68",
   "metadata": {},
   "source": [
    "#### Interpretación del Histograma"
   ]
  },
  {
   "cell_type": "markdown",
   "id": "cc2db9f8",
   "metadata": {},
   "source": [
    "##### Simétrico y Unimodal"
   ]
  },
  {
   "cell_type": "markdown",
   "id": "5a10c51b",
   "metadata": {},
   "source": [
    "Un histograma es simétrico si una mitad del histograma es un reflejo especular de la otra mitad. Esto indica que los valores tienden a distribuirse de manera uniforme alrededor de un valor central. Si el histograma presenta un solo pico o moda, se dice que es unimodal. Veamos un ejemplo en Python:"
   ]
  },
  {
   "cell_type": "code",
   "execution_count": 38,
   "id": "ba5ee686",
   "metadata": {},
   "outputs": [
    {
     "data": {
      "image/png": "[encoded data removed]",
      "text/plain": [
       "<Figure size 800x400 with 1 Axes>"
      ]
     },
     "metadata": {},
     "output_type": "display_data"
    }
   ],
   "source": [
    "# Generar datos con distribución normal simétrica\n",
    "data = np.random.normal(loc=0, scale=1, size=1000)\n",
    "\n",
    "# Crear histograma\n",
    "plt.figure(figsize=(8, 4))\n",
    "plt.hist(data, bins=20, color='blue', alpha=0.7, edgecolor='k')\n",
    "plt.title('Histograma Simétrico y Unimodal')\n",
    "plt.xlabel('Valores')\n",
    "plt.ylabel('Frecuencia')\n",
    "plt.show()"
   ]
  },
  {
   "cell_type": "markdown",
   "id": "8fd177f4",
   "metadata": {},
   "source": [
    "##### Asimetría Positiva y Negativa"
   ]
  },
  {
   "cell_type": "markdown",
   "id": "242f2a43",
   "metadata": {},
   "source": [
    "Un histograma tiene asimetría positiva (sesgo a la derecha) cuando la cola derecha es más larga que la izquierda. Por otro lado, tiene asimetría negativa (sesgo a la izquierda) cuando la cola izquierda es más larga que la derecha. Esto indica que la distribución de los datos se inclina hacia un lado."
   ]
  },
  {
   "cell_type": "code",
   "execution_count": 41,
   "id": "76b59e53",
   "metadata": {},
   "outputs": [
    {
     "data": {
      "image/png": "[encoded data removed]",
      "text/plain": [
       "<Figure size 1000x400 with 2 Axes>"
      ]
     },
     "metadata": {},
     "output_type": "display_data"
    }
   ],
   "source": [
    "# Generar datos con asimetría positiva (sesgo a la derecha)\n",
    "data_positive_skew = np.random.gamma(shape=2, scale=1, size=1000)\n",
    "\n",
    "# Generar datos con asimetría negativa (sesgo a la izquierda)\n",
    "data_negative_skew = -np.random.gamma(shape=2, scale=1, size=1000)\n",
    "\n",
    "# Crear histogramas\n",
    "plt.figure(figsize=(10, 4))\n",
    "\n",
    "plt.subplot(1, 2, 2)\n",
    "plt.hist(data_positive_skew, bins=20, color='green', alpha=0.7)\n",
    "plt.title('Histograma Asimetría Positiva')\n",
    "plt.xlabel('Valores')\n",
    "plt.ylabel('Frecuencia')\n",
    "\n",
    "plt.subplot(1, 2, 1)\n",
    "plt.hist(data_negative_skew, bins=20, color='orange', alpha=0.7, edgecolor='k')\n",
    "plt.title('Histograma Asimetría Negativa')\n",
    "plt.xlabel('Valores')\n",
    "plt.ylabel('Frecuencia')\n",
    "\n",
    "plt.tight_layout()\n",
    "plt.show()\n"
   ]
  },
  {
   "cell_type": "markdown",
   "id": "11dc96f5",
   "metadata": {},
   "source": [
    "##### Bimodal y Multimodal"
   ]
  },
  {
   "cell_type": "markdown",
   "id": "66215929",
   "metadata": {},
   "source": [
    "Un histograma es bimodal si presenta dos picos o modas claramente distinguibles. Si tiene más de dos picos, se considera multimodal. Estos casos pueden indicar la presencia de subgrupos o diferentes fenómenos en los datos."
   ]
  },
  {
   "cell_type": "code",
   "execution_count": 43,
   "id": "c2c07a8c",
   "metadata": {},
   "outputs": [
    {
     "data": {
      "image/png": "[encoded data removed]",
      "text/plain": [
       "<Figure size 1000x400 with 2 Axes>"
      ]
     },
     "metadata": {},
     "output_type": "display_data"
    }
   ],
   "source": [
    "# Generar datos bimodales y multimodales\n",
    "data_bimodal = np.concatenate([np.random.normal(loc=-2, scale=1, size=500),\n",
    "                               np.random.normal(loc=2, scale=1, size=500)])\n",
    "data_multimodal = np.concatenate([np.random.normal(loc=-2, scale=1, size=300),\n",
    "                                  np.random.normal(loc=0, scale=1, size=300),\n",
    "                                  np.random.normal(loc=2, scale=1, size=300)])\n",
    "\n",
    "# Crear histogramas\n",
    "plt.figure(figsize=(10, 4))\n",
    "\n",
    "plt.subplot(1, 2, 1)\n",
    "plt.hist(data_bimodal, bins=30, color='purple', alpha=0.7)\n",
    "plt.title('Histograma Bimodal')\n",
    "plt.xlabel('Valores')\n",
    "plt.ylabel('Frecuencia')\n",
    "\n",
    "plt.subplot(1, 2, 2)\n",
    "plt.hist(data_multimodal, bins=30, color='red', alpha=0.7)\n",
    "plt.title('Histograma Multimodal')\n",
    "plt.xlabel('Valores')\n",
    "plt.ylabel('Frecuencia')\n",
    "\n",
    "plt.tight_layout()\n",
    "plt.show()\n"
   ]
  },
  {
   "cell_type": "markdown",
   "id": "2ff86efa",
   "metadata": {},
   "source": [
    "### Diagrama de Barras"
   ]
  },
  {
   "cell_type": "markdown",
   "id": "f39f4ef7",
   "metadata": {},
   "source": [
    "El diagrama de barras es un gráfico que representa las frecuencias de diferentes categorías o clases. A diferencia del histograma, las categorías en un diagrama de barras no son continuas, sino discretas. Cada categoría se muestra en el eje horizontal, mientras que la altura de la barra representa la frecuencia o la cantidad asociada con esa categoría.\n",
    "\n",
    "- ***Interpretación:*** El diagrama de barras es útil para comparar diferentes categorías y visualizar la distribución de los datos categóricos."
   ]
  },
  {
   "cell_type": "code",
   "execution_count": 44,
   "id": "55fa4663",
   "metadata": {},
   "outputs": [
    {
     "data": {
      "image/png": "[encoded data removed]",
      "text/plain": [
       "<Figure size 640x480 with 1 Axes>"
      ]
     },
     "metadata": {},
     "output_type": "display_data"
    }
   ],
   "source": [
    "# Crear un DataFrame con datos categóricos\n",
    "data = {'Categoría': ['A', 'B', 'C', 'D'],\n",
    "        'Frecuencia': [25, 40, 15, 30]}\n",
    "df = pd.DataFrame(data)\n",
    "\n",
    "# Crear el diagrama de barras\n",
    "plt.bar(df['Categoría'], df['Frecuencia'])\n",
    "plt.title('Diagrama de Barras')\n",
    "plt.xlabel('Categoría')\n",
    "plt.ylabel('Frecuencia')\n",
    "plt.show()\n"
   ]
  },
  {
   "cell_type": "markdown",
   "id": "33337eb1",
   "metadata": {},
   "source": [
    "### Gráfico de dispersión (scatter)"
   ]
  },
  {
   "cell_type": "markdown",
   "id": "1b0484c6",
   "metadata": {},
   "source": [
    "El gráfico de dispersión es una herramienta valiosa para explorar la relación entre dos variables continuas. Cada punto en el gráfico representa una observación y su posición en los ejes X e Y está determinada por los valores de esas dos variables. Este gráfico nos permite identificar patrones, tendencias y posibles correlaciones entre las variables.\n",
    "\n",
    "- ***Interpretación:*** Al observar un gráfico de dispersión, es posible identificar si existe una relación positiva, negativa o nula entre las variables, así como la presencia de puntos atípicos que podrían indicar valores inusuales o errores en la medición."
   ]
  },
  {
   "cell_type": "code",
   "execution_count": 45,
   "id": "587ed456",
   "metadata": {},
   "outputs": [
    {
     "data": {
      "image/png": "[encoded data removed]",
      "text/plain": [
       "<Figure size 500x400 with 1 Axes>"
      ]
     },
     "metadata": {},
     "output_type": "display_data"
    }
   ],
   "source": [
    "# Generar datos aleatorios para el ejemplo\n",
    "n = 50\n",
    "x = np.random.rand(n)\n",
    "y = 2 * x + np.random.normal(0, 0.1, n)\n",
    "\n",
    "plt.figure(figsize=(5, 4))\n",
    "\n",
    "# Crear el gráfico de dispersión\n",
    "plt.scatter(x, y)\n",
    "plt.title('Gráfico de Dispersión')\n",
    "plt.xlabel('X')\n",
    "plt.ylabel('Y')\n",
    "plt.show()\n"
   ]
  },
  {
   "cell_type": "markdown",
   "id": "bc8b64fa",
   "metadata": {},
   "source": [
    "### Diagrama de Caja (Boxplot)"
   ]
  },
  {
   "cell_type": "markdown",
   "id": "f9fbd148",
   "metadata": {},
   "source": [
    "#### Introducción"
   ]
  },
  {
   "cell_type": "markdown",
   "id": "02f35234",
   "metadata": {},
   "source": [
    "El diagrama de caja, o boxplot, proporciona una representación visual de la distribución de los datos y resalta información sobre la mediana, cuartiles y posibles valores atípicos. Consiste en un rectángulo que abarca el rango intercuartílico (IQR) y líneas (bigotes) que se extienden hacia los valores mínimo y máximo dentro de ciertos límites.\n",
    "\n",
    "- ***Interpretación:*** El diagrama de caja es excelente para identificar la simetría de la distribución, la presencia de valores atípicos y la concentración de los datos alrededor de la mediana."
   ]
  },
  {
   "cell_type": "markdown",
   "id": "d3e2987b",
   "metadata": {},
   "source": [
    "#### Componentes del Diagrama de Caja"
   ]
  },
  {
   "cell_type": "markdown",
   "id": "21b7198b",
   "metadata": {},
   "source": [
    "<p float=\"center\">\n",
    "  <img src=\"https://github.com/carlosalvarezh/Curso_CEC_EAFIT/blob/main/images/C02_03_BoxPlot1.png?raw=true\" width=\"500\" />\n",
    "</p>\n",
    "\n",
    "- ***Mediana ($Q2$):*** Es el valor que divide a los datos en dos partes iguales. La mitad de los datos están por encima de la mediana y la otra mitad por debajo.\n",
    "<p>&nbsp;</p>\n",
    "\n",
    "- ***Cuartiles ($Q1$ y $Q3$):*** Los cuartiles dividen los datos en cuatro partes iguales. El primer cuartil ($Q1$) es el valor que deja el $25\\%$ de los datos por debajo (*25th percentile*) y el tercer cuartil ($Q3$) es el valor que deja el $75\\%$ de los datos por debajo (*75th percentile*).\n",
    "<p>&nbsp;</p>\n",
    "\n",
    "- ***Rango Intercuartílico ($IQR$):*** Es la diferencia entre el tercer cuartil ($Q3$) y el primer cuartil ($Q1$). Representa el rango en el que se encuentra el $50%$ central de los datos.\n",
    "<p>&nbsp;</p>\n",
    "\n",
    "- ***Bigotes (Whiskers):*** Los bigotes representan el rango de datos considerados \"normales\" y se extienden hasta los valores mínimo y máximo que caen dentro de $1.5$ veces el $IQR$ desde el primer y tercer cuartil respectivamente. Cualquier valor fuera de esta distancia se considera un valor atípico (outlier).\n",
    "<p>&nbsp;</p>\n",
    "\n",
    "- ***Valor mínimo:*** se determina mediante la fórmula $Q1-1.5 \\times IQR$\n",
    "<p>&nbsp;</p>\n",
    "\n",
    "- ***Valor máximo:*** se determina mediante la fórmula $Q3+1.5 \\times IQR$\n",
    "<p>&nbsp;</p>\n",
    "\n",
    "- ***Valores Atípicos (Outliers):*** Son valores que se encuentran significativamente lejos del resto de los datos y pueden indicar situaciones inusuales o errores en la medición.\n",
    "\n",
    "Ahora veamos cómo se genera un diagrama de caja empleando la biblioteca `numpy` de python :"
   ]
  },
  {
   "cell_type": "code",
   "execution_count": 1,
   "id": "ba33de7b",
   "metadata": {
    "scrolled": false
   },
   "outputs": [
    {
     "data": {
      "image/png": "[encoded data removed]",
      "text/plain": [
       "<Figure size 500x400 with 1 Axes>"
      ]
     },
     "metadata": {},
     "output_type": "display_data"
    }
   ],
   "source": [
    "import numpy as np\n",
    "import matplotlib.pyplot as plt\n",
    "import pandas as pd\n",
    "\n",
    "# Generar datos aleatorios para el ejemplo\n",
    "data = np.random.normal(0, 1, 100)\n",
    "\n",
    "plt.figure(figsize=(5, 4))\n",
    "\n",
    "# Crear el diagrama de caja\n",
    "plt.boxplot(data)\n",
    "plt.title('Diagrama de Caja')\n",
    "plt.ylabel('Valores')\n",
    "plt.show()\n"
   ]
  },
  {
   "cell_type": "markdown",
   "id": "a0f8c33d",
   "metadata": {},
   "source": [
    "El siguiente ejemplo es empleando `DataFrames` de `pandas`"
   ]
  },
  {
   "cell_type": "code",
   "execution_count": 2,
   "id": "f05f7c16",
   "metadata": {},
   "outputs": [
    {
     "data": {
      "image/png": "[encoded data removed]",
      "text/plain": [
       "<Figure size 800x400 with 1 Axes>"
      ]
     },
     "metadata": {},
     "output_type": "display_data"
    }
   ],
   "source": [
    "# Generar un DataFrame con datos aleatorios\n",
    "np.random.seed(42)\n",
    "data = {\n",
    "    'Grupo A': np.random.normal(60, 10, 100),\n",
    "    'Grupo B': np.random.normal(70, 5, 100),\n",
    "    'Grupo C': np.random.normal(80, 8, 100)\n",
    "}\n",
    "df = pd.DataFrame(data)\n",
    "\n",
    "# Crear un diagrama de caja\n",
    "plt.figure(figsize=(8, 4))\n",
    "df.boxplot()\n",
    "plt.title('Diagrama de Caja - Comparación de Grupos')\n",
    "plt.ylabel('Valores')\n",
    "plt.show()\n"
   ]
  },
  {
   "cell_type": "markdown",
   "id": "26cc898e",
   "metadata": {},
   "source": [
    "En este ejemplo, hemos generado tres grupos de datos ficticios (Grupo A, Grupo B y Grupo C) y los hemos combinado en un DataFrame de Pandas. Luego, hemos creado un diagrama de caja que muestra la comparación de las distribuciones entre los tres grupos.\n",
    "\n",
    "Cada caja representa la distribución de datos en un grupo, mostrando la mediana, cuartiles y el rango intercuartílico (IQR). Los bigotes se extienden hasta los valores mínimo y máximo dentro de 1.5 veces el IQR desde los cuartiles. Cualquier punto fuera de los bigotes se considera un valor atípico.\n",
    "\n",
    "Este ejemplo más complejo ilustra cómo el diagrama de caja puede ser utilizado para comparar múltiples conjuntos de datos y destacar diferencias en sus distribuciones y valores atípicos.\n",
    "\n",
    "Veamos los mismos resultados graficados con la herramienta `plotly`"
   ]
  },
  {
   "cell_type": "code",
   "execution_count": 7,
   "id": "6fe9952d",
   "metadata": {},
   "outputs": [
    {
     "data": {
      "application/vnd.plotly.v1+json": {
       "config": {
        "plotlyServerURL": "https://plot.ly"
       },
       "data": [
        {
         "alignmentgroup": "True",
         "hovertemplate": "variable=%{x}<br>value=%{y}<extra></extra>",
         "legendgroup": "",
         "marker": {
          "color": "#636efa"
         },
         "name": "",
         "notched": false,
         "offsetgroup": "",
         "orientation": "v",
         "showlegend": false,
         "type": "box",
         "x": [
          "Grupo A",
          "Grupo A",
          "Grupo A",
          "Grupo A",
          "Grupo A",
          "Grupo A",
          "Grupo A",
          "Grupo A",
          "Grupo A",
          "Grupo A",
          "Grupo A",
          "Grupo A",
          "Grupo A",
          "Grupo A",
          "Grupo A",
          "Grupo A",
          "Grupo A",
          "Grupo A",
          "Grupo A",
          "Grupo A",
          "Grupo A",
          "Grupo A",
          "Grupo A",
          "Grupo A",
          "Grupo A",
          "Grupo A",
          "Grupo A",
          "Grupo A",
          "Grupo A",
          "Grupo A",
          "Grupo A",
          "Grupo A",
          "Grupo A",
          "Grupo A",
          "Grupo A",
          "Grupo A",
          "Grupo A",
          "Grupo A",
          "Grupo A",
          "Grupo A",
          "Grupo A",
          "Grupo A",
          "Grupo A",
          "Grupo A",
          "Grupo A",
          "Grupo A",
          "Grupo A",
          "Grupo A",
          "Grupo A",
          "Grupo A",
          "Grupo A",
          "Grupo A",
          "Grupo A",
          "Grupo A",
          "Grupo A",
          "Grupo A",
          "Grupo A",
          "Grupo A",
          "Grupo A",
          "Grupo A",
          "Grupo A",
          "Grupo A",
          "Grupo A",
          "Grupo A",
          "Grupo A",
          "Grupo A",
          "Grupo A",
          "Grupo A",
          "Grupo A",
          "Grupo A",
          "Grupo A",
          "Grupo A",
          "Grupo A",
          "Grupo A",
          "Grupo A",
          "Grupo A",
          "Grupo A",
          "Grupo A",
          "Grupo A",
          "Grupo A",
          "Grupo A",
          "Grupo A",
          "Grupo A",
          "Grupo A",
          "Grupo A",
          "Grupo A",
          "Grupo A",
          "Grupo A",
          "Grupo A",
          "Grupo A",
          "Grupo A",
          "Grupo A",
          "Grupo A",
          "Grupo A",
          "Grupo A",
          "Grupo A",
          "Grupo A",
          "Grupo A",
          "Grupo A",
          "Grupo A",
          "Grupo B",
          "Grupo B",
          "Grupo B",
          "Grupo B",
          "Grupo B",
          "Grupo B",
          "Grupo B",
          "Grupo B",
          "Grupo B",
          "Grupo B",
          "Grupo B",
          "Grupo B",
          "Grupo B",
          "Grupo B",
          "Grupo B",
          "Grupo B",
          "Grupo B",
          "Grupo B",
          "Grupo B",
          "Grupo B",
          "Grupo B",
          "Grupo B",
          "Grupo B",
          "Grupo B",
          "Grupo B",
          "Grupo B",
          "Grupo B",
          "Grupo B",
          "Grupo B",
          "Grupo B",
          "Grupo B",
          "Grupo B",
          "Grupo B",
          "Grupo B",
          "Grupo B",
          "Grupo B",
          "Grupo B",
          "Grupo B",
          "Grupo B",
          "Grupo B",
          "Grupo B",
          "Grupo B",
          "Grupo B",
          "Grupo B",
          "Grupo B",
          "Grupo B",
          "Grupo B",
          "Grupo B",
          "Grupo B",
          "Grupo B",
          "Grupo B",
          "Grupo B",
          "Grupo B",
          "Grupo B",
          "Grupo B",
          "Grupo B",
          "Grupo B",
          "Grupo B",
          "Grupo B",
          "Grupo B",
          "Grupo B",
          "Grupo B",
          "Grupo B",
          "Grupo B",
          "Grupo B",
          "Grupo B",
          "Grupo B",
          "Grupo B",
          "Grupo B",
          "Grupo B",
          "Grupo B",
          "Grupo B",
          "Grupo B",
          "Grupo B",
          "Grupo B",
          "Grupo B",
          "Grupo B",
          "Grupo B",
          "Grupo B",
          "Grupo B",
          "Grupo B",
          "Grupo B",
          "Grupo B",
          "Grupo B",
          "Grupo B",
          "Grupo B",
          "Grupo B",
          "Grupo B",
          "Grupo B",
          "Grupo B",
          "Grupo B",
          "Grupo B",
          "Grupo B",
          "Grupo B",
          "Grupo B",
          "Grupo B",
          "Grupo B",
          "Grupo B",
          "Grupo B",
          "Grupo B",
          "Grupo C",
          "Grupo C",
          "Grupo C",
          "Grupo C",
          "Grupo C",
          "Grupo C",
          "Grupo C",
          "Grupo C",
          "Grupo C",
          "Grupo C",
          "Grupo C",
          "Grupo C",
          "Grupo C",
          "Grupo C",
          "Grupo C",
          "Grupo C",
          "Grupo C",
          "Grupo C",
          "Grupo C",
          "Grupo C",
          "Grupo C",
          "Grupo C",
          "Grupo C",
          "Grupo C",
          "Grupo C",
          "Grupo C",
          "Grupo C",
          "Grupo C",
          "Grupo C",
          "Grupo C",
          "Grupo C",
          "Grupo C",
          "Grupo C",
          "Grupo C",
          "Grupo C",
          "Grupo C",
          "Grupo C",
          "Grupo C",
          "Grupo C",
          "Grupo C",
          "Grupo C",
          "Grupo C",
          "Grupo C",
          "Grupo C",
          "Grupo C",
          "Grupo C",
          "Grupo C",
          "Grupo C",
          "Grupo C",
          "Grupo C",
          "Grupo C",
          "Grupo C",
          "Grupo C",
          "Grupo C",
          "Grupo C",
          "Grupo C",
          "Grupo C",
          "Grupo C",
          "Grupo C",
          "Grupo C",
          "Grupo C",
          "Grupo C",
          "Grupo C",
          "Grupo C",
          "Grupo C",
          "Grupo C",
          "Grupo C",
          "Grupo C",
          "Grupo C",
          "Grupo C",
          "Grupo C",
          "Grupo C",
          "Grupo C",
          "Grupo C",
          "Grupo C",
          "Grupo C",
          "Grupo C",
          "Grupo C",
          "Grupo C",
          "Grupo C",
          "Grupo C",
          "Grupo C",
          "Grupo C",
          "Grupo C",
          "Grupo C",
          "Grupo C",
          "Grupo C",
          "Grupo C",
          "Grupo C",
          "Grupo C",
          "Grupo C",
          "Grupo C",
          "Grupo C",
          "Grupo C",
          "Grupo C",
          "Grupo C",
          "Grupo C",
          "Grupo C",
          "Grupo C",
          "Grupo C"
         ],
         "x0": " ",
         "xaxis": "x",
         "y": [
          64.96714153011233,
          58.61735698828815,
          66.47688538100692,
          75.23029856408026,
          57.658466252766644,
          57.6586304305082,
          75.79212815507391,
          67.67434729152909,
          55.30525614065048,
          65.42560043585965,
          55.365823071875376,
          55.34270246429743,
          62.41962271566034,
          40.86719755342202,
          42.75082167486967,
          54.37712470759027,
          49.87168879665576,
          63.142473325952736,
          50.91975924478789,
          45.87696298664709,
          74.65648768921554,
          57.74223699513465,
          60.67528204687924,
          45.75251813786544,
          54.556172754748175,
          61.10922589709866,
          48.490064225776976,
          63.75698018345672,
          53.99361310081195,
          57.083062502067236,
          53.98293387770603,
          78.52278184508938,
          59.86502775262066,
          49.422890710440996,
          68.22544912103189,
          47.791563500289776,
          62.08863595004755,
          40.403298761202244,
          46.71813951101569,
          61.96861235869123,
          67.3846657999541,
          61.7136828118997,
          58.843517176117594,
          56.98896304410711,
          45.214780096325725,
          52.801557916052914,
          55.393612290402125,
          70.57122226218915,
          63.43618289568462,
          42.36959844637266,
          63.24083969394795,
          56.149177195836835,
          53.23077999694041,
          66.11676288840867,
          70.30999522495951,
          69.31280119116198,
          51.607824767773614,
          56.907876241487855,
          63.31263431403564,
          69.75545127122359,
          55.2082576215471,
          58.14341023336183,
          48.93665025993972,
          48.037933759193294,
          68.12525822394198,
          73.56240028570824,
          59.27989878419666,
          70.03532897892023,
          63.61636025047634,
          53.54880245394876,
          63.61395605508414,
          75.38036566465969,
          59.64173960890049,
          75.64643655814007,
          33.80254895910255,
          68.21902504375224,
          60.870470682381715,
          57.009926495341325,
          60.91760776535502,
          40.124310853991076,
          57.80328112162488,
          63.57112571511746,
          74.77894044741517,
          54.81729781726352,
          51.91506397106812,
          54.982429564154636,
          69.15402117702074,
          63.287511096596845,
          54.70239796232961,
          65.13267433113356,
          60.9707754934804,
          69.68644990532889,
          52.979469061226474,
          56.723378534022316,
          56.078918468678424,
          45.364850518678814,
          62.96120277064576,
          62.610552721798896,
          60.05113456642461,
          57.65412866624853,
          62.923146289747926,
          67.89677338617321,
          68.28642741736616,
          65.9886136538919,
          69.19357144166996,
          72.02025428407269,
          79.43092950605265,
          70.8728890641592,
          71.28775195361382,
          69.62777042116916,
          60.40614392350479,
          69.86743062275391,
          70.30115104970513,
          82.31621056242643,
          69.03819517609439,
          71.50773671166806,
          69.82644115147379,
          64.15660981190234,
          75.7141140725751,
          73.75966516343387,
          73.95515973521523,
          65.4530627260263,
          77.0139715546805,
          62.990744686038596,
          72.93428546900135,
          80.95227812904989,
          65.04731837434656,
          67.16851135198614,
          70.4982568254382,
          67.48262172941901,
          62.24668284466934,
          70.34281487403014,
          64.68848143136948,
          72.36796215317591,
          65.40287882883098,
          77.7496720250877,
          66.08373353831881,
          68.38969241897162,
          74.06758608684835,
          63.84567841783022,
          71.13729967302065,
          76.53571377141213,
          61.96258382719386,
          70.92316929266153,
          71.29941397124212,
          73.90911435888655,
          63.81524644560959,
          63.39771693457862,
          72.60970782808448,
          71.48492336616593,
          71.25246425172938,
          71.73224104748488,
          66.59987639210755,
          71.16126848580502,
          71.46536236649341,
          66.42824290986816,
          79.32887255572378,
          72.36916460455893,
          64.04348251398676,
          73.28276804316914,
          65.1265916488634,
          73.93542301871226,
          75.79297789503703,
          65.89658840824144,
          74.8168806462216,
          72.06390463468249,
          74.11030079997245,
          79.48396491326974,
          68.77305941998564,
          66.23131917821256,
          65.55242785187238,
          65.92094857517282,
          69.61449145292949,
          71.70575987408321,
          71.38345399665009,
          74.13591624518011,
          70.06500945938953,
          77.26767038578659,
          68.67671583381022,
          83.6008458329481,
          73.12833673882503,
          65.71421221791859,
          64.64553750969444,
          72.41236207621593,
          68.88268607337075,
          73.57000247046047,
          72.36618812286773,
          69.63585543671563,
          65.76603140965797,
          62.42576387657068,
          67.76742523966489,
          74.28199397161737,
          71.07046872065102,
          63.77130610644006,
          70.86590462925591,
          71.92658689864419,
          65.58071281899433,
          70.76862552972764,
          70.29104359223,
          64.28514851084688,
          82.86229888278626,
          84.48627621094587,
          88.66440994540221,
          88.43041641627923,
          68.97864505634327,
          72.49739968067902,
          84.12028213766928,
          84.11028760729766,
          84.12038149044838,
          110.82185192523777,
          84.56712408554533,
          89.08452512144478,
          87.63201410794562,
          85.21113001044638,
          77.47784604287723,
          86.07175376394613,
          73.81739828369942,
          78.10545114607993,
          76.11709161736717,
          80.65499311509058,
          98.51726853338806,
          65.06187845926601,
          85.4900815229961,
          67.09827303048279,
          76.22454507368454,
          88.71160477573893,
          80.5142401527637,
          71.37804177656555,
          74.27757032592025,
          85.4367819914774,
          74.1570669462629,
          81.7316687166558,
          80.3645747192305,
          74.78719721915347,
          97.1515527146026,
          85.07135217854409,
          63.798859306739146,
          81.49163451815542,
          74.70570828185289,
          86.81946667836979,
          73.65983409253839,
          79.0821084682648,
          84.03989823184365,
          86.92604155336097,
          70.3976287435538,
          77.32399011327242,
          76.20043751071235,
          74.7733661394103,
          94.12363392224877,
          83.23985368768764,
          69.91292836531964,
          87.34289557643821,
          96.97724957610106,
          88.25972208440918,
          67.8450402723679,
          76.12612741707,
          90.13528919349298,
          74.33864427504976,
          83.55055542516983,
          86.19707242743469,
          72.58455622737533,
          79.5237971515056,
          54.06986127944742,
          71.80489886932568,
          77.97945478885472,
          70.01773454428121,
          93.05929043145308,
          68.55886897631494,
          76.47964410642413,
          81.04592461828874,
          91.53018631252893,
          68.51310279056449,
          89.30531001723968,
          80.0818644881567,
          72.14793079161639,
          83.69682779410617,
          81.59247756458777,
          75.19826498272964,
          80.55841667992016,
          76.91749122510592,
          80.90813876200998,
          85.29704539616837,
          92.68813452916282,
          70.0974760093852,
          97.06426699725013,
          64.38329760381998,
          78.78571923971533,
          84.70653765187662,
          82.24793494188026,
          75.01840384143524,
          78.3350219971418,
          76.05599252272934,
          75.2850819444463,
          86.7968167761682,
          82.85612388772037,
          74.45672323791477,
          87.19679900346601,
          82.45839616701288,
          86.50289695071169,
          85.0370307353889
         ],
         "y0": " ",
         "yaxis": "y"
        }
       ],
       "layout": {
        "boxmode": "group",
        "legend": {
         "tracegroupgap": 0
        },
        "margin": {
         "t": 60
        },
        "template": {
         "data": {
          "bar": [
           {
            "error_x": {
             "color": "#2a3f5f"
            },
            "error_y": {
             "color": "#2a3f5f"
            },
            "marker": {
             "line": {
              "color": "#E5ECF6",
              "width": 0.5
             },
             "pattern": {
              "fillmode": "overlay",
              "size": 10,
              "solidity": 0.2
             }
            },
            "type": "bar"
           }
          ],
          "barpolar": [
           {
            "marker": {
             "line": {
              "color": "#E5ECF6",
              "width": 0.5
             },
             "pattern": {
              "fillmode": "overlay",
              "size": 10,
              "solidity": 0.2
             }
            },
            "type": "barpolar"
           }
          ],
          "carpet": [
           {
            "aaxis": {
             "endlinecolor": "#2a3f5f",
             "gridcolor": "white",
             "linecolor": "white",
             "minorgridcolor": "white",
             "startlinecolor": "#2a3f5f"
            },
            "baxis": {
             "endlinecolor": "#2a3f5f",
             "gridcolor": "white",
             "linecolor": "white",
             "minorgridcolor": "white",
             "startlinecolor": "#2a3f5f"
            },
            "type": "carpet"
           }
          ],
          "choropleth": [
           {
            "colorbar": {
             "outlinewidth": 0,
             "ticks": ""
            },
            "type": "choropleth"
           }
          ],
          "contour": [
           {
            "colorbar": {
             "outlinewidth": 0,
             "ticks": ""
            },
            "colorscale": [
             [
              0,
              "#0d0887"
             ],
             [
              0.1111111111111111,
              "#46039f"
             ],
             [
              0.2222222222222222,
              "#7201a8"
             ],
             [
              0.3333333333333333,
              "#9c179e"
             ],
             [
              0.4444444444444444,
              "#bd3786"
             ],
             [
              0.5555555555555556,
              "#d8576b"
             ],
             [
              0.6666666666666666,
              "#ed7953"
             ],
             [
              0.7777777777777778,
              "#fb9f3a"
             ],
             [
              0.8888888888888888,
              "#fdca26"
             ],
             [
              1,
              "#f0f921"
             ]
            ],
            "type": "contour"
           }
          ],
          "contourcarpet": [
           {
            "colorbar": {
             "outlinewidth": 0,
             "ticks": ""
            },
            "type": "contourcarpet"
           }
          ],
          "heatmap": [
           {
            "colorbar": {
             "outlinewidth": 0,
             "ticks": ""
            },
            "colorscale": [
             [
              0,
              "#0d0887"
             ],
             [
              0.1111111111111111,
              "#46039f"
             ],
             [
              0.2222222222222222,
              "#7201a8"
             ],
             [
              0.3333333333333333,
              "#9c179e"
             ],
             [
              0.4444444444444444,
              "#bd3786"
             ],
             [
              0.5555555555555556,
              "#d8576b"
             ],
             [
              0.6666666666666666,
              "#ed7953"
             ],
             [
              0.7777777777777778,
              "#fb9f3a"
             ],
             [
              0.8888888888888888,
              "#fdca26"
             ],
             [
              1,
              "#f0f921"
             ]
            ],
            "type": "heatmap"
           }
          ],
          "heatmapgl": [
           {
            "colorbar": {
             "outlinewidth": 0,
             "ticks": ""
            },
            "colorscale": [
             [
              0,
              "#0d0887"
             ],
             [
              0.1111111111111111,
              "#46039f"
             ],
             [
              0.2222222222222222,
              "#7201a8"
             ],
             [
              0.3333333333333333,
              "#9c179e"
             ],
             [
              0.4444444444444444,
              "#bd3786"
             ],
             [
              0.5555555555555556,
              "#d8576b"
             ],
             [
              0.6666666666666666,
              "#ed7953"
             ],
             [
              0.7777777777777778,
              "#fb9f3a"
             ],
             [
              0.8888888888888888,
              "#fdca26"
             ],
             [
              1,
              "#f0f921"
             ]
            ],
            "type": "heatmapgl"
           }
          ],
          "histogram": [
           {
            "marker": {
             "pattern": {
              "fillmode": "overlay",
              "size": 10,
              "solidity": 0.2
             }
            },
            "type": "histogram"
           }
          ],
          "histogram2d": [
           {
            "colorbar": {
             "outlinewidth": 0,
             "ticks": ""
            },
            "colorscale": [
             [
              0,
              "#0d0887"
             ],
             [
              0.1111111111111111,
              "#46039f"
             ],
             [
              0.2222222222222222,
              "#7201a8"
             ],
             [
              0.3333333333333333,
              "#9c179e"
             ],
             [
              0.4444444444444444,
              "#bd3786"
             ],
             [
              0.5555555555555556,
              "#d8576b"
             ],
             [
              0.6666666666666666,
              "#ed7953"
             ],
             [
              0.7777777777777778,
              "#fb9f3a"
             ],
             [
              0.8888888888888888,
              "#fdca26"
             ],
             [
              1,
              "#f0f921"
             ]
            ],
            "type": "histogram2d"
           }
          ],
          "histogram2dcontour": [
           {
            "colorbar": {
             "outlinewidth": 0,
             "ticks": ""
            },
            "colorscale": [
             [
              0,
              "#0d0887"
             ],
             [
              0.1111111111111111,
              "#46039f"
             ],
             [
              0.2222222222222222,
              "#7201a8"
             ],
             [
              0.3333333333333333,
              "#9c179e"
             ],
             [
              0.4444444444444444,
              "#bd3786"
             ],
             [
              0.5555555555555556,
              "#d8576b"
             ],
             [
              0.6666666666666666,
              "#ed7953"
             ],
             [
              0.7777777777777778,
              "#fb9f3a"
             ],
             [
              0.8888888888888888,
              "#fdca26"
             ],
             [
              1,
              "#f0f921"
             ]
            ],
            "type": "histogram2dcontour"
           }
          ],
          "mesh3d": [
           {
            "colorbar": {
             "outlinewidth": 0,
             "ticks": ""
            },
            "type": "mesh3d"
           }
          ],
          "parcoords": [
           {
            "line": {
             "colorbar": {
              "outlinewidth": 0,
              "ticks": ""
             }
            },
            "type": "parcoords"
           }
          ],
          "pie": [
           {
            "automargin": true,
            "type": "pie"
           }
          ],
          "scatter": [
           {
            "fillpattern": {
             "fillmode": "overlay",
             "size": 10,
             "solidity": 0.2
            },
            "type": "scatter"
           }
          ],
          "scatter3d": [
           {
            "line": {
             "colorbar": {
              "outlinewidth": 0,
              "ticks": ""
             }
            },
            "marker": {
             "colorbar": {
              "outlinewidth": 0,
              "ticks": ""
             }
            },
            "type": "scatter3d"
           }
          ],
          "scattercarpet": [
           {
            "marker": {
             "colorbar": {
              "outlinewidth": 0,
              "ticks": ""
             }
            },
            "type": "scattercarpet"
           }
          ],
          "scattergeo": [
           {
            "marker": {
             "colorbar": {
              "outlinewidth": 0,
              "ticks": ""
             }
            },
            "type": "scattergeo"
           }
          ],
          "scattergl": [
           {
            "marker": {
             "colorbar": {
              "outlinewidth": 0,
              "ticks": ""
             }
            },
            "type": "scattergl"
           }
          ],
          "scattermapbox": [
           {
            "marker": {
             "colorbar": {
              "outlinewidth": 0,
              "ticks": ""
             }
            },
            "type": "scattermapbox"
           }
          ],
          "scatterpolar": [
           {
            "marker": {
             "colorbar": {
              "outlinewidth": 0,
              "ticks": ""
             }
            },
            "type": "scatterpolar"
           }
          ],
          "scatterpolargl": [
           {
            "marker": {
             "colorbar": {
              "outlinewidth": 0,
              "ticks": ""
             }
            },
            "type": "scatterpolargl"
           }
          ],
          "scatterternary": [
           {
            "marker": {
             "colorbar": {
              "outlinewidth": 0,
              "ticks": ""
             }
            },
            "type": "scatterternary"
           }
          ],
          "surface": [
           {
            "colorbar": {
             "outlinewidth": 0,
             "ticks": ""
            },
            "colorscale": [
             [
              0,
              "#0d0887"
             ],
             [
              0.1111111111111111,
              "#46039f"
             ],
             [
              0.2222222222222222,
              "#7201a8"
             ],
             [
              0.3333333333333333,
              "#9c179e"
             ],
             [
              0.4444444444444444,
              "#bd3786"
             ],
             [
              0.5555555555555556,
              "#d8576b"
             ],
             [
              0.6666666666666666,
              "#ed7953"
             ],
             [
              0.7777777777777778,
              "#fb9f3a"
             ],
             [
              0.8888888888888888,
              "#fdca26"
             ],
             [
              1,
              "#f0f921"
             ]
            ],
            "type": "surface"
           }
          ],
          "table": [
           {
            "cells": {
             "fill": {
              "color": "#EBF0F8"
             },
             "line": {
              "color": "white"
             }
            },
            "header": {
             "fill": {
              "color": "#C8D4E3"
             },
             "line": {
              "color": "white"
             }
            },
            "type": "table"
           }
          ]
         },
         "layout": {
          "annotationdefaults": {
           "arrowcolor": "#2a3f5f",
           "arrowhead": 0,
           "arrowwidth": 1
          },
          "autotypenumbers": "strict",
          "coloraxis": {
           "colorbar": {
            "outlinewidth": 0,
            "ticks": ""
           }
          },
          "colorscale": {
           "diverging": [
            [
             0,
             "#8e0152"
            ],
            [
             0.1,
             "#c51b7d"
            ],
            [
             0.2,
             "#de77ae"
            ],
            [
             0.3,
             "#f1b6da"
            ],
            [
             0.4,
             "#fde0ef"
            ],
            [
             0.5,
             "#f7f7f7"
            ],
            [
             0.6,
             "#e6f5d0"
            ],
            [
             0.7,
             "#b8e186"
            ],
            [
             0.8,
             "#7fbc41"
            ],
            [
             0.9,
             "#4d9221"
            ],
            [
             1,
             "#276419"
            ]
           ],
           "sequential": [
            [
             0,
             "#0d0887"
            ],
            [
             0.1111111111111111,
             "#46039f"
            ],
            [
             0.2222222222222222,
             "#7201a8"
            ],
            [
             0.3333333333333333,
             "#9c179e"
            ],
            [
             0.4444444444444444,
             "#bd3786"
            ],
            [
             0.5555555555555556,
             "#d8576b"
            ],
            [
             0.6666666666666666,
             "#ed7953"
            ],
            [
             0.7777777777777778,
             "#fb9f3a"
            ],
            [
             0.8888888888888888,
             "#fdca26"
            ],
            [
             1,
             "#f0f921"
            ]
           ],
           "sequentialminus": [
            [
             0,
             "#0d0887"
            ],
            [
             0.1111111111111111,
             "#46039f"
            ],
            [
             0.2222222222222222,
             "#7201a8"
            ],
            [
             0.3333333333333333,
             "#9c179e"
            ],
            [
             0.4444444444444444,
             "#bd3786"
            ],
            [
             0.5555555555555556,
             "#d8576b"
            ],
            [
             0.6666666666666666,
             "#ed7953"
            ],
            [
             0.7777777777777778,
             "#fb9f3a"
            ],
            [
             0.8888888888888888,
             "#fdca26"
            ],
            [
             1,
             "#f0f921"
            ]
           ]
          },
          "colorway": [
           "#636efa",
           "#EF553B",
           "#00cc96",
           "#ab63fa",
           "#FFA15A",
           "#19d3f3",
           "#FF6692",
           "#B6E880",
           "#FF97FF",
           "#FECB52"
          ],
          "font": {
           "color": "#2a3f5f"
          },
          "geo": {
           "bgcolor": "white",
           "lakecolor": "white",
           "landcolor": "#E5ECF6",
           "showlakes": true,
           "showland": true,
           "subunitcolor": "white"
          },
          "hoverlabel": {
           "align": "left"
          },
          "hovermode": "closest",
          "mapbox": {
           "style": "light"
          },
          "paper_bgcolor": "white",
          "plot_bgcolor": "#E5ECF6",
          "polar": {
           "angularaxis": {
            "gridcolor": "white",
            "linecolor": "white",
            "ticks": ""
           },
           "bgcolor": "#E5ECF6",
           "radialaxis": {
            "gridcolor": "white",
            "linecolor": "white",
            "ticks": ""
           }
          },
          "scene": {
           "xaxis": {
            "backgroundcolor": "#E5ECF6",
            "gridcolor": "white",
            "gridwidth": 2,
            "linecolor": "white",
            "showbackground": true,
            "ticks": "",
            "zerolinecolor": "white"
           },
           "yaxis": {
            "backgroundcolor": "#E5ECF6",
            "gridcolor": "white",
            "gridwidth": 2,
            "linecolor": "white",
            "showbackground": true,
            "ticks": "",
            "zerolinecolor": "white"
           },
           "zaxis": {
            "backgroundcolor": "#E5ECF6",
            "gridcolor": "white",
            "gridwidth": 2,
            "linecolor": "white",
            "showbackground": true,
            "ticks": "",
            "zerolinecolor": "white"
           }
          },
          "shapedefaults": {
           "line": {
            "color": "#2a3f5f"
           }
          },
          "ternary": {
           "aaxis": {
            "gridcolor": "white",
            "linecolor": "white",
            "ticks": ""
           },
           "baxis": {
            "gridcolor": "white",
            "linecolor": "white",
            "ticks": ""
           },
           "bgcolor": "#E5ECF6",
           "caxis": {
            "gridcolor": "white",
            "linecolor": "white",
            "ticks": ""
           }
          },
          "title": {
           "x": 0.05
          },
          "xaxis": {
           "automargin": true,
           "gridcolor": "white",
           "linecolor": "white",
           "ticks": "",
           "title": {
            "standoff": 15
           },
           "zerolinecolor": "white",
           "zerolinewidth": 2
          },
          "yaxis": {
           "automargin": true,
           "gridcolor": "white",
           "linecolor": "white",
           "ticks": "",
           "title": {
            "standoff": 15
           },
           "zerolinecolor": "white",
           "zerolinewidth": 2
          }
         }
        },
        "xaxis": {
         "anchor": "y",
         "domain": [
          0,
          1
         ],
         "title": {
          "text": "variable"
         }
        },
        "yaxis": {
         "anchor": "x",
         "domain": [
          0,
          1
         ],
         "title": {
          "text": "value"
         }
        }
       }
      },
      "text/html": [
       "<div>                            <div id=\"987d7c4e-0385-4054-8c70-2ba4d28911c7\" class=\"plotly-graph-div\" style=\"height:525px; width:100%;\"></div>            <script type=\"text/javascript\">                require([\"plotly\"], function(Plotly) {                    window.PLOTLYENV=window.PLOTLYENV || {};                                    if (document.getElementById(\"987d7c4e-0385-4054-8c70-2ba4d28911c7\")) {                    Plotly.newPlot(                        \"987d7c4e-0385-4054-8c70-2ba4d28911c7\",                        [{\"alignmentgroup\":\"True\",\"hovertemplate\":\"variable=%{x}<br>value=%{y}<extra></extra>\",\"legendgroup\":\"\",\"marker\":{\"color\":\"#636efa\"},\"name\":\"\",\"notched\":false,\"offsetgroup\":\"\",\"orientation\":\"v\",\"showlegend\":false,\"x\":[\"Grupo A\",\"Grupo A\",\"Grupo A\",\"Grupo A\",\"Grupo A\",\"Grupo A\",\"Grupo A\",\"Grupo A\",\"Grupo A\",\"Grupo A\",\"Grupo A\",\"Grupo A\",\"Grupo A\",\"Grupo A\",\"Grupo A\",\"Grupo A\",\"Grupo A\",\"Grupo A\",\"Grupo A\",\"Grupo A\",\"Grupo A\",\"Grupo A\",\"Grupo A\",\"Grupo A\",\"Grupo A\",\"Grupo A\",\"Grupo A\",\"Grupo A\",\"Grupo A\",\"Grupo A\",\"Grupo A\",\"Grupo A\",\"Grupo A\",\"Grupo A\",\"Grupo A\",\"Grupo A\",\"Grupo A\",\"Grupo A\",\"Grupo A\",\"Grupo A\",\"Grupo A\",\"Grupo A\",\"Grupo A\",\"Grupo A\",\"Grupo A\",\"Grupo A\",\"Grupo A\",\"Grupo A\",\"Grupo A\",\"Grupo A\",\"Grupo A\",\"Grupo A\",\"Grupo A\",\"Grupo A\",\"Grupo A\",\"Grupo A\",\"Grupo A\",\"Grupo A\",\"Grupo A\",\"Grupo A\",\"Grupo A\",\"Grupo A\",\"Grupo A\",\"Grupo A\",\"Grupo A\",\"Grupo A\",\"Grupo A\",\"Grupo A\",\"Grupo A\",\"Grupo A\",\"Grupo A\",\"Grupo A\",\"Grupo A\",\"Grupo A\",\"Grupo A\",\"Grupo A\",\"Grupo A\",\"Grupo A\",\"Grupo A\",\"Grupo A\",\"Grupo A\",\"Grupo A\",\"Grupo A\",\"Grupo A\",\"Grupo A\",\"Grupo A\",\"Grupo A\",\"Grupo A\",\"Grupo A\",\"Grupo A\",\"Grupo A\",\"Grupo A\",\"Grupo A\",\"Grupo A\",\"Grupo A\",\"Grupo A\",\"Grupo A\",\"Grupo A\",\"Grupo A\",\"Grupo A\",\"Grupo B\",\"Grupo B\",\"Grupo B\",\"Grupo B\",\"Grupo B\",\"Grupo B\",\"Grupo B\",\"Grupo B\",\"Grupo B\",\"Grupo B\",\"Grupo B\",\"Grupo B\",\"Grupo B\",\"Grupo B\",\"Grupo B\",\"Grupo B\",\"Grupo B\",\"Grupo B\",\"Grupo B\",\"Grupo B\",\"Grupo B\",\"Grupo B\",\"Grupo B\",\"Grupo B\",\"Grupo B\",\"Grupo B\",\"Grupo B\",\"Grupo B\",\"Grupo B\",\"Grupo B\",\"Grupo B\",\"Grupo B\",\"Grupo B\",\"Grupo B\",\"Grupo B\",\"Grupo B\",\"Grupo B\",\"Grupo B\",\"Grupo B\",\"Grupo B\",\"Grupo B\",\"Grupo B\",\"Grupo B\",\"Grupo B\",\"Grupo B\",\"Grupo B\",\"Grupo B\",\"Grupo B\",\"Grupo B\",\"Grupo B\",\"Grupo B\",\"Grupo B\",\"Grupo B\",\"Grupo B\",\"Grupo B\",\"Grupo B\",\"Grupo B\",\"Grupo B\",\"Grupo B\",\"Grupo B\",\"Grupo B\",\"Grupo B\",\"Grupo B\",\"Grupo B\",\"Grupo B\",\"Grupo B\",\"Grupo B\",\"Grupo B\",\"Grupo B\",\"Grupo B\",\"Grupo B\",\"Grupo B\",\"Grupo B\",\"Grupo B\",\"Grupo B\",\"Grupo B\",\"Grupo B\",\"Grupo B\",\"Grupo B\",\"Grupo B\",\"Grupo B\",\"Grupo B\",\"Grupo B\",\"Grupo B\",\"Grupo B\",\"Grupo B\",\"Grupo B\",\"Grupo B\",\"Grupo B\",\"Grupo B\",\"Grupo B\",\"Grupo B\",\"Grupo B\",\"Grupo B\",\"Grupo B\",\"Grupo B\",\"Grupo B\",\"Grupo B\",\"Grupo B\",\"Grupo B\",\"Grupo C\",\"Grupo C\",\"Grupo C\",\"Grupo C\",\"Grupo C\",\"Grupo C\",\"Grupo C\",\"Grupo C\",\"Grupo C\",\"Grupo C\",\"Grupo C\",\"Grupo C\",\"Grupo C\",\"Grupo C\",\"Grupo C\",\"Grupo C\",\"Grupo C\",\"Grupo C\",\"Grupo C\",\"Grupo C\",\"Grupo C\",\"Grupo C\",\"Grupo C\",\"Grupo C\",\"Grupo C\",\"Grupo C\",\"Grupo C\",\"Grupo C\",\"Grupo C\",\"Grupo C\",\"Grupo C\",\"Grupo C\",\"Grupo C\",\"Grupo C\",\"Grupo C\",\"Grupo C\",\"Grupo C\",\"Grupo C\",\"Grupo C\",\"Grupo C\",\"Grupo C\",\"Grupo C\",\"Grupo C\",\"Grupo C\",\"Grupo C\",\"Grupo C\",\"Grupo C\",\"Grupo C\",\"Grupo C\",\"Grupo C\",\"Grupo C\",\"Grupo C\",\"Grupo C\",\"Grupo C\",\"Grupo C\",\"Grupo C\",\"Grupo C\",\"Grupo C\",\"Grupo C\",\"Grupo C\",\"Grupo C\",\"Grupo C\",\"Grupo C\",\"Grupo C\",\"Grupo C\",\"Grupo C\",\"Grupo C\",\"Grupo C\",\"Grupo C\",\"Grupo C\",\"Grupo C\",\"Grupo C\",\"Grupo C\",\"Grupo C\",\"Grupo C\",\"Grupo C\",\"Grupo C\",\"Grupo C\",\"Grupo C\",\"Grupo C\",\"Grupo C\",\"Grupo C\",\"Grupo C\",\"Grupo C\",\"Grupo C\",\"Grupo C\",\"Grupo C\",\"Grupo C\",\"Grupo C\",\"Grupo C\",\"Grupo C\",\"Grupo C\",\"Grupo C\",\"Grupo C\",\"Grupo C\",\"Grupo C\",\"Grupo C\",\"Grupo C\",\"Grupo C\",\"Grupo C\"],\"x0\":\" \",\"xaxis\":\"x\",\"y\":[64.96714153011233,58.61735698828815,66.47688538100692,75.23029856408026,57.658466252766644,57.6586304305082,75.79212815507391,67.67434729152909,55.30525614065048,65.42560043585965,55.365823071875376,55.34270246429743,62.41962271566034,40.86719755342202,42.75082167486967,54.37712470759027,49.87168879665576,63.142473325952736,50.91975924478789,45.87696298664709,74.65648768921554,57.74223699513465,60.67528204687924,45.75251813786544,54.556172754748175,61.10922589709866,48.490064225776976,63.75698018345672,53.99361310081195,57.083062502067236,53.98293387770603,78.52278184508938,59.86502775262066,49.422890710440996,68.22544912103189,47.791563500289776,62.08863595004755,40.403298761202244,46.71813951101569,61.96861235869123,67.3846657999541,61.7136828118997,58.843517176117594,56.98896304410711,45.214780096325725,52.801557916052914,55.393612290402125,70.57122226218915,63.43618289568462,42.36959844637266,63.24083969394795,56.149177195836835,53.23077999694041,66.11676288840867,70.30999522495951,69.31280119116198,51.607824767773614,56.907876241487855,63.31263431403564,69.75545127122359,55.2082576215471,58.14341023336183,48.93665025993972,48.037933759193294,68.12525822394198,73.56240028570824,59.27989878419666,70.03532897892023,63.61636025047634,53.54880245394876,63.61395605508414,75.38036566465969,59.64173960890049,75.64643655814007,33.80254895910255,68.21902504375224,60.870470682381715,57.009926495341325,60.91760776535502,40.124310853991076,57.80328112162488,63.57112571511746,74.77894044741517,54.81729781726352,51.91506397106812,54.982429564154636,69.15402117702074,63.287511096596845,54.70239796232961,65.13267433113356,60.9707754934804,69.68644990532889,52.979469061226474,56.723378534022316,56.078918468678424,45.364850518678814,62.96120277064576,62.610552721798896,60.05113456642461,57.65412866624853,62.923146289747926,67.89677338617321,68.28642741736616,65.9886136538919,69.19357144166996,72.02025428407269,79.43092950605265,70.8728890641592,71.28775195361382,69.62777042116916,60.40614392350479,69.86743062275391,70.30115104970513,82.31621056242643,69.03819517609439,71.50773671166806,69.82644115147379,64.15660981190234,75.7141140725751,73.75966516343387,73.95515973521523,65.4530627260263,77.0139715546805,62.990744686038596,72.93428546900135,80.95227812904989,65.04731837434656,67.16851135198614,70.4982568254382,67.48262172941901,62.24668284466934,70.34281487403014,64.68848143136948,72.36796215317591,65.40287882883098,77.7496720250877,66.08373353831881,68.38969241897162,74.06758608684835,63.84567841783022,71.13729967302065,76.53571377141213,61.96258382719386,70.92316929266153,71.29941397124212,73.90911435888655,63.81524644560959,63.39771693457862,72.60970782808448,71.48492336616593,71.25246425172938,71.73224104748488,66.59987639210755,71.16126848580502,71.46536236649341,66.42824290986816,79.32887255572378,72.36916460455893,64.04348251398676,73.28276804316914,65.1265916488634,73.93542301871226,75.79297789503703,65.89658840824144,74.8168806462216,72.06390463468249,74.11030079997245,79.48396491326974,68.77305941998564,66.23131917821256,65.55242785187238,65.92094857517282,69.61449145292949,71.70575987408321,71.38345399665009,74.13591624518011,70.06500945938953,77.26767038578659,68.67671583381022,83.6008458329481,73.12833673882503,65.71421221791859,64.64553750969444,72.41236207621593,68.88268607337075,73.57000247046047,72.36618812286773,69.63585543671563,65.76603140965797,62.42576387657068,67.76742523966489,74.28199397161737,71.07046872065102,63.77130610644006,70.86590462925591,71.92658689864419,65.58071281899433,70.76862552972764,70.29104359223,64.28514851084688,82.86229888278626,84.48627621094587,88.66440994540221,88.43041641627923,68.97864505634327,72.49739968067902,84.12028213766928,84.11028760729766,84.12038149044838,110.82185192523777,84.56712408554533,89.08452512144478,87.63201410794562,85.21113001044638,77.47784604287723,86.07175376394613,73.81739828369942,78.10545114607993,76.11709161736717,80.65499311509058,98.51726853338806,65.06187845926601,85.4900815229961,67.09827303048279,76.22454507368454,88.71160477573893,80.5142401527637,71.37804177656555,74.27757032592025,85.4367819914774,74.1570669462629,81.7316687166558,80.3645747192305,74.78719721915347,97.1515527146026,85.07135217854409,63.798859306739146,81.49163451815542,74.70570828185289,86.81946667836979,73.65983409253839,79.0821084682648,84.03989823184365,86.92604155336097,70.3976287435538,77.32399011327242,76.20043751071235,74.7733661394103,94.12363392224877,83.23985368768764,69.91292836531964,87.34289557643821,96.97724957610106,88.25972208440918,67.8450402723679,76.12612741707,90.13528919349298,74.33864427504976,83.55055542516983,86.19707242743469,72.58455622737533,79.5237971515056,54.06986127944742,71.80489886932568,77.97945478885472,70.01773454428121,93.05929043145308,68.55886897631494,76.47964410642413,81.04592461828874,91.53018631252893,68.51310279056449,89.30531001723968,80.0818644881567,72.14793079161639,83.69682779410617,81.59247756458777,75.19826498272964,80.55841667992016,76.91749122510592,80.90813876200998,85.29704539616837,92.68813452916282,70.0974760093852,97.06426699725013,64.38329760381998,78.78571923971533,84.70653765187662,82.24793494188026,75.01840384143524,78.3350219971418,76.05599252272934,75.2850819444463,86.7968167761682,82.85612388772037,74.45672323791477,87.19679900346601,82.45839616701288,86.50289695071169,85.0370307353889],\"y0\":\" \",\"yaxis\":\"y\",\"type\":\"box\"}],                        {\"template\":{\"data\":{\"histogram2dcontour\":[{\"type\":\"histogram2dcontour\",\"colorbar\":{\"outlinewidth\":0,\"ticks\":\"\"},\"colorscale\":[[0.0,\"#0d0887\"],[0.1111111111111111,\"#46039f\"],[0.2222222222222222,\"#7201a8\"],[0.3333333333333333,\"#9c179e\"],[0.4444444444444444,\"#bd3786\"],[0.5555555555555556,\"#d8576b\"],[0.6666666666666666,\"#ed7953\"],[0.7777777777777778,\"#fb9f3a\"],[0.8888888888888888,\"#fdca26\"],[1.0,\"#f0f921\"]]}],\"choropleth\":[{\"type\":\"choropleth\",\"colorbar\":{\"outlinewidth\":0,\"ticks\":\"\"}}],\"histogram2d\":[{\"type\":\"histogram2d\",\"colorbar\":{\"outlinewidth\":0,\"ticks\":\"\"},\"colorscale\":[[0.0,\"#0d0887\"],[0.1111111111111111,\"#46039f\"],[0.2222222222222222,\"#7201a8\"],[0.3333333333333333,\"#9c179e\"],[0.4444444444444444,\"#bd3786\"],[0.5555555555555556,\"#d8576b\"],[0.6666666666666666,\"#ed7953\"],[0.7777777777777778,\"#fb9f3a\"],[0.8888888888888888,\"#fdca26\"],[1.0,\"#f0f921\"]]}],\"heatmap\":[{\"type\":\"heatmap\",\"colorbar\":{\"outlinewidth\":0,\"ticks\":\"\"},\"colorscale\":[[0.0,\"#0d0887\"],[0.1111111111111111,\"#46039f\"],[0.2222222222222222,\"#7201a8\"],[0.3333333333333333,\"#9c179e\"],[0.4444444444444444,\"#bd3786\"],[0.5555555555555556,\"#d8576b\"],[0.6666666666666666,\"#ed7953\"],[0.7777777777777778,\"#fb9f3a\"],[0.8888888888888888,\"#fdca26\"],[1.0,\"#f0f921\"]]}],\"heatmapgl\":[{\"type\":\"heatmapgl\",\"colorbar\":{\"outlinewidth\":0,\"ticks\":\"\"},\"colorscale\":[[0.0,\"#0d0887\"],[0.1111111111111111,\"#46039f\"],[0.2222222222222222,\"#7201a8\"],[0.3333333333333333,\"#9c179e\"],[0.4444444444444444,\"#bd3786\"],[0.5555555555555556,\"#d8576b\"],[0.6666666666666666,\"#ed7953\"],[0.7777777777777778,\"#fb9f3a\"],[0.8888888888888888,\"#fdca26\"],[1.0,\"#f0f921\"]]}],\"contourcarpet\":[{\"type\":\"contourcarpet\",\"colorbar\":{\"outlinewidth\":0,\"ticks\":\"\"}}],\"contour\":[{\"type\":\"contour\",\"colorbar\":{\"outlinewidth\":0,\"ticks\":\"\"},\"colorscale\":[[0.0,\"#0d0887\"],[0.1111111111111111,\"#46039f\"],[0.2222222222222222,\"#7201a8\"],[0.3333333333333333,\"#9c179e\"],[0.4444444444444444,\"#bd3786\"],[0.5555555555555556,\"#d8576b\"],[0.6666666666666666,\"#ed7953\"],[0.7777777777777778,\"#fb9f3a\"],[0.8888888888888888,\"#fdca26\"],[1.0,\"#f0f921\"]]}],\"surface\":[{\"type\":\"surface\",\"colorbar\":{\"outlinewidth\":0,\"ticks\":\"\"},\"colorscale\":[[0.0,\"#0d0887\"],[0.1111111111111111,\"#46039f\"],[0.2222222222222222,\"#7201a8\"],[0.3333333333333333,\"#9c179e\"],[0.4444444444444444,\"#bd3786\"],[0.5555555555555556,\"#d8576b\"],[0.6666666666666666,\"#ed7953\"],[0.7777777777777778,\"#fb9f3a\"],[0.8888888888888888,\"#fdca26\"],[1.0,\"#f0f921\"]]}],\"mesh3d\":[{\"type\":\"mesh3d\",\"colorbar\":{\"outlinewidth\":0,\"ticks\":\"\"}}],\"scatter\":[{\"fillpattern\":{\"fillmode\":\"overlay\",\"size\":10,\"solidity\":0.2},\"type\":\"scatter\"}],\"parcoords\":[{\"type\":\"parcoords\",\"line\":{\"colorbar\":{\"outlinewidth\":0,\"ticks\":\"\"}}}],\"scatterpolargl\":[{\"type\":\"scatterpolargl\",\"marker\":{\"colorbar\":{\"outlinewidth\":0,\"ticks\":\"\"}}}],\"bar\":[{\"error_x\":{\"color\":\"#2a3f5f\"},\"error_y\":{\"color\":\"#2a3f5f\"},\"marker\":{\"line\":{\"color\":\"#E5ECF6\",\"width\":0.5},\"pattern\":{\"fillmode\":\"overlay\",\"size\":10,\"solidity\":0.2}},\"type\":\"bar\"}],\"scattergeo\":[{\"type\":\"scattergeo\",\"marker\":{\"colorbar\":{\"outlinewidth\":0,\"ticks\":\"\"}}}],\"scatterpolar\":[{\"type\":\"scatterpolar\",\"marker\":{\"colorbar\":{\"outlinewidth\":0,\"ticks\":\"\"}}}],\"histogram\":[{\"marker\":{\"pattern\":{\"fillmode\":\"overlay\",\"size\":10,\"solidity\":0.2}},\"type\":\"histogram\"}],\"scattergl\":[{\"type\":\"scattergl\",\"marker\":{\"colorbar\":{\"outlinewidth\":0,\"ticks\":\"\"}}}],\"scatter3d\":[{\"type\":\"scatter3d\",\"line\":{\"colorbar\":{\"outlinewidth\":0,\"ticks\":\"\"}},\"marker\":{\"colorbar\":{\"outlinewidth\":0,\"ticks\":\"\"}}}],\"scattermapbox\":[{\"type\":\"scattermapbox\",\"marker\":{\"colorbar\":{\"outlinewidth\":0,\"ticks\":\"\"}}}],\"scatterternary\":[{\"type\":\"scatterternary\",\"marker\":{\"colorbar\":{\"outlinewidth\":0,\"ticks\":\"\"}}}],\"scattercarpet\":[{\"type\":\"scattercarpet\",\"marker\":{\"colorbar\":{\"outlinewidth\":0,\"ticks\":\"\"}}}],\"carpet\":[{\"aaxis\":{\"endlinecolor\":\"#2a3f5f\",\"gridcolor\":\"white\",\"linecolor\":\"white\",\"minorgridcolor\":\"white\",\"startlinecolor\":\"#2a3f5f\"},\"baxis\":{\"endlinecolor\":\"#2a3f5f\",\"gridcolor\":\"white\",\"linecolor\":\"white\",\"minorgridcolor\":\"white\",\"startlinecolor\":\"#2a3f5f\"},\"type\":\"carpet\"}],\"table\":[{\"cells\":{\"fill\":{\"color\":\"#EBF0F8\"},\"line\":{\"color\":\"white\"}},\"header\":{\"fill\":{\"color\":\"#C8D4E3\"},\"line\":{\"color\":\"white\"}},\"type\":\"table\"}],\"barpolar\":[{\"marker\":{\"line\":{\"color\":\"#E5ECF6\",\"width\":0.5},\"pattern\":{\"fillmode\":\"overlay\",\"size\":10,\"solidity\":0.2}},\"type\":\"barpolar\"}],\"pie\":[{\"automargin\":true,\"type\":\"pie\"}]},\"layout\":{\"autotypenumbers\":\"strict\",\"colorway\":[\"#636efa\",\"#EF553B\",\"#00cc96\",\"#ab63fa\",\"#FFA15A\",\"#19d3f3\",\"#FF6692\",\"#B6E880\",\"#FF97FF\",\"#FECB52\"],\"font\":{\"color\":\"#2a3f5f\"},\"hovermode\":\"closest\",\"hoverlabel\":{\"align\":\"left\"},\"paper_bgcolor\":\"white\",\"plot_bgcolor\":\"#E5ECF6\",\"polar\":{\"bgcolor\":\"#E5ECF6\",\"angularaxis\":{\"gridcolor\":\"white\",\"linecolor\":\"white\",\"ticks\":\"\"},\"radialaxis\":{\"gridcolor\":\"white\",\"linecolor\":\"white\",\"ticks\":\"\"}},\"ternary\":{\"bgcolor\":\"#E5ECF6\",\"aaxis\":{\"gridcolor\":\"white\",\"linecolor\":\"white\",\"ticks\":\"\"},\"baxis\":{\"gridcolor\":\"white\",\"linecolor\":\"white\",\"ticks\":\"\"},\"caxis\":{\"gridcolor\":\"white\",\"linecolor\":\"white\",\"ticks\":\"\"}},\"coloraxis\":{\"colorbar\":{\"outlinewidth\":0,\"ticks\":\"\"}},\"colorscale\":{\"sequential\":[[0.0,\"#0d0887\"],[0.1111111111111111,\"#46039f\"],[0.2222222222222222,\"#7201a8\"],[0.3333333333333333,\"#9c179e\"],[0.4444444444444444,\"#bd3786\"],[0.5555555555555556,\"#d8576b\"],[0.6666666666666666,\"#ed7953\"],[0.7777777777777778,\"#fb9f3a\"],[0.8888888888888888,\"#fdca26\"],[1.0,\"#f0f921\"]],\"sequentialminus\":[[0.0,\"#0d0887\"],[0.1111111111111111,\"#46039f\"],[0.2222222222222222,\"#7201a8\"],[0.3333333333333333,\"#9c179e\"],[0.4444444444444444,\"#bd3786\"],[0.5555555555555556,\"#d8576b\"],[0.6666666666666666,\"#ed7953\"],[0.7777777777777778,\"#fb9f3a\"],[0.8888888888888888,\"#fdca26\"],[1.0,\"#f0f921\"]],\"diverging\":[[0,\"#8e0152\"],[0.1,\"#c51b7d\"],[0.2,\"#de77ae\"],[0.3,\"#f1b6da\"],[0.4,\"#fde0ef\"],[0.5,\"#f7f7f7\"],[0.6,\"#e6f5d0\"],[0.7,\"#b8e186\"],[0.8,\"#7fbc41\"],[0.9,\"#4d9221\"],[1,\"#276419\"]]},\"xaxis\":{\"gridcolor\":\"white\",\"linecolor\":\"white\",\"ticks\":\"\",\"title\":{\"standoff\":15},\"zerolinecolor\":\"white\",\"automargin\":true,\"zerolinewidth\":2},\"yaxis\":{\"gridcolor\":\"white\",\"linecolor\":\"white\",\"ticks\":\"\",\"title\":{\"standoff\":15},\"zerolinecolor\":\"white\",\"automargin\":true,\"zerolinewidth\":2},\"scene\":{\"xaxis\":{\"backgroundcolor\":\"#E5ECF6\",\"gridcolor\":\"white\",\"linecolor\":\"white\",\"showbackground\":true,\"ticks\":\"\",\"zerolinecolor\":\"white\",\"gridwidth\":2},\"yaxis\":{\"backgroundcolor\":\"#E5ECF6\",\"gridcolor\":\"white\",\"linecolor\":\"white\",\"showbackground\":true,\"ticks\":\"\",\"zerolinecolor\":\"white\",\"gridwidth\":2},\"zaxis\":{\"backgroundcolor\":\"#E5ECF6\",\"gridcolor\":\"white\",\"linecolor\":\"white\",\"showbackground\":true,\"ticks\":\"\",\"zerolinecolor\":\"white\",\"gridwidth\":2}},\"shapedefaults\":{\"line\":{\"color\":\"#2a3f5f\"}},\"annotationdefaults\":{\"arrowcolor\":\"#2a3f5f\",\"arrowhead\":0,\"arrowwidth\":1},\"geo\":{\"bgcolor\":\"white\",\"landcolor\":\"#E5ECF6\",\"subunitcolor\":\"white\",\"showland\":true,\"showlakes\":true,\"lakecolor\":\"white\"},\"title\":{\"x\":0.05},\"mapbox\":{\"style\":\"light\"}}},\"xaxis\":{\"anchor\":\"y\",\"domain\":[0.0,1.0],\"title\":{\"text\":\"variable\"}},\"yaxis\":{\"anchor\":\"x\",\"domain\":[0.0,1.0],\"title\":{\"text\":\"value\"}},\"legend\":{\"tracegroupgap\":0},\"margin\":{\"t\":60},\"boxmode\":\"group\"},                        {\"responsive\": true}                    ).then(function(){\n",
       "                            \n",
       "var gd = document.getElementById('987d7c4e-0385-4054-8c70-2ba4d28911c7');\n",
       "var x = new MutationObserver(function (mutations, observer) {{\n",
       "        var display = window.getComputedStyle(gd).display;\n",
       "        if (!display || display === 'none') {{\n",
       "            console.log([gd, 'removed!']);\n",
       "            Plotly.purge(gd);\n",
       "            observer.disconnect();\n",
       "        }}\n",
       "}});\n",
       "\n",
       "// Listen for the removal of the full notebook cells\n",
       "var notebookContainer = gd.closest('#notebook-container');\n",
       "if (notebookContainer) {{\n",
       "    x.observe(notebookContainer, {childList: true});\n",
       "}}\n",
       "\n",
       "// Listen for the clearing of the current output cell\n",
       "var outputEl = gd.closest('.output');\n",
       "if (outputEl) {{\n",
       "    x.observe(outputEl, {childList: true});\n",
       "}}\n",
       "\n",
       "                        })                };                });            </script>        </div>"
      ]
     },
     "metadata": {},
     "output_type": "display_data"
    },
    {
     "data": {
      "text/plain": [
       "<Figure size 600x400 with 0 Axes>"
      ]
     },
     "metadata": {},
     "output_type": "display_data"
    }
   ],
   "source": [
    "import plotly.express as px\n",
    "plt.figure(figsize=(6, 4))\n",
    "fig = px.box(df)\n",
    "fig.show()"
   ]
  },
  {
   "cell_type": "markdown",
   "id": "86822efc",
   "metadata": {},
   "source": [
    "#### Cuándo usar un Diagrama de Caja"
   ]
  },
  {
   "cell_type": "markdown",
   "id": "aabe7dfc",
   "metadata": {},
   "source": [
    "Un diagrama de caja puede ser útil cuando necesitas más información acerca de un conjunto/distribución de datos que solo las medidas de tendencia central (media, mediana y moda). Los diagramas de caja pueden ilustrar la variabilidad o dispersión de todos los puntos de datos presentes en un conjunto, dando una buena indicación de valores atípicos y qué tan simétricos son los datos.\n",
    "\n",
    "Aunque los diagramas de caja pueden parecer más simples en comparación con un histograma o un gráfico de densidad, tienen la ventaja de ocupar menos espacio, lo cual es útil al comparar distribuciones entre varios grupos o conjuntos de datos.\n",
    "\n",
    "Qué define un valor atípico, \"mínimo\" o \"máximo\" puede no estar claro todavía. La siguiente sección tratará de aclararte ese punto.\""
   ]
  },
  {
   "cell_type": "markdown",
   "id": "1911eebe",
   "metadata": {},
   "source": [
    "#### Comparación entre un diagrama de caja y la distribución normal"
   ]
  },
  {
   "cell_type": "markdown",
   "id": "903a3cf0",
   "metadata": {},
   "source": [
    "<p float=\"center\">\n",
    "  <img src=\"https://github.com/carlosalvarezh/Curso_CEC_EAFIT/blob/main/images/C02_03_BoxPlot03.png?raw=true\" width=\"350\" />\n",
    "</p>\n",
    "\n",
    "La figura superior presenta una comparativa entre un gráfico de caja con intervalos y la [función de densidad de probabilidad](https://en.wikipedia.org/wiki/Probability_density_function) (PDF) de una distribución casi normal. La razón detrás de esta ilustración radica en el hecho de que la observación de una distribución estadística es más habitual que el análisis de un gráfico de caja. Este enfoque podría contribuir a una mejor comprensión del diagrama de caja.\n",
    "\n",
    "En la siguiente figura se observa la representación mediante el diagrama de caja de la asimetría (skewness)\n",
    "<p float=\"center\">\n",
    "  <img src=\"https://github.com/carlosalvarezh/Curso_CEC_EAFIT/blob/main/images/Skewness-Boxplot.PNG?raw=true\" width=\"350\" />\n",
    "</p>"
   ]
  },
  {
   "cell_type": "markdown",
   "id": "98c9ad58",
   "metadata": {},
   "source": [
    "### Gráfico de Torta (Pie Chart)"
   ]
  },
  {
   "cell_type": "markdown",
   "id": "3f08cb5f",
   "metadata": {},
   "source": [
    "El gráfico de torta es ideal para representar proporciones y porcentajes dentro de un conjunto de categorías. Cada categoría se muestra como una porción de un círculo, donde el tamaño de cada porción está relacionado con la frecuencia relativa de esa categoría.\n",
    "\n",
    "- ***Interpretación:*** El gráfico de torta es útil para mostrar la composición de un conjunto de datos en términos de porcentajes y comparar proporciones entre categorías."
   ]
  },
  {
   "cell_type": "code",
   "execution_count": 5,
   "id": "687e3321",
   "metadata": {},
   "outputs": [
    {
     "data": {
      "image/png": "[encoded data removed]",
      "text/plain": [
       "<Figure size 640x480 with 1 Axes>"
      ]
     },
     "metadata": {},
     "output_type": "display_data"
    }
   ],
   "source": [
    "# Datos para el gráfico de torta\n",
    "labels = ['A', 'B', 'C', 'D']\n",
    "sizes = [30, 20, 15, 35]\n",
    "\n",
    "# Crear el gráfico de torta\n",
    "plt.pie(sizes, labels=labels, autopct='%1.1f%%', startangle=140)\n",
    "plt.title('Gráfico de Torta')\n",
    "plt.axis('equal')  # Equal aspect ratio ensures that pie is drawn as a circle.\n",
    "plt.show()"
   ]
  },
  {
   "cell_type": "markdown",
   "id": "0545fb04",
   "metadata": {},
   "source": [
    "### Gráfico de Líneas"
   ]
  },
  {
   "cell_type": "markdown",
   "id": "9ff85ffd",
   "metadata": {},
   "source": [
    "El gráfico de líneas se utiliza para representar la evolución de una variable a lo largo del tiempo o algún otro orden secuencial. Conecta puntos de datos con líneas rectas, lo que facilita la observación de tendencias y patrones temporales.\n",
    "\n",
    "- ***Interpretación:*** Un gráfico de líneas nos permite identificar cambios a lo largo del tiempo y evaluar la dirección y la magnitud de las tendencias."
   ]
  },
  {
   "cell_type": "code",
   "execution_count": 7,
   "id": "7058ac94",
   "metadata": {},
   "outputs": [
    {
     "data": {
      "image/png": "[encoded data removed]",
      "text/plain": [
       "<Figure size 640x480 with 1 Axes>"
      ]
     },
     "metadata": {},
     "output_type": "display_data"
    }
   ],
   "source": [
    "# Generar datos aleatorios para el ejemplo\n",
    "x = np.linspace(0, 10, 100)\n",
    "y = np.sin(x)\n",
    "\n",
    "# Crear el gráfico de líneas\n",
    "plt.plot(x, y)\n",
    "plt.title('Gráfico de Líneas')\n",
    "plt.xlabel('X')\n",
    "plt.ylabel('Y')\n",
    "plt.show()\n"
   ]
  },
  {
   "cell_type": "markdown",
   "id": "c32491d6",
   "metadata": {},
   "source": [
    "### Gráfico de Violín"
   ]
  },
  {
   "cell_type": "markdown",
   "id": "f831f87e",
   "metadata": {},
   "source": [
    "#### Introducción"
   ]
  },
  {
   "cell_type": "markdown",
   "id": "8af3dd0e",
   "metadata": {},
   "source": [
    "El [gráfico de violín](https://en.wikipedia.org/wiki/Violin_plot) es una herramienta de visualización que combina las características del diagrama de caja y el gráfico de densidad en una sola representación. Proporciona información detallada sobre la distribución de los datos, incluyendo medidas de tendencia central, dispersión y densidad.\n",
    "\n",
    "En comparación con los gráficos mencionados anteriormente, el gráfico de violín ofrece una representación más completa de la distribución de los datos, incluyendo información sobre la forma de la distribución y su densidad. Si bien los otros gráficos son valiosos en sus propios contextos, el gráfico de violín puede proporcionar una perspectiva adicional que puede ser especialmente útil en situaciones en las que se busca una comprensión más detallada de la distribución de los datos."
   ]
  },
  {
   "cell_type": "markdown",
   "id": "703d7d48",
   "metadata": {},
   "source": [
    "#### Usos del gráfico de Violín"
   ]
  },
  {
   "cell_type": "markdown",
   "id": "541bbd7f",
   "metadata": {},
   "source": [
    "- ***Visualización de Distribución:*** Al igual que el diagrama de caja, el gráfico de violín es útil para visualizar la distribución de datos, incluyendo la concentración, simetría y la presencia de valores atípicos.\n",
    "<p>&nbsp;</p>\n",
    "\n",
    "\n",
    "- ***Comparación entre Grupos:*** Puede emplearse para comparar la distribución de múltiples grupos en una sola representación, lo que puede ser más eficiente que crear múltiples gráficos de caja separados.\n",
    "<p>&nbsp;</p>\n",
    "\n",
    "\n",
    "- ***Densidad de Datos:*** El ancho del violín refleja la densidad de datos en diferentes valores, lo que permite obtener una idea de la concentración de los datos en distintas partes de la distribución."
   ]
  },
  {
   "cell_type": "markdown",
   "id": "fd13fad0",
   "metadata": {},
   "source": [
    "#### Componentes del Gráfico de Violín"
   ]
  },
  {
   "cell_type": "markdown",
   "id": "4a9f50f7",
   "metadata": {},
   "source": [
    "- ***Violines Dobles:*** Los violines aparecen en pares, uno para cada categoría o grupo que deseamos comparar en el eje $X$. La forma de cada violín refleja la distribución de datos en ese grupo.\n",
    "<p>&nbsp;</p>\n",
    "\n",
    "- ***Área Rellena:*** El área del violín muestra la densidad de datos en diferentes valores a lo largo del eje $X$. Un violín más ancho indica una mayor densidad de datos en esa región, mientras que uno más estrecho indica menos densidad.\n",
    "<p>&nbsp;</p>\n",
    "\n",
    "- ***Línea Central:*** Una línea en el centro de cada violín representa la mediana, lo que nos proporciona una medida de tendencia central.\n",
    "<p>&nbsp;</p>\n",
    "\n",
    "- ***Puntos o Marcas:*** Algunos gráficos de violín también incluyen puntos o marcas que indican valores individuales, lo que puede ser útil para identificar valores atípicos."
   ]
  },
  {
   "cell_type": "code",
   "execution_count": 8,
   "id": "df131d34",
   "metadata": {},
   "outputs": [
    {
     "data": {
      "image/png": "[encoded data removed]",
      "text/plain": [
       "<Figure size 1000x600 with 2 Axes>"
      ]
     },
     "metadata": {},
     "output_type": "display_data"
    }
   ],
   "source": [
    "import numpy as np\n",
    "import pandas as pd\n",
    "import seaborn as sns\n",
    "import matplotlib.pyplot as plt\n",
    "\n",
    "# Generar un DataFrame con datos aleatorios\n",
    "np.random.seed(42)\n",
    "data = {\n",
    "    'Grupo A': np.random.normal(60, 10, 100),\n",
    "    'Grupo B': np.random.normal(70, 5, 100),\n",
    "    'Grupo C': np.random.normal(80, 8, 100)\n",
    "}\n",
    "df = pd.DataFrame(data)\n",
    "\n",
    "# Crear un gráfico de violín\n",
    "plt.figure(figsize=(10, 6))\n",
    "\n",
    "plt.subplot(2, 1, 1)\n",
    "sns.violinplot(data=df)\n",
    "plt.title('Comparación Gráfico de Violín - Boxplot')\n",
    "plt.ylabel('Valores')\n",
    "\n",
    "plt.subplot(2, 1, 2)\n",
    "df.boxplot()\n",
    "plt.ylabel('Valores')\n",
    "plt.show()"
   ]
  },
  {
   "cell_type": "markdown",
   "id": "85cc7148",
   "metadata": {},
   "source": [
    "En este ejemplo, hemos utilizado la biblioteca Seaborn para crear un gráfico de violín que muestra la comparación de las distribuciones entre tres grupos ficticios (Grupo A, Grupo B y Grupo C). Cada violín representa la distribución de datos en un grupo, y el área del violín muestra la densidad de los valores a lo largo del eje $X$. La línea central en cada violín representa la mediana."
   ]
  },
  {
   "cell_type": "markdown",
   "id": "59c145a0",
   "metadata": {},
   "source": [
    "## Análisis de Normalidad y Exploración de Modelos Probabilísticos"
   ]
  },
  {
   "cell_type": "markdown",
   "id": "382d4831",
   "metadata": {},
   "source": [
    "### Introducción"
   ]
  },
  {
   "cell_type": "markdown",
   "id": "5dae81f0",
   "metadata": {},
   "source": [
    "En el mundo de la estadística, es fundamental comprender cómo los datos se distribuyen y qué modelos probabilísticos subyacen a ellos. Esto nos permite realizar inferencias, tomar decisiones informadas y construir modelos predictivos sólidos. En este tema, exploraremos el concepto de normalidad y otros modelos explicativos de la incertidumbre detrás de los datos, utilizando herramientas del ecosistema de Python, como NumPy, Pandas, Matplotlib y Seaborn."
   ]
  },
  {
   "cell_type": "markdown",
   "id": "9ce83026",
   "metadata": {},
   "source": [
    "### Análisis de Normalidad"
   ]
  },
  {
   "cell_type": "markdown",
   "id": "e0b4ea2a",
   "metadata": {},
   "source": [
    "#### Definición de la Distribución Normal"
   ]
  },
  {
   "cell_type": "markdown",
   "id": "85c15053",
   "metadata": {},
   "source": [
    "<p float=\"center\">\n",
    "  <img src=\"https://github.com/carlosalvarezh/Curso_CEC_EAFIT/blob/main/images/C02_04_Normal_Distribution.jpg?raw=true\" width=\"150\" />\n",
    "</p>\n",
    "\n",
    "La [distribución normal](https://en.wikipedia.org/wiki/Normal_distribution), también conocida como distribución gaussiana, es una de las distribuciones más importantes en estadística. Se caracteriza por su forma de campana y es ampliamente utilizada debido al [Teorema Central del Límite](https://en.wikipedia.org/wiki/Central_limit_theorem), que establece que las sumas de variables aleatorias independientes tienden a seguir una distribución normal. Está completamente definida por dos parámetros: la media ($\\mu$) y la desviación estándar ($\\sigma$). Se denota como N($\\mu$, $\\sigma^2$), donde $\\mu$ es la media y $\\sigma^2$ es la varianza. \n",
    "\n",
    "En estadísticas, una distribución normal o distribución gaussiana es un tipo de distribución de probabilidad continua para una variable aleatoria de valores reales. La forma general de su función de densidad de probabilidad es:\n",
    "\n",
    "$$f(x)=\\frac{1}{\\sigma \\sqrt{2\\pi}} e^{-\\frac{1}{2} \\left(\\frac{x-\\mu}{\\sigma} \\right)^2}$$"
   ]
  },
  {
   "cell_type": "markdown",
   "id": "99e6ae70",
   "metadata": {},
   "source": [
    "#### Características Importantes"
   ]
  },
  {
   "cell_type": "markdown",
   "id": "1d9a24b5",
   "metadata": {},
   "source": [
    "<p float=\"center\">\n",
    "  <img src=\"https://github.com/carlosalvarezh/Curso_CEC_EAFIT/blob/main/images/C02_05Standard_deviation_diagram_micro.svg?raw=true\" width=\"350\" />\n",
    "</p>\n",
    "\n",
    "\n",
    "- ***Forma Simétrica:*** La distribución normal es simétrica respecto a su media, $\\mu$. Esto significa que la mitad de la curva se encuentra a la izquierda y la otra mitad a la derecha de la media, y ambas partes son idénticas en forma.\n",
    "<p>&nbsp;</p>\n",
    "\n",
    "- ***Media, Mediana y Moda Igual:*** En una distribución normal, la mediana y la moda coinciden en el valor de la media ($\\mu$), lo que demuestra su simetría.\n",
    "<p>&nbsp;</p>\n",
    "\n",
    "- ***68-95-99.7 Regla:*** Aproximadamente el $68\\%$ de los datos se encuentran dentro de una desviación estándar de la media, $[\\mu-\\sigma, \\mu +\\sigma]$. Alrededor del $95\\%$ dentro de dos desviaciones estándar,$[\\mu-2\\sigma, \\mu +2\\sigma]$, y aproximadamente el $99.7\\%$ dentro de tres desviaciones estándar, $[\\mu-3\\sigma, \\mu +3\\sigma]$.\n",
    "<p>&nbsp;</p>\n",
    "\n",
    "- ***Distribución Estándar:*** La [distribución normal estándar ($Z$)](https://en.wikipedia.org/wiki/Standard_normal_table) es una versión especial con media $0$ y desviación estándar $1$. Cualquier distribución normal puede ser transformada en la distribución normal estándar mediante la fórmula \n",
    "\n",
    "$$Z = \\frac{(x - \\mu)}{\\sigma}$$\n",
    "\n",
    "veamos un código en python que grafica la función Normal con sus principales características"
   ]
  },
  {
   "cell_type": "code",
   "execution_count": null,
   "id": "813b9409",
   "metadata": {
    "scrolled": false
   },
   "outputs": [],
   "source": [
    "import numpy as np\n",
    "import matplotlib.pyplot as plt\n",
    "import scipy.stats as stats\n",
    "\n",
    "# Parámetros de la distribución normal estandard\n",
    "mu = 0     # Media\n",
    "sigma = 1  # Desviación estándar\n",
    "\n",
    "# Generar datos de la distribución normal\n",
    "datos = np.random.normal(mu, sigma, 1000)\n",
    "\n",
    "# Crear el histograma\n",
    "plt.figure(figsize=(10, 5))\n",
    "plt.hist(datos, bins=30, density=True, alpha=0.6, color='b', label='Histograma')\n",
    "\n",
    "# Crear la curva de densidad de probabilidad teórica\n",
    "x = np.linspace(-4.0, 4.0, 100)\n",
    "pdf = stats.norm.pdf(x, mu, sigma)\n",
    "plt.plot(x, pdf, 'r-', label='Distribución Normal')\n",
    "\n",
    "# Línea vertical para la media\n",
    "plt.axvline(mu, color='k', linestyle='dashed', linewidth=1, label='$\\mu (media)$')\n",
    "\n",
    "# Líneas verticales para ±1 desviación estándar\n",
    "std_dev = sigma\n",
    "plt.axvline(mu - std_dev, color='g', linestyle='dashed', linewidth=1, label='$\\mu \\pm \\sigma$')\n",
    "plt.axvline(mu + std_dev, color='g', linestyle='dashed', linewidth=1)\n",
    "plt.axvline(mu - 2*std_dev, color='b', linestyle='dashed', linewidth=1, label='$\\mu \\pm 2\\sigma$')\n",
    "plt.axvline(mu + 2*std_dev, color='b', linestyle='dashed', linewidth=1)\n",
    "plt.axvline(mu - 3*std_dev, color='r', linestyle='dashed', linewidth=1, label='$\\mu \\pm 3\\sigma$')\n",
    "plt.axvline(mu + 3*std_dev, color='r', linestyle='dashed', linewidth=1)\n",
    "\n",
    "# Configurar el gráfico\n",
    "plt.title('Distribución Normal')\n",
    "plt.xlabel('Valores')\n",
    "plt.ylabel('Densidad de Probabilidad')\n",
    "plt.legend()\n",
    "\n",
    "# Mostrar el gráfico\n",
    "plt.grid(True)\n",
    "plt.show()\n"
   ]
  },
  {
   "cell_type": "markdown",
   "id": "3d70cb99",
   "metadata": {},
   "source": [
    "La *media* determina el centro de la curva. Esto significa que la *media* es el punto en el que la curva alcanza su punto más alto y se simetriza. Si aumentamos la *media*, la curva se moverá hacia la derecha en el eje horizontal.\n",
    "\n",
    "Por otro lado, la *desviación estándar*, $\\sigma$ estira o comprime la curva. Cuando la *desviación estándar* es pequeña, la curva resultante será estrecha y puntiaguda, lo que indica que la mayoría de los datos se encuentran cerca de la media. Por el contrario, si la *desviación estándar* es grande, la curva se ensanchará, lo que sugiere que los datos están más dispersos alrededor de la media.\n",
    "\n",
    "En resumen, estos dos parámetros, la media y la desviación estándar, son fundamentales para describir cómo se distribuyen los datos en una distribución normal y cómo se relaciona la forma de la curva con esos valores."
   ]
  },
  {
   "cell_type": "code",
   "execution_count": null,
   "id": "fc27235d",
   "metadata": {},
   "outputs": [],
   "source": [
    "import numpy as np\n",
    "import matplotlib.pyplot as plt\n",
    "from scipy.stats import norm\n",
    "\n",
    "# Parámetros de las distribuciones normales\n",
    "params = [\n",
    "    {\"mean\": 0, \"std\": 1, \"label\": \"$\\mu=0, \\sigma = 1:$ Standar Normal\"},\n",
    "    {\"mean\": 0, \"std\": 0.5, \"label\": \"$\\mu=0, \\sigma = 0.5:$ Squeezed\"},\n",
    "    {\"mean\": 0, \"std\": 2, \"label\": \"$\\mu=0, \\sigma = 2:$ Stretched\"},\n",
    "    {\"mean\": 1, \"std\": 1, \"label\": \"$\\mu=1, \\sigma = 1:$ Shifted Right\"},\n",
    "    {\"mean\": -1, \"std\": 1, \"label\": \"$\\mu=-1, \\sigma = 1:$ Shifted Left\"},\n",
    "]\n",
    "\n",
    "# Crear un rango de valores x\n",
    "x = np.linspace(-5, 5, 1000)\n",
    "\n",
    "# Configurar la figura\n",
    "plt.figure(figsize=(10, 6))\n",
    "plt.title(\"Distribuciones Normales\")\n",
    "plt.xlabel(\"Valor\")\n",
    "plt.ylabel(\"Densidad de Probabilidad\")\n",
    "\n",
    "# Graficar cada distribución normal\n",
    "for param in params:\n",
    "    y = norm.pdf(x, loc=param[\"mean\"], scale=param[\"std\"])\n",
    "    plt.plot(x, y, label=param[\"label\"])\n",
    "\n",
    "# Mostrar leyenda\n",
    "plt.legend()\n",
    "\n",
    "# Mostrar la figura\n",
    "plt.grid(True)\n",
    "plt.show()\n"
   ]
  },
  {
   "cell_type": "markdown",
   "id": "dcbe8a19",
   "metadata": {},
   "source": [
    "#### Indicadores de Normalidad"
   ]
  },
  {
   "cell_type": "markdown",
   "id": "ab632b8f",
   "metadata": {},
   "source": [
    "##### Histograma y Gráficos de Densidad"
   ]
  },
  {
   "cell_type": "markdown",
   "id": "e3ad988f",
   "metadata": {},
   "source": [
    "El histograma es una representación gráfica de la distribución de frecuencias de los datos. Divide el rango de valores en intervalos (llamados \"bins\") y muestra cuántos datos caen en cada intervalo. Los gráficos de densidad muestran la estimación de la densidad de probabilidad de los datos, proporcionando una visión suave de la distribución.\n",
    "\n",
    "***Uso:*** Estos gráficos permiten visualizar la forma general de la distribución y detectar signos de simetría o asimetría, además de ayudar a identificar valores atípicos.\n"
   ]
  },
  {
   "cell_type": "code",
   "execution_count": null,
   "id": "94b6084c",
   "metadata": {},
   "outputs": [],
   "source": [
    "import numpy as np\n",
    "import matplotlib.pyplot as plt\n",
    "import seaborn as sns\n",
    "\n",
    "# Generar datos simulados con distribución normal\n",
    "np.random.seed(42)\n",
    "data = np.random.normal(loc=0, scale=2, size=1000)\n",
    "\n",
    "# Histograma y Gráfico de Densidad\n",
    "plt.figure(figsize=(3, 1))\n",
    "\n",
    "fig, ax = plt.subplots()\n",
    "ax.remove()\n",
    "plt.subplot(1, 2, 1)\n",
    "sns.histplot(data, bins=20, kde=True)\n",
    "plt.title(\"Histograma\")\n",
    "\n",
    "plt.subplot(1, 2, 2)\n",
    "sns.kdeplot(data)\n",
    "plt.title(\"Gráfico de Densidad\")\n",
    "\n",
    "plt.tight_layout()\n",
    "plt.show()\n"
   ]
  },
  {
   "cell_type": "markdown",
   "id": "658a32aa",
   "metadata": {},
   "source": [
    "##### Gráfico Cuantil-Cuantil (Q-Q plot)"
   ]
  },
  {
   "cell_type": "markdown",
   "id": "9bd05eee",
   "metadata": {},
   "source": [
    "Compara los cuantiles observados de los datos con los cuantiles esperados de una distribución teórica (como la normal). Si los puntos en el gráfico se ajustan aproximadamente a una línea diagonal, los datos son consistentes con la distribución teórica.\n",
    "\n",
    "***Uso:*** Es una herramienta visual para evaluar la normalidad de los datos y detectar desviaciones significativas de la distribución normal."
   ]
  },
  {
   "cell_type": "code",
   "execution_count": null,
   "id": "dacde24c",
   "metadata": {},
   "outputs": [],
   "source": [
    "import numpy as np\n",
    "import matplotlib.pyplot as plt\n",
    "import statsmodels.api as sm\n",
    "import scipy.stats as stats\n",
    "\n",
    "# Generar datos simulados con distribución normal\n",
    "np.random.seed(42)\n",
    "data = np.random.normal(loc=0, scale=1, size=1000)\n",
    "\n",
    "# Gráfico Cuantil-Cuantil\n",
    "sm.qqplot(data, line='45')\n",
    "plt.title(\"Gráfico Cuantil-Cuantil\")\n",
    "plt.show()\n"
   ]
  },
  {
   "cell_type": "markdown",
   "id": "ba6d8555",
   "metadata": {},
   "source": [
    "##### Prueba de Normalidad (Shapiro-Wilk, Anderson-Darling)"
   ]
  },
  {
   "cell_type": "code",
   "execution_count": null,
   "id": "7bf65839",
   "metadata": {
    "scrolled": true
   },
   "outputs": [],
   "source": [
    "import numpy as np\n",
    "import scipy.stats as stats\n",
    "\n",
    "# Generar datos simulados con distribución normal\n",
    "np.random.seed(42)\n",
    "data = np.random.normal(loc=0, scale=1, size=1000)\n",
    "\n",
    "# data = pd.DataFrame('Data/datos.csv') # cuando los datos provienen de un file\n",
    "\n",
    "\n",
    "# Prueba de Normalidad Shapiro-Wilk\n",
    "shapiro_stat, shapiro_p_value = stats.shapiro(data)\n",
    "print(f\"Estadístico de Shapiro-Wilk: {shapiro_stat}\")\n",
    "print(f\"P-valor de Shapiro-Wilk: {shapiro_p_value}\")\n",
    "\n",
    "# Prueba de Normalidad Anderson-Darling\n",
    "anderson_stat, anderson_critical_values, anderson_significance_levels = stats.anderson(data)\n",
    "print(f\"Estadístico de Anderson-Darling: {anderson_stat}\")\n",
    "print(f\"Valores Críticos de Anderson-Darling: {anderson_critical_values}\")\n"
   ]
  },
  {
   "cell_type": "markdown",
   "id": "f316cba5",
   "metadata": {},
   "source": [
    "De estos resultados podemos concluir:"
   ]
  },
  {
   "cell_type": "markdown",
   "id": "28fe7cd6",
   "metadata": {},
   "source": [
    "***Prueba de Shapiro-Wilk:***\n",
    "\n",
    "- El estadístico de $Shapiro-Wilk = 0.9986080527305603$ proporciona una medida de cuán cerca están los datos de una distribución normal. Cuanto más cerca esté este valor de 1, más normales se consideran los datos.\n",
    "<p>&nbsp;</p>\n",
    "\n",
    "- El $\\text{p-valor de Shapiro-Wilk} = 0.6264819502830505$ representa la probabilidad de obtener un estadístico de prueba tan extremo como el observado, dado que los datos provienen de una distribución normal. Un p-valor alto sugiere que no hay suficiente evidencia para rechazar la hipótesis nula de que los datos son normales.\n",
    "\n",
    "***Interpretación:***\n",
    "\n",
    "- Si el estadístico de *Shapiro-Wilk* está cerca de $1$ y el *p-valor* es mayor que un nivel de significancia predefinido (como $0.05$), no podemos rechazar la hipótesis de que los datos provienen de una distribución normal. En este caso, los datos pueden considerarse aproximadamente normales."
   ]
  },
  {
   "cell_type": "markdown",
   "id": "597dd335",
   "metadata": {},
   "source": [
    "***Prueba de Anderson-Darling:***\n",
    "\n",
    "- El estadístico de $Anderson-Darling = 0.3474697767348971$ se compara con valores críticos específicos para diferentes niveles de significancia. Un estadístico más bajo sugiere una mejor ajuste a la distribución normal.\n",
    "<p>&nbsp;</p>\n",
    "\n",
    "- Los valores críticos de $Anderson-Darling: [0.574, 0.653, 0.784, 0.914, 1.088]$ son umbrales que indican qué tan pequeño debe ser el estadístico de *Anderson-Darling* para considerar que los datos siguen una distribución normal a un nivel de significancia específico.\n",
    "\n",
    "***Interpretación:***\n",
    "\n",
    "- Si el estadístico de *Anderson-Darling* es menor que el valor crítico correspondiente al nivel de significancia deseado, no hay evidencia suficiente para rechazar la hipótesis nula de normalidad. En este caso, los datos pueden considerarse aproximadamente normales."
   ]
  },
  {
   "cell_type": "markdown",
   "id": "c9c4b0c9",
   "metadata": {},
   "source": [
    "***Nota:*** *Recuerda que la interpretación puede variar según el contexto y el nivel de significancia elegido. En general, es importante considerar tanto el estadístico como el p-valor y compararlos con umbrales de referencia para tomar decisiones informadas sobre la normalidad de los datos.*"
   ]
  },
  {
   "cell_type": "markdown",
   "id": "60dbfe24",
   "metadata": {},
   "source": [
    "### Modelos Probabilísticos"
   ]
  },
  {
   "cell_type": "markdown",
   "id": "ee28b88a",
   "metadata": {},
   "source": [
    "#### Distribución Uniforme"
   ]
  },
  {
   "cell_type": "markdown",
   "id": "707a60e1",
   "metadata": {},
   "source": [
    "La distribución uniforme es un modelo en el que todos los valores dentro de un intervalo tienen la misma probabilidad de ocurrencia. En otras palabras, todos los valores son igualmente probables.\n",
    "\n",
    "***Uso:*** La distribución uniforme se utiliza en situaciones donde no hay razón para esperar que un valor sea más probable que otro dentro de un rango dado.\n",
    "\n",
    "***Parámetros:***\n",
    "\n",
    "- ***low:*** Valor más bajo del intervalo.\n",
    "<p>&nbsp;</p>\n",
    "- ***high:*** Valor más alto del intervalo."
   ]
  },
  {
   "cell_type": "code",
   "execution_count": null,
   "id": "895b89ba",
   "metadata": {},
   "outputs": [],
   "source": [
    "import numpy as np\n",
    "import matplotlib.pyplot as plt\n",
    "\n",
    "# Generar datos simulados con distribución uniforme\n",
    "uniform_data = np.random.uniform(low=0, high=10, size=10)\n",
    "\n",
    "# Histograma de la Distribución Uniforme\n",
    "plt.figure(figsize=(8, 6))\n",
    "plt.hist(uniform_data, bins=20, density=True, alpha=0.7)\n",
    "plt.title(\"Distribución Uniforme\")\n",
    "plt.xlabel(\"Valores\")\n",
    "plt.ylabel(\"Densidad de Probabilidad\")\n",
    "plt.show()\n"
   ]
  },
  {
   "cell_type": "markdown",
   "id": "b4752a5c",
   "metadata": {},
   "source": [
    "#### Distribución Exponencial"
   ]
  },
  {
   "cell_type": "markdown",
   "id": "1fafc6c0",
   "metadata": {},
   "source": [
    "La [distribución exponencial](https://en.wikipedia.org/wiki/Exponential_distribution) modela el tiempo entre eventos en un [proceso de Poisson](https://en.wikipedia.org/wiki/Poisson_point_process), donde los eventos ocurren de manera constante en el tiempo. Es útil para describir tiempos de espera y tasas de decaimiento.\n",
    "\n",
    "***Uso:*** Se utiliza para modelar el tiempo entre eventos o la duración hasta el próximo evento en procesos que ocurren de manera constante.\n",
    "\n",
    "Su [función de densidad de probabilidad](https://en.wikipedia.org/wiki/Probability_density_function) está dada por:\n",
    "\n",
    "$$f_X(x)=\\lambda e^{-\\lambda x}$$\n",
    "\n",
    "para $x \\geq 0$\n",
    "\n",
    "***Parámetros:***\n",
    "\n",
    "- ***scale (o beta):*** Inverso de la tasa de eventos. Mayor valor indica eventos menos frecuentes."
   ]
  },
  {
   "cell_type": "code",
   "execution_count": null,
   "id": "c6d048d7",
   "metadata": {},
   "outputs": [],
   "source": [
    "import numpy as np\n",
    "import matplotlib.pyplot as plt\n",
    "\n",
    "# Generar datos simulados con distribución exponencial\n",
    "exponential_data = np.random.exponential(scale=2, size=1000)\n",
    "\n",
    "# Histograma de la Distribución Exponencial\n",
    "plt.figure(figsize=(8, 6))\n",
    "plt.hist(exponential_data, bins=20, density=True, alpha=0.7)\n",
    "plt.title(\"Distribución Exponencial\")\n",
    "plt.xlabel(\"Valores\")\n",
    "plt.ylabel(\"Densidad de Probabilidad\")\n",
    "plt.show()\n"
   ]
  },
  {
   "cell_type": "markdown",
   "id": "0c644b5a",
   "metadata": {},
   "source": [
    "#### Distribución Poisson"
   ]
  },
  {
   "cell_type": "markdown",
   "id": "efb83b2c",
   "metadata": {},
   "source": [
    "La distribución de Poisson modela la cantidad de eventos que ocurren en un intervalo de tiempo o espacio, cuando los eventos son raros y aleatorios, pero tienen una tasa promedio conocida.\n",
    "\n",
    "***Uso:*** Se utiliza para modelar el número de eventos que ocurren en un intervalo específico, como el número de llamadas telefónicas en un período de tiempo.\n",
    "\n",
    "***Parámetros:***\n",
    "\n",
    "- ***$\\mu$:*** Tasa media de ocurrencia de eventos en el intervalo."
   ]
  },
  {
   "cell_type": "code",
   "execution_count": null,
   "id": "33276606",
   "metadata": {},
   "outputs": [],
   "source": [
    "import numpy as np\n",
    "import matplotlib.pyplot as plt\n",
    "\n",
    "# Generar datos simulados con distribución de Poisson\n",
    "poisson_data = np.random.poisson(lam=3, size=1000000)\n",
    "\n",
    "# Histograma de la Distribución de Poisson\n",
    "plt.figure(figsize=(8, 6))\n",
    "plt.hist(poisson_data, bins=10, density=True, alpha=0.7)\n",
    "plt.title(\"Distribución de Poisson\")\n",
    "plt.xlabel(\"Valores\")\n",
    "plt.ylabel(\"Densidad de Probabilidad\")\n",
    "plt.show()\n"
   ]
  },
  {
   "cell_type": "markdown",
   "id": "2c90e3d4",
   "metadata": {},
   "source": [
    "<div class=\"alert alert alert-info\">\n",
    "En el documento <a href=\"./CrashCourse06_DistribucionesProbabilidad.ipynb\">CrashCourse06_DistribucionesProbabilidad</a> encontrará una discusión más ámplia sobre distribuciones de probabilidad.\n",
    "</div>"
   ]
  },
  {
   "cell_type": "markdown",
   "id": "63a17cd6",
   "metadata": {},
   "source": [
    "## Estimación Puntual de Indicadores y margen de error"
   ]
  },
  {
   "cell_type": "markdown",
   "id": "076294b1",
   "metadata": {},
   "source": [
    "### Introducción"
   ]
  },
  {
   "cell_type": "markdown",
   "id": "2ba6dc31",
   "metadata": {},
   "source": [
    "En estadística, uno de los objetivos fundamentales es obtener información confiable y útil sobre una población a partir de una muestra de datos. La estimación puntual y la construcción de intervalos de confianza son herramientas esenciales para lograr esto. En este capítulo, exploraremos cómo estimar parámetros poblacionales a partir de muestras y cómo medir la incertidumbre asociada a estas estimaciones."
   ]
  },
  {
   "cell_type": "markdown",
   "id": "6fdd516e",
   "metadata": {},
   "source": [
    "### Estimación Puntual"
   ]
  },
  {
   "cell_type": "markdown",
   "id": "6309dae4",
   "metadata": {},
   "source": [
    "La Estimación Puntual se refiere a la técnica de calcular un valor numérico para un parámetro poblacional utilizando información de una muestra de datos. El objetivo es encontrar el mejor valor posible para el parámetro, basándose en la información que tenemos disponible. \n",
    "\n",
    "Uno de los estimadores más simples y ampliamente utilizados es la [***media muestral***](https://es.wikipedia.org/wiki/Estad%C3%ADstico_muestral), que es el valor promedio de una [muestra](https://es.wikipedia.org/wiki/Muestreo_(estad%C3%ADstica)) específica tomada de una población más grande. Dado que generalmente no tenemos acceso a toda la población, trabajamos con muestras para inferir información sobre la población en su conjunto. La media muestral se calcula de la misma manera que la <a href=\"#mean\">media aritmética</a>,</div> pero se utiliza en el contexto de una muestra y se denota a menudo como $\\bar{x}$."
   ]
  },
  {
   "cell_type": "markdown",
   "id": "4a57293f",
   "metadata": {},
   "source": [
    "### Intervalos de Confianza"
   ]
  },
  {
   "cell_type": "markdown",
   "id": "5d57ec5c",
   "metadata": {},
   "source": [
    "<p float=\"center\">\n",
    "  <img src=\"https://github.com/carlosalvarezh/Curso_CEC_EAFIT/blob/main/images/IntervaloConfianza.avif?raw=true\" width=\"300\" />\n",
    "</p>\n",
    "\n",
    "[![@akshay_pachaar](https://img.shields.io/twitter/url/https/twitter.com/akshay_pachaar.svg?style=social&label=Follow%20%40akshay_pachaar)](https://twitter.com/akshay_pachaar)"
   ]
  },
  {
   "cell_type": "markdown",
   "id": "11dc86a0",
   "metadata": {},
   "source": [
    "#### Introducción"
   ]
  },
  {
   "cell_type": "markdown",
   "id": "2d32d483",
   "metadata": {},
   "source": [
    "La Estimación Puntual es valiosa, pero también queremos cuantificar la incertidumbre asociada a nuestras estimaciones. Aquí es donde entran en juego los [*Intervalos de Confianza*](https://en.wikipedia.org/wiki/Confidence_interval). Estos intervalos proporcionan un rango de valores dentro del cual es probable que se encuentre el <font color=\"blue\">verdadero valor del parámetro poblacional</font>.\n",
    "\n",
    "Un intervalo de confianza generalmente tiene la forma: $\\text{Estimación Puntual} \\pm \\text{Margen de Error}$.\n",
    "\n",
    "El [***Margen de Error***](https://en.wikipedia.org/wiki/Margin_of_error) depende de dos factores principales: el *nivel de confianza deseado* y *la variabilidad de los datos*. Un nivel de confianza típico es del $95\\%$, lo que significa que si repitiéramos el proceso de muestreo y cálculo muchas veces, aproximadamente el $95\\%$ de los intervalos de confianza construidos contendrían el verdadero parámetro poblacional."
   ]
  },
  {
   "cell_type": "markdown",
   "id": "470d6bb0",
   "metadata": {},
   "source": [
    "#### Construcción de Intervalos de Confianza"
   ]
  },
  {
   "cell_type": "markdown",
   "id": "ce3625dd",
   "metadata": {},
   "source": [
    "Supongamos que estamos interesados en construir un intervalo de confianza para la media muestral ($\\bar{x}$) basado en una muestra de datos. Si asumimos que los datos siguen una [distribución normal](https://en.wikipedia.org/wiki/Normal_distribution), el intervalo de confianza se calcula usando la fórmula:\n",
    "\n",
    "$$\\text{Intervalo de Confianza}=\\bar{x} \\pm Z \\cdot \\frac{\\sigma}{\\sqrt{n}}$$\n",
    "\n",
    "donde:\n",
    "\n",
    "- $\\bar{x}$ es la media muestral.\n",
    "- $Z$ es el valor crítico de la distribución normal estándar correspondiente al nivel de confianza.\n",
    "- $\\sigma$ es la desviación estándar muestral.\n",
    "- $n$ es el tamaño de la muestra."
   ]
  },
  {
   "cell_type": "markdown",
   "id": "179158d7",
   "metadata": {},
   "source": [
    "***Ejemplo: Estimación de la Altura Promedio***\n",
    "\n",
    "Supongamos que queremos estimar la altura promedio de los estudiantes en una universidad. Tomamos una muestra aleatoria de 50 estudiantes y obtenemos las siguientes alturas (en centímetros):"
   ]
  },
  {
   "cell_type": "code",
   "execution_count": null,
   "id": "909327b8",
   "metadata": {},
   "outputs": [],
   "source": [
    "import numpy as np\n",
    "\n",
    "np.random.seed(42)\n",
    "altura_muestra = np.random.normal(165, 10, 50)  # Media: 165 cm, Desviación estándar: 10 cm\n",
    "\n",
    "altura_muestra_rounded = np.around(altura_muestra, decimals=2)\n",
    "#print(altura_muestra_rounded)\n",
    "\n",
    "media = np.mean(altura_muestra, dtype=np.float64)\n",
    "media_rounded = round(media, 2)  # Redondear a dos cifras decimales\n",
    "print(media_rounded)"
   ]
  },
  {
   "cell_type": "markdown",
   "id": "abcab478",
   "metadata": {},
   "source": [
    "La media muestral es $\\bar{x} = 162.75$ cm. Ahora, construyamos un intervalo de confianza al $95\\%$ para la altura promedio:"
   ]
  },
  {
   "cell_type": "code",
   "execution_count": null,
   "id": "7ba22f09",
   "metadata": {},
   "outputs": [],
   "source": [
    "import scipy.stats as stats\n",
    "\n",
    "nivel_confianza = 0.975\n",
    "grados_libertad = 49  # n - 1\n",
    "\n",
    "z_score = stats.norm.ppf(1 - (1 - nivel_confianza) / 2)  # Valor crítico\n",
    "\n",
    "margen_error = z_score * altura_muestra.std() / np.sqrt(len(altura_muestra))\n",
    "intervalo_confianza = (altura_muestra.mean() - margen_error, altura_muestra.mean() + margen_error)\n",
    "\n",
    "print(\"Intervalo de Confianza: [{0:.2f}, {1:.2f}]\".format(intervalo_confianza[0], intervalo_confianza[1]))\n"
   ]
  },
  {
   "cell_type": "markdown",
   "id": "7aa1beb6",
   "metadata": {},
   "source": [
    "### Tamaño de la muestra"
   ]
  },
  {
   "cell_type": "markdown",
   "id": "0cc84e4d",
   "metadata": {},
   "source": [
    "La [fórmula de Cochran](https://en.wikipedia.org/wiki/Sample_size_determination) es una fórmula utilizada para calcular el tamaño de muestra necesario en una encuesta o estudio de investigación cuando se trabaja con poblaciones finitas. Su objetivo es asegurar que la muestra sea lo suficientemente grande para proporcionar estimaciones precisas y confiables de una característica de la población, como una proporción o una media. La fórmula de Cochran se utiliza en situaciones en las que se conoce el tamaño de la población y se desea tomar una muestra representativa de esa población.\n",
    "\n",
    "La fórmula de Cochran se expresa de la siguiente manera:\n",
    "\n",
    "$$n = \\frac{N \\cdot Z^2 \\cdot p \\cdot (1-p)}{N \\cdot E^2 + Z^2 \\cdot p \\cdot (1-p)}$$\n",
    "\n",
    "Donde:\n",
    "\n",
    "- $n$ es el tamaño de la muestra necesario.\n",
    "- $N$ es el tamaño de la población.\n",
    "- $Z$ es el valor crítico correspondiente al nivel de confianza deseado. Este valor se obtiene de una tabla de distribución de probabilidad (por ejemplo, la tabla $Z$) y depende del nivel de confianza seleccionado.\n",
    "- $p$ es la estimación de la proporción de la población que se espera que tenga una cierta característica. Esta estimación puede basarse en datos previos o suposiciones.\n",
    "- $E$ es el margen de error deseado, que representa la máxima diferencia permitida entre la estimación de la muestra y la verdadera característica de la población.\n",
    "\n",
    "La *fórmula de Cochran* se utiliza para calcular el tamaño de muestra necesario de manera que el margen de error sea consistente con el nivel de confianza deseado y la variabilidad esperada en la población (representada por \n",
    "$p\\cdot(1−p)$). Es importante notar que esta fórmula se aplica principalmente en situaciones en las que la población es relativamente pequeña en comparación con el tamaño de la muestra, es decir, cuando se trabaja con poblaciones finitas.\n",
    "\n",
    "Para utilizar la fórmula de Cochran en un estudio específico, debes conocer el tamaño de la población ($N$), el nivel de confianza deseado, la estimación de la proporción ($p$), y el margen de error tolerable ($E$). Con estos valores, puedes calcular el tamaño de muestra necesario ($n$) para obtener resultados confiables en tu investigación."
   ]
  },
  {
   "cell_type": "code",
   "execution_count": null,
   "id": "6f67fc6d",
   "metadata": {},
   "outputs": [],
   "source": [
    "import math\n",
    "import scipy.stats as stats\n",
    "\n",
    "def calcular_tamano_muestra(N, p, E, nivel_confianza):\n",
    "    # Calcular el valor crítico Z para el nivel de confianza deseado\n",
    "    valor_critico = stats.norm.ppf((1 + nivel_confianza) / 2)\n",
    "   \n",
    "    # Calcular el tamaño de la muestra\n",
    "    numerador = N * valor_critico**2 * p * (1 - p)\n",
    "    denominador = N * E**2 + valor_critico**2 * p * (1 - p)\n",
    "    \n",
    "    tamanio_muestra = numerador / denominador\n",
    "    \n",
    "    return math.ceil(tamanio_muestra)  # Redondear hacia arriba a un número entero\n",
    "\n",
    "# Ejemplo de uso\n",
    "N = 15000000          # Tamaño de la población\n",
    "p = 0.5                 # Estimación de la proporción\n",
    "E = 0.05                # Margen de error deseado (5%)\n",
    "nivel_confianza = 0.95  # Nivel de confianza del 95%\n",
    "\n",
    "tamanio_muestra = calcular_tamano_muestra(N, p, E, nivel_confianza)\n",
    "print(f\"El tamaño de muestra necesario es: {tamanio_muestra}\")\n"
   ]
  },
  {
   "cell_type": "markdown",
   "id": "bf85514c",
   "metadata": {},
   "source": [
    "## Validación estadística de conjeturas empresariales (Pruebas de hipótesis paramétricas)"
   ]
  },
  {
   "cell_type": "markdown",
   "id": "43767eff",
   "metadata": {},
   "source": [
    "### Definición de Pruebas de Hipótesis Paramétricas"
   ]
  },
  {
   "cell_type": "markdown",
   "id": "6e725198",
   "metadata": {},
   "source": [
    "Las [pruebas de hipótesis](https://en.wikipedia.org/wiki/Statistical_hypothesis_testing) son una parte esencial de la [inferencia estadística](https://en.wikipedia.org/wiki/Statistical_inference). Se utilizan para tomar decisiones basadas en datos observados y evaluar si los resultados son consistentes con una afirmación específica. En el contexto empresarial, estas pruebas nos permiten validar conjeturas y tomar decisiones informadas.\n",
    "\n",
    "Las pruebas estadísticas de hipótesis se basan en una declaración llamada [hipótesis nula, $H0$](https://en.wikipedia.org/wiki/Null_hypothesis), que asume que no ocurre nada interesante entre las variables que se están probando. La forma exacta de la hipótesis nula varía según el tipo de prueba que se esté realizando; por ejemplo, si se está probando si los grupos difieren, la hipótesis nula afirma que los grupos son iguales. El propósito de una prueba de hipótesis es determinar si la hipótesis nula es probablemente cierta dado los datos de la muestra. Si hay poca evidencia en contra de la hipótesis nula, se acepta; si es improbable dado los datos, se podría rechazar en favor de la [hipótesis alternativa, $H1$](https://en.wikipedia.org/wiki/Alternative_hypothesis). El [nivel de significancia,  $\\alpha$](https://en.wikipedia.org/wiki/Statistical_significance), se elige para determinar cuándo rechazar la *hipótesis nula*, y el [valor $p$](https://en.wikipedia.org/wiki/P-value) se utiliza para medir la probabilidad de obtener un resultado tan extremo o más extremo que el observado debido al azar. El $t-test$ es una prueba estadística utilizada para determinar si una muestra de datos numéricos difiere significativamente de la población o si dos muestras difieren entre sí."
   ]
  },
  {
   "cell_type": "markdown",
   "id": "60e8b49e",
   "metadata": {},
   "source": [
    "### Conceptos Clave"
   ]
  },
  {
   "cell_type": "markdown",
   "id": "bcedbbf3",
   "metadata": {},
   "source": [
    "- ***Hipótesis Nula ($H0$):*** Es una afirmación que asumimos como verdadera inicialmente. Se representa como \"$H0$\" y generalmente sostiene que no hay diferencia o efecto.\n",
    "<p>&nbsp;</p>\n",
    "\n",
    "- ***Hipótesis Alternativa ($H1$):*** Es la afirmación opuesta a la hipótesis nula. Representada como \"$H1$\", suele afirmar que hay una diferencia o efecto significativo.\n",
    "<p>&nbsp;</p>\n",
    "\n",
    "- ***Nivel de Significancia ($\\alpha$):*** Es la probabilidad máxima que estamos dispuestos a aceptar para cometer un error de tipo $I$ (rechazar incorrectamente $H0$). Usualmente, se elige un valor como $0.05$ o $0.01$.\n",
    "<p>&nbsp;</p>\n",
    "\n",
    "- ***Estadístico de Prueba:*** Es una medida calculada a partir de los datos que se utiliza para tomar una decisión sobre si rechazar o no la *hipótesis nula*.\n",
    "<p>&nbsp;</p>\n",
    "\n",
    "- ***Región Crítica:*** Es el rango de valores del estadístico de prueba que conduciría al rechazo de la *hipótesis nula*."
   ]
  },
  {
   "cell_type": "markdown",
   "id": "28890131",
   "metadata": {},
   "source": [
    "### Cómo funciona"
   ]
  },
  {
   "cell_type": "markdown",
   "id": "5131662c",
   "metadata": {},
   "source": [
    "#### Hipótesis Nula"
   ]
  },
  {
   "cell_type": "markdown",
   "id": "51524b9e",
   "metadata": {},
   "source": [
    "Establecemos dos hipótesis, $H0$ (hipótesis nula) y $H1$ (hipótesis alternativa).\n",
    "\n",
    "<p float=\"center\">\n",
    "  <img src=\"https://github.com/carlosalvarezh/Curso_CEC_EAFIT/blob/main/images/HypothesisTesting.PNG?raw=true\" width=\"500\" />\n",
    "</p>\n",
    "\n",
    "Podemos tomar cuatro decisiones diferentes con la prueba de hipótesis:\n",
    "\n",
    "- Rechazar $H0$ y $H0$ no es verdadero (*sin error*)\n",
    "<p>&nbsp;</p>\n",
    "\n",
    "- No rechace $H0$ y $H0$ es verdadera (*sin error*)\n",
    "<p>&nbsp;</p>\n",
    "\n",
    "- Rechace $H0$ y $H0$ es verdadero (*Error tipo $I$*)\n",
    "<p>&nbsp;</p>\n",
    "\n",
    "- No rechace $H0$ y $H0$ no es verdadera (*error tipo $II$*)\n",
    "\n",
    "El *error tipo $I$* también se denomina *error $\\alpha$*. El *error de tipo $II$* también se denomina *error $\\beta$*.\n",
    "\n",
    "|            | Decisión                       |                                |\n",
    "|:----------:|:------------------------------:|:------------------------------:|\n",
    "|            | ***Aceptar $H0$***             | ***Rechazar $H0$***            |\n",
    "|$H0$ (True) | Decisión correcta              | Error Tipo $I$ (error $\\alpha$)|\n",
    "|$H0$ (False)| Error Tipo $II$ (error $\\beta$)| Decisión correcta              |\n"
   ]
  },
  {
   "cell_type": "markdown",
   "id": "0d2a52b0",
   "metadata": {},
   "source": [
    "####  Valor p (p-value)"
   ]
  },
  {
   "cell_type": "markdown",
   "id": "996b1803",
   "metadata": {},
   "source": [
    "El valor $p$ es la probabilidad de encontrar resultados iguales o más extremos cuando la *hipótesis nula* ($H0$) es verdadera. En otras palabras, un valor $p$ bajo significa que tenemos evidencia sólida para rechazar la *hipótesis nula*.\n",
    "\n",
    "Si el valor $p$ es menor que el $5\\%$ ($p < 0.05$), a menudo *rechazamos* $H0$ y aceptamos que $H1$ es verdadera. Decimos que $p < 0.05$ es estadísticamente significativo, porque hay menos del $5\\%$ de probabilidad de que estemos equivocados al rechazar la *hipótesis nula*.\n",
    "\n",
    "Una forma de calcular el valor $p$ es mediante una prueba $t$. Podemos utilizar la función [`ttest_ind`](https://docs.scipy.org/doc/scipy/reference/generated/scipy.stats.ttest_ind.html) de `Scipy` para calcular la prueba $t$ de las medias de dos muestras independientes de puntajes. En este ejemplo, calculamos la estadística $t$ y el valor $p$ de dos muestras aleatorias $10$ veces.\n",
    "\n",
    "Observamos que el valor $p$ a veces es muy bajo, pero esto no significa necesariamente que estas dos muestras aleatorias estén correlacionadas. Por eso, es importante tener cuidado al depender demasiado de los valores $p$. Si se repite un experimento varias veces, es posible caer en la ilusión de que hay correlación cuando en realidad solo hay aleatoriedad."
   ]
  },
  {
   "cell_type": "code",
   "execution_count": 7,
   "id": "0481db5f",
   "metadata": {},
   "outputs": [
    {
     "name": "stdout",
     "output_type": "stream",
     "text": [
      "T-statistics and p-values of two random samples.\n",
      "Ttest_indResult(statistic=0.342013277924229, pvalue=0.7363017050651052)\n",
      "Ttest_indResult(statistic=-0.6344664611138581, pvalue=0.5337580755258267)\n",
      "Ttest_indResult(statistic=-0.7160405395376778, pvalue=0.4831531378935603)\n",
      "Ttest_indResult(statistic=0.4705693573425991, pvalue=0.6436001897734837)\n",
      "Ttest_indResult(statistic=0.561046131009749, pvalue=0.5816839718166034)\n",
      "Ttest_indResult(statistic=-1.3982234376801408, pvalue=0.1790378906866038)\n",
      "Ttest_indResult(statistic=-0.6169365413295098, pvalue=0.545001882083199)\n",
      "Ttest_indResult(statistic=0.34199401207159436, pvalue=0.7363159603613516)\n",
      "Ttest_indResult(statistic=-0.9163423511578399, pvalue=0.3716017302689255)\n",
      "Ttest_indResult(statistic=0.16367685878895843, pvalue=0.8718093151450641)\n"
     ]
    }
   ],
   "source": [
    "import numpy as np\n",
    "import scipy.stats as stats\n",
    "\n",
    "# Perform t-test and compute p value of two random samples\n",
    "print('T-statistics and p-values of two random samples.')\n",
    "for _ in range(10):\n",
    "    rand_sample1 = np.random.random_sample(10)\n",
    "    rand_sample2 = np.random.random_sample(10)\n",
    "    print(stats.ttest_ind(rand_sample1, rand_sample2))"
   ]
  },
  {
   "cell_type": "markdown",
   "id": "8a3ee367",
   "metadata": {},
   "source": [
    "### Indicadores y Técnicas"
   ]
  },
  {
   "cell_type": "markdown",
   "id": "b5472351",
   "metadata": {},
   "source": [
    "En esta sección, exploraremos algunas de las pruebas de hipótesis paramétricas más comunes y cómo aplicarlas en situaciones empresariales."
   ]
  },
  {
   "cell_type": "markdown",
   "id": "6617d36c",
   "metadata": {},
   "source": [
    "#### Prueba t de Student"
   ]
  },
  {
   "cell_type": "markdown",
   "id": "01af3ced",
   "metadata": {},
   "source": [
    "##### Introducción"
   ]
  },
  {
   "cell_type": "markdown",
   "id": "aa889cd6",
   "metadata": {},
   "source": [
    "La prueba [*$t$ de Student*](https://en.wikipedia.org/wiki/Student%27s_t-distribution) es una técnica estadística que se utiliza para comparar las medias de dos grupos independientes y determinar si las diferencias observadas entre las muestras son estadísticamente significativas o simplemente se deben a la variabilidad aleatoria. Fue desarrollada por *William Sealy Gosset* y se utiliza ampliamente en la investigación y en el análisis de datos en diversas áreas, incluyendo negocios, ciencias sociales y ciencias naturales."
   ]
  },
  {
   "cell_type": "markdown",
   "id": "60957f41",
   "metadata": {},
   "source": [
    "##### Cuándo Emplear la Prueba t de Student"
   ]
  },
  {
   "cell_type": "markdown",
   "id": "02c6833c",
   "metadata": {},
   "source": [
    "La prueba [*$t$ de Student*](https://en.wikipedia.org/wiki/Student%27s_t-distribution) es apropiada cuando se cumplen ciertas condiciones y supuestos, que son los siguientes:\n",
    "\n",
    "- ***Independencia de las Muestras:*** Las muestras que se están comparando deben ser independientes entre sí. Esto significa que las observaciones en un grupo no deben estar relacionadas o influenciarse por las observaciones en el otro grupo.\n",
    "<p>&nbsp;</p>\n",
    "\n",
    "- ***Distribución Normal:*** Cada grupo debe seguir una distribución normal (gaussiana). Sin embargo, para muestras grandes (generalmente $n > 30$), la prueba *t de Student* puede ser robusta ante pequeñas desviaciones de la normalidad debido al [*Teorema del Límite Central*](https://en.wikipedia.org/wiki/Central_limit_theorem).\n",
    "<p>&nbsp;</p>\n",
    "\n",
    "- ***Homogeneidad de Varianza:*** Los grupos deben tener varianzas similares. Si las varianzas son significativamente diferentes, se deben considerar pruebas alternativas como la prueba [*$t$ de Welch*](https://en.wikipedia.org/wiki/Welch%27s_t-test)."
   ]
  },
  {
   "cell_type": "markdown",
   "id": "fcbef592",
   "metadata": {},
   "source": [
    "##### Proceso de Realización de la Prueba t de Student"
   ]
  },
  {
   "cell_type": "markdown",
   "id": "bda75deb",
   "metadata": {},
   "source": [
    "- ***Formulación de Hipótesis:***\n",
    "\n",
    "  - ***Hipótesis Nula (H0):*** Las medias de los dos grupos son iguales.\n",
    "  - ***Hipótesis Alternativa (H1):*** Las medias de los dos grupos son diferentes.\n",
    "<p>&nbsp;</p>\n",
    "\n",
    "- ***Cálculo del Estadístico de Prueba:*** Calculamos el valor $t$ utilizando la fórmula: \n",
    "\n",
    "$$t = \\frac{\\bar{x}_1 - \\bar{x}_2}{\\sigma_{pooled} \\times \\sqrt{\\frac{1}{n_1} + \\frac{1}{n_2}}}$$\n",
    "\n",
    "\n",
    "  donde $\\bar{x}_1$ y $\\bar{x}_2$ son las medias de los dos grupos, $n_1$ y $n_2$ son los tamaños de las muestras y $\\sigma_{pooled}$ es la estimación de la desviación estándar combinada.\n",
    "<p>&nbsp;</p>\n",
    "\n",
    "- ***Grados de Libertad:*** Los grados de libertad se calculan como $dof = n_1 + n_2 - 2$.\n",
    "<p>&nbsp;</p>\n",
    "\n",
    "- ***Cálculo del Valor $p$:*** Utilizamos los grados de libertad y el estadístico $t$ para calcular el valor $p$ asociado. El valor $p$ representa la probabilidad de obtener un estadístico de prueba tan extremo o más extremo que el observado, asumiendo que la hipótesis nula es verdadera.\n",
    "<p>&nbsp;</p>\n",
    "\n",
    "- ***Toma de Decisiones:*** Comparamos el valor $p$ con el nivel de significancia ($\\alpha$) predefinido. Si el valor $p < \\alpha$, rechazamos la hipótesis nula y concluimos que hay diferencias significativas entre las medias de los grupos. Si el valor $p > \\alpha$, no tenemos suficiente evidencia para rechazar la hipótesis nula.\n",
    "\n",
    "\n",
    "***Ejemplo:***\n",
    "\n",
    "Supongamos que una empresa de telecomunicaciones desea determinar si hay una diferencia significativa en la satisfacción del cliente entre dos planes de servicio, $A$ y $B$. Han recopilado muestras aleatorias de $30$ clientes para cada plan y han medido su satisfacción en una escala del $1$ al $10$."
   ]
  },
  {
   "cell_type": "code",
   "execution_count": null,
   "id": "8a466e2c",
   "metadata": {},
   "outputs": [],
   "source": [
    "import numpy as np\n",
    "from scipy.stats import ttest_ind\n",
    "#import scipy.stats as sp\n",
    "\n",
    "# Generar datos de ejemplo\n",
    "np.random.seed(42)\n",
    "plan_a = np.random.randint(5, 10, 30)\n",
    "plan_b = np.random.randint(6, 11, 30)\n",
    "\n",
    "plana_mean = plan_a.mean()\n",
    "print('media plan A: ', plana_mean)\n",
    "planb_mean = plan_b.mean()\n",
    "print('media plan B: ', planb_mean)\n",
    "\n",
    "# Prueba t de Student\n",
    "t_stat, p_valor = ttest_ind(plan_a, plan_b)\n",
    "\n",
    "print(\"Estadístico t:\", t_stat)\n",
    "print(\"Valor p:\", p_valor)\n"
   ]
  },
  {
   "cell_type": "code",
   "execution_count": null,
   "id": "25002328",
   "metadata": {},
   "outputs": [],
   "source": [
    "print(plan_a)"
   ]
  },
  {
   "cell_type": "code",
   "execution_count": null,
   "id": "15345b7f",
   "metadata": {},
   "outputs": [],
   "source": [
    "print(plan_b)"
   ]
  },
  {
   "cell_type": "markdown",
   "id": "8cf506ac",
   "metadata": {},
   "source": [
    "En este ejemplo, el valor del estadístico $t=-1.9476$. Este valor representa la magnitud de la diferencia entre las medias de los dos grupos (plan $A$ y plan $B$) en términos de desviaciones estándar combinadas. Un valor negativo indica que la media del plan $B$ es mayor que la del plan $A$ en esta muestra específica.\n",
    "\n",
    "El valor $p$ es una medida de la evidencia en contra de la hipótesis nula. Cuanto menor sea el valor $p$, más evidencia tendremos para rechazar la hipótesis nula. El valor $p = 0.0563$ está ligeramente por encima del nivel de significancia común ($\\alpha = 0.05$). Esto significa que no tenemos evidencia suficiente para rechazar la hipótesis nula en este nivel de significancia. Sin embargo, es importante tener en cuenta que existe una tendencia hacia una diferencia en las medias.\n",
    "\n",
    "Basándonos en los resultados obtenidos, no podemos afirmar con confianza que hay una diferencia significativa en la satisfacción del cliente entre los planes $A$ y $B$. Sin embargo, debido a la proximidad del valor $p$ al nivel de significancia, podríamos considerar realizar más investigaciones o recolectar más datos para obtener una conclusión más sólida."
   ]
  },
  {
   "cell_type": "markdown",
   "id": "f331067d",
   "metadata": {},
   "source": [
    "Recuerda que las pruebas estadísticas son herramientas que proporcionan evidencia, pero las conclusiones deben tomarse con precaución y en contexto. En este caso, podríamos considerar ajustar el tamaño de la muestra, explorar más sobre la distribución de los datos o utilizar otros enfoques si es necesario."
   ]
  },
  {
   "cell_type": "markdown",
   "id": "fef0d6f0",
   "metadata": {},
   "source": [
    "#### ANOVA"
   ]
  },
  {
   "cell_type": "markdown",
   "id": "2a2c4cce",
   "metadata": {},
   "source": [
    "##### Introducción"
   ]
  },
  {
   "cell_type": "markdown",
   "id": "9ec1763a",
   "metadata": {},
   "source": [
    "La [Prueba de Análisis de Varianza (ANOVA)](https://en.wikipedia.org/wiki/Analysis_of_variance) es una técnica estadística utilizada para comparar las medias de tres o más grupos independientes y determinar si al menos uno de esos grupos difiere significativamente de los demás. La *ANOVA* se basa en la idea de descomponer la variación total en los datos en dos componentes: la *variación entre grupos* y la *variación dentro de los grupos*. Esta descomposición permite evaluar si las diferencias observadas entre los grupos son significativas o simplemente se deben a la variabilidad aleatoria."
   ]
  },
  {
   "cell_type": "markdown",
   "id": "4ab57182",
   "metadata": {},
   "source": [
    "##### Cuándo emplear ANOVA"
   ]
  },
  {
   "cell_type": "markdown",
   "id": "d071ca47",
   "metadata": {},
   "source": [
    "La Prueba de *ANOVA* es apropiada en las siguientes situaciones:\n",
    "\n",
    "- ***Tres o Más Grupos:*** Se utiliza cuando se comparan tres o más grupos independientes. Si solo se están comparando dos grupos, la prueba *t de Student* es más adecuada.\n",
    "<p>&nbsp;</p>\n",
    "\n",
    "- ***Independencia de las Muestras:*** Los datos de cada grupo deben ser independientes entre sí, y no debe haber relación ni influencia entre los grupos.\n",
    "<p>&nbsp;</p>\n",
    "\n",
    "- ***Distribución Normal:*** Cada grupo debe seguir una distribución normal. Al igual que en la prueba *t*, para tamaños de muestra grandes, el *ANOVA* puede ser robusto ante pequeñas desviaciones de la normalidad debido al *Teorema del Límite Central*.\n",
    "<p>&nbsp;</p>\n",
    "\n",
    "- ***Homogeneidad de Varianza:*** Los grupos deben tener varianzas aproximadamente iguales. Si las varianzas son significativamente diferentes, podría ser más adecuado utilizar un *ANOVA* con corrección para varianzas desiguales."
   ]
  },
  {
   "cell_type": "markdown",
   "id": "19032409",
   "metadata": {},
   "source": [
    "##### Proceso de Realización de la Prueba de ANOVA"
   ]
  },
  {
   "cell_type": "markdown",
   "id": "396f78e4",
   "metadata": {},
   "source": [
    "A continuación, se presenta un proceso general para llevar a cabo una prueba de ANOVA:\n",
    "\n",
    "- ***Formulación de Hipótesis:***\n",
    "\n",
    "  - ***Hipótesis Nula (H0):*** Las medias de todos los grupos son iguales.\n",
    "  - ***Hipótesis Alternativa (H1):*** Al menos una de las medias de los grupos es diferente.\n",
    "<p>&nbsp;</p>\n",
    "\n",
    "- ***Cálculo de la Variación Total:*** Se calcula la suma total de cuadrados ($SST$) para medir la variación total en los datos.\n",
    "<p>&nbsp;</p>\n",
    "\n",
    "- ***Cálculo de la Variación Entre Grupos:*** Se calcula la suma de cuadrados entre grupos ($SSG$) para medir la variación entre las medias de los grupos.\n",
    "<p>&nbsp;</p>\n",
    "\n",
    "- ***Cálculo de la Variación Dentro de los Grupos:*** Se calcula la suma de cuadrados dentro de los grupos ($SSE$) para medir la variación dentro de cada grupo.\n",
    "<p>&nbsp;</p>\n",
    "\n",
    "- ***Cálculo del Estadístico $F$:*** Se calcula el [estadístico $F$](https://en.wikipedia.org/wiki/F-test) utilizando la relación $F = \\frac{SSG / (k-1)}{SSE / (N-k)}$, donde $k$ es el número de grupos y $N$ es el tamaño total de la muestra.\n",
    "<p>&nbsp;</p>\n",
    "\n",
    "- ***Cálculo del Valor $p$:*** Utilizamos los grados de libertad y el estadístico $F$ para calcular el valor $p$ asociado. Si el valor $p$ es menor que el nivel de significancia ($\\alpha$), rechazamos la hipótesis nula.\n",
    "\n",
    "***Ejemplo:***\n",
    "\n",
    "Supongamos que una empresa de alimentos ha desarrollado tres formulaciones diferentes de un producto y quiere determinar si existe una diferencia significativa en la satisfacción del cliente. Han recopilado muestras aleatorias de $50$ clientes para cada formulación y han medido su satisfacción en una escala del $1$ al $10$."
   ]
  },
  {
   "cell_type": "code",
   "execution_count": null,
   "id": "5e9d962d",
   "metadata": {},
   "outputs": [],
   "source": [
    "from scipy.stats import f_oneway\n",
    "\n",
    "# Generar datos de ejemplo\n",
    "np.random.seed(42)\n",
    "formulacion_1 = np.random.randint(5, 10, 50)\n",
    "formulacion_2 = np.random.randint(6, 11, 50)\n",
    "formulacion_3 = np.random.randint(6, 9, 50)\n",
    "\n",
    "# Prueba de ANOVA\n",
    "f_stat, p_valor = f_oneway(formulacion_1, formulacion_2, formulacion_3)\n",
    "\n",
    "print(\"Estadístico F:\", f_stat)\n",
    "print(\"Valor p:\", p_valor)"
   ]
  },
  {
   "cell_type": "code",
   "execution_count": null,
   "id": "0a937a5b",
   "metadata": {},
   "outputs": [],
   "source": [
    "print(formulacion_1)"
   ]
  },
  {
   "cell_type": "code",
   "execution_count": null,
   "id": "0f45ef88",
   "metadata": {},
   "outputs": [],
   "source": [
    "print(formulacion_2)"
   ]
  },
  {
   "cell_type": "code",
   "execution_count": null,
   "id": "877c9adf",
   "metadata": {},
   "outputs": [],
   "source": [
    "print(formulacion_3)"
   ]
  },
  {
   "cell_type": "markdown",
   "id": "d404000e",
   "metadata": {},
   "source": [
    "En el ejemplo proporcionado y los resultados de la prueba *ANOVA*, la interpretación de estos resultados se basa en la comparación del valor $p$ con un nivel de significancia ($\\alpha$) predefinido (como $0.05$).\n",
    "\n",
    "***Interpretación:***\n",
    "\n",
    "- ***Estadístico F:*** El valor del estadístico $F = 6.2834$. Este valor indica la proporción de la variación entre grupos con respecto a la variación dentro de los grupos. Un valor $F$ mayor sugiere una mayor variación entre grupos en relación con la variación dentro de los grupos.\n",
    "\n",
    "- ***Valor p:*** El valor $p = 0.0024$. El valor $p$ representa la probabilidad de obtener un estadístico de prueba $F$ tan extremo o más extremo que el observado, asumiendo que la hipótesis nula de igualdad de medias es verdadera.\n",
    "\n",
    "***Toma de Decisión:***\n",
    "\n",
    "Para tomar una decisión basada en los resultados de la prueba *ANOVA*, comparamos el valor $p$ con el nivel de significancia $\\alpha$. Si $p < \\alpha (0.05)$ en muchos casos, rechazamos la hipótesis nula y concluimos que al menos uno de los grupos tiene una media significativamente diferente de los demás. Si el valor $p > \\alpha$, no tenemos suficiente evidencia para rechazar la hipótesis nula.\n",
    "\n",
    "En este caso, el valor $p =0.0024$ es considerablemente menor que el nivel de significancia $\\alpha =0.05$. Por lo tanto, podemos concluir que hay suficiente evidencia para rechazar la hipótesis nula y afirmar que al menos un grupo tiene una media significativamente diferente de los demás. En otras palabras, existe una diferencia significativa en la satisfacción del cliente entre al menos dos de las formulaciones de productos evaluadas.\n",
    "\n",
    "***Conclusiones:***\n",
    "\n",
    "- Basándonos en los resultados de la prueba *ANOVA*, podemos concluir que existe una diferencia significativa en la satisfacción del cliente entre al menos dos de las formulaciones de productos. Este hallazgo puede ser útil para tomar decisiones empresariales informadas, como optimizar la producción o ajustar las estrategias de marketing para las formulaciones específicas que presentan diferencias significativas en la satisfacción del cliente.\n",
    "<p>&nbsp;</p>\n",
    "\n",
    "- En el contexto del ejemplo de la *ANOVA* donde el estadístico $F$ es $6.2834$ y el valor $p$ es $0.0024$ (ambos indicativos de una diferencia significativa entre al menos dos grupos), es posible afirmar que existe una diferencia en las medias de satisfacción del cliente entre los tres grupos evaluados. Sin embargo, la prueba *ANOVA* en sí no proporciona información directa sobre cuál grupo específico tiene una mayor o menor satisfacción.\n",
    "<p>&nbsp;</p>\n",
    "\n",
    "- Cuando se obtiene una diferencia significativa en la *ANOVA*, es común realizar pruebas de comparaciones múltiples, también conocidas como [pruebas post hoc](https://en.wikipedia.org/wiki/Testing_hypotheses_suggested_by_the_data), para determinar qué grupos difieren entre sí. Algunas de las *pruebas post hoc* comunes son la [prueba de Tukey](https://en.wikipedia.org/wiki/Tukey%27s_range_test), la [prueba de Bonferroni](https://en.wikipedia.org/wiki/Bonferroni_correction), la [prueba de Scheffe](https://en.wikipedia.org/wiki/Scheff%C3%A9%27s_method) y otras.\n",
    "<p>&nbsp;</p>\n",
    "\n",
    "- Estas pruebas evalúan todas las combinaciones posibles de grupos para identificar cuáles de ellos tienen diferencias significativas en términos de sus medias. Estas comparaciones ayudarán a identificar cuál grupo tiene una mayor satisfacción en relación con otros grupos específicos.\n",
    "<p>&nbsp;</p>\n",
    "\n",
    "- En resumen, después de obtener una diferencia significativa en la *ANOVA*, el análisis no concluye directamente cuál grupo es el mejor o el peor. Las *pruebas post hoc* son necesarias para desentrañar las diferencias específicas entre los grupos. Estas pruebas adicionales permitirán una toma de decisiones más informada sobre qué grupos presentan diferencias significativas en términos de satisfacción del cliente."
   ]
  },
  {
   "cell_type": "markdown",
   "id": "a6140dae",
   "metadata": {},
   "source": [
    "## Pruebas de hipótesis no paramétricas"
   ]
  },
  {
   "cell_type": "markdown",
   "id": "6bcf27d8",
   "metadata": {},
   "source": [
    "### Definición de pruebas de hipótesis no paramétricas"
   ]
  },
  {
   "cell_type": "markdown",
   "id": "ca183bba",
   "metadata": {},
   "source": [
    "Las pruebas de hipótesis son herramientas estadísticas que nos permiten evaluar la validez de afirmaciones sobre poblaciones o datos en base a la evidencia de una muestra. Cuando se trata de datos que no cumplen los supuestos de normalidad u otras condiciones necesarias para los métodos paramétricos, las [pruebas de hipótesis no paramétricas](https://en.wikipedia.org/wiki/Nonparametric_statistics) son una alternativa valiosa.\n",
    "\n",
    "Las pruebas de hipótesis no paramétricas no hacen supuestos sobre la distribución subyacente de los datos, lo que las hace flexibles y aplicables a una amplia gama de situaciones. Estas pruebas se basan en rangos, medianas, diferencias entre medianas y otras estadísticas robustas para tomar decisiones."
   ]
  },
  {
   "cell_type": "markdown",
   "id": "73850eb8",
   "metadata": {},
   "source": [
    "### Uso y selección de pruebas no paramétricas"
   ]
  },
  {
   "cell_type": "markdown",
   "id": "65fa9a64",
   "metadata": {},
   "source": [
    "A medida que exploramos el mundo de las pruebas de hipótesis no paramétricas, es fundamental comprender cuándo es apropiado utilizar cada una de ellas. La elección de la prueba correcta depende del tipo de datos y el objetivo del análisis. A continuación, se detallan algunas situaciones comunes en las que las pruebas no paramétricas son especialmente útiles:\n",
    "\n",
    "- ***Datos no normales:*** Cuando los datos no siguen una distribución normal, las pruebas no paramétricas son la elección preferida. Esto es común en muchas situaciones empresariales, ya que los datos pueden ser influenciados por diversos factores que desvían su distribución de la normalidad.\n",
    "<p>&nbsp;</p>\n",
    "\n",
    "- ***Pequeñas muestras:*** Las pruebas no paramétricas pueden proporcionar resultados más confiables en situaciones de muestras pequeñas, ya que son menos sensibles a la variabilidad y a los valores atípicos.\n",
    "<p>&nbsp;</p>\n",
    "\n",
    "- ***Datos ordinales o categóricos:*** Si trabajas con datos que solo pueden ser ordenados o categorizados, las pruebas no paramétricas son una opción natural, ya que los métodos paramétricos generalmente requieren datos continuos.\n",
    "<p>&nbsp;</p>\n",
    "\n",
    "- ***Comparaciones de medianas:*** Si estás interesado en comparar medianas o medidas de tendencia central robustas, las pruebas no paramétricas son una excelente elección."
   ]
  },
  {
   "cell_type": "markdown",
   "id": "6d053b0f",
   "metadata": {},
   "source": [
    "### Ventajas de las pruebas no paramétricas"
   ]
  },
  {
   "cell_type": "markdown",
   "id": "3d2843f4",
   "metadata": {},
   "source": [
    " - ***Menos supuestos:*** No se requiere asumir una distribución específica de los datos.\n",
    "<p>&nbsp;</p>\n",
    "\n",
    "- ***Robustez:*** Las pruebas son menos sensibles a valores atípicos y desviaciones de la normalidad.\n",
    "<p>&nbsp;</p>\n",
    "\n",
    "- ***Amplia aplicabilidad:*** Pueden ser utilizadas con datos ordinales, nominales o intervalares, y no están limitadas a datos normales.\n",
    "<p>&nbsp;</p>\n",
    "\n",
    "- ***Pequeñas muestras:*** A menudo son útiles cuando la cantidad de datos es limitada."
   ]
  },
  {
   "cell_type": "markdown",
   "id": "16977446",
   "metadata": {},
   "source": [
    "### Limitaciones de las pruebas no paramétricas"
   ]
  },
  {
   "cell_type": "markdown",
   "id": "9c87d385",
   "metadata": {},
   "source": [
    "Si bien las pruebas no paramétricas son valiosas en muchas situaciones, también tienen limitaciones que deben ser consideradas:\n",
    "\n",
    "- ***Menos potencia:*** En comparación con las pruebas paramétricas, las pruebas no paramétricas pueden tener menor capacidad para detectar diferencias sutiles en los datos. Esto puede ser especialmente relevante en muestras grandes.\n",
    "<p>&nbsp;</p>\n",
    "\n",
    "- ***Sensibilidad a la estructura de los datos:*** Algunas pruebas no paramétricas pueden ser sensibles a la estructura específica de los datos, lo que puede afectar sus resultados.\n",
    "<p>&nbsp;</p>\n",
    "\n",
    "- ***Mayor complejidad en la interpretación:*** En ocasiones, interpretar los resultados de las pruebas no paramétricas puede ser más desafiante debido a las diferencias en los supuestos y en las estadísticas utilizadas."
   ]
  },
  {
   "cell_type": "markdown",
   "id": "b49b9d4d",
   "metadata": {},
   "source": [
    "### Ejemplos de pruebas de hipótesis no paramétricas"
   ]
  },
  {
   "cell_type": "markdown",
   "id": "93bde0e2",
   "metadata": {},
   "source": [
    "#### Prueba de Wilcoxon (Mann-Whitney U)"
   ]
  },
  {
   "cell_type": "markdown",
   "id": "a10128af",
   "metadata": {},
   "source": [
    "La Prueba de Wilcoxon, también conocida como la [prueba Mann-Whitney U](https://en.wikipedia.org/wiki/Mann%E2%80%93Whitney_U_test), es una prueba no paramétrica utilizada para comparar las distribuciones de dos muestras independientes y determinar si provienen de la misma población. Esta prueba se basa en la comparación de los rangos de las observaciones entre los dos grupos. La hipótesis nula es que no hay diferencia entre las medianas de las dos poblaciones, mientras que la hipótesis alternativa afirma que existe una diferencia significativa. La prueba calcula un valor $U$ y un valor $p$, donde un valor $p$ bajo sugiere evidencia de una diferencia significativa entre las muestras."
   ]
  },
  {
   "cell_type": "markdown",
   "id": "5bb23155",
   "metadata": {},
   "source": [
    "Como ejemplo, supongamos que tienes datos de dos grupos y deseas saber si hay una diferencia significativa en las medianas de ambos grupos.\n",
    "\n",
    "- ***Datos:***\n",
    "  - ***Grupo A:*** Alturas de 30 empleados en una empresa.\n",
    "  - ***Grupo B:*** Alturas de 25 empleados en otra empresa.\n",
    "<p>&nbsp;</p>\n",
    "\n",
    "- ***Objetivo:*** Determinar si hay una diferencia significativa en las alturas promedio entre los dos grupos.\n",
    "<p>&nbsp;</p>\n",
    "\n",
    "- ***Análisis:*** Aplicamos la Prueba de Wilcoxon (Mann-Whitney U) para comparar las dos muestras:"
   ]
  },
  {
   "cell_type": "code",
   "execution_count": null,
   "id": "47158bf0",
   "metadata": {},
   "outputs": [],
   "source": [
    "import numpy as np\n",
    "from scipy.stats import mannwhitneyu\n",
    "\n",
    "grupo_a = np.random.normal(170, 5, 30)\n",
    "grupo_b = np.random.normal(175, 5, 25)\n",
    "\n",
    "statistic, p_value = mannwhitneyu(grupo_a, grupo_b)\n",
    "print(\"statistic: \", statistic)\n",
    "print(\"p_value: \", p_value)"
   ]
  },
  {
   "cell_type": "markdown",
   "id": "bdf55ff3",
   "metadata": {},
   "source": [
    "- ***Resultado y Conclusión:*** El valor $p$ obtenido es significativo ($p < 0.05$), lo que sugiere que hay una diferencia significativa en las alturas promedio entre los dos grupos. Por lo tanto, podemos concluir que existe evidencia suficiente para afirmar que las alturas de los empleados son diferentes entre las dos empresas."
   ]
  },
  {
   "cell_type": "markdown",
   "id": "ad07ebcc",
   "metadata": {},
   "source": [
    "#### Prueba de Kruskal-Wallis"
   ]
  },
  {
   "cell_type": "markdown",
   "id": "30843fee",
   "metadata": {},
   "source": [
    "Si tienes más de dos grupos y deseas evaluar si al menos uno de los grupos tiene una distribución diferente, puedes usar la [prueba de Kruskal-Wallis](https://en.wikipedia.org/wiki/Kruskal%E2%80%93Wallis_one-way_analysis_of_variance). La Prueba de *Kruskal-Wallis* es una prueba no paramétrica utilizada para comparar las medianas de tres o más muestras independientes. Esta prueba generaliza la *Prueba de Wilcoxon* para dos muestras a más de dos grupos. Se basa en la comparación de los rangos de las observaciones en todos los grupos y busca determinar si hay diferencias significativas entre las distribuciones de las poblaciones subyacentes. Al igual que en otras pruebas no paramétricas, la hipótesis nula es que no hay diferencias significativas entre las medianas de los grupos y la hipótesis alternativa afirma lo contrario. El resultado de la prueba es un valor estadístico y un valor $p$, donde un valor $p$ bajo sugiere evidencia de diferencias significativas entre los grupos.\n",
    "\n",
    "Veamos el siguiente ejemplo:\n",
    "\n",
    "- ***Datos:*** Tres grupos de empleados en diferentes departamentos con respecto a sus salarios.\n",
    "<p>&nbsp;</p>\n",
    "\n",
    "- ***Objetivo:*** Evaluar si hay una diferencia significativa en los salarios promedio entre los tres departamentos.\n",
    "<p>&nbsp;</p>\n",
    "\n",
    "- ***Análisis:*** Aplicamos la Prueba de Kruskal-Wallis para comparar los tres grupos:"
   ]
  },
  {
   "cell_type": "markdown",
   "id": "c40bcc05",
   "metadata": {},
   "source": [
    "- ***Resultado y Conclusión:*** El valor p obtenido es significativo ($p < 0.05$), lo que sugiere que hay una diferencia significativa en los salarios promedio entre al menos uno de los departamentos. Por lo tanto, podemos concluir que existe evidencia suficiente para afirmar que los salarios son diferentes entre al menos dos de los departamentos."
   ]
  },
  {
   "cell_type": "code",
   "execution_count": null,
   "id": "95b055ea",
   "metadata": {},
   "outputs": [],
   "source": [
    "from scipy.stats import kruskal\n",
    "\n",
    "departamento_1 = np.random.normal(50000, 3000, 40)\n",
    "departamento_2 = np.random.normal(55000, 4000, 35)\n",
    "departamento_3 = np.random.normal(52000, 3500, 45)\n",
    "\n",
    "statistic, p_value = kruskal(departamento_1, departamento_2, departamento_3)\n",
    "print(\"statistic: \", statistic)\n",
    "print(\"p_value: \", p_value)"
   ]
  },
  {
   "cell_type": "markdown",
   "id": "77163112",
   "metadata": {},
   "source": [
    "#### Prueba de Wilcoxon para muestras relacionadas"
   ]
  },
  {
   "cell_type": "markdown",
   "id": "59f24a37",
   "metadata": {},
   "source": [
    "La [Prueba de Wilcoxon para muestras relacionadas](https://en.wikipedia.org/wiki/Wilcoxon_signed-rank_test), también conocida como la *Prueba de los Rangos con Signo de Wilcoxon*, es utilizada cuando se comparan mediciones repetidas de un mismo grupo bajo diferentes condiciones o momentos en el tiempo. Esta prueba se basa en la diferencia entre los pares de observaciones relacionadas y evalúa si estas diferencias provienen de una distribución simétrica alrededor de cero. La hipótesis nula afirma que no hay diferencia significativa entre las mediciones antes y después, mientras que la hipótesis alternativa sugiere que existe una diferencia. La prueba calcula un valor $W$ y un valor $p$, donde un valor $p$ bajo indica evidencia de una diferencia significativa entre las mediciones.\n",
    "\n",
    "Como ejemplo se tiene:\n",
    "\n",
    "- ***Datos:*** Mediciones de la satisfacción de los empleados antes y después de la implementación de un nuevo programa de bienestar.\n",
    "<p>&nbsp;</p>\n",
    "\n",
    "- ***Objetivo:*** Determinar si hay una diferencia significativa en la satisfacción de los empleados debido al nuevo programa.\n",
    "<p>&nbsp;</p>\n",
    "\n",
    "- ***Análisis:*** Aplicamos la Prueba de Wilcoxon para muestras relacionadas:"
   ]
  },
  {
   "cell_type": "code",
   "execution_count": null,
   "id": "82e724bc",
   "metadata": {},
   "outputs": [],
   "source": [
    "from scipy.stats import wilcoxon\n",
    "\n",
    "np.random.seed(4)\n",
    "\n",
    "antes = np.random.normal(75, 10, 25)\n",
    "despues = np.random.normal(80, 8, 25)\n",
    "\n",
    "statistic, p_value = wilcoxon(antes, despues)\n",
    "print(\"statistic: \", statistic)\n",
    "print(\"p_value: \", p_value)"
   ]
  },
  {
   "cell_type": "markdown",
   "id": "480c0066",
   "metadata": {},
   "source": [
    "- ***Resultado y Conclusión:*** El valor $p$ obtenido es significativo ($p < 0.05$), lo que sugiere que hay una diferencia significativa en la satisfacción de los empleados antes y después de la implementación del nuevo programa. Por lo tanto, podemos concluir que existe evidencia suficiente para afirmar que el programa de bienestar ha tenido un impacto positivo en la satisfacción de los empleados."
   ]
  },
  {
   "cell_type": "markdown",
   "id": "cc63f347",
   "metadata": {},
   "source": [
    "### Conclusiones"
   ]
  },
  {
   "cell_type": "markdown",
   "id": "27573d1e",
   "metadata": {},
   "source": [
    "- Las pruebas de hipótesis no paramétricas son herramientas valiosas en la estadística cuando se trabaja con datos que no cumplen los supuestos de los métodos paramétricos. Son especialmente útiles en situaciones donde se tienen datos no normales, muestras pequeñas o datos ordinales. Sin embargo, es importante tener en cuenta sus limitaciones, como una menor potencia en comparación con las pruebas paramétricas. Al aplicar estas pruebas a situaciones empresariales reales, es crucial interpretar los resultados con cuidado y considerar el contexto específico de los datos.\n",
    "<p>&nbsp;</p>\n",
    "\n",
    "- Estas descripciones teóricas proporcionan una base para comprender el propósito y la lógica detrás de cada una de las pruebas no paramétricas mencionadas en los ejemplos. Es importante recordar que, al aplicar estas pruebas en situaciones reales, es necesario considerar las condiciones específicas de los datos y su contexto.\n"
   ]
  },
  {
   "cell_type": "markdown",
   "id": "c6915f69",
   "metadata": {},
   "source": [
    "## Resumen del Capitulo"
   ]
  },
  {
   "cell_type": "markdown",
   "id": "9eacb0fe",
   "metadata": {},
   "source": [
    "<p float=\"center\">\n",
    "  <img src=\"https://github.com/carlosalvarezh/Curso_CEC_EAFIT/blob/main/images/HypothesisTest.PNG?raw=true\" width=\"750\" />\n",
    "</p>"
   ]
  },
  {
   "cell_type": "code",
   "execution_count": null,
   "id": "6622f0fd",
   "metadata": {},
   "outputs": [],
   "source": []
  },
  {
   "cell_type": "code",
   "execution_count": null,
   "id": "06e468af",
   "metadata": {},
   "outputs": [],
   "source": []
  },
  {
   "cell_type": "markdown",
   "id": "d8fdf7a9",
   "metadata": {},
   "source": [
    "# Ejemplo:"
   ]
  },
  {
   "cell_type": "markdown",
   "id": "de15c07f",
   "metadata": {},
   "source": [
    "Ver ejemplo en el archivo [Ejemplos_C01_1_VentaSmartphone](./Ejemplos_C01_1_VentaSmartphone.ipynb)"
   ]
  },
  {
   "cell_type": "code",
   "execution_count": null,
   "id": "da16c0ab",
   "metadata": {},
   "outputs": [],
   "source": []
  }
 ],
 "metadata": {
  "kernelspec": {
   "display_name": "Python 3 (ipykernel)",
   "language": "python",
   "name": "python3"
  },
  "language_info": {
   "codemirror_mode": {
    "name": "ipython",
    "version": 3
   },
   "file_extension": ".py",
   "mimetype": "text/x-python",
   "name": "python",
   "nbconvert_exporter": "python",
   "pygments_lexer": "ipython3",
   "version": "3.11.3"
  },
  "toc": {
   "base_numbering": 1,
   "nav_menu": {},
   "number_sections": true,
   "sideBar": true,
   "skip_h1_title": true,
   "title_cell": "Table of Contents",
   "title_sidebar": "Contents",
   "toc_cell": false,
   "toc_position": {
    "height": "calc(100% - 180px)",
    "left": "10px",
    "top": "150px",
    "width": "165px"
   },
   "toc_section_display": true,
   "toc_window_display": false
  }
 },
 "nbformat": 4,
 "nbformat_minor": 5
}
