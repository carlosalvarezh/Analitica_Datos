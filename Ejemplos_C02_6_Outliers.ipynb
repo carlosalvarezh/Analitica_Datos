{
 "cells": [
  {
   "cell_type": "markdown",
   "id": "0d339aa5",
   "metadata": {},
   "source": [
    "<h1 align=\"center\">Analítica de datos para la toma de decisiones empresariales</h1>\n",
    "<h1 align=\"center\">Outliers: Identificación de datos raros</h1>\n",
    "<h1 align=\"center\">Centro de Educación Continua</h1>\n",
    "<h1 align=\"center\">EAFIT</h1>\n",
    "<h1 align=\"center\">2023</h1>\n",
    "<h1 align=\"center\">MEDELLÍN - COLOMBIA </h1>"
   ]
  },
  {
   "cell_type": "markdown",
   "id": "12337a3c",
   "metadata": {},
   "source": [
    "*** \n",
    "|![Gmail](https://img.shields.io/badge/Gmail-D14836?style=plastic&logo=gmail&logoColor=white)|<carlosalvarezh@gmail.com>|![Outlook](https://img.shields.io/badge/Microsoft_Outlook-0078D4?style=plastic&logo=microsoft-outlook&logoColor=white)|<calvar52@eafit.edu.co>|\n",
    "|-:|:-|--:|:--|\n",
    "|[![LinkedIn](https://img.shields.io/badge/linkedin-%230077B5.svg?style=plastic&logo=linkedin&logoColor=white)](https://www.linkedin.com/in/carlosalvarez5/)|[![@alvarezhenao](https://img.shields.io/twitter/url/https/twitter.com/alvarezhenao.svg?style=social&label=Follow%20%40alvarezhenao)](https://twitter.com/alvarezhenao)|[![@carlosalvarezh](https://img.shields.io/badge/github-%23121011.svg?style=plastic&logo=github&logoColor=white)](https://github.com/carlosalvarezh)|[![Open In Colab](https://colab.research.google.com/assets/colab-badge.svg)](https://colab.research.google.com/github/carlosalvarezh/Curso_CEC_EAFIT/blob/main/Ejemplos_C02_6_Outliers.ipynb)|\n",
    "\n",
    "<table>\n",
    " <tr align=left><td><img align=left src=\"https://github.com/carlosalvarezh/Curso_CEC_EAFIT/blob/main/images/CCLogoColorPop1.gif?raw=true\" width=\"25\">\n",
    " <td>Text provided under a Creative Commons Attribution license, CC-BY. All code is made available under the FSF-approved MIT license.(c) Carlos Alberto Alvarez Henao</td>\n",
    "</table>\n",
    "\n",
    "***"
   ]
  },
  {
   "cell_type": "markdown",
   "id": "927c578f",
   "metadata": {},
   "source": [
    "# Introducción"
   ]
  },
  {
   "cell_type": "markdown",
   "id": "edf03938",
   "metadata": {},
   "source": [
    "La detección de valores atípicos, también conocida como detección de anomalías, es una tarea esencial en la ciencia de datos y se enfoca en identificar puntos de datos con valores extremos en comparación con la distribución general. Esta técnica encuentra diversas aplicaciones en la toma de decisiones empresariales, abarcando desde la detección de fraudes y ciberataques hasta la identificación de falsificaciones de billetes en el sector financiero y médico. En cada uno de estos escenarios, los valores atípicos señalan eventos raros o inusuales que pueden impactar significativamente en la estrategia de la empresa.\n",
    "\n",
    "Python ofrece una variedad de métodos y paquetes para la detección de valores atípicos. Al seleccionar un método, es crucial considerar la modalidad de los datos, es decir, el número de picos en su distribución. Además, la dimensionalidad y el tamaño del conjunto de datos también juegan un papel importante en la elección del método adecuado. Desde métodos estadísticos simples hasta enfoques más avanzados como *isolation forest* y *OneClassSVM*, la selección del método depende de la naturaleza y el volumen de los datos.\n",
    "\n",
    "En el siguiente ejemplo, se exploran distintos métodos para identificar valores atípicos en el conjunto de datos de detección de billetes falsos de un banco suizo. Este caso demuestra cómo la detección de valores atípicos puede ofrecer información valiosa para abordar desafíos específicos en el contexto de la analítica de datos y la toma de decisiones empresariales."
   ]
  },
  {
   "cell_type": "markdown",
   "id": "08cb19f6",
   "metadata": {},
   "source": [
    "# Enunciado del problema"
   ]
  },
  {
   "cell_type": "markdown",
   "id": "f7710dfe",
   "metadata": {},
   "source": [
    "Los datos del banco suizo consisten en $200$ mediciones de billetes suizos. Las primeras $100$ de estas mediciones son de billetes genuinos, y las otras $100$ son de billetes falsificados. En estos datos, deseamos construir un modelo para clasificar los billetes genuinos y falsificados. En esta nota, hemos creado dos clasificadores para reconocer los billetes.\n",
    "\n",
    "Primero, presentamos las siguientes variables:  \n",
    "\n",
    "<p float=\"center\">\n",
    "  <img src=\"https://github.com/carlosalvarezh/Curso_CEC_EAFIT/blob/main/images/Banknotes.jpg?raw=true\" width=\"300\" />\n",
    "</p>\n",
    "\n",
    "\n",
    "$Y$ = Billete falso ($Y = 1$) o genuino ($Y=0$) (`Counterfeit`)  \n",
    "$X_1$ = Longitud del billete (`Length`)  \n",
    "$X_2$ = Altura del billete - izquierda (`Left`)  \n",
    "$X_3$ = Altura del billete - derecha (`Right `)  \n",
    "$X_4$ = Distancia del marco interior al borde inferior (`Bottom`)  \n",
    "$X_5$ = Distancia del marco interior al borde superior (`Top`)  \n",
    "$X_6$ = Longitud de la diagonal de la imagen central (`Diagonal`)\n",
    "\n",
    "En la clasificación binaria, \"$1$\" suele indicar la clase positiva (falso en este caso), mientras que \"$0$\" indica la clase negativa (genuino en este caso). Utilizarías estas etiquetas para entrenar y evaluar el modelo de clasificación, con el objetivo de clasificar correctamente los billetes como falsos o genuinos en función de las características proporcionadas ($X_1$ a $X_6)$."
   ]
  },
  {
   "cell_type": "markdown",
   "id": "416181f6",
   "metadata": {},
   "source": [
    "# Carga de datos y análisis exploratorio"
   ]
  },
  {
   "cell_type": "code",
   "execution_count": 1,
   "id": "f0be1345",
   "metadata": {},
   "outputs": [],
   "source": [
    "import pandas as pd \n",
    "import seaborn as sns\n",
    "import matplotlib.pyplot as plt\n",
    "from collections import Counter\n",
    "import numpy as np\n"
   ]
  },
  {
   "cell_type": "code",
   "execution_count": 2,
   "id": "4d4b940c",
   "metadata": {},
   "outputs": [],
   "source": [
    "df = pd.read_csv(\"Data/banknotes.csv\")"
   ]
  },
  {
   "cell_type": "code",
   "execution_count": 3,
   "id": "ed09f1f9",
   "metadata": {
    "scrolled": true
   },
   "outputs": [
    {
     "data": {
      "text/html": [
       "<div>\n",
       "<style scoped>\n",
       "    .dataframe tbody tr th:only-of-type {\n",
       "        vertical-align: middle;\n",
       "    }\n",
       "\n",
       "    .dataframe tbody tr th {\n",
       "        vertical-align: top;\n",
       "    }\n",
       "\n",
       "    .dataframe thead th {\n",
       "        text-align: right;\n",
       "    }\n",
       "</style>\n",
       "<table border=\"1\" class=\"dataframe\">\n",
       "  <thead>\n",
       "    <tr style=\"text-align: right;\">\n",
       "      <th></th>\n",
       "      <th>conterfeit</th>\n",
       "      <th>Length</th>\n",
       "      <th>Left</th>\n",
       "      <th>Right</th>\n",
       "      <th>Bottom</th>\n",
       "      <th>Top</th>\n",
       "      <th>Diagonal</th>\n",
       "    </tr>\n",
       "  </thead>\n",
       "  <tbody>\n",
       "    <tr>\n",
       "      <th>0</th>\n",
       "      <td>0</td>\n",
       "      <td>214.8</td>\n",
       "      <td>131.0</td>\n",
       "      <td>131.1</td>\n",
       "      <td>9.0</td>\n",
       "      <td>9.7</td>\n",
       "      <td>141.0</td>\n",
       "    </tr>\n",
       "    <tr>\n",
       "      <th>1</th>\n",
       "      <td>0</td>\n",
       "      <td>214.6</td>\n",
       "      <td>129.7</td>\n",
       "      <td>129.7</td>\n",
       "      <td>8.1</td>\n",
       "      <td>9.5</td>\n",
       "      <td>141.7</td>\n",
       "    </tr>\n",
       "    <tr>\n",
       "      <th>2</th>\n",
       "      <td>0</td>\n",
       "      <td>214.8</td>\n",
       "      <td>129.7</td>\n",
       "      <td>129.7</td>\n",
       "      <td>8.7</td>\n",
       "      <td>9.6</td>\n",
       "      <td>142.2</td>\n",
       "    </tr>\n",
       "    <tr>\n",
       "      <th>3</th>\n",
       "      <td>0</td>\n",
       "      <td>214.8</td>\n",
       "      <td>129.7</td>\n",
       "      <td>129.6</td>\n",
       "      <td>7.5</td>\n",
       "      <td>10.4</td>\n",
       "      <td>142.0</td>\n",
       "    </tr>\n",
       "    <tr>\n",
       "      <th>4</th>\n",
       "      <td>0</td>\n",
       "      <td>215.0</td>\n",
       "      <td>129.6</td>\n",
       "      <td>129.7</td>\n",
       "      <td>10.4</td>\n",
       "      <td>7.7</td>\n",
       "      <td>141.8</td>\n",
       "    </tr>\n",
       "    <tr>\n",
       "      <th>5</th>\n",
       "      <td>0</td>\n",
       "      <td>215.7</td>\n",
       "      <td>130.8</td>\n",
       "      <td>130.5</td>\n",
       "      <td>9.0</td>\n",
       "      <td>10.1</td>\n",
       "      <td>141.4</td>\n",
       "    </tr>\n",
       "    <tr>\n",
       "      <th>6</th>\n",
       "      <td>0</td>\n",
       "      <td>215.5</td>\n",
       "      <td>129.5</td>\n",
       "      <td>129.7</td>\n",
       "      <td>7.9</td>\n",
       "      <td>9.6</td>\n",
       "      <td>141.6</td>\n",
       "    </tr>\n",
       "    <tr>\n",
       "      <th>7</th>\n",
       "      <td>0</td>\n",
       "      <td>214.5</td>\n",
       "      <td>129.6</td>\n",
       "      <td>129.2</td>\n",
       "      <td>7.2</td>\n",
       "      <td>10.7</td>\n",
       "      <td>141.7</td>\n",
       "    </tr>\n",
       "    <tr>\n",
       "      <th>8</th>\n",
       "      <td>0</td>\n",
       "      <td>214.9</td>\n",
       "      <td>129.4</td>\n",
       "      <td>129.7</td>\n",
       "      <td>8.2</td>\n",
       "      <td>11.0</td>\n",
       "      <td>141.9</td>\n",
       "    </tr>\n",
       "    <tr>\n",
       "      <th>9</th>\n",
       "      <td>0</td>\n",
       "      <td>215.2</td>\n",
       "      <td>130.4</td>\n",
       "      <td>130.3</td>\n",
       "      <td>9.2</td>\n",
       "      <td>10.0</td>\n",
       "      <td>140.7</td>\n",
       "    </tr>\n",
       "  </tbody>\n",
       "</table>\n",
       "</div>"
      ],
      "text/plain": [
       "   conterfeit  Length   Left  Right  Bottom   Top  Diagonal\n",
       "0           0   214.8  131.0  131.1     9.0   9.7     141.0\n",
       "1           0   214.6  129.7  129.7     8.1   9.5     141.7\n",
       "2           0   214.8  129.7  129.7     8.7   9.6     142.2\n",
       "3           0   214.8  129.7  129.6     7.5  10.4     142.0\n",
       "4           0   215.0  129.6  129.7    10.4   7.7     141.8\n",
       "5           0   215.7  130.8  130.5     9.0  10.1     141.4\n",
       "6           0   215.5  129.5  129.7     7.9   9.6     141.6\n",
       "7           0   214.5  129.6  129.2     7.2  10.7     141.7\n",
       "8           0   214.9  129.4  129.7     8.2  11.0     141.9\n",
       "9           0   215.2  130.4  130.3     9.2  10.0     140.7"
      ]
     },
     "execution_count": 3,
     "metadata": {},
     "output_type": "execute_result"
    }
   ],
   "source": [
    "df.head(10)"
   ]
  },
  {
   "cell_type": "markdown",
   "id": "5734c6d6",
   "metadata": {},
   "source": [
    "Lo primero que observamos es que el nombre de la primera columna está mal escrito:"
   ]
  },
  {
   "cell_type": "code",
   "execution_count": 4,
   "id": "01eec4d7",
   "metadata": {},
   "outputs": [],
   "source": [
    "df = df.rename(columns={'conterfeit':'counterfeit'})"
   ]
  },
  {
   "cell_type": "code",
   "execution_count": 5,
   "id": "122f181a",
   "metadata": {},
   "outputs": [
    {
     "name": "stdout",
     "output_type": "stream",
     "text": [
      "<class 'pandas.core.frame.DataFrame'>\n",
      "RangeIndex: 200 entries, 0 to 199\n",
      "Data columns (total 7 columns):\n",
      " #   Column       Non-Null Count  Dtype  \n",
      "---  ------       --------------  -----  \n",
      " 0   counterfeit  200 non-null    int64  \n",
      " 1   Length       200 non-null    float64\n",
      " 2   Left         200 non-null    float64\n",
      " 3   Right        200 non-null    float64\n",
      " 4   Bottom       200 non-null    float64\n",
      " 5   Top          200 non-null    float64\n",
      " 6   Diagonal     200 non-null    float64\n",
      "dtypes: float64(6), int64(1)\n",
      "memory usage: 11.1 KB\n"
     ]
    }
   ],
   "source": [
    "df.info()"
   ]
  },
  {
   "cell_type": "code",
   "execution_count": 6,
   "id": "8e7fd642",
   "metadata": {
    "scrolled": true
   },
   "outputs": [
    {
     "data": {
      "text/html": [
       "<div>\n",
       "<style scoped>\n",
       "    .dataframe tbody tr th:only-of-type {\n",
       "        vertical-align: middle;\n",
       "    }\n",
       "\n",
       "    .dataframe tbody tr th {\n",
       "        vertical-align: top;\n",
       "    }\n",
       "\n",
       "    .dataframe thead th {\n",
       "        text-align: right;\n",
       "    }\n",
       "</style>\n",
       "<table border=\"1\" class=\"dataframe\">\n",
       "  <thead>\n",
       "    <tr style=\"text-align: right;\">\n",
       "      <th></th>\n",
       "      <th>counterfeit</th>\n",
       "      <th>Length</th>\n",
       "      <th>Left</th>\n",
       "      <th>Right</th>\n",
       "      <th>Bottom</th>\n",
       "      <th>Top</th>\n",
       "      <th>Diagonal</th>\n",
       "    </tr>\n",
       "  </thead>\n",
       "  <tbody>\n",
       "    <tr>\n",
       "      <th>count</th>\n",
       "      <td>200.000000</td>\n",
       "      <td>200.000000</td>\n",
       "      <td>200.000000</td>\n",
       "      <td>200.000000</td>\n",
       "      <td>200.000000</td>\n",
       "      <td>200.000000</td>\n",
       "      <td>200.000000</td>\n",
       "    </tr>\n",
       "    <tr>\n",
       "      <th>mean</th>\n",
       "      <td>0.500000</td>\n",
       "      <td>214.896000</td>\n",
       "      <td>130.121500</td>\n",
       "      <td>129.956500</td>\n",
       "      <td>9.417500</td>\n",
       "      <td>10.650500</td>\n",
       "      <td>140.483500</td>\n",
       "    </tr>\n",
       "    <tr>\n",
       "      <th>std</th>\n",
       "      <td>0.501255</td>\n",
       "      <td>0.376554</td>\n",
       "      <td>0.361026</td>\n",
       "      <td>0.404072</td>\n",
       "      <td>1.444603</td>\n",
       "      <td>0.802947</td>\n",
       "      <td>1.152266</td>\n",
       "    </tr>\n",
       "    <tr>\n",
       "      <th>min</th>\n",
       "      <td>0.000000</td>\n",
       "      <td>213.800000</td>\n",
       "      <td>129.000000</td>\n",
       "      <td>129.000000</td>\n",
       "      <td>7.200000</td>\n",
       "      <td>7.700000</td>\n",
       "      <td>137.800000</td>\n",
       "    </tr>\n",
       "    <tr>\n",
       "      <th>25%</th>\n",
       "      <td>0.000000</td>\n",
       "      <td>214.600000</td>\n",
       "      <td>129.900000</td>\n",
       "      <td>129.700000</td>\n",
       "      <td>8.200000</td>\n",
       "      <td>10.100000</td>\n",
       "      <td>139.500000</td>\n",
       "    </tr>\n",
       "    <tr>\n",
       "      <th>50%</th>\n",
       "      <td>0.500000</td>\n",
       "      <td>214.900000</td>\n",
       "      <td>130.200000</td>\n",
       "      <td>130.000000</td>\n",
       "      <td>9.100000</td>\n",
       "      <td>10.600000</td>\n",
       "      <td>140.450000</td>\n",
       "    </tr>\n",
       "    <tr>\n",
       "      <th>75%</th>\n",
       "      <td>1.000000</td>\n",
       "      <td>215.100000</td>\n",
       "      <td>130.400000</td>\n",
       "      <td>130.225000</td>\n",
       "      <td>10.600000</td>\n",
       "      <td>11.200000</td>\n",
       "      <td>141.500000</td>\n",
       "    </tr>\n",
       "    <tr>\n",
       "      <th>max</th>\n",
       "      <td>1.000000</td>\n",
       "      <td>216.300000</td>\n",
       "      <td>131.000000</td>\n",
       "      <td>131.100000</td>\n",
       "      <td>12.700000</td>\n",
       "      <td>12.300000</td>\n",
       "      <td>142.400000</td>\n",
       "    </tr>\n",
       "  </tbody>\n",
       "</table>\n",
       "</div>"
      ],
      "text/plain": [
       "       counterfeit      Length        Left       Right      Bottom  \\\n",
       "count   200.000000  200.000000  200.000000  200.000000  200.000000   \n",
       "mean      0.500000  214.896000  130.121500  129.956500    9.417500   \n",
       "std       0.501255    0.376554    0.361026    0.404072    1.444603   \n",
       "min       0.000000  213.800000  129.000000  129.000000    7.200000   \n",
       "25%       0.000000  214.600000  129.900000  129.700000    8.200000   \n",
       "50%       0.500000  214.900000  130.200000  130.000000    9.100000   \n",
       "75%       1.000000  215.100000  130.400000  130.225000   10.600000   \n",
       "max       1.000000  216.300000  131.000000  131.100000   12.700000   \n",
       "\n",
       "              Top    Diagonal  \n",
       "count  200.000000  200.000000  \n",
       "mean    10.650500  140.483500  \n",
       "std      0.802947    1.152266  \n",
       "min      7.700000  137.800000  \n",
       "25%     10.100000  139.500000  \n",
       "50%     10.600000  140.450000  \n",
       "75%     11.200000  141.500000  \n",
       "max     12.300000  142.400000  "
      ]
     },
     "execution_count": 6,
     "metadata": {},
     "output_type": "execute_result"
    }
   ],
   "source": [
    "df.describe()"
   ]
  },
  {
   "cell_type": "markdown",
   "id": "954f8040",
   "metadata": {},
   "source": [
    "# Limpieza de datos"
   ]
  },
  {
   "cell_type": "markdown",
   "id": "1dc360bb",
   "metadata": {},
   "source": [
    "Comencemos esto manejando los valores faltantes"
   ]
  },
  {
   "cell_type": "code",
   "execution_count": 7,
   "id": "77ec3ad4",
   "metadata": {},
   "outputs": [
    {
     "data": {
      "text/plain": [
       "counterfeit    0\n",
       "Length         0\n",
       "Left           0\n",
       "Right          0\n",
       "Bottom         0\n",
       "Top            0\n",
       "Diagonal       0\n",
       "dtype: int64"
      ]
     },
     "execution_count": 7,
     "metadata": {},
     "output_type": "execute_result"
    }
   ],
   "source": [
    "totalMissingVals = df.isnull().sum().sort_values(ascending=True)\n",
    "totalMissingVals"
   ]
  },
  {
   "cell_type": "markdown",
   "id": "a782c157",
   "metadata": {},
   "source": [
    "No se observan datos faltantes. Ahora verifiquemos datos duplicados"
   ]
  },
  {
   "cell_type": "code",
   "execution_count": 8,
   "id": "6360385d",
   "metadata": {},
   "outputs": [
    {
     "data": {
      "text/plain": [
       "True"
      ]
     },
     "execution_count": 8,
     "metadata": {},
     "output_type": "execute_result"
    }
   ],
   "source": [
    "df.index.is_unique"
   ]
  },
  {
   "cell_type": "markdown",
   "id": "87758c51",
   "metadata": {},
   "source": [
    "# Manejo de Outliers "
   ]
  },
  {
   "cell_type": "code",
   "execution_count": 9,
   "id": "73a07c42",
   "metadata": {},
   "outputs": [
    {
     "data": {
      "text/plain": [
       "Text(0.5, 1.0, 'Boxplot of Swiss Banknote Length ')"
      ]
     },
     "execution_count": 9,
     "metadata": {},
     "output_type": "execute_result"
    },
    {
     "data": {
      "image/png": "[encoded data removed]",
      "text/plain": [
       "<Figure size 500x200 with 1 Axes>"
      ]
     },
     "metadata": {},
     "output_type": "display_data"
    }
   ],
   "source": [
    "plt.figure(figsize=(5,2))\n",
    "sns.boxplot(data=df,x=df[\"Length\"])\n",
    "plt.title(\"Boxplot of Swiss Banknote Length \")"
   ]
  },
  {
   "cell_type": "markdown",
   "id": "2123e383",
   "metadata": {},
   "source": [
    "Los puntos en los diagramas de caja corresponden a valores atípicos extremos. Podemos validar que estos son valores atípicos filtrando nuestro DataFrame y usando el método `count` para contar el número de falsificaciones:"
   ]
  },
  {
   "cell_type": "code",
   "execution_count": 10,
   "id": "df2897d6",
   "metadata": {},
   "outputs": [
    {
     "data": {
      "text/html": [
       "<div>\n",
       "<style scoped>\n",
       "    .dataframe tbody tr th:only-of-type {\n",
       "        vertical-align: middle;\n",
       "    }\n",
       "\n",
       "    .dataframe tbody tr th {\n",
       "        vertical-align: top;\n",
       "    }\n",
       "\n",
       "    .dataframe thead th {\n",
       "        text-align: right;\n",
       "    }\n",
       "</style>\n",
       "<table border=\"1\" class=\"dataframe\">\n",
       "  <thead>\n",
       "    <tr style=\"text-align: right;\">\n",
       "      <th></th>\n",
       "      <th>counterfeit</th>\n",
       "      <th>Length</th>\n",
       "      <th>Left</th>\n",
       "      <th>Right</th>\n",
       "      <th>Bottom</th>\n",
       "      <th>Top</th>\n",
       "      <th>Diagonal</th>\n",
       "    </tr>\n",
       "  </thead>\n",
       "  <tbody>\n",
       "    <tr>\n",
       "      <th>166</th>\n",
       "      <td>1</td>\n",
       "      <td>216.3</td>\n",
       "      <td>130.7</td>\n",
       "      <td>130.4</td>\n",
       "      <td>10.0</td>\n",
       "      <td>10.1</td>\n",
       "      <td>138.8</td>\n",
       "    </tr>\n",
       "  </tbody>\n",
       "</table>\n",
       "</div>"
      ],
      "text/plain": [
       "     counterfeit  Length   Left  Right  Bottom   Top  Diagonal\n",
       "166            1   216.3  130.7  130.4    10.0  10.1     138.8"
      ]
     },
     "execution_count": 10,
     "metadata": {},
     "output_type": "execute_result"
    }
   ],
   "source": [
    "outliers = df[df['Length'] > 216]\n",
    "outliers"
   ]
  },
  {
   "cell_type": "markdown",
   "id": "ebd78b93",
   "metadata": {},
   "source": [
    "Vemos que, con estas condiciones, sólo capturamos uno de cada 100 billetes falsos. Si relajamos las condiciones de filtrado para capturar valores atípicos adicionales, veremos que también capturamos billetes auténticos:"
   ]
  },
  {
   "cell_type": "code",
   "execution_count": 11,
   "id": "179005a4",
   "metadata": {},
   "outputs": [
    {
     "data": {
      "text/html": [
       "<div>\n",
       "<style scoped>\n",
       "    .dataframe tbody tr th:only-of-type {\n",
       "        vertical-align: middle;\n",
       "    }\n",
       "\n",
       "    .dataframe tbody tr th {\n",
       "        vertical-align: top;\n",
       "    }\n",
       "\n",
       "    .dataframe thead th {\n",
       "        text-align: right;\n",
       "    }\n",
       "</style>\n",
       "<table border=\"1\" class=\"dataframe\">\n",
       "  <thead>\n",
       "    <tr style=\"text-align: right;\">\n",
       "      <th></th>\n",
       "      <th>counterfeit</th>\n",
       "      <th>Length</th>\n",
       "      <th>Left</th>\n",
       "      <th>Right</th>\n",
       "      <th>Bottom</th>\n",
       "      <th>Top</th>\n",
       "      <th>Diagonal</th>\n",
       "    </tr>\n",
       "  </thead>\n",
       "  <tbody>\n",
       "    <tr>\n",
       "      <th>5</th>\n",
       "      <td>0</td>\n",
       "      <td>215.7</td>\n",
       "      <td>130.8</td>\n",
       "      <td>130.5</td>\n",
       "      <td>9.0</td>\n",
       "      <td>10.1</td>\n",
       "      <td>141.4</td>\n",
       "    </tr>\n",
       "    <tr>\n",
       "      <th>21</th>\n",
       "      <td>0</td>\n",
       "      <td>215.6</td>\n",
       "      <td>130.5</td>\n",
       "      <td>130.0</td>\n",
       "      <td>8.1</td>\n",
       "      <td>10.3</td>\n",
       "      <td>141.6</td>\n",
       "    </tr>\n",
       "    <tr>\n",
       "      <th>23</th>\n",
       "      <td>0</td>\n",
       "      <td>215.7</td>\n",
       "      <td>130.2</td>\n",
       "      <td>130.0</td>\n",
       "      <td>8.7</td>\n",
       "      <td>10.0</td>\n",
       "      <td>141.6</td>\n",
       "    </tr>\n",
       "    <tr>\n",
       "      <th>33</th>\n",
       "      <td>0</td>\n",
       "      <td>215.6</td>\n",
       "      <td>130.4</td>\n",
       "      <td>130.1</td>\n",
       "      <td>8.4</td>\n",
       "      <td>10.3</td>\n",
       "      <td>141.0</td>\n",
       "    </tr>\n",
       "    <tr>\n",
       "      <th>34</th>\n",
       "      <td>0</td>\n",
       "      <td>215.9</td>\n",
       "      <td>130.4</td>\n",
       "      <td>130.0</td>\n",
       "      <td>8.9</td>\n",
       "      <td>10.6</td>\n",
       "      <td>141.4</td>\n",
       "    </tr>\n",
       "    <tr>\n",
       "      <th>56</th>\n",
       "      <td>0</td>\n",
       "      <td>215.7</td>\n",
       "      <td>130.0</td>\n",
       "      <td>129.4</td>\n",
       "      <td>9.2</td>\n",
       "      <td>10.4</td>\n",
       "      <td>141.2</td>\n",
       "    </tr>\n",
       "    <tr>\n",
       "      <th>95</th>\n",
       "      <td>0</td>\n",
       "      <td>215.6</td>\n",
       "      <td>129.9</td>\n",
       "      <td>129.9</td>\n",
       "      <td>9.0</td>\n",
       "      <td>9.5</td>\n",
       "      <td>141.7</td>\n",
       "    </tr>\n",
       "    <tr>\n",
       "      <th>160</th>\n",
       "      <td>1</td>\n",
       "      <td>215.6</td>\n",
       "      <td>130.1</td>\n",
       "      <td>129.7</td>\n",
       "      <td>7.4</td>\n",
       "      <td>12.2</td>\n",
       "      <td>138.4</td>\n",
       "    </tr>\n",
       "    <tr>\n",
       "      <th>166</th>\n",
       "      <td>1</td>\n",
       "      <td>216.3</td>\n",
       "      <td>130.7</td>\n",
       "      <td>130.4</td>\n",
       "      <td>10.0</td>\n",
       "      <td>10.1</td>\n",
       "      <td>138.8</td>\n",
       "    </tr>\n",
       "    <tr>\n",
       "      <th>167</th>\n",
       "      <td>1</td>\n",
       "      <td>215.6</td>\n",
       "      <td>130.4</td>\n",
       "      <td>130.1</td>\n",
       "      <td>9.6</td>\n",
       "      <td>11.2</td>\n",
       "      <td>138.6</td>\n",
       "    </tr>\n",
       "  </tbody>\n",
       "</table>\n",
       "</div>"
      ],
      "text/plain": [
       "     counterfeit  Length   Left  Right  Bottom   Top  Diagonal\n",
       "5              0   215.7  130.8  130.5     9.0  10.1     141.4\n",
       "21             0   215.6  130.5  130.0     8.1  10.3     141.6\n",
       "23             0   215.7  130.2  130.0     8.7  10.0     141.6\n",
       "33             0   215.6  130.4  130.1     8.4  10.3     141.0\n",
       "34             0   215.9  130.4  130.0     8.9  10.6     141.4\n",
       "56             0   215.7  130.0  129.4     9.2  10.4     141.2\n",
       "95             0   215.6  129.9  129.9     9.0   9.5     141.7\n",
       "160            1   215.6  130.1  129.7     7.4  12.2     138.4\n",
       "166            1   216.3  130.7  130.4    10.0  10.1     138.8\n",
       "167            1   215.6  130.4  130.1     9.6  11.2     138.6"
      ]
     },
     "execution_count": 11,
     "metadata": {},
     "output_type": "execute_result"
    }
   ],
   "source": [
    "outliers2 = df[df['Length'] > 215.5]\n",
    "outliers2"
   ]
  },
  {
   "cell_type": "markdown",
   "id": "b77f0c89",
   "metadata": {},
   "source": [
    "Esto corresponde a una precisión de $0,30$, lo que no es un gran rendimiento. Peor aún, esto corresponde a una precisión del $1,5$ por ciento.\n",
    "\n",
    "Para ayudar a abordar esta inexactitud, podemos buscar columnas adicionales en los diagramas de caja. Creemos diagramas de caja para las columnas restantes y una función que nos permita generar diagramas de caja para cualquier columna numérica:"
   ]
  },
  {
   "cell_type": "code",
   "execution_count": 12,
   "id": "e9835f52",
   "metadata": {},
   "outputs": [
    {
     "data": {
      "image/png": "[encoded data removed]",
      "text/plain": [
       "<Figure size 600x900 with 6 Axes>"
      ]
     },
     "metadata": {},
     "output_type": "display_data"
    }
   ],
   "source": [
    "def boxplot(column):\n",
    "    plt.subplot(3, 2, i+1)  # Define la posición del gráfico en la matriz 3x2\n",
    "    sns.boxplot(data=df, x=df[f\"{column}\"])\n",
    "    plt.title(f\"Boxplot of Swiss Banknote {column}\")\n",
    "\n",
    "plt.figure(figsize=(6, 9))  # Tamaño total de la figura\n",
    "columns = ['Length', 'Right', 'Left', 'Bottom', 'Top', 'Diagonal']\n",
    "\n",
    "for i, column in enumerate(columns):\n",
    "    boxplot(column)\n",
    "\n",
    "plt.tight_layout()  # Ajusta la disposición de los gráficos\n",
    "plt.show()"
   ]
  },
  {
   "cell_type": "markdown",
   "id": "d3e836b6",
   "metadata": {},
   "source": [
    "Y llamemos a la función con las columnas de longitud, izquierda, derecha, abajo, arriba y diagonal:"
   ]
  },
  {
   "cell_type": "markdown",
   "id": "fc3066c3",
   "metadata": {},
   "source": [
    "Podemos filtrar por el 50 por ciento superior por longitud, derecha, izquierda e inferior:"
   ]
  },
  {
   "cell_type": "code",
   "execution_count": 13,
   "id": "efad9d33",
   "metadata": {},
   "outputs": [
    {
     "name": "stdout",
     "output_type": "stream",
     "text": [
      "Counter({1: 8})\n"
     ]
    }
   ],
   "source": [
    "df_outlier3 = df[(df['Length']> 215)&(df['Right']> 130)&(df['Left']>130)&(df['Bottom']> 10)].copy()\n",
    "print(Counter(df_outlier3['counterfeit']))"
   ]
  },
  {
   "cell_type": "markdown",
   "id": "63131066",
   "metadata": {},
   "source": [
    "Vemos que ahora capturamos ocho falsificaciones. Aunque esto es una mejora con respecto al único billete falso que capturamos antes, todavía omitimos $92$ falsificaciones adicionales, lo que corresponde a una precisión del $4\\%$ por ciento. Además, cuantas más columnas numéricas tengamos en nuestros datos, más engorrosa se vuelve la tarea de detección de valores atípicos. Por esta razón, los diagramas de caja son ideales para conjuntos de datos pequeños y simples con pocas columnas."
   ]
  },
  {
   "cell_type": "markdown",
   "id": "b55e9f70",
   "metadata": {},
   "source": [
    "# Detección automática de valores atípicos"
   ]
  },
  {
   "cell_type": "markdown",
   "id": "6c28b576",
   "metadata": {},
   "source": [
    "[Isolation Forest](https://en.wikipedia.org/wiki/Isolation_forest) es un método de detección de valores atípicos que funciona seleccionando columnas aleatoriamente y sus valores para separar diferentes partes de los datos. Funciona bien con datos más complejos, como conjuntos con muchas más columnas y valores numéricos multimodales.\n",
    "\n",
    "Importemos el paquete [`IsolationForest`](https://scikit-learn.org/0.21/modules/generated/sklearn.ensemble.IsolationForest.html#sklearn.ensemble.IsolationForest) y ajustémoslo a las columnas de longitud, izquierda, derecha, inferior, superior y diagonal. Tenga en cuenta que este algoritmo solo recibe entradas porque es una técnica de aprendizaje automático no supervisada, a diferencia de las técnicas de aprendizaje automático supervisadas, que se entrenan tanto en funciones como en objetivos. Afortunadamente, aún podemos validar nuestras predicciones porque nuestros datos vienen con etiquetas falsificadas.\n",
    "\n",
    "Primero, importemos los paquetes necesarios:"
   ]
  },
  {
   "cell_type": "code",
   "execution_count": 14,
   "id": "a752d039",
   "metadata": {},
   "outputs": [],
   "source": [
    "from sklearn.ensemble import IsolationForest\n",
    "from sklearn.model_selection import train_test_split\n",
    "from sklearn.metrics import precision_score\n"
   ]
  },
  {
   "cell_type": "markdown",
   "id": "03e41788",
   "metadata": {},
   "source": [
    "A continuación, definamos nuestra entrada y salida (solo usaremos esto para validación, no para entrenamiento) y dividamos nuestros datos:"
   ]
  },
  {
   "cell_type": "code",
   "execution_count": 34,
   "id": "1350de8d",
   "metadata": {},
   "outputs": [],
   "source": [
    "X = df[['Length', 'Left', 'Right', 'Bottom', 'Top', 'Diagonal']]\n",
    "y = df['counterfeit']\n",
    "X_train, X_test, y_train, y_test = train_test_split(X, y, test_size=0.05, random_state=42)"
   ]
  },
  {
   "cell_type": "markdown",
   "id": "3fcb25e0",
   "metadata": {},
   "source": [
    "A continuación, ajustemos nuestro modelo a nuestras entradas:"
   ]
  },
  {
   "cell_type": "code",
   "execution_count": 35,
   "id": "da93f917",
   "metadata": {},
   "outputs": [],
   "source": [
    "clf = IsolationForest(random_state=0)\n",
    "clf.fit(X_train)\n",
    "y_pred = clf.predict(X_test)"
   ]
  },
  {
   "cell_type": "markdown",
   "id": "8c34acbb",
   "metadata": {},
   "source": [
    "Finalmente, predigamos los datos de la prueba y evaluemos la puntuación de precisión. Para nuestros propósitos aquí, validaremos para tener una idea de qué tan bien los métodos pueden detectar valores atípicos:"
   ]
  },
  {
   "cell_type": "code",
   "execution_count": 36,
   "id": "7de32fbf",
   "metadata": {},
   "outputs": [
    {
     "name": "stdout",
     "output_type": "stream",
     "text": [
      "Precision: 1.0\n"
     ]
    }
   ],
   "source": [
    "pred = pd.DataFrame({'pred': y_pred})\n",
    "pred['y_pred'] = np.where(pred['pred'] == -1, 1, 0)\n",
    "y_pred = pred['y_pred'] \n",
    "print(\"Precision:\", precision_score(y_test, y_pred))"
   ]
  },
  {
   "cell_type": "markdown",
   "id": "e0d8384f",
   "metadata": {},
   "source": [
    "Vemos que nuestro modelo de detección de valores atípicos tiene una precisión de $62,5\\%$. Compare esto con la precisión de $30\\%$ que logramos con los diagramas de caja. Este modelo también ofrece una precisión del $56\\%$, en comparación con el cuatro por ciento de los diagramas de caja, lo que muestra una mejora significativa en la detección de valores atípicos. Esto se debe a que los *Isolation Forest* pueden dividir los datos e identificar valores atípicos en múltiples características.\n",
    "\n",
    "Cuando utilizamos diagramas de caja, tenemos que inspeccionar manualmente los valores atípicos e intentar sacar conclusiones utilizando múltiples características, lo que se vuelve cada vez más difícil cuanto mayor es el número de características. Por ejemplo, puede tener un grupo de puntos donde los valores de características individuales pueden no ser valores atípicos, pero una combinación de valores puede ser anómala. Este tipo de comportamiento es difícil de detectar mediante la inspección de diagramas de caja."
   ]
  },
  {
   "cell_type": "code",
   "execution_count": null,
   "id": "e30e0a09",
   "metadata": {},
   "outputs": [],
   "source": []
  }
 ],
 "metadata": {
  "kernelspec": {
   "display_name": "Python 3 (ipykernel)",
   "language": "python",
   "name": "python3"
  },
  "language_info": {
   "codemirror_mode": {
    "name": "ipython",
    "version": 3
   },
   "file_extension": ".py",
   "mimetype": "text/x-python",
   "name": "python",
   "nbconvert_exporter": "python",
   "pygments_lexer": "ipython3",
   "version": "3.11.3"
  },
  "toc": {
   "base_numbering": 1,
   "nav_menu": {},
   "number_sections": true,
   "sideBar": true,
   "skip_h1_title": true,
   "title_cell": "Table of Contents",
   "title_sidebar": "Contents",
   "toc_cell": false,
   "toc_position": {
    "height": "calc(100% - 180px)",
    "left": "10px",
    "top": "150px",
    "width": "165px"
   },
   "toc_section_display": true,
   "toc_window_display": false
  }
 },
 "nbformat": 4,
 "nbformat_minor": 5
}
