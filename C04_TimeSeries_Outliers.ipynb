{
 "cells": [
  {
   "cell_type": "markdown",
   "id": "9b795f7e",
   "metadata": {},
   "source": [
    "<h1 align=\"center\">Analítica de datos para la toma de decisiones basadas en información</h1>\n",
    "<h1 align=\"center\">Series de tiempo y detección de Outliers</h1>\n",
    "<h1 align=\"center\">2023</h1>\n",
    "<h1 align=\"center\">MEDELLÍN - COLOMBIA </h1>"
   ]
  },
  {
   "cell_type": "markdown",
   "id": "51899269",
   "metadata": {},
   "source": [
    "*** \n",
    "|[![Gmail](https://img.shields.io/badge/Gmail-D14836?style=plastic&logo=gmail&logoColor=white)](mailto:carlosalvarezh@gmail.com)|<carlosalvarezh@gmail.com>|[![Open In Colab](https://colab.research.google.com/assets/colab-badge.svg)](https://colab.research.google.com/github/carlosalvarezh/Curso_CEC_EAFIT/blob/main/C04_TimeSeries_Outliers.ipynb)\n",
    "|-:|:-|--:|\n",
    "|[![LinkedIn](https://img.shields.io/badge/linkedin-%230077B5.svg?style=plastic&logo=linkedin&logoColor=white)](https://www.linkedin.com/in/carlosalvarez5/)|[![@alvarezhenao](https://img.shields.io/twitter/url/https/twitter.com/alvarezhenao.svg?style=social&label=Follow%20%40alvarezhenao)](https://twitter.com/alvarezhenao)|[![@carlosalvarezh](https://img.shields.io/badge/github-%23121011.svg?style=plastic&logo=github&logoColor=white)](https://github.com/carlosalvarezh)|\n",
    "\n",
    "<table>\n",
    " <tr align=left><td><img align=left src=\"https://github.com/carlosalvarezh/Curso_CEC_EAFIT/blob/main/images/CCLogoColorPop1.gif?raw=true\" width=\"25\">\n",
    " <td>Text provided under a Creative Commons Attribution license, CC-BY. All code is made available under the FSF-approved MIT license.(c) Carlos Alberto Alvarez Henao</td>\n",
    "</table>\n",
    "\n",
    "***"
   ]
  },
  {
   "cell_type": "markdown",
   "id": "66eac617",
   "metadata": {},
   "source": [
    "## Modelos generales para pronósticos a corto plazo (series de tiempo)"
   ]
  },
  {
   "cell_type": "markdown",
   "id": "edc1560b",
   "metadata": {},
   "source": [
    "### Introducción"
   ]
  },
  {
   "cell_type": "markdown",
   "id": "c91e8e72",
   "metadata": {},
   "source": [
    "En esta sección, exploraremos los modelos de pronóstico a corto plazo (*series de tiempo*), que son herramientas esenciales en la toma de decisiones empresariales. Estos modelos nos permiten prever las tendencias futuras y hacer predicciones precisas basadas en datos históricos y patrones observados."
   ]
  },
  {
   "cell_type": "markdown",
   "id": "72788e02",
   "metadata": {},
   "source": [
    "### Definición y Conceptos Clave"
   ]
  },
  {
   "cell_type": "markdown",
   "id": "d5582580",
   "metadata": {},
   "source": [
    "Los modelos de pronóstico a corto plazo son técnicas analíticas que se utilizan para predecir valores futuros de una variable basada en datos históricos, es decir, datos que dependen del tiempo y que generan una secuencia de observaciones en intervalos regulares de tiempo. Estos modelos son especialmente útiles cuando se busca anticipar el comportamiento en un horizonte de tiempo relativamente cercano, como días, semanas o meses. La previsión de series de tiempo tiene una enorme importancia comercial porque cosas que son importantes para un negocio como la demanda y las ventas, el número de visitantes a un sitio web, el precio de las acciones, etc., son esencialmente datos de series de tiempo. \n",
    "\n",
    "Una [serie de tiempo](https://en.wikipedia.org/wiki/Time_series) es una secuencia de observaciones realizadas en intervalos de tiempo regulares. Estos datos están indexados en función del tiempo y se utilizan para analizar patrones, tendencias y variabilidad a lo largo del tiempo. Las series de tiempo se encuentran en una amplia variedad de campos, como economía, finanzas, meteorología, ventas y más. Pueden ser unidimensionales (una única variable) o multidimensionales (varias variables relacionadas).\n",
    "\n",
    "Algunos conceptos clave incluyen:"
   ]
  },
  {
   "cell_type": "markdown",
   "id": "b8098fab",
   "metadata": {},
   "source": [
    "### Características de las Series Temporales"
   ]
  },
  {
   "cell_type": "markdown",
   "id": "55efb17a",
   "metadata": {},
   "source": [
    "Las series temporales tienen características distintivas que las hacen diferentes de otros tipos de datos. Algunas de las características clave incluyen:\n",
    "\n",
    "- ***Dependencia temporal:*** Los datos en una serie temporal están correlacionados a lo largo del tiempo. Las observaciones futuras dependen de las observaciones pasadas.\n",
    "<p>&nbsp;</p>\n",
    "\n",
    "- ***[Auto-correlación:](https://en.wikipedia.org/wiki/Autocorrelation)*** Existe una correlación entre los valores en diferentes momentos de tiempo. Esto significa que los valores pasados pueden ayudarnos a predecir los valores futuros.\n"
   ]
  },
  {
   "cell_type": "markdown",
   "id": "0f2f3e9b",
   "metadata": {},
   "source": [
    "### Componentes temporales"
   ]
  },
  {
   "cell_type": "markdown",
   "id": "ce5cf4c0",
   "metadata": {},
   "source": [
    "Las series temporales a menudo pueden descomponerse en componentes de tendencia, estacionalidad y ruido. La tendencia representa la dirección general de los datos, la estacionalidad refleja patrones recurrentes a lo largo del tiempo y el ruido representa la variabilidad no sistemática.\n",
    "<p>&nbsp;</p>\n",
    "\n",
    "\n",
    "- ***Tendencia:*** Se refiere a la dirección general en la que los datos se mueven a lo largo del tiempo. Puede ser ascendente (crecimiento) o descendente (declive). La identificación de la tendencia es fundamental para comprender el comportamiento subyacente de los datos. Las tendencias pueden ser lineales o no lineales y pueden ser afectadas por factores económicos, sociales y tecnológicos.\n",
    "<p>&nbsp;</p>\n",
    "\n",
    "- ***Estacionalidad:*** La [estacionalidad](https://en.wikipedia.org/wiki/Seasonality) se refiere a patrones recurrentes que ocurren en intervalos regulares dentro de una serie de tiempo. Estos patrones suelen estar asociados con factores estacionales, como las estaciones del año, días de la semana o eventos regulares. La estacionalidad puede ser aditiva o multiplicativa. Una estacionalidad aditiva significa que el efecto estacional se suma al nivel base de la serie, mientras que una estacionalidad multiplicativa significa que el efecto estacional se multiplica por el nivel base.\n",
    "<p>&nbsp;</p>\n",
    "\n",
    "- ***Componente Residual:*** El componente residual es la parte de una serie de tiempo que no puede ser explicada por la tendencia o la estacionalidad. Representa el ruido aleatorio, las fluctuaciones y las influencias impredecibles en los datos. El análisis del componente residual es importante para evaluar si un modelo de pronóstico está capturando adecuadamente las variaciones no explicadas."
   ]
  },
  {
   "cell_type": "markdown",
   "id": "6f88bd0b",
   "metadata": {},
   "source": [
    "***Ejemplo:***\n",
    "\n",
    "En el siguiente código veamos cómo se visualiza la descomposición de la tendencia, estacionalidad y componente residual, empleando la función [`seasonal_decompose`](https://www.statsmodels.org/dev/generated/statsmodels.tsa.seasonal.seasonal_decompose.html) de la biblioteca `statsmodels` de `python`. "
   ]
  },
  {
   "cell_type": "code",
   "execution_count": null,
   "id": "ed89656b",
   "metadata": {
    "scrolled": true
   },
   "outputs": [],
   "source": [
    "import numpy as np\n",
    "import pandas as pd \n",
    "import matplotlib.pyplot as plt\n",
    "import seaborn as sns \n",
    "from statsmodels.tsa.stattools import adfuller\n",
    "from statsmodels.tsa.seasonal import seasonal_decompose\n",
    "\n",
    "data = pd.read_csv(\"Data/AirPassengers.csv\")\n",
    "\n",
    "decompose = seasonal_decompose(data['#Passengers'],model='additive', period=7)\n",
    "decompose.plot()\n",
    "plt.show()"
   ]
  },
  {
   "cell_type": "code",
   "execution_count": null,
   "id": "bc4bf3a6",
   "metadata": {
    "scrolled": true
   },
   "outputs": [],
   "source": [
    "data.head()"
   ]
  },
  {
   "cell_type": "code",
   "execution_count": null,
   "id": "15b1dfae",
   "metadata": {
    "scrolled": true
   },
   "outputs": [],
   "source": [
    "data.info()"
   ]
  },
  {
   "cell_type": "code",
   "execution_count": null,
   "id": "3d872da2",
   "metadata": {},
   "outputs": [],
   "source": [
    "# Cargar datos de una serie temporal desde un archivo CSV\n",
    "data['Month'] = pd.to_datetime(data['Month'])"
   ]
  },
  {
   "cell_type": "code",
   "execution_count": null,
   "id": "0a85a6be",
   "metadata": {},
   "outputs": [],
   "source": [
    "data.head()"
   ]
  },
  {
   "cell_type": "code",
   "execution_count": null,
   "id": "9c72934b",
   "metadata": {},
   "outputs": [],
   "source": [
    "data.info()"
   ]
  },
  {
   "cell_type": "code",
   "execution_count": null,
   "id": "8dac6e77",
   "metadata": {},
   "outputs": [],
   "source": [
    "data.set_index('Month', inplace=True)"
   ]
  },
  {
   "cell_type": "code",
   "execution_count": null,
   "id": "57551e3f",
   "metadata": {},
   "outputs": [],
   "source": [
    "data.head()"
   ]
  },
  {
   "cell_type": "code",
   "execution_count": null,
   "id": "5c870b50",
   "metadata": {},
   "outputs": [],
   "source": [
    "data.describe()"
   ]
  },
  {
   "cell_type": "markdown",
   "id": "56044ebc",
   "metadata": {},
   "source": [
    "### Preparación de Datos"
   ]
  },
  {
   "cell_type": "markdown",
   "id": "ee117b26",
   "metadata": {},
   "source": [
    "La calidad de los datos y su adecuada preparación son fundamentales para obtener pronósticos precisos y resultados significativos."
   ]
  },
  {
   "cell_type": "markdown",
   "id": "3f2b5e20",
   "metadata": {},
   "source": [
    "#### Limpieza de Datos"
   ]
  },
  {
   "cell_type": "markdown",
   "id": "d988cbe2",
   "metadata": {},
   "source": [
    "- ***Eliminación de valores atípicos:*** Los valores extremos pueden afectar negativamente el rendimiento de los modelos. Identificar y eliminarlos es esencial.\n",
    "<p>&nbsp;</p>\n",
    "\n",
    "- ***Detección y tratamiento de valores atípicos:*** Es importante identificar y tratar valores atípicos de manera adecuada, ya sea eliminándolos, suavizándolos o asignándoles un valor más apropiado.\n",
    "<p>&nbsp;</p>\n",
    "\n",
    "- ***Resolución de duplicados:*** Si hay duplicados en los datos, es necesario manejarlos para evitar problemas en el análisis."
   ]
  },
  {
   "cell_type": "markdown",
   "id": "bbc2a98f",
   "metadata": {},
   "source": [
    "####  Manejo de Valores Faltantes"
   ]
  },
  {
   "cell_type": "markdown",
   "id": "5efd78c5",
   "metadata": {},
   "source": [
    "- ***Interpolación:*** Puedes utilizar métodos de interpolación para estimar los valores faltantes a partir de los valores circundantes.\n",
    "<p>&nbsp;</p>\n",
    "\n",
    "- ***Relleno con valores medios o medianas:*** En algunos casos, rellenar los valores faltantes con la media o la mediana de la serie puede ser apropiado.\n",
    "<p>&nbsp;</p>\n",
    "\n",
    "- ***Eliminación de registros con valores faltantes:*** Si la cantidad de valores faltantes es pequeña en comparación con la longitud de la serie, puedes optar por eliminar los registros con valores faltantes."
   ]
  },
  {
   "cell_type": "markdown",
   "id": "82fd28e2",
   "metadata": {},
   "source": [
    "#### Transformación de Datos"
   ]
  },
  {
   "cell_type": "markdown",
   "id": "4af9c7f9",
   "metadata": {},
   "source": [
    "Las transformaciones de datos son útiles para estabilizar la varianza, hacer que la serie sea estacionaria o reducir la tendencia. Algunas técnicas comunes incluyen:\n",
    "\n",
    "- ***Transformación logarítmica:*** Puedes aplicar una transformación logarítmica a la serie si tiene una tendencia exponencial o creciente.\n",
    "<p>&nbsp;</p>\n",
    "\n",
    "- ***Diferenciación:*** La diferenciación implica calcular la diferencia entre valores consecutivos para eliminar la tendencia. Puedes realizar una diferenciación de primer o segundo orden, según sea necesario.\n",
    "<p>&nbsp;</p>\n",
    "\n",
    "- ***Eliminación de estacionalidad:*** Para series con patrones estacionales, puedes eliminar la estacionalidad dividiendo cada punto de datos por el valor del mismo período en el año anterior."
   ]
  },
  {
   "cell_type": "code",
   "execution_count": null,
   "id": "349f007c",
   "metadata": {},
   "outputs": [],
   "source": [
    "import pandas as pd\n",
    "import matplotlib.pyplot as plt\n",
    "from matplotlib.ticker import MaxNLocator\n",
    "\n",
    "# Realizar una transformación logarítmica\n",
    "data['#Passengers_log'] = data['#Passengers'].apply(lambda x: np.log(x))\n",
    "\n",
    "# Crear subplots\n",
    "fig, axes = plt.subplots(1, 2, figsize=(15, 6))\n",
    "\n",
    "# Visualizar la serie temporal original\n",
    "axes[0].plot(data['Month'], data['#Passengers'], marker='o', linestyle='-')\n",
    "axes[0].set_title('Serie Temporal Original')\n",
    "axes[0].set_ylabel('#Passengers')\n",
    "axes[0].grid(True)\n",
    "\n",
    "# Realizar una diferenciación estacional de primer orden (12 meses)\n",
    "data['#Passengers_diff'] = data['#Passengers'] - data['#Passengers'].shift(12)\n",
    "axes[1].plot(data['Month'], data['#Passengers_diff'], marker='o', linestyle='-')\n",
    "axes[1].set_title('Diferenciación Estacional (12 meses)')\n",
    "axes[1].set_ylabel('Diferencia')\n",
    "axes[1].grid(True)\n",
    "\n",
    "# Establecer el formato del eje x para mostrar etiquetas cada 5 años\n",
    "for ax in axes:\n",
    "    ax.xaxis.set_major_locator(MaxNLocator(integer=True))\n",
    "    start, end = ax.get_xlim()\n",
    "    ax.xaxis.set_ticks(np.arange(start, end, 12*5))  # Muestra las etiquetas cada 5 años (5*12 = 60 meses)\n",
    "\n",
    "plt.tight_layout()\n",
    "plt.show()\n"
   ]
  },
  {
   "cell_type": "markdown",
   "id": "e05a4697",
   "metadata": {},
   "source": [
    "### Análisis Exploratorio de Datos"
   ]
  },
  {
   "cell_type": "markdown",
   "id": "fde89769",
   "metadata": {},
   "source": [
    "El análisis exploratorio de datos en series temporales es fundamental para comprender la estructura y los patrones inherentes a los datos antes de desarrollar modelos de pronóstico. En esta sección, exploraremos cómo llevar a cabo este análisis utilizando Python."
   ]
  },
  {
   "cell_type": "markdown",
   "id": "696a82c4",
   "metadata": {},
   "source": [
    "#### Visualización de la Serie Temporal"
   ]
  },
  {
   "cell_type": "markdown",
   "id": "bff43014",
   "metadata": {},
   "source": [
    "La visualización de la serie temporal es el primer paso en el análisis exploratorio. Algunas de las técnicas comunes de visualización incluyen:\n",
    "\n",
    "- ***Gráficos de líneas:*** Visualizar la serie temporal en un gráfico de líneas para observar la tendencia y cualquier patrón estacional.\n",
    "<p>&nbsp;</p>\n",
    "\n",
    "- ***Histogramas:*** Analizar la distribución de los datos para comprender su forma y simetría.  \n",
    "<p>&nbsp;</p>\n",
    "\n",
    "- ***Gráficos de autocorrelación:*** Identificar la dependencia temporal entre los valores observados en diferentes momentos.\n"
   ]
  },
  {
   "cell_type": "markdown",
   "id": "6d7cc74a",
   "metadata": {},
   "source": [
    "####  Descomposición de la Serie"
   ]
  },
  {
   "cell_type": "markdown",
   "id": "4da070c1",
   "metadata": {},
   "source": [
    "La descomposición de la serie implica dividirla en sus componentes principales, que suelen incluir:\n",
    "\n",
    "- ***Componente de tendencia:*** La dirección general de los datos a lo largo del tiempo. Puede ser ascendente, descendente o plano.\n",
    "<p>&nbsp;</p>\n",
    "\n",
    "- ***Componente de estacionalidad:*** Patrones que se repiten en intervalos regulares, como estacionalidad mensual o anual.\n",
    "<p>&nbsp;</p>\n",
    "\n",
    "- ***Componente de ruido:*** La variabilidad no sistemática que no se atribuye a la tendencia o la estacionalidad.\n",
    "\n",
    "La descomposición ayuda a identificar patrones más claramente y facilita el modelado posterior.\n"
   ]
  },
  {
   "cell_type": "markdown",
   "id": "413ae775",
   "metadata": {},
   "source": [
    "#### Identificación de Patrones y Estacionalidad"
   ]
  },
  {
   "cell_type": "markdown",
   "id": "56b6a025",
   "metadata": {},
   "source": [
    "En este paso, se busca identificar patrones y estacionalidad en la serie temporal. Esto puede incluir:\n",
    "\n",
    "- Patrones estacionales recurrentes a lo largo del año o de un período más corto.\n",
    "<p>&nbsp;</p>\n",
    "\n",
    "- Tendencias a largo plazo, que pueden ser ascendentes o descendentes.\n",
    "<p>&nbsp;</p>\n",
    "- Ciclos, que representan patrones recurrentes pero no necesariamente de duración fija.\n"
   ]
  },
  {
   "cell_type": "markdown",
   "id": "55ead68a",
   "metadata": {},
   "source": [
    "### Modelos Autoregresivos (AR)"
   ]
  },
  {
   "cell_type": "markdown",
   "id": "290452f1",
   "metadata": {},
   "source": [
    "Los [modelos autoregresivos](https://en.wikipedia.org/wiki/Autoregressive_model) (*AR*) son una parte fundamental del análisis de series temporales. En esta sección, exploraremos los conceptos clave relacionados con los modelos AR y cómo implementarlos en Python.\n",
    "\n",
    "Los modelos *AR* son un tipo de modelo estadístico utilizado en el análisis de series temporales. La idea central de un modelo *AR* es que el valor actual de la serie temporal depende linealmente de sus valores anteriores. El orden de un modelo *AR* se denota como \"$p$\" y se refiere al número de períodos de retraso en los que se basa la predicción. Un modelo $AR(p)$ se puede expresar como:\n",
    "\n",
    "$$\n",
    "X_t = c + \\phi_1 X_{t-1} + \\phi_2 X_{t-2} + \\ldots + \\phi_p X_{t-p} + \\varepsilon_t\n",
    "$$\n",
    "\n",
    "Donde:\n",
    "- $X_t$ es el valor en el tiempo \\(t\\).\n",
    "- $c$ es una constante.\n",
    "- $\\phi_1, \\phi_2, \\ldots, \\phi_p$ son los coeficientes de autoregresión.\n",
    "- $\\varepsilon_t$ es el término de error en el tiempo $t$.\n",
    "\n",
    "***Identificación del Orden de un Modelo AR***\n",
    "\n",
    "Para identificar el orden apropiado de un modelo $AR(p$), se pueden utilizar técnicas como el *análisis de autocorrelación* (*ACF*) y el *análisis de autocorrelación parcial* (*PACF*). Estas técnicas ayudan a determinar cuántos lags anteriores son significativos y, por lo tanto, deben incluirse en el modelo.\n",
    "\n",
    "***Estimación de Parámetros (Método de Máxima Verosimilitud)***\n",
    "\n",
    "La estimación de los coeficientes de autoregresión $(\\phi_1, \\phi_2, \\ldots, \\phi_p$) se realiza típicamente mediante el método de *máxima verosimilitud*. Este método busca encontrar los valores de los coeficientes que maximizan la verosimilitud de los datos observados dadas las suposiciones del modelo *AR*.\n",
    "\n",
    "***Predicción utilizando un Modelo AR***\n",
    "\n",
    "Una vez que se ha estimado un modelo *AR*, se puede utilizar para hacer pronósticos a corto plazo. Los valores futuros se calculan utilizando los valores pasados y los coeficientes estimados del modelo AR. La predicción se realiza iterativamente utilizando valores previos.\n",
    "\n",
    "***Ejemplo Aplicativo en Python***\n",
    "\n",
    "A continuación, presento un ejemplo aplicativo en Python que implementa y realiza pronósticos con un modelo AR utilizando la biblioteca `statsmodels`:"
   ]
  },
  {
   "cell_type": "code",
   "execution_count": null,
   "id": "d8b3d6a2",
   "metadata": {},
   "outputs": [],
   "source": [
    "data.head()"
   ]
  },
  {
   "cell_type": "code",
   "execution_count": null,
   "id": "5c086870",
   "metadata": {},
   "outputs": [],
   "source": [
    "import pandas as pd\n",
    "import matplotlib.pyplot as plt\n",
    "from statsmodels.tsa.ar_model import AutoReg\n",
    "\n",
    "# Cargar datos de una serie temporal desde un archivo CSV\n",
    "#data['Month'] = pd.to_datetime(data['Month'])\n",
    "#data.set_index('Month', inplace=True)\n",
    "\n",
    "# Visualizar la serie temporal\n",
    "plt.figure(figsize=(10, 4))\n",
    "plt.plot(data['#Passengers'], marker='o', linestyle='-')\n",
    "plt.title('Serie Temporal Original')\n",
    "plt.xlabel('Month')\n",
    "plt.ylabel('#Passengers')\n",
    "plt.grid(True)\n",
    "plt.show()\n",
    "\n",
    "# Estimar un modelo AR con orden 2\n",
    "order = 2\n",
    "model = AutoReg(data['#Passengers'], lags=order)\n",
    "results = model.fit()\n",
    "\n",
    "# Realizar pronósticos\n",
    "n_forecast = 12  # Número de periodos a pronosticar\n",
    "forecast = results.predict(start=len(data), end=len(data) + n_forecast - 1, dynamic=False)\n",
    "\n",
    "# Visualizar los pronósticos\n",
    "plt.figure(figsize=(10, 4))\n",
    "plt.plot(data['#Passengers'], marker='o', linestyle='-', label='Observado')\n",
    "plt.plot(forecast, marker='o', linestyle='--', color='red', label='Pronóstico')\n",
    "plt.title('Pronóstico con Modelo AR(2)')\n",
    "plt.xlabel('Month')\n",
    "plt.ylabel('#Passengers')\n",
    "plt.legend()\n",
    "plt.grid(True)\n",
    "plt.show()\n"
   ]
  },
  {
   "cell_type": "markdown",
   "id": "97a48f97",
   "metadata": {},
   "source": [
    "Este ejemplo carga una serie temporal, estima un modelo AR(2) y realiza pronósticos para los próximos 12 periodos. Los resultados se visualizan junto con los datos observados en un gráfico.\n",
    "\n",
    "Este es un resumen de cómo se pueden utilizar los modelos AR para realizar pronósticos en series temporales. La identificación del orden y la estimación de los parámetros son pasos críticos en este proceso."
   ]
  },
  {
   "cell_type": "markdown",
   "id": "99f7b7a7",
   "metadata": {},
   "source": [
    "### Procedimiento de Trabajo y Casos de Uso"
   ]
  },
  {
   "cell_type": "markdown",
   "id": "62259633",
   "metadata": {},
   "source": [
    "- ***Recopilación de Datos:*** Recolectar datos históricos en intervalos de tiempo regulares.\n",
    "<p>&nbsp;</p>\n",
    "\n",
    "- ***Exploración y Visualización:*** Graficar los datos para identificar tendencias y patrones estacionales. Esto puede incluir trazar la serie de tiempo, calcular estadísticas descriptivas y detectar valores atípicos.\n",
    "<p>&nbsp;</p>\n",
    "\n",
    "- ***Descomposición:*** Descomponer la serie de tiempo en sus componentes clave: tendencia, estacionalidad y componente residual.\n",
    "<p>&nbsp;</p>\n",
    "\n",
    "- ***Modelado y Pronóstico:*** Utilizar métodos de pronóstico adecuados, como Suavización Exponencial, ARIMA, regresión, etc., para predecir los valores futuros basados en los componentes identificados.\n",
    "<p>&nbsp;</p>\n",
    "\n",
    "- ***Evaluación y Ajuste:*** Evaluar el rendimiento del modelo utilizando indicadores como MAE, MSE, RMSE y MAPE. Ajustar el modelo si es necesario para mejorar la precisión."
   ]
  },
  {
   "cell_type": "markdown",
   "id": "9e28e5c2",
   "metadata": {},
   "source": [
    "#### Ventajas y Desventajas"
   ]
  },
  {
   "cell_type": "markdown",
   "id": "16d16184",
   "metadata": {},
   "source": [
    "***Ventajas:***\n",
    "\n",
    "- ***Toma de Decisiones Informadas:*** Los modelos de pronóstico ayudan a tomar decisiones empresariales basadas en datos históricos y patrones observados.\n",
    "<p>&nbsp;</p>\n",
    "\n",
    "- ***Anticipación de Tendencias:*** Permite anticipar tendencias futuras y comportamientos estacionales, lo que ayuda a planificar y optimizar recursos.\n",
    "<p>&nbsp;</p>\n",
    "\n",
    "- ***Análisis de Impacto:*** Permite evaluar el impacto de cambios en variables clave en el futuro.\n",
    "\n",
    "***Desventajas:***\n",
    "\n",
    "- ***Datos Insuficientes:*** Los modelos de pronóstico requieren una cantidad suficiente de datos históricos para ser efectivos. En situaciones con datos limitados, la precisión puede ser baja.\n",
    "<p>&nbsp;</p>\n",
    "\n",
    "- ***Incertidumbre:*** Los modelos de pronóstico no pueden predecir eventos inesperados o disruptivos, lo que puede afectar la precisión de las predicciones.\n",
    "<p>&nbsp;</p>\n",
    "\n",
    "- ***Sensibilidad a Cambios:*** Los modelos pueden ser sensibles a cambios abruptos en los datos históricos, lo que puede generar predicciones inexactas."
   ]
  },
  {
   "cell_type": "markdown",
   "id": "3426b1b3",
   "metadata": {},
   "source": [
    "#### Aspectos a Considerar en el Análisis"
   ]
  },
  {
   "cell_type": "markdown",
   "id": "8f601a82",
   "metadata": {},
   "source": [
    "- ***Tamaño de la Muestra:*** Es importante tener suficientes datos históricos para desarrollar modelos confiables.\n",
    "<p>&nbsp;</p>\n",
    "\n",
    "- ***Identificación de Patrones:*** Buscar tendencias y estacionalidades en los datos para seleccionar el modelo adecuado.\n",
    "<p>&nbsp;</p>\n",
    "\n",
    "- ***Ajuste de Parámetros:*** Algunos modelos, como ARIMA, requieren ajuste de parámetros. La selección incorrecta puede afectar la calidad del pronóstico.\n",
    "<p>&nbsp;</p>\n",
    "\n",
    "- ***Validación Cruzada:*** Utilizar técnicas como la validación cruzada para evaluar la capacidad del modelo para generalizar a nuevos datos.\n",
    "<p>&nbsp;</p>\n",
    "\n",
    "- ***Evaluación Continua:*** Los modelos deben ser evaluados y ajustados regularmente a medida que llegan nuevos datos para garantizar su precisión continua."
   ]
  },
  {
   "cell_type": "markdown",
   "id": "6046ce19",
   "metadata": {},
   "source": [
    "Ver ejemplo en el archivo [Ejemplos_C02_5_TimeSeriesAnalysis.ipynb](./Ejemplos_C02_5_TimeSeriesAnalysis.ipynb)"
   ]
  },
  {
   "cell_type": "markdown",
   "id": "c028bf6e",
   "metadata": {},
   "source": [
    "## Identificación de datos raros (outliers) y métodos explicativos en presencia de datos raros no identificados (Regresión robusta)"
   ]
  },
  {
   "cell_type": "markdown",
   "id": "88f3136d",
   "metadata": {},
   "source": [
    "### Introducción"
   ]
  },
  {
   "cell_type": "markdown",
   "id": "5cc95b9b",
   "metadata": {},
   "source": [
    " En esta sección, exploraremos cómo lidiar con un desafío común en el análisis de datos: los datos raros (outliers) y cómo afectan nuestros modelos predictivos. Además, aprenderemos sobre una técnica poderosa llamada regresión robusta que nos permite construir modelos de predicción confiables incluso en presencia de datos raros."
   ]
  },
  {
   "cell_type": "markdown",
   "id": "89c35924",
   "metadata": {},
   "source": [
    "### Identificación de Datos Raros (Outliers)"
   ]
  },
  {
   "cell_type": "markdown",
   "id": "1d19ff6e",
   "metadata": {},
   "source": [
    "#### Definición y Concepto"
   ]
  },
  {
   "cell_type": "markdown",
   "id": "9f42d705",
   "metadata": {},
   "source": [
    "Los datos raros, también conocidos como [outliers](https://en.wikipedia.org/wiki/Outlier), son observaciones que se desvían significativamente del patrón general de los datos en un conjunto. Estos valores atípicos pueden surgir debido a errores de medición, eventos inusuales o simplemente representar casos extremadamente inusuales. La identificación de outliers es crucial ya que pueden tener un impacto adverso en nuestros modelos predictivos al sesgar los resultados y afectar la interpretación."
   ]
  },
  {
   "cell_type": "markdown",
   "id": "33e3651f",
   "metadata": {},
   "source": [
    " #### Indicadores para la Identificación de Outliers"
   ]
  },
  {
   "cell_type": "markdown",
   "id": "e0164a70",
   "metadata": {},
   "source": [
    "Para identificar datos raros, utilizamos diferentes indicadores y técnicas:"
   ]
  },
  {
   "cell_type": "markdown",
   "id": "1bb3da4b",
   "metadata": {},
   "source": [
    "##### Gráficos de Dispersión"
   ]
  },
  {
   "cell_type": "markdown",
   "id": "07782fb2",
   "metadata": {},
   "source": [
    "Los gráficos de dispersión nos permiten visualizar la relación entre dos variables. Los outliers pueden aparecer como puntos aislados en el gráfico."
   ]
  },
  {
   "cell_type": "markdown",
   "id": "f0796a88",
   "metadata": {},
   "source": [
    "##### Diagrama de Caja (Boxplot)"
   ]
  },
  {
   "cell_type": "markdown",
   "id": "5cf605d6",
   "metadata": {},
   "source": [
    "Los diagramas de caja son herramientas visuales que resumen la distribución de un conjunto de datos, mostrando la mediana, cuartiles y posibles valores atípicos. Los puntos fuera de los \"bigotes\" del diagrama se consideran outliers."
   ]
  },
  {
   "cell_type": "markdown",
   "id": "fe5abcb7",
   "metadata": {},
   "source": [
    "##### Z-Score y Puntuación T"
   ]
  },
  {
   "cell_type": "markdown",
   "id": "349ee3da",
   "metadata": {},
   "source": [
    "El [Z-Score](https://en.wikipedia.org/wiki/Standard_score) y la [puntuación T](https://en.wikipedia.org/wiki/Student%27s_t-test) (*t-student*) son medidas que indican cuántas desviaciones estándar una observación está lejos de la media. Valores altos en estas métricas pueden indicar outliers potenciales."
   ]
  },
  {
   "cell_type": "markdown",
   "id": "27f4eb51",
   "metadata": {},
   "source": [
    "##### Rango Intercuartílico (IQR)"
   ]
  },
  {
   "cell_type": "markdown",
   "id": "e4916b49",
   "metadata": {},
   "source": [
    "El *IQR* es la diferencia entre el tercer cuartil y el primer cuartil en un diagrama de caja. Los valores fuera de $1.5$ veces el *IQR* por encima del tercer cuartil o por debajo del primer cuartil son considerados outliers."
   ]
  },
  {
   "cell_type": "markdown",
   "id": "d71a3d74",
   "metadata": {},
   "source": [
    "### Regresión Robusta"
   ]
  },
  {
   "cell_type": "markdown",
   "id": "8d44d79b",
   "metadata": {},
   "source": [
    "#### Desafíos de la Regresión Clásica"
   ]
  },
  {
   "cell_type": "markdown",
   "id": "7be45721",
   "metadata": {},
   "source": [
    "En la regresión clásica, estamos asumiendo que los datos siguen una distribución normal y que los outliers tienen un impacto limitado en nuestros resultados. Sin embargo, esto no siempre es cierto en la realidad. Los outliers pueden distorsionar severamente los coeficientes de regresión y hacer que nuestros modelos sean poco confiables."
   ]
  },
  {
   "cell_type": "markdown",
   "id": "4999d440",
   "metadata": {},
   "source": [
    "#### Introducción a la Regresión Robusta"
   ]
  },
  {
   "cell_type": "markdown",
   "id": "41d22e7f",
   "metadata": {},
   "source": [
    "La [regresión robusta](https://en.wikipedia.org/wiki/Robust_regression) es una técnica que aborda los desafíos de los outliers al construir modelos de predicción más sólidos. A diferencia de la regresión clásica, la regresión robusta asigna menos peso a los datos que son influenciados por outliers, lo que permite que el modelo se adapte mejor a los patrones reales de los datos."
   ]
  },
  {
   "cell_type": "markdown",
   "id": "b2489c59",
   "metadata": {},
   "source": [
    "#### Métodos de Regresión Robusta"
   ]
  },
  {
   "cell_type": "markdown",
   "id": "264480e4",
   "metadata": {},
   "source": [
    "##### M-Estimadores"
   ]
  },
  {
   "cell_type": "markdown",
   "id": "754a3a96",
   "metadata": {},
   "source": [
    "Los [M-Estimadores](https://en.wikipedia.org/wiki/M-estimator) son una clase de técnicas de regresión robusta que minimizan una función objetivo que combina la suma de residuos ponderados. Esto hace que el modelo sea menos sensible a los outliers."
   ]
  },
  {
   "cell_type": "markdown",
   "id": "082afda0",
   "metadata": {},
   "source": [
    "##### Regresión MM (Mínimos Cuadrados Medianamente Ponderados)"
   ]
  },
  {
   "cell_type": "markdown",
   "id": "dab135b8",
   "metadata": {},
   "source": [
    "Esta técnica combina las ventajas de los M-Estimadores y la mediana, lo que la hace más robusta en presencia de datos con outliers."
   ]
  },
  {
   "cell_type": "markdown",
   "id": "7d4e974c",
   "metadata": {},
   "source": [
    "##### Regresión Huber"
   ]
  },
  {
   "cell_type": "markdown",
   "id": "e5905b85",
   "metadata": {},
   "source": [
    "La [regresión Huber](https://en.wikipedia.org/wiki/Huber_loss) (*Huber loss*) utiliza una función de pérdida que es cuadrática cerca del origen y lineal lejos del origen. Esto permite que tenga un comportamiento robusto en la presencia de outliers sin descartar por completo su influencia."
   ]
  },
  {
   "cell_type": "markdown",
   "id": "4d00bdd8",
   "metadata": {},
   "source": [
    "### Ejemplo"
   ]
  },
  {
   "cell_type": "code",
   "execution_count": null,
   "id": "7c71691a",
   "metadata": {
    "scrolled": false
   },
   "outputs": [],
   "source": [
    "import numpy as np\n",
    "import matplotlib.pyplot as plt\n",
    "from scipy import stats\n",
    "import statsmodels.api as sm\n",
    "\n",
    "# Generar datos sintéticos con outliers\n",
    "np.random.seed(42)\n",
    "n = 100\n",
    "X = np.random.rand(n)\n",
    "y = 2*X + 1 + 0.2*np.random.randn(n)\n",
    "y[95] = 30  # Introducir un outlier\n",
    "\n",
    "# Gráfico de dispersión\n",
    "plt.scatter(X, y)\n",
    "plt.title('Gráfico de Dispersión con Outlier')\n",
    "plt.xlabel('X')\n",
    "plt.ylabel('y')\n",
    "plt.show()\n",
    "\n",
    "# Calcular Z-Score\n",
    "z_scores = np.abs(stats.zscore(y))\n",
    "\n",
    "# Calcular puntuación T\n",
    "t_scores = np.abs((y - np.mean(y)) / np.std(y))\n",
    "\n",
    "# Diagrama de Caja\n",
    "plt.boxplot(y)\n",
    "plt.title('Diagrama de Caja')\n",
    "plt.show()\n",
    "\n",
    "# Regresión clásica\n",
    "X_constant = sm.add_constant(X)\n",
    "model = sm.OLS(y, X_constant).fit()\n",
    "\n",
    "# Regresión robusta usando M-Estimadores\n",
    "robust_model = sm.RLM(y, X_constant).fit()\n",
    "\n",
    "# Imprimir resultados\n",
    "print(\"Resultados de la Regresión Clásica:\")\n",
    "print(model.summary())\n",
    "\n",
    "print(\"\\nResultados de la Regresión Robusta (M-Estimadores):\")\n",
    "print(robust_model.summary())\n"
   ]
  },
  {
   "cell_type": "markdown",
   "id": "6f095c57",
   "metadata": {},
   "source": [
    "#### Análisis de Resultados"
   ]
  },
  {
   "cell_type": "markdown",
   "id": "30cbd16d",
   "metadata": {},
   "source": [
    "***Regresión clásica:***\n",
    "\n",
    "| item  |  coef     | std err  |      t    |    P>t     |    [0.025 |   0.975]|\n",
    "|:-----:|:---------:|:--------:|:---------:|:----------:|:--------:|:-------:|\n",
    "|const  |  1.2891   |   0.530  |    2.434  |    0.017   |    0.238 |    2.340|\n",
    "|x1     |  1.9840   |   0.953  |    2.082  |    0.040   |    0.093 |    3.875|\n",
    "\n",
    "\n",
    "|Estadístico                 |  valor  | Estadístico                | Valor     |\n",
    "|:--------------------------:|:-------:|:--------------------------:|:---------:|\n",
    "|Omnibus:                    |  215.266| Durbin-Watson:             |      2.035|\n",
    "|Prob(Omnibus):              |    0.000| Jarque-Bera (JB):          |  38566.153|\n",
    "|Skew:                       |    9.787| Prob(JB):                  |       0.00|\n",
    "|Kurtosis:                   |   97.195| Cond. No.                  |       4.18|\n",
    "\n",
    "En resumen, la interpretación de los resultados es la siguiente:\n",
    "\n",
    "- Los valores $t$ y los valores $p$ indican la significancia estadística de los coeficientes. En este caso, el coeficiente del intercepto es estadísticamente significativo al nivel de significancia del $0.05$ ($p = 0.017$), mientras que el coeficiente de $x1$ es también significativo al mismo nivel ($p = 0.040$).\n",
    "\n",
    "- Los intervalos de confianza proporcionan un rango en el cual es probable que se encuentre el valor real del coeficiente en la población.\n",
    "\n",
    "- Las estadísticas de diagnóstico en la parte inferior de la tabla pueden ayudar a evaluar la calidad del ajuste del modelo y la validez de las suposiciones. Por ejemplo, un valor $p$ bajo en *Omnibus* y un valor alto en *Jarque-Bera* pueden indicar problemas con la normalidad de los residuos. El valor de *Durbin-Watson* se refiere a la autocorrelación en los residuos.\n",
    "\n",
    "En resumen, estos resultados sugieren que los coeficientes son significativos, pero los diagnósticos indican que el modelo podría tener problemas con la normalidad de los residuos y la posible autocorrelación. La regresión robusta podría proporcionar una estimación más confiable en este caso.\n",
    "\n",
    "***Regresión Robusta:***\n",
    "\n",
    "| item  |  coef     | std err  |      z    |    P>z     |    [0.025 |   0.975]|\n",
    "|:-----:|:---------:|:--------:|:---------:|:----------:|:--------:|:-------:|\n",
    "|const  |    1.0423 |    0.036 |    28.603 |      0.000 |    0.971       1.114\n",
    "|x1     |    1.9106 |    0.066 |    29.132 |      0.000 |    1.782       2.039\n",
    "\n",
    "- El valor \"$z$\" se calcula dividiendo el coeficiente por su error estándar, y el valor $p$ ($p>|z|$) representa la probabilidad de observar un valor $z$ igual o mayor si el coeficiente no tuviera ningún efecto en la variable dependiente. En este caso, los valores $p$ asociados con ambos coeficientes son $0.000$, lo que sugiere que tanto el intercepto como el coeficiente de $x1$ son estadísticamente significativos.\n",
    "\n",
    "En resumen, estos resultados confirman que tanto el intercepto como el coeficiente de la variable independiente son significativos en el modelo de regresión robusta utilizando *M-Estimadores*. Además, la regresión robusta ayuda a mitigar el impacto potencial de los outliers en los coeficientes estimados, proporcionando resultados más confiables en presencia de datos raros"
   ]
  },
  {
   "cell_type": "markdown",
   "id": "00bd8d42",
   "metadata": {},
   "source": [
    "Ver ejemplo en el archivo [Ejemplos_C02_6_Outliers.ipynb](./Ejemplos_C02_6_Outliers.ipynb)"
   ]
  }
 ],
 "metadata": {
  "kernelspec": {
   "display_name": "Python 3 (ipykernel)",
   "language": "python",
   "name": "python3"
  },
  "language_info": {
   "codemirror_mode": {
    "name": "ipython",
    "version": 3
   },
   "file_extension": ".py",
   "mimetype": "text/x-python",
   "name": "python",
   "nbconvert_exporter": "python",
   "pygments_lexer": "ipython3",
   "version": "3.11.3"
  },
  "toc": {
   "base_numbering": 1,
   "nav_menu": {},
   "number_sections": true,
   "sideBar": true,
   "skip_h1_title": true,
   "title_cell": "Table of Contents",
   "title_sidebar": "Contents",
   "toc_cell": false,
   "toc_position": {
    "height": "calc(100% - 180px)",
    "left": "10px",
    "top": "150px",
    "width": "165px"
   },
   "toc_section_display": true,
   "toc_window_display": false
  }
 },
 "nbformat": 4,
 "nbformat_minor": 5
}
