{
 "cells": [
  {
   "cell_type": "markdown",
   "id": "2f6e1045",
   "metadata": {},
   "source": [
    "<h1 align=\"center\">Analítica de datos para la toma de decisiones empresariales</h1>\n",
    "<h1 align=\"center\">Python: Crash Course</h1>\n",
    "<h1 align=\"center\">Centro de Educación Continua</h1>\n",
    "<h1 align=\"center\">EAFIT</h1>\n",
    "<h1 align=\"center\">2023</h1>\n",
    "<h1 align=\"center\">MEDELLÍN - COLOMBIA </h1>"
   ]
  },
  {
   "cell_type": "markdown",
   "id": "2c179c27",
   "metadata": {},
   "source": [
    "*** \n",
    "***Docente:*** Carlos Alberto Álvarez Henao, I.C. D.Sc.\n",
    "\n",
    "***e-mail:*** calvar52@eafit.edu.co | carlosalvarezh@gmail.com\n",
    "\n",
    "***Linkedin:*** https://www.linkedin.com/in/carlosalvarez5/\n",
    "\n",
    "***github:*** https://github.com/carlosalvarezh/\n",
    "\n",
    "***Herramienta:*** [Jupyter Notebook](http://jupyter.org/) | [GoogleColab](https://colab.research.google.com/)\n",
    "\n",
    "***Kernel:*** Python 3.11\n",
    "***"
   ]
  },
  {
   "cell_type": "markdown",
   "id": "fffa1fa6",
   "metadata": {},
   "source": [
    "<table>\n",
    " <tr align=left><td><img align=left src=\"https://github.com/carlosalvarezh/CFD_Applied/blob/master/figs/CC-BY.png?raw=true\">\n",
    " <td>Text provided under a Creative Commons Attribution license, CC-BY. All code is made available under the FSF-approved MIT license.(c) Carlos Alberto Alvarez Henao</td>\n",
    "</table>"
   ]
  },
  {
   "cell_type": "markdown",
   "id": "f4825729",
   "metadata": {},
   "source": [
    "***Nota:*** Las siguientes notas tienen como objetivo presentar una visión rápida de diferentes funcionalidades del lenguaje Python. En ningún momento debe ser entendido como un curso para aprender python. Son más como una especie de breve guía de referencia para adentrarse en su aplicabilidad."
   ]
  },
  {
   "cell_type": "markdown",
   "id": "60fef0f9",
   "metadata": {},
   "source": [
    "## Conceptos básicos de Python"
   ]
  },
  {
   "cell_type": "markdown",
   "id": "248bbdb6",
   "metadata": {},
   "source": [
    "***Nota:*** Las siguientes notas tienen como objetivo presentar una visión rápida de diferentes funcionalidades del lenguaje Python. En ningún momento debe ser entendido como un curso para aprender python. Son más como una especie de breve guía de referencia para adentrarse en su aplicabilidad."
   ]
  },
  {
   "cell_type": "markdown",
   "id": "2c207cbf",
   "metadata": {},
   "source": [
    "### Variables y tipos"
   ]
  },
  {
   "cell_type": "markdown",
   "id": "016085a3",
   "metadata": {},
   "source": [
    "Una variable es un nombre que se utiliza para hacer referencia a un valor en la memoria de la computadora. Estos valores pueden ser de diversos tipos, como numéricos ([int / float / complex](https://docs.python.org/3/library/stdtypes.html#numeric-types-int-float-complex)), cadenas de texto([str](https://docs.python.org/3/library/stdtypes.html#text-sequence-type-str)), secuencia ([tuple/list](https://docs.python.org/3/library/stdtypes.html#sequence-types-list-tuple-range)), asignación (mapping) ([dict](https://docs.python.org/3/library/stdtypes.html#mapping-types-dict)), objetos y más. Las variables son fundamentales en la programación ya que permiten almacenar y manipular datos de manera dinámica.\n",
    "\n",
    "En Python, se crea una variable al asignarle un valor usando el operador de asignación (`=`). Por ejemplo:"
   ]
  },
  {
   "cell_type": "code",
   "execution_count": null,
   "id": "04c368a4",
   "metadata": {},
   "outputs": [],
   "source": [
    "entero = 10\n",
    "flotante = 10.\n",
    "name = 'Juan'\n",
    "di = '12365987'\n",
    "\n",
    "tupla = \"Carlos\",\"Alvarez\", 52, 1.75, 72, \"O-\",True, (1,2,3,4)\n",
    "lista = [\"Carlos\",\"Alvarez\", 52, 1.75, 72, \"O-\",True, [1,2,3,4]]\n",
    "dicc = {\"Nombre: \":\"Carlos\", \"Apellido: \": \"Alvarez\", \"Edad: \" : 52, \n",
    "        \"Estatura: \":1.75, \"Peso: \":72, \"RH: \": \"O-\", \"F/V\": True, \"otro\":(1,2,3,4)}"
   ]
  },
  {
   "cell_type": "code",
   "execution_count": null,
   "id": "c6841e66",
   "metadata": {},
   "outputs": [],
   "source": [
    "print(entero)"
   ]
  },
  {
   "cell_type": "code",
   "execution_count": null,
   "id": "93d0480a",
   "metadata": {},
   "outputs": [],
   "source": [
    "type(entero)"
   ]
  },
  {
   "cell_type": "code",
   "execution_count": null,
   "id": "85cf0375",
   "metadata": {},
   "outputs": [],
   "source": [
    "print(flotante)"
   ]
  },
  {
   "cell_type": "code",
   "execution_count": null,
   "id": "56e48ed6",
   "metadata": {},
   "outputs": [],
   "source": [
    "type(flotante)"
   ]
  },
  {
   "cell_type": "code",
   "execution_count": null,
   "id": "9cf3788c",
   "metadata": {},
   "outputs": [],
   "source": [
    "print(name)"
   ]
  },
  {
   "cell_type": "code",
   "execution_count": null,
   "id": "31e72cd4",
   "metadata": {},
   "outputs": [],
   "source": [
    "type(name)"
   ]
  },
  {
   "cell_type": "code",
   "execution_count": null,
   "id": "a72c5398",
   "metadata": {},
   "outputs": [],
   "source": [
    "print(di)"
   ]
  },
  {
   "cell_type": "code",
   "execution_count": null,
   "id": "2c405e79",
   "metadata": {},
   "outputs": [],
   "source": [
    "type(di)"
   ]
  },
  {
   "cell_type": "code",
   "execution_count": null,
   "id": "b3404a06",
   "metadata": {},
   "outputs": [],
   "source": [
    "print(tupla)"
   ]
  },
  {
   "cell_type": "code",
   "execution_count": null,
   "id": "e1c28c49",
   "metadata": {},
   "outputs": [],
   "source": [
    "type(tupla)"
   ]
  },
  {
   "cell_type": "code",
   "execution_count": null,
   "id": "af446f0d",
   "metadata": {},
   "outputs": [],
   "source": [
    "print(lista)"
   ]
  },
  {
   "cell_type": "code",
   "execution_count": null,
   "id": "97fef694",
   "metadata": {},
   "outputs": [],
   "source": [
    "type(lista)"
   ]
  },
  {
   "cell_type": "code",
   "execution_count": null,
   "id": "aaca3950",
   "metadata": {},
   "outputs": [],
   "source": [
    "print(dicc)"
   ]
  },
  {
   "cell_type": "code",
   "execution_count": null,
   "id": "2798c6b7",
   "metadata": {},
   "outputs": [],
   "source": [
    "type(dicc)"
   ]
  },
  {
   "cell_type": "code",
   "execution_count": null,
   "id": "5e898468",
   "metadata": {},
   "outputs": [],
   "source": [
    "tupla"
   ]
  },
  {
   "cell_type": "code",
   "execution_count": null,
   "id": "38bbce6a",
   "metadata": {},
   "outputs": [],
   "source": [
    "tupla[0]"
   ]
  },
  {
   "cell_type": "code",
   "execution_count": null,
   "id": "6f87fe31",
   "metadata": {},
   "outputs": [],
   "source": [
    "lista[0]"
   ]
  },
  {
   "cell_type": "code",
   "execution_count": null,
   "id": "8716e061",
   "metadata": {},
   "outputs": [],
   "source": [
    "dicc['Nombre: ']"
   ]
  },
  {
   "cell_type": "markdown",
   "id": "3a9c2ed5",
   "metadata": {},
   "source": [
    "### Reglas para nombrar variables"
   ]
  },
  {
   "cell_type": "markdown",
   "id": "89e64ea4",
   "metadata": {},
   "source": [
    "- No pueden empezar por número"
   ]
  },
  {
   "cell_type": "code",
   "execution_count": null,
   "id": "7ec6dd93",
   "metadata": {},
   "outputs": [],
   "source": [
    "hola4 = 'holaholaholahola'"
   ]
  },
  {
   "cell_type": "markdown",
   "id": "60e57f05",
   "metadata": {},
   "source": [
    "- No pueden estar separadasa por espacio"
   ]
  },
  {
   "cell_type": "code",
   "execution_count": null,
   "id": "fe0c4f4e",
   "metadata": {},
   "outputs": [],
   "source": [
    "hola_Mundo = \"Hola mundo\""
   ]
  },
  {
   "cell_type": "markdown",
   "id": "b1ed124b",
   "metadata": {},
   "source": [
    "- No pueden usar caracteres especiales"
   ]
  },
  {
   "cell_type": "code",
   "execution_count": null,
   "id": "d6e47b07",
   "metadata": {},
   "outputs": [],
   "source": [
    "percent25 = 0.25"
   ]
  },
  {
   "cell_type": "code",
   "execution_count": null,
   "id": "5381fd8a",
   "metadata": {},
   "outputs": [],
   "source": [
    "Print = 25"
   ]
  },
  {
   "cell_type": "code",
   "execution_count": null,
   "id": "106b611f",
   "metadata": {},
   "outputs": [],
   "source": [
    "print(32)"
   ]
  },
  {
   "cell_type": "markdown",
   "id": "64f686bc",
   "metadata": {},
   "source": [
    "- No pueden ser palabras reservadas"
   ]
  },
  {
   "cell_type": "code",
   "execution_count": null,
   "id": "1f5b6da9",
   "metadata": {},
   "outputs": [],
   "source": [
    "# Palabras clave\n",
    "\n",
    "import keyword\n",
    "listkw = keyword.kwlist\n",
    "print(listkw)\n",
    "print(len(listkw))"
   ]
  },
  {
   "cell_type": "code",
   "execution_count": null,
   "id": "8696dff3",
   "metadata": {},
   "outputs": [],
   "source": [
    "Print = \"Carlos\""
   ]
  },
  {
   "cell_type": "code",
   "execution_count": null,
   "id": "11a38ee6",
   "metadata": {},
   "outputs": [],
   "source": [
    "print"
   ]
  },
  {
   "cell_type": "code",
   "execution_count": null,
   "id": "4cb86344",
   "metadata": {},
   "outputs": [],
   "source": [
    "print(Print)"
   ]
  },
  {
   "cell_type": "markdown",
   "id": "1bfe2bc3",
   "metadata": {},
   "source": [
    "Python tiene una [Guía de Estilo - PEP8](https://peps.python.org/) para poner de acuerdo a todos cómo deben hacerse las cosas al estilo python:\n",
    "\n",
    "- ***Camel Case:*** `nombreVariable`\n",
    "- ***Snake Case:*** `nombre_variable`\n",
    "- ***Pascal Case:*** `NombreVariable`\n",
    "\n"
   ]
  },
  {
   "cell_type": "code",
   "execution_count": null,
   "id": "db36c194",
   "metadata": {},
   "outputs": [],
   "source": [
    "# Camel Case\n",
    "holaMundo = \"Hola Mundo\"\n",
    "\n",
    "# Snake Case\n",
    "hola_mundo = \"Hola Mundo\"\n",
    "\n",
    "# Pascal case\n",
    "HolaMundo = \"Hola Mundo\""
   ]
  },
  {
   "cell_type": "code",
   "execution_count": null,
   "id": "611b4fe2",
   "metadata": {},
   "outputs": [],
   "source": [
    "HOLA_MUNDO = 5"
   ]
  },
  {
   "cell_type": "markdown",
   "id": "5e013458",
   "metadata": {},
   "source": [
    "### Ayuda"
   ]
  },
  {
   "cell_type": "code",
   "execution_count": null,
   "id": "c5993d31",
   "metadata": {},
   "outputs": [],
   "source": [
    "help(print)"
   ]
  },
  {
   "cell_type": "code",
   "execution_count": null,
   "id": "23e155e8",
   "metadata": {},
   "outputs": [],
   "source": [
    "print?"
   ]
  },
  {
   "cell_type": "markdown",
   "id": "55bf1a4c",
   "metadata": {},
   "source": [
    "### Operadores"
   ]
  },
  {
   "cell_type": "markdown",
   "id": "21b957e7",
   "metadata": {},
   "source": [
    "Los operadores son símbolos especiales que representan cálculos: \n",
    "\n",
    "|Operador|Símbolo|\n",
    "|--------|-------|\n",
    "|Suma| +|\n",
    "|Resta| -|\n",
    "|Multiplicación| *|\n",
    "|División| /|\n",
    "|Potenciación| **|\n",
    "|División entera| //|\n",
    "|Módulo| %|"
   ]
  },
  {
   "cell_type": "code",
   "execution_count": null,
   "id": "65b6fb8c",
   "metadata": {},
   "outputs": [],
   "source": [
    "a = 5\n",
    "b = 3"
   ]
  },
  {
   "cell_type": "code",
   "execution_count": null,
   "id": "4db8f4ef",
   "metadata": {},
   "outputs": [],
   "source": [
    "3 + 5 "
   ]
  },
  {
   "cell_type": "code",
   "execution_count": null,
   "id": "dab4e74c",
   "metadata": {},
   "outputs": [],
   "source": [
    "suma = a + b\n",
    "print(suma)"
   ]
  },
  {
   "cell_type": "code",
   "execution_count": null,
   "id": "2e5bc40a",
   "metadata": {},
   "outputs": [],
   "source": [
    "resta = a - b\n",
    "resta"
   ]
  },
  {
   "cell_type": "code",
   "execution_count": null,
   "id": "659e09d1",
   "metadata": {},
   "outputs": [],
   "source": [
    "multip = a * b\n",
    "multip"
   ]
  },
  {
   "cell_type": "code",
   "execution_count": null,
   "id": "e4aec79d",
   "metadata": {},
   "outputs": [],
   "source": [
    "division = a / b\n",
    "division"
   ]
  },
  {
   "cell_type": "code",
   "execution_count": null,
   "id": "d61ab1f3",
   "metadata": {},
   "outputs": [],
   "source": [
    "potencia = a ** b\n",
    "potencia"
   ]
  },
  {
   "cell_type": "code",
   "execution_count": null,
   "id": "78c45ee1",
   "metadata": {},
   "outputs": [],
   "source": [
    "divInt = a // b\n",
    "divInt"
   ]
  },
  {
   "cell_type": "code",
   "execution_count": null,
   "id": "7a82058c",
   "metadata": {},
   "outputs": [],
   "source": [
    "modulo = 17%2\n",
    "modulo"
   ]
  },
  {
   "cell_type": "markdown",
   "id": "db554dfc",
   "metadata": {},
   "source": [
    "### Comparación (booleanos)"
   ]
  },
  {
   "cell_type": "markdown",
   "id": "5d065269",
   "metadata": {},
   "source": [
    "Una variable de tipo booleano sólo puede tener uno dedos valores `True` (*verdadero*) o `False` (*falso*).\n",
    "\n",
    "| Operador    | Descripción                   | Ejemplo                   |\n",
    "| -----------:|:-----------------------------:|--------------------------:|\n",
    "| ==          | Son iguales $a$ y $b$        | r = 5 == 3   # r es False |\n",
    "| !=          | Son distintos $a$ o $b$      | r = 5 != 3   # r es True  |\n",
    "| <           | $a$ es menor que $b$         | r = 5 < 3    # r es False |\n",
    "| >           | $a$ es mayor que $b$         | r = 5 > 3    # r es True  |\n",
    "| <=          | $a$ es menor o igual que $b$ | r = 5 <= 3   # r es False |\n",
    "| >=          | $a$ es mayor o igual que $b$ | r = 5 >= 3   # r es True  |"
   ]
  },
  {
   "cell_type": "code",
   "execution_count": null,
   "id": "edfd2feb",
   "metadata": {},
   "outputs": [],
   "source": [
    "a = 5\n",
    "b = 3"
   ]
  },
  {
   "cell_type": "code",
   "execution_count": null,
   "id": "bb903a59",
   "metadata": {},
   "outputs": [],
   "source": [
    "a == b"
   ]
  },
  {
   "cell_type": "code",
   "execution_count": null,
   "id": "6685a903",
   "metadata": {},
   "outputs": [],
   "source": [
    "a != b"
   ]
  },
  {
   "cell_type": "code",
   "execution_count": null,
   "id": "67d31838",
   "metadata": {},
   "outputs": [],
   "source": [
    "a < b"
   ]
  },
  {
   "cell_type": "code",
   "execution_count": null,
   "id": "907d1cee",
   "metadata": {},
   "outputs": [],
   "source": [
    "a > b"
   ]
  },
  {
   "cell_type": "code",
   "execution_count": null,
   "id": "df128587",
   "metadata": {},
   "outputs": [],
   "source": [
    "a <= b"
   ]
  },
  {
   "cell_type": "code",
   "execution_count": null,
   "id": "38888a12",
   "metadata": {},
   "outputs": [],
   "source": [
    "a >= b"
   ]
  },
  {
   "cell_type": "markdown",
   "id": "8dd6c8fc",
   "metadata": {},
   "source": [
    "### Lógicos"
   ]
  },
  {
   "cell_type": "markdown",
   "id": "b8caccae",
   "metadata": {},
   "source": [
    "Los operadores lógicos se utilizan normalmente para evaluar si dos o más expresiones son verdaderas o no. Por ejemplo, se pueden usar para determinar si la calificación es aprobatoria y si el estudiante está registrado en el curso, y si ambos casos son verdaderos, se le asignará una calificación al estudiante en el sistema.\n",
    "\n",
    "| Operador    | Descripción           | Ejemplo                         |\n",
    "| -----------:|:---------------------:|--------------------------------:|\n",
    "| and         | Se cumple $a$ y $b$?  | r = True and False # r es False |\n",
    "| or          | Se cumple $a$ o $b$?  | r = True and False # r es true  |\n",
    "| not         | No $a$                | r = not True       # r es False |\n"
   ]
  },
  {
   "cell_type": "code",
   "execution_count": null,
   "id": "1b6ec8b3",
   "metadata": {},
   "outputs": [],
   "source": [
    "c = 6"
   ]
  },
  {
   "cell_type": "code",
   "execution_count": null,
   "id": "163a5374",
   "metadata": {},
   "outputs": [],
   "source": [
    "(a and b) < 6"
   ]
  },
  {
   "cell_type": "code",
   "execution_count": null,
   "id": "7e4998c6",
   "metadata": {},
   "outputs": [],
   "source": [
    "a = 5\n",
    "b = 3\n",
    "c = 6\n",
    "d = 5\n",
    "f = 7"
   ]
  },
  {
   "cell_type": "code",
   "execution_count": null,
   "id": "9cbdbcfc",
   "metadata": {},
   "outputs": [],
   "source": [
    "(a and b and c and d and f ) > 4"
   ]
  },
  {
   "cell_type": "code",
   "execution_count": null,
   "id": "bac2cdb0",
   "metadata": {},
   "outputs": [],
   "source": [
    "valor = True\n",
    "resultado = not valor\n",
    "resultado"
   ]
  },
  {
   "cell_type": "markdown",
   "id": "ec83f9b3",
   "metadata": {},
   "source": [
    "### Orden de las operaciones"
   ]
  },
  {
   "cell_type": "markdown",
   "id": "8cc097d3",
   "metadata": {},
   "source": [
    "Al igual que en matemáticas, el orden de las operaciones es fundamental en programación. Debe respetarse:\n",
    "\n",
    "$$Paréntesis \\rightarrow Exponentes/Potencias/Radicales \\rightarrow Multiplicaciones/Divisiones \\rightarrow Sumas/Restas$$"
   ]
  },
  {
   "cell_type": "code",
   "execution_count": null,
   "id": "81ab93fa",
   "metadata": {},
   "outputs": [],
   "source": [
    "(2 + 3 + 5) / 2"
   ]
  },
  {
   "cell_type": "code",
   "execution_count": null,
   "id": "68774465",
   "metadata": {},
   "outputs": [],
   "source": [
    "2 + 3 + 5 / 2"
   ]
  },
  {
   "cell_type": "markdown",
   "id": "da2d8cd9",
   "metadata": {},
   "source": [
    "### Cadenas de caracteres (string)"
   ]
  },
  {
   "cell_type": "markdown",
   "id": "e54bdec8",
   "metadata": {},
   "source": [
    "#### Operaciones con cadenas de caracteres"
   ]
  },
  {
   "cell_type": "code",
   "execution_count": null,
   "id": "94e1666d",
   "metadata": {},
   "outputs": [],
   "source": [
    "cadena = 'hola'\n",
    "blank = ' '\n",
    "n = \"mundo\"\n",
    "y = cadena + blank + n\n",
    "\n",
    "print(y)\n",
    "type(y)"
   ]
  },
  {
   "cell_type": "markdown",
   "id": "239c59d2",
   "metadata": {},
   "source": [
    "#### Indexación"
   ]
  },
  {
   "cell_type": "markdown",
   "id": "157c109f",
   "metadata": {},
   "source": [
    "Una cadena de caracteres (string) en `Python` consiste de una serie, o secuencia, de caracteres (letras, números y caracteres especiales). Las cadenas de caracteres pueden indexarse, similar al `C`, en donde el primer caracter tiene índice `0`:\n",
    "\n",
    "<p float=\"center\">\n",
    "  <img src=\"https://github.com/carlosalvarezh/FundamentosProgramacion/blob/main/images/Sem03Img01.png?raw=true\" width=\"750\" />\n",
    "</p>\n"
   ]
  },
  {
   "cell_type": "code",
   "execution_count": null,
   "id": "08391e54",
   "metadata": {},
   "outputs": [],
   "source": [
    "a = \"Hello World!\"\n",
    "\n",
    "print(a)"
   ]
  },
  {
   "cell_type": "code",
   "execution_count": null,
   "id": "83563379",
   "metadata": {},
   "outputs": [],
   "source": [
    "a."
   ]
  },
  {
   "cell_type": "code",
   "execution_count": null,
   "id": "85925510",
   "metadata": {},
   "outputs": [],
   "source": [
    "n = len(a)\n",
    "n"
   ]
  },
  {
   "cell_type": "code",
   "execution_count": null,
   "id": "b1c108f0",
   "metadata": {},
   "outputs": [],
   "source": [
    "a[0]"
   ]
  },
  {
   "cell_type": "code",
   "execution_count": null,
   "id": "055e5d0e",
   "metadata": {},
   "outputs": [],
   "source": [
    "a[n-1]"
   ]
  },
  {
   "cell_type": "markdown",
   "id": "da839796",
   "metadata": {},
   "source": [
    "#### Particionado (slicing)"
   ]
  },
  {
   "cell_type": "markdown",
   "id": "43de21a1",
   "metadata": {},
   "source": [
    "$$a[start:stop:step]$$"
   ]
  },
  {
   "cell_type": "code",
   "execution_count": null,
   "id": "33919cbc",
   "metadata": {},
   "outputs": [],
   "source": [
    "a"
   ]
  },
  {
   "cell_type": "code",
   "execution_count": null,
   "id": "8c85c017",
   "metadata": {},
   "outputs": [],
   "source": [
    "a[:12:]"
   ]
  },
  {
   "cell_type": "code",
   "execution_count": null,
   "id": "5dfb8892",
   "metadata": {},
   "outputs": [],
   "source": [
    "a[6:12:1]"
   ]
  },
  {
   "cell_type": "code",
   "execution_count": null,
   "id": "7f050c82",
   "metadata": {},
   "outputs": [],
   "source": [
    "a[::]"
   ]
  },
  {
   "cell_type": "code",
   "execution_count": null,
   "id": "5112dfa7",
   "metadata": {},
   "outputs": [],
   "source": [
    "a[::-1]"
   ]
  },
  {
   "cell_type": "markdown",
   "id": "93441f6a",
   "metadata": {},
   "source": [
    "### Entrada/Salida"
   ]
  },
  {
   "cell_type": "code",
   "execution_count": null,
   "id": "6aabbfb6",
   "metadata": {},
   "outputs": [],
   "source": [
    "a = float(input('Ingrese el dato a: '))\n",
    "b = float(input('Ingrese el dato b: '))\n",
    "c = a / b\n",
    "print(c)"
   ]
  },
  {
   "cell_type": "code",
   "execution_count": null,
   "id": "15d6fb73",
   "metadata": {},
   "outputs": [],
   "source": [
    "type(b)"
   ]
  },
  {
   "cell_type": "code",
   "execution_count": null,
   "id": "3325d9af",
   "metadata": {
    "scrolled": true
   },
   "outputs": [],
   "source": [
    "a = float(input(\"Ingrese un valor: \"))\n",
    "b = int(input(\"ingrese otro valor: \"))\n",
    "c = a / b\n",
    "print(\"El resultado de dividir a entre b es {0:4.4f}\".format(c))"
   ]
  },
  {
   "cell_type": "code",
   "execution_count": null,
   "id": "dada495d",
   "metadata": {},
   "outputs": [],
   "source": [
    "type(b)"
   ]
  },
  {
   "cell_type": "markdown",
   "id": "b83f0918",
   "metadata": {},
   "source": [
    "### Listas"
   ]
  },
  {
   "cell_type": "markdown",
   "id": "d5279fe3",
   "metadata": {},
   "source": [
    "Una lista es una colección de objetos a los que se les puede adicionar o quitar elementos. Para definir una lista con elemento simplemente ponemos los elementos dentro de los corchetes separados con comas.\n",
    "\n",
    "\n",
    "```python\n",
    "lista = [1, “dos”, False, [45, “cien”]]\n",
    "```\n",
    "\n",
    "Como podemos ver, una lista puede contener varios elementos de diferente tipo (int, str, bool, list, ...)"
   ]
  },
  {
   "cell_type": "code",
   "execution_count": null,
   "id": "146f3fb0",
   "metadata": {},
   "outputs": [],
   "source": [
    "lista = [\"Carlos\", \"Alvarez\", 52, 1.75, True]"
   ]
  },
  {
   "cell_type": "markdown",
   "id": "300c07dc",
   "metadata": {},
   "source": [
    "Para acceder a las listas, se debe indicar el nombre de la lista y entre corchetes la posición del elemento a consultar. Al igual que las cadenas de caracteres, el índice (posición) empieza en cero (0):"
   ]
  },
  {
   "cell_type": "code",
   "execution_count": null,
   "id": "bd26d8f1",
   "metadata": {},
   "outputs": [],
   "source": [
    "elemento = lista[2]\n",
    "elemento"
   ]
  },
  {
   "cell_type": "markdown",
   "id": "853ee01d",
   "metadata": {},
   "source": [
    "Para determinar la cantidade de elementos de la lista "
   ]
  },
  {
   "cell_type": "code",
   "execution_count": null,
   "id": "87b67f29",
   "metadata": {},
   "outputs": [],
   "source": [
    "n = len(lista)\n",
    "n"
   ]
  },
  {
   "cell_type": "markdown",
   "id": "36b2b44a",
   "metadata": {},
   "source": [
    "Para modificar una lista podemos hacer uso de los siguientes métodos:"
   ]
  },
  {
   "cell_type": "code",
   "execution_count": null,
   "id": "87ffb87e",
   "metadata": {},
   "outputs": [],
   "source": [
    "# Cambiar el valor de un elemento de la lista\n",
    "lista[2] = 53\n",
    "lista"
   ]
  },
  {
   "cell_type": "markdown",
   "id": "fd8ad0fa",
   "metadata": {},
   "source": [
    "Adicionando un elemento (se posicionará después del último elemento de la lista actual)"
   ]
  },
  {
   "cell_type": "code",
   "execution_count": null,
   "id": "23f187dc",
   "metadata": {},
   "outputs": [],
   "source": [
    "lista.\n",
    "lista"
   ]
  },
  {
   "cell_type": "code",
   "execution_count": null,
   "id": "551cbdf0",
   "metadata": {},
   "outputs": [],
   "source": [
    "lista.append(\"adicionado\")\n",
    "lista"
   ]
  },
  {
   "cell_type": "markdown",
   "id": "86d3b758",
   "metadata": {},
   "source": [
    "Insertar un elemento en una posición específica"
   ]
  },
  {
   "cell_type": "code",
   "execution_count": null,
   "id": "0bbf5f76",
   "metadata": {},
   "outputs": [],
   "source": [
    "lista.insert(2,\"O-\")\n",
    "lista"
   ]
  },
  {
   "cell_type": "markdown",
   "id": "892e173a",
   "metadata": {},
   "source": [
    "Ahora vamos a eliminar un elemento de la lista dado el índice (posición) del elemento a eliminar"
   ]
  },
  {
   "cell_type": "code",
   "execution_count": null,
   "id": "7189811f",
   "metadata": {},
   "outputs": [],
   "source": [
    "del(lista[-1])\n",
    "lista"
   ]
  },
  {
   "cell_type": "markdown",
   "id": "e5a3ee7f",
   "metadata": {},
   "source": [
    "Ahora eliminaremos un elemento dado su valor"
   ]
  },
  {
   "cell_type": "code",
   "execution_count": null,
   "id": "f94cfe12",
   "metadata": {},
   "outputs": [],
   "source": [
    "lista.remove(53)\n",
    "lista"
   ]
  },
  {
   "cell_type": "code",
   "execution_count": null,
   "id": "28568277",
   "metadata": {},
   "outputs": [],
   "source": [
    "B = [1,2,3,1,2,5,8,2,3,1,5]"
   ]
  },
  {
   "cell_type": "code",
   "execution_count": null,
   "id": "4e13d829",
   "metadata": {},
   "outputs": [],
   "source": [
    "B.remove(1)\n",
    "B"
   ]
  },
  {
   "cell_type": "markdown",
   "id": "1a92174e",
   "metadata": {},
   "source": [
    "### Diccionarios"
   ]
  },
  {
   "cell_type": "markdown",
   "id": "a4a0d184",
   "metadata": {},
   "source": [
    "Un Diccionario es una estructura de datos y un tipo de dato en `Python`, con características especiales que nos permite almacenar cualquier tipo de valor como: enteros, cadenas, listas e incluso otras funciones. Estos diccionarios nos permiten además identificar cada elemento por una *clave* (`Key`), a diferencia de las tuplas y listas que se hace por un índice.\n",
    "\n",
    "\n",
    "Para definir un diccionario, se encierra el listado de valores entre llaves, `{clave0:valor0, clave1:valor1, clave2:valor1, ...}`. Las parejas de *clave* y *valor* se separan con comas, y la *clave* y el *valor* se separan con dos puntos, (`:`).\n",
    "\n",
    "\n",
    "Los diccionarios (llamados *arrays asociativos* o *tablas de hash* en otros lenguajes), son una estructura de datos muy poderosa, que permite asociar un valor a una clave.\n",
    "\n",
    "\n",
    "- Las claves deben ser de tipo inmutable, los valores pueden ser de cualquier tipo.\n",
    "\n",
    "\n",
    "- Los diccionarios no están ordenados. Si bien se los puede recorrer, el orden en el que se tomarán los elementos no está determinado.\n",
    "\n",
    "Veamos este ejemplo: Supongamos que tenemos dos listas. Una lista con los nombres de algunas ciudades y otra lista con la población de cada una de ellas. Usaremos los métodos `zip` y `dict` para crear un diccionario:"
   ]
  },
  {
   "cell_type": "code",
   "execution_count": null,
   "id": "b2a78709",
   "metadata": {},
   "outputs": [],
   "source": [
    "city_populationL = [8550405, 3971883, 2731571, 2720546, 2296224, 1704694, 1239220, 631486, 667137]\n",
    "city_namesL = [\"New York City\", \"Los Angeles\", \"Toronto\", \"Chicago\", \"Houston\", \"Montreal\", \"Calgary\", \"Vancouver\", \"Boston\"]"
   ]
  },
  {
   "cell_type": "code",
   "execution_count": null,
   "id": "d8562341",
   "metadata": {},
   "outputs": [],
   "source": [
    "habitantes = dict(zip(city_namesL,city_populationL))\n",
    "habitantes"
   ]
  },
  {
   "cell_type": "code",
   "execution_count": null,
   "id": "40224660",
   "metadata": {},
   "outputs": [],
   "source": [
    "habitantes['Montreal']"
   ]
  },
  {
   "cell_type": "code",
   "execution_count": null,
   "id": "87a1c1ab",
   "metadata": {},
   "outputs": [],
   "source": [
    "dicc = {\"Nombre: \":\"Carlos\", \"Apellido: \": \"Alvarez\", \"Edad: \" : 52, \n",
    "        \"Estatura: \":1.75, \"Peso: \":72, \"RH: \": \"O-\", \"F/V\": True, \"otro\":(1,2,3,4)}"
   ]
  },
  {
   "cell_type": "code",
   "execution_count": null,
   "id": "3c1aa5c5",
   "metadata": {},
   "outputs": [],
   "source": [
    "dicc['Apellido: ']"
   ]
  },
  {
   "cell_type": "markdown",
   "id": "b52a99eb",
   "metadata": {},
   "source": [
    "### Estructuras de control de flujo"
   ]
  },
  {
   "cell_type": "markdown",
   "id": "c574f5fc",
   "metadata": {},
   "source": [
    "#### Condicional (if - elif- else)"
   ]
  },
  {
   "cell_type": "markdown",
   "id": "212f8ef3",
   "metadata": {},
   "source": [
    "La estructura `if-elif-else` se utiliza para tomar decisiones basadas en condiciones.\n",
    "\n",
    "```python\n",
    "if <condición1>:\n",
    "    acción cuando condición1 es True\n",
    "    Si condición1 es False, no ingresa aquí y pasa a la siguiente condición\n",
    "elif <condición2>: \n",
    "    acción cuando condición2 es True\n",
    "    Si condición2 es False, no ingresa aquí y pasa a la siguiente condición\n",
    "else:\n",
    "    acción cuando todas las anteriroes condiciones (condición1 y condición2) fueron False\n",
    "```\n",
    "\n",
    "Veamos los siguientes ejemplos:"
   ]
  },
  {
   "cell_type": "markdown",
   "id": "201910e0",
   "metadata": {},
   "source": [
    "***Ejemplo - Determinar cuál valor es mayor:*** Dados dos valores, determinar cuál es el mayor o si son iguales."
   ]
  },
  {
   "cell_type": "code",
   "execution_count": null,
   "id": "63dbb7be",
   "metadata": {},
   "outputs": [],
   "source": [
    "a = 3 \n",
    "b = 3\n",
    "\n",
    "if a > b:\n",
    "    print(\"a es el de mayor valor\")\n",
    "elif a < b:\n",
    "    print(\"b es el de mayor valor\")\n",
    "else:\n",
    "    print(\"a y b son de igual valor\")"
   ]
  },
  {
   "cell_type": "markdown",
   "id": "dbc93b61",
   "metadata": {},
   "source": [
    "***Ejemplo - uso de operadores lógicos:*** en este ejemplo se evaluará si el niño pedro, que tiene 6 años de edad y mide 95 cm de estatura puede entrar a las atracciones de un parque de diversiones:\n",
    "\n",
    "- ***Salta-salta:*** Para poder ingresar a esta atracción, el niño debe tener más de 5 años y mínimo 100 cm de estatura.\n",
    "\n",
    "- ***noria:*** Para poder ingresar a esta atracción, el niño debe tener más de 5 años o mínimo 100 cm de estatura.\n",
    "\n",
    "Si no puede entrar a ninguna atracción mecánica, se le comprará una paleta."
   ]
  },
  {
   "cell_type": "code",
   "execution_count": null,
   "id": "fb91f7d0",
   "metadata": {
    "scrolled": true
   },
   "outputs": [],
   "source": [
    "# datos\n",
    "edad = 5\n",
    "estatura = 100\n",
    "\n",
    "if edad > 5 and estatura >= 100:\n",
    "    print(\"Puede entrar al salta-salta y a la noria\")\n",
    "elif edad > 5 or estatura >= 100:\n",
    "    print(\"Puede entrar a la noria\")\n",
    "else:\n",
    "    print(\"Ten tu paleta\")\n",
    "    "
   ]
  },
  {
   "cell_type": "markdown",
   "id": "f3c974bb",
   "metadata": {},
   "source": [
    "***Ejemplo - Condicionales anidados:*** En este ejemplo se desea determina cuál, entre tres valores, es mayor o si son iguales. "
   ]
  },
  {
   "cell_type": "code",
   "execution_count": null,
   "id": "251a6636",
   "metadata": {},
   "outputs": [],
   "source": [
    "# Solicita al usuario que ingrese los valores a, b y c\n",
    "a = 4\n",
    "b = 5\n",
    "c = 3\n",
    "\n",
    "if a > b:\n",
    "    if a > c:\n",
    "        print(\"a es el mayor\")\n",
    "    else:\n",
    "        print(\"c es el mayor\")\n",
    "else:\n",
    "    if b > c:\n",
    "        print(\"b es el mayor\")\n",
    "    else:\n",
    "        print(\"c es el mayor\")"
   ]
  },
  {
   "cell_type": "markdown",
   "id": "8b067c2a",
   "metadata": {},
   "source": [
    "Cómo lo mejorarías para que determine si dos valores son iguales, o los tres son iguales? "
   ]
  },
  {
   "cell_type": "markdown",
   "id": "2c51cf3c",
   "metadata": {},
   "source": [
    "#### Ciclo while"
   ]
  },
  {
   "cell_type": "markdown",
   "id": "1ebe807f",
   "metadata": {},
   "source": [
    "es un condicional que se repite mientras que una condición sea dada"
   ]
  },
  {
   "cell_type": "code",
   "execution_count": null,
   "id": "5c10550a",
   "metadata": {},
   "outputs": [],
   "source": [
    "i = 0\n",
    "while i < 10:\n",
    "    i = i + 1\n",
    "    print(i)"
   ]
  },
  {
   "cell_type": "markdown",
   "id": "ad424f34",
   "metadata": {},
   "source": [
    "veamos otro ejemplo. Adivinemos el número:"
   ]
  },
  {
   "cell_type": "code",
   "execution_count": null,
   "id": "fe9b36b7",
   "metadata": {},
   "outputs": [],
   "source": [
    "import random\n",
    "\n",
    "numero_secreto = random.randint(1, 10)  # Generamos un número secreto entre 1 y 10\n",
    "intentos = 0\n",
    "\n",
    "while True:\n",
    "    intento = int(input(\"Adivina el número (entre 1 y 10): \"))\n",
    "    intentos += 1  # Contamos los intentos\n",
    "\n",
    "    if intento == numero_secreto:\n",
    "        print(f\"¡Correcto! Adivinaste el número en {intentos} intentos.\")\n",
    "        break  # Salimos del ciclo si adivinamos el número\n",
    "    elif intento < numero_secreto:\n",
    "        print(\"El número es mayor.\")\n",
    "    else:\n",
    "        print(\"El número es menor.\")\n"
   ]
  },
  {
   "cell_type": "markdown",
   "id": "9f6fb6a8",
   "metadata": {},
   "source": [
    "#### Ciclo for"
   ]
  },
  {
   "cell_type": "markdown",
   "id": "69fc8d95",
   "metadata": {},
   "source": [
    "Ejecuta un bloque de instrucciones hasta que se cumpla una condición dada"
   ]
  },
  {
   "cell_type": "code",
   "execution_count": null,
   "id": "55cf90a9",
   "metadata": {},
   "outputs": [],
   "source": [
    "for i in [1,2,3,4,5,6,7,8,9,10]:\n",
    "    i += 1\n",
    "    print(i)"
   ]
  },
  {
   "cell_type": "markdown",
   "id": "2eded29b",
   "metadata": {},
   "source": [
    "#### Función `range()`"
   ]
  },
  {
   "cell_type": "markdown",
   "id": "ad749aff",
   "metadata": {},
   "source": [
    "La función `range()` en Python es una función incorporada que se utiliza para generar una secuencia de números enteros en un rango específico. Esta secuencia de números se crea de manera eficiente sin almacenar todos los valores en la memoria, lo que lo hace especialmente útil en bucles `for` y otras situaciones donde necesitas iterar sobre una secuencia de números.\n",
    "\n",
    "La función `range()` puede tomar uno, dos o tres argumentos:\n",
    "\n",
    "1. **Un Argumento**: Si solo proporcionas un argumento, `range(n)` generará una secuencia que comienza en 0 y llega hasta (pero no incluye) `n`. Por ejemplo, `range(5)` generará los números 0, 1, 2, 3 y 4.\n",
    "\n",
    "2. **Dos Argumentos**: Si proporcionas dos argumentos, `range(start, stop)` generará una secuencia que comienza en `start` y llega hasta (pero no incluye) `stop`. Por ejemplo, `range(2, 6)` generará los números 2, 3, 4 y 5.\n",
    "\n",
    "3. **Tres Argumentos**: Si proporcionas tres argumentos, `range(start, stop, step)` generará una secuencia que comienza en `start`, llega hasta (pero no incluye) `stop`, y avanza en incrementos de `step`. Por ejemplo, `range(1, 10, 2)` generará los números 1, 3, 5, 7 y 9, avanzando de 2 en 2.\n",
    "\n",
    "La función `range()` es comúnmente utilizada en bucles `for` para controlar la cantidad de iteraciones o para generar índices en una lista. Por ejemplo:"
   ]
  },
  {
   "cell_type": "code",
   "execution_count": null,
   "id": "0c64aa8b",
   "metadata": {},
   "outputs": [],
   "source": [
    "for i in range(10):\n",
    "    i += 1\n",
    "    print(i)"
   ]
  },
  {
   "cell_type": "markdown",
   "id": "21c2740f",
   "metadata": {},
   "source": [
    "Ten en cuenta que en Python 3, `range()` genera un objeto de tipo \"rango\" (range object), que es iterable, pero no es una lista. Si necesitas una lista con los valores del rango, puedes convertirlo a una lista usando `list()`. Por ejemplo:"
   ]
  },
  {
   "cell_type": "code",
   "execution_count": null,
   "id": "8b05f3a9",
   "metadata": {},
   "outputs": [],
   "source": [
    "my_list = list(range(5))\n",
    "my_list"
   ]
  },
  {
   "cell_type": "markdown",
   "id": "39a08ef9",
   "metadata": {},
   "source": [
    "retomando el ejemplo dado para el ciclo `for`"
   ]
  },
  {
   "cell_type": "code",
   "execution_count": null,
   "id": "a9f14220",
   "metadata": {},
   "outputs": [],
   "source": [
    "for i in [0, 1,2,3,4,5,6,7,8,9]:\n",
    "    i += 1\n",
    "    print(i)"
   ]
  },
  {
   "cell_type": "markdown",
   "id": "95da8723",
   "metadata": {},
   "source": [
    "en vez de escribir explícitamente la lista `[0, 1,2,3,4,5,6,7,8,9]`, podemos generarla de la siguiente manera:"
   ]
  },
  {
   "cell_type": "code",
   "execution_count": null,
   "id": "d2afb0b7",
   "metadata": {
    "scrolled": false
   },
   "outputs": [],
   "source": [
    "for i in range(0,10):\n",
    "    i += 1\n",
    "    print(i)"
   ]
  },
  {
   "cell_type": "markdown",
   "id": "ec317b46",
   "metadata": {},
   "source": [
    "Veamos otro ejemplo, ahora iterando sobre una lista de nombres:"
   ]
  },
  {
   "cell_type": "code",
   "execution_count": null,
   "id": "5728e37a",
   "metadata": {},
   "outputs": [],
   "source": [
    "nombres = [\"Alice\", \"Bob\", \"Charlie\", \"David\"]\n",
    "\n",
    "for nombre in nombres:\n",
    "    print(nombre)"
   ]
  },
  {
   "cell_type": "markdown",
   "id": "9ff1d08b",
   "metadata": {},
   "source": [
    "### Funciones"
   ]
  },
  {
   "cell_type": "markdown",
   "id": "901b7b62",
   "metadata": {},
   "source": [
    "***Función:*** Fragmento de código con un nombre asociado que realiza una serie de tareas y devuelve un valor. \n",
    "\n",
    "- En `Python` las funciones se declaran de la siguiente forma:\n",
    "\n",
    "```python\n",
    "def mi_funcion(lista de parámetros):\n",
    "    sentencias o cuerpo de la función\n",
    "```"
   ]
  },
  {
   "cell_type": "markdown",
   "id": "c6bccf6d",
   "metadata": {},
   "source": [
    "#### Función sin parámetro y sin retorno"
   ]
  },
  {
   "cell_type": "code",
   "execution_count": null,
   "id": "bd1252eb",
   "metadata": {},
   "outputs": [],
   "source": [
    "# defino o creo la función\n",
    "def fbienvenida():\n",
    "    print(\"Hola Mundo!!!\")"
   ]
  },
  {
   "cell_type": "code",
   "execution_count": null,
   "id": "df552ad7",
   "metadata": {},
   "outputs": [],
   "source": [
    "fbienvenida()"
   ]
  },
  {
   "cell_type": "markdown",
   "id": "01bc3cae",
   "metadata": {},
   "source": [
    "#### Función con uno o más parámetros y sin retorno"
   ]
  },
  {
   "cell_type": "code",
   "execution_count": null,
   "id": "05e95a96",
   "metadata": {},
   "outputs": [],
   "source": [
    "def mi_funcion1(param1, param2):\n",
    "    \"\"\"\n",
    "    Esta función también imprime únicamente los valores de los parámetros\n",
    "    requiere de dos parámetros\n",
    "    \n",
    "    Inputs:\n",
    "        param1: ...\n",
    "        param2: ...\n",
    "    \n",
    "    Outputs:\n",
    "        imprime resultado por pantalla\n",
    "    \n",
    "    \"\"\"\n",
    "    print('{0} {1}'.format(param1,param2))"
   ]
  },
  {
   "cell_type": "code",
   "execution_count": null,
   "id": "813466a1",
   "metadata": {},
   "outputs": [],
   "source": [
    "mi_funcion1?"
   ]
  },
  {
   "cell_type": "code",
   "execution_count": null,
   "id": "3d175da2",
   "metadata": {},
   "outputs": [],
   "source": [
    "help(mi_funcion1)"
   ]
  },
  {
   "cell_type": "markdown",
   "id": "7a2150a5",
   "metadata": {},
   "source": [
    "Para llamar a la función (ejecutar su código) se escribiría:"
   ]
  },
  {
   "cell_type": "code",
   "execution_count": null,
   "id": "9ff7c55a",
   "metadata": {},
   "outputs": [],
   "source": [
    "nombre = input(\"Ingrese su nombre: \")\n",
    "edad = int(input(\"Ingrese su edad: \"))\n",
    "\n",
    "mi_funcion1(edad, nombre)"
   ]
  },
  {
   "cell_type": "markdown",
   "id": "7de46996",
   "metadata": {},
   "source": [
    "#### Retorno de valores"
   ]
  },
  {
   "cell_type": "markdown",
   "id": "6e88ec64",
   "metadata": {},
   "source": [
    "Una sentencia de retorno finaliza la ejecución de la función. Si la sentencia de retorno no es una expresión, o no se usa, se retornará el valor especial `None`."
   ]
  },
  {
   "cell_type": "code",
   "execution_count": null,
   "id": "4bd49152",
   "metadata": {},
   "outputs": [],
   "source": [
    "def devolver(x,y):\n",
    "    c = x + y\n",
    "    return c"
   ]
  },
  {
   "cell_type": "code",
   "execution_count": null,
   "id": "58c2fdec",
   "metadata": {},
   "outputs": [],
   "source": [
    "a = 3\n",
    "b = 4\n",
    "\n",
    "q = devolver(a,b)\n",
    "\n",
    "p = 2.5 + q\n",
    "print(p)"
   ]
  },
  {
   "cell_type": "markdown",
   "id": "2c3f0d45",
   "metadata": {},
   "source": [
    "otro ejemplo"
   ]
  },
  {
   "cell_type": "code",
   "execution_count": null,
   "id": "9acb5c59",
   "metadata": {},
   "outputs": [],
   "source": [
    "def tasaCambio():\n",
    "    p = float(input(\"ingrese el valor de la tasa de cambio al día de hoy: \"))\n",
    "    return p\n",
    "\n",
    "def dolorosos(t,q):\n",
    "    \"\"\" Devuelve un valor dado en pesos a dólares\"\"\"\n",
    "    return t / q\n",
    "\n",
    "divisa = tasaCambio()\n",
    "\n",
    "for valorpesos in [2260, 2580, 27300, 29869]:\n",
    "    print('{0} pesos son {1:.2f} dólares'.format(valorpesos,dolorosos(valorpesos, divisa)))"
   ]
  },
  {
   "cell_type": "markdown",
   "id": "31ba266e",
   "metadata": {},
   "source": [
    "#### Retorno de valores múltiples"
   ]
  },
  {
   "cell_type": "code",
   "execution_count": null,
   "id": "69f78394",
   "metadata": {},
   "outputs": [],
   "source": [
    "def fib_intervalo(x):\n",
    "    \"\"\" \n",
    "    Retorna los números de Fibonacci \n",
    "    mayor que x y menor que x\n",
    "    \n",
    "    Input:\n",
    "    \n",
    "    Output:\n",
    "        \n",
    "    \"\"\"\n",
    "    if x < 0:\n",
    "        return -1\n",
    "    (ant,post, lub) = (0,1,0)\n",
    "    while True:\n",
    "        if post < x:\n",
    "            lub = post \n",
    "            (ant,post) = (post,ant+post)\n",
    "        else:\n",
    "            return (ant, post)\n",
    "            \n",
    "while True:\n",
    "    x = int(input(\"Ingrese un número entero >0 (<0 para interrumpir): \"))\n",
    "\n",
    "    if x <= 0:\n",
    "        break #interrumpe el programa si x<0\n",
    "\n",
    "    lub, sup = fib_intervalo(x)\n",
    "    print(\"Mayor número de Fibonacci menor que x: \" + str(lub))\n",
    "    print(\"Menor número de Fibonacci mayor que x: \" + str(sup))"
   ]
  },
  {
   "cell_type": "markdown",
   "id": "1c6a5918",
   "metadata": {},
   "source": [
    "### Lambda functions"
   ]
  },
  {
   "cell_type": "markdown",
   "id": "eb45c539",
   "metadata": {},
   "source": [
    "#### ¿Qué son las Lambda Functions?"
   ]
  },
  {
   "cell_type": "markdown",
   "id": "6260e9a2",
   "metadata": {},
   "source": [
    "Las [Lambda functions](https://www.geeksforgeeks.org/python-lambda-anonymous-functions-filter-map-reduce/), también conocidas como funciones anónimas, son un concepto fundamental en Python y en la programación en general. Son funciones pequeñas y sin nombre que se pueden definir en una sola línea de código. Aunque su uso es poderoso y puede simplificar muchas tareas, es importante comprender cuándo se deben emplear y cuándo es mejor utilizar funciones normales. En esta guía, exploraremos qué son las Lambda functions, cuándo usarlas y cuándo no.\n",
    "\n",
    "Se define utilizando la palabra clave `lambda`, seguida de uno o más argumentos y una expresión. La sintaxis básica es la siguiente:\n",
    "\n",
    "```python\n",
    "lambda argumentos: expresion\n",
    "```\n",
    "\n",
    "Las características clave de las Lambda functions son:\n",
    "\n",
    "- ***Anonimato:*** No tienen un nombre definido como las funciones normales.\n",
    "\n",
    "- ***Sencillez:*** Suelen ser simples y se definen en una sola línea.\n",
    "\n",
    "- ***Expresión única:*** La expresión que define la función debe ser única y no puede contener múltiples declaraciones."
   ]
  },
  {
   "cell_type": "markdown",
   "id": "02fc6c3f",
   "metadata": {},
   "source": [
    "#### Cuándo Usar Lambda Functions"
   ]
  },
  {
   "cell_type": "markdown",
   "id": "c71edeeb",
   "metadata": {},
   "source": [
    "- ***Funciones Simples y Pequeñas:*** Las Lambda functions son ideales para situaciones en las que necesitas una función pequeña y simple para realizar una tarea específica. Algunos ejemplos incluyen:"
   ]
  },
  {
   "cell_type": "code",
   "execution_count": null,
   "id": "7ff26782",
   "metadata": {},
   "outputs": [],
   "source": [
    "# Ordenar una lista de números de forma descendente\n",
    "nums = [1, 4, 2, 7, 5]\n",
    "sorted_nums = sorted(nums, key=lambda x: -x)\n",
    "sorted_nums"
   ]
  },
  {
   "cell_type": "code",
   "execution_count": null,
   "id": "ca0803c2",
   "metadata": {},
   "outputs": [],
   "source": [
    "# Filtrar elementos pares de una lista\n",
    "numbers = [1, 2, 3, 4, 5, 6]\n",
    "even_numbers = list(filter(lambda x: x % 2 == 0, numbers))\n",
    "even_numbers"
   ]
  },
  {
   "cell_type": "markdown",
   "id": "333307df",
   "metadata": {},
   "source": [
    "- ***Funciones de Una Sola Vez:*** Si necesitas una función que solo se usará en un lugar específico de tu código y no tiene sentido darle un nombre, las Lambda functions son una excelente opción. Esto puede mejorar la legibilidad del código al mantenerlo conciso."
   ]
  },
  {
   "cell_type": "code",
   "execution_count": null,
   "id": "1b52d723",
   "metadata": {},
   "outputs": [],
   "source": [
    "people = [('Alice', 25), ('Bob', 30), ('Charlie', 22), ('David', 28)]\n",
    "\n",
    "# Ordenar la lista de personas por edad\n",
    "people.sort(key=lambda person: person[1])\n",
    "\n",
    "print(people)"
   ]
  },
  {
   "cell_type": "markdown",
   "id": "2f5280cd",
   "metadata": {},
   "source": [
    "- ***Como Argumento de Otras Funciones:*** Las Lambda functions son útiles cuando necesitas pasar una función como argumento a otras funciones, como `map()`, `filter()`, `sorted()`, entre otras."
   ]
  },
  {
   "cell_type": "code",
   "execution_count": null,
   "id": "60e87aba",
   "metadata": {},
   "outputs": [],
   "source": [
    "# Usar una lambda con map para calcular el cuadrado de cada número en una lista\n",
    "numbers = [1, 2, 3, 4]\n",
    "squared_numbers = list(map(lambda x: x**2, numbers))\n",
    "squared_numbers"
   ]
  },
  {
   "cell_type": "markdown",
   "id": "271c8f2f",
   "metadata": {},
   "source": [
    "#### Cuándo No Usar Lambda Functions"
   ]
  },
  {
   "cell_type": "markdown",
   "id": "fa82f6d0",
   "metadata": {},
   "source": [
    "- ***Funciones Complejas:*** Si la lógica de tu función es compleja y requiere múltiples declaraciones o un flujo de control complejo, es mejor utilizar una función normal con un nombre descriptivo. Esto mejora la legibilidad y la mantenibilidad del código.\n",
    "\n",
    "- ***Falta de Claridad:*** Cuando una Lambda function se vuelve demasiado complicada, puede ser difícil de entender, lo que dificulta el mantenimiento del código y la colaboración con otros programadores. En tales casos, es preferible utilizar una función normal con comentarios descriptivos."
   ]
  },
  {
   "cell_type": "markdown",
   "id": "84b2b756",
   "metadata": {},
   "source": [
    "### Módulos"
   ]
  },
  {
   "cell_type": "markdown",
   "id": "efe4b1ed",
   "metadata": {},
   "source": [
    "#### Personalizados"
   ]
  },
  {
   "cell_type": "markdown",
   "id": "4c61890e",
   "metadata": {},
   "source": [
    "La programación modular es una técnica de diseño de software para dividir su código en partes separadas. Estas piezas se denominan módulos.\n",
    "\n",
    "Si deseamos realizar operaciones más complejas en python, es necesario llamar al módulo correspondiente que ya contenga dicha funcionalidad. Por ejemplo, si deseamos extraer la raiz cuadrada de un número podemos hacer lo siguiente:"
   ]
  },
  {
   "cell_type": "code",
   "execution_count": null,
   "id": "628b8fc4",
   "metadata": {},
   "outputs": [],
   "source": [
    "raiz = (4)**(1/2)\n",
    "raiz"
   ]
  },
  {
   "cell_type": "markdown",
   "id": "afe13676",
   "metadata": {},
   "source": [
    "pero si ahora quisiéramos trabajar con funciones trigonométricas o estadísticas, más complejas, tendríamos qué programar cada una de ellas y guardarlas en algún lugar para despues ser llamadas a nuestro código. Esto se puede hacer de la siguiente manera:\n",
    "\n",
    "- creamos un archivo plano con extensión `.py` que contenga la o las funciones a ser incorporadas en nuestro código.\n",
    "- importar el módulo y/o las funciones a emplear en el código\n",
    "\n",
    "***obs:*** se debe indicar la ruta en donde se encuentra el módulo guardado. Es aconsejable que el archivo `.py` esté en la misma carpeta donde tenga el código fuente (esto para no complicarse mucho la existencia, por ahora.)"
   ]
  },
  {
   "cell_type": "markdown",
   "id": "6f997e78",
   "metadata": {},
   "source": [
    "#### Built - in"
   ]
  },
  {
   "cell_type": "markdown",
   "id": "e350f27a",
   "metadata": {},
   "source": [
    "Python dispone de una ámplia biblioteca (libraries) de módulos para una gran variedad de aplicaciones. Para el cálculo de funciones matemáticas sencillas, python dispone del módulo `math`. "
   ]
  },
  {
   "cell_type": "code",
   "execution_count": null,
   "id": "f177657b",
   "metadata": {},
   "outputs": [],
   "source": [
    "import math"
   ]
  },
  {
   "cell_type": "code",
   "execution_count": null,
   "id": "de845df7",
   "metadata": {},
   "outputs": [],
   "source": [
    "math."
   ]
  },
  {
   "cell_type": "code",
   "execution_count": null,
   "id": "5871aad0",
   "metadata": {},
   "outputs": [],
   "source": [
    "p = math.sqrt(4)\n",
    "p"
   ]
  },
  {
   "cell_type": "markdown",
   "id": "8de6d412",
   "metadata": {},
   "source": [
    "Podemos ver las funciones disponibles en los módulos escribiendo el nombre del módulo (o su alias) seguido del símbolo `.` (punto) y con la tecla tabulador se desplegará un menún contextual con todas las funciones:\n",
    "\n",
    "```python\n",
    "    modulo.\n",
    "```"
   ]
  },
  {
   "cell_type": "code",
   "execution_count": null,
   "id": "cc93e51f",
   "metadata": {},
   "outputs": [],
   "source": [
    "math."
   ]
  },
  {
   "cell_type": "markdown",
   "id": "600112ac",
   "metadata": {},
   "source": [
    "## Ecosistema Python"
   ]
  },
  {
   "cell_type": "markdown",
   "id": "f3826364",
   "metadata": {},
   "source": [
    "Python cuenta con una ámplia gama de bibliotecas para realizar trabajos específicos, que conforman lo que se denomina el Ecosistema Python. A seguir se comparten los enlaces a diferentes archivos en donde podrán encontrar una documentación más amplia:\n",
    "\n",
    "- [Numpy](./CrashCourse02_Numpy.ipynb)\n",
    "\n",
    "- [Matplotlib](./CrashCourse03_Matplotlib.ipynb)\n",
    "\n",
    "- [Pandas](./CrashCourse05_Pandas.ipynb)\n"
   ]
  }
 ],
 "metadata": {
  "kernelspec": {
   "display_name": "Python 3 (ipykernel)",
   "language": "python",
   "name": "python3"
  },
  "language_info": {
   "codemirror_mode": {
    "name": "ipython",
    "version": 3
   },
   "file_extension": ".py",
   "mimetype": "text/x-python",
   "name": "python",
   "nbconvert_exporter": "python",
   "pygments_lexer": "ipython3",
   "version": "3.11.3"
  },
  "toc": {
   "base_numbering": 1,
   "nav_menu": {},
   "number_sections": true,
   "sideBar": true,
   "skip_h1_title": true,
   "title_cell": "Tabla de Contenidos",
   "title_sidebar": "Contenidos",
   "toc_cell": false,
   "toc_position": {
    "height": "calc(100% - 180px)",
    "left": "10px",
    "top": "150px",
    "width": "199.7px"
   },
   "toc_section_display": true,
   "toc_window_display": false
  }
 },
 "nbformat": 4,
 "nbformat_minor": 5
}
