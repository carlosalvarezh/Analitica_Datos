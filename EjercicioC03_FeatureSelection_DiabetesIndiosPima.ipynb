{
 "cells": [
  {
   "cell_type": "markdown",
   "id": "f5281ece",
   "metadata": {
    "id": "f5281ece"
   },
   "source": [
    "<h1 align=\"center\">Analítica de datos para la toma de decisiones basadas en información</h1>\n",
    "<h1 align=\"center\">Ejercicio: Feature Selection - Diabetes Indios Pima</h1>\n",
    "<h1 align=\"center\">2023</h1>\n",
    "<h1 align=\"center\">MEDELLÍN - COLOMBIA </h1>"
   ]
  },
  {
   "cell_type": "markdown",
   "id": "7540c1f3",
   "metadata": {
    "id": "7540c1f3"
   },
   "source": [
    "*** \n",
    "|[![Gmail](https://img.shields.io/badge/Gmail-D14836?style=plastic&logo=gmail&logoColor=white)](mailto:carlosalvarezh@gmail.com)|<carlosalvarezh@gmail.com>|[![Open In Colab](https://colab.research.google.com/assets/colab-badge.svg)](https://colab.research.google.com/github/carlosalvarezh/Curso_CEC_EAFIT/blob/main/EjercicioC03_FeatureSelection_DiabetesIndiosPima.ipynb)\n",
    "|-:|:-|--:|\n",
    "|[![LinkedIn](https://img.shields.io/badge/linkedin-%230077B5.svg?style=plastic&logo=linkedin&logoColor=white)](https://www.linkedin.com/in/carlosalvarez5/)|[![@alvarezhenao](https://img.shields.io/twitter/url/https/twitter.com/alvarezhenao.svg?style=social&label=Follow%20%40alvarezhenao)](https://twitter.com/alvarezhenao)|[![@carlosalvarezh](https://img.shields.io/badge/github-%23121011.svg?style=plastic&logo=github&logoColor=white)](https://github.com/carlosalvarezh)|\n",
    "\n",
    "<table>\n",
    " <tr align=left><td><img align=left src=\"https://github.com/carlosalvarezh/Curso_CEC_EAFIT/blob/main/images/CCLogoColorPop1.gif?raw=true\" width=\"25\">\n",
    " <td>Text provided under a Creative Commons Attribution license, CC-BY. All code is made available under the FSF-approved MIT license.(c) Carlos Alberto Alvarez Henao</td>\n",
    "</table>\n",
    "\n",
    "***"
   ]
  },
  {
   "cell_type": "markdown",
   "id": "f95be8a0",
   "metadata": {
    "id": "f95be8a0"
   },
   "source": [
    "## Introducción"
   ]
  },
  {
   "cell_type": "markdown",
   "id": "ef37de59",
   "metadata": {
    "id": "ef37de59"
   },
   "source": [
    "Como científico de datos que trabaja con Python, es crucial entender la importancia de la selección de características al construir un modelo de aprendizaje automático. En problemas de ciencia de datos en la vida real, es casi raro que todas las variables en el conjunto de datos sean útiles para construir un modelo. Agregar variables redundantes reduce la capacidad de generalización del modelo y también puede disminuir la precisión general de un clasificador. Además, agregar más variables a un modelo aumenta la complejidad general del mismo.\n",
    "\n",
    "Según la [Ley de la Parsimonia de la 'Navaja de Occam'](https://en.wikipedia.org/wiki/Occam%27s_razor), la mejor explicación de un problema es aquella que implica el menor número posible de suposiciones. Por lo tanto, la selección de características se convierte en una parte indispensable en la construcción de modelos de aprendizaje automático.\n"
   ]
  },
  {
   "cell_type": "markdown",
   "id": "dd92f317",
   "metadata": {
    "id": "dd92f317"
   },
   "source": [
    "### Objetivos de Aprendizaje"
   ]
  },
  {
   "cell_type": "markdown",
   "id": "6110f0c8",
   "metadata": {
    "id": "6110f0c8"
   },
   "source": [
    "- Comprender la importancia de la selección de características.\n",
    "<p>&nbsp;</p>\n",
    "\n",
    "- Familiarizarse con diferentes técnicas de selección de características.\n",
    "<p>&nbsp;</p>\n",
    "\n",
    "- Aplicar técnicas de selección de características en la práctica y evaluar el rendimiento."
   ]
  },
  {
   "cell_type": "markdown",
   "id": "95e0b87f",
   "metadata": {
    "id": "95e0b87f"
   },
   "source": [
    "### Selección de características en el aprendizaje automático"
   ]
  },
  {
   "cell_type": "markdown",
   "id": "449fab44",
   "metadata": {
    "id": "449fab44"
   },
   "source": [
    "El objetivo de las técnicas de selección de características en el aprendizaje automático es encontrar el mejor conjunto de características que permita construir modelos optimizados de los fenómenos estudiados.\n",
    "\n",
    "Las técnicas de selección de características en el aprendizaje automático se pueden clasificar ampliamente en las siguientes categorías:\n",
    "\n",
    "- ***[Técnicas Supervisadas](https://en.wikipedia.org/wiki/Supervised_learning):*** Estas técnicas se pueden utilizar para datos etiquetados y para identificar las características relevantes que aumentan la eficiencia de modelos supervisados como la clasificación y la regresión. Por ejemplo, [regresión lineal](https://en.wikipedia.org/wiki/Linear_regression), [árbol de decisión](https://en.wikipedia.org/wiki/Decision_tree), [Máquinas de Vectores de Soporte](https://en.wikipedia.org/wiki/Support_vector_machine), etc.\n",
    "<p>&nbsp;</p>\n",
    "\n",
    "- ***[Técnicas No Supervisadas](https://en.wikipedia.org/wiki/Unsupervised_learning):*** Estas técnicas se pueden utilizar para datos no etiquetados. Por ejemplo, [Agrupamiento K-Means](https://en.wikipedia.org/wiki/K-means_clustering), [Análisis de Componentes Principales](https://en.wikipedia.org/wiki/Principal_component_analysis), [Agrupamiento Jerárquico](https://en.wikipedia.org/wiki/Hierarchical_clustering), etc.\n",
    "\n",
    "Desde un punto de vista taxonómico, estas técnicas se clasifican en métodos de [filtro](https://en.wikipedia.org/wiki/Feature_selection#Filter_method), [envoltura](https://en.wikipedia.org/wiki/Feature_selection#Wrapper_method), [embebidos](https://en.wikipedia.org/wiki/Feature_selection#Embedded_method) y métodos híbridos.\n",
    "\n",
    "Ahora, discutamos en detalle algunas de estas populares técnicas de selección de características en el aprendizaje automático."
   ]
  },
  {
   "cell_type": "markdown",
   "id": "be43799c",
   "metadata": {
    "id": "be43799c"
   },
   "source": [
    "## Análisis Exploratorio de los Datos"
   ]
  },
  {
   "cell_type": "markdown",
   "id": "b3e7b26d",
   "metadata": {
    "id": "b3e7b26d"
   },
   "source": [
    "### Entendiendo el conjunto de datos: Diabetes de los Indios Pima"
   ]
  },
  {
   "cell_type": "markdown",
   "id": "67f4dcf1",
   "metadata": {
    "id": "67f4dcf1"
   },
   "source": [
    "Pongámonos primero en contexto: El Conjunto de Datos de [Diabetes de los Indios Pima](https://www.kaggle.com/datasets/uciml/pima-indians-diabetes-database) implica predecir el inicio de la diabetes en un plazo de $5$ años en los Indios Pima dados detalles médicos.\n",
    "\n",
    "Es un problema de [clasificación binaria](https://en.wikipedia.org/wiki/Binary_classification) ($2$ clases). El número de observaciones para cada clase no está equilibrado. Hay $768$ observaciones con $8$ variables de entrada y $1$ variable de salida. Se cree que los valores faltantes están codificados con valores cero. Los nombres de las variables son los siguientes:\n",
    "\n",
    "Tenemos una variable objetivo:\n",
    "\n",
    "- `Outcome`: $1$ (tiene diabetes) y $0$ (no tiene diabetes) ($Y$)\n",
    "\n",
    "Contamos con 8 variables explicativas (todas numéricas) que son:\n",
    "\n",
    "- `Pregnancies`: Número de veces que está embarazada. ($X_1$)\n",
    "\n",
    "- `Glucose`: Prueba de tolerancia a la glucosa oral: OGTT (concentración de glucosa en plasma de dos horas después de 75 g de glucosa anhidra en mg/dl) ($X_2$)\n",
    "\n",
    "- `BloodPressure`: Presión arterial diastólica en mmHg ($X_3$)\n",
    "\n",
    "- `SkinThickness`: Grosor del pliegue cutáneo del tríceps (en mm) ($X_4$)\n",
    "\n",
    "- `Insulin`: 2 h de insulina sérica en U/ml ($X_5$)\n",
    "\n",
    "- `BMI`: índice de masa corporal, IMC, en kg/m2 ($X_6$)\n",
    "\n",
    "- `DiabetesPedigreeFunction`: Función que representa la probabilidad de que padezcan la enfermedad extrapolando la historia de sus antepasados. ($X_7$)\n",
    "\n",
    "- `AGE`: Edad en años. ($X_8$)\n"
   ]
  },
  {
   "cell_type": "markdown",
   "id": "e7d58828",
   "metadata": {
    "id": "e7d58828"
   },
   "source": [
    "### Cargue de los datos"
   ]
  },
  {
   "cell_type": "markdown",
   "id": "d509ef1c",
   "metadata": {
    "id": "d509ef1c"
   },
   "source": [
    "Carguemos el conjunto de datos y realicemos una breve exploración del dataset para tener un mejor entendimiento del problema a desarrollar."
   ]
  },
  {
   "cell_type": "code",
   "execution_count": null,
   "id": "35b2665b",
   "metadata": {
    "executionInfo": {
     "elapsed": 1744,
     "status": "ok",
     "timestamp": 1698679226714,
     "user": {
      "displayName": "Carlos Alvarez",
      "userId": "16171288366908457354"
     },
     "user_tz": 300
    },
    "id": "35b2665b"
   },
   "outputs": [],
   "source": [
    "import numpy as np\n",
    "import pandas as pd\n",
    "import seaborn as sns\n",
    "import matplotlib.pyplot as plt\n",
    "from sklearn.feature_selection import mutual_info_classif\n",
    "import missingno as msno\n",
    "\n",
    "#import warnings\n",
    "#warnings.filterwarnings('ignore')"
   ]
  },
  {
   "cell_type": "code",
   "execution_count": null,
   "id": "enZPv65YKs5m",
   "metadata": {
    "id": "enZPv65YKs5m"
   },
   "outputs": [],
   "source": [
    "from google.colab import drive\n",
    "drive.mount('/content/drive')"
   ]
  },
  {
   "cell_type": "code",
   "execution_count": null,
   "id": "f512559a",
   "metadata": {
    "executionInfo": {
     "elapsed": 624,
     "status": "ok",
     "timestamp": 1698679247897,
     "user": {
      "displayName": "Carlos Alvarez",
      "userId": "16171288366908457354"
     },
     "user_tz": 300
    },
    "id": "f512559a"
   },
   "outputs": [],
   "source": [
    "# Cargue de datos\n",
    "df = pd.read_csv(\"/content/drive/Othercomputers/Mi PC/Drive/GitHub/Curso_AnaliticaDatos_TomaDecisiones/Data/diabetes2.csv\")"
   ]
  },
  {
   "cell_type": "markdown",
   "id": "c2ac12ca",
   "metadata": {
    "id": "c2ac12ca"
   },
   "source": [
    "Damos una rápida inspección visual de los datos, tanto en las primeras como en las últimas entradas:"
   ]
  },
  {
   "cell_type": "code",
   "execution_count": null,
   "id": "5fdb79a4",
   "metadata": {
    "colab": {
     "base_uri": "https://localhost:8080/",
     "height": 383
    },
    "executionInfo": {
     "elapsed": 274,
     "status": "ok",
     "timestamp": 1698679250750,
     "user": {
      "displayName": "Carlos Alvarez",
      "userId": "16171288366908457354"
     },
     "user_tz": 300
    },
    "id": "5fdb79a4",
    "outputId": "22fbc6fb-84e8-4bf4-c4e8-21f473cdb973",
    "scrolled": false
   },
   "outputs": [],
   "source": [
    "df.head(10)"
   ]
  },
  {
   "cell_type": "code",
   "execution_count": null,
   "id": "30f4b8dc",
   "metadata": {
    "id": "30f4b8dc"
   },
   "outputs": [],
   "source": [
    "df.tail(10)"
   ]
  },
  {
   "cell_type": "markdown",
   "id": "2969584e",
   "metadata": {
    "id": "2969584e"
   },
   "source": [
    "Se observa que hay algunos valores `NaN`. Ahora miremos la información general del conjunto de datos"
   ]
  },
  {
   "cell_type": "code",
   "execution_count": null,
   "id": "9fab388c",
   "metadata": {
    "colab": {
     "base_uri": "https://localhost:8080/"
    },
    "executionInfo": {
     "elapsed": 220,
     "status": "ok",
     "timestamp": 1698679314503,
     "user": {
      "displayName": "Carlos Alvarez",
      "userId": "16171288366908457354"
     },
     "user_tz": 300
    },
    "id": "9fab388c",
    "outputId": "c2a3931d-aa55-46b7-9430-ebe0e476830e",
    "scrolled": true
   },
   "outputs": [],
   "source": [
    "df.info()"
   ]
  },
  {
   "cell_type": "markdown",
   "id": "f5b2f60c",
   "metadata": {
    "id": "f5b2f60c"
   },
   "source": [
    "Efectivamente todas las columnas de las características cuentan con algunos datos faltantes. Vamos a chequear"
   ]
  },
  {
   "cell_type": "code",
   "execution_count": null,
   "id": "eed09c1a",
   "metadata": {
    "colab": {
     "base_uri": "https://localhost:8080/"
    },
    "executionInfo": {
     "elapsed": 259,
     "status": "ok",
     "timestamp": 1698679388819,
     "user": {
      "displayName": "Carlos Alvarez",
      "userId": "16171288366908457354"
     },
     "user_tz": 300
    },
    "id": "eed09c1a",
    "outputId": "127fe88b-d593-4deb-ab1a-7bfc7407e74f"
   },
   "outputs": [],
   "source": [
    "df.isnull().sum()"
   ]
  },
  {
   "cell_type": "markdown",
   "id": "b0fbe4c7",
   "metadata": {
    "id": "b0fbe4c7"
   },
   "source": [
    "Veamos un resumen de las estadísticas descriptivas de cada una de las columnas numéricas del dataset"
   ]
  },
  {
   "cell_type": "code",
   "execution_count": null,
   "id": "977edf2e",
   "metadata": {
    "colab": {
     "base_uri": "https://localhost:8080/",
     "height": 320
    },
    "executionInfo": {
     "elapsed": 211,
     "status": "ok",
     "timestamp": 1698679449370,
     "user": {
      "displayName": "Carlos Alvarez",
      "userId": "16171288366908457354"
     },
     "user_tz": 300
    },
    "id": "977edf2e",
    "outputId": "92c9c67d-7269-4b40-fdf0-035690408332"
   },
   "outputs": [],
   "source": [
    "df.describe()"
   ]
  },
  {
   "cell_type": "markdown",
   "id": "a7067904",
   "metadata": {
    "id": "a7067904"
   },
   "source": [
    "Observemos que los valores mínimos en las columnas `Glucose`, `BloodPressure`, `SkinThickness`, `Insulin` y `BMI` es de $0$, lo que no es posible. Dichos valores de $0$ representan valores faltanes, por lo que hay qué reemplazarlos por `NaN`"
   ]
  },
  {
   "cell_type": "code",
   "execution_count": null,
   "id": "86d0691e",
   "metadata": {
    "executionInfo": {
     "elapsed": 215,
     "status": "ok",
     "timestamp": 1698679901702,
     "user": {
      "displayName": "Carlos Alvarez",
      "userId": "16171288366908457354"
     },
     "user_tz": 300
    },
    "id": "86d0691e"
   },
   "outputs": [],
   "source": [
    "cols = ['Glucose','BloodPressure','SkinThickness','Insulin','BMI']\n",
    "df[cols] = df[cols].replace({'0':np.nan, 0:np.nan})"
   ]
  },
  {
   "cell_type": "markdown",
   "id": "2b751749",
   "metadata": {
    "id": "2b751749"
   },
   "source": [
    "volvamos a ver el resumen del dataset"
   ]
  },
  {
   "cell_type": "code",
   "execution_count": null,
   "id": "0df964f9",
   "metadata": {
    "colab": {
     "base_uri": "https://localhost:8080/",
     "height": 226
    },
    "executionInfo": {
     "elapsed": 202,
     "status": "ok",
     "timestamp": 1698679906085,
     "user": {
      "displayName": "Carlos Alvarez",
      "userId": "16171288366908457354"
     },
     "user_tz": 300
    },
    "id": "0df964f9",
    "outputId": "e5ccc450-ab26-4413-9a1c-a2f99a1ca858"
   },
   "outputs": [],
   "source": [
    "df.head()"
   ]
  },
  {
   "cell_type": "code",
   "execution_count": null,
   "id": "a56235b1",
   "metadata": {
    "colab": {
     "base_uri": "https://localhost:8080/"
    },
    "executionInfo": {
     "elapsed": 322,
     "status": "ok",
     "timestamp": 1698679948210,
     "user": {
      "displayName": "Carlos Alvarez",
      "userId": "16171288366908457354"
     },
     "user_tz": 300
    },
    "id": "a56235b1",
    "outputId": "788c97c8-d085-4a53-da7f-57eebcb91afb"
   },
   "outputs": [],
   "source": [
    "df.info()"
   ]
  },
  {
   "cell_type": "code",
   "execution_count": null,
   "id": "aac843ad",
   "metadata": {
    "colab": {
     "base_uri": "https://localhost:8080/",
     "height": 320
    },
    "executionInfo": {
     "elapsed": 226,
     "status": "ok",
     "timestamp": 1698679957025,
     "user": {
      "displayName": "Carlos Alvarez",
      "userId": "16171288366908457354"
     },
     "user_tz": 300
    },
    "id": "aac843ad",
    "outputId": "453db8ba-8543-4086-b14f-7d6e221b91b1"
   },
   "outputs": [],
   "source": [
    "df.describe()"
   ]
  },
  {
   "cell_type": "code",
   "execution_count": null,
   "id": "4aba79c6",
   "metadata": {
    "colab": {
     "base_uri": "https://localhost:8080/"
    },
    "executionInfo": {
     "elapsed": 211,
     "status": "ok",
     "timestamp": 1698680241573,
     "user": {
      "displayName": "Carlos Alvarez",
      "userId": "16171288366908457354"
     },
     "user_tz": 300
    },
    "id": "4aba79c6",
    "outputId": "ab9ea4f4-453c-4b3b-b6d9-a0c81f6a1ee8",
    "scrolled": true
   },
   "outputs": [],
   "source": [
    "df.isnull().sum()"
   ]
  },
  {
   "cell_type": "markdown",
   "id": "625cbf7e",
   "metadata": {
    "id": "625cbf7e"
   },
   "source": [
    "Visualicemos el número de valores faltantes empleando un diagrama de barras"
   ]
  },
  {
   "cell_type": "code",
   "execution_count": null,
   "id": "7bb45691",
   "metadata": {
    "colab": {
     "base_uri": "https://localhost:8080/"
    },
    "executionInfo": {
     "elapsed": 5950,
     "status": "ok",
     "timestamp": 1698680267873,
     "user": {
      "displayName": "Carlos Alvarez",
      "userId": "16171288366908457354"
     },
     "user_tz": 300
    },
    "id": "7bb45691",
    "outputId": "8f5753cd-ff87-4aca-e0df-cdd883d401fd"
   },
   "outputs": [],
   "source": [
    "pip install missingno #ejecutar únicamente la primera vez para su instalación"
   ]
  },
  {
   "cell_type": "code",
   "execution_count": null,
   "id": "794e93c3",
   "metadata": {
    "colab": {
     "base_uri": "https://localhost:8080/",
     "height": 385
    },
    "executionInfo": {
     "elapsed": 3990,
     "status": "ok",
     "timestamp": 1698680278767,
     "user": {
      "displayName": "Carlos Alvarez",
      "userId": "16171288366908457354"
     },
     "user_tz": 300
    },
    "id": "794e93c3",
    "outputId": "d97ddd9f-510a-4dc7-b078-589414dd96a9"
   },
   "outputs": [],
   "source": [
    "msno.bar(df)"
   ]
  },
  {
   "cell_type": "markdown",
   "id": "92c0b094",
   "metadata": {
    "id": "92c0b094"
   },
   "source": [
    "Se observa que la variable `Insulin` contiene la mayor cantidad de datos faltantes, seguida por la variable `SkinThickness`."
   ]
  },
  {
   "cell_type": "markdown",
   "id": "07248c57",
   "metadata": {
    "id": "07248c57"
   },
   "source": [
    "Ahora exploremos cómo se correlacionan las diferentes variables entre sí:"
   ]
  },
  {
   "cell_type": "code",
   "execution_count": null,
   "id": "f19581f4",
   "metadata": {
    "colab": {
     "base_uri": "https://localhost:8080/",
     "height": 603
    },
    "executionInfo": {
     "elapsed": 817,
     "status": "ok",
     "timestamp": 1698680698924,
     "user": {
      "displayName": "Carlos Alvarez",
      "userId": "16171288366908457354"
     },
     "user_tz": 300
    },
    "id": "f19581f4",
    "outputId": "1b48cb27-0d22-4e9b-9300-f1530e9708d2"
   },
   "outputs": [],
   "source": [
    "corr = df.corr()\n",
    "sns.heatmap(corr, annot=True, square=True)\n",
    "plt.yticks(rotation=0)\n",
    "plt.show()"
   ]
  },
  {
   "cell_type": "markdown",
   "id": "b72ede4c",
   "metadata": {
    "id": "b72ede4c"
   },
   "source": [
    "Del gráfico de correlación podemos extraer la siguiente información\n",
    "\n",
    "***Correlaciones positivas:***\n",
    "\n",
    "- `Glucose` e `Insulin` ($0.59$): Niveles más altos de insulina corresponden a niveles más altos de glucosa en sangre.\n",
    "- `Age` y `Pregnancies` ($0.54$): Las mujeres mayores tienden a tener más embarazos.\n",
    "- `Glucose` y `Outcome` ($0.48$): Las mujeres con niveles más altos de glucosa tienen más probabilidad de tener diabetes.\n",
    "- `SkinThickness` y `BMI` ($0.63$): Las mujeres con valores más altos de grosor del pliegue cutáneo tienden a tener un *IMC* más alto, lo que a menudo indica sobrepeso u obesidad.\n",
    "\n",
    "***Correlación negativa:***\n",
    "\n",
    "- `DiabetesPedigreeFunction` y `Pregnancies`: $-0.031$\n",
    "\n",
    "En general, un coeficiente de correlación por encima de $0.7$ entre dos características sugiere multicolinealidad. Sin embargo, en estos datos, no hay tales correlaciones altas, lo que indica que la multicolinealidad no es una preocupación.\n"
   ]
  },
  {
   "cell_type": "markdown",
   "id": "3a9acdae",
   "metadata": {
    "id": "3a9acdae"
   },
   "source": [
    "Ahora, vamos a agrupar los datos por la variable `Outcome`"
   ]
  },
  {
   "cell_type": "code",
   "execution_count": null,
   "id": "405da601",
   "metadata": {
    "colab": {
     "base_uri": "https://localhost:8080/",
     "height": 163
    },
    "executionInfo": {
     "elapsed": 207,
     "status": "ok",
     "timestamp": 1698681177976,
     "user": {
      "displayName": "Carlos Alvarez",
      "userId": "16171288366908457354"
     },
     "user_tz": 300
    },
    "id": "405da601",
    "outputId": "06cea00f-8dac-4afa-8909-8d380640ff92"
   },
   "outputs": [],
   "source": [
    "df.groupby('Outcome').mean().round(2)"
   ]
  },
  {
   "cell_type": "markdown",
   "id": "3b5663a8",
   "metadata": {
    "id": "3b5663a8"
   },
   "source": [
    "De estos resultados resaltemos:\n",
    "\n",
    "- Las mujeres diabéticas tienden a tener un mayor número de embarazos, niveles más altos de glucosa, presión arterial, grosor de la piel, insulina, IMC y función del pedigrí de la diabetes que aquellas que no son diabéticas y también es probable que sean mayores.\n",
    "<p>&nbsp;</p>\n",
    "\n",
    "- Ambos grupos tienen un *IMC* mucho más alto que el rango normal $(18.5$ a $25)$, lo que indica obesidad.\n",
    "<p>&nbsp;</p>\n",
    "\n",
    "- Las mujeres que tienen diabetes tienen más probabilidades de tener antecedentes ancestrales de diabetes.\n",
    "<p>&nbsp;</p>\n",
    "\n",
    "- Las mujeres con diabetes tienen un promedio de insulina superior al rango normal ($16$ a $166 muU/ml$), mientras que los que no tienen diabetes tienen niveles de insulina promedio en el rango normal.\n",
    "<p>&nbsp;</p>\n",
    "\n",
    "- Ambos grupos tienen un promedio de glucosa superior al rango normal ($\\leq 100 mg/dL$). Podría indicar que algunas mujeres no diabéticas tienen riesgo de tener diabetes en el futuro, especialmente aquellas con niveles más altos de insulina.\n",
    "\n",
    "Ahora, veamos una representación gráfica de los mismos resultados empleando un gráfico de líneas."
   ]
  },
  {
   "cell_type": "code",
   "execution_count": null,
   "id": "0492935d",
   "metadata": {
    "id": "0492935d",
    "outputId": "7edfeddc-c635-43a2-e8b1-344fe4a76ca2"
   },
   "outputs": [],
   "source": [
    "df.groupby('Outcome').mean().T.plot(figsize=(12,4))"
   ]
  },
  {
   "cell_type": "markdown",
   "id": "ba7e29fe",
   "metadata": {
    "id": "ba7e29fe"
   },
   "source": [
    "El gráfico de líneas nos ayuda a visualizar lo mismo, que el valor medio de cada característica es mayor para las mujeres diabéticas que para las no diabéticas."
   ]
  },
  {
   "cell_type": "markdown",
   "id": "bbed1af1",
   "metadata": {
    "id": "bbed1af1"
   },
   "source": [
    "Ahora, grafiquemos los datos empleando diagrama de barras"
   ]
  },
  {
   "cell_type": "code",
   "execution_count": null,
   "id": "00446dcf",
   "metadata": {
    "id": "00446dcf",
    "outputId": "ab12ab9b-7f5c-4afb-b10c-79920f4b67b7"
   },
   "outputs": [],
   "source": [
    "#relation between each feature and the outcome variable by barplot.\n",
    "plt.figure(figsize = (20,10))\n",
    "for i,col in enumerate(set(df.columns) - {'Outcome'}):\n",
    "    plt.subplot(2,4,i+1)\n",
    "    sns.barplot(data = df, x = 'Outcome',y = col,)\n",
    "    plt.xlabel('Outcome', fontsize = 15)\n",
    "    plt.xticks(fontsize = 10)\n",
    "    plt.ylabel(col, fontsize = 15)\n",
    "    plt.yticks(fontsize = 10)"
   ]
  },
  {
   "cell_type": "markdown",
   "id": "0962dde8",
   "metadata": {
    "id": "0962dde8"
   },
   "source": [
    "Veamos cómo es su representación empleando diagramas de caja"
   ]
  },
  {
   "cell_type": "code",
   "execution_count": null,
   "id": "2bff5380",
   "metadata": {
    "id": "2bff5380",
    "outputId": "86382a5b-8bda-4ca7-e609-aaf0f638e0cf"
   },
   "outputs": [],
   "source": [
    "plt.figure(figsize = (20,20))\n",
    "for i,col in enumerate(set(df.columns) - {'Outcome'}):\n",
    "    plt.subplot(4, 4, i + 1)\n",
    "    sns.boxplot(data = df,x = 'Outcome', y = col )\n",
    "    plt.xlabel('Outcome', fontsize = 15)\n",
    "    plt.xticks(fontsize = 10)"
   ]
  },
  {
   "cell_type": "markdown",
   "id": "51d7a8bd",
   "metadata": {
    "id": "51d7a8bd"
   },
   "source": [
    "Solo para asegurarnos de que los datos no estén desequilibrados, trazamos el gráfico de recuento para la variable de salida."
   ]
  },
  {
   "cell_type": "code",
   "execution_count": null,
   "id": "3dc30470",
   "metadata": {
    "id": "3dc30470",
    "outputId": "da117013-b0b1-42dc-c5ab-7723441c4771"
   },
   "outputs": [],
   "source": [
    "sns.countplot(x = 'Outcome', data = df)"
   ]
  },
  {
   "cell_type": "code",
   "execution_count": null,
   "id": "9042c76d",
   "metadata": {
    "id": "9042c76d",
    "outputId": "59c57968-ecb8-48c9-8c88-63688f49b942"
   },
   "outputs": [],
   "source": [
    "#Let us first analyze the distribution of the target variable\n",
    "\n",
    "labels = ['Non-Diabetic','Datiabetic']\n",
    "MAP = {}\n",
    "for e, i in enumerate(df['Outcome'].unique()):\n",
    "    MAP[i] = labels[e]\n",
    "#MAP={0:'Not-Survived',1:'Survived'}\n",
    "df1 = df.copy()\n",
    "df1['Outcome'] = df1['Outcome'].map(MAP)\n",
    "explode = np.zeros(len(labels))\n",
    "explode[-1] = 0.1\n",
    "print('\\033[1mOutcome Variable Distribution'.center(55))\n",
    "plt.pie(df1['Outcome'].value_counts(), labels=df1['Outcome'].value_counts().index, counterclock = False, shadow = True,\n",
    "        explode = explode, autopct = '%1.1f%%', radius = 1, startangle = 0)\n",
    "plt.show()"
   ]
  },
  {
   "cell_type": "markdown",
   "id": "87620ff8",
   "metadata": {
    "id": "87620ff8"
   },
   "source": [
    "### Análisis Univariado"
   ]
  },
  {
   "cell_type": "code",
   "execution_count": null,
   "id": "4e4c28d3",
   "metadata": {
    "colab": {
     "base_uri": "https://localhost:8080/"
    },
    "executionInfo": {
     "elapsed": 256,
     "status": "ok",
     "timestamp": 1698681806253,
     "user": {
      "displayName": "Carlos Alvarez",
      "userId": "16171288366908457354"
     },
     "user_tz": 300
    },
    "id": "4e4c28d3",
    "outputId": "f7e43d15-701c-47ad-abc4-e9c264a34e41"
   },
   "outputs": [],
   "source": [
    "df.info()"
   ]
  },
  {
   "cell_type": "markdown",
   "id": "99921f44",
   "metadata": {
    "id": "99921f44"
   },
   "source": [
    "Ahora tenemos que imputar los valores faltantes, pero para eso primero veamos el tipo de distribuciones de nuestros datos para decidir cómo podemos imputarlos.\n",
    "\n",
    "El método de imputación debe decidirse después de considerar la distribución de los datos: *distribución normal* o *distribución sesgada* (ya sea a la derecha o a la izquierda)."
   ]
  },
  {
   "cell_type": "code",
   "execution_count": null,
   "id": "ad9d0406",
   "metadata": {
    "id": "ad9d0406",
    "outputId": "e0517e68-d963-49ac-9b37-f3ec5d49826c"
   },
   "outputs": [],
   "source": [
    "plt.figure(figsize = (20, 25))\n",
    "for i, col in enumerate(set(df.columns) - {'Outcome'}):\n",
    "    plt.subplot(6, 4, i + 1)\n",
    "    sns.histplot(df[col], kde = True)  # Utiliza histplot con kde=True para trazar la distribución y la estimación de densidad.\n",
    "    plt.xlabel(col, fontsize=15)\n",
    "    plt.xticks(fontsize=15)\n",
    "\n",
    "plt.show()\n"
   ]
  },
  {
   "cell_type": "markdown",
   "id": "5fcb8c7e",
   "metadata": {
    "id": "5fcb8c7e"
   },
   "source": [
    "La distribución de las variables `BloodPressure`, `SkinThickness` y `BMI` es normal, mientras que para todas las demás características está sesgada. Por lo tanto, para estos, podemos reemplazar los valores faltantes por la media y, para el resto, por la mediana.\n",
    "\n",
    "(***NOTA:*** Recuerde que esto es solo una idea. Las decisiones deberán ser enmarcadas en el contexto del tipo de problema que se está desarrollando)"
   ]
  },
  {
   "cell_type": "code",
   "execution_count": null,
   "id": "4cc8969b",
   "metadata": {
    "id": "4cc8969b",
    "outputId": "bd42b935-8823-48c8-839f-4d026e2d302f"
   },
   "outputs": [],
   "source": [
    "df.info()"
   ]
  },
  {
   "cell_type": "code",
   "execution_count": null,
   "id": "bc701f8e",
   "metadata": {
    "executionInfo": {
     "elapsed": 241,
     "status": "ok",
     "timestamp": 1698682357909,
     "user": {
      "displayName": "Carlos Alvarez",
      "userId": "16171288366908457354"
     },
     "user_tz": 300
    },
    "id": "bc701f8e"
   },
   "outputs": [],
   "source": [
    "df1=df.copy(deep = True)\n",
    "\n",
    "#for column in df1[['BloodPressure', 'SkinThickness', 'BMI']]: # corregir\n",
    "for column in df1[['BloodPressure', 'BMI']]:\n",
    "    df1[column] = df1[column].fillna(df1[column].mean())\n",
    "\n",
    "for column in df1[['Pregnancies','Glucose','DiabetesPedigreeFunction','Age']]:\n",
    "    df1[column] = df1[column].fillna(df1[column].mean())\n",
    "    #df1[column] = df1[column].fillna(df1[column].median()) #corregir"
   ]
  },
  {
   "cell_type": "markdown",
   "id": "97002287",
   "metadata": {
    "id": "97002287"
   },
   "source": [
    "Veamos el antes y el después de esta operación"
   ]
  },
  {
   "cell_type": "code",
   "execution_count": null,
   "id": "18dbc4b9",
   "metadata": {
    "colab": {
     "base_uri": "https://localhost:8080/"
    },
    "executionInfo": {
     "elapsed": 313,
     "status": "ok",
     "timestamp": 1698682362344,
     "user": {
      "displayName": "Carlos Alvarez",
      "userId": "16171288366908457354"
     },
     "user_tz": 300
    },
    "id": "18dbc4b9",
    "outputId": "74e6744d-f509-4749-d70e-0d749c39a57d"
   },
   "outputs": [],
   "source": [
    "df.info()"
   ]
  },
  {
   "cell_type": "code",
   "execution_count": null,
   "id": "15f17ac1",
   "metadata": {
    "colab": {
     "base_uri": "https://localhost:8080/"
    },
    "executionInfo": {
     "elapsed": 314,
     "status": "ok",
     "timestamp": 1698682372053,
     "user": {
      "displayName": "Carlos Alvarez",
      "userId": "16171288366908457354"
     },
     "user_tz": 300
    },
    "id": "15f17ac1",
    "outputId": "2f3a2935-64d7-49b9-b6e5-1abb30b53666"
   },
   "outputs": [],
   "source": [
    "df1.info()"
   ]
  },
  {
   "cell_type": "code",
   "execution_count": null,
   "id": "f23a4af1",
   "metadata": {
    "colab": {
     "base_uri": "https://localhost:8080/",
     "height": 320
    },
    "executionInfo": {
     "elapsed": 258,
     "status": "ok",
     "timestamp": 1698682443083,
     "user": {
      "displayName": "Carlos Alvarez",
      "userId": "16171288366908457354"
     },
     "user_tz": 300
    },
    "id": "f23a4af1",
    "outputId": "22f3f723-0540-421b-d186-26bc4e5891e9"
   },
   "outputs": [],
   "source": [
    "df.describe()"
   ]
  },
  {
   "cell_type": "code",
   "execution_count": null,
   "id": "ef375ad2",
   "metadata": {
    "colab": {
     "base_uri": "https://localhost:8080/",
     "height": 320
    },
    "executionInfo": {
     "elapsed": 262,
     "status": "ok",
     "timestamp": 1698682459582,
     "user": {
      "displayName": "Carlos Alvarez",
      "userId": "16171288366908457354"
     },
     "user_tz": 300
    },
    "id": "ef375ad2",
    "outputId": "393a4e25-af73-4e27-f3cc-9216d15c6d85"
   },
   "outputs": [],
   "source": [
    "df1.describe()"
   ]
  },
  {
   "cell_type": "markdown",
   "id": "a3e55ee5",
   "metadata": {
    "id": "a3e55ee5"
   },
   "source": [
    "Dado que el grosor de la piel y la insulina tienen un gran número de valores faltantes, por lo que utilizamos [`KNNImputer`](https://scikit-learn.org/stable/modules/generated/sklearn.impute.KNNImputer.html) para estas características, ya que el uso de media/mediana genera muchos valores atípicos en los datos."
   ]
  },
  {
   "cell_type": "code",
   "execution_count": null,
   "id": "70daf903",
   "metadata": {
    "executionInfo": {
     "elapsed": 215,
     "status": "ok",
     "timestamp": 1698682867627,
     "user": {
      "displayName": "Carlos Alvarez",
      "userId": "16171288366908457354"
     },
     "user_tz": 300
    },
    "id": "70daf903"
   },
   "outputs": [],
   "source": [
    "from sklearn.impute import KNNImputer\n",
    "imputer = KNNImputer(n_neighbors = 5, weights='distance', metric = 'nan_euclidean',)\n",
    "imputed_data = imputer.fit_transform(df1)\n",
    "df2 = pd.DataFrame(imputed_data)\n",
    "df2.columns = df1.columns"
   ]
  },
  {
   "cell_type": "markdown",
   "id": "3999b62a",
   "metadata": {
    "id": "3999b62a"
   },
   "source": [
    "Veamos cómo quedó el `df2`resultante"
   ]
  },
  {
   "cell_type": "code",
   "execution_count": null,
   "id": "1c4bdffb",
   "metadata": {
    "colab": {
     "base_uri": "https://localhost:8080/"
    },
    "executionInfo": {
     "elapsed": 250,
     "status": "ok",
     "timestamp": 1698682883100,
     "user": {
      "displayName": "Carlos Alvarez",
      "userId": "16171288366908457354"
     },
     "user_tz": 300
    },
    "id": "1c4bdffb",
    "outputId": "032495a6-ee65-4d96-91d2-54980a2261e7"
   },
   "outputs": [],
   "source": [
    "df2.info()"
   ]
  },
  {
   "cell_type": "markdown",
   "id": "b47ddc89",
   "metadata": {
    "id": "b47ddc89"
   },
   "source": [
    "ahora revisemos los estadísticos tanto del `df` original como el final, `df2`."
   ]
  },
  {
   "cell_type": "code",
   "execution_count": null,
   "id": "2b85dff3",
   "metadata": {
    "colab": {
     "base_uri": "https://localhost:8080/",
     "height": 320
    },
    "executionInfo": {
     "elapsed": 213,
     "status": "ok",
     "timestamp": 1698682935130,
     "user": {
      "displayName": "Carlos Alvarez",
      "userId": "16171288366908457354"
     },
     "user_tz": 300
    },
    "id": "2b85dff3",
    "outputId": "dc00bb13-cc3c-4b28-d89a-28b24415d7c0"
   },
   "outputs": [],
   "source": [
    "df.describe()"
   ]
  },
  {
   "cell_type": "code",
   "execution_count": null,
   "id": "97907bee",
   "metadata": {
    "colab": {
     "base_uri": "https://localhost:8080/",
     "height": 320
    },
    "executionInfo": {
     "elapsed": 208,
     "status": "ok",
     "timestamp": 1698682939890,
     "user": {
      "displayName": "Carlos Alvarez",
      "userId": "16171288366908457354"
     },
     "user_tz": 300
    },
    "id": "97907bee",
    "outputId": "5fcf25fa-fc21-40fc-d404-c5adc4e16134"
   },
   "outputs": [],
   "source": [
    "df2.describe()"
   ]
  },
  {
   "cell_type": "markdown",
   "id": "c5eefd21",
   "metadata": {
    "id": "c5eefd21"
   },
   "source": [
    "Realicemos diagramas de caja para comprobar si hay valores atípicos (después de completar los valores faltantes)"
   ]
  },
  {
   "cell_type": "code",
   "execution_count": null,
   "id": "09f9c246",
   "metadata": {
    "colab": {
     "base_uri": "https://localhost:8080/",
     "height": 403
    },
    "executionInfo": {
     "elapsed": 1495,
     "status": "ok",
     "timestamp": 1698682985399,
     "user": {
      "displayName": "Carlos Alvarez",
      "userId": "16171288366908457354"
     },
     "user_tz": 300
    },
    "id": "09f9c246",
    "outputId": "a459b435-a9a9-4596-fb11-8cc9589cafc5"
   },
   "outputs": [],
   "source": [
    "plt.figure(figsize = (15,8))\n",
    "for i,col in enumerate(set(df2.columns) - {'Outcome'}):\n",
    "    plt.subplot(2, 4, i+1)\n",
    "    sns.boxplot(data = df2,x = col)\n",
    "    plt.xlabel(col, fontsize = 15)\n",
    "    plt.xticks(fontsize = 10)"
   ]
  },
  {
   "cell_type": "markdown",
   "id": "a8e18997",
   "metadata": {
    "id": "a8e18997"
   },
   "source": [
    "La distribución de edades está muy sesgada, lo que significa que la mayoría de las mujeres eran jóvenes.\n",
    "\n",
    "Además, vemos valores atípicos para cada característica. Los valores atípicos son valores dentro de un conjunto de datos que varían mucho de los demás, es decir, son mucho más grandes o significativamente más pequeños. Tenemos que eliminar/reemplazar los valores atípicos para obtener una mayor precisión."
   ]
  },
  {
   "cell_type": "code",
   "execution_count": null,
   "id": "2071b28d",
   "metadata": {
    "colab": {
     "base_uri": "https://localhost:8080/",
     "height": 574
    },
    "executionInfo": {
     "elapsed": 241,
     "status": "ok",
     "timestamp": 1698683877135,
     "user": {
      "displayName": "Carlos Alvarez",
      "userId": "16171288366908457354"
     },
     "user_tz": 300
    },
    "id": "2071b28d",
    "outputId": "481e10e0-933b-48b1-d54d-4819fceb3f9d"
   },
   "outputs": [],
   "source": [
    "def detect_outliers(df2):\n",
    "    outliers = pd.DataFrame(columns=[\"Feature\", \"No.of Outliers\", \"Handled?\"])\n",
    "    for col in list(set(df2.select_dtypes(include=np.number).columns) - {'Outcome'}):\n",
    "        q1 = df2[col].quantile(0.25)\n",
    "        q3 = df2[col].quantile(0.75)\n",
    "        iqr = q3 - q1\n",
    "        low = q1 - (1.5 * iqr)\n",
    "        high = q3 + (1.5 * iqr)\n",
    "        n = df2.loc[(df2[col] < low) | (df2[col] > high)].shape[0]\n",
    "\n",
    "        df2.loc[(df2[col] < low), col] = low\n",
    "        df2.loc[(df2[col] > high), col] = high\n",
    "\n",
    "        #handled = df2[col].all() < high\n",
    "        handled = all(df2[col] < high)\n",
    "        outliers = pd.concat([outliers, pd.DataFrame({'Feature': [col], \"No.of Outliers\": [n], \"Handled?\": [handled]})])\n",
    "\n",
    "    outliers['Handled?'] = outliers['Handled?'].astype(bool)\n",
    "\n",
    "    return outliers\n",
    "\n",
    "detect_outliers(df2)\n"
   ]
  },
  {
   "cell_type": "markdown",
   "id": "a3d3a78c",
   "metadata": {
    "id": "a3d3a78c"
   },
   "source": [
    "Ahora, dado que se reemplaza cada valor atípico, se realizan diagramas de caja para cada característica después de tratar los valores atípicos."
   ]
  },
  {
   "cell_type": "code",
   "execution_count": null,
   "id": "b8758ea2",
   "metadata": {
    "colab": {
     "base_uri": "https://localhost:8080/",
     "height": 404
    },
    "executionInfo": {
     "elapsed": 1103,
     "status": "ok",
     "timestamp": 1698683989623,
     "user": {
      "displayName": "Carlos Alvarez",
      "userId": "16171288366908457354"
     },
     "user_tz": 300
    },
    "id": "b8758ea2",
    "outputId": "57233499-0685-40fe-8874-2cf70421ca59"
   },
   "outputs": [],
   "source": [
    "plt.figure(figsize = (15,8))\n",
    "for i,col in enumerate(set(df2.columns) - {'Outcome'}):\n",
    "    plt.subplot(2,4,i+1)\n",
    "    sns.boxplot(data = df2, x = col)\n",
    "    plt.xlabel(col, fontsize = 15)\n",
    "    plt.xticks(fontsize = 10)"
   ]
  },
  {
   "cell_type": "markdown",
   "id": "185cf21a",
   "metadata": {
    "id": "185cf21a"
   },
   "source": [
    "Por lo tanto, los datos ahora están libres de valores atípicos."
   ]
  },
  {
   "cell_type": "markdown",
   "id": "f0b0b682",
   "metadata": {
    "id": "f0b0b682"
   },
   "source": [
    "### Análisis bivariado"
   ]
  },
  {
   "cell_type": "markdown",
   "id": "77a94eef",
   "metadata": {
    "id": "77a94eef"
   },
   "source": [
    "El [análisis bivariado](https://en.wikipedia.org/wiki/Bivariate_analysis) es el estudio de la relación entre dos variables en un conjunto de datos. En otras palabras, implica analizar cómo dos variables diferentes están relacionadas o se comportan juntas. Esto se logra al examinar la asociación, correlación o dependencia entre estas dos variables y puede ayudarnos a comprender mejor cómo una variable afecta o se relaciona con la otra.\n",
    "\n",
    "El análisis bivariado es fundamental para explorar patrones, identificar tendencias y descubrir posibles relaciones en los datos. Puede involucrar la visualización de datos, como gráficos de dispersión o tablas de contingencia, así como la realización de pruebas estadísticas para determinar si existe una relación significativa entre las dos variables.\n",
    "\n",
    "Un gráfico de pares nos permite visualizar las relaciones entre dos variables así como ver la distribución de cada variable."
   ]
  },
  {
   "cell_type": "code",
   "execution_count": null,
   "id": "d45d7d4e",
   "metadata": {
    "id": "d45d7d4e",
    "outputId": "e95b37da-b56a-405b-a086-b0fe5bd3a87d"
   },
   "outputs": [],
   "source": [
    "sns.pairplot(data = df2, kind = 'scatter')"
   ]
  },
  {
   "cell_type": "markdown",
   "id": "f1779100",
   "metadata": {
    "id": "f1779100"
   },
   "source": [
    "De las gráficas observamos:\n",
    "\n",
    "- Existe una alta relación lineal entre el grosor de la piel y el IMC (también tuvieron la correlación más alta).\n",
    "<p>&nbsp;</p>\n",
    "\n",
    "- Los niveles de insulina y glucosa muestran una alta relación lineal (lo cual también quedó claro en la matriz de correlación)\n",
    "<p>&nbsp;</p>\n",
    "\n",
    "Ahora, para ver la relación entre dos variables con respecto a la tercera variable, `Outcome`, utilizamos el parámetro `hue`."
   ]
  },
  {
   "cell_type": "code",
   "execution_count": null,
   "id": "753be98d",
   "metadata": {
    "id": "753be98d",
    "outputId": "c685022e-09e6-4a27-e798-eb68b80e1b28"
   },
   "outputs": [],
   "source": [
    "sns.pairplot(data = df2, hue = 'Outcome')"
   ]
  },
  {
   "cell_type": "markdown",
   "id": "7ac03c36",
   "metadata": {
    "id": "7ac03c36"
   },
   "source": [
    "del diagrama de pares se observa:\n",
    "\n",
    "- Las mujeres diabéticas tienden a tener un valor más alto para cada característica, es decir, tienen más edad, son más obesas y tienen más números de embarazos, niveles altos de PA, glucosa e insulina.\n",
    "<p>&nbsp;</p>\n",
    "\n",
    "- Además, si vemos los gráficos de niveles de glucosa con otras características, vemos que los niveles más altos de glucosa son un factor clave para la diabetes, independientemente de los otros factores, es decir, si la mujer tiene niveles de glucosa más altos, es más probable que tenga diabetes."
   ]
  },
  {
   "cell_type": "markdown",
   "id": "347bea2e",
   "metadata": {
    "id": "347bea2e"
   },
   "source": [
    "Otra gráfica usada para este tipo de análisis es la llamada *joint plot*, y consta de tres gráficos en uno. El centro contiene la relación bivariada entre las variables $x$ e $y$. Los gráficos superior y derecho muestran la distribución univariada de las variables, respectivamente."
   ]
  },
  {
   "cell_type": "code",
   "execution_count": null,
   "id": "d8fb9fe2",
   "metadata": {
    "id": "d8fb9fe2",
    "outputId": "ba7a8c09-3eb2-427e-ba7e-28beb9b5eedc"
   },
   "outputs": [],
   "source": [
    "sns.jointplot(x = 'Glucose', y = 'Insulin', data = df2)"
   ]
  },
  {
   "cell_type": "markdown",
   "id": "f7a567c3",
   "metadata": {
    "id": "f7a567c3"
   },
   "source": [
    "Muestra la relación lineal entre la glucosa y la insulina, también sus distribuciones univariadas, ambas están sesgadas hacia la derecha.\n",
    "\n",
    "Ahora, hacemos el gráfico conjunto con respecto a la variable `Outcome` con la ayuda del parámetro `hue`."
   ]
  },
  {
   "cell_type": "code",
   "execution_count": null,
   "id": "ac5d1482",
   "metadata": {
    "id": "ac5d1482",
    "outputId": "583e6d05-d933-488d-a553-09105f5f7cd0"
   },
   "outputs": [],
   "source": [
    "sns.jointplot(x = 'BMI', y = 'SkinThickness', data = df2, hue = 'Outcome')"
   ]
  },
  {
   "cell_type": "markdown",
   "id": "807ee347",
   "metadata": {
    "id": "807ee347"
   },
   "source": [
    "Muestra la relación lineal entre el IMC y el grosor de la piel del tríceps.\n",
    "\n",
    "Es probable que las mujeres diabéticas sean más obesas y tengan un mayor grosor de la piel del tríceps, además de sus distribuciones univariadas, lo que muestra que ambas características tienen una distribución sesgada."
   ]
  },
  {
   "cell_type": "markdown",
   "id": "9d92edfb",
   "metadata": {
    "id": "9d92edfb"
   },
   "source": [
    "## Selección de características"
   ]
  },
  {
   "cell_type": "markdown",
   "id": "85897f5c",
   "metadata": {
    "id": "85897f5c"
   },
   "source": [
    "### Características más importantes"
   ]
  },
  {
   "cell_type": "markdown",
   "id": "e1e2ffb9",
   "metadata": {
    "id": "e1e2ffb9"
   },
   "source": [
    "Podemos comprobar la importancia de cada característica utilizando el algoritmo de [Extra Tree Regresor](https://en.wikipedia.org/wiki/Random_forest)."
   ]
  },
  {
   "cell_type": "code",
   "execution_count": null,
   "id": "704d97fa",
   "metadata": {
    "colab": {
     "base_uri": "https://localhost:8080/"
    },
    "executionInfo": {
     "elapsed": 206,
     "status": "ok",
     "timestamp": 1698684543777,
     "user": {
      "displayName": "Carlos Alvarez",
      "userId": "16171288366908457354"
     },
     "user_tz": 300
    },
    "id": "704d97fa",
    "outputId": "7c3ac80e-8c88-4ff0-8215-ba996dad1c7d"
   },
   "outputs": [],
   "source": [
    "from sklearn.ensemble import ExtraTreesRegressor\n",
    "\n",
    "# Crear el modelo\n",
    "model = ExtraTreesRegressor()\n",
    "\n",
    "# Supongamos que 'df2' contiene tus datos\n",
    "x = df2.drop(\"Outcome\", axis=1)\n",
    "y = df2[\"Outcome\"]\n",
    "\n",
    "# Ajustar el modelo a tus datos\n",
    "model.fit(x, y)\n",
    "\n",
    "# Imprimir las características de importancia\n",
    "print(model.feature_importances_)\n"
   ]
  },
  {
   "cell_type": "markdown",
   "id": "bee414c6",
   "metadata": {
    "id": "bee414c6"
   },
   "source": [
    "Los resultados obtenidos representan las características de importancia del modelo `ExtraTreesRegressor` para predecir la variable objetivo `Outcome`. Cada valor en la lista corresponde a una característica específica del conjunto de datos. Estos valores de importancia son numéricos y reflejan la contribución relativa de cada característica para hacer predicciones precisas.\n",
    "\n",
    "Presentamos algunas observaciones generales sobre los resultados:\n",
    "\n",
    "- ***Las características de importancia suman 1:*** La suma de todos los valores de importancia es igual a $1$, lo que significa que representan la proporción de la importancia total distribuida entre las características. Esto es útil para entender cuánto contribuye cada característica en relación con las demás.\n",
    "<p>&nbsp;</p>\n",
    "\n",
    "- ***Características más importantes:*** Las características con valores de importancia más altos son aquellas que tienen un mayor impacto en las predicciones del modelo. En este caso, las características con los valores más altos son la segunda característica (`Glucose`), la sexta característica (`BMI`), la quinta característica, `Insulin` y la octava característica (`Age`).\n",
    "\n",
    "Ahora, realicemos una visualización emplenado un diagrama de barras:"
   ]
  },
  {
   "cell_type": "code",
   "execution_count": null,
   "id": "08612045",
   "metadata": {
    "id": "08612045",
    "outputId": "59dbd36a-a9bc-436d-fb88-f4405261b850"
   },
   "outputs": [],
   "source": [
    "#visualizing by bar graph\n",
    "feature_imp = pd.DataFrame({'Value': model.feature_importances_, 'Feature': x.columns})\n",
    "plt.figure(figsize = (5, 5))\n",
    "sns.barplot(x = 'Value', y = 'Feature', data = feature_imp.sort_values(by = 'Value', ascending = False))\n",
    "plt.title('Features importances')\n",
    "plt.show()"
   ]
  },
  {
   "cell_type": "markdown",
   "id": "26281678",
   "metadata": {
    "id": "26281678"
   },
   "source": [
    "Se corrobora lo indicado en el anterior resultado."
   ]
  },
  {
   "cell_type": "markdown",
   "id": "a2c8a63f",
   "metadata": {
    "id": "a2c8a63f"
   },
   "source": [
    "### Análisis de Componentes Principales (PCA)"
   ]
  },
  {
   "cell_type": "markdown",
   "id": "e947fa20",
   "metadata": {
    "id": "e947fa20"
   },
   "source": [
    "El [Análisis de Componentes Principales](https://en.wikipedia.org/wiki/Principal_component_analysis) (*PCA*) es un método de reducción de dimensionalidad que convierte un conjunto de variables correlacionadas en un conjunto de variables no correlacionadas, llamadas componentes principales, al tiempo que reduce la dimensionalidad del conjunto de datos.\n",
    "\n",
    "Los *Componentes Principales* (*PC*) son [combinaciones lineales](https://en.wikipedia.org/wiki/Linear_combination) de las características originales del conjunto de datos que se crean de manera que capturen la máxima variabilidad en los datos. En el contexto del *Análisis de Componentes Principales* (*PCA*), los *PC* se ordenan en función de cuánta variabilidad explican.\n",
    "\n",
    "- ***PC1 (Primer Componente Principal):*** Representa la dirección en la cual los datos tienen la mayor variabilidad. Es la componente principal más importante y explica la mayor proporción de la variabilidad total en los datos. El *PC1* está compuesto por combinaciones de las características originales que tienen las mayores cargas. Las cargas indican la contribución de cada característica a *PC1*. Si una característica tiene una alta carga positiva en *PC1*, significa que esta característica está fuertemente asociada con *PC1*. Se puede interpretar a *PC1* como una combinación específica de características que influyen significativamente en la variabilidad de los datos.\n",
    "<p>&nbsp;</p>\n",
    "\n",
    "- ***PC2 (Segundo Componente Principal):*** Es la segunda componente principal más importante y explica la variabilidad adicional que no se captura en *PC1*. Aunque es menos importante que *PC1*, sigue siendo relevante. El *PC2* está compuesto por combinaciones de las características originales que tienen las segundas mayores cargas en términos de su influencia en la variabilidad de los datos. Se puede interpretar a *PC2* como una combinación específica de características que contribuyen a la variabilidad que no está capturada por *PC1*.\n",
    "\n",
    "Así sucesivamente.\n",
    "\n",
    "En cuanto a la interpretación de estos componentes en el contexto de los datos, podemos considerar lo siguiente:\n",
    "\n",
    "- ***PC1*** puede representar una combinación de características que tienen un impacto significativo en la diabetes o en la predicción de resultados.\n",
    "<p>&nbsp;</p>\n",
    "\n",
    "- ***PC2*** podría capturar patrones adicionales relacionados con la diabetes que no se explican completamente por *PC1*.\n",
    "<p>&nbsp;</p>\n",
    "\n",
    "- ***PC3*** y ***PC4*** pueden revelar patrones aún más sutiles o específicos en los datos.\n",
    "\n",
    "La elección de cuántos de estos componentes principales retener depende de los objetivos analíticos y de cuánta variabilidad se está dispuesto a sacrificar para reducir la dimensionalidad de los datos. Por lo general, se seleccionan suficientes componentes principales para retener una alta proporción de la variabilidad total, pero esto puede variar según el caso de uso específico."
   ]
  },
  {
   "cell_type": "code",
   "execution_count": null,
   "id": "a11827c7",
   "metadata": {
    "colab": {
     "base_uri": "https://localhost:8080/"
    },
    "executionInfo": {
     "elapsed": 190,
     "status": "ok",
     "timestamp": 1698685001317,
     "user": {
      "displayName": "Carlos Alvarez",
      "userId": "16171288366908457354"
     },
     "user_tz": 300
    },
    "id": "a11827c7",
    "outputId": "7fcd08d4-0f95-4133-f02c-c375c8be5d63"
   },
   "outputs": [],
   "source": [
    "#scaling is required before applying pca\n",
    "from sklearn.preprocessing import StandardScaler\n",
    "from sklearn.decomposition import PCA\n",
    "\n",
    "scaler = StandardScaler()\n",
    "scaled_data = scaler.fit_transform(x)\n",
    "scaled_data = pd.DataFrame(scaled_data)\n",
    "scaled_data\n",
    "pca = PCA(n_components = 4)\n",
    "principalComponents = pca.fit_transform(scaled_data)\n",
    "principalDf = pd.DataFrame(data = principalComponents, columns = ['PC1', 'PC2','PC3','PC4'])\n",
    "print('Explained variation per principal component: {}'.format(pca.explained_variance_ratio_))"
   ]
  },
  {
   "cell_type": "markdown",
   "id": "5f19475a",
   "metadata": {
    "id": "5f19475a"
   },
   "source": [
    "El resultado obtenido muestra la variación explicada por cada uno de los primeros cuatro componentes principales (*PC*) después de aplicar el *análisis de componentes principales* (*PCA*) a los datos escalados. Cada valor en la lista representa la proporción de variación total en los datos que es explicada por el correspondiente componente principal. Aquí hay un análisis de estos resultados:\n",
    "\n",
    "- El *PC1* explica el $32.52\\%$ de la variación total en los datos. Esto indica que el *PC1* captura una cantidad significativa de información de las características originales y es la componente principal más importante.\n",
    "<p>&nbsp;</p>\n",
    "\n",
    "- El *PC2* explica el $18.03\\%$ de la variación total. El *PC2* captura información adicional, pero en menor medida que *PC1*. Aunque es menos importante que *PC1*, aún es una contribución significativa.\n",
    "<p>&nbsp;</p>\n",
    "\n",
    "- El *PC3* explica el $14.60\\%$ de la variación total. El *PC3* agrega información adicional, pero con una contribución menor en comparación con *PC1* y *PC2*.\n",
    "<p>&nbsp;</p>\n",
    "\n",
    "- El *PC4* explica el $11.96\\%$ de la variación total. El *PC4* es la componente principal que explica la menor cantidad de variación, pero aún puede ser relevante dependiendo de los objetivos de reducción de dimensionalidad.\n",
    "\n",
    "Estos resultados  indican cuánta información se retiene al representar los datos en un espacio de menor dimensión utilizando *PCA*. En este caso, los primeros cuatro componentes principales explican aproximadamente el $77.11\\%$ ($32.52\\% + 18.03\\% + 14.60\\% + 11.96\\%$) de la variación total en los datos. Esta información es útil para tomar decisiones sobre cuántos componentes principales seleccionar para reducir la dimensionalidad de los datos mientras se conserva la mayor cantidad posible de información."
   ]
  },
  {
   "cell_type": "markdown",
   "id": "0b9ace31",
   "metadata": {
    "id": "0b9ace31"
   },
   "source": [
    "## Clasificación"
   ]
  },
  {
   "cell_type": "markdown",
   "id": "24eafd3b",
   "metadata": {
    "id": "24eafd3b"
   },
   "source": [
    "Una vez seleccionadas las características principales, vamos a aplicar el modelo a los datos."
   ]
  },
  {
   "cell_type": "markdown",
   "id": "a1376d74",
   "metadata": {
    "id": "a1376d74"
   },
   "source": [
    "### División Train - Test"
   ]
  },
  {
   "cell_type": "markdown",
   "id": "078811e7",
   "metadata": {
    "id": "078811e7"
   },
   "source": [
    "Para modelar, primero tenemos que dividir nuestros datos en conjuntos de datos de entrenamiento y prueba, para ello, se empleará la función [`train_test_split`](https://scikit-learn.org/stable/modules/generated/sklearn.model_selection.train_test_split.html) del módulo `scikit-learn`. Se indica que el $20\\%$ de los datos se reservarán para el conjunto de prueba (`test`), mientras que el $80\\%$ se utilizará para el conjunto de entrenamiento (`train`). `random_state=0` establece una semilla aleatoria para garantizar que la división sea reproducible."
   ]
  },
  {
   "cell_type": "code",
   "execution_count": null,
   "id": "9164cd16",
   "metadata": {
    "executionInfo": {
     "elapsed": 206,
     "status": "ok",
     "timestamp": 1698685096005,
     "user": {
      "displayName": "Carlos Alvarez",
      "userId": "16171288366908457354"
     },
     "user_tz": 300
    },
    "id": "9164cd16"
   },
   "outputs": [],
   "source": [
    "from sklearn.model_selection import train_test_split\n",
    "x_train, x_test, y_train, y_test = train_test_split(x, y, test_size=0.2, random_state=0)"
   ]
  },
  {
   "cell_type": "markdown",
   "id": "d27868f8",
   "metadata": {
    "id": "d27868f8"
   },
   "source": [
    "### Búsqueda"
   ]
  },
  {
   "cell_type": "markdown",
   "id": "0ff05190",
   "metadata": {
    "id": "0ff05190"
   },
   "source": [
    "Se empleará el concepto de [Búsqueda de Cuadrícula con Validación Cruzada](https://en.wikipedia.org/wiki/Hyperparameter_optimization) ([`GridSearchCV`](https://scikit-learn.org/stable/modules/generated/sklearn.model_selection.GridSearchCV.html)) para la sintonización de hiperparámetros en el aprendizaje automático. Grid Search CV es una técnica utilizada para encontrar la mejor combinación de hiperparámetros para un modelo de aprendizaje automático al buscar sistemáticamente a través de un conjunto predefinido de hiperparámetros y evaluar el rendimiento del modelo mediante validación cruzada.\n",
    "\n",
    "A continuación se importan diferentes tipos de algoritmos de aprendizaje automático para problemas de clasificación. Dependiendo del conjunto de datos y del problema que se esté abordando, se pueden probar diferentes modelos y técnicas para encontrar el que mejor se adapte a las necesidades."
   ]
  },
  {
   "cell_type": "code",
   "execution_count": null,
   "id": "c6409255",
   "metadata": {
    "executionInfo": {
     "elapsed": 282,
     "status": "ok",
     "timestamp": 1698685102825,
     "user": {
      "displayName": "Carlos Alvarez",
      "userId": "16171288366908457354"
     },
     "user_tz": 300
    },
    "id": "c6409255"
   },
   "outputs": [],
   "source": [
    "from sklearn.model_selection import GridSearchCV\n",
    "from sklearn.tree import DecisionTreeClassifier\n",
    "from sklearn.ensemble import RandomForestClassifier\n",
    "from sklearn.linear_model import LogisticRegression\n",
    "from sklearn.svm import SVC\n",
    "from sklearn.ensemble import GradientBoostingClassifier"
   ]
  },
  {
   "cell_type": "code",
   "execution_count": null,
   "id": "6d87fae9",
   "metadata": {
    "executionInfo": {
     "elapsed": 42293,
     "status": "ok",
     "timestamp": 1698685152298,
     "user": {
      "displayName": "Carlos Alvarez",
      "userId": "16171288366908457354"
     },
     "user_tz": 300
    },
    "id": "6d87fae9"
   },
   "outputs": [],
   "source": [
    "model_params={\n",
    "    \"decision_tree\":{\n",
    "        'model':DecisionTreeClassifier(random_state=0),\n",
    "        'params':{\n",
    "              'max_features': ['sqrt', 'log2'],\n",
    "              'max_depth':[3,4,5,6],\n",
    "              'criterion':['gini', 'entropy', 'log_loss']\n",
    "        }\n",
    "    },\n",
    "     \"random_forest\":{\n",
    "        'model': RandomForestClassifier(),\n",
    "        'params':{\n",
    "            'n_estimators': [10,50,100],\n",
    "            'max_features': ['sqrt', 'log2'],\n",
    "            'max_depth':[3,4,5,6],\n",
    "            'criterion':['gini', 'entropy', 'log_loss']\n",
    "        }\n",
    "    }\n",
    "}\n",
    "\n",
    "scores_scaled = []\n",
    "for mn,mp in model_params.items():\n",
    "    clf = GridSearchCV(mp['model'], mp['params'], cv = 5, return_train_score = False)\n",
    "    clf.fit(x_train,y_train)\n",
    "    scores_scaled.append({'model':mn, 'best score':clf.best_score_,'best params': clf.best_params_})\n",
    "\n",
    "df3 = pd.DataFrame(scores_scaled, columns = ['model','best score','best params'])\n",
    "df3.sort_values(by=['best score'], ascending=False)\n",
    "pd.set_option('display.max_colwidth', None)"
   ]
  },
  {
   "cell_type": "markdown",
   "id": "99c2e363",
   "metadata": {
    "id": "99c2e363"
   },
   "source": [
    "Veamos los resultados alcanzados"
   ]
  },
  {
   "cell_type": "code",
   "execution_count": null,
   "id": "c6d512ea",
   "metadata": {
    "colab": {
     "base_uri": "https://localhost:8080/",
     "height": 147
    },
    "executionInfo": {
     "elapsed": 212,
     "status": "ok",
     "timestamp": 1698685183105,
     "user": {
      "displayName": "Carlos Alvarez",
      "userId": "16171288366908457354"
     },
     "user_tz": 300
    },
    "id": "c6d512ea",
    "outputId": "6a35686f-40c5-40cd-eea8-6b04bc7cba0a"
   },
   "outputs": [],
   "source": [
    "df3"
   ]
  },
  {
   "cell_type": "markdown",
   "id": "5ca2c3ce",
   "metadata": {
    "id": "5ca2c3ce"
   },
   "source": [
    "De estos, el modelo `random_forest` ofrece la mayor precisión, con un $76.4\\%$.\n",
    "\n",
    "Ahora verificamos la precisión de otros modelos, que deben aplicarse a los datos escalados. Para esto, primero divida los datos escalados en particiones de entrenamiento y prueba."
   ]
  },
  {
   "cell_type": "code",
   "execution_count": null,
   "id": "73f4a164",
   "metadata": {
    "executionInfo": {
     "elapsed": 435,
     "status": "ok",
     "timestamp": 1698685273965,
     "user": {
      "displayName": "Carlos Alvarez",
      "userId": "16171288366908457354"
     },
     "user_tz": 300
    },
    "id": "73f4a164"
   },
   "outputs": [],
   "source": [
    "# Splitting the dataset into the Training set and Test set for scaled data\n",
    "from sklearn.model_selection import train_test_split\n",
    "x_train1, x_test1, y_train1, y_test1 = train_test_split(scaled_data, y, test_size = 0.2, random_state=0)"
   ]
  },
  {
   "cell_type": "markdown",
   "id": "bea0b9b5",
   "metadata": {
    "id": "bea0b9b5"
   },
   "source": [
    "Se aplicarán tres modelos de aprendizaje automático: *Support Vector Machine* (*SVM*), *Regresión Logística* y *Gradient Boosting*, y se utilizarán datos escalados para mejorar la precisión de los modelos. Es decir, antes de entrenar y evaluar estos modelos, los datos se someterán a un proceso de escalado, como se hizo previamente con los otros modelos.\n",
    "\n",
    "El proceso de escalado asegura que todas las variables tengan una influencia equitativa en los modelos, lo que puede llevar a una mejor precisión en las predicciones. Los modelos de *SVM* y *Regresión Logística*, en particular, pueden verse afectados por la magnitud de las variables, por lo que es común escalar los datos antes de usarlos con estos algoritmos. El modelo de *aumento de gradiente* (*Gradient Boosting*) también puede beneficiarse de datos escalados para un mejor rendimiento.\n",
    "\n",
    "Esta es una práctica recomendada en el aprendizaje automático al utilizar datos escalados para estos modelos, lo que debería resultar en una mayor precisión en las predicciones."
   ]
  },
  {
   "cell_type": "code",
   "execution_count": null,
   "id": "752dd307",
   "metadata": {
    "colab": {
     "base_uri": "https://localhost:8080/",
     "height": 1000
    },
    "executionInfo": {
     "elapsed": 82492,
     "status": "ok",
     "timestamp": 1698685359935,
     "user": {
      "displayName": "Carlos Alvarez",
      "userId": "16171288366908457354"
     },
     "user_tz": 300
    },
    "id": "752dd307",
    "outputId": "180a3d9a-f077-4ff9-d225-b74dda8fc89d"
   },
   "outputs": [],
   "source": [
    "model_params2={\n",
    " \"svm\":{\n",
    " 'model': SVC(random_state=0),\n",
    " 'params':{\n",
    " 'C': [0.1, 1, 10, 100, 1000],\n",
    " 'gamma': [1, 0.1, 0.01, 0.001, 0.0001],\n",
    " 'kernel': ['rbf','linear']\n",
    " }\n",
    " },\n",
    " 'logistic_regression':{\n",
    " 'model': LogisticRegression(),\n",
    " 'params':{'penalty':[ 'l2', 'elasticnet'],\n",
    " 'solver':['newton-cg', 'lbfgs', 'liblinear', 'sag', 'saga'],\n",
    " 'C': [1,5,10]\n",
    " }\n",
    " },\n",
    "\"gradient_boosting\":{\n",
    " 'model': GradientBoostingClassifier(),\n",
    " 'params':{\n",
    " 'max_depth':[3,4,5],\n",
    " 'n_estimators':[5,10,50,100],\n",
    " 'criterion':['friedman_mse', 'squared_error', 'mse']\n",
    " }\n",
    "\n",
    " }\n",
    "}\n",
    "scores_scaled2 = []\n",
    "\n",
    "for mn,mp in model_params2.items():\n",
    "    clf2 = GridSearchCV(mp['model'], mp['params'], cv = 5, return_train_score = False)\n",
    "    clf2.fit(x_train1,y_train1)\n",
    "    scores_scaled2.append({'model':mn, 'best score':clf2.best_score_, 'best params': clf2.best_params_})\n",
    "\n",
    "df4 = pd.DataFrame(scores_scaled2, columns = ['model','best score','best params'])\n",
    "df4.sort_values(by = ['best score'], ascending = False)"
   ]
  },
  {
   "cell_type": "code",
   "execution_count": null,
   "id": "56cdf002",
   "metadata": {
    "colab": {
     "base_uri": "https://localhost:8080/",
     "height": 178
    },
    "executionInfo": {
     "elapsed": 249,
     "status": "ok",
     "timestamp": 1698685695598,
     "user": {
      "displayName": "Carlos Alvarez",
      "userId": "16171288366908457354"
     },
     "user_tz": 300
    },
    "id": "56cdf002",
    "outputId": "45b13bca-2d79-44b6-8a59-990bf2df36ba",
    "scrolled": true
   },
   "outputs": [],
   "source": [
    "df4"
   ]
  },
  {
   "cell_type": "markdown",
   "id": "73ceed84",
   "metadata": {
    "id": "73ceed84"
   },
   "source": [
    "### Entrenamiento"
   ]
  },
  {
   "cell_type": "markdown",
   "id": "bf3d638e",
   "metadata": {
    "id": "bf3d638e"
   },
   "source": [
    "Dado que el bosque aleatorio obtuvo la mayor precisión en los datos de entrenamiento ($76,4\\%$) de los 5 algoritmos, elegiremos el modelo `Random Forest` para nuestros datos."
   ]
  },
  {
   "cell_type": "code",
   "execution_count": null,
   "id": "bba81b88",
   "metadata": {
    "colab": {
     "base_uri": "https://localhost:8080/"
    },
    "executionInfo": {
     "elapsed": 348,
     "status": "ok",
     "timestamp": 1698685405038,
     "user": {
      "displayName": "Carlos Alvarez",
      "userId": "16171288366908457354"
     },
     "user_tz": 300
    },
    "id": "bba81b88",
    "outputId": "6a08c487-3d78-4001-d7bb-a7a5b5746fdc"
   },
   "outputs": [],
   "source": [
    "from sklearn.metrics import accuracy_score\n",
    "\n",
    "model_final = RandomForestClassifier(criterion ='gini', max_depth = 4, max_features = 'log2', n_estimators = 100)\n",
    "model_final.fit(x_train, y_train)\n",
    "y_pred1 = model_final.predict(x_test)\n",
    "print('Accuracy of model for testing data is ',accuracy_score(y_test,y_pred1))"
   ]
  },
  {
   "cell_type": "markdown",
   "id": "b73c4f6d",
   "metadata": {
    "id": "b73c4f6d"
   },
   "source": [
    "¡Eso suena muy bien! Una precisión del $77,92\\%$ en los datos de prueba indica que el modelo de clasificación *Random Forest* que se ha entrenado es capaz de predecir correctamente la etiqueta de clase en aproximadamente el $77,92\\%$ de las muestras de prueba. En otras palabras, el modelo es bastante efectivo en la clasificación de los datos de prueba."
   ]
  },
  {
   "cell_type": "markdown",
   "id": "bdd336ae",
   "metadata": {
    "id": "bdd336ae"
   },
   "source": [
    "### Rendimiento"
   ]
  },
  {
   "cell_type": "markdown",
   "id": "c9ed0ccb",
   "metadata": {
    "id": "c9ed0ccb"
   },
   "source": [
    "Sin embargo, hay qué recordar que la precisión no es la única métrica importante a considerar al evaluar un modelo de clasificación. Dependiendo de la aplicación y de la distribución de clases en los datos, puede ser útil examinar otras métricas como la *recall*, la *precisión*, la *F1-score*, la *matriz de confusión*, etc., para obtener una imagen más completa del rendimiento del modelo.\n",
    "\n",
    "Vamos a emplear la matriz de confusión y el mapa de calor para visualizarla:"
   ]
  },
  {
   "cell_type": "code",
   "execution_count": null,
   "id": "6afb03ef",
   "metadata": {
    "id": "6afb03ef",
    "outputId": "f0dd8019-847d-4504-f258-854bf1082512"
   },
   "outputs": [],
   "source": [
    "from sklearn.metrics import confusion_matrix\n",
    "\n",
    "sns.heatmap(pd.DataFrame(confusion_matrix(y_test,y_pred1)), annot = True)\n",
    "plt.show()"
   ]
  },
  {
   "cell_type": "markdown",
   "id": "5e0b519d",
   "metadata": {
    "id": "5e0b519d"
   },
   "source": [
    "La matriz de confusión muestra cómo se clasificaron las muestras en el conjunto de prueba.\n",
    "\n",
    "- ***Verdaderos positivos (TP):*** Son los casos en los que el modelo predijo correctamente la clase positiva (en este caso, diabetes): $25$\n",
    "<p>&nbsp;</p>\n",
    "\n",
    "- ***Verdaderos negativos (TN):*** Son los casos en los que el modelo predijo correctamente la clase negativa (en este caso, no diabetes): $95$\n",
    "<p>&nbsp;</p>\n",
    "\n",
    "- ***Falsos positivos (FP):*** Son los casos en los que el modelo predijo incorrectamente la clase positiva cuando en realidad era negativa. Es decir, el modelo hizo una predicción de diabetes cuando no había diabetes: $12$\n",
    "<p>&nbsp;</p>\n",
    "\n",
    "- ***Falsos negativos (FN):*** Son los casos en los que el modelo predijo incorrectamente la clase negativa cuando en realidad era positiva. Es decir, el modelo hizo una predicción de no diabetes cuando había diabetes: 22\n",
    "\n",
    "Estos valores son esenciales para calcular métricas de evaluación como *precisión*, *exhaustividad* y *F1-score*. Estas métricas  dan una idea del rendimiento general del modelo en la clasificación de casos positivos y negativos."
   ]
  },
  {
   "cell_type": "markdown",
   "id": "48f7935d",
   "metadata": {
    "id": "48f7935d"
   },
   "source": [
    "### Validación"
   ]
  },
  {
   "cell_type": "markdown",
   "id": "d9382bd8",
   "metadata": {
    "id": "d9382bd8"
   },
   "source": [
    "Por último, realicemos una validación cruzada para encontrar la precisión media. En particular, se calculará la puntuación de validación cruzada para el modelo final utilizando 5 divisiones (folds) diferentes del conjunto de datos. La precisión promedio dará una idea de qué tan bien se desempeña el modelo en datos no vistos y puede ser una métrica útil para evaluar su rendimiento.\n",
    "\n",
    "Los \"5 folds\" en la validación cruzada se refieren a una técnica en la que se divide el conjunto de datos en 5 partes aproximadamente iguales o \"folds\". El propósito principal de esta técnica es evaluar el rendimiento de un modelo de manera más robusta y precisa, especialmente cuando se dispone de un conjunto de datos limitado.\n",
    "\n",
    "El proceso de validación cruzada de 5 folds se realiza de la siguiente manera:\n",
    "\n",
    "1. El conjunto de datos se divide en 5 partes (folds) de aproximadamente igual tamaño.\n",
    "<p>&nbsp;</p>\n",
    "\n",
    "2. El modelo se entrena y se evalúa 5 veces, cada vez utilizando una combinación diferente de 4 de los 5 folds como datos de entrenamiento y el fold restante como datos de prueba.\n",
    "<p>&nbsp;</p>\n",
    "\n",
    "3. Se calcula una métrica de evaluación (como la precisión) para cada una de las 5 iteraciones.\n",
    "<p>&nbsp;</p>\n",
    "\n",
    "4. Finalmente, se calcula la puntuación promedio y posiblemente otras estadísticas (como la desviación estándar) de las métricas obtenidas en las 5 iteraciones.\n",
    "\n",
    "Esta técnica permite obtener una estimación más robusta del rendimiento del modelo, ya que evalúa el modelo en diferentes subconjuntos de datos. Ayuda a detectar si el modelo está sobreajustado (overfitting) o subajustado (underfitting) y proporciona una idea más precisa de cómo podría funcionar en datos no vistos.\n",
    "\n",
    "En resumen, los \"5 folds\" en la validación cruzada son 5 divisiones del conjunto de datos que se utilizan para entrenar y evaluar repetidamente un modelo, lo que ayuda a obtener una evaluación más confiable del rendimiento del modelo."
   ]
  },
  {
   "cell_type": "code",
   "execution_count": null,
   "id": "189fd8d1",
   "metadata": {
    "id": "189fd8d1",
    "outputId": "3fb56cfd-146b-4b43-9dd8-78182a802a8d"
   },
   "outputs": [],
   "source": [
    "from sklearn.model_selection import cross_val_score\n",
    "\n",
    "score = cross_val_score(model_final, x, y, cv = 5)\n",
    "accuracy_rate = []\n",
    "accuracy_rate.append(score.mean())\n",
    "print('Average accuracy of the final model is ',accuracy_rate)"
   ]
  },
  {
   "cell_type": "markdown",
   "id": "d4e0e247",
   "metadata": {
    "id": "d4e0e247"
   },
   "source": [
    "# Conclusiones"
   ]
  },
  {
   "cell_type": "markdown",
   "id": "8139a621",
   "metadata": {
    "id": "8139a621"
   },
   "source": [
    "La conclusión del proceso para los datos de Diabetes en indios Pima podría ser la siguiente:\n",
    "\n",
    "- Hemos realizado un análisis exhaustivo de los datos de Diabetes en indios Pima, que incluyó la exploración de datos, la limpieza de datos, la visualización de datos y la construcción de un modelo de clasificación utilizando el algoritmo de Bosque Aleatorio (Random Forest).\n",
    "<p>&nbsp;</p>\n",
    "\n",
    "- Después de aplicar la validación cruzada de 5 folds a nuestro modelo de Bosque Aleatorio, obtuvimos una precisión promedio del $75\\%$. Esto indica que nuestro modelo tiene un rendimiento razonable al predecir la presencia o ausencia de diabetes en función de las características de los pacientes.\n",
    "<p>&nbsp;</p>\n",
    "\n",
    "- Sin embargo, es importante destacar que la precisión del modelo no es la única métrica a considerar. Para un problema de clasificación de diabetes, también es crucial evaluar la sensibilidad (la capacidad del modelo para detectar casos positivos de diabetes) y la especificidad (la capacidad del modelo para detectar casos negativos de diabetes) en función de los objetivos clínicos y las implicaciones de salud.\n",
    "\n",
    "En resumen, hemos construido un modelo de clasificación de diabetes que muestra un rendimiento decente en términos de precisión promedio. Este modelo puede ser útil como una herramienta de apoyo para la detección temprana de diabetes en pacientes indios Pima, pero es importante considerar otras métricas y realizar una evaluación más completa antes de su implementación clínica."
   ]
  },
  {
   "cell_type": "code",
   "execution_count": null,
   "id": "2bd293d7",
   "metadata": {
    "executionInfo": {
     "elapsed": 294,
     "status": "ok",
     "timestamp": 1698685840735,
     "user": {
      "displayName": "Carlos Alvarez",
      "userId": "16171288366908457354"
     },
     "user_tz": 300
    },
    "id": "2bd293d7"
   },
   "outputs": [],
   "source": [
    "df2.to_csv(\"/content/drive/Othercomputers/Mi PC/Drive/GitHub/Curso_AnaliticaDatos_TomaDecisiones/Data/diabetesfinal.csv\", index=False)"
   ]
  }
 ],
 "metadata": {
  "colab": {
   "provenance": []
  },
  "kernelspec": {
   "display_name": "Python 3 (ipykernel)",
   "language": "python",
   "name": "python3"
  },
  "language_info": {
   "codemirror_mode": {
    "name": "ipython",
    "version": 3
   },
   "file_extension": ".py",
   "mimetype": "text/x-python",
   "name": "python",
   "nbconvert_exporter": "python",
   "pygments_lexer": "ipython3",
   "version": "3.11.3"
  },
  "toc": {
   "base_numbering": 1,
   "nav_menu": {},
   "number_sections": true,
   "sideBar": true,
   "skip_h1_title": true,
   "title_cell": "Table of Contents",
   "title_sidebar": "Contents",
   "toc_cell": false,
   "toc_position": {
    "height": "calc(100% - 180px)",
    "left": "10px",
    "top": "150px",
    "width": "165px"
   },
   "toc_section_display": true,
   "toc_window_display": false
  }
 },
 "nbformat": 4,
 "nbformat_minor": 5
}
