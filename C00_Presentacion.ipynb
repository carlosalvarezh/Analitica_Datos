{
 "cells": [
  {
   "cell_type": "markdown",
   "id": "339d7266",
   "metadata": {},
   "source": [
    "<h1 align=\"center\">Analítica de datos para la toma de decisiones basadas en información</h1>\n",
    "<h1 align=\"center\">Presentación del curso</h1>\n",
    "<h1 align=\"center\">2023</h1>\n",
    "<h1 align=\"center\">MEDELLÍN - COLOMBIA </h1>"
   ]
  },
  {
   "cell_type": "markdown",
   "id": "663ca753",
   "metadata": {},
   "source": [
    "*** \n",
    "|[![Gmail](https://img.shields.io/badge/Gmail-D14836?style=plastic&logo=gmail&logoColor=white)](mailto:carlosalvarezh@gmail.com)|<carlosalvarezh@gmail.com>|[![Open In Colab](https://colab.research.google.com/assets/colab-badge.svg)](https://colab.research.google.com/github/carlosalvarezh/Curso_CEC_EAFIT/blob/main/C00_Presentacion.ipynb)\n",
    "|-:|:-|--:|\n",
    "|[![LinkedIn](https://img.shields.io/badge/linkedin-%230077B5.svg?style=plastic&logo=linkedin&logoColor=white)](https://www.linkedin.com/in/carlosalvarez5/)|[![@alvarezhenao](https://img.shields.io/twitter/url/https/twitter.com/alvarezhenao.svg?style=social&label=Follow%20%40alvarezhenao)](https://twitter.com/alvarezhenao)|[![@carlosalvarezh](https://img.shields.io/badge/github-%23121011.svg?style=plastic&logo=github&logoColor=white)](https://github.com/carlosalvarezh)|\n",
    "\n",
    "<table>\n",
    " <tr align=left><td><img align=left src=\"https://github.com/carlosalvarezh/Curso_CEC_EAFIT/blob/main/images/CCLogoColorPop1.gif?raw=true\" width=\"25\">\n",
    " <td>Text provided under a Creative Commons Attribution license, CC-BY. All code is made available under the FSF-approved MIT license.(c) Carlos Alberto Alvarez Henao</td>\n",
    "</table>\n",
    "\n",
    "***"
   ]
  },
  {
   "cell_type": "markdown",
   "id": "4204594d",
   "metadata": {},
   "source": [
    "## Objetivo de formación"
   ]
  },
  {
   "cell_type": "markdown",
   "id": "3078fb81",
   "metadata": {},
   "source": [
    "Fortalecer e implementar el razonamiento estadístico en la gestión y análisis de datos a través del uso de Python."
   ]
  },
  {
   "cell_type": "markdown",
   "id": "0d14bf31",
   "metadata": {},
   "source": [
    "## Intensidad"
   ]
  },
  {
   "cell_type": "markdown",
   "id": "67451c8d",
   "metadata": {},
   "source": [
    "40 horas"
   ]
  },
  {
   "cell_type": "markdown",
   "id": "f321d361",
   "metadata": {},
   "source": [
    "## Modalidad"
   ]
  },
  {
   "cell_type": "markdown",
   "id": "37c8f9ed",
   "metadata": {},
   "source": [
    "Esta formación se desarrollará siguiendo la modalidad [E-Learning](https://cognosonline.com/co/blog/que-es-e-learning/), con clases magistrales por parte del tutor con actividades a ser desarrolladas por los asistentes de forma autónoma e independiente."
   ]
  },
  {
   "cell_type": "markdown",
   "id": "fe20a92e",
   "metadata": {},
   "source": [
    "## Contenido"
   ]
  },
  {
   "cell_type": "markdown",
   "id": "8ee3dd5d",
   "metadata": {},
   "source": [
    "### Módulo 1: Estadística univariante"
   ]
  },
  {
   "cell_type": "markdown",
   "id": "c25f3c13",
   "metadata": {},
   "source": [
    "- [Introducción a conceptos básicos de estadística univariante](https://colab.research.google.com/github/carlosalvarezh/Curso_CEC_EAFIT/blob/main/C01_Estadistica_Univariante.ipynb)\n",
    "<p>&nbsp;</p>\n",
    "- Descripción gráfica, visual y tabular de los datos\n",
    "<p>&nbsp;</p>\n",
    "\n",
    "- Indicadores de centralidad, dispersión y forma y su interpretación\n",
    "<p>&nbsp;</p>\n",
    "\n",
    "- [Análisis de normalidad](https://colab.research.google.com/github/carlosalvarezh/Curso_CEC_EAFIT/blob/main/C02_Analisis_Normalidad.ipynb) y de otros modelos explicativos de la incertidumbre detrás de los datos (Modelos Probabilísticos)\n",
    "<p>&nbsp;</p>\n",
    "\n",
    "\n",
    "- Estimación puntal de indicadores (parámetros) y su margen de error (intervalos de confianza)\n",
    "<p>&nbsp;</p>\n",
    "\n",
    "- Validación estadística de conjeturas empresariales (Pruebas de hipótesis paramétricas)\n",
    "<p>&nbsp;</p>\n",
    "\n",
    "- Validaciones estadísticas de conjeturas empresariales en presencia de menos información (Pruebas de hipótesis no paramétricas)\n"
   ]
  },
  {
   "cell_type": "markdown",
   "id": "edb3630e",
   "metadata": {},
   "source": [
    "### Módulo 2: Modelos de predicción y pronóstico"
   ]
  },
  {
   "cell_type": "markdown",
   "id": "64dada67",
   "metadata": {},
   "source": [
    "- Visualización de datos y variables con información compartida (Diagrama de dispersión)\n",
    "- Técnicas estadísticas para la medición de información compartida e indicadores de dependencia (Correlaciones)\n",
    "- Explicación de una variable en términos de otras (Modelo de regresión lineal)\n",
    "- Métodos estadísticos de selección de variables importantes e identificación de información redundante. (validación y significancia)\n",
    "- Modelos generales para pronósticos a corto plazo\n",
    "- Identificación de datos raros (outliers) y métodos explicativos en presencia de datos raros no identificados (Regresión robusta)\n"
   ]
  },
  {
   "cell_type": "markdown",
   "id": "0324f6f5",
   "metadata": {},
   "source": [
    "### Módulo 3: Estadística multivariante"
   ]
  },
  {
   "cell_type": "markdown",
   "id": "80eda3e8",
   "metadata": {},
   "source": [
    "- Visualización de datos multivariantes\n",
    "- Indicadores de centralidad, dispersión y forma\n",
    "- Similaridad de individuos y registros (Distancia estadística)\n",
    "- Técnicas de identificación de registros raros (detección de outliers multivariantes)\n",
    "- Reducción de dimensión y construcción de indicadores (Componentes principales)\n",
    "- Agrupamiento de registros y segmentación (Clustering)\n",
    "- Clasificación supervisada de registros"
   ]
  },
  {
   "cell_type": "markdown",
   "id": "11fe099c",
   "metadata": {},
   "source": [
    "## Sesiones clase a clase"
   ]
  },
  {
   "cell_type": "markdown",
   "id": "b43c5c8c",
   "metadata": {},
   "source": [
    "| Sesión  |                 Módulo                |Horas|\n",
    "|:-------:|:-------------------------------------|:---:|\n",
    "|  1      | Ecosistema Python: Crash course (Mi/01/11)                                            |  4  |\n",
    "|  2      | ***Taller de repaso: ecosistema Python (asincrónico)*** (Ju/02/11)                    |  4  |\n",
    "|  3      | Estadística Univariante (Vi/03/11)                                                    |  4  |\n",
    "|  4      | Análisis de Normalidad (Ma/07/11)                                                     |  4  |\n",
    "|  5      | Modelos de Predicción y Pronóstico (Mi/08/11)                                         |  4  |\n",
    "|  6      | ***Taller de repaso: Estadística Univariante y Modelos de predicción (asincrónico)*** (Ju/09/11) |  4  |\n",
    "|  7      | Series de tiempo y detección de Outliers (Vi/10/11)                                   |  4  |\n",
    "|  8      | Estadística multivariante I (Ma/14/11)                                                |  4  |\n",
    "|  9      | Estadística multivariante II (Mi/15/11)                                               |  4  |\n",
    "| 10      | ***Taller de repaso: General*** (Ju/16/11)                                            |  4  |\n",
    "|         | ***Total horas***                                                                     |***40***|"
   ]
  },
  {
   "cell_type": "markdown",
   "id": "86ceaf90",
   "metadata": {},
   "source": [
    "## Recursos adicionales"
   ]
  },
  {
   "cell_type": "markdown",
   "id": "d5331417",
   "metadata": {},
   "source": [
    "Como complemento al curso, se han desarrollado una serie de documentos (notebooks) tipo cursos rápidos (crash-courses) que le permitirán al estudiante adquirir las habilidades necesarias y suficientes para abordar los temas del curso. Se invita a los estudiantes a que revisen esta documentación:\n",
    "\n",
    "- [CrashCourse01_Python.ipynb](https://colab.research.google.com/github/carlosalvarezh/Curso_CEC_EAFIT/blob/main/CrashCourse01_Python.ipynb)\n",
    "<p>&nbsp;</p>\n",
    "\n",
    "- [CrashCourse02_Numpy.ipynb](https://colab.research.google.com/github/carlosalvarezh/Curso_CEC_EAFIT/blob/main/CrashCourse02_Numpy.ipynb)\n",
    "<p>&nbsp;</p>\n",
    "\n",
    "- [CrashCourse03_Matplotlib.ipynb](https://colab.research.google.com/github/carlosalvarezh/Curso_CEC_EAFIT/blob/main/CrashCourse03_Matplotlib.ipynb)\n",
    "<p>&nbsp;</p>\n",
    "\n",
    "- [CrashCourse04_Pandas.ipynb](https://colab.research.google.com/github/carlosalvarezh/Curso_CEC_EAFIT/blob/main/CrashCourse04_Pandas.ipynb)\n",
    "<p>&nbsp;</p>\n",
    "\n",
    "- [CrashCourse05_EDA.ipynb](https://colab.research.google.com/github/carlosalvarezh/Curso_CEC_EAFIT/blob/main/CrashCourse05_EDA.ipynb)\n",
    "<p>&nbsp;</p>\n",
    "\n",
    "- [CrashCourse06_NumerosAleatorios.ipynb](https://colab.research.google.com/github/carlosalvarezh/Curso_CEC_EAFIT/blob/main/CrashCourse06_NumerosAleatorios.ipynb)\n",
    "<p>&nbsp;</p>\n",
    "\n",
    "- [CrashCourse07_DistribucionesProbabilidad.ipynb](https://colab.research.google.com/github/carlosalvarezh/Curso_CEC_EAFIT/blob/main/CrashCourse07_DistribucionesProbabilidad.ipynb)\n"
   ]
  },
  {
   "cell_type": "markdown",
   "id": "0ec00054",
   "metadata": {},
   "source": [
    "## Metodología"
   ]
  },
  {
   "cell_type": "markdown",
   "id": "7c009b74",
   "metadata": {},
   "source": [
    "El curso se desarrolla con diferentes estrategias pedagógicas, entre otras:  \n",
    "- Clases Magistrales en modalidad remota (E-learning)\n",
    "- Talleres para desarrollar en diferentes plataformas de trabajo (Python, Jupyter Notebook, Google Colab)  \n"
   ]
  },
  {
   "cell_type": "markdown",
   "id": "d4f6cb42",
   "metadata": {},
   "source": [
    "## Cibergrafía"
   ]
  },
  {
   "cell_type": "markdown",
   "id": "3e96b6e5",
   "metadata": {},
   "source": [
    "A lo largo del curso se usarán los siguientes recursos computacionales:\n",
    "\n",
    "\n",
    "- [Python](https://www.python.org/)\n",
    "<p>&nbsp;</p>\n",
    "\n",
    "- [Numpy](https://numpy.org/)\n",
    "<p>&nbsp;</p>\n",
    "\n",
    "- [Matplotlib](https://matplotlib.org/)\n",
    "<p>&nbsp;</p>\n",
    "\n",
    "- [Pandas](https://pandas.pydata.org/)\n",
    "<p>&nbsp;</p>\n",
    "\n",
    "- [Jupyter](https://jupyter.org/)\n",
    "<p>&nbsp;</p>\n",
    "\n",
    "- [Anaconda](https://anaconda.org/)\n",
    "<p>&nbsp;</p>\n",
    "\n",
    "- [Google Colab](https://colab.research.google.com/)\n",
    "<p>&nbsp;</p>\n",
    "\n",
    "- [Github](https://github.com/carlosalvarezh)\n",
    "<p>&nbsp;</p>\n",
    "\n",
    "- [Visual Studio Code](https://code.visualstudio.com/)\n"
   ]
  }
 ],
 "metadata": {
  "kernelspec": {
   "display_name": "Python 3 (ipykernel)",
   "language": "python",
   "name": "python3"
  },
  "language_info": {
   "codemirror_mode": {
    "name": "ipython",
    "version": 3
   },
   "file_extension": ".py",
   "mimetype": "text/x-python",
   "name": "python",
   "nbconvert_exporter": "python",
   "pygments_lexer": "ipython3",
   "version": "3.11.3"
  },
  "toc": {
   "base_numbering": 1,
   "nav_menu": {},
   "number_sections": true,
   "sideBar": true,
   "skip_h1_title": true,
   "title_cell": "Table of Contents",
   "title_sidebar": "Contents",
   "toc_cell": false,
   "toc_position": {
    "height": "calc(100% - 180px)",
    "left": "10px",
    "top": "150px",
    "width": "165px"
   },
   "toc_section_display": true,
   "toc_window_display": false
  }
 },
 "nbformat": 4,
 "nbformat_minor": 5
}
