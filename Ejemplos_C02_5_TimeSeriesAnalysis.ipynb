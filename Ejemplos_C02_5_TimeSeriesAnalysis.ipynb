{
 "cells": [
  {
   "cell_type": "markdown",
   "id": "2ca1cb9d",
   "metadata": {},
   "source": [
    "<h1 align=\"center\">Analítica de datos para la toma de decisiones empresariales</h1>\n",
    "<h1 align=\"center\">Ejemplo: Análisis de Serie de Tiempo</h1>\n",
    "<h1 align=\"center\">Centro de Educación Continua</h1>\n",
    "<h1 align=\"center\">EAFIT</h1>\n",
    "<h1 align=\"center\">2023</h1>\n",
    "<h1 align=\"center\">MEDELLÍN - COLOMBIA </h1>"
   ]
  },
  {
   "cell_type": "markdown",
   "id": "3039e83f",
   "metadata": {},
   "source": [
    "*** \n",
    "***Docente:*** Carlos Alberto Álvarez Henao, I.C. D.Sc.\n",
    "\n",
    "***e-mail:*** calvar52@eafit.edu.co | carlosalvarezh@gmail.com\n",
    "\n",
    "***Linkedin:*** https://www.linkedin.com/in/carlosalvarez5/\n",
    "\n",
    "***github:*** https://github.com/carlosalvarezh/\n",
    "\n",
    "***Herramienta:*** [Jupyter Notebook](http://jupyter.org/) | [GoogleColab](https://colab.research.google.com/)\n",
    "\n",
    "***Kernel:*** Python 3.11\n",
    "***"
   ]
  },
  {
   "cell_type": "markdown",
   "id": "ef005125",
   "metadata": {},
   "source": [
    "<table>\n",
    " <tr align=left><td><img align=left src=\"https://github.com/carlosalvarezh/CFD_Applied/blob/master/figs/CC-BY.png?raw=true\">\n",
    " <td>Text provided under a Creative Commons Attribution license, CC-BY. All code is made available under the FSF-approved MIT license.(c) Carlos Alberto Alvarez Henao</td>\n",
    "</table>"
   ]
  },
  {
   "cell_type": "markdown",
   "id": "fa3516e7",
   "metadata": {},
   "source": [
    "## Introducción"
   ]
  },
  {
   "cell_type": "markdown",
   "id": "341a58aa",
   "metadata": {},
   "source": [
    "En el mundo empresarial actual, la capacidad de tomar decisiones informadas y estratégicas es esencial para el éxito. Una valiosa herramienta para lograrlo es el análisis de datos de series temporales. En una amplia variedad de sectores, desde finanzas hasta marketing, las organizaciones recopilan información a lo largo del tiempo, como precios de acciones, consumo de energía y métricas de redes sociales. Este tipo de datos pueden revelar patrones, tendencias estacionales y pronósticos futuros que impulsan la generación de ganancias. Por ejemplo, al comprender cómo varía la demanda de productos a lo largo del año, las empresas pueden planificar estratégicamente promociones para optimizar las ventas. En este contexto, exploraremos un enfoque práctico utilizando el método ARIMA para analizar públicamente disponibles datos de pasajeros de aerolíneas en Python. A través de este ejemplo, aprenderemos a descomponer tendencias, identificar patrones y pronosticar eventos futuros, fortaleciendo así nuestras habilidades en la toma de decisiones basadas en datos."
   ]
  },
  {
   "cell_type": "markdown",
   "id": "cb2e0ed5",
   "metadata": {},
   "source": [
    "## Carga de datos y análisis exploratorio"
   ]
  },
  {
   "cell_type": "markdown",
   "id": "515431d5",
   "metadata": {},
   "source": [
    "Empecemos el ejercicio con la importación de las bibliotecas a trabajar y la lectura de los datos"
   ]
  },
  {
   "cell_type": "code",
   "execution_count": null,
   "id": "cc76cb96",
   "metadata": {},
   "outputs": [],
   "source": [
    "import numpy as np\n",
    "import pandas as pd \n",
    "import matplotlib.pyplot as plt\n",
    "import seaborn as sns \n",
    "from statsmodels.tsa.stattools import adfuller\n",
    "from statsmodels.tsa.seasonal import seasonal_decompose"
   ]
  },
  {
   "cell_type": "code",
   "execution_count": null,
   "id": "98d952d3",
   "metadata": {},
   "outputs": [],
   "source": [
    "df = pd.read_csv(\"Data/AirPassengers.csv\")"
   ]
  },
  {
   "cell_type": "code",
   "execution_count": null,
   "id": "7ba15e44",
   "metadata": {},
   "outputs": [],
   "source": [
    "df.head(10)"
   ]
  },
  {
   "cell_type": "code",
   "execution_count": null,
   "id": "d25576ba",
   "metadata": {},
   "outputs": [],
   "source": [
    "df.tail()"
   ]
  },
  {
   "cell_type": "markdown",
   "id": "b1ce872b",
   "metadata": {},
   "source": [
    "Podemos observar que los datos contienen una columna etiquetada como \"Month\" que contiene fechas. En esa columna, las fechas están formateadas como año-mes. También vemos que los datos comienzan en enero de 1949 y van hasta diciembre de 1960.\n",
    "\n",
    "La segunda columna está etiquetada como \"#Passangers\" y contiene el número de pasajeros para el año-mes.\n",
    "\n",
    "Veamos cuántos elementos contiene el dataset y cuántos son no-nulos:"
   ]
  },
  {
   "cell_type": "code",
   "execution_count": null,
   "id": "20cb265e",
   "metadata": {},
   "outputs": [],
   "source": [
    "df.info()"
   ]
  },
  {
   "cell_type": "code",
   "execution_count": null,
   "id": "7aa6bd22",
   "metadata": {},
   "outputs": [],
   "source": [
    "null_data = df.isnull()\n",
    "null_data"
   ]
  },
  {
   "cell_type": "markdown",
   "id": "ac67bc11",
   "metadata": {},
   "source": [
    "Si el dataset cuenta con valores faltantes y quisiéramos determinar en qué fila se encuentran, podemos ejecutar este código"
   ]
  },
  {
   "cell_type": "code",
   "execution_count": null,
   "id": "9dcc32b7",
   "metadata": {},
   "outputs": [],
   "source": [
    "rows_with_missing_indices = df[df.isna().any(axis=1)].index\n",
    "print(rows_with_missing_indices)"
   ]
  },
  {
   "cell_type": "markdown",
   "id": "baadda4a",
   "metadata": {},
   "source": [
    "O si lo que necesitamos es saber la posición exacta del elemento nulo, podemos emplear este código:"
   ]
  },
  {
   "cell_type": "code",
   "execution_count": null,
   "id": "355372ac",
   "metadata": {},
   "outputs": [],
   "source": [
    "# Obtener la posición exacta de los valores nulos\n",
    "rows, cols = np.where(df.isna())\n",
    "\n",
    "# Crear una lista de tuplas con las posiciones\n",
    "null_positions = list(zip(rows, cols))\n",
    "\n",
    "print(null_positions)"
   ]
  },
  {
   "cell_type": "markdown",
   "id": "8a163c78",
   "metadata": {},
   "source": [
    "En donde el primer elemento de la tupla corresponde a la fila y el segundo, a la columna."
   ]
  },
  {
   "cell_type": "markdown",
   "id": "085f12d6",
   "metadata": {},
   "source": [
    "Lo siguiente que desearemos hacer es convertir la columna `Month` en un objeto de fecha y hora. Esto permitirá extraer de manera programática valores temporales como el año o el mes para cada registro. Para lograrlo, utilizamos el método `to_datetime()`  de `Pandas`:"
   ]
  },
  {
   "cell_type": "code",
   "execution_count": null,
   "id": "df42edc2",
   "metadata": {},
   "outputs": [],
   "source": [
    "df['Month'] = pd.to_datetime(df['Month'], format='%Y-%m')\n",
    "df.head()"
   ]
  },
  {
   "cell_type": "code",
   "execution_count": null,
   "id": "a0a15eaf",
   "metadata": {},
   "outputs": [],
   "source": [
    "df.info()"
   ]
  },
  {
   "cell_type": "markdown",
   "id": "4ca1cadd",
   "metadata": {},
   "source": [
    "Este proceso automáticamente inserta el primer día de cada mes, lo cual es básicamente un valor ficticio dado que no tenemos datos diarios de pasajeros.\n",
    "\n",
    "Observe también que el tipo de dato cambio de `object` a `datetime64[ns]`\n",
    "\n",
    "Lo siguiente que podemos hacer es convertir la columna de meses en un índice. Esto nos permitirá trabajar de manera más sencilla con algunos de los paquetes que cubriremos más adelante:"
   ]
  },
  {
   "cell_type": "code",
   "execution_count": null,
   "id": "17f39aa5",
   "metadata": {},
   "outputs": [],
   "source": [
    "df.set_index('Month', inplace=True)\n",
    "df"
   ]
  },
  {
   "cell_type": "markdown",
   "id": "c824305e",
   "metadata": {},
   "source": [
    "Grafiquemos los datos del DataFrame"
   ]
  },
  {
   "cell_type": "code",
   "execution_count": null,
   "id": "642576d0",
   "metadata": {},
   "outputs": [],
   "source": [
    "sns.lineplot(df)\n",
    "plt.ylabel('Number of Passengers')"
   ]
  },
  {
   "cell_type": "markdown",
   "id": "ca17b1f0",
   "metadata": {},
   "source": [
    "## Análisis de Estacionariedad"
   ]
  },
  {
   "cell_type": "markdown",
   "id": "e2a8bbc7",
   "metadata": {},
   "source": [
    "La estacionariedad es esencial en el análisis de series temporales, indicando que los cambios en los datos a lo largo del tiempo son constantes y no muestran tendencias ni patrones estacionales. Esto facilita la modelización y es un supuesto en muchos métodos de pronóstico. Utilizaremos la prueba Dickey Fuller para verificar la estacionariedad en nuestros datos, permitiéndonos aceptar o rechazar la hipótesis de no estacionariedad. Si rechazamos la hipótesis nula, confirmamos la existencia de estacionariedad, lo que es crucial para evaluar cómo los valores actuales se relacionan con los pasados en el conjunto de datos.\n",
    "\n",
    "Calcularemos una media móvil de siete meses:"
   ]
  },
  {
   "cell_type": "markdown",
   "id": "09a9e2c9",
   "metadata": {},
   "source": [
    "### Media Móvil"
   ]
  },
  {
   "cell_type": "markdown",
   "id": "113538cb",
   "metadata": {},
   "source": [
    "La [media móvil](https://en.wikipedia.org/wiki/Moving_average) se calcula como una técnica para suavizar las fluctuaciones en los datos y resaltar las tendencias subyacentes a lo largo del tiempo. Se utiliza en análisis de series temporales para reducir el ruido o variabilidad aleatoria en los datos, lo que facilita la identificación de patrones y tendencias más claras.\n",
    "\n",
    "La idea detrás de la media móvil es tomar un conjunto de valores consecutivos de una serie temporal y calcular su promedio. A medida que avanzamos en el tiempo, se va ajustando la ventana de valores que se promedian, lo que suaviza las fluctuaciones a corto plazo y revela las tendencias a largo plazo.\n",
    "\n",
    "La media móvil es especialmente útil para detectar patrones y tendencias en datos que pueden tener variaciones estacionales, cíclicas o aleatorias. Puede ser una herramienta efectiva para la exploración preliminar de datos y proporcionar una base para el análisis más profundo en el campo de la estadística y el análisis de series temporales.\n",
    "\n",
    "Para el ejemplo, calculemos una media móvil de siete meses:"
   ]
  },
  {
   "cell_type": "code",
   "execution_count": null,
   "id": "8c1ee278",
   "metadata": {},
   "outputs": [],
   "source": [
    "rolling_mean = df.rolling(7).mean()\n",
    "rolling_std = df.rolling(7).std()"
   ]
  },
  {
   "cell_type": "markdown",
   "id": "30370965",
   "metadata": {},
   "source": [
    "A continuación, vamos a superponer nuestra serie temporal con la media móvil de 7 meses y la desviación estándar móvil de siete meses. En primer lugar, creemos una gráfica utilizando Matplotlib de nuestra serie temporal, junto con la media móvil a 7 meses y su desviación estándar:"
   ]
  },
  {
   "cell_type": "code",
   "execution_count": null,
   "id": "a8e8ed96",
   "metadata": {},
   "outputs": [],
   "source": [
    "plt.plot(df, color=\"blue\",label=\"Original Passenger Data\")\n",
    "plt.plot(rolling_mean, color=\"red\", label=\"Rolling Mean Passenger Number\")\n",
    "plt.plot(rolling_std, color=\"black\", label = \"Rolling Standard Deviation in Passenger Number\")\n",
    "\n",
    "plt.title(\"Passenger Time Series, Rolling Mean, Standard Deviation\")\n",
    "plt.legend(loc=\"best\")"
   ]
  },
  {
   "cell_type": "markdown",
   "id": "1edee321",
   "metadata": {},
   "source": [
    "### Pruebas estadísticas"
   ]
  },
  {
   "cell_type": "markdown",
   "id": "f04fc73d",
   "metadata": {},
   "source": [
    "A continuación, importemos la prueba aumentada [Dickey-Fuller](https://en.wikipedia.org/wiki/Dickey%E2%80%93Fuller_test) del paquete statsmodels. La documentación de la prueba se puede encontrar [aquí](https://www.statsmodels.org/dev/generated/statsmodels.tsa.stattools.adfuller.html). Luego, pasemos nuestro *DataFrame* al método `adfuller`. Aquí, especificamos el parámetro `autolag` como \"`AIC`\", lo que significa que se elige el rezago para minimizar el criterio de información. Finalmente, almacenemos nuestros resultados en un *DataFrame* y lo mostremos:"
   ]
  },
  {
   "cell_type": "code",
   "execution_count": null,
   "id": "8e7619ea",
   "metadata": {},
   "outputs": [],
   "source": [
    "adft = adfuller(df,autolag=\"AIC\")\n",
    "\n",
    "adftValues = [adft[0],adft[1],adft[2],adft[3], adft[4]['1%'], adft[4]['5%'], adft[4]['10%']]\n",
    "\n",
    "metrics = [\"Test Statistics\",\"p-value\",\"No. of lags used\",\"Number of observations used\",\n",
    "           \"critical value (1%)\", \"critical value (5%)\", \"critical value (10%)\"]\n",
    "\n",
    "output_df = pd.DataFrame({\"Values\": adftValues, \"Metric\": metrics})\n",
    "print(output_df)"
   ]
  },
  {
   "cell_type": "markdown",
   "id": "594ef32c",
   "metadata": {},
   "source": [
    "Podemos observar que nuestros datos no son estacionarios debido a que nuestro valor $p> 5\\%$ y el estadístico de prueba es mayor al valor crítico. También podemos llegar a estas conclusiones al inspeccionar los datos, ya que podemos ver claramente una tendencia creciente en el número de pasajeros."
   ]
  },
  {
   "cell_type": "markdown",
   "id": "e0ee12d7",
   "metadata": {},
   "source": [
    "### Autocorrelación"
   ]
  },
  {
   "cell_type": "markdown",
   "id": "0805fff8",
   "metadata": {},
   "source": [
    "Verificar la [autocorrelación](https://en.wikipedia.org/wiki/Autocorrelation) en los datos de series temporales en Python es otra parte importante del proceso analítico. Esto es una medida de cómo está correlacionada la serie temporal en un punto dado en el tiempo con los valores pasados, lo que tiene implicaciones significativas en diversas industrias. Por ejemplo, si nuestros datos de pasajeros tienen una fuerte autocorrelación, podemos asumir que un alto número de pasajeros hoy sugiere una alta probabilidad de que también sean altos mañana.\n",
    "\n",
    "Pandas tiene un método de autocorrelación que podemos utilizar para calcular la autocorrelación en nuestros datos de pasajeros. Hagámoslo para un rezago de uno, tres, seis y nueve meses:"
   ]
  },
  {
   "cell_type": "code",
   "execution_count": null,
   "id": "3f6b5ab2",
   "metadata": {},
   "outputs": [],
   "source": [
    "autocorrelation_lag1 = df['#Passengers'].autocorr(lag=1)\n",
    "print(\"One Month Lag: \", autocorrelation_lag1)\n",
    "\n",
    "autocorrelation_lag3 = df['#Passengers'].autocorr(lag=3)\n",
    "print(\"Three Month Lag: \", autocorrelation_lag3)\n",
    "\n",
    "autocorrelation_lag6 = df['#Passengers'].autocorr(lag=6)\n",
    "print(\"Six Month Lag: \", autocorrelation_lag6)\n",
    "\n",
    "autocorrelation_lag9 = df['#Passengers'].autocorr(lag=9)\n",
    "print(\"Nine Month Lag: \", autocorrelation_lag9)"
   ]
  },
  {
   "cell_type": "markdown",
   "id": "86cbe708",
   "metadata": {},
   "source": [
    "Vemos que, incluso con un retraso de nueve meses, los datos presentan una autocorrelación alta. Esto es una evidencia adicional de las tendencias a corto y largo plazo en los datos."
   ]
  },
  {
   "cell_type": "markdown",
   "id": "e6705cda",
   "metadata": {},
   "source": [
    "### Descomposición"
   ]
  },
  {
   "cell_type": "markdown",
   "id": "53705e75",
   "metadata": {},
   "source": [
    "La [descomposición de tendencias](https://en.wikipedia.org/wiki/Decomposition_of_time_series) es otra manera útil de visualizar las tendencias en los datos de series temporales. Para continuar, importemos `seasonal_decompose` del paquete `statsmodels`. Pasemos nuestro *DataFrame* al método `season_decompose` y grafiquemos el resultado:"
   ]
  },
  {
   "cell_type": "code",
   "execution_count": null,
   "id": "0efda1c1",
   "metadata": {},
   "outputs": [],
   "source": [
    "decompose = seasonal_decompose(df['#Passengers'],model='additive', period=7)\n",
    "decompose.plot()\n",
    "plt.show()"
   ]
  },
  {
   "cell_type": "markdown",
   "id": "ce5c260a",
   "metadata": {},
   "source": [
    "En este gráfico, podemos ver claramente la tendencia creciente en el número de pasajeros y los patrones estacionales en el aumento y caída de los valores cada año."
   ]
  },
  {
   "cell_type": "markdown",
   "id": "773bfd3a",
   "metadata": {},
   "source": [
    "### Pronóstico (Forecasting)"
   ]
  },
  {
   "cell_type": "markdown",
   "id": "8ca00b4e",
   "metadata": {},
   "source": [
    "El [pronóstico de series temporales](https://en.wikipedia.org/wiki/Time_series) nos permite predecir valores futuros en una serie temporal dada la información actual y pasada. Aquí, utilizaremos el método [ARIMA](https://en.wikipedia.org/wiki/Autoregressive_integrated_moving_average) para pronosticar el número de pasajeros, lo que nos permitirá pronosticar valores futuros en función de una combinación lineal de valores pasados. Utilizaremos el paquete `auto_arima`, lo que nos evitará el proceso de ajuste de hiperparámetros que consume mucho tiempo.\n",
    "\n",
    "Primero, dividamos nuestros datos para entrenamiento y prueba, y visualicemos la división:"
   ]
  },
  {
   "cell_type": "code",
   "execution_count": null,
   "id": "38c36284",
   "metadata": {},
   "outputs": [],
   "source": [
    "df['Date'] = df.index\n",
    "train = df[df['Date'] < pd.to_datetime(\"1960-08\", format='%Y-%m')]\n",
    "train['train'] = train['#Passengers']\n",
    "del train['Date']\n",
    "del train['#Passengers']\n",
    "test = df[df['Date'] >= pd.to_datetime(\"1960-08\", format='%Y-%m')]\n",
    "del test['Date']\n",
    "test['test'] = test['#Passengers']\n",
    "del test['#Passengers']\n",
    "plt.plot(train, color = \"black\")\n",
    "plt.plot(test, color = \"red\")\n",
    "plt.title(\"Train/Test split for Passenger Data\")\n",
    "plt.ylabel(\"Passenger Number\")\n",
    "plt.xlabel('Year-Month')\n",
    "plt.grid(True)\n",
    "sns.set()\n",
    "plt.show()"
   ]
  },
  {
   "cell_type": "markdown",
   "id": "72ad238d",
   "metadata": {},
   "source": [
    "La línea negra corresponde a nuestros datos de entrenamiento (`train`) y la línea roja corresponde a nuestros datos de prueba (`test`).\n",
    "\n",
    "Importemos `auto_arima` del paquete `pdmarima`, entrenemos nuestro modelo y generemos predicciones."
   ]
  },
  {
   "cell_type": "markdown",
   "id": "a57ec619",
   "metadata": {},
   "source": [
    "<div class=\"alert alert alert-success\">\n",
    "$\\color{red}{\\textbf{Nota:}}$ Si es la primera vez que se va a ejecutar este paquete en su sistema (computador), debes instalarlo ejecutando la siguiente celda. Una vez instalado, no será necesario volverla a ejecutar, ni tampoco en ningún otro proyecto (notebook) que use este computador:\n",
    "</div>\n"
   ]
  },
  {
   "cell_type": "code",
   "execution_count": null,
   "id": "c3487708",
   "metadata": {},
   "outputs": [],
   "source": [
    "pip install pmdarima"
   ]
  },
  {
   "cell_type": "code",
   "execution_count": null,
   "id": "71c75c47",
   "metadata": {},
   "outputs": [],
   "source": [
    "from pmdarima.arima import auto_arima\n",
    "model = auto_arima(train, trace=True, error_action='ignore', suppress_warnings=True)\n",
    "model.fit(train)\n",
    "forecast = model.predict(n_periods=len(test))\n",
    "forecast = pd.DataFrame(forecast,index = test.index,columns=['Prediction'])"
   ]
  },
  {
   "cell_type": "markdown",
   "id": "de8b273b",
   "metadata": {},
   "source": [
    "Ahora, grafiquemos los resultados"
   ]
  },
  {
   "cell_type": "code",
   "execution_count": null,
   "id": "96f798b2",
   "metadata": {},
   "outputs": [],
   "source": [
    "plt.plot(train, label='Train')\n",
    "plt.plot(test, label='Test')\n",
    "plt.plot(forecast, label='Prediction')\n",
    "plt.title('#Passenger Prediction')\n",
    "plt.xlabel('Date')\n",
    "plt.ylabel('Actual #Passenger')\n",
    "plt.legend(loc='upper left', fontsize=8)\n",
    "plt.show()"
   ]
  },
  {
   "cell_type": "markdown",
   "id": "c46977e2",
   "metadata": {},
   "source": [
    "Nuestras predicciones se muestran en verde y los valores reales se muestran en naranja.\n",
    "\n",
    "Finalmente, calculemos el error cuadrático medio (RMSE):"
   ]
  },
  {
   "cell_type": "code",
   "execution_count": null,
   "id": "82ecc451",
   "metadata": {},
   "outputs": [],
   "source": [
    "from math import sqrt\n",
    "from sklearn.metrics import mean_squared_error\n",
    "rms = sqrt(mean_squared_error(test,forecast))\n",
    "print(\"RMSE: \", rms)"
   ]
  },
  {
   "cell_type": "markdown",
   "id": "b13e7b6e",
   "metadata": {},
   "source": [
    "Un valor de *RMSE* (*Root Mean Square Error*) de $64.4816^*$ indica la raíz del promedio de los errores al cuadrado entre los valores pronosticados y los valores reales en un conjunto de datos. Es una medida de la diferencia entre los valores pronosticados y los valores observados en una serie temporal. Cuanto menor sea el valor del RMSE, mejor será el ajuste del modelo a los datos observados.\n",
    "\n",
    "En este contexto, un *RMSE* de $64.4816^*$ significa que, en promedio, los pronósticos del modelo difieren en alrededor de $64.4816^*$ unidades de la variable objetivo (en este caso, el número de pasajeros) de los valores reales en el conjunto de datos. Es importante interpretar este valor en relación con la escala de la variable y el contexto específico de la aplicación. Un *RMSE* más bajo indica que el modelo está haciendo predicciones más precisas y cercanas a los valores reales.\n",
    "\n",
    "($^*$Este valor cambia cada vez que hacemos una nueva predicción)"
   ]
  },
  {
   "cell_type": "markdown",
   "id": "bd7e86d2",
   "metadata": {},
   "source": [
    "### Análisis"
   ]
  },
  {
   "cell_type": "markdown",
   "id": "78ad1444",
   "metadata": {},
   "source": [
    "El análisis de datos de series temporales desempeña un papel fundamental. Este análisis es una tarea que enfrentarán casi todos los profesionales en su carrera, y comprender las herramientas y métodos adecuados puede capacitar a los participantes para descubrir tendencias, anticipar eventos y, por ende, influir en la toma de decisiones estratégicas. A través de la comprensión de patrones estacionales mediante conceptos como estacionariedad, autocorrelación y descomposición de tendencias, se puede orientar la planificación de promociones a lo largo del año, mejorando así los resultados financieros de las empresas. Por último, la capacidad de prever eventos futuros mediante pronósticos de series temporales se convierte en una herramienta poderosa para guiar la toma de decisiones empresariales. Estos análisis se vuelven invaluables para cualquier profesional o equipo que busque aportar un valor significativo a sus organizaciones a través de la interpretación y aplicación de datos de series temporales"
   ]
  },
  {
   "cell_type": "code",
   "execution_count": null,
   "id": "6c6b2b28",
   "metadata": {},
   "outputs": [],
   "source": []
  }
 ],
 "metadata": {
  "kernelspec": {
   "display_name": "Python 3 (ipykernel)",
   "language": "python",
   "name": "python3"
  },
  "language_info": {
   "codemirror_mode": {
    "name": "ipython",
    "version": 3
   },
   "file_extension": ".py",
   "mimetype": "text/x-python",
   "name": "python",
   "nbconvert_exporter": "python",
   "pygments_lexer": "ipython3",
   "version": "3.11.3"
  },
  "toc": {
   "base_numbering": 1,
   "nav_menu": {},
   "number_sections": true,
   "sideBar": true,
   "skip_h1_title": true,
   "title_cell": "Table of Contents",
   "title_sidebar": "Contents",
   "toc_cell": false,
   "toc_position": {
    "height": "calc(100% - 180px)",
    "left": "10px",
    "top": "150px",
    "width": "256px"
   },
   "toc_section_display": true,
   "toc_window_display": false
  }
 },
 "nbformat": 4,
 "nbformat_minor": 5
}
