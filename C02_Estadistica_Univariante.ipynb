{
 "cells": [
  {
   "cell_type": "markdown",
   "id": "2d9048b9",
   "metadata": {},
   "source": [
    "<h1 align=\"center\">Analítica de datos para la toma de decisiones empresariales</h1>\n",
    "<h1 align=\"center\">Estadística Univariante</h1>\n",
    "<h1 align=\"center\">Centro de Educación Continua</h1>\n",
    "<h1 align=\"center\">EAFIT</h1>\n",
    "<h1 align=\"center\">2023</h1>\n",
    "<h1 align=\"center\">MEDELLÍN - COLOMBIA </h1>"
   ]
  },
  {
   "cell_type": "markdown",
   "id": "3efd250d",
   "metadata": {},
   "source": [
    "<table>\n",
    " <tr align=left><td><img align=left src=\"https://github.com/carlosalvarezh/CFD_Applied/blob/master/figs/CC-BY.png?raw=true\">\n",
    " <td>Text provided under a Creative Commons Attribution license, CC-BY. All code is made available under the FSF-approved MIT license.(c) Carlos Alberto Alvarez Henao</td>\n",
    "</table>"
   ]
  },
  {
   "cell_type": "markdown",
   "id": "3352bab9",
   "metadata": {},
   "source": [
    "<p float=\"center\">\n",
    "  <img src=\"https://github.com/carlosalvarezh/Curso_CEC_EAFIT/blob/main/images/C02_02_WordCloudStatistics.jpg?raw=true\" width=\"500\" />\n",
    "</p>"
   ]
  },
  {
   "cell_type": "markdown",
   "id": "11f5d061",
   "metadata": {},
   "source": [
    "## Definiciones  y conceptos"
   ]
  },
  {
   "cell_type": "markdown",
   "id": "d2e27708",
   "metadata": {},
   "source": [
    "### Introducción"
   ]
  },
  {
   "cell_type": "markdown",
   "id": "16491ad3",
   "metadata": {},
   "source": [
    "La capacidad de tomar decisiones informadas y estratégicas es esencial en el entorno empresarial actual, y la estadística desempeña un papel fundamental en este proceso. Exploraremos cómo la estadística univariante, en particular el análisis univariante, puede proporcionarnos información valiosa y confiable a partir de los datos, permitiéndonos tomar decisiones más efectivas y fundamentadas. "
   ]
  },
  {
   "cell_type": "markdown",
   "id": "01512dcb",
   "metadata": {},
   "source": [
    "### Qués la Estadística"
   ]
  },
  {
   "cell_type": "markdown",
   "id": "efc055d3",
   "metadata": {},
   "source": [
    "La [estadística](https://en.wikipedia.org/wiki/Statistics) es la ciencia que nos permite recopilar, organizar, analizar e interpretar [datos](https://en.wikipedia.org/wiki/Data) para tomar decisiones basadas en evidencia. Es un puente crucial entre la información cruda y el conocimiento accionable.\n",
    "\n",
    "Veamos el siguiente conjunto de datos:\n",
    "\n",
    "<p float=\"center\">\n",
    "  <img src=\"https://github.com/carlosalvarezh/Curso_CEC_EAFIT/blob/main/images/C02_01_Tabla.PNG?raw=true\" width=\"500\" />\n",
    "</p>\n",
    "\n",
    "Puede inferir algo de esta tabla?\n",
    "\n",
    "La estadística nos permitirá convertir esos datos \"inconexos\" en información."
   ]
  },
  {
   "cell_type": "markdown",
   "id": "dc6d5140",
   "metadata": {},
   "source": [
    "### Ramas de la estadística"
   ]
  },
  {
   "cell_type": "markdown",
   "id": "08d51e21",
   "metadata": {},
   "source": [
    "La estadística suele ser dividida en dos grandes ramas:"
   ]
  },
  {
   "cell_type": "markdown",
   "id": "815b7d56",
   "metadata": {},
   "source": [
    "#### Estadística descriptiva "
   ]
  },
  {
   "cell_type": "markdown",
   "id": "08ae5ada",
   "metadata": {},
   "source": [
    "La [estadística descriptiva](https://en.wikipedia.org/wiki/Descriptive_statistics) se centra en la recopilación, organización, resumen y presentación de datos de manera informativa. Su objetivo principal es describir las características esenciales de un conjunto de datos sin realizar inferencias o generalizaciones más allá de los datos en sí. Calcula los parámetros estadísticos que describen el conjunto estudiado. Algunos conceptos y técnicas asociadas con la estadística descriptiva incluyen:\n",
    "\n",
    "- ***Medidas de tendencia central:*** como la media, mediana y moda, que resumen la ubicación promedio de los datos.  \n",
    "<p>&nbsp;</p>\n",
    "- ***Medidas de dispersión:*** como la desviación estándar y el rango intercuartílico, que indican cuánto se dispersan los datos alrededor de las medidas de tendencia central.  \n",
    "<p>&nbsp;</p>\n",
    "- ***Gráficos y diagramas:*** como histogramas, gráficos de barras y gráficos de dispersión, que visualizan los patrones y la distribución de los datos.\n"
   ]
  },
  {
   "cell_type": "markdown",
   "id": "f2c33f80",
   "metadata": {},
   "source": [
    "#### Estadistica inferencial"
   ]
  },
  {
   "cell_type": "markdown",
   "id": "ad7cc57f",
   "metadata": {},
   "source": [
    "La [estadística inferencial](https://en.wikipedia.org/wiki/Statistical_inference), también conocida como estadística diferencial, se refiere al proceso de hacer inferencias o conclusiones sobre una población basándose en los datos de una muestra seleccionada de esa población. Esta rama se utiliza para sacar conclusiones más allá de los datos observados y para tomar decisiones informadas sobre hipótesis y afirmaciones. Algunos conceptos y técnicas asociadas con la estadística inferencial incluyen:\n",
    "\n",
    "- ***Estimación de parámetros:*** Utiliza los datos de la muestra para estimar los parámetros poblacionales desconocidos, como la media o la proporción.\n",
    "<p>&nbsp;</p>\n",
    "\n",
    "- ***Pruebas de hipótesis:*** Evalúa si ciertas afirmaciones sobre la población son compatibles con los datos de la muestra o si deberían rechazarse en favor de otra afirmación.\n",
    "<p>&nbsp;</p>\n",
    "\n",
    "- ***Intervalos de confianza:*** Proporcionan un rango de valores dentro del cual se espera que se encuentre un parámetro poblacional con un cierto nivel de confianza.\n",
    "<p>&nbsp;</p>\n",
    "\n",
    "- ***Regresión y correlación:*** Modelan relaciones entre variables y permiten hacer predicciones y análisis de causalidad."
   ]
  },
  {
   "cell_type": "markdown",
   "id": "acb8b994",
   "metadata": {},
   "source": [
    "### Probabilidad"
   ]
  },
  {
   "cell_type": "markdown",
   "id": "8b5474ee",
   "metadata": {},
   "source": [
    "Mientras que, como se dijo, la estadística se enfoca en la recopilación, organización, análisis e interpretación de datos, la [probabilidad](https://en.wikipedia.org/wiki/Probability) es la medida cuantitativa de la incertidumbre. Se utiliza para cuantificar la posibilidad de que ocurra un evento específico. En esencia, la probabilidad es una forma de asignar un valor numérico a la chance de que un evento suceda, y estos valores generalmente se encuentran en el rango de 0 (evento imposible) a 1 (evento seguro). También puede ser visto como un porcentaje (0% - 100%). La teoría de la probabilidad se basa en modelos matemáticos que describen cómo se distribuyen las posibilidades en diferentes situaciones. La probabilidad se aplica en diversas áreas, como la toma de decisiones bajo incertidumbre, estadísticas, teoría de juegos, análisis de riesgos y más."
   ]
  },
  {
   "cell_type": "markdown",
   "id": "c3b79e13",
   "metadata": {},
   "source": [
    "En resumen, la probabilidad se relaciona con la cuantificación de la incertidumbre, mientras que la estadística se refiere al análisis y la interpretación de datos para tomar decisiones informadas. Aunque son conceptos distintos, a menudo se interrelacionan en campos como la teoría de la probabilidad, la estadística matemática y la inferencia estadística."
   ]
  },
  {
   "cell_type": "markdown",
   "id": "6d86f37b",
   "metadata": {},
   "source": [
    "### Actividades en un análisis estadístico"
   ]
  },
  {
   "cell_type": "markdown",
   "id": "67dd9b3a",
   "metadata": {},
   "source": [
    "El análisis estadístico implica una serie de actividades fundamentales para comprender, resumir y extraer información útil de los datos. Estas actividades básicas son esenciales para llevar a cabo una investigación o análisis de datos de manera efectiva. Aquí están algunas de las actividades básicas del análisis estadístico:\n",
    "\n",
    "- ***Recopilación de Datos:*** Esta es la fase inicial en la que se reúnen los datos relevantes para el estudio. Los datos pueden ser recolectados a través de encuestas, experimentos, observaciones, registros u otras fuentes.\n",
    "<p>&nbsp;</p>\n",
    "\n",
    "- ***Organización y Limpieza de Datos:*** Los datos recopilados a menudo pueden ser desordenados o contener errores. En esta etapa, los datos se organizan en una forma adecuada para el análisis y se eliminan o corrigen los errores obvios.\n",
    "<p>&nbsp;</p>\n",
    "\n",
    "- ***Descripción de Datos:*** En esta etapa, se utilizan técnicas de estadística descriptiva para resumir y presentar los datos. Esto puede incluir cálculos de medidas de tendencia central (como la media, mediana y moda) y medidas de dispersión (como la desviación estándar y el rango).\n",
    "<p>&nbsp;</p>\n",
    "\n",
    "- ***Visualización de Datos:*** Se crean gráficos y gráficos para visualizar patrones, distribuciones y relaciones en los datos. Ejemplos de esto son histogramas, diagramas de dispersión y gráficos de barras.\n",
    "<p>&nbsp;</p>\n",
    "\n",
    "- ***Análisis Exploratorio de Datos:*** Esta fase implica explorar más a fondo los datos para identificar patrones interesantes o relaciones. Se pueden utilizar técnicas como análisis de clusters o análisis de componentes principales para encontrar estructuras subyacentes en los datos.\n",
    "<p>&nbsp;</p>\n",
    "\n",
    "- ***Inferencia Estadística:*** En esta etapa, se aplican técnicas de estadística inferencial para hacer generalizaciones sobre una población más amplia basadas en los datos de muestra. Esto incluye la estimación de parámetros poblacionales y la realización de pruebas de hipótesis.\n",
    "<p>&nbsp;</p>\n",
    "\n",
    "- ***Modelado y Predicción:*** Se utilizan modelos matemáticos y estadísticos para describir y predecir relaciones entre variables. Esto puede implicar el uso de regresión, análisis de series temporales u otras técnicas de modelado.\n",
    "<p>&nbsp;</p>\n",
    "\n",
    "- ***Validación y Verificación:*** Se evalúa la confiabilidad y validez de los resultados obtenidos. Esto puede involucrar el uso de técnicas como validación cruzada y pruebas de sensibilidad.\n",
    "<p>&nbsp;</p>\n",
    "\n",
    "- ***Comunicación de Resultados:*** Los resultados y conclusiones del análisis se presentan de manera clara y comprensible para las personas interesadas. Esto puede incluir informes, presentaciones y visualizaciones.\n",
    "<p>&nbsp;</p>\n",
    "\n",
    "- ***Toma de Decisiones:*** Finalmente, los resultados del análisis estadístico se utilizan para tomar decisiones informadas, hacer recomendaciones o llevar a cabo acciones basadas en la comprensión de los datos.\n",
    "<p>&nbsp;</p>\n",
    "\n",
    "Estas actividades básicas no son necesariamente lineales y a menudo se superponen en diferentes etapas del proceso de análisis. El análisis estadístico es un proceso iterativo en el que se pueden ajustar y refinar enfoques a medida que se adquiere una comprensión más profunda de los datos y los resultados."
   ]
  },
  {
   "cell_type": "markdown",
   "id": "3f589b6e",
   "metadata": {},
   "source": [
    "### Rol de la Analítica de Datos en la Toma de Decisiones Empresariales"
   ]
  },
  {
   "cell_type": "markdown",
   "id": "99cd5111",
   "metadata": {},
   "source": [
    "La analítica de datos se ha convertido en una herramienta indispensable para las empresas modernas. Desde la identificación de patrones hasta la detección de tendencias, la analítica de datos nos proporciona una visión profunda y valiosa que influye en las decisiones estratégicas."
   ]
  },
  {
   "cell_type": "markdown",
   "id": "9d067050",
   "metadata": {},
   "source": [
    "## Estadística descriptiva"
   ]
  },
  {
   "cell_type": "markdown",
   "id": "4537d0ba",
   "metadata": {},
   "source": [
    "La [estadística descriptiva](https://en.wikipedia.org/wiki/Descriptive_statistics) es una rama fundamental de la estadística que se enfoca en la descripción, resumen y organización de los [datos](https://en.wikipedia.org/wiki/Data) de manera que podamos entender mejor su estructura, patrones y características principales. Su objetivo principal es proporcionar una visión clara y concisa de un conjunto de datos, lo que permite identificar tendencias, patrones, distribuciones y resaltar aspectos clave sin realizar inferencias más allá de los datos presentes. Veamos los componentes esenciales de la estadística descriptiva y cómo se aplican a través de ejemplos."
   ]
  },
  {
   "cell_type": "markdown",
   "id": "6b9bdc5a",
   "metadata": {},
   "source": [
    "### Medidas de Tendencia Central"
   ]
  },
  {
   "cell_type": "markdown",
   "id": "524c4ed8",
   "metadata": {},
   "source": [
    "Las medidas de tendencia central se utilizan para identificar el valor central o típico en un conjunto de datos. Ejemplos de medidas de tendencia central incluyen:"
   ]
  },
  {
   "cell_type": "markdown",
   "id": "ad12c187",
   "metadata": {},
   "source": [
    "#### Media aritmética"
   ]
  },
  {
   "cell_type": "markdown",
   "id": "8918a5bf",
   "metadata": {},
   "source": [
    "La [media aritmética](https://en.wikipedia.org/wiki/Arithmetic_mean) es la suma de todos los valores dividida por el número total de valores. Se suele representar con la letra griega $\\mu$. Si tenemos una muestra de $n$ valores, $x_i$, la media aritmética, $\\mu$, es la suma de los valores divididos por el numero de elementos; en otras palabras:\n",
    "\n",
    "$$\\mu = \\frac{1}{n}\\sum_i^n{x_i}=\\frac{x_1+x_2+x_3+\\ldots+x_n}{n}$$\n",
    "\n",
    "***Ejemplo:*** En un conjunto de calificaciones de estudiantes $(85, 90, 78, 92, 88)$, la media sería \n",
    "\n",
    "$$\\frac{(85 + 90 + 78 + 92 + 88)} {5} = 86.6$$\n",
    "\n",
    "veamos diferentes formas de cómo sería empleando un lenguaje de programación (python). Empecemos por la forma más básica hasta avanzar a la forma \"correcta\":"
   ]
  },
  {
   "cell_type": "markdown",
   "id": "dd2f1f20",
   "metadata": {},
   "source": [
    "La primera forma es emplear Python como simple calculadora:"
   ]
  },
  {
   "cell_type": "code",
   "execution_count": null,
   "id": "0654f2ff",
   "metadata": {},
   "outputs": [],
   "source": [
    "# python como simple calculadora\n",
    "media = (85 + 90 + 78 + 92 + 88) / 5\n",
    "media"
   ]
  },
  {
   "cell_type": "markdown",
   "id": "0c5915e5",
   "metadata": {},
   "source": [
    "Supongamos que no tenemos 5 datos, sino miles, millones de datos. Avancemos un poco y ahora usemos algunas de las estructuras de programación vistas en el mini-curso. Creemos una lista con los datos y usemos las funcionalidades que tiene python para extraer información."
   ]
  },
  {
   "cell_type": "code",
   "execution_count": null,
   "id": "d07d7175",
   "metadata": {},
   "outputs": [],
   "source": [
    "# datos\n",
    "#data = [85, 90, 78, 92, 88]    # lista con datos\n",
    "data = [25, 30, 32, 38, 40, 45]\n",
    "n = len(data)                  # determina la cantidad de datos en la lista"
   ]
  },
  {
   "cell_type": "markdown",
   "id": "b5c43c3f",
   "metadata": {},
   "source": [
    "Con los datos ya almacenados en memoria, podemos emplear un ciclo `for` para ir generando la suma acumulada de cada uno de los elementos de la lista y después obtener el valor de la media:"
   ]
  },
  {
   "cell_type": "code",
   "execution_count": null,
   "id": "b54d4a04",
   "metadata": {},
   "outputs": [],
   "source": [
    "# empleando un ciclo for que recorra todo el vector de datos x\n",
    "\n",
    "suma = 0\n",
    "\n",
    "for i in data:\n",
    "    suma += i\n",
    "\n",
    "media = suma / n\n",
    "print(media)"
   ]
  },
  {
   "cell_type": "markdown",
   "id": "7594e36b",
   "metadata": {},
   "source": [
    "Ahora vamos un paso más adelante y empleemos las funciones predefinidas que posee Python para obtener de forma rápida y eficiente algunos valores. Veamos primero cuáles son esas funciones predefinidas:"
   ]
  },
  {
   "cell_type": "code",
   "execution_count": null,
   "id": "702caee2",
   "metadata": {},
   "outputs": [],
   "source": [
    "import builtins\n",
    "\n",
    "print(dir(builtins))"
   ]
  },
  {
   "cell_type": "markdown",
   "id": "83b1487b",
   "metadata": {},
   "source": [
    "Observemos que ya hay una función `sum` predefinida. Veamos qué hace esa función:"
   ]
  },
  {
   "cell_type": "code",
   "execution_count": null,
   "id": "b7fb3df2",
   "metadata": {
    "scrolled": true
   },
   "outputs": [],
   "source": [
    "help(sum)"
   ]
  },
  {
   "cell_type": "markdown",
   "id": "670845f1",
   "metadata": {},
   "source": [
    "Ahora usemos la función predefinida en nuestros cálculos,"
   ]
  },
  {
   "cell_type": "code",
   "execution_count": null,
   "id": "2747165a",
   "metadata": {},
   "outputs": [],
   "source": [
    "# empleando la función suma (más eficiente)\n",
    "\n",
    "suma = sum(data)\n",
    "media = suma / n\n",
    "print(media)"
   ]
  },
  {
   "cell_type": "markdown",
   "id": "903c04c7",
   "metadata": {},
   "source": [
    "Ya no es necesario usar un ciclo para determinar la suma. Python ya trae por defecto dicha operación (además, de ser más eficiente computacionalmente). \n",
    "\n",
    "Por último, empleemos las bibliotecas que contiene Python para facilitar el trabajo. Empecemos con la biblioteca [`Numpy`](https://numpy.org/)"
   ]
  },
  {
   "cell_type": "code",
   "execution_count": null,
   "id": "ef3947a5",
   "metadata": {},
   "outputs": [],
   "source": [
    "# empleando el módulo Numpy y sus funciones - la opción correcta!\n",
    "import numpy as np\n",
    "\n",
    "media = np.mean(data)\n",
    "print(media)"
   ]
  },
  {
   "cell_type": "markdown",
   "id": "80269665",
   "metadata": {},
   "source": [
    "Observése que, aprovechando las funcionalidades del lenguaje, se logra una mayor eficiencia en el trabajo. Para los siguientes cálculos emplearemos en lo posible el llamado a bibliotecas y funciones predefinidas en Python."
   ]
  },
  {
   "cell_type": "markdown",
   "id": "9d8df883",
   "metadata": {},
   "source": [
    "#### Mediana"
   ]
  },
  {
   "cell_type": "markdown",
   "id": "8b235955",
   "metadata": {},
   "source": [
    "La mediana es el valor que divide el conjunto de datos en dos partes iguales. \n",
    "\n",
    "- ***Ejemplo:*** En un conjunto de datos $(25, 30, 32, 40, 45)$, la mediana sería el valor que está en la mitad, en este caso $32$. Obsérvese que este conjunto de datos tiene una cantidad impar de datos, por lo que el dato que ocupa la mitad es la mediana. Si fuera un conjunto de datos con una cantidad par, por ejemplo $(25, 30, 32, 38, 40, 45)$, la mediana sería el promedio entre los datos $32$ y $38$, es decir: $(32 + 38) / 2 = 35.0$"
   ]
  },
  {
   "cell_type": "code",
   "execution_count": null,
   "id": "f71127b5",
   "metadata": {
    "scrolled": true
   },
   "outputs": [],
   "source": [
    "# cuentas con \"calculadora\"\n",
    "(32+38)/2"
   ]
  },
  {
   "cell_type": "markdown",
   "id": "d1f6d94f",
   "metadata": {},
   "source": [
    "Programemos en python nuestra propia función para calcular la mediana:"
   ]
  },
  {
   "cell_type": "code",
   "execution_count": null,
   "id": "ea3dd563",
   "metadata": {},
   "outputs": [],
   "source": [
    "def mediana(x):\n",
    "    n = len(x)\n",
    "    x_sort = sorted(x)\n",
    "\n",
    "    if n % 2 == 0:\n",
    "        impar = n // 2 - 1\n",
    "        par = n // 2\n",
    "        mediana = (x_sort[impar] + x_sort[par]) / 2\n",
    "    else:\n",
    "        indice_mediana = n // 2\n",
    "        mediana = x_sort[indice_mediana]\n",
    "\n",
    "    print(\"La mediana es:\", mediana)"
   ]
  },
  {
   "cell_type": "code",
   "execution_count": null,
   "id": "0f4843a2",
   "metadata": {},
   "outputs": [],
   "source": [
    "# data\n",
    "\n",
    "data = [25, 30, 32, 38, 40, 45]  # cantidad par de datos\n",
    "#data = [25, 30, 32, 40, 45]  # cantidad impar de datos"
   ]
  },
  {
   "cell_type": "code",
   "execution_count": null,
   "id": "4658c51b",
   "metadata": {},
   "outputs": [],
   "source": [
    "# llamado a la función mediana\n",
    "\n",
    "mediana(data)"
   ]
  },
  {
   "cell_type": "markdown",
   "id": "90052a61",
   "metadata": {},
   "source": [
    "O, podemos emplear la función `median` de `numpy`,"
   ]
  },
  {
   "cell_type": "code",
   "execution_count": null,
   "id": "adac2262",
   "metadata": {
    "scrolled": true
   },
   "outputs": [],
   "source": [
    "np.median(data)"
   ]
  },
  {
   "cell_type": "markdown",
   "id": "c184a18f",
   "metadata": {},
   "source": [
    "#### Varianza"
   ]
  },
  {
   "cell_type": "markdown",
   "id": "3a4ef1df",
   "metadata": {},
   "source": [
    "La varianza es una medida de la dispersión o variabilidad de un conjunto de datos. Indica qué tan alejados están los valores individuales del valor promedio (media) del conjunto. Una varianza más alta indica que los valores están más dispersos, mientras que una varianza más baja indica que los valores están más agrupados alrededor de la media. Se representa con el símbolo $\\sigma^2$, y su fórmula general para un conjunto de datos es:\n",
    "\n",
    "$$\\sigma^2=\\frac{\\sum \\limits_{i=1}^n \\left(x_i - \\mu \\right)^2}{n}$$\n",
    "\n",
    "un código en Python para calcular la varianza podría ser:"
   ]
  },
  {
   "cell_type": "code",
   "execution_count": null,
   "id": "88b77f8e",
   "metadata": {},
   "outputs": [],
   "source": [
    "#data = [25, 30, 32, 38, 40, 45]\n",
    "#data = [1,2,2,2,1,1,3,2,2,2]\n",
    "#data = [100,101,101,100,103,101,102,101,100,103,100,102,102]\n",
    "\n",
    "n = len(data)\n",
    "media = sum(data) / n\n",
    "\n",
    "diferencias_cuadradas = [(x - media) ** 2 for x in data]    # list comprenhension para evitar el ciclo for\n",
    "varianza = sum(diferencias_cuadradas) / n\n",
    "\n",
    "print(\"La varianza es:\", varianza)\n"
   ]
  },
  {
   "cell_type": "markdown",
   "id": "9231ab4f",
   "metadata": {},
   "source": [
    "Empleando la biblioteca `Numpy`:"
   ]
  },
  {
   "cell_type": "code",
   "execution_count": null,
   "id": "51cb68b2",
   "metadata": {},
   "outputs": [],
   "source": [
    "np.var(data)"
   ]
  },
  {
   "cell_type": "markdown",
   "id": "ece86c71",
   "metadata": {},
   "source": [
    "#### Desviación estándar"
   ]
  },
  {
   "cell_type": "markdown",
   "id": "bde5eb8d",
   "metadata": {},
   "source": [
    "La [desviación estándar](https://en.wikipedia.org/wiki/Standard_deviation) es una medida estadística que indica cuánto se desvían los valores individuales de un conjunto de datos con respecto a su media. En otras palabras, mide la dispersión o variabilidad de los valores con respecto a la media. Una desviación estándar mayor indica que los valores están más dispersos, mientras que una desviación estándar menor indica que los valores están más cerca de la media. Matemáticamente, la desviación estándar es la raíz cuadrada de la varianza:\n",
    "\n",
    "$$\\sigma=\\sqrt{\\frac{\\sum \\limits_{i=1}^n \\left(x_i - \\mu \\right)^2}{n}}$$"
   ]
  },
  {
   "cell_type": "code",
   "execution_count": null,
   "id": "8ab495bf",
   "metadata": {},
   "outputs": [],
   "source": [
    "np.std(data)"
   ]
  },
  {
   "cell_type": "markdown",
   "id": "552b2fcb",
   "metadata": {},
   "source": [
    "#### Moda"
   ]
  },
  {
   "cell_type": "markdown",
   "id": "af96a045",
   "metadata": {},
   "source": [
    "La moda es el valor que ocurre con mayor frecuencia en un conjunto de datos. \n",
    "\n",
    "- ***Ejemplo:*** En un conjunto de números $(5, 8, 7, 5, 12, 7, 5, 8, 8, 5, 12, 7, 5, 4)$, la moda sería 5."
   ]
  },
  {
   "cell_type": "code",
   "execution_count": null,
   "id": "80604a54",
   "metadata": {},
   "outputs": [],
   "source": [
    "data = [5, 8, 7, 5, 12, 7, 5, 8, 8, 5, 12, 7, 5, 4, 6, 7, 5, 8, 4, 5, 7, 5]\n",
    "\n",
    "frecuencias = {}\n",
    "for dato in data:\n",
    "    if dato in frecuencias:\n",
    "        frecuencias[dato] += 1\n",
    "    else:\n",
    "        frecuencias[dato] = 1\n",
    "\n",
    "moda = []\n",
    "frecuencia_maxima = max(frecuencias.values())\n",
    "\n",
    "for dato, frecuencia in frecuencias.items():\n",
    "    if frecuencia == frecuencia_maxima:\n",
    "        moda.append(dato)\n",
    "\n",
    "print(\"La moda es:\", moda)\n"
   ]
  },
  {
   "cell_type": "markdown",
   "id": "b22f644c",
   "metadata": {},
   "source": [
    "veamos qué se almacenó en el diccionario `frecuencias`:"
   ]
  },
  {
   "cell_type": "code",
   "execution_count": null,
   "id": "d02c875f",
   "metadata": {},
   "outputs": [],
   "source": [
    "print(frecuencias)"
   ]
  },
  {
   "cell_type": "markdown",
   "id": "7937f902",
   "metadata": {},
   "source": [
    "`Numpy` no incluye una función directa para calcular la moda. Sin embargo, podemos lograrlo importando otra biblioteca llamada [`scipy`](https://scipy.org/), que se basa en `Numpy` para ofrecer funcionalidades adicionales en tareas científicas y de ingeniería."
   ]
  },
  {
   "cell_type": "code",
   "execution_count": null,
   "id": "17ae99c3",
   "metadata": {},
   "outputs": [],
   "source": [
    "from scipy import stats"
   ]
  },
  {
   "cell_type": "code",
   "execution_count": null,
   "id": "6d35bc68",
   "metadata": {
    "scrolled": false
   },
   "outputs": [],
   "source": [
    "print(stats.mode(data))"
   ]
  },
  {
   "cell_type": "markdown",
   "id": "9e27ae7e",
   "metadata": {},
   "source": [
    "### Bibliotecas para tratamiento de datos estadísticos"
   ]
  },
  {
   "cell_type": "markdown",
   "id": "69aed67f",
   "metadata": {},
   "source": [
    "Python tiene una extensa variedad de bibliotecas que ayudan en el trabajo con datos. A continuación se presentará un compendio de las más utilizadas (algunas ya las hemos visto):\n",
    "\n",
    "- ***[numpy](https://www.numpy.org/):*** El popular paquete matemático de Python, se utiliza tanto que mucha gente ya lo considera parte integral del lenguaje. Nos proporciona algunas funciones estadísticas que podemos aplicar fácilmente sobre los arrays de Numpy.\n",
    "<p>&nbsp;</p>\n",
    "\n",
    "- ***[scipy.stats](https://docs.scipy.org/doc/scipy/reference/stats.html#module-scipy.stats):*** Este submodulo del paquete científico Scipy es el complemento perfecto para Numpy, las funciones estadisticas que no encontremos en uno, las podemos encontrar en el otro.\n",
    "<p>&nbsp;</p>\n",
    "\n",
    "- ***[statsmodels](https://statsmodels.sourceforge.net/):*** Esta librería nos brinda un gran número de herramientas para explorar datos, estimar modelos estadísticos, realizar pruebas estadísticas y muchas cosas más.\n",
    "<p>&nbsp;</p>\n",
    "\n",
    "- ***[matplotlib](https://matplotlib.org/):*** Es la librería más popular en Python para visualizaciones y gráficos. Ella nos va a permitir realizar los gráficos de las distintas distribuciones de datos.\n",
    "<p>&nbsp;</p>\n",
    "\n",
    "- ***[seaborn](https://stanford.edu/~mwaskom/software/seaborn/):*** Esta librería es un complemento ideal de matplotlib para realizar gráficos estadísticos.\n",
    "<p>&nbsp;</p>\n",
    "\n",
    "- ***[pandas](https://pandas.pydata.org/):*** Esta es la librería más popular para análisis de datos y financieros. Posee algunas funciones muy útiles para realizar estadística descriptiva sobre nuestros datos y nos facilita sobremanera el trabajar con series de tiempo."
   ]
  },
  {
   "cell_type": "markdown",
   "id": "0135e3cc",
   "metadata": {},
   "source": [
    "### Generación de números aleatorios"
   ]
  },
  {
   "cell_type": "markdown",
   "id": "a289c0ee",
   "metadata": {},
   "source": [
    "#### COMING SOON!!!"
   ]
  },
  {
   "cell_type": "markdown",
   "id": "78995f43",
   "metadata": {},
   "source": [
    "## Introducción al Análisis Univariante"
   ]
  },
  {
   "cell_type": "markdown",
   "id": "399935c0",
   "metadata": {},
   "source": [
    "### Definición"
   ]
  },
  {
   "cell_type": "markdown",
   "id": "cc9ea006",
   "metadata": {},
   "source": [
    "El análisis univariante implica examinar una sola variable a la vez para obtener información valiosa sobre su distribución, tendencia central y dispersión."
   ]
  },
  {
   "cell_type": "code",
   "execution_count": null,
   "id": "684f256f",
   "metadata": {},
   "outputs": [],
   "source": []
  }
 ],
 "metadata": {
  "kernelspec": {
   "display_name": "Python 3 (ipykernel)",
   "language": "python",
   "name": "python3"
  },
  "language_info": {
   "codemirror_mode": {
    "name": "ipython",
    "version": 3
   },
   "file_extension": ".py",
   "mimetype": "text/x-python",
   "name": "python",
   "nbconvert_exporter": "python",
   "pygments_lexer": "ipython3",
   "version": "3.11.3"
  },
  "toc": {
   "base_numbering": 1,
   "nav_menu": {},
   "number_sections": true,
   "sideBar": true,
   "skip_h1_title": true,
   "title_cell": "Table of Contents",
   "title_sidebar": "Contents",
   "toc_cell": false,
   "toc_position": {
    "height": "calc(100% - 180px)",
    "left": "10px",
    "top": "150px",
    "width": "165px"
   },
   "toc_section_display": true,
   "toc_window_display": true
  }
 },
 "nbformat": 4,
 "nbformat_minor": 5
}
