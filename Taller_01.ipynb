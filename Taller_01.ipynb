{
 "cells": [
  {
   "cell_type": "markdown",
   "id": "899b1ad4",
   "metadata": {},
   "source": [
    "<h1 align=\"center\">Analítica de datos para la toma de decisiones empresariales</h1>\n",
    "<h1 align=\"center\">Taller 01</h1>\n",
    "<h1 align=\"center\">Centro de Educación Continua</h1>\n",
    "<h1 align=\"center\">EAFIT</h1>\n",
    "<h1 align=\"center\">2023</h1>\n",
    "<h1 align=\"center\">MEDELLÍN - COLOMBIA </h1>"
   ]
  },
  {
   "cell_type": "markdown",
   "id": "ee849f56",
   "metadata": {},
   "source": [
    "*** \n",
    "|![Gmail](https://img.shields.io/badge/Gmail-D14836?style=plastic&logo=gmail&logoColor=white)|<carlosalvarezh@gmail.com>|![Outlook](https://img.shields.io/badge/Microsoft_Outlook-0078D4?style=plastic&logo=microsoft-outlook&logoColor=white)|<calvar52@eafit.edu.co>|\n",
    "|-:|:-|--:|:--|\n",
    "|[![LinkedIn](https://img.shields.io/badge/linkedin-%230077B5.svg?style=plastic&logo=linkedin&logoColor=white)](https://www.linkedin.com/in/carlosalvarez5/)|[![@alvarezhenao](https://img.shields.io/twitter/url/https/twitter.com/alvarezhenao.svg?style=social&label=Follow%20%40alvarezhenao)](https://twitter.com/alvarezhenao)|[![@carlosalvarezh](https://img.shields.io/badge/github-%23121011.svg?style=plastic&logo=github&logoColor=white)](https://github.com/carlosalvarezh)|[![Open In Colab](https://colab.research.google.com/assets/colab-badge.svg)](https://colab.research.google.com/github/carlosalvarezh/Curso_CEC_EAFIT/blob/main/Taller_01.ipynb)|\n",
    "\n",
    "<table>\n",
    " <tr align=left><td><img align=left src=\"https://github.com/carlosalvarezh/Curso_CEC_EAFIT/blob/main/images/CCLogoColorPop1.gif?raw=true\" width=\"25\">\n",
    " <td>Text provided under a Creative Commons Attribution license, CC-BY. All code is made available under the FSF-approved MIT license.(c) Carlos Alberto Alvarez Henao</td>\n",
    "</table>\n",
    "\n",
    "***"
   ]
  },
  {
   "cell_type": "markdown",
   "id": "ee4fdb1b",
   "metadata": {},
   "source": [
    "## Introducción"
   ]
  },
  {
   "cell_type": "markdown",
   "id": "bd6304b4",
   "metadata": {},
   "source": [
    "El siguiente taller tiene como objetivo afianzar los conceptos vistos en las sesiones anteriores del curso.\n",
    "\n",
    "Cada pregunta dispondrá de un espacio (una celda) para que escriba la respuesta. También habrá una celda con la respuesta, que estará 'oculta' y se recomienda solo mirarla para verificar su solución.\n",
    "\n",
    "Puede apoyarse de las notas de clase o búsqueda en la internet, pero se recomienda que lo intente por usted mismo antes de ir a buscar por fuera.\n",
    "\n",
    "El número de estrellas $*$, indica el nivel de dificultad de la pregunta:\n",
    "\n",
    "- $(*) \\rightarrow \\text{\"Fácil\"}$\n",
    "- $(**) \\rightarrow \\text{\"Intermedio\"}$\n",
    "- $(***) \\rightarrow \\text{\"Avanzado\"}$\n",
    "\n",
    "Suba el archivo de respuesta por TEAMS o envíelo al correo electrónico calvar52@eafit.edu.co"
   ]
  },
  {
   "cell_type": "markdown",
   "id": "3ba39ff0",
   "metadata": {},
   "source": [
    "Ponga aquí su nombre completo: "
   ]
  },
  {
   "cell_type": "markdown",
   "id": "91b743e9",
   "metadata": {},
   "source": [
    "## Python"
   ]
  },
  {
   "cell_type": "markdown",
   "id": "ad73083b",
   "metadata": {},
   "source": [
    "<div class=\"alert alert alert-info\">\n",
    "<strong>1.</strong> ¿De las siguientes opciones, cuál es la correcta para imprimir valores por pantalla? (*)\n",
    "    <br></br>\n",
    "    <br>(A) print</br>\n",
    "    <br>(B) Print()</br>\n",
    "    <br>(C) print()</br>\n",
    "    <br>(D) input()</br>\n",
    "</div>"
   ]
  },
  {
   "cell_type": "code",
   "execution_count": null,
   "id": "edc44d04",
   "metadata": {},
   "outputs": [],
   "source": [
    "# Escriba aquí su respuesta\n",
    "C"
   ]
  },
  {
   "cell_type": "markdown",
   "id": "1c67a102",
   "metadata": {},
   "source": [
    "<div class=\"alert alert alert-danger\">\n",
    "Hacer doble click <b>aquí</b> para ver una solución:\n",
    "    \n",
    "<!-- Respuesta:\n",
    "\n",
    "La respuesta correcta es la opción:\n",
    "\n",
    "(C) print()\n",
    "\n",
    "--->\n",
    "</div>"
   ]
  },
  {
   "cell_type": "markdown",
   "id": "130d5061",
   "metadata": {},
   "source": [
    "***"
   ]
  },
  {
   "cell_type": "markdown",
   "id": "9b2e0027",
   "metadata": {},
   "source": [
    "<div class=\"alert alert alert-info\">\n",
    "<strong>2.</strong> ¿De las siguientes opciones, cuál es la correcta para ingresar datos por teclado? (*)\n",
    "    <br></br>\n",
    "    <br>(A) input</br>\n",
    "    <br>(B) Input()</br>\n",
    "    <br>(C) print()</br>\n",
    "    <br>(D) input()</br>\n",
    "</div>"
   ]
  },
  {
   "cell_type": "code",
   "execution_count": null,
   "id": "bb333db1",
   "metadata": {},
   "outputs": [],
   "source": [
    "# Escriba aquí su respuesta\n"
   ]
  },
  {
   "cell_type": "markdown",
   "id": "4b167e40",
   "metadata": {},
   "source": [
    "<div class=\"alert alert alert-danger\">\n",
    "Hacer doble click <b>aquí</b> para ver una solución:\n",
    "    \n",
    "<!-- Respuesta:\n",
    "\n",
    "La respuesta correcta es la opción:\n",
    "\n",
    "(D) input()\n",
    "\n",
    "--->\n",
    "</div>"
   ]
  },
  {
   "cell_type": "markdown",
   "id": "c9d96123",
   "metadata": {},
   "source": [
    "***"
   ]
  },
  {
   "cell_type": "markdown",
   "id": "433b0496",
   "metadata": {},
   "source": [
    "<div class=\"alert alert alert-info\">\n",
    "<strong>3.</strong> Se tienen almacenados dos valores numéricos en las variables: <font face=”Courier”>num1</font> y <font face=”Courier”>num2</font> ¿Cuál de las siguientes opciones es la correcta para realizar la suma entre ellos y cuyo resultado quedará guardado en otra variable? (*)\n",
    "    <br></br>\n",
    "    <br>(A) 3num = 'num1' + 'num2'</br>\n",
    "    <br>(B) num3 == num1 + num2</br>\n",
    "    <br>(C) num3 = num1 + num2</br>\n",
    "    <br>(D) num1 + num2</br>\n",
    "</div>"
   ]
  },
  {
   "cell_type": "code",
   "execution_count": null,
   "id": "50f7d7fd",
   "metadata": {},
   "outputs": [],
   "source": [
    "# Escriba aquí su respuesta\n"
   ]
  },
  {
   "cell_type": "markdown",
   "id": "8d7f0941",
   "metadata": {},
   "source": [
    "<div class=\"alert alert alert-danger\">\n",
    "Hacer doble click <b>aquí</b> para ver una solución:\n",
    "\n",
    "<!-- Respuesta:\n",
    "(C) num3 = num1 + num2\n",
    "--->\n",
    "</div>"
   ]
  },
  {
   "cell_type": "markdown",
   "id": "3bf75637",
   "metadata": {},
   "source": [
    "***"
   ]
  },
  {
   "cell_type": "markdown",
   "id": "2ada8d92",
   "metadata": {},
   "source": [
    "<div class=\"alert alert alert-info\">\n",
    "<strong>4.</strong> ¿Cuál de los siguientes tipos de variables en python, son de tipo numérico? (*)\n",
    "    <br></br>\n",
    "    <br>(A) float, str</br>\n",
    "    <br>(B) complex, number</br>\n",
    "    <br>(C) int, bool</br>\n",
    "    <br>(D) int, float</br>\n",
    "</div>"
   ]
  },
  {
   "cell_type": "code",
   "execution_count": null,
   "id": "518115bd",
   "metadata": {},
   "outputs": [],
   "source": [
    "# Escriba aquí su respuesta\n"
   ]
  },
  {
   "cell_type": "markdown",
   "id": "781fc8b3",
   "metadata": {},
   "source": [
    "<div class=\"alert alert alert-danger\">\n",
    "Hacer doble click <b>aquí</b> para ver una solución:\n",
    "\n",
    "<!-- Respuesta:\n",
    "(D) int, float\n",
    "--->\n",
    "</div>"
   ]
  },
  {
   "cell_type": "markdown",
   "id": "28ede821",
   "metadata": {},
   "source": [
    "***"
   ]
  },
  {
   "cell_type": "markdown",
   "id": "df5bf053",
   "metadata": {},
   "source": [
    "<div class=\"alert alert alert-info\">\n",
    "<strong>5.</strong> Cuál de las siguientes instrucciones crea la lista <font face=”Courier”>frutas</font> con los elementos: manzana, banano, mango y papaya. (*)\n",
    "    <br></br>\n",
    "    <br>(A) frutas = [ manzana, banano, mango y papaya]</br>\n",
    "    <br>(B) frutas = ( \"manzana\", \"banano\" , \"mango\", \"papaya\")</br>\n",
    "    <br>(C) frutas = [ \"manzana\", \"banano\" , \"mango\", \"papaya\"]</br>\n",
    "    <br>(D) frutas = [ manzana, banano , mango, papaya]</br>    \n",
    "</div>"
   ]
  },
  {
   "cell_type": "code",
   "execution_count": null,
   "id": "598b1457",
   "metadata": {},
   "outputs": [],
   "source": [
    "# Escriba aquí su respuesta\n"
   ]
  },
  {
   "cell_type": "markdown",
   "id": "e2b3f58a",
   "metadata": {},
   "source": [
    "<div class=\"alert alert alert-danger\">\n",
    "Hacer doble click <b>aquí</b> para ver una solución:\n",
    "\n",
    "<!-- Respuesta:\n",
    "(C) frutas = [ \"manzana\", \"banano\" , \"mango\", \"papaya\"]\n",
    "--->\n",
    "</div>"
   ]
  },
  {
   "cell_type": "markdown",
   "id": "9dcf619f",
   "metadata": {},
   "source": [
    "***"
   ]
  },
  {
   "cell_type": "markdown",
   "id": "107bdbd0",
   "metadata": {},
   "source": [
    "<div class=\"alert alert alert-info\">\n",
    "<strong>6.</strong> ¿Cuál es la instrucción para acceder al segundo elemento de la lista <font face=”Courier”>frutas</font>?(**)\n",
    "    <br></br>\n",
    "    <br>(A) frutas[2]</br>\n",
    "    <br>(B) frutas('mango')</br>\n",
    "    <br>(C) frutas[1]</br>\n",
    "    <br>(D) frutas(banano)</br>    \n",
    "</div>"
   ]
  },
  {
   "cell_type": "code",
   "execution_count": null,
   "id": "132c82ab",
   "metadata": {},
   "outputs": [],
   "source": [
    "# Escriba aquí su respuesta\n"
   ]
  },
  {
   "cell_type": "markdown",
   "id": "a50ca3e0",
   "metadata": {},
   "source": [
    "<div class=\"alert alert alert-danger\">\n",
    "Hacer doble click <b>aquí</b> para ver la solución:\n",
    "\n",
    "<!-- Respuesta:\n",
    "(C) frutas[1]. Recuerde que se pide el segundo elemento, es decir, el que está en la posición 1, porque se empieza en cero (0).\n",
    "--->\n",
    "</div>"
   ]
  },
  {
   "cell_type": "markdown",
   "id": "f808a75c",
   "metadata": {},
   "source": [
    "***"
   ]
  },
  {
   "cell_type": "markdown",
   "id": "b6b5e85c",
   "metadata": {},
   "source": [
    "<div class=\"alert alert alert-info\">\n",
    "<strong>7.</strong> Dada la lista <font face=”Courier”>numeros = [1,2,3,4]</font> ¿Cuáles de los siguientes métodos modifica la lista a: <font face=”Courier”>[1,2,3,4,5]</font> y <font face=”Courier”>[1,2,0,3,4]</font> ? (**)\n",
    "    <br></br>\n",
    "    <br>(A) lista.append(5), lista.insert(2,0)</br>    \n",
    "    <br>(B) numeros.append(4,5), numeros.insert(2,0)</br>\n",
    "    <br>(C) numeros.append(5), numeros.insert(2,0)</br>\n",
    "    <br>(D) append(5), insert(0)</br>\n",
    "</div>"
   ]
  },
  {
   "cell_type": "code",
   "execution_count": null,
   "id": "e9b82f42",
   "metadata": {},
   "outputs": [],
   "source": [
    "# Escriba aquí su respuesta\n"
   ]
  },
  {
   "cell_type": "markdown",
   "id": "e90e6100",
   "metadata": {},
   "source": [
    "<div class=\"alert alert alert-danger\">\n",
    "Hacer doble click <b>aquí</b> para ver la solución:\n",
    "\n",
    "<!-- Respuesta:\n",
    "(C) numeros.append(5), numeros.insert(2,0)\n",
    "--->\n",
    "</div>"
   ]
  },
  {
   "cell_type": "markdown",
   "id": "882fdfd2",
   "metadata": {},
   "source": [
    "***"
   ]
  },
  {
   "cell_type": "markdown",
   "id": "def0e610",
   "metadata": {},
   "source": [
    "<div class=\"alert alert alert-info\">\n",
    "<strong>8.</strong> Escribe un ciclo <font face=”Courier”>for</font> y un ciclo <font face=”Courier”>while</font> que recorra la lista de números: <font face=”Courier”>lista=[1,2,3,4]</font> e imprima cada elemento de la lista multiplicado por 2. (***)\n",
    "</div>"
   ]
  },
  {
   "cell_type": "code",
   "execution_count": null,
   "id": "c609848a",
   "metadata": {},
   "outputs": [],
   "source": [
    "# Escriba aquí su respuesta para el ciclo for\n"
   ]
  },
  {
   "cell_type": "code",
   "execution_count": null,
   "id": "0a996c1a",
   "metadata": {},
   "outputs": [],
   "source": [
    "# Escriba aquí su respuesta para el ciclo while\n"
   ]
  },
  {
   "cell_type": "markdown",
   "id": "94c46355",
   "metadata": {},
   "source": [
    "<div class=\"alert alert alert-danger\">\n",
    "Hacer doble click <b>aquí</b> para ver la solución:\n",
    "\n",
    "<!-- Respuesta:\n",
    "\n",
    "- ciclo for\n",
    "\n",
    "lista = [1,2,3,4]\n",
    "\n",
    "for i in range(len(lista)):\n",
    "    a = lista[i] * 2\n",
    "    print(a)\n",
    "\n",
    "\n",
    "- ciclo while\n",
    "\n",
    "lista = [1,2,3,4]\n",
    "i = 0\n",
    "\n",
    "while i < len(lista):\n",
    "    a = lista[i] * 2\n",
    "    i += 1\n",
    "    print(a)\n",
    "--->\n",
    "</div>"
   ]
  },
  {
   "cell_type": "markdown",
   "id": "a20020a4",
   "metadata": {},
   "source": [
    "***"
   ]
  },
  {
   "cell_type": "markdown",
   "id": "562c3c47",
   "metadata": {},
   "source": [
    "<div class=\"alert alert alert-info\">\n",
    "<strong>9.</strong> Dada la lista <font face=”Courier”>numeros = [1,2,3,4]</font>. ¿Cuál de las siguientes opciones, empleando slicing, invierta su orden a <font face=”Courier”>[4,3,2,1]</font>? (**)\n",
    "    <br></br>\n",
    "    <br>(A) numeros[4:1:-1]</br>    \n",
    "    <br>(B) numeros[::-1]</br>\n",
    "    <br>(C) numeros[4:-1]</br>\n",
    "    <br>(D) numeros[:-1]</br>\n",
    "</div>"
   ]
  },
  {
   "cell_type": "code",
   "execution_count": null,
   "id": "a9e8260b",
   "metadata": {},
   "outputs": [],
   "source": [
    "# Escriba aquí su respuesta\n"
   ]
  },
  {
   "cell_type": "markdown",
   "id": "5cf976a5",
   "metadata": {},
   "source": [
    "<div class=\"alert alert alert-danger\">\n",
    "Hacer doble click <b>aquí</b> para ver la solución:\n",
    "\n",
    "<!-- Respuesta:\n",
    "(B) numeros[::-1]\n",
    "--->\n",
    "</div>"
   ]
  },
  {
   "cell_type": "markdown",
   "id": "252e1e66",
   "metadata": {},
   "source": [
    "***"
   ]
  },
  {
   "cell_type": "markdown",
   "id": "707cff5b",
   "metadata": {},
   "source": [
    "<div class=\"alert alert alert-info\">\n",
    "<strong>10.</strong> ¿Qué hace el operador <font face=”Courier”>+</font> cuando se aplica a dos cadenas de texto? (*)\n",
    "    <br></br>\n",
    "    <br>(A) Suma el valor de cada una de las letras</br>    \n",
    "    <br>(B) Produce un error de sintaxis, porque cadenas de texto no se pueden sumar</br>\n",
    "    <br>(C) Concatena las dos cadenas de texto formando una única cadena de texto</br>\n",
    "    <br>(D) Ninguna de las anteriores</br>\n",
    "</div>"
   ]
  },
  {
   "cell_type": "code",
   "execution_count": null,
   "id": "3ad5e335",
   "metadata": {},
   "outputs": [],
   "source": [
    "# Escriba aquí su respuesta\n"
   ]
  },
  {
   "cell_type": "markdown",
   "id": "23247dbd",
   "metadata": {},
   "source": [
    "<div class=\"alert alert alert-danger\">\n",
    "Hacer doble click <b>aquí</b> para ver la solución:\n",
    "\n",
    "<!-- Respuesta:\n",
    "(C) Concatena las dos cadenas de texto formando una única cadena de texto.\n",
    "--->\n",
    "</div>"
   ]
  },
  {
   "cell_type": "markdown",
   "id": "0fbe6ffd",
   "metadata": {},
   "source": [
    "***"
   ]
  },
  {
   "cell_type": "markdown",
   "id": "578e3b3b",
   "metadata": {},
   "source": [
    "## Ecosistema Python: Numpy, Matplotlib y Pandas"
   ]
  },
  {
   "cell_type": "markdown",
   "id": "47663b07",
   "metadata": {},
   "source": [
    "<div class=\"alert alert alert-info\">\n",
    "<strong>11.</strong> ¿Qué hace la biblioteca Numpy en Python? (*)\n",
    "    <br></br>\n",
    "    <br>(A) Manejo de gráficos y visualización</br>    \n",
    "    <br>(B) Manipulación de matrices y operaciones numéricas eficientes</br>\n",
    "    <br>(C) Análisis de texto y procesamiento de lenguaje natural</br>\n",
    "    <br>(D) Gestión de bases de datos y consultas SQL</br>\n",
    "</div>"
   ]
  },
  {
   "cell_type": "code",
   "execution_count": null,
   "id": "e1093fa8",
   "metadata": {},
   "outputs": [],
   "source": [
    "# Escriba aquí su respuesta\n"
   ]
  },
  {
   "cell_type": "markdown",
   "id": "3181604b",
   "metadata": {},
   "source": [
    "<div class=\"alert alert alert-danger\">\n",
    "Hacer doble click <b>aquí</b> para ver la solución:\n",
    "\n",
    "<!-- Respuesta:\n",
    "(B) Manipulación de matrices y operaciones numéricas eficientes.\n",
    "--->\n",
    "</div>"
   ]
  },
  {
   "cell_type": "markdown",
   "id": "f1c7e52c",
   "metadata": {},
   "source": [
    "***"
   ]
  },
  {
   "cell_type": "markdown",
   "id": "c1153dc1",
   "metadata": {},
   "source": [
    "<div class=\"alert alert alert-info\">\n",
    "<strong>12.</strong> ¿Cuál es el objeto principal en Numpy utilizado para almacenar datos multidimensionales? (*)\n",
    "    <br></br>\n",
    "    <br>(A) Listas</br>    \n",
    "    <br>(B) Diccionarios</br>\n",
    "    <br>(C) Arrays</br>\n",
    "    <br>(D) Tuplas</br>\n",
    "</div>"
   ]
  },
  {
   "cell_type": "code",
   "execution_count": null,
   "id": "17ef4b27",
   "metadata": {},
   "outputs": [],
   "source": [
    "# Escriba aquí su respuesta\n"
   ]
  },
  {
   "cell_type": "markdown",
   "id": "e8af3875",
   "metadata": {},
   "source": [
    "<div class=\"alert alert alert-danger\">\n",
    "Hacer doble click <b>aquí</b> para ver la solución:\n",
    "\n",
    "<!-- Respuesta:\n",
    "(C) Arrays.\n",
    "--->\n",
    "</div>"
   ]
  },
  {
   "cell_type": "markdown",
   "id": "d29c6ba8",
   "metadata": {},
   "source": [
    "***"
   ]
  },
  {
   "cell_type": "markdown",
   "id": "99b4139d",
   "metadata": {},
   "source": [
    "<div class=\"alert alert alert-info\">\n",
    "<strong>13.</strong> ¿Qué función de Numpy se utiliza para crear un arreglo de números enteros en un rango específico? (**)\n",
    "    <br></br>\n",
    "    <br>(A) array()</br>    \n",
    "    <br>(B) range()</br>\n",
    "    <br>(C) arange()</br>\n",
    "    <br>(D) create_array()</br>\n",
    "</div>"
   ]
  },
  {
   "cell_type": "code",
   "execution_count": null,
   "id": "721a4cda",
   "metadata": {},
   "outputs": [],
   "source": [
    "# Escriba aquí su respuesta\n"
   ]
  },
  {
   "cell_type": "markdown",
   "id": "202762b7",
   "metadata": {},
   "source": [
    "<div class=\"alert alert alert-danger\">\n",
    "Hacer doble click <b>aquí</b> para ver la solución:\n",
    "\n",
    "<!-- Respuesta:\n",
    "(C) arange()\n",
    "--->\n",
    "</div>"
   ]
  },
  {
   "cell_type": "markdown",
   "id": "5195f21a",
   "metadata": {},
   "source": [
    "***"
   ]
  },
  {
   "cell_type": "markdown",
   "id": "e1ada88a",
   "metadata": {},
   "source": [
    "<div class=\"alert alert alert-info\">\n",
    "<strong>14.</strong> ¿Cuál es la ventaja de usar arreglos de Numpy en comparación con las listas de Python para cálculos numéricos? (**)\n",
    "    <br></br>\n",
    "    <br>(A) Los arreglos Numpy no pueden contener números enteros.</br>    \n",
    "    <br>(B) Los arreglos Numpy son entidades matemáticas y son más eficientes en términos de memoria y rendimiento.</br>\n",
    "    <br>(C) Los arreglos Numpy no pueden ser multidimensionales.</br>\n",
    "    <br>(D) Los arreglos Numpy solo pueden contener valores decimales.</br>\n",
    "</div>"
   ]
  },
  {
   "cell_type": "code",
   "execution_count": null,
   "id": "58ad1ca8",
   "metadata": {},
   "outputs": [],
   "source": [
    "# Escriba aquí su respuesta\n"
   ]
  },
  {
   "cell_type": "markdown",
   "id": "5585e082",
   "metadata": {},
   "source": [
    "<div class=\"alert alert alert-danger\">\n",
    "Hacer doble click <b>aquí</b> para ver la solución:\n",
    "\n",
    "<!-- Respuesta:\n",
    "(B) Los arreglos Numpy son entidades matemáticas y son más eficientes en términos de memoria y rendimiento.\n",
    "--->\n",
    "</div>"
   ]
  },
  {
   "cell_type": "markdown",
   "id": "4a762687",
   "metadata": {},
   "source": [
    "***"
   ]
  },
  {
   "cell_type": "markdown",
   "id": "0e17c7ac",
   "metadata": {},
   "source": [
    "<div class=\"alert alert alert-info\">\n",
    "<strong>15.</strong> ¿Qué función de Numpy se utiliza para calcular la media de un arreglo? (*)\n",
    "    <br></br>\n",
    "    <br>(A) mean()</br>    \n",
    "    <br>(B) average()</br>\n",
    "    <br>(C) median()</br>\n",
    "    <br>(D) mode()</br>\n",
    "</div>"
   ]
  },
  {
   "cell_type": "code",
   "execution_count": null,
   "id": "72f3bc93",
   "metadata": {},
   "outputs": [],
   "source": [
    "# Escriba aquí su respuesta\n"
   ]
  },
  {
   "cell_type": "markdown",
   "id": "8e64fb5a",
   "metadata": {},
   "source": [
    "<div class=\"alert alert alert-danger\">\n",
    "Hacer doble click <b>aquí</b> para ver la solución:\n",
    "\n",
    "<!-- Respuesta:\n",
    "(A) mean()\n",
    "--->\n",
    "</div>"
   ]
  },
  {
   "cell_type": "markdown",
   "id": "37a16457",
   "metadata": {},
   "source": [
    "***"
   ]
  },
  {
   "cell_type": "markdown",
   "id": "100475fa",
   "metadata": {},
   "source": [
    "<div class=\"alert alert alert-info\">\n",
    "<strong>16.</strong> ¿Qué ofrece la biblioteca Matplotlib en Python? (*)\n",
    "    <br></br>\n",
    "    <br>(A) Funciones matemáticas avanzadas</br>    \n",
    "    <br>(B) Herramientas para el análisis de datos tabulares</br>\n",
    "    <br>(C) Capacidades de visualización y creación de gráficos</br>\n",
    "    <br>(D) Interacción con bases de datos SQL</br>\n",
    "</div>"
   ]
  },
  {
   "cell_type": "code",
   "execution_count": null,
   "id": "c99200a6",
   "metadata": {},
   "outputs": [],
   "source": [
    "# Escriba aquí su respuesta\n"
   ]
  },
  {
   "cell_type": "markdown",
   "id": "16c71211",
   "metadata": {},
   "source": [
    "<div class=\"alert alert alert-danger\">\n",
    "Hacer doble click <b>aquí</b> para ver la solución:\n",
    "\n",
    "<!-- Respuesta:\n",
    "(C) Capacidades de visualización y creación de gráficos\n",
    "--->\n",
    "</div>"
   ]
  },
  {
   "cell_type": "markdown",
   "id": "c3a6fa10",
   "metadata": {},
   "source": [
    "***"
   ]
  },
  {
   "cell_type": "markdown",
   "id": "3369792d",
   "metadata": {},
   "source": [
    "<div class=\"alert alert alert-info\">\n",
    "<strong>17.</strong> ¿Qué método de Matplotlib se utiliza para etiquetar los ejes X e Y de un gráfico? (**)\n",
    "    <br></br>\n",
    "    <br>(A) label_axes()</br>    \n",
    "    <br>(B) set_labels()</br>\n",
    "    <br>(C) set_axes()</br>\n",
    "    <br>(D) xlabel() y ylabel()</br>\n",
    "</div>"
   ]
  },
  {
   "cell_type": "code",
   "execution_count": null,
   "id": "21180401",
   "metadata": {},
   "outputs": [],
   "source": [
    "# Escriba aquí su respuesta\n"
   ]
  },
  {
   "cell_type": "markdown",
   "id": "e6b87bb5",
   "metadata": {},
   "source": [
    "<div class=\"alert alert alert-danger\">\n",
    "Hacer doble click <b>aquí</b> para ver la solución:\n",
    "\n",
    "<!-- Respuesta:\n",
    "(D) xlabel() y ylabel()\n",
    "--->\n",
    "</div>"
   ]
  },
  {
   "cell_type": "markdown",
   "id": "2b2c45df",
   "metadata": {},
   "source": [
    "***"
   ]
  },
  {
   "cell_type": "markdown",
   "id": "78218f14",
   "metadata": {},
   "source": [
    "<div class=\"alert alert alert-info\">\n",
    "<strong>18.</strong> ¿Qué estructura de datos proporciona Pandas para el análisis tabular de datos? (*)\n",
    "    <br></br>\n",
    "    <br>(A) Arrays</br>    \n",
    "    <br>(B) Diccionarios</br>\n",
    "    <br>(C) Series y DataFrames</br>\n",
    "    <br>(D) Listas</br>\n",
    "</div>"
   ]
  },
  {
   "cell_type": "code",
   "execution_count": null,
   "id": "4f4381af",
   "metadata": {},
   "outputs": [],
   "source": [
    "# Escriba aquí su respuesta\n"
   ]
  },
  {
   "cell_type": "markdown",
   "id": "d79ea521",
   "metadata": {},
   "source": [
    "<div class=\"alert alert alert-danger\">\n",
    "Hacer doble click <b>aquí</b> para ver la solución:\n",
    "\n",
    "<!-- Respuesta:\n",
    "(C) Series y DataFrames\n",
    "--->\n",
    "</div>"
   ]
  },
  {
   "cell_type": "markdown",
   "id": "28195ad0",
   "metadata": {},
   "source": [
    "***"
   ]
  },
  {
   "cell_type": "markdown",
   "id": "8770e3ca",
   "metadata": {},
   "source": [
    "<div class=\"alert alert alert-info\">\n",
    "<strong>19.</strong> ¿Cuál es la función de df.describe() en Pandas? (*)\n",
    "    <br></br>\n",
    "    <br>(A) Muestra una descripción general de las funciones disponibles en el DataFrame.</br>    \n",
    "    <br>(B) Calcula estadísticas descriptivas de las columnas numéricas en el DataFrame.</br>\n",
    "    <br>(C) Describe las relaciones entre diferentes DataFrames.</br>\n",
    "    <br>(D) Realiza una clasificación de los valores en el DataFrame.</br>\n",
    "</div>"
   ]
  },
  {
   "cell_type": "code",
   "execution_count": null,
   "id": "2e18e3b2",
   "metadata": {},
   "outputs": [],
   "source": [
    "# Escriba aquí su respuesta\n"
   ]
  },
  {
   "cell_type": "markdown",
   "id": "48f88638",
   "metadata": {},
   "source": [
    "<div class=\"alert alert alert-danger\">\n",
    "Hacer doble click <b>aquí</b> para ver la solución:\n",
    "\n",
    "<!-- Respuesta:\n",
    "(B) Calcula estadísticas descriptivas de las columnas numéricas en el DataFrame.\n",
    "--->\n",
    "</div>"
   ]
  },
  {
   "cell_type": "markdown",
   "id": "7f3aabea",
   "metadata": {},
   "source": [
    "***"
   ]
  },
  {
   "cell_type": "markdown",
   "id": "a1b33b8d",
   "metadata": {},
   "source": [
    "<div class=\"alert alert alert-info\">\n",
    "<strong>20.</strong> ¿Qué método se utiliza para cargar datos desde un archivo de texto en un DataFrame de Pandas? (*)\n",
    "    <br></br>\n",
    "    <br>(A) read_csv()</br>    \n",
    "    <br>(B) load_data()</br>\n",
    "    <br>(C) import_csv()</br>\n",
    "    <br>(D) read_file()</br>\n",
    "</div>"
   ]
  },
  {
   "cell_type": "code",
   "execution_count": null,
   "id": "a83eb403",
   "metadata": {},
   "outputs": [],
   "source": [
    "# Escriba aquí su respuesta\n"
   ]
  },
  {
   "cell_type": "markdown",
   "id": "64a1ea49",
   "metadata": {},
   "source": [
    "<div class=\"alert alert alert-danger\">\n",
    "Hacer doble click <b>aquí</b> para ver la solución:\n",
    "\n",
    "<!-- Respuesta:\n",
    "(A) read_csv()\n",
    "--->\n",
    "</div>"
   ]
  },
  {
   "cell_type": "markdown",
   "id": "8bfa139a",
   "metadata": {},
   "source": [
    "***"
   ]
  },
  {
   "cell_type": "markdown",
   "id": "a45c82c4",
   "metadata": {},
   "source": [
    "## Estadística Univariante"
   ]
  },
  {
   "cell_type": "markdown",
   "id": "94a12cc3",
   "metadata": {},
   "source": [
    "<div class=\"alert alert alert-info\">\n",
    "<strong>21.</strong> ¿Qué medida de tendencia central es menos sensible a valores extremos en un conjunto de datos? (*)\n",
    "    <br></br>\n",
    "    <br>(A) Media aritmética</br>    \n",
    "    <br>(B) Mediana</br>\n",
    "    <br>(C) Moda</br>\n",
    "    <br>(D) Rango</br>\n",
    "</div>"
   ]
  },
  {
   "cell_type": "code",
   "execution_count": null,
   "id": "92fde5d7",
   "metadata": {},
   "outputs": [],
   "source": [
    "# Escriba aquí su respuesta\n"
   ]
  },
  {
   "cell_type": "markdown",
   "id": "6dc7f0a7",
   "metadata": {},
   "source": [
    "<div class=\"alert alert alert-danger\">\n",
    "Hacer doble click <b>aquí</b> para ver la solución:\n",
    "\n",
    "<!-- Respuesta:\n",
    "(B) Mediana\n",
    "--->\n",
    "</div>"
   ]
  },
  {
   "cell_type": "markdown",
   "id": "c296b601",
   "metadata": {},
   "source": [
    "***"
   ]
  },
  {
   "cell_type": "markdown",
   "id": "467bbe8e",
   "metadata": {},
   "source": [
    "<div class=\"alert alert alert-info\">\n",
    "<strong>22.</strong> Si en un conjunto de datos hay valores extremadamente altos, ¿cuál medida de tendencia central se verá más afectada? (**)\n",
    "    <br></br>\n",
    "    <br>(A) Media aritmética</br>    \n",
    "    <br>(B) Mediana</br>\n",
    "    <br>(C) Moda</br>\n",
    "    <br>(D) Varianza</br>\n",
    "</div>"
   ]
  },
  {
   "cell_type": "code",
   "execution_count": null,
   "id": "3db4ca84",
   "metadata": {},
   "outputs": [],
   "source": [
    "# Escriba aquí su respuesta\n"
   ]
  },
  {
   "cell_type": "markdown",
   "id": "3a9a5fb2",
   "metadata": {},
   "source": [
    "<div class=\"alert alert alert-danger\">\n",
    "Hacer doble click <b>aquí</b> para ver la solución:\n",
    "\n",
    "<!-- Respuesta:\n",
    "(A) Media aritmética\n",
    "--->\n",
    "</div>"
   ]
  },
  {
   "cell_type": "markdown",
   "id": "81b36cb8",
   "metadata": {},
   "source": [
    "***"
   ]
  },
  {
   "cell_type": "markdown",
   "id": "29019337",
   "metadata": {},
   "source": [
    "<div class=\"alert alert alert-info\">\n",
    "<strong>23.</strong> ¿Cuál medida de tendencia central es la que se calcula sumando todos los valores y dividiendo entre el número total de valores? (**)\n",
    "    <br></br>\n",
    "    <br>(A) Mediana</br>    \n",
    "    <br>(B) Moda</br>\n",
    "    <br>(C) Media aritmética</br>\n",
    "    <br>(D) Varianza</br>\n",
    "</div>"
   ]
  },
  {
   "cell_type": "code",
   "execution_count": null,
   "id": "60226945",
   "metadata": {},
   "outputs": [],
   "source": [
    "# Escriba aquí su respuesta\n"
   ]
  },
  {
   "cell_type": "markdown",
   "id": "08441a10",
   "metadata": {},
   "source": [
    "<div class=\"alert alert alert-danger\">\n",
    "Hacer doble click <b>aquí</b> para ver la solución:\n",
    "\n",
    "<!-- Respuesta:\n",
    "(C) Media aritmética\n",
    "--->\n",
    "</div>"
   ]
  },
  {
   "cell_type": "markdown",
   "id": "8016d6d6",
   "metadata": {},
   "source": [
    "***"
   ]
  },
  {
   "cell_type": "markdown",
   "id": "3049e53e",
   "metadata": {},
   "source": [
    "<div class=\"alert alert alert-info\">\n",
    "<strong>24.</strong> En un conjunto de datos con múltiples modas, ¿cómo se describe su distribución? (**)\n",
    "    <br></br>\n",
    "    <br>(A) Uniforme</br>    \n",
    "    <br>(B) Asimétrica positiva</br>\n",
    "    <br>(C) Asimétrica negativa</br>\n",
    "    <br>(D) Bimodal</br>\n",
    "</div>"
   ]
  },
  {
   "cell_type": "code",
   "execution_count": null,
   "id": "9126535d",
   "metadata": {},
   "outputs": [],
   "source": [
    "# Escriba aquí su respuesta\n"
   ]
  },
  {
   "cell_type": "markdown",
   "id": "6ee99a17",
   "metadata": {},
   "source": [
    "<div class=\"alert alert alert-danger\">\n",
    "Hacer doble click <b>aquí</b> para ver la solución:\n",
    "\n",
    "<!-- Respuesta:\n",
    "(D) Bimodal\n",
    "--->\n",
    "</div>"
   ]
  },
  {
   "cell_type": "markdown",
   "id": "177f6110",
   "metadata": {},
   "source": [
    "***"
   ]
  },
  {
   "cell_type": "markdown",
   "id": "71fa10fc",
   "metadata": {},
   "source": [
    "<div class=\"alert alert alert-info\">\n",
    "<strong>25.</strong> ¿Cuál de las siguientes medidas de tendencia central puede aplicarse a datos cualitativos o categóricos? (**)\n",
    "    <br></br>\n",
    "    <br>(A) Media aritmética</br>    \n",
    "    <br>(B) Mediana</br>\n",
    "    <br>(C) Moda</br>\n",
    "    <br>(D) Varianza</br>\n",
    "</div>"
   ]
  },
  {
   "cell_type": "code",
   "execution_count": null,
   "id": "eb7812e1",
   "metadata": {},
   "outputs": [],
   "source": [
    "# Escriba aquí su respuesta\n"
   ]
  },
  {
   "cell_type": "markdown",
   "id": "6e611e2f",
   "metadata": {},
   "source": [
    "<div class=\"alert alert alert-danger\">\n",
    "Hacer doble click <b>aquí</b> para ver la solución:\n",
    "\n",
    "<!-- Respuesta:\n",
    "(C) Moda\n",
    "--->\n",
    "</div>"
   ]
  },
  {
   "cell_type": "markdown",
   "id": "7ffe95d5",
   "metadata": {},
   "source": [
    "***"
   ]
  },
  {
   "cell_type": "markdown",
   "id": "9f7f7d6e",
   "metadata": {},
   "source": [
    "<div class=\"alert alert alert-info\">\n",
    "<strong>26.</strong> ¿Cuál de las siguientes medidas de dispersión es más susceptible a valores extremos en un conjunto de datos? (**)\n",
    "    <br></br>\n",
    "    <br>(A) Rango intercuartil</br>    \n",
    "    <br>(B) Varianza</br>\n",
    "    <br>(C) Desviación estándar</br>\n",
    "    <br>(D) Rango</br>\n",
    "</div>"
   ]
  },
  {
   "cell_type": "code",
   "execution_count": null,
   "id": "1a56d404",
   "metadata": {},
   "outputs": [],
   "source": [
    "# Escriba aquí su respuesta\n"
   ]
  },
  {
   "cell_type": "markdown",
   "id": "047b3b34",
   "metadata": {},
   "source": [
    "<div class=\"alert alert alert-danger\">\n",
    "Hacer doble click <b>aquí</b> para ver la solución:\n",
    "\n",
    "<!-- Respuesta:\n",
    "(B) Varianza\n",
    "--->\n",
    "</div>"
   ]
  },
  {
   "cell_type": "markdown",
   "id": "e7b7e686",
   "metadata": {},
   "source": [
    "***"
   ]
  },
  {
   "cell_type": "markdown",
   "id": "d93c46a9",
   "metadata": {},
   "source": [
    "<div class=\"alert alert alert-info\">\n",
    "<strong>27.</strong> ¿Qué indicador de dispersión se calcula restando el tercer cuartil del primer cuartil en un conjunto de datos? (**)\n",
    "    <br></br>\n",
    "    <br>(A) Rango</br>    \n",
    "    <br>(B) Varianza</br>\n",
    "    <br>(C) Desviación estándar</br>\n",
    "    <br>(D) Rango intercuartil</br>\n",
    "</div>"
   ]
  },
  {
   "cell_type": "code",
   "execution_count": null,
   "id": "7dec4bc7",
   "metadata": {},
   "outputs": [],
   "source": [
    "# Escriba aquí su respuesta\n"
   ]
  },
  {
   "cell_type": "markdown",
   "id": "0749ed6b",
   "metadata": {},
   "source": [
    "<div class=\"alert alert alert-danger\">\n",
    "Hacer doble click <b>aquí</b> para ver la solución:\n",
    "\n",
    "<!-- Respuesta:\n",
    "(D) Rango intercuartil\n",
    "--->\n",
    "</div>"
   ]
  },
  {
   "cell_type": "markdown",
   "id": "afee5120",
   "metadata": {},
   "source": [
    "***"
   ]
  },
  {
   "cell_type": "markdown",
   "id": "454fd1be",
   "metadata": {},
   "source": [
    "<div class=\"alert alert alert-info\">\n",
    "<strong>28.</strong> ¿Cuál de los siguientes indicadores de forma es un valor negativo si la distribución está sesgada hacia la izquierda (asimétrica negativa)? (**)\n",
    "    <br></br>\n",
    "    <br>(A) Skewness</br>    \n",
    "    <br>(B) Kurtosis</br>\n",
    "    <br>(C) Desviación estándar</br>\n",
    "    <br>(D) Rango intercuartil</br>\n",
    "</div>"
   ]
  },
  {
   "cell_type": "code",
   "execution_count": null,
   "id": "5f2bb80a",
   "metadata": {},
   "outputs": [],
   "source": [
    "# Escriba aquí su respuesta\n"
   ]
  },
  {
   "cell_type": "markdown",
   "id": "27ce3c18",
   "metadata": {},
   "source": [
    "<div class=\"alert alert alert-danger\">\n",
    "Hacer doble click <b>aquí</b> para ver la solución:\n",
    "\n",
    "<!-- Respuesta:\n",
    "(A) Skewness\n",
    "--->\n",
    "</div>"
   ]
  },
  {
   "cell_type": "markdown",
   "id": "1773d9ff",
   "metadata": {},
   "source": [
    "***"
   ]
  },
  {
   "cell_type": "markdown",
   "id": "0da8146d",
   "metadata": {},
   "source": [
    "<div class=\"alert alert alert-info\">\n",
    "<strong>29.</strong> ¿Qué indicador de forma mide la concentración de valores alrededor de la media en una distribución? (**)\n",
    "    <br></br>\n",
    "    <br>(A) Skewness</br>    \n",
    "    <br>(B) Kurtosis</br>\n",
    "    <br>(C) Desviación estándar</br>\n",
    "    <br>(D) Rango intercuartil</br>\n",
    "</div>"
   ]
  },
  {
   "cell_type": "code",
   "execution_count": null,
   "id": "2233316b",
   "metadata": {},
   "outputs": [],
   "source": [
    "# Escriba aquí su respuesta\n"
   ]
  },
  {
   "cell_type": "markdown",
   "id": "82de5933",
   "metadata": {},
   "source": [
    "<div class=\"alert alert alert-danger\">\n",
    "Hacer doble click <b>aquí</b> para ver la solución:\n",
    "\n",
    "<!-- Respuesta:\n",
    "(B) Kurtosis\n",
    "--->\n",
    "</div>"
   ]
  },
  {
   "cell_type": "markdown",
   "id": "064fb117",
   "metadata": {},
   "source": [
    "***"
   ]
  },
  {
   "cell_type": "markdown",
   "id": "4d2bbc59",
   "metadata": {},
   "source": [
    "<div class=\"alert alert alert-info\">\n",
    "<strong>30.</strong> Si el coeficiente de Kurtosis es mayor que 3, ¿cómo se describe la distribución de datos? (**)\n",
    "    <br></br>\n",
    "    <br>(A) Platicúrtica (achatada)</br>    \n",
    "    <br>(B) Leptocúrtica (puntiaguda)</br>\n",
    "    <br>(C) Mesocúrtica (normal)</br>\n",
    "    <br>(D) No se puede determinar</br>\n",
    "</div>"
   ]
  },
  {
   "cell_type": "code",
   "execution_count": null,
   "id": "e1c2f05e",
   "metadata": {},
   "outputs": [],
   "source": [
    "# Escriba aquí su respuesta\n"
   ]
  },
  {
   "cell_type": "markdown",
   "id": "85d97acd",
   "metadata": {},
   "source": [
    "<div class=\"alert alert alert-danger\">\n",
    "Hacer doble click <b>aquí</b> para ver la solución:\n",
    "\n",
    "<!-- Respuesta:\n",
    "(B) Leptocúrtica (puntiaguda)\n",
    "--->\n",
    "</div>"
   ]
  },
  {
   "cell_type": "markdown",
   "id": "2bdce459",
   "metadata": {},
   "source": [
    "***"
   ]
  }
 ],
 "metadata": {
  "kernelspec": {
   "display_name": "Python 3 (ipykernel)",
   "language": "python",
   "name": "python3"
  },
  "language_info": {
   "codemirror_mode": {
    "name": "ipython",
    "version": 3
   },
   "file_extension": ".py",
   "mimetype": "text/x-python",
   "name": "python",
   "nbconvert_exporter": "python",
   "pygments_lexer": "ipython3",
   "version": "3.11.3"
  },
  "toc": {
   "base_numbering": 1,
   "nav_menu": {},
   "number_sections": true,
   "sideBar": true,
   "skip_h1_title": true,
   "title_cell": "Table of Contents",
   "title_sidebar": "Contents",
   "toc_cell": false,
   "toc_position": {
    "height": "calc(100% - 180px)",
    "left": "10px",
    "top": "150px",
    "width": "165px"
   },
   "toc_section_display": true,
   "toc_window_display": false
  }
 },
 "nbformat": 4,
 "nbformat_minor": 5
}
