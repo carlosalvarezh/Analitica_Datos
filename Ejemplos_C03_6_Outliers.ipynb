{
 "cells": [
  {
   "cell_type": "markdown",
   "id": "0d339aa5",
   "metadata": {},
   "source": [
    "<h1 align=\"center\">Analítica de datos para la toma de decisiones empresariales</h1>\n",
    "<h1 align=\"center\">Ejemplo: Identificación de datos raros (outliers)</h1>\n",
    "<h1 align=\"center\">Centro de Educación Continua</h1>\n",
    "<h1 align=\"center\">EAFIT</h1>\n",
    "<h1 align=\"center\">2023</h1>\n",
    "<h1 align=\"center\">MEDELLÍN - COLOMBIA </h1>"
   ]
  },
  {
   "cell_type": "markdown",
   "id": "f5997040",
   "metadata": {},
   "source": [
    "<table>\n",
    " <tr align=left><td><img align=left src=\"https://github.com/carlosalvarezh/CFD_Applied/blob/master/figs/CC-BY.png?raw=true\">\n",
    " <td>Text provided under a Creative Commons Attribution license, CC-BY. All code is made available under the FSF-approved MIT license.(c) Carlos Alberto Alvarez Henao</td>\n",
    "</table>"
   ]
  },
  {
   "cell_type": "markdown",
   "id": "927c578f",
   "metadata": {},
   "source": [
    "## Introducción"
   ]
  },
  {
   "cell_type": "markdown",
   "id": "edf03938",
   "metadata": {},
   "source": [
    "La detección de valores atípicos, también conocida como detección de anomalías, es una tarea esencial en la ciencia de datos y se enfoca en identificar puntos de datos con valores extremos en comparación con la distribución general. Esta técnica encuentra diversas aplicaciones en la toma de decisiones empresariales, abarcando desde la detección de fraudes y ciberataques hasta la identificación de falsificaciones de billetes en el sector financiero y médico. En cada uno de estos escenarios, los valores atípicos señalan eventos raros o inusuales que pueden impactar significativamente en la estrategia de la empresa.\n",
    "\n",
    "Python ofrece una variedad de métodos y paquetes para la detección de valores atípicos. Al seleccionar un método, es crucial considerar la modalidad de los datos, es decir, el número de picos en su distribución. Además, la dimensionalidad y el tamaño del conjunto de datos también juegan un papel importante en la elección del método adecuado. Desde métodos estadísticos simples hasta enfoques más avanzados como los bosques de aislamiento y OneClassSVM, la selección del método depende de la naturaleza y el volumen de los datos.\n",
    "\n",
    "En el siguiente ejemplo, se exploran distintos métodos para identificar valores atípicos en el conjunto de datos de detección de billetes falsos de un banco suizo. Este caso demuestra cómo la detección de valores atípicos puede ofrecer información valiosa para abordar desafíos específicos en el contexto de la analítica de datos y la toma de decisiones empresariales."
   ]
  },
  {
   "cell_type": "markdown",
   "id": "416181f6",
   "metadata": {},
   "source": [
    "## Carga de datos y análisis exploratorio"
   ]
  },
  {
   "cell_type": "code",
   "execution_count": null,
   "id": "f0be1345",
   "metadata": {},
   "outputs": [],
   "source": [
    "import pandas as pd \n",
    "import seaborn as sns\n",
    "import matplotlib.pyplot as plt\n",
    "from collections import Counter"
   ]
  },
  {
   "cell_type": "code",
   "execution_count": null,
   "id": "4d4b940c",
   "metadata": {},
   "outputs": [],
   "source": [
    "df = pd.read_csv(\"Data/banknotes.csv\")\n",
    "df"
   ]
  },
  {
   "cell_type": "code",
   "execution_count": null,
   "id": "122f181a",
   "metadata": {},
   "outputs": [],
   "source": [
    "df.info()"
   ]
  },
  {
   "cell_type": "markdown",
   "id": "87758c51",
   "metadata": {},
   "source": [
    "## Using Box Plots for Outlier Detection "
   ]
  },
  {
   "cell_type": "code",
   "execution_count": null,
   "id": "73a07c42",
   "metadata": {},
   "outputs": [],
   "source": [
    "sns.boxplot(data=df,x=df[\"Length\"])\n",
    "plt.title(\"Boxplot of Swiss Banknote Length \")"
   ]
  },
  {
   "cell_type": "markdown",
   "id": "2123e383",
   "metadata": {},
   "source": [
    "Los puntos en los diagramas de caja corresponden a valores atípicos extremos. Podemos validar que estos son valores atípicos filtrando nuestro DataFrame y usando el método `count` para contar el número de falsificaciones:"
   ]
  },
  {
   "cell_type": "code",
   "execution_count": null,
   "id": "7175ae74",
   "metadata": {},
   "outputs": [],
   "source": [
    "df_outlier1 = df[df['Length']> 216].copy()\n",
    "print(Counter(df_outlier1['conterfeit']))"
   ]
  },
  {
   "cell_type": "markdown",
   "id": "ebd78b93",
   "metadata": {},
   "source": [
    "Vemos que, con estas condiciones, sólo capturamos uno de cada 100 billetes falsos. Si relajamos las condiciones de filtrado para capturar valores atípicos adicionales, veremos que también capturamos billetes auténticos:"
   ]
  },
  {
   "cell_type": "code",
   "execution_count": null,
   "id": "61b41486",
   "metadata": {},
   "outputs": [],
   "source": [
    "df_outlier2 = df[df['Length']> 215.5].copy()\n",
    "print(Counter(df_outlier2['conterfeit']))"
   ]
  },
  {
   "cell_type": "markdown",
   "id": "b77f0c89",
   "metadata": {},
   "source": [
    "Esto corresponde a una precisión de 0,30, lo que no es un gran rendimiento. Peor aún, esto corresponde a una precisión del 1,5 por ciento.\n",
    "\n",
    "Para ayudar a abordar esta inexactitud, podemos buscar columnas adicionales en los diagramas de caja. Creemos diagramas de caja para las columnas restantes y una función que nos permita generar diagramas de caja para cualquier columna numérica:"
   ]
  },
  {
   "cell_type": "code",
   "execution_count": null,
   "id": "e9835f52",
   "metadata": {},
   "outputs": [],
   "source": [
    "def boxplot(column):\n",
    "    plt.subplot(3, 2, i+1)  # Define la posición del gráfico en la matriz 3x2\n",
    "    sns.boxplot(data=df, x=df[f\"{column}\"])\n",
    "    plt.title(f\"Boxplot of Swiss Banknote {column}\")\n",
    "\n",
    "plt.figure(figsize=(6, 9))  # Tamaño total de la figura\n",
    "columns = ['Length', 'Right', 'Left', 'Bottom', 'Top', 'Diagonal']\n",
    "\n",
    "for i, column in enumerate(columns):\n",
    "    boxplot(column)\n",
    "\n",
    "plt.tight_layout()  # Ajusta la disposición de los gráficos\n",
    "plt.show()"
   ]
  },
  {
   "cell_type": "markdown",
   "id": "d3e836b6",
   "metadata": {},
   "source": [
    "Y llamemos a la función con las columnas de longitud, izquierda, derecha, abajo, arriba y diagonal:"
   ]
  },
  {
   "cell_type": "markdown",
   "id": "fc3066c3",
   "metadata": {},
   "source": [
    "Podemos filtrar por el 50 por ciento superior por longitud, derecha, izquierda e inferior:"
   ]
  },
  {
   "cell_type": "code",
   "execution_count": null,
   "id": "efad9d33",
   "metadata": {},
   "outputs": [],
   "source": [
    "df_outlier3 = df[(df['Length']> 215)&(df['Right']> 130)&(df['Left']> \n",
    "130)&(df['Bottom']> 10)].copy()\n",
    "print(Counter(df_outlier3['conterfeit']))"
   ]
  },
  {
   "cell_type": "markdown",
   "id": "63131066",
   "metadata": {},
   "source": [
    "Vemos que ahora capturamos ocho falsificaciones. Aunque esto es una mejora con respecto al único billete falso que capturamos antes, todavía omitimos 92 falsificaciones adicionales, lo que corresponde a una precisión del cuatro por ciento. Además, cuantas más columnas numéricas tengamos en nuestros datos, más engorrosa se vuelve la tarea de detección de valores atípicos. Por esta razón, los diagramas de caja son ideales para conjuntos de datos pequeños y simples con pocas columnas."
   ]
  },
  {
   "cell_type": "markdown",
   "id": "b55e9f70",
   "metadata": {},
   "source": [
    "## Uso de \"Isolation Forest\" para la detección de valores atípicos"
   ]
  },
  {
   "cell_type": "markdown",
   "id": "6c28b576",
   "metadata": {},
   "source": [
    "Isolation Forest es un método de detección de valores atípicos que funciona seleccionando columnas aleatoriamente y sus valores para separar diferentes partes de los datos. Funciona bien con datos más complejos, como conjuntos con muchas más columnas y valores numéricos multimodales.\n",
    "\n",
    "Importemos el paquete IsolationForest y ajustémoslo a las columnas de longitud, izquierda, derecha, inferior, superior y diagonal. Tenga en cuenta que este algoritmo solo recibe entradas porque es una técnica de aprendizaje automático no supervisada, a diferencia de las técnicas de aprendizaje automático supervisadas, que se entrenan tanto en funciones como en objetivos. Afortunadamente, aún podemos validar nuestras predicciones porque nuestros datos vienen con etiquetas falsificadas.\n",
    "\n",
    "Primero, importemos los paquetes necesarios:"
   ]
  },
  {
   "cell_type": "code",
   "execution_count": null,
   "id": "a752d039",
   "metadata": {},
   "outputs": [],
   "source": [
    "from sklearn.ensemble import IsolationForest\n",
    "from sklearn.model_selection import train_test_split\n",
    "from sklearn.metrics import precision_score\n",
    "import numpy as np"
   ]
  },
  {
   "cell_type": "markdown",
   "id": "03e41788",
   "metadata": {},
   "source": [
    "A continuación, definamos nuestra entrada y salida (solo usaremos esto para validación, no para entrenamiento) y dividamos nuestros datos:"
   ]
  },
  {
   "cell_type": "code",
   "execution_count": null,
   "id": "1350de8d",
   "metadata": {},
   "outputs": [],
   "source": [
    "X = df[['Length', 'Left', 'Right', 'Bottom', 'Top', 'Diagonal']]\n",
    "y = df['conterfeit']\n",
    "X_train, X_test, y_train, y_test = train_test_split(X, y, \n",
    "test_size=0.33, random_state=42)"
   ]
  },
  {
   "cell_type": "markdown",
   "id": "3fcb25e0",
   "metadata": {},
   "source": [
    "A continuación, ajustemos nuestro modelo a nuestras entradas:"
   ]
  },
  {
   "cell_type": "code",
   "execution_count": null,
   "id": "da93f917",
   "metadata": {},
   "outputs": [],
   "source": [
    "clf = IsolationForest(random_state=0)\n",
    "clf.fit(X_train)\n",
    "y_pred = clf.predict(X_test)"
   ]
  },
  {
   "cell_type": "markdown",
   "id": "8c34acbb",
   "metadata": {},
   "source": [
    "Finalmente, predigamos los datos de la prueba y evaluemos la puntuación de precisión. Para nuestros propósitos aquí, validaremos para tener una idea de qué tan bien los métodos pueden detectar valores atípicos:"
   ]
  },
  {
   "cell_type": "code",
   "execution_count": null,
   "id": "7de32fbf",
   "metadata": {},
   "outputs": [],
   "source": [
    "pred = pd.DataFrame({'pred': y_pred})\n",
    "pred['y_pred'] = np.where(pred['pred'] == -1, 1, 0)\n",
    "y_pred = pred['y_pred'] \n",
    "print(\"Precision:\", precision_score(y_test, y_pred))"
   ]
  },
  {
   "cell_type": "markdown",
   "id": "e0d8384f",
   "metadata": {},
   "source": [
    "Vemos que nuestro modelo de detección de valores atípicos tiene una precisión de 0,625. Compare esto con la precisión de 0,30 que logramos con los diagramas de caja. Este modelo también ofrece una precisión del 56 por ciento, en comparación con el cuatro por ciento de los diagramas de caja, lo que muestra una mejora significativa en la detección de valores atípicos. Esto se debe a que los *Isolation Forest* pueden dividir los datos e identificar valores atípicos en múltiples características.\n",
    "\n",
    "Cuando utilizamos diagramas de caja, tenemos que inspeccionar manualmente los valores atípicos e intentar sacar conclusiones utilizando múltiples características, lo que se vuelve cada vez más difícil cuanto mayor es el número de características. Por ejemplo, puede tener un grupo de puntos donde los valores de características individuales pueden no ser valores atípicos, pero una combinación de valores puede ser anómala. Este tipo de comportamiento es difícil de detectar mediante la inspección de diagramas de caja."
   ]
  },
  {
   "cell_type": "code",
   "execution_count": null,
   "id": "e30e0a09",
   "metadata": {},
   "outputs": [],
   "source": []
  }
 ],
 "metadata": {
  "kernelspec": {
   "display_name": "Python 3 (ipykernel)",
   "language": "python",
   "name": "python3"
  },
  "language_info": {
   "codemirror_mode": {
    "name": "ipython",
    "version": 3
   },
   "file_extension": ".py",
   "mimetype": "text/x-python",
   "name": "python",
   "nbconvert_exporter": "python",
   "pygments_lexer": "ipython3",
   "version": "3.11.3"
  },
  "toc": {
   "base_numbering": 1,
   "nav_menu": {},
   "number_sections": true,
   "sideBar": true,
   "skip_h1_title": true,
   "title_cell": "Table of Contents",
   "title_sidebar": "Contents",
   "toc_cell": false,
   "toc_position": {
    "height": "calc(100% - 180px)",
    "left": "10px",
    "top": "150px",
    "width": "165px"
   },
   "toc_section_display": true,
   "toc_window_display": true
  }
 },
 "nbformat": 4,
 "nbformat_minor": 5
}
