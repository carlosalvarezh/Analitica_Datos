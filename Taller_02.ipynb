{
 "cells": [
  {
   "cell_type": "markdown",
   "id": "a2f99cd5",
   "metadata": {},
   "source": [
    "<h1 align=\"center\">Analítica de datos para la toma de decisiones empresariales</h1>\n",
    "<h1 align=\"center\">Taller 02</h1>\n",
    "<h1 align=\"center\">Centro de Educación Continua</h1>\n",
    "<h1 align=\"center\">EAFIT</h1>\n",
    "<h1 align=\"center\">2023</h1>\n",
    "<h1 align=\"center\">MEDELLÍN - COLOMBIA </h1>"
   ]
  },
  {
   "cell_type": "markdown",
   "id": "a769ff24",
   "metadata": {},
   "source": [
    "*** \n",
    "***Docente:*** Carlos Alberto Álvarez Henao, I.C. D.Sc.\n",
    "\n",
    "***e-mail:*** calvar52@eafit.edu.co | carlosalvarezh@gmail.com\n",
    "\n",
    "***Linkedin:*** https://www.linkedin.com/in/carlosalvarez5/\n",
    "\n",
    "***github:*** https://github.com/carlosalvarezh/\n",
    "\n",
    "***Herramienta:*** [Jupyter Notebook](http://jupyter.org/) | [GoogleColab](https://colab.research.google.com/)\n",
    "\n",
    "***Kernel:*** Python 3.11\n",
    "***"
   ]
  },
  {
   "cell_type": "markdown",
   "id": "c0e990c7",
   "metadata": {},
   "source": [
    "<table>\n",
    " <tr align=left><td><img align=left src=\"https://github.com/carlosalvarezh/CFD_Applied/blob/master/figs/CC-BY.png?raw=true\">\n",
    " <td>Text provided under a Creative Commons Attribution license, CC-BY. All code is made available under the FSF-approved MIT license.(c) Carlos Alberto Alvarez Henao</td>\n",
    "</table>"
   ]
  },
  {
   "cell_type": "markdown",
   "id": "07b8a694",
   "metadata": {},
   "source": [
    "## Introducción"
   ]
  },
  {
   "cell_type": "markdown",
   "id": "857a7ee2",
   "metadata": {},
   "source": [
    "El siguiente taller tiene como objetivo afianzar los conceptos vistos en los temas de: \n",
    "- Análisis de Normalidad y Exploración de Modelos Probabilísticos.\n",
    "- Estimación Puntual de Indicadores y margen de error, Pruebas de hipótesis paramétricas y no paramétricas.\n",
    "- Modelos de predicción y pronóstico.\n",
    "\n",
    "Cada pregunta dispondrá de un espacio (una celda) para que escriba la respuesta. También habrá una celda con la respuesta, que estará 'oculta' y se recomienda solo mirarla para verificar su solución.\n",
    "\n",
    "Puede apoyarse de las notas de clase o búsqueda en la internet, pero se recomienda que lo intente por usted mismo antes de ir a buscar por fuera.\n",
    "\n",
    "El número de estrellas $*$, indica el nivel de dificultad de la pregunta:\n",
    "\n",
    "- $(*) \\rightarrow \\text{\"Fácil\"}$\n",
    "- $(**) \\rightarrow \\text{\"Intermedio\"}$\n",
    "- $(***) \\rightarrow \\text{\"Avanzado\"}$\n",
    "\n",
    "Suba el archivo de respuesta por TEAMS o envíelo al correo electrónico calvar52@eafit.edu.co."
   ]
  },
  {
   "cell_type": "markdown",
   "id": "e6a12e5b",
   "metadata": {},
   "source": [
    "## Análisis de Normalidad y Exploración de Modelos Probabilísticos"
   ]
  },
  {
   "cell_type": "markdown",
   "id": "4d2bbc59",
   "metadata": {},
   "source": [
    "<div class=\"alert alert alert-info\">\n",
    "<strong>1.</strong> ¿Cuál de las siguientes afirmaciones es correcta respecto a la distribución normal? (**)\n",
    "    <br></br>\n",
    "    <br>(A) Es una distribución discreta.</br>    \n",
    "    <br>(B) Tiene una forma asimétrica.</br>\n",
    "    <br>(C) Sus parámetros son la media y el rango.</br>\n",
    "    <br>(D) Es completamente definida por su media y desviación estándar.</br>\n",
    "</div>"
   ]
  },
  {
   "cell_type": "code",
   "execution_count": null,
   "id": "51e2e936",
   "metadata": {},
   "outputs": [],
   "source": [
    "***Escriba aquí su respuesta***\n"
   ]
  },
  {
   "cell_type": "markdown",
   "id": "85d97acd",
   "metadata": {},
   "source": [
    "<div class=\"alert alert alert-danger\">\n",
    "Hacer doble click <b>aquí</b> para ver la solución:\n",
    "\n",
    "<!-- Respuesta:\n",
    "(D) Es completamente definida por su media y desviación estándar.\n",
    "--->\n",
    "</div>"
   ]
  },
  {
   "cell_type": "markdown",
   "id": "8d8acdab",
   "metadata": {},
   "source": [
    "***"
   ]
  },
  {
   "cell_type": "markdown",
   "id": "069187db",
   "metadata": {},
   "source": [
    "<div class=\"alert alert alert-info\">\n",
    "<strong>2.</strong> Si en un conjunto de datos el coeficiente de asimetría es negativo, ¿qué se puede decir sobre su distribución? (**)\n",
    "    <br></br>\n",
    "    <br>(A) La distribución es simétrica. </br>    \n",
    "    <br>(B) La distribución es sesgada hacia la derecha. </br>\n",
    "    <br>(C) La distribución es sesgada hacia la izquierda. </br>\n",
    "    <br>(D) No es posible determinar la forma de la distribución solo con el coeficiente de asimetría.</br>\n",
    "</div>"
   ]
  },
  {
   "cell_type": "code",
   "execution_count": null,
   "id": "42dd89d5",
   "metadata": {},
   "outputs": [],
   "source": [
    "***Escriba aquí su respuesta***\n"
   ]
  },
  {
   "cell_type": "markdown",
   "id": "5445eeb6",
   "metadata": {},
   "source": [
    "<div class=\"alert alert alert-danger\">\n",
    "Hacer doble click <b>aquí</b> para ver la solución:\n",
    "\n",
    "<!-- Respuesta:\n",
    "(C) La distribución es sesgada hacia la izquierda.\n",
    "--->\n",
    "</div>"
   ]
  },
  {
   "cell_type": "markdown",
   "id": "5c604aa7",
   "metadata": {},
   "source": [
    "***"
   ]
  },
  {
   "cell_type": "markdown",
   "id": "94d9fe80",
   "metadata": {},
   "source": [
    "<div class=\"alert alert alert-info\">\n",
    "<strong>3.</strong> ¿Cuál de las siguientes distribuciones es adecuada para modelar el tiempo entre eventos sucesivos e independientes? (**)\n",
    "    <br></br>\n",
    "    <br>(A) Distribución uniforme. </br>    \n",
    "    <br>(B) Distribución exponencial. </br>\n",
    "    <br>(C) Distribución normal. </br>\n",
    "    <br>(D) Distribución Poisson. </br>\n",
    "</div>"
   ]
  },
  {
   "cell_type": "code",
   "execution_count": null,
   "id": "588d10a4",
   "metadata": {},
   "outputs": [],
   "source": [
    "***Escriba aquí su respuesta***\n"
   ]
  },
  {
   "cell_type": "markdown",
   "id": "78d83d7f",
   "metadata": {},
   "source": [
    "<div class=\"alert alert alert-danger\">\n",
    "Hacer doble click <b>aquí</b> para ver la solución:\n",
    "\n",
    "<!-- Respuesta:\n",
    "(B) Distribución exponencial.\n",
    "--->\n",
    "</div>"
   ]
  },
  {
   "cell_type": "markdown",
   "id": "7e735923",
   "metadata": {},
   "source": [
    "***"
   ]
  },
  {
   "cell_type": "markdown",
   "id": "e51f4d06",
   "metadata": {},
   "source": [
    "<div class=\"alert alert alert-info\">\n",
    "<strong>4.</strong> Si estamos interesados en contar la cantidad de clientes que ingresan a una tienda en un intervalo de tiempo específico, ¿qué distribución probabilística es apropiada para este escenario? (**)\n",
    "    <br></br>\n",
    "    <br>(A) Distribución uniforme. </br>    \n",
    "    <br>(B) Distribución exponencial. </br>\n",
    "    <br>(C) Distribución normal. </br>\n",
    "    <br>(D) Distribución Poisson. </br>\n",
    "</div>"
   ]
  },
  {
   "cell_type": "code",
   "execution_count": null,
   "id": "f9f08f87",
   "metadata": {},
   "outputs": [],
   "source": [
    "***Escriba aquí su respuesta***\n"
   ]
  },
  {
   "cell_type": "markdown",
   "id": "652edf9e",
   "metadata": {},
   "source": [
    "<div class=\"alert alert alert-danger\">\n",
    "Hacer doble click <b>aquí</b> para ver la solución:\n",
    "\n",
    "<!-- Respuesta:\n",
    "(D) Distribución Poisson.\n",
    "--->\n",
    "</div>"
   ]
  },
  {
   "cell_type": "markdown",
   "id": "d29c0c77",
   "metadata": {},
   "source": [
    "***"
   ]
  },
  {
   "cell_type": "markdown",
   "id": "b580480a",
   "metadata": {},
   "source": [
    "<div class=\"alert alert alert-info\">\n",
    "<strong>5.</strong> ¿Cuál de las siguientes afirmaciones sobre la distribución uniforme es correcta? (**)\n",
    "    <br></br>\n",
    "    <br>(A) Es una distribución asimétrica. </br>    \n",
    "    <br>(B) Tiene colas pesadas. </br>\n",
    "    <br>(C) Se caracteriza por su media y varianza. </br>\n",
    "    <br>(D) Su gráfica tiene forma de campana. </br>\n",
    "</div>"
   ]
  },
  {
   "cell_type": "code",
   "execution_count": null,
   "id": "1cfb53e6",
   "metadata": {},
   "outputs": [],
   "source": [
    "***Escriba aquí su respuesta***\n"
   ]
  },
  {
   "cell_type": "markdown",
   "id": "2006fbad",
   "metadata": {},
   "source": [
    "<div class=\"alert alert alert-danger\">\n",
    "Hacer doble click <b>aquí</b> para ver la solución:\n",
    "\n",
    "<!-- Respuesta:\n",
    "(C) Se caracteriza por su media y varianza.\n",
    "--->\n",
    "</div>"
   ]
  },
  {
   "cell_type": "markdown",
   "id": "dd950881",
   "metadata": {},
   "source": [
    "***"
   ]
  },
  {
   "cell_type": "markdown",
   "id": "7bd944a6",
   "metadata": {},
   "source": [
    "<div class=\"alert alert alert-info\">\n",
    "<strong>6.</strong> Si se arroja un dado de seis caras, ¿qué tipo de distribución modela el resultado obtenido? (**)\n",
    "    <br></br>\n",
    "    <br>(A) Distribución normal. </br>    \n",
    "    <br>(B) Distribución uniforme. </br>\n",
    "    <br>(C) Distribución exponencial. </br>\n",
    "    <br>(D) Distribución Poisson. </br>\n",
    "</div>"
   ]
  },
  {
   "cell_type": "code",
   "execution_count": null,
   "id": "b41176ab",
   "metadata": {},
   "outputs": [],
   "source": [
    "***Escriba aquí su respuesta***\n"
   ]
  },
  {
   "cell_type": "markdown",
   "id": "9801cc96",
   "metadata": {},
   "source": [
    "<div class=\"alert alert alert-danger\">\n",
    "Hacer doble click <b>aquí</b> para ver la solución:\n",
    "\n",
    "<!-- Respuesta:\n",
    "(B) Distribución uniforme.\n",
    "--->\n",
    "</div>"
   ]
  },
  {
   "cell_type": "markdown",
   "id": "1e69a49e",
   "metadata": {},
   "source": [
    "***"
   ]
  },
  {
   "cell_type": "markdown",
   "id": "85a9f4b3",
   "metadata": {},
   "source": [
    "<div class=\"alert alert alert-info\">\n",
    "<strong>7.</strong> ¿Cuál de las siguientes afirmaciones sobre la distribución Poisson es correcta? (**)\n",
    "    <br></br>\n",
    "    <br>(A) Se utiliza para modelar eventos continuos en el tiempo. </br>    \n",
    "    <br>(B) La media y la varianza son siempre iguales en esta distribución. </br>\n",
    "    <br>(C) Tiene una cola larga en el lado derecho. </br>\n",
    "    <br>(D) Se caracteriza por dos parámetros: la media y la desviación estándar. </br>\n",
    "</div>"
   ]
  },
  {
   "cell_type": "code",
   "execution_count": null,
   "id": "80efb2f6",
   "metadata": {},
   "outputs": [],
   "source": [
    "***Escriba aquí su respuesta***\n"
   ]
  },
  {
   "cell_type": "markdown",
   "id": "8e085937",
   "metadata": {},
   "source": [
    "<div class=\"alert alert alert-danger\">\n",
    "Hacer doble click <b>aquí</b> para ver la solución:\n",
    "\n",
    "<!-- Respuesta:\n",
    "(B) La media y la varianza son siempre iguales en esta distribución.\n",
    "--->\n",
    "</div>"
   ]
  },
  {
   "cell_type": "markdown",
   "id": "496f0d83",
   "metadata": {},
   "source": [
    "***"
   ]
  },
  {
   "cell_type": "markdown",
   "id": "dc1b4283",
   "metadata": {},
   "source": [
    "<div class=\"alert alert alert-info\">\n",
    "<strong>8.</strong> ¿Cuál de las siguientes afirmaciones sobre la distribución normal es correcta? (**)\n",
    "    <br></br>\n",
    "    <br>(A) Su media siempre es cero. </br>    \n",
    "    <br>(B) Su mediana siempre es igual a la media. </br>\n",
    "    <br>(C) Tiene una cola larga en ambos extremos. </br>\n",
    "    <br>(D) La desviación estándar no afecta la forma de la distribución. </br>\n",
    "</div>"
   ]
  },
  {
   "cell_type": "code",
   "execution_count": null,
   "id": "43f52b06",
   "metadata": {},
   "outputs": [],
   "source": [
    "***Escriba aquí su respuesta***\n"
   ]
  },
  {
   "cell_type": "markdown",
   "id": "fd6c1f8b",
   "metadata": {},
   "source": [
    "<div class=\"alert alert alert-danger\">\n",
    "Hacer doble click <b>aquí</b> para ver la solución:\n",
    "\n",
    "<!-- Respuesta:\n",
    "(B) Su mediana siempre es igual a la media.\n",
    "--->\n",
    "</div>"
   ]
  },
  {
   "cell_type": "markdown",
   "id": "c96092a4",
   "metadata": {},
   "source": [
    "***"
   ]
  },
  {
   "cell_type": "markdown",
   "id": "af73aad5",
   "metadata": {},
   "source": [
    "<div class=\"alert alert alert-info\">\n",
    "<strong>9.</strong> ¿Cuál de las siguientes afirmaciones sobre la distribución normal es incorrecta? (**)\n",
    "    <br></br>\n",
    "    <br>(A) La distribución normal es simétrica alrededor de su media. </br>    \n",
    "    <br>(B) La distribución normal está completamente definida por su media y varianza. </br>\n",
    "    <br>(C) La desviación estándar de la distribución normal influye en la dispersión de los datos. </br>\n",
    "    <br>(D) La distribución normal es una distribución discreta. </br>\n",
    "</div>"
   ]
  },
  {
   "cell_type": "code",
   "execution_count": null,
   "id": "2aa5d01f",
   "metadata": {},
   "outputs": [],
   "source": [
    "***Escriba aquí su respuesta***\n"
   ]
  },
  {
   "cell_type": "markdown",
   "id": "e4731cee",
   "metadata": {},
   "source": [
    "<div class=\"alert alert alert-danger\">\n",
    "Hacer doble click <b>aquí</b> para ver la solución:\n",
    "\n",
    "<!-- Respuesta:\n",
    "(D) La distribución normal es una distribución discreta.\n",
    "--->\n",
    "</div>"
   ]
  },
  {
   "cell_type": "markdown",
   "id": "63a3723a",
   "metadata": {},
   "source": [
    "***"
   ]
  },
  {
   "cell_type": "markdown",
   "id": "9c1a4bdc",
   "metadata": {},
   "source": [
    "<div class=\"alert alert alert-info\">\n",
    "<strong>10.</strong> ¿Qué estadístico se utiliza para medir la concentración de datos alrededor de la media en una distribución? (**)\n",
    "    <br></br>\n",
    "    <br>(A) Coeficiente de asimetría. </br>    \n",
    "    <br>(B) Coeficiente de curtosis. </br>\n",
    "    <br>(C) Desviación estándar. </br>\n",
    "    <br>(D) Media armónica. </br>\n",
    "</div>"
   ]
  },
  {
   "cell_type": "code",
   "execution_count": null,
   "id": "437ba200",
   "metadata": {},
   "outputs": [],
   "source": [
    "***Escriba aquí su respuesta***\n"
   ]
  },
  {
   "cell_type": "markdown",
   "id": "90e69ea7",
   "metadata": {},
   "source": [
    "<div class=\"alert alert alert-danger\">\n",
    "Hacer doble click <b>aquí</b> para ver la solución:\n",
    "\n",
    "<!-- Respuesta:\n",
    "(c) Desviación estándar.\n",
    "--->\n",
    "</div>"
   ]
  },
  {
   "cell_type": "markdown",
   "id": "2ddd34a6",
   "metadata": {},
   "source": [
    "***"
   ]
  },
  {
   "cell_type": "markdown",
   "id": "f8ab7026",
   "metadata": {},
   "source": [
    "## Estimación Puntual de Indicadores y margen de error, Pruebas de hipótesis paramétricas y no paramétricas."
   ]
  },
  {
   "cell_type": "markdown",
   "id": "a509349b",
   "metadata": {},
   "source": [
    "<div class=\"alert alert alert-info\">\n",
    "<strong>11.</strong> Si se quiere estimar la media poblacional a partir de una muestra, ¿qué indicador se utiliza comúnmente como estimación puntual de la media poblacional? (**)\n",
    "    <br></br>\n",
    "    <br>(A) Mediana. </br>    \n",
    "    <br>(B) Moda. </br>\n",
    "    <br>(C) Media muestral. </br>\n",
    "    <br>(D) Desviación estándar. </br>\n",
    "</div>"
   ]
  },
  {
   "cell_type": "code",
   "execution_count": null,
   "id": "4e5ed34c",
   "metadata": {},
   "outputs": [],
   "source": [
    "***Escriba aquí su respuesta***\n"
   ]
  },
  {
   "cell_type": "markdown",
   "id": "b4db73e2",
   "metadata": {},
   "source": [
    "<div class=\"alert alert alert-danger\">\n",
    "Hacer doble click <b>aquí</b> para ver la solución:\n",
    "\n",
    "<!-- Respuesta:\n",
    "(C) Media muestral.\n",
    "--->\n",
    "</div>"
   ]
  },
  {
   "cell_type": "markdown",
   "id": "cd168431",
   "metadata": {},
   "source": [
    "***"
   ]
  },
  {
   "cell_type": "markdown",
   "id": "10d4bf60",
   "metadata": {},
   "source": [
    "<div class=\"alert alert alert-info\">\n",
    "<strong>12.</strong>  ¿Qué es el intervalo de confianza en la estimación puntual? (**)\n",
    "    <br></br>\n",
    "    <br>(A) El rango entre el valor máximo y mínimo en una muestra. </br>    \n",
    "    <br>(B) Un rango donde es probable que se encuentre el parámetro poblacional desconocido. </br>\n",
    "    <br>(C) La diferencia entre la media muestral y la media poblacional. </br>\n",
    "    <br>(D) El rango entre el primer y tercer cuartil de una muestra. </br>\n",
    "</div>"
   ]
  },
  {
   "cell_type": "code",
   "execution_count": null,
   "id": "71375e30",
   "metadata": {},
   "outputs": [],
   "source": [
    "***Escriba aquí su respuesta***\n"
   ]
  },
  {
   "cell_type": "markdown",
   "id": "4753fe27",
   "metadata": {},
   "source": [
    "<div class=\"alert alert alert-danger\">\n",
    "Hacer doble click <b>aquí</b> para ver la solución:\n",
    "\n",
    "<!-- Respuesta:\n",
    "(B) Un rango donde es probable que se encuentre el parámetro poblacional desconocido.\n",
    "--->\n",
    "</div>"
   ]
  },
  {
   "cell_type": "markdown",
   "id": "926f6171",
   "metadata": {},
   "source": [
    "***"
   ]
  },
  {
   "cell_type": "markdown",
   "id": "e201cabc",
   "metadata": {},
   "source": [
    "<div class=\"alert alert alert-info\">\n",
    "<strong>13.</strong> Si se aumenta el nivel de confianza en un intervalo de confianza, ¿cómo afectará el margen de error? (**)\n",
    "    <br></br>\n",
    "    <br>(A) El margen de error disminuirá. </br>    \n",
    "    <br>(B) El margen de error aumentará. </br>\n",
    "    <br>(C) El margen de error permanecerá constante. </br>\n",
    "    <br>(D) No es posible determinar la relación entre el nivel de confianza y el margen de error. </br>\n",
    "</div>"
   ]
  },
  {
   "cell_type": "code",
   "execution_count": null,
   "id": "59bd22d3",
   "metadata": {},
   "outputs": [],
   "source": [
    "***Escriba aquí su respuesta***\n"
   ]
  },
  {
   "cell_type": "markdown",
   "id": "f3d5705b",
   "metadata": {},
   "source": [
    "<div class=\"alert alert alert-danger\">\n",
    "Hacer doble click <b>aquí</b> para ver la solución:\n",
    "\n",
    "<!-- Respuesta:\n",
    "(B) El margen de error aumentará.\n",
    "--->\n",
    "</div>"
   ]
  },
  {
   "cell_type": "markdown",
   "id": "801db711",
   "metadata": {},
   "source": [
    "***"
   ]
  },
  {
   "cell_type": "markdown",
   "id": "9d49453a",
   "metadata": {},
   "source": [
    "<div class=\"alert alert alert-info\">\n",
    "<strong>14.</strong> ¿Cuál de los siguientes factores disminuirá el margen de error en un intervalo de confianza? (**)\n",
    "    <br></br>\n",
    "    <br>(A) Aumentar el tamaño de la muestra. </br>    \n",
    "    <br>(B) Disminuir el nivel de confianza. </br>\n",
    "    <br>(C) Utilizar una estimación puntual menos precisa. </br>\n",
    "    <br>(D) Ninguno de los anteriores. </br>\n",
    "</div>"
   ]
  },
  {
   "cell_type": "code",
   "execution_count": null,
   "id": "f32d8331",
   "metadata": {},
   "outputs": [],
   "source": [
    "***Escriba aquí su respuesta***\n"
   ]
  },
  {
   "cell_type": "markdown",
   "id": "90829323",
   "metadata": {},
   "source": [
    "<div class=\"alert alert alert-danger\">\n",
    "Hacer doble click <b>aquí</b> para ver la solución:\n",
    "\n",
    "<!-- Respuesta:\n",
    "(B) Aumentar el tamaño de la muestra.\n",
    "--->\n",
    "</div>"
   ]
  },
  {
   "cell_type": "markdown",
   "id": "9d6bd749",
   "metadata": {},
   "source": [
    "***"
   ]
  },
  {
   "cell_type": "markdown",
   "id": "cd6b300a",
   "metadata": {},
   "source": [
    "<div class=\"alert alert alert-info\">\n",
    "<strong>15.</strong> ¿Cuál de los siguientes indicadores NO se utiliza comúnmente en la estimación puntual? (**)\n",
    "    <br></br>\n",
    "    <br>(A) Media. </br>    \n",
    "    <br>(B) Mediana. </br>\n",
    "    <br>(C) Varianza. </br>\n",
    "    <br>(D) Moda. </br>\n",
    "</div>"
   ]
  },
  {
   "cell_type": "code",
   "execution_count": null,
   "id": "ee030eaa",
   "metadata": {},
   "outputs": [],
   "source": [
    "***Escriba aquí su respuesta***\n"
   ]
  },
  {
   "cell_type": "markdown",
   "id": "50370135",
   "metadata": {},
   "source": [
    "<div class=\"alert alert alert-danger\">\n",
    "Hacer doble click <b>aquí</b> para ver la solución:\n",
    "\n",
    "<!-- Respuesta:\n",
    "(C) Varianza\n",
    "--->\n",
    "</div>"
   ]
  },
  {
   "cell_type": "markdown",
   "id": "a9eae5b1",
   "metadata": {},
   "source": [
    "***"
   ]
  },
  {
   "cell_type": "markdown",
   "id": "fd246a3c",
   "metadata": {},
   "source": [
    "<div class=\"alert alert alert-info\">\n",
    "<strong>16.</strong> En una prueba de hipótesis, ¿cuál es la afirmación inicial que se pone a prueba? (**)\n",
    "    <br></br>\n",
    "    <br>(A) Hipótesis alterna, $H1$. </br>    \n",
    "    <br>(B) Hipótesis nula, $H0$. </br>\n",
    "    <br>(C) Intervalo de confianza. </br>\n",
    "    <br>(D) P-valor. </br>\n",
    "</div>"
   ]
  },
  {
   "cell_type": "code",
   "execution_count": null,
   "id": "62aa4e89",
   "metadata": {},
   "outputs": [],
   "source": [
    "***Escriba aquí su respuesta***\n"
   ]
  },
  {
   "cell_type": "markdown",
   "id": "3be2f45d",
   "metadata": {},
   "source": [
    "<div class=\"alert alert alert-danger\">\n",
    "Hacer doble click <b>aquí</b> para ver la solución:\n",
    "\n",
    "<!-- Respuesta:\n",
    "(B) Hipótesis nula, H0.\n",
    "--->\n",
    "</div>"
   ]
  },
  {
   "cell_type": "markdown",
   "id": "05cfa358",
   "metadata": {},
   "source": [
    "***"
   ]
  },
  {
   "cell_type": "markdown",
   "id": "a95d9112",
   "metadata": {},
   "source": [
    "<div class=\"alert alert alert-info\">\n",
    "<strong>17.</strong> Si el $p$-valor de una prueba de hipótesis es menor que el nivel de significancia ($\\alpha$) establecido, ¿qué se hace con la hipótesis nula? (**)\n",
    "    <br></br>\n",
    "    <br>(A) Se rechaza. </br>    \n",
    "    <br>(B) Se acepta. </br>\n",
    "    <br>(C) Se modifica. </br>\n",
    "    <br>(D) No se hace nada, la decisión depende del investigador. </br>\n",
    "</div>"
   ]
  },
  {
   "cell_type": "code",
   "execution_count": null,
   "id": "49662c8c",
   "metadata": {},
   "outputs": [],
   "source": [
    "***Escriba aquí su respuesta***\n"
   ]
  },
  {
   "cell_type": "markdown",
   "id": "d8733848",
   "metadata": {},
   "source": [
    "<div class=\"alert alert alert-danger\">\n",
    "Hacer doble click <b>aquí</b> para ver la solución:\n",
    "\n",
    "<!-- Respuesta:\n",
    "(A) Se rechaza.\n",
    "--->\n",
    "</div>"
   ]
  },
  {
   "cell_type": "markdown",
   "id": "3c79e8b1",
   "metadata": {},
   "source": [
    "***"
   ]
  },
  {
   "cell_type": "markdown",
   "id": "8a4d6768",
   "metadata": {},
   "source": [
    "<div class=\"alert alert alert-info\">\n",
    "<strong>18.</strong> En una prueba $t$-Student para muestras independientes, ¿qué distribución se utiliza cuando las muestras son grandes y las poblaciones son aproximadamente normales? (**)\n",
    "    <br></br>\n",
    "    <br>(A) Distribución $t$ de Student. </br>    \n",
    "    <br>(B) Distribución normal. </br>\n",
    "    <br>(C) Distribución chi-cuadrado ($\\chi^2$). </br>\n",
    "    <br>(D) Distribución $F$ de Fisher. </br>\n",
    "</div>"
   ]
  },
  {
   "cell_type": "code",
   "execution_count": null,
   "id": "0cd469f7",
   "metadata": {},
   "outputs": [],
   "source": [
    "***Escriba aquí su respuesta***\n"
   ]
  },
  {
   "cell_type": "markdown",
   "id": "3f0c249a",
   "metadata": {},
   "source": [
    "<div class=\"alert alert alert-danger\">\n",
    "Hacer doble click <b>aquí</b> para ver la solución:\n",
    "\n",
    "<!-- Respuesta:\n",
    "(B) Distribución normal.\n",
    "--->\n",
    "</div>"
   ]
  },
  {
   "cell_type": "markdown",
   "id": "1d502e93",
   "metadata": {},
   "source": [
    "***"
   ]
  },
  {
   "cell_type": "markdown",
   "id": "9b9394ca",
   "metadata": {},
   "source": [
    "<div class=\"alert alert alert-info\">\n",
    "<strong>19.</strong> En una prueba ANOVA (Análisis de Varianza), ¿qué se compara para determinar si las medias de múltiples grupos son iguales? (**)\n",
    "    <br></br>\n",
    "    <br>(A) Las medianas de los grupos. </br>    \n",
    "    <br>(B) Las desviaciones estándar de los grupos. </br>\n",
    "    <br>(C) Las varianzas de los grupos. </br>\n",
    "    <br>(D) Las medias de los grupos. </br>\n",
    "</div>"
   ]
  },
  {
   "cell_type": "code",
   "execution_count": null,
   "id": "f1e6a373",
   "metadata": {},
   "outputs": [],
   "source": [
    "***Escriba aquí su respuesta***\n"
   ]
  },
  {
   "cell_type": "markdown",
   "id": "cac05c3a",
   "metadata": {},
   "source": [
    "<div class=\"alert alert alert-danger\">\n",
    "Hacer doble click <b>aquí</b> para ver la solución:\n",
    "\n",
    "<!-- Respuesta:\n",
    "(D) Las medias de los grupos.\n",
    "--->\n",
    "</div>"
   ]
  },
  {
   "cell_type": "markdown",
   "id": "a7701ede",
   "metadata": {},
   "source": [
    "***"
   ]
  },
  {
   "cell_type": "markdown",
   "id": "8f32cf9f",
   "metadata": {},
   "source": [
    "<div class=\"alert alert alert-info\">\n",
    "<strong>20.</strong> ¿Cuál de las siguientes afirmaciones es correcta respecto a la prueba de Wilcoxon? (**)\n",
    "    <br></br>\n",
    "    <br>(A) Es una prueba paramétrica utilizada para comparar dos muestras independientes. </br>    \n",
    "    <br>(B) Se utiliza para comparar más de dos muestras independientes. </br>\n",
    "    <br>(C) Es una prueba no paramétrica utilizada para comparar dos muestras relacionadas. </br>\n",
    "    <br>(D) Requiere que los datos sigan una distribución normal. </br>\n",
    "</div>"
   ]
  },
  {
   "cell_type": "code",
   "execution_count": null,
   "id": "87ce6f03",
   "metadata": {},
   "outputs": [],
   "source": [
    "***Escriba aquí su respuesta***\n"
   ]
  },
  {
   "cell_type": "markdown",
   "id": "2419c467",
   "metadata": {},
   "source": [
    "<div class=\"alert alert alert-danger\">\n",
    "Hacer doble click <b>aquí</b> para ver la solución:\n",
    "\n",
    "<!-- Respuesta:\n",
    "(C) Es una prueba no paramétrica utilizada para comparar dos muestras relacionadas.\n",
    "--->\n",
    "</div>"
   ]
  },
  {
   "cell_type": "markdown",
   "id": "b9d2a955",
   "metadata": {},
   "source": [
    "***"
   ]
  },
  {
   "cell_type": "markdown",
   "id": "b980cad3",
   "metadata": {},
   "source": [
    "<div class=\"alert alert alert-info\">\n",
    "<strong>21.</strong> La prueba de Kruskal-Wallis se utiliza para: (**)\n",
    "    <br></br>\n",
    "    <br>(A) Comparar dos muestras independientes. </br>    \n",
    "    <br>(B) Comparar dos muestras relacionadas. </br>\n",
    "    <br>(C) Comparar más de dos muestras independientes. </br>\n",
    "    <br>(D) Realizar análisis de varianza en datos no paramétricos. </br>\n",
    "</div>"
   ]
  },
  {
   "cell_type": "code",
   "execution_count": null,
   "id": "d90a3be4",
   "metadata": {},
   "outputs": [],
   "source": [
    "***Escriba aquí su respuesta***\n"
   ]
  },
  {
   "cell_type": "markdown",
   "id": "77746197",
   "metadata": {},
   "source": [
    "<div class=\"alert alert alert-danger\">\n",
    "Hacer doble click <b>aquí</b> para ver la solución:\n",
    "\n",
    "<!-- Respuesta:\n",
    "(C) Comparar más de dos muestras independientes.\n",
    "--->\n",
    "</div>"
   ]
  },
  {
   "cell_type": "markdown",
   "id": "ec948d28",
   "metadata": {},
   "source": [
    "***"
   ]
  },
  {
   "cell_type": "markdown",
   "id": "c5a422d9",
   "metadata": {},
   "source": [
    "<div class=\"alert alert alert-info\">\n",
    "<strong>22.</strong> Si el valor $p$ obtenido en una prueba de hipótesis es $0.02$ y el nivel de significancia ($\\alpha$) es $0.05$, ¿qué decisión se toma? (**)\n",
    "    <br></br>\n",
    "    <br>(A) Se rechaza la hipótesis nula, $H0$. </br>    \n",
    "    <br>(B) Se acepta la hipótesis nula, $H0$. </br>\n",
    "    <br>(C) No es posible tomar una decisión con la información dada. </br>\n",
    "    <br>(D) Se modifica la hipótesis nula. </br>\n",
    "</div>"
   ]
  },
  {
   "cell_type": "code",
   "execution_count": null,
   "id": "d42bb384",
   "metadata": {},
   "outputs": [],
   "source": [
    "***Escriba aquí su respuesta***\n"
   ]
  },
  {
   "cell_type": "markdown",
   "id": "9283cecf",
   "metadata": {},
   "source": [
    "<div class=\"alert alert alert-danger\">\n",
    "Hacer doble click <b>aquí</b> para ver la solución:\n",
    "\n",
    "<!-- Respuesta:\n",
    "(A) Se rechaza la hipótesis nula, H0.\n",
    "--->\n",
    "</div>"
   ]
  },
  {
   "cell_type": "markdown",
   "id": "b773c04b",
   "metadata": {},
   "source": [
    "***"
   ]
  },
  {
   "cell_type": "markdown",
   "id": "c60ae6df",
   "metadata": {},
   "source": [
    "<div class=\"alert alert alert-info\">\n",
    "<strong>23.</strong> En una prueba de hipótesis, el valor $p$ es $0.15$. Si el nivel de significancia ($\\alpha$) es $0.10$, ¿qué decisión se toma? (**)\n",
    "    <br></br>\n",
    "    <br>(A) Se rechaza la hipótesis nula, $H0$. </br>    \n",
    "    <br>(B) Se acepta la hipótesis nula, $H0$. </br>\n",
    "    <br>(C) No es posible tomar una decisión con la información dada. </br>\n",
    "    <br>(D) Se modifica la hipótesis nula. </br>\n",
    "</div>"
   ]
  },
  {
   "cell_type": "code",
   "execution_count": null,
   "id": "e3e4e719",
   "metadata": {},
   "outputs": [],
   "source": [
    "***Escriba aquí su respuesta***\n"
   ]
  },
  {
   "cell_type": "markdown",
   "id": "baf6360b",
   "metadata": {},
   "source": [
    "<div class=\"alert alert alert-danger\">\n",
    "Hacer doble click <b>aquí</b> para ver la solución:\n",
    "\n",
    "<!-- Respuesta:\n",
    "(B) Se acepta la hipótesis nulam H0.\n",
    "--->\n",
    "</div>"
   ]
  },
  {
   "cell_type": "markdown",
   "id": "53f5f586",
   "metadata": {},
   "source": [
    "***"
   ]
  },
  {
   "cell_type": "markdown",
   "id": "11201a07",
   "metadata": {},
   "source": [
    "<div class=\"alert alert alert-info\">\n",
    "<strong>24.</strong> Si se quiere estimar la proporción de una característica en una población, ¿cuál es el indicador adecuado para la estimación puntual? (**)\n",
    "    <br></br>\n",
    "    <br>(A) Media. </br>    \n",
    "    <br>(B) Mediana. </br>\n",
    "    <br>(C) Proporción muestral. </br>\n",
    "    <br>(D) Varianza. </br>\n",
    "</div>"
   ]
  },
  {
   "cell_type": "code",
   "execution_count": null,
   "id": "33b649c6",
   "metadata": {},
   "outputs": [],
   "source": [
    "***Escriba aquí su respuesta***\n"
   ]
  },
  {
   "cell_type": "markdown",
   "id": "6777b355",
   "metadata": {},
   "source": [
    "<div class=\"alert alert alert-danger\">\n",
    "Hacer doble click <b>aquí</b> para ver la solución:\n",
    "\n",
    "<!-- Respuesta:\n",
    "(C) Proporción muestral.\n",
    "--->\n",
    "</div>"
   ]
  },
  {
   "cell_type": "markdown",
   "id": "4e2a47cb",
   "metadata": {},
   "source": [
    "***"
   ]
  },
  {
   "cell_type": "markdown",
   "id": "9af78ddb",
   "metadata": {},
   "source": [
    "<div class=\"alert alert alert-info\">\n",
    "<strong>25.</strong> La prueba de Mann-Whitney U es útil para: (**)\n",
    "    <br></br>\n",
    "    <br>(A) Comparar dos muestras independientes con distribución normal. </br>    \n",
    "    <br>(B) Comparar dos muestras independientes sin requerir una distribución normal. </br>\n",
    "    <br>(C) Comparar más de dos muestras independientes. </br>\n",
    "    <br>(D) Comparar dos muestras relacionadas. </br>\n",
    "</div>"
   ]
  },
  {
   "cell_type": "code",
   "execution_count": null,
   "id": "5cd43041",
   "metadata": {},
   "outputs": [],
   "source": [
    "***Escriba aquí su respuesta***\n"
   ]
  },
  {
   "cell_type": "markdown",
   "id": "272b07cd",
   "metadata": {},
   "source": [
    "<div class=\"alert alert alert-danger\">\n",
    "Hacer doble click <b>aquí</b> para ver la solución:\n",
    "\n",
    "<!-- Respuesta:\n",
    "(B) Comparar dos muestras independientes sin requerir una distribución normal.\n",
    "--->\n",
    "</div>"
   ]
  },
  {
   "cell_type": "markdown",
   "id": "849aa5c9",
   "metadata": {},
   "source": [
    "***"
   ]
  },
  {
   "cell_type": "markdown",
   "id": "50ce71f4",
   "metadata": {},
   "source": [
    "## Modelos de predicción y pronóstico"
   ]
  },
  {
   "cell_type": "markdown",
   "id": "e69a52fd",
   "metadata": {},
   "source": [
    "### Visualización de Datos y Variables con Información Compartida (Diagrama de Dispersión):"
   ]
  },
  {
   "cell_type": "markdown",
   "id": "f3215666",
   "metadata": {},
   "source": [
    "<div class=\"alert alert alert-info\">\n",
    "<strong>26.</strong> ¿Qué tipo de gráfico se utiliza comúnmente para visualizar la relación entre dos variables numéricas? (**)\n",
    "    <br></br>\n",
    "    <br>(A) Histograma. </br>    \n",
    "    <br>(B) Gráfico de barras. </br>\n",
    "    <br>(C) Diagrama de dispersión. </br>\n",
    "    <br>(D) Gráfico circular. </br>\n",
    "</div>"
   ]
  },
  {
   "cell_type": "code",
   "execution_count": null,
   "id": "03775d72",
   "metadata": {},
   "outputs": [],
   "source": [
    "***Escriba aquí su respuesta***\n"
   ]
  },
  {
   "cell_type": "markdown",
   "id": "c58a1d7b",
   "metadata": {},
   "source": [
    "<div class=\"alert alert alert-danger\">\n",
    "Hacer doble click <b>aquí</b> para ver la solución:\n",
    "\n",
    "<!-- Respuesta:\n",
    "(C) Diagrama de dispersión.\n",
    "--->\n",
    "</div>"
   ]
  },
  {
   "cell_type": "markdown",
   "id": "1b4881b3",
   "metadata": {},
   "source": [
    "***"
   ]
  },
  {
   "cell_type": "markdown",
   "id": "fe539675",
   "metadata": {},
   "source": [
    "<div class=\"alert alert alert-info\">\n",
    "<strong>27.</strong> En un diagrama de dispersión, ¿qué indica una agrupación cercana de puntos a lo largo de una línea recta ascendente? (**)\n",
    "    <br></br>\n",
    "    <br>(A) Correlación positiva. </br>    \n",
    "    <br>(B) Correlación negativa. </br>\n",
    "    <br>(C) Correlación nula. </br>\n",
    "    <br>(D) Ausencia de relación. </br>\n",
    "</div>"
   ]
  },
  {
   "cell_type": "code",
   "execution_count": null,
   "id": "760e5f20",
   "metadata": {},
   "outputs": [],
   "source": [
    "***Escriba aquí su respuesta***\n"
   ]
  },
  {
   "cell_type": "markdown",
   "id": "93366266",
   "metadata": {},
   "source": [
    "<div class=\"alert alert alert-danger\">\n",
    "Hacer doble click <b>aquí</b> para ver la solución:\n",
    "\n",
    "<!-- Respuesta:\n",
    "(A) Correlación positiva.\n",
    "--->\n",
    "</div>"
   ]
  },
  {
   "cell_type": "markdown",
   "id": "f8505be3",
   "metadata": {},
   "source": [
    "***"
   ]
  },
  {
   "cell_type": "markdown",
   "id": "15541f1d",
   "metadata": {},
   "source": [
    "<div class=\"alert alert alert-info\">\n",
    "<strong>28.</strong> ¿Cuál de los siguientes coeficientes estadísticos se utiliza para medir la intensidad de la relación lineal entre dos variables? (**)\n",
    "    <br></br>\n",
    "    <br>(A) Coeficiente de regresión. </br>    \n",
    "    <br>(B) Coeficiente de correlación de Pearson. </br>\n",
    "    <br>(C) Coeficiente de variación. </br>\n",
    "    <br>(D) Coeficiente de regresión múltiple. </br>\n",
    "</div>"
   ]
  },
  {
   "cell_type": "code",
   "execution_count": null,
   "id": "5c32d59c",
   "metadata": {},
   "outputs": [],
   "source": [
    "***Escriba aquí su respuesta***\n"
   ]
  },
  {
   "cell_type": "markdown",
   "id": "2f3806e9",
   "metadata": {},
   "source": [
    "<div class=\"alert alert alert-danger\">\n",
    "Hacer doble click <b>aquí</b> para ver la solución:\n",
    "\n",
    "<!-- Respuesta:\n",
    "(B) Coeficiente de correlación de Pearson.\n",
    "--->\n",
    "</div>"
   ]
  },
  {
   "cell_type": "markdown",
   "id": "f168a085",
   "metadata": {},
   "source": [
    "***"
   ]
  },
  {
   "cell_type": "markdown",
   "id": "9500bc90",
   "metadata": {},
   "source": [
    "<div class=\"alert alert alert-info\">\n",
    "<strong>29.</strong> Si en un diagrama de dispersión los puntos se dispersan alrededor de una línea horizontal, ¿qué tipo de correlación es probable que exista? (**)\n",
    "    <br></br>\n",
    "    <br>(A) Correlación positiva. </br>    \n",
    "    <br>(B) Correlación negativa. </br>\n",
    "    <br>(C) Correlación nula. </br>\n",
    "    <br>(D) Correlación no lineal. </br>\n",
    "</div>"
   ]
  },
  {
   "cell_type": "code",
   "execution_count": null,
   "id": "4ffa327f",
   "metadata": {},
   "outputs": [],
   "source": [
    "***Escriba aquí su respuesta***\n"
   ]
  },
  {
   "cell_type": "markdown",
   "id": "8c8d066d",
   "metadata": {},
   "source": [
    "<div class=\"alert alert alert-danger\">\n",
    "Hacer doble click <b>aquí</b> para ver la solución:\n",
    "\n",
    "<!-- Respuesta:\n",
    "(C) Correlación nula.\n",
    "--->\n",
    "</div>"
   ]
  },
  {
   "cell_type": "markdown",
   "id": "cdd32bfe",
   "metadata": {},
   "source": [
    "***"
   ]
  },
  {
   "cell_type": "markdown",
   "id": "7cbae36b",
   "metadata": {},
   "source": [
    "<div class=\"alert alert alert-info\">\n",
    "<strong>30.</strong> ¿Qué se puede concluir si en un diagrama de dispersión los puntos se dispersan ampliamente alrededor de la línea de regresión? (**)\n",
    "    <br></br>\n",
    "    <br>(A) Existe una correlación fuerte. </br>    \n",
    "    <br>(B) Existe una correlación débil. </br>\n",
    "    <br>(C) No existe correlación. </br>\n",
    "    <br>(D) La regresión no es adecuada. </br>\n",
    "</div>"
   ]
  },
  {
   "cell_type": "code",
   "execution_count": null,
   "id": "1c86fa1b",
   "metadata": {},
   "outputs": [],
   "source": [
    "***Escriba aquí su respuesta***\n"
   ]
  },
  {
   "cell_type": "markdown",
   "id": "f5058d0a",
   "metadata": {},
   "source": [
    "<div class=\"alert alert alert-danger\">\n",
    "Hacer doble click <b>aquí</b> para ver la solución:\n",
    "\n",
    "<!-- Respuesta:\n",
    "(B) Existe una correlación débil.\n",
    "--->\n",
    "</div>"
   ]
  },
  {
   "cell_type": "markdown",
   "id": "67c0f070",
   "metadata": {},
   "source": [
    "***"
   ]
  },
  {
   "cell_type": "markdown",
   "id": "bbde556e",
   "metadata": {},
   "source": [
    "### Modelo de Regresión Lineal:"
   ]
  },
  {
   "cell_type": "markdown",
   "id": "84faaced",
   "metadata": {},
   "source": [
    "<div class=\"alert alert alert-info\">\n",
    "<strong>31.</strong> En un modelo de regresión lineal, ¿cuál es la variable que se intenta predecir? (**)\n",
    "    <br></br>\n",
    "    <br>(A) Variable independiente. </br>    \n",
    "    <br>(B) Variable dependiente. </br>\n",
    "    <br>(C) Variable de control. </br>\n",
    "    <br>(D) Variable categórica. </br>\n",
    "</div>"
   ]
  },
  {
   "cell_type": "code",
   "execution_count": null,
   "id": "d91cc013",
   "metadata": {},
   "outputs": [],
   "source": [
    "***Escriba aquí su respuesta***\n"
   ]
  },
  {
   "cell_type": "markdown",
   "id": "ea3817ff",
   "metadata": {},
   "source": [
    "<div class=\"alert alert alert-danger\">\n",
    "Hacer doble click <b>aquí</b> para ver la solución:\n",
    "\n",
    "<!-- Respuesta:\n",
    "(B) Variable dependiente.\n",
    "--->\n",
    "</div>"
   ]
  },
  {
   "cell_type": "markdown",
   "id": "629fc050",
   "metadata": {},
   "source": [
    "***"
   ]
  },
  {
   "cell_type": "markdown",
   "id": "d969340a",
   "metadata": {},
   "source": [
    "<div class=\"alert alert alert-info\">\n",
    "<strong>32.</strong> ¿Qué medida se utiliza para evaluar qué tan bien se ajusta un modelo de regresión lineal a los datos? (**)\n",
    "    <br></br>\n",
    "    <br>(A) Coeficiente de correlación. </br>    \n",
    "    <br>(B) Coeficiente de regresión. </br>\n",
    "    <br>(C) $R^2$ </br>\n",
    "    <br>(D) Coeficiente de determinación. </br>\n",
    "</div>"
   ]
  },
  {
   "cell_type": "code",
   "execution_count": null,
   "id": "e9080ae2",
   "metadata": {},
   "outputs": [],
   "source": [
    "***Escriba aquí su respuesta***\n"
   ]
  },
  {
   "cell_type": "markdown",
   "id": "82e06cb4",
   "metadata": {},
   "source": [
    "<div class=\"alert alert alert-danger\">\n",
    "Hacer doble click <b>aquí</b> para ver la solución:\n",
    "\n",
    "<!-- Respuesta:\n",
    "(C) R^2\n",
    "--->\n",
    "</div>"
   ]
  },
  {
   "cell_type": "markdown",
   "id": "6a7e16e5",
   "metadata": {},
   "source": [
    "***"
   ]
  },
  {
   "cell_type": "markdown",
   "id": "c5fc25ad",
   "metadata": {},
   "source": [
    "<div class=\"alert alert alert-info\">\n",
    "<strong>33.</strong> Si en un modelo de regresión lineal la pendiente de la línea de regresión es positiva, ¿qué se puede decir sobre la relación entre las variables? (**)\n",
    "    <br></br>\n",
    "    <br>(A) Es una relación negativa. </br>    \n",
    "    <br>(B) Es una relación positiva. </br>\n",
    "    <br>(C) No hay relación. </br>\n",
    "    <br>(D) La relación no es lineal. </br>\n",
    "</div>"
   ]
  },
  {
   "cell_type": "code",
   "execution_count": null,
   "id": "c9ee84fa",
   "metadata": {},
   "outputs": [],
   "source": [
    "***Escriba aquí su respuesta***\n"
   ]
  },
  {
   "cell_type": "markdown",
   "id": "b8d7ea0d",
   "metadata": {},
   "source": [
    "<div class=\"alert alert alert-danger\">\n",
    "Hacer doble click <b>aquí</b> para ver la solución:\n",
    "\n",
    "<!-- Respuesta:\n",
    "(B) Es una relación positiva.\n",
    "--->\n",
    "</div>"
   ]
  },
  {
   "cell_type": "markdown",
   "id": "62430191",
   "metadata": {},
   "source": [
    "***"
   ]
  },
  {
   "cell_type": "markdown",
   "id": "18cc18ba",
   "metadata": {},
   "source": [
    "<div class=\"alert alert alert-info\">\n",
    "<strong>34.</strong> ¿Cuál de las siguientes afirmaciones es cierta respecto a los residuos en un modelo de regresión lineal? (**)\n",
    "    <br></br>\n",
    "    <br>(A) Los residuos son las variables independientes. </br>    \n",
    "    <br>(B) Los residuos son la diferencia entre los valores observados y los valores predichos. </br>\n",
    "    <br>(C) Los residuos son la variable dependiente. </br>\n",
    "    <br>(D) Los residuos son la variable de control. </br>\n",
    "</div>"
   ]
  },
  {
   "cell_type": "code",
   "execution_count": null,
   "id": "fa93772f",
   "metadata": {},
   "outputs": [],
   "source": [
    "***Escriba aquí su respuesta***\n"
   ]
  },
  {
   "cell_type": "markdown",
   "id": "d0fd6f77",
   "metadata": {},
   "source": [
    "<div class=\"alert alert alert-danger\">\n",
    "Hacer doble click <b>aquí</b> para ver la solución:\n",
    "\n",
    "<!-- Respuesta:\n",
    "(B) Los residuos son la diferencia entre los valores observados y los valores predichos.\n",
    "--->\n",
    "</div>"
   ]
  },
  {
   "cell_type": "markdown",
   "id": "a8afc6f3",
   "metadata": {},
   "source": [
    "***"
   ]
  },
  {
   "cell_type": "markdown",
   "id": "531189bc",
   "metadata": {},
   "source": [
    "<div class=\"alert alert alert-info\">\n",
    "<strong>35.</strong> Si se obtiene un $p$-valor muy pequeño en una prueba de significancia para la pendiente en un modelo de regresión lineal, ¿qué conclusión se puede sacar? (**)\n",
    "    <br></br>\n",
    "    <br>(A) La pendiente es igual a cero. </br>    \n",
    "    <br>(B) La pendiente es significativamente diferente de cero. </br>\n",
    "    <br>(C) No es posible interpretar el p-valor en este contexto. </br>\n",
    "    <br>(D) La pendiente es igual a uno. </br>\n",
    "</div>"
   ]
  },
  {
   "cell_type": "code",
   "execution_count": null,
   "id": "de9ea175",
   "metadata": {},
   "outputs": [],
   "source": [
    "***Escriba aquí su respuesta***\n"
   ]
  },
  {
   "cell_type": "markdown",
   "id": "56ab757a",
   "metadata": {},
   "source": [
    "<div class=\"alert alert alert-danger\">\n",
    "Hacer doble click <b>aquí</b> para ver la solución:\n",
    "\n",
    "<!-- Respuesta:\n",
    "(B) La pendiente es significativamente diferente de cero.\n",
    "--->\n",
    "</div>"
   ]
  },
  {
   "cell_type": "markdown",
   "id": "5467466a",
   "metadata": {},
   "source": [
    "***"
   ]
  },
  {
   "cell_type": "markdown",
   "id": "ef910f75",
   "metadata": {},
   "source": [
    "### Métodos Estadísticos de Selección de Variables y Validación:"
   ]
  },
  {
   "cell_type": "markdown",
   "id": "b8c15015",
   "metadata": {},
   "source": [
    "<div class=\"alert alert alert-info\">\n",
    "<strong>36.</strong> ¿Qué técnica estadística se utiliza para seleccionar variables importantes y eliminar información redundante en un modelo de regresión? (**)\n",
    "    <br></br>\n",
    "    <br>(A) Análisis de varianza (ANOVA). </br>    \n",
    "    <br>(B) Prueba de hipótesis. </br>\n",
    "    <br>(C) Análisis de componentes principales (PCA). </br>\n",
    "    <br>(D) Selección hacia adelante (Forward selection). </br>\n",
    "</div>"
   ]
  },
  {
   "cell_type": "code",
   "execution_count": null,
   "id": "a73cee9a",
   "metadata": {},
   "outputs": [],
   "source": [
    "***Escriba aquí su respuesta***\n"
   ]
  },
  {
   "cell_type": "markdown",
   "id": "5372457f",
   "metadata": {},
   "source": [
    "<div class=\"alert alert alert-danger\">\n",
    "Hacer doble click <b>aquí</b> para ver la solución:\n",
    "\n",
    "<!-- Respuesta:\n",
    "(D) Selección hacia adelante (Forward selection).\n",
    "--->\n",
    "</div>"
   ]
  },
  {
   "cell_type": "markdown",
   "id": "c5d36f7c",
   "metadata": {},
   "source": [
    "***"
   ]
  },
  {
   "cell_type": "markdown",
   "id": "3646ee46",
   "metadata": {},
   "source": [
    "<div class=\"alert alert alert-info\">\n",
    "<strong>37.</strong> ¿Qué se evalúa mediante la validación cruzada en el contexto de modelos de pronóstico? (**)\n",
    "    <br></br>\n",
    "    <br>(A) La precisión del modelo en los datos de entrenamiento. </br>    \n",
    "    <br>(B) La precisión del modelo en los datos de prueba. </br>\n",
    "    <br>(C) La correlación entre variables independientes y dependientes. </br>\n",
    "    <br>(D) La varianza de los errores del modelo. </br>\n",
    "</div>"
   ]
  },
  {
   "cell_type": "code",
   "execution_count": null,
   "id": "e6999bc2",
   "metadata": {},
   "outputs": [],
   "source": [
    "***Escriba aquí su respuesta***\n"
   ]
  },
  {
   "cell_type": "markdown",
   "id": "6bc33e28",
   "metadata": {},
   "source": [
    "<div class=\"alert alert alert-danger\">\n",
    "Hacer doble click <b>aquí</b> para ver la solución:\n",
    "\n",
    "<!-- Respuesta:\n",
    "(B) La precisión del modelo en los datos de prueba.\n",
    "--->\n",
    "</div>"
   ]
  },
  {
   "cell_type": "markdown",
   "id": "2f666519",
   "metadata": {},
   "source": [
    "***"
   ]
  },
  {
   "cell_type": "markdown",
   "id": "a2e5c4bb",
   "metadata": {},
   "source": [
    "<div class=\"alert alert alert-info\">\n",
    "<strong>38.</strong> ¿Cuál de las siguientes afirmaciones es cierta sobre la regresión robusta? (**)\n",
    "    <br></br>\n",
    "    <br>(A) Es más sensible a los valores atípicos. </br>    \n",
    "    <br>(B) Ignora por completo los valores atípicos. </br>\n",
    "    <br>(C) Reduce la precisión del modelo. </br>\n",
    "    <br>(D) Es menos sensible a los valores atípicos. </br>\n",
    "</div>"
   ]
  },
  {
   "cell_type": "code",
   "execution_count": null,
   "id": "d8a0dba8",
   "metadata": {},
   "outputs": [],
   "source": [
    "***Escriba aquí su respuesta***\n"
   ]
  },
  {
   "cell_type": "markdown",
   "id": "12b48282",
   "metadata": {},
   "source": [
    "<div class=\"alert alert alert-danger\">\n",
    "Hacer doble click <b>aquí</b> para ver la solución:\n",
    "\n",
    "<!-- Respuesta:\n",
    "(D) Es menos sensible a los valores atípicos.\n",
    "--->\n",
    "</div>"
   ]
  },
  {
   "cell_type": "markdown",
   "id": "8066fb7c",
   "metadata": {},
   "source": [
    "***"
   ]
  },
  {
   "cell_type": "markdown",
   "id": "ca50b79d",
   "metadata": {},
   "source": [
    "<div class=\"alert alert alert-info\">\n",
    "<strong>39.</strong> ¿Qué se busca identificar al tratar con outliers en un análisis de regresión? (**)\n",
    "    <br></br>\n",
    "    <br>(A) Variables independientes irrelevantes. </br>    \n",
    "    <br>(B) Valores extremos en la variable dependiente. </br>\n",
    "    <br>(C) Variables dependientes colineales. </br>\n",
    "    <br>(D)  Valores extremos en las variables independientes. </br>\n",
    "</div>"
   ]
  },
  {
   "cell_type": "code",
   "execution_count": null,
   "id": "1f0084a1",
   "metadata": {},
   "outputs": [],
   "source": [
    "***Escriba aquí su respuesta***\n"
   ]
  },
  {
   "cell_type": "markdown",
   "id": "3b733fa7",
   "metadata": {},
   "source": [
    "<div class=\"alert alert alert-danger\">\n",
    "Hacer doble click <b>aquí</b> para ver la solución:\n",
    "\n",
    "<!-- Respuesta:\n",
    "(D) Valores extremos en las variables independientes.\n",
    "--->\n",
    "</div>"
   ]
  },
  {
   "cell_type": "markdown",
   "id": "659e61e9",
   "metadata": {},
   "source": [
    "***"
   ]
  },
  {
   "cell_type": "markdown",
   "id": "8aa2dd1b",
   "metadata": {},
   "source": [
    "<div class=\"alert alert alert-info\">\n",
    "<strong>40.</strong> ¿Qué medida se utiliza para evaluar la calidad de ajuste de un modelo de regresión lineal cuando se consideran múltiples variables independientes? (**)\n",
    "    <br></br>\n",
    "    <br>(A) Coeficiente de regresión. </br>    \n",
    "    <br>(B) R-cuadrado ajustado. </br>\n",
    "    <br>(C) Coeficiente de variación. </br>\n",
    "    <br>(D) Coeficiente de correlación de Pearson. </br>\n",
    "</div>"
   ]
  },
  {
   "cell_type": "code",
   "execution_count": null,
   "id": "c0f04ac5",
   "metadata": {},
   "outputs": [],
   "source": [
    "***Escriba aquí su respuesta***\n"
   ]
  },
  {
   "cell_type": "markdown",
   "id": "f68a15aa",
   "metadata": {},
   "source": [
    "<div class=\"alert alert alert-danger\">\n",
    "Hacer doble click <b>aquí</b> para ver la solución:\n",
    "\n",
    "<!-- Respuesta:\n",
    "(B) R-cuadrado ajustado.\n",
    "--->\n",
    "</div>"
   ]
  },
  {
   "cell_type": "markdown",
   "id": "b75c5d7c",
   "metadata": {},
   "source": [
    "***"
   ]
  }
 ],
 "metadata": {
  "kernelspec": {
   "display_name": "Python 3 (ipykernel)",
   "language": "python",
   "name": "python3"
  },
  "language_info": {
   "codemirror_mode": {
    "name": "ipython",
    "version": 3
   },
   "file_extension": ".py",
   "mimetype": "text/x-python",
   "name": "python",
   "nbconvert_exporter": "python",
   "pygments_lexer": "ipython3",
   "version": "3.11.3"
  },
  "toc": {
   "base_numbering": 1,
   "nav_menu": {},
   "number_sections": true,
   "sideBar": true,
   "skip_h1_title": true,
   "title_cell": "Table of Contents",
   "title_sidebar": "Contents",
   "toc_cell": false,
   "toc_position": {
    "height": "calc(100% - 180px)",
    "left": "10px",
    "top": "150px",
    "width": "256px"
   },
   "toc_section_display": true,
   "toc_window_display": false
  }
 },
 "nbformat": 4,
 "nbformat_minor": 5
}
