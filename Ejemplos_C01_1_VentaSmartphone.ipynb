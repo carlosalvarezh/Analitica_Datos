{
 "cells": [
  {
   "cell_type": "markdown",
   "id": "5c866ad7",
   "metadata": {},
   "source": [
    "<h1 align=\"center\">Analítica de datos para la toma de decisiones basadas en información</h1>\n",
    "<h1 align=\"center\">Estadística descritiva: Venta de Smartphones</h1>\n",
    "<h1 align=\"center\">2023</h1>\n",
    "<h1 align=\"center\">MEDELLÍN - COLOMBIA </h1>"
   ]
  },
  {
   "cell_type": "markdown",
   "id": "c16d1fa4",
   "metadata": {},
   "source": [
    "*** \n",
    "|[![Gmail](https://img.shields.io/badge/Gmail-D14836?style=plastic&logo=gmail&logoColor=white)](mailto:carlosalvarezh@gmail.com)|<carlosalvarezh@gmail.com>|[![Open In Colab](https://colab.research.google.com/assets/colab-badge.svg)](https://colab.research.google.com/github/carlosalvarezh/Curso_CEC_EAFIT/blob/main/Ejemplos_C01_1_VentaSmartphone.ipynb)\n",
    "|-:|:-|--:|\n",
    "|[![LinkedIn](https://img.shields.io/badge/linkedin-%230077B5.svg?style=plastic&logo=linkedin&logoColor=white)](https://www.linkedin.com/in/carlosalvarez5/)|[![@alvarezhenao](https://img.shields.io/twitter/url/https/twitter.com/alvarezhenao.svg?style=social&label=Follow%20%40alvarezhenao)](https://twitter.com/alvarezhenao)|[![@carlosalvarezh](https://img.shields.io/badge/github-%23121011.svg?style=plastic&logo=github&logoColor=white)](https://github.com/carlosalvarezh)|\n",
    "\n",
    "<table>\n",
    " <tr align=left><td><img align=left src=\"https://github.com/carlosalvarezh/Curso_CEC_EAFIT/blob/main/images/CCLogoColorPop1.gif?raw=true\" width=\"25\">\n",
    " <td>Text provided under a Creative Commons Attribution license, CC-BY. All code is made available under the FSF-approved MIT license.(c) Carlos Alberto Alvarez Henao</td>\n",
    "</table>\n",
    "\n",
    "***"
   ]
  },
  {
   "cell_type": "markdown",
   "id": "1561b88a",
   "metadata": {},
   "source": [
    "## Venta de Smartphones"
   ]
  },
  {
   "cell_type": "markdown",
   "id": "a13ddb38",
   "metadata": {},
   "source": [
    "### Descripción del Contexto Empresarial"
   ]
  },
  {
   "cell_type": "markdown",
   "id": "d68ea6de",
   "metadata": {},
   "source": [
    "Supongamos que somos parte de una empresa minorista que vende productos electrónicos. La alta dirección está interesada en analizar el desempeño de ventas de un producto específico durante el último año para tomar decisiones estratégicas sobre su producción y distribución en el próximo trimestre. El producto en cuestión es un smartphone de gama media. Nuestro objetivo es proporcionar información valiosa basada en el análisis de los datos de ventas."
   ]
  },
  {
   "cell_type": "markdown",
   "id": "796cb4f0",
   "metadata": {},
   "source": [
    "### Paso 1: Recopilación y Preparación de Datos:"
   ]
  },
  {
   "cell_type": "markdown",
   "id": "0318ba2f",
   "metadata": {},
   "source": [
    "Comenzamos por recopilar datos de ventas diarias del producto durante el último año. Supongamos que hemos recopilado los datos en un archivo CSV llamado \"ventas_smartphone.csv\". Los datos incluyen la fecha de venta y la cantidad de unidades vendidas por día."
   ]
  },
  {
   "cell_type": "code",
   "execution_count": null,
   "id": "940889e0",
   "metadata": {},
   "outputs": [],
   "source": [
    "import numpy as np\n",
    "import pandas as pd\n",
    "import matplotlib.pyplot as plt\n",
    "import seaborn as sns\n"
   ]
  },
  {
   "cell_type": "code",
   "execution_count": null,
   "id": "f30170b7",
   "metadata": {},
   "outputs": [],
   "source": [
    "# Genera datos de forma aleatoria de ventas hipotéticos para el ejemplo\n",
    "#np.random.seed(42)\n",
    "dates = pd.date_range(start=\"2022-01-01\", end=\"2022-12-31\", freq=\"D\")\n",
    "sales = np.random.randint(10, 100, size=len(dates))\n",
    "\n",
    "# se convierte a un DataFrame y se genera un archivo de datos\n",
    "data = pd.DataFrame({\"Fecha\": dates, \"Ventas\": sales})\n",
    "data.to_csv(\"Data/ventas_smartphone20.csv\", index=True)\n"
   ]
  },
  {
   "cell_type": "markdown",
   "id": "383a932e",
   "metadata": {},
   "source": [
    "### Paso 2: Análisis Descriptivo Inicial:"
   ]
  },
  {
   "cell_type": "markdown",
   "id": "3b0089df",
   "metadata": {},
   "source": [
    "Comenzamos calculando medidas de tendencia central y dispersión para tener una idea inicial del desempeño del producto."
   ]
  },
  {
   "cell_type": "code",
   "execution_count": null,
   "id": "7ae1033f",
   "metadata": {},
   "outputs": [],
   "source": [
    "# Cargar los datos\n",
    "data = pd.read_csv(\"Data/ventas_smartphone15.csv\")"
   ]
  },
  {
   "cell_type": "code",
   "execution_count": null,
   "id": "18c54c57",
   "metadata": {},
   "outputs": [],
   "source": [
    "data.head(10)"
   ]
  },
  {
   "cell_type": "code",
   "execution_count": null,
   "id": "4f15a563",
   "metadata": {
    "scrolled": true
   },
   "outputs": [],
   "source": [
    "data.tail(10)"
   ]
  },
  {
   "cell_type": "code",
   "execution_count": null,
   "id": "e6492547",
   "metadata": {},
   "outputs": [],
   "source": [
    "data.info()"
   ]
  },
  {
   "cell_type": "code",
   "execution_count": null,
   "id": "0b05cd00",
   "metadata": {},
   "outputs": [],
   "source": [
    "data.describe()"
   ]
  },
  {
   "cell_type": "code",
   "execution_count": null,
   "id": "4344215e",
   "metadata": {},
   "outputs": [],
   "source": [
    "# Medidas de tendencia central\n",
    "mean_sales = data[\"Ventas\"].mean()\n",
    "median_sales = data[\"Ventas\"].median()\n",
    "std_dev = data[\"Ventas\"].std()\n",
    "\n",
    "# Imprimir resultados parciales\n",
    "print(\"Media de Ventas:\", mean_sales)\n",
    "print(\"Mediana de Ventas:\", median_sales)\n",
    "print(\"Desviación Estándar:\", std_dev)\n"
   ]
  },
  {
   "cell_type": "markdown",
   "id": "7ac4cbd2",
   "metadata": {},
   "source": [
    "Comparando la media y la mediana, vemos que las ventas pueden estar sesgadas hacia valores más altos debido a la naturaleza de los datos de ventas. La desviación estándar nos indica la dispersión de las ventas en torno a la media.\n",
    "\n",
    "Dado el sesgo potencial en los datos, es importante visualizar la distribución de las ventas."
   ]
  },
  {
   "cell_type": "markdown",
   "id": "b076c4cf",
   "metadata": {},
   "source": [
    "### Paso 3: Visualización de Datos:"
   ]
  },
  {
   "cell_type": "markdown",
   "id": "3b3981fc",
   "metadata": {},
   "source": [
    "Crearemos un histograma y un boxplot para visualizar la distribución de las ventas."
   ]
  },
  {
   "cell_type": "code",
   "execution_count": null,
   "id": "c1295c82",
   "metadata": {},
   "outputs": [],
   "source": [
    "import matplotlib.pyplot as plt\n",
    "import seaborn as sns\n",
    "\n",
    "plt.figure(figsize=(4, 4))\n",
    "\n",
    "# Crear histograma\n",
    "plt.subplot(2, 1, 1)\n",
    "sns.histplot(data[\"Ventas\"], bins=10, kde=True)\n",
    "plt.title(\"Distribución de Ventas\")\n",
    "plt.xlabel(\"Ventas Diarias\")\n",
    "plt.ylabel(\"Frecuencia\")\n",
    "\n",
    "# Crear boxplot\n",
    "plt.subplot(2, 1, 2)\n",
    "sns.boxplot(y=data[\"Ventas\"])\n",
    "plt.title(\"Boxplot de Ventas\")\n",
    "plt.ylabel(\"Ventas Diarias\")\n",
    "\n",
    "plt.tight_layout()\n",
    "plt.show()"
   ]
  },
  {
   "cell_type": "markdown",
   "id": "05bfac8c",
   "metadata": {},
   "source": [
    "El histograma sugiere que las ventas tienden a agruparse alrededor de ciertos valores. El boxplot muestra la presencia de valores atípicos en las ventas.\n",
    "\n",
    "Dado que las ventas podrían no seguir una distribución normal, procederemos a realizar un análisis de normalidad."
   ]
  },
  {
   "cell_type": "markdown",
   "id": "4901aab6",
   "metadata": {},
   "source": [
    "### Paso 4: Análisis de Normalidad y Modelos Probabilísticos:"
   ]
  },
  {
   "cell_type": "markdown",
   "id": "b0e58aec",
   "metadata": {},
   "source": [
    "Realizaremos una prueba de normalidad usando el test de Shapiro-Wilk."
   ]
  },
  {
   "cell_type": "code",
   "execution_count": null,
   "id": "b8ebf95e",
   "metadata": {},
   "outputs": [],
   "source": [
    "from scipy.stats import shapiro\n",
    "\n",
    "# Prueba de normalidad\n",
    "stat, p = shapiro(data[\"Ventas\"])\n",
    "alpha = 0.05\n",
    "\n",
    "# Imprimir resultado de la prueba\n",
    "if p > alpha:\n",
    "    print(\"Los datos siguen una distribución normal (p =\", p, \")\")\n",
    "else:\n",
    "    print(\"Los datos no siguen una distribución normal (p =\", p, \")\")\n"
   ]
  },
  {
   "cell_type": "markdown",
   "id": "7de7014a",
   "metadata": {},
   "source": [
    "Dado que los datos no son normales, exploraremos modelos probabilísticos alternativos para describir la distribución de ventas."
   ]
  },
  {
   "cell_type": "markdown",
   "id": "7ede62ae",
   "metadata": {},
   "source": [
    "### Paso 5: Estimación Puntal y Margen de Error:"
   ]
  },
  {
   "cell_type": "markdown",
   "id": "41073eda",
   "metadata": {},
   "source": [
    "Calcularemos el intervalo de confianza para la media de ventas."
   ]
  },
  {
   "cell_type": "code",
   "execution_count": null,
   "id": "de50e571",
   "metadata": {},
   "outputs": [],
   "source": [
    "from scipy.stats import t\n",
    "\n",
    "confidence_level = 0.95\n",
    "n = len(data)\n",
    "mean = data[\"Ventas\"].mean()\n",
    "std_error = data[\"Ventas\"].std() / np.sqrt(n)\n",
    "t_critical = t.ppf((1 + confidence_level) / 2, df=n - 1)\n",
    "\n",
    "margin_of_error = t_critical * std_error\n",
    "confidence_interval = (mean - margin_of_error, mean + margin_of_error)\n",
    "\n",
    "print(\"Intervalo de Confianza ({}): {}\".format(confidence_level, confidence_interval))"
   ]
  },
  {
   "cell_type": "markdown",
   "id": "1ed9c437",
   "metadata": {},
   "source": [
    "El intervalo de confianza nos proporciona un rango donde esperamos que se encuentre la verdadera media de ventas.\n",
    "\n",
    "A seguir, vamos a realizar pruebas de hipótesis para evaluar algunas conjeturas sobre las ventas."
   ]
  },
  {
   "cell_type": "markdown",
   "id": "ae048cd4",
   "metadata": {},
   "source": [
    "### Paso 6: Pruebas de Hipótesis Paramétricas:"
   ]
  },
  {
   "cell_type": "markdown",
   "id": "b6a6c417",
   "metadata": {},
   "source": [
    "Supongamos que deseamos probar si el promedio de ventas es significativamente mayor a 50 unidades."
   ]
  },
  {
   "cell_type": "code",
   "execution_count": null,
   "id": "86e25399",
   "metadata": {},
   "outputs": [],
   "source": [
    "from scipy.stats import ttest_1samp\n",
    "\n",
    "null_hypothesis = \"El promedio de ventas es igual a 50\"\n",
    "alternative_hypothesis = \"El promedio de ventas es mayor a 50\"\n",
    "\n",
    "t_stat, p_value = ttest_1samp(data[\"Ventas\"], popmean=50)\n",
    "\n",
    "# Imprimir resultados de la prueba\n",
    "print(\"Valor de t:\", t_stat)\n",
    "print(\"Valor de p:\", p_value)\n",
    "\n",
    "if p_value < alpha:\n",
    "    print(\"Rechazar la hipótesis nula:\", alternative_hypothesis)\n",
    "else:\n",
    "    print(\"No hay suficiente evidencia para rechazar la hipótesis nula:\", null_hypothesis)"
   ]
  },
  {
   "cell_type": "markdown",
   "id": "4dbe2649",
   "metadata": {},
   "source": [
    "Dado que $p < 0.05$, rechazamos la hipótesis nula y concluimos que el promedio de ventas es mayor a $50$ unidades.\n",
    "\n",
    "Realizaremos pruebas de hipótesis no paramétricas, considerando que los datos no siguen una distribución normal."
   ]
  },
  {
   "cell_type": "markdown",
   "id": "4e4fc8c7",
   "metadata": {},
   "source": [
    "### Paso 7: Pruebas de Hipótesis No Paramétricas:"
   ]
  },
  {
   "cell_type": "markdown",
   "id": "0194abbf",
   "metadata": {},
   "source": [
    "Supongamos que deseamos probar si las ventas durante los primeros 6 meses son diferentes de las ventas durante los últimos 6 meses."
   ]
  },
  {
   "cell_type": "code",
   "execution_count": null,
   "id": "098a84db",
   "metadata": {},
   "outputs": [],
   "source": [
    "data.info()"
   ]
  },
  {
   "cell_type": "code",
   "execution_count": null,
   "id": "7eb4c4e4",
   "metadata": {},
   "outputs": [],
   "source": [
    "# Convertir la columna \"Fecha\" a tipo de dato de fecha\n",
    "data[\"Fecha\"] = pd.to_datetime(data[\"Fecha\"])"
   ]
  },
  {
   "cell_type": "code",
   "execution_count": null,
   "id": "fde3994d",
   "metadata": {},
   "outputs": [],
   "source": [
    "data.info()"
   ]
  },
  {
   "cell_type": "code",
   "execution_count": null,
   "id": "7ed91400",
   "metadata": {},
   "outputs": [],
   "source": [
    "data.head()"
   ]
  },
  {
   "cell_type": "code",
   "execution_count": null,
   "id": "7fe7cba9",
   "metadata": {},
   "outputs": [],
   "source": [
    "from scipy.stats import mannwhitneyu\n",
    "\n",
    "\n",
    "# Dividir los datos en dos grupos: primeros 6 meses y últimos 6 meses\n",
    "first_half = data[data[\"Fecha\"].dt.month <= 6][\"Ventas\"]\n",
    "second_half = data[data[\"Fecha\"].dt.month > 6][\"Ventas\"]\n",
    "\n",
    "# Realizar la prueba de Mann-Whitney U\n",
    "statistic, p_value = mannwhitneyu(first_half, second_half, alternative=\"two-sided\")\n",
    "\n",
    "# Imprimir resultados de la prueba\n",
    "print(\"Valor de U:\", statistic)\n",
    "print(\"Valor de p:\", p_value)\n",
    "\n",
    "if p_value < alpha:\n",
    "    print(\"Rechazar la hipótesis nula: Las ventas son diferentes en los dos períodos.\")\n",
    "else:\n",
    "    print(\"No hay suficiente evidencia para rechazar la hipótesis nula.\")\n"
   ]
  },
  {
   "cell_type": "code",
   "execution_count": null,
   "id": "8f7c5b2b",
   "metadata": {},
   "outputs": [],
   "source": [
    "first_half"
   ]
  },
  {
   "cell_type": "code",
   "execution_count": null,
   "id": "fb5df419",
   "metadata": {},
   "outputs": [],
   "source": [
    "mean1st = first_half.mean()\n",
    "mean1st"
   ]
  },
  {
   "cell_type": "code",
   "execution_count": null,
   "id": "3c0487f5",
   "metadata": {},
   "outputs": [],
   "source": [
    "mean2nd = second_half.mean()\n",
    "mean2nd"
   ]
  },
  {
   "cell_type": "markdown",
   "id": "929f4d37",
   "metadata": {},
   "source": [
    "Dado que $p < 0.05$, rechazamos la hipótesis nula y concluimos que las ventas son diferentes en los dos períodos.\n",
    "\n",
    "Con base en los resultados obtenidos, tomaremos decisiones empresariales."
   ]
  },
  {
   "cell_type": "markdown",
   "id": "2858be9d",
   "metadata": {},
   "source": [
    "### Análisis Final de los resultados"
   ]
  },
  {
   "cell_type": "markdown",
   "id": "b2f80c1e",
   "metadata": {},
   "source": [
    "Basándonos en el análisis realizado, podemos concluir lo siguiente:\n",
    "\n",
    "- Las ventas del producto no siguen una distribución normal.\n",
    "- Las ventas tienden a agruparse alrededor de ciertos valores, pero también hay valores atípicos.\n",
    "- La media de ventas es de aproximadamente X unidades con un intervalo de confianza del Y al Z.\n",
    "- El promedio de ventas es mayor a 50 unidades, lo que sugiere un buen desempeño.\n",
    "- Las ventas durante los primeros 6 meses son diferentes de las ventas durante los últimos 6 meses."
   ]
  },
  {
   "cell_type": "markdown",
   "id": "58f2ef83",
   "metadata": {},
   "source": [
    "### Decisiones Propuestas:"
   ]
  },
  {
   "cell_type": "markdown",
   "id": "7ff0a445",
   "metadata": {},
   "source": [
    "Dado el sesgo en la distribución de ventas, considerar estrategias para abordar los valores atípicos.\n",
    "\n",
    "- Explorar la posibilidad de promociones especiales para aumentar aún más las ventas en el próximo trimestre.\n",
    "- Evaluar las diferencias en las estrategias de marketing y ventas entre los dos períodos para identificar las causas de la variación.\n",
    "\n",
    "En resumen, este ejemplo demuestra cómo aplicar los conceptos de estadística univariante en un contexto empresarial real, desde la recopilación y análisis de datos hasta la toma de decisiones fundamentadas. Cada etapa del análisis proporciona información valiosa que guía las decisiones estratégicas de la empresa."
   ]
  },
  {
   "cell_type": "code",
   "execution_count": null,
   "id": "9fc152d0",
   "metadata": {},
   "outputs": [],
   "source": []
  }
 ],
 "metadata": {
  "kernelspec": {
   "display_name": "Python 3 (ipykernel)",
   "language": "python",
   "name": "python3"
  },
  "language_info": {
   "codemirror_mode": {
    "name": "ipython",
    "version": 3
   },
   "file_extension": ".py",
   "mimetype": "text/x-python",
   "name": "python",
   "nbconvert_exporter": "python",
   "pygments_lexer": "ipython3",
   "version": "3.11.3"
  },
  "toc": {
   "base_numbering": 1,
   "nav_menu": {},
   "number_sections": true,
   "sideBar": true,
   "skip_h1_title": true,
   "title_cell": "Table of Contents",
   "title_sidebar": "Contents",
   "toc_cell": false,
   "toc_position": {
    "height": "calc(100% - 180px)",
    "left": "10px",
    "top": "150px",
    "width": "165px"
   },
   "toc_section_display": true,
   "toc_window_display": false
  }
 },
 "nbformat": 4,
 "nbformat_minor": 5
}
