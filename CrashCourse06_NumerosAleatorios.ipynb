{
 "cells": [
  {
   "cell_type": "markdown",
   "id": "1511d57f",
   "metadata": {},
   "source": [
    "<h1 align=\"center\">Analítica de datos para la toma de decisiones empresariales</h1>\n",
    "<h1 align=\"center\">Crash Course: Generación de Números Aleatorios</h1>\n",
    "<h1 align=\"center\">Centro de Educación Continua</h1>\n",
    "<h1 align=\"center\">EAFIT</h1>\n",
    "<h1 align=\"center\">2023</h1>\n",
    "<h1 align=\"center\">MEDELLÍN - COLOMBIA </h1>"
   ]
  },
  {
   "cell_type": "markdown",
   "id": "4df05f68",
   "metadata": {},
   "source": [
    "*** \n",
    "|![Gmail](https://img.shields.io/badge/Gmail-D14836?style=plastic&logo=gmail&logoColor=white)|<carlosalvarezh@gmail.com>|![Outlook](https://img.shields.io/badge/Microsoft_Outlook-0078D4?style=plastic&logo=microsoft-outlook&logoColor=white)|<calvar52@eafit.edu.co>|\n",
    "|-:|:-|--:|:--|\n",
    "|[![LinkedIn](https://img.shields.io/badge/linkedin-%230077B5.svg?style=plastic&logo=linkedin&logoColor=white)](https://www.linkedin.com/in/carlosalvarez5/)|[![@alvarezhenao](https://img.shields.io/twitter/url/https/twitter.com/alvarezhenao.svg?style=social&label=Follow%20%40alvarezhenao)](https://twitter.com/alvarezhenao)|[![@carlosalvarezh](https://img.shields.io/badge/github-%23121011.svg?style=plastic&logo=github&logoColor=white)](https://github.com/carlosalvarezh)|[![Open In Colab](https://colab.research.google.com/assets/colab-badge.svg)](https://colab.research.google.com/github/carlosalvarezh/Curso_CEC_EAFIT/blob/main/CrashCourse07_NumerosAleatorios.ipynb)|\n",
    "\n",
    "<table>\n",
    " <tr align=left><td><img align=left src=\"https://github.com/carlosalvarezh/Curso_CEC_EAFIT/blob/main/images/CCLogoColorPop1.gif?raw=true\" width=\"25\">\n",
    " <td>Text provided under a Creative Commons Attribution license, CC-BY. All code is made available under the FSF-approved MIT license.(c) Carlos Alberto Alvarez Henao</td>\n",
    "</table>\n",
    "\n",
    "***"
   ]
  },
  {
   "cell_type": "markdown",
   "id": "cc8062ce",
   "metadata": {},
   "source": [
    "## Introducción"
   ]
  },
  {
   "cell_type": "markdown",
   "id": "8c19c4e6",
   "metadata": {},
   "source": [
    "Los [números aleatorios](https://en.wikipedia.org/wiki/Random_number_generation) son fundamentales en la simulación, el análisis estadístico y muchas otras aplicaciones en ciencias de datos. NumPy es una biblioteca numérica que nos proporciona herramientas eficientes para generar secuencias de números pseudoaleatorios con diversas distribuciones y propiedades.\n",
    "\n",
    "NumPy proporciona un módulo llamado [`numpy.random`](https://numpy.org/doc/stable/reference/random/index.html) que contiene una variedad de funciones para la generación de números aleatorios. Estos números no son verdaderamente aleatorios, sino que se generan utilizando algoritmos deterministas, lo que los hace pseudoaleatorios. Esto es útil para la reproducibilidad y el control experimental."
   ]
  },
  {
   "cell_type": "markdown",
   "id": "4e7b70de",
   "metadata": {},
   "source": [
    "## Números pseudoaleatorios"
   ]
  },
  {
   "cell_type": "markdown",
   "id": "d7e77191",
   "metadata": {},
   "source": [
    "La fuente de aleatoriedad que introducimos en nuestros programas y algoritmos es un truco matemático llamado [generador de números pseudoaleatorios](https://en.wikipedia.org/wiki/Pseudorandom_number_generator). Un generador de números aleatorios es un sistema que genera números aleatorios a partir de una fuente real de aleatoriedad, a menudo algo físico como un contador Geiger o ruido electrostático, cuyos resultados se convierten en números aleatorios. \n",
    "\n",
    "En el aprendizaje automático, no necesitamos verdadera aleatoriedad, en su lugar podemos utilizar la pseudorandomidad, que es una muestra de números que parecen ser aleatorios pero se generan mediante un proceso determinista. La mezcla de datos y la inicialización de coeficientes con valores aleatorios utilizan generadores de números pseudoaleatorios, y estos programas suelen ser una función que devuelve un número aleatorio al llamarla repetidamente. \n",
    "\n",
    "Los números se generan en una secuencia determinista que se inicia con un número inicial (semilla), y si no se especifica una semilla, el generador de números pseudoaleatorios puede utilizar el tiempo del sistema actual en segundos o milisegundos como semilla. El valor de la semilla no importa, puedes elegir cualquier valor, pero lo que sí importa es que la misma semilla dará como resultado la misma secuencia de números aleatorios."
   ]
  },
  {
   "cell_type": "markdown",
   "id": "db9b0394",
   "metadata": {},
   "source": [
    "## Funciones principales"
   ]
  },
  {
   "cell_type": "markdown",
   "id": "40904f73",
   "metadata": {},
   "source": [
    "- ***random.seed():*** Se utiliza para establecer la semilla (seed) del generador de números pseudoaleatorios. La semilla es un valor inicial que determina la secuencia de números aleatorios que se generará. Establecer una semilla específica garantiza que obtendrás la misma secuencia de números aleatorios cada vez que ejecutes tu código, lo que es útil para la reproducibilidad de los resultados en aplicaciones científicas y de análisis de datos.\n"
   ]
  },
  {
   "cell_type": "code",
   "execution_count": 9,
   "id": "120943ff",
   "metadata": {},
   "outputs": [
    {
     "name": "stdout",
     "output_type": "stream",
     "text": [
      "Números aleatorios generados con semilla 123: [0.69646919 0.28613933 0.22685145 0.55131477 0.71946897]\n",
      "Misma secuencia de números aleatorios con semilla 123: [0.69646919 0.28613933 0.22685145 0.55131477 0.71946897]\n"
     ]
    }
   ],
   "source": [
    "import numpy as np\n",
    "\n",
    "# Establecer una semilla específica\n",
    "np.random.seed(123)\n",
    "\n",
    "# Generar números aleatorios\n",
    "random_numbers = np.random.rand(5)\n",
    "print(\"Números aleatorios generados con semilla 123:\", random_numbers)\n",
    "\n",
    "# Volver a establecer la misma semilla\n",
    "np.random.seed(123)\n",
    "\n",
    "# Generar la misma secuencia de números aleatorios\n",
    "same_random_numbers = np.random.rand(5)\n",
    "print(\"Misma secuencia de números aleatorios con semilla 123:\", same_random_numbers)\n"
   ]
  },
  {
   "cell_type": "markdown",
   "id": "7798eaf9",
   "metadata": {},
   "source": [
    "- ***numpy.random.rand():*** La función numpy.random.rand() se utiliza en la librería Numpy de Python para generar números aleatorios distribuidos uniformemente en el rango [0, 1). Esta función genera números aleatorios en el intervalo semiabierto [0, 1), lo que significa que pueden incluir 0 pero nunca 1. Cada número generado es independiente de los demás y se distribuye de manera uniforme dentro de ese rango."
   ]
  },
  {
   "cell_type": "code",
   "execution_count": null,
   "id": "3ffb49bf",
   "metadata": {},
   "outputs": [],
   "source": [
    "import numpy as np\n",
    "\n",
    "# Genera un solo número aleatorio\n",
    "random_number = np.random.rand()\n",
    "print(\"Número aleatorio entre 0 y 1:\", random_number)\n",
    "\n",
    "# Genera un arreglo de números aleatorios\n",
    "random_array = np.random.rand(5)  # Genera un arreglo de 5 números aleatorios\n",
    "print(\"Arreglo de números aleatorios:\", random_array)\n",
    "\n",
    "# Genera una matriz de números aleatorios\n",
    "random_matrix = np.random.rand(2, 3)  # Genera una matriz de 2x3 con números aleatorios\n",
    "print(\"Matriz de números aleatorios:\\n\", random_matrix)\n"
   ]
  },
  {
   "cell_type": "markdown",
   "id": "7e6cdcf6",
   "metadata": {},
   "source": [
    "- ***numpy.random.randn():*** se utiliza para generar números aleatorios distribuidos de acuerdo a una distribución normal estándar, también conocida como la distribución normal estándar o la distribución gaussiana. En esta distribución, la media $\\mu=0$ y la desviación estándar $\\sigma=1$."
   ]
  },
  {
   "cell_type": "code",
   "execution_count": null,
   "id": "6bfd5998",
   "metadata": {},
   "outputs": [],
   "source": [
    "import numpy as np\n",
    "\n",
    "# Genera un solo número aleatorio con distribución normal estándar\n",
    "random_number = np.random.randn()\n",
    "print(\"Número aleatorio con distribución normal estándar:\", random_number)\n",
    "\n",
    "# Genera un arreglo de números aleatorios con distribución normal estándar\n",
    "random_array = np.random.randn(5)  # Genera un arreglo de 5 números aleatorios\n",
    "print(\"Arreglo de números aleatorios con distribución normal estándar:\", random_array)\n",
    "\n",
    "# Genera una matriz de números aleatorios con distribución normal estándar\n",
    "random_matrix = np.random.randn(2, 3)  # Genera una matriz de 2x3 con números aleatorios\n",
    "print(\"Matriz de números aleatorios con distribución normal estándar:\\n\", random_matrix)\n"
   ]
  },
  {
   "cell_type": "markdown",
   "id": "7abe638c",
   "metadata": {},
   "source": [
    "- ***numpy.random.randint():***  Se utiliza para generar números enteros aleatorios en un rango especificado. Esta función genera enteros aleatorios de manera uniforme en un intervalo semiabierto, lo que significa que el valor inferior está incluido en la generación, pero el valor superior no lo está."
   ]
  },
  {
   "cell_type": "code",
   "execution_count": null,
   "id": "0ba4a4a5",
   "metadata": {},
   "outputs": [],
   "source": [
    "import numpy as np\n",
    "\n",
    "# Genera un número entero aleatorio entre 0 y 9 (ambos incluidos)\n",
    "random_integer = np.random.randint(0, 10)\n",
    "print(\"Número entero aleatorio entre 0 y 9:\", random_integer)\n",
    "\n",
    "# Genera un arreglo de 5 números enteros aleatorios entre 1 y 100 (100 no incluido)\n",
    "random_array = np.random.randint(1, 100, 5)\n",
    "print(\"Arreglo de 5 números enteros aleatorios entre 1 y 99:\", random_array)\n",
    "\n",
    "# Genera una matriz de 2x3 de números enteros aleatorios entre -5 y 5 (5 no incluido)\n",
    "random_matrix = np.random.randint(-5, 5, (2, 3))\n",
    "print(\"Matriz de números enteros aleatorios entre -5 y 4:\\n\", random_matrix)\n"
   ]
  },
  {
   "cell_type": "markdown",
   "id": "00c786ce",
   "metadata": {},
   "source": [
    "- ***numpy.random.choice():*** Se utiliza para generar selecciones aleatorias a partir de un conjunto de elementos dados. Puedes pensar en ella como una función que simula una elección al azar de elementos de una lista o arreglo. Esta función es muy útil cuando deseas realizar muestreos aleatorios o permutaciones de datos. La sintaxis general de numpy.random.choice() es la siguiente:\n",
    "\n",
    "```python\n",
    "numpy.random.choice(a, size=None, replace=True, p=None)\n",
    "```\n",
    "    - a: Es el conjunto de elementos del cual se realizarán las selecciones. Puede ser una lista, un arreglo de Numpy o un entero (si se usa un entero, se considera como el rango del cual se realizarán selecciones, por ejemplo, a=5 significa que se seleccionarán números de 0 a 4).\n",
    "<p>&nbsp;</p>\n",
    "\n",
    "    - size: Es un parámetro opcional que especifica el tamaño de la muestra que deseas generar. Por defecto, es None, lo que significa que se generará una única selección. Si se especifica un número entero, se generará una muestra de ese tamaño.\n",
    "<p>&nbsp;</p>\n",
    "\n",
    "    - replace: Es un parámetro opcional que determina si se permite la selección con reemplazo o no. Si es True, se permite el reemplazo, lo que significa que el mismo elemento puede ser seleccionado varias veces. Si es False, no se permite el reemplazo.\n",
    "<p>&nbsp;</p>\n",
    "\n",
    "    - p: Es un parámetro opcional que especifica las probabilidades asociadas a cada elemento en a. Si se proporciona, debe ser una lista o arreglo que sume 1. Si no se proporciona, todas las selecciones se consideran igualmente probables.\n"
   ]
  },
  {
   "cell_type": "code",
   "execution_count": null,
   "id": "611a290d",
   "metadata": {},
   "outputs": [],
   "source": [
    "import numpy as np\n",
    "\n",
    "# Conjunto de elementos\n",
    "elementos = ['manzana', 'banana', 'cereza', 'dátil', 'uva', 'papaya', 'mango', 'lulo', 'curuba']\n",
    "\n",
    "# Selección aleatoria de un elemento\n",
    "seleccion = np.random.choice(elementos)\n",
    "print(\"Selección aleatoria de un elemento:\", seleccion)\n",
    "\n",
    "# Selección aleatoria de tres elementos sin reemplazo\n",
    "seleccion_sin_reemplazo = np.random.choice(elementos, size=3, replace=False)\n",
    "print(\"Selección aleatoria de tres elementos sin reemplazo:\", seleccion_sin_reemplazo)\n",
    "\n",
    "# Selección aleatoria de cinco elementos con reemplazo y probabilidades personalizadas\n",
    "probabilidades = [0.15, 0.15, 0.1, 0.05, 0.15, 0.1, 0.05, 0.1, 0.15]\n",
    "seleccion_con_probabilidades = np.random.choice(elementos, size=5, replace=True, p=probabilidades)\n",
    "print(\"Selección aleatoria de cinco elementos con reemplazo y probabilidades personalizadas:\", seleccion_con_probabilidades)\n"
   ]
  },
  {
   "cell_type": "markdown",
   "id": "c69bb9d1",
   "metadata": {},
   "source": [
    "- ***sample():*** Puede que estemos interesados en repetir la selección aleatoria de elementos de una lista para crear un subconjunto elegido al azar.\n",
    "\n",
    "Es importante destacar que, una vez que se selecciona un elemento de la lista y se agrega al subconjunto, no debe agregarse de nuevo. Esto se llama selección sin reemplazo, porque una vez que se selecciona un elemento de la lista para el subconjunto, no se vuelve a agregar a la lista original (es decir, no está disponible para su reselección).\n",
    "\n",
    "Este comportamiento se proporciona en la función `sample()`, que selecciona una muestra aleatoria de una lista sin reemplazo. La función toma tanto la lista como el tamaño del subconjunto a seleccionar como argumentos. Es importante destacar que los elementos no se eliminan realmente de la lista original, solo se seleccionan en una copia de la lista.\n",
    "\n",
    "El ejemplo a continuación muestra cómo seleccionar un subconjunto de cinco elementos de una lista de 20 enteros."
   ]
  },
  {
   "cell_type": "code",
   "execution_count": null,
   "id": "dbf5bfa6",
   "metadata": {},
   "outputs": [],
   "source": [
    "# select a random sample without replacement\n",
    "from random import seed\n",
    "from random import sample\n",
    "# seed random number generator\n",
    "seed(1)\n",
    "# prepare a sequence\n",
    "sequence = [i for i in range(20)]\n",
    "print(sequence)\n",
    "# select a subset without replacement\n",
    "subset = sample(sequence, 5)\n",
    "print(subset)"
   ]
  },
  {
   "cell_type": "markdown",
   "id": "41a708b4",
   "metadata": {},
   "source": [
    "- ***numpy.random.shuffle():*** Se utiliza para realizar una permutación aleatoria de un arreglo o lista de elementos. En otras palabras, esta función reorganiza aleatoriamente los elementos en el arreglo de entrada, de manera que los elementos queden en un orden completamente aleatorio. Es importante destacar que esta función modifica el arreglo original en su lugar y no devuelve una copia reordenada."
   ]
  },
  {
   "cell_type": "code",
   "execution_count": null,
   "id": "b5782849",
   "metadata": {
    "scrolled": true
   },
   "outputs": [],
   "source": [
    "deck_of_cards = np.arange(1, 53)\n",
    "print(deck_of_cards)\n",
    "\n",
    "a = np.random.shuffle(deck_of_cards)  # Mezcla las cartas del mazo\n",
    "print(deck_of_cards)"
   ]
  },
  {
   "cell_type": "markdown",
   "id": "6c519ecf",
   "metadata": {},
   "source": [
    "<div class=\"alert alert alert-info\">\n",
    "En el documento <a href=\"./CrashCourse06_DistribucionesProbabilidad.ipynb\">CrashCourse06_DistribucionesProbabilidad</a> encontrará otros ejemplos del uso de funciones aleatorias enfocadas a distribuciones de probabilidad.\n",
    "</div>"
   ]
  },
  {
   "cell_type": "markdown",
   "id": "00ad3781",
   "metadata": {},
   "source": [
    "## Formas Modernas de Generación de Números Aleatorios en NumPy"
   ]
  },
  {
   "cell_type": "markdown",
   "id": "f2dfb02d",
   "metadata": {},
   "source": [
    "En versiones más recientes de NumPy, puedes generar números aleatorios de la siguiente manera:"
   ]
  },
  {
   "cell_type": "code",
   "execution_count": null,
   "id": "c98e10ea",
   "metadata": {},
   "outputs": [],
   "source": [
    "import numpy as np\n",
    "\n",
    "rng = np.random.Generator(np.random.PCG64())\n",
    "rng = np.random.default_rng()\n",
    "\n",
    "# uniform from 0 to 1\n",
    "value_uniform = rng.random()\n",
    "print(\"value_uniform: \", value_uniform)\n",
    "\n",
    "# generate 10 Gaussian random number\n",
    "values_normal = rng.standard_normal(10)\n",
    "print(\"values_normal: \", value_normal)\n",
    "\n",
    "# generate 20 random integers between 0 and 10\n",
    "values_int = rng.integers(low=0, high=10, size=20)\n",
    "print(\"values_int: \", value_int)\n",
    "\n",
    "# shuffle a sequence in-place\n",
    "print(rng.shuffle(sequence))\n"
   ]
  },
  {
   "cell_type": "code",
   "execution_count": null,
   "id": "9dd1d9dc",
   "metadata": {},
   "outputs": [],
   "source": []
  }
 ],
 "metadata": {
  "kernelspec": {
   "display_name": "Python 3 (ipykernel)",
   "language": "python",
   "name": "python3"
  },
  "language_info": {
   "codemirror_mode": {
    "name": "ipython",
    "version": 3
   },
   "file_extension": ".py",
   "mimetype": "text/x-python",
   "name": "python",
   "nbconvert_exporter": "python",
   "pygments_lexer": "ipython3",
   "version": "3.11.3"
  },
  "toc": {
   "base_numbering": 1,
   "nav_menu": {},
   "number_sections": true,
   "sideBar": true,
   "skip_h1_title": true,
   "title_cell": "Table of Contents",
   "title_sidebar": "Contents",
   "toc_cell": false,
   "toc_position": {
    "height": "calc(100% - 180px)",
    "left": "10px",
    "top": "150px",
    "width": "256px"
   },
   "toc_section_display": true,
   "toc_window_display": false
  }
 },
 "nbformat": 4,
 "nbformat_minor": 5
}
