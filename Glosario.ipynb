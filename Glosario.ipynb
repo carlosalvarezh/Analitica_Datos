{
 "cells": [
  {
   "cell_type": "markdown",
   "id": "917cc5c1",
   "metadata": {},
   "source": [
    "<h1 align=\"center\">Analítica de datos para la toma de decisiones empresariales</h1>\n",
    "<h1 align=\"center\">Glosario</h1>\n",
    "<h1 align=\"center\">Centro de Educación Continua</h1>\n",
    "<h1 align=\"center\">EAFIT</h1>\n",
    "<h1 align=\"center\">2023</h1>\n",
    "<h1 align=\"center\">MEDELLÍN - COLOMBIA </h1>"
   ]
  },
  {
   "cell_type": "markdown",
   "id": "c8279081",
   "metadata": {},
   "source": [
    "<table>\n",
    " <tr align=left><td><img align=left src=\"https://github.com/carlosalvarezh/CFD_Applied/blob/master/figs/CC-BY.png?raw=true\">\n",
    " <td>Text provided under a Creative Commons Attribution license, CC-BY. All code is made available under the FSF-approved MIT license.(c) Carlos Alberto Alvarez Henao</td>\n",
    "</table>"
   ]
  },
  {
   "cell_type": "markdown",
   "id": "5f887a50",
   "metadata": {},
   "source": [
    "# Glosario"
   ]
  },
  {
   "cell_type": "markdown",
   "id": "6f86b769",
   "metadata": {},
   "source": [
    "A continuación se presente un glosario de términos encontrados en los diferentes capítulos del curso."
   ]
  },
  {
   "cell_type": "markdown",
   "id": "2da18052",
   "metadata": {},
   "source": [
    "# A"
   ]
  },
  {
   "cell_type": "markdown",
   "id": "0d35c58d",
   "metadata": {},
   "source": [
    "**Análisis de Componentes Independientes (ICA):** Un método que busca descomponer un conjunto de datos en una combinación lineal de componentes independientes, lo que es útil para separar señales mixtas en datos multivariados."
   ]
  },
  {
   "cell_type": "markdown",
   "id": "e6e3552d",
   "metadata": {},
   "source": [
    "**Análisis de Componentes Principales (PCA):** Un método que reduce la dimensionalidad de los datos manteniendo la mayor cantidad posible de la varianza original."
   ]
  },
  {
   "cell_type": "markdown",
   "id": "24e470d5",
   "metadata": {},
   "source": [
    "**Análisis de Coordenadas Principales (PCoA):** Un método de reducción de dimensionalidad que convierte las distancias entre muestras en coordenadas en un espacio de menor dimensión."
   ]
  },
  {
   "cell_type": "markdown",
   "id": "e93873e8",
   "metadata": {},
   "source": [
    "**Análisis de Factores (FA):** Un método que explora relaciones subyacentes entre variables observadas y busca explicar estas relaciones en términos de factores latentes."
   ]
  },
  {
   "cell_type": "markdown",
   "id": "afc9e717",
   "metadata": {},
   "source": [
    "**Análisis de Series de Tiempo:** Una secuencia de observaciones ordenadas en el tiempo, generalmente tomadas en intervalos regulares."
   ]
  },
  {
   "cell_type": "markdown",
   "id": "e3d042e2",
   "metadata": {},
   "source": [
    "**Análisis Discriminante Lineal (LDA):** Un método que busca maximizar la separación entre diferentes clases en un conjunto de datos, proyectando los datos en un espacio de menor dimensión."
   ]
  },
  {
   "cell_type": "markdown",
   "id": "7e97de36",
   "metadata": {},
   "source": [
    "**ANOVA (Análisis de Varianza):** Es una prueba estadística utilizada para comparar las medias de tres o más grupos para determinar si hay diferencias significativas entre ellas."
   ]
  },
  {
   "cell_type": "markdown",
   "id": "07dc682a",
   "metadata": {},
   "source": [
    "**Asimetría:** Es una medida que describe la falta de simetría en una distribución de datos. Puede ser positiva (cola larga hacia la derecha) o negativa (cola larga hacia la izquierda), indicando la dirección de la desviación de la distribución con respecto a la normalidad."
   ]
  },
  {
   "cell_type": "markdown",
   "id": "b029e352",
   "metadata": {},
   "source": [
    "**Asimetría Negativa:** Indica que la cola izquierda de la distribución es más larga que la derecha, lo que significa que hay valores extremadamente bajos en los datos."
   ]
  },
  {
   "cell_type": "markdown",
   "id": "399170e1",
   "metadata": {},
   "source": [
    "**Asimetría Positiva:** Indica que la cola derecha de la distribución es más larga que la izquierda, lo que significa que hay valores extremadamente altos en los datos."
   ]
  },
  {
   "cell_type": "markdown",
   "id": "2ff4f465",
   "metadata": {},
   "source": [
    "# B"
   ]
  },
  {
   "cell_type": "markdown",
   "id": "a3451b65",
   "metadata": {},
   "source": [
    "**Bigotes:** En un diagrama de caja, los bigotes son las líneas que se extienden desde los extremos de la caja hasta los valores más extremos dentro de ciertos límites."
   ]
  },
  {
   "cell_type": "markdown",
   "id": "4b7889dd",
   "metadata": {},
   "source": [
    "**Bimodal:** Un conjunto de datos es bimodal cuando tiene dos picos bien definidos en su distribución de frecuencias."
   ]
  },
  {
   "cell_type": "markdown",
   "id": "55a1c5e0",
   "metadata": {},
   "source": [
    "**Bootstrapping:** Un método de remuestreo que crea muestras de los datos originales permitiendo repeticiones, lo que ayuda a estimar la distribución de los estadísticos."
   ]
  },
  {
   "cell_type": "markdown",
   "id": "89f95a17",
   "metadata": {},
   "source": [
    "# C"
   ]
  },
  {
   "cell_type": "markdown",
   "id": "249a148f",
   "metadata": {},
   "source": [
    "**Cluster de Densidad:** Un enfoque de clustering que identifica regiones densas de puntos en el espacio de características y agrupa los puntos cercanos en clusters."
   ]
  },
  {
   "cell_type": "markdown",
   "id": "3f038138",
   "metadata": {},
   "source": [
    "**Coeficiente de Aplanamiento (Kurtosis):** Una medida que evalúa la forma de la distribución de un conjunto de datos en relación con la distribución normal."
   ]
  },
  {
   "cell_type": "markdown",
   "id": "caa263ab",
   "metadata": {},
   "source": [
    "**Coeficientes de Correlación:** Son medidas estadísticas que indican el grado y la dirección de la relación entre dos variables. Estos coeficientes proporcionan información sobre cómo las variables cambian en relación entre sí."
   ]
  },
  {
   "cell_type": "markdown",
   "id": "857c4146",
   "metadata": {},
   "source": [
    "**Coeficiente de Correlación de Kendall:** Es una medida de la correlación que evalúa el grado de concordancia entre las clasificaciones (órdenes) de dos variables. Similar al coeficiente de Spearman, es útil cuando los datos no siguen una relación lineal."
   ]
  },
  {
   "cell_type": "markdown",
   "id": "d95fca19",
   "metadata": {},
   "source": [
    "**Coeficiente de Correlación de Pearson:** Es una medida de la correlación lineal entre dos variables continuas. Toma valores entre -1 y 1, donde 1 indica una correlación positiva perfecta, -1 una correlación negativa perfecta y 0 una falta de correlación."
   ]
  },
  {
   "cell_type": "markdown",
   "id": "ad655229",
   "metadata": {},
   "source": [
    "**Coeficiente de Correlación de Spearman:** Es una medida de la correlación que evalúa la relación entre las clasificaciones (órdenes) de dos variables en lugar de sus valores exactos. Es útil cuando las variables no siguen una relación lineal."
   ]
  },
  {
   "cell_type": "markdown",
   "id": "029cf93f",
   "metadata": {},
   "source": [
    "**Coeficiente de Determinación (𝑅²):** Es una medida que indica la proporción de la variabilidad total de la variable dependiente que es explicada por el modelo de regresión. Toma valores entre 0 y 1."
   ]
  },
  {
   "cell_type": "markdown",
   "id": "299d2ed0",
   "metadata": {},
   "source": [
    "**Coeficientes de Regresión:** Son parámetros que describen la relación entre una variable independiente y una variable dependiente en un modelo de regresión. Aunque a menudo se asocian con la regresión lineal, su interpretación general se aplica a cualquier tipo de relación funcional entre las variables, no solo las relaciones lineales."
   ]
  },
  {
   "cell_type": "markdown",
   "id": "4013c7d2",
   "metadata": {},
   "source": [
    "**Componente Residual:** La parte de una serie de tiempo que no se explica por la tendencia ni la estacionalidad."
   ]
  },
  {
   "cell_type": "markdown",
   "id": "84e6ec87",
   "metadata": {},
   "source": [
    "**Correlación:** Es una medida estadística que indica la relación entre dos variables. Puede ser positiva (ambas variables aumentan juntas), negativa (una variable aumenta mientras la otra disminuye) o nula (no hay relación aparente)."
   ]
  },
  {
   "cell_type": "markdown",
   "id": "6b5c0ba9",
   "metadata": {},
   "source": [
    "**Curtosis:** Es una medida que indica qué tan puntiaguda o aplanada es la forma de la distribución de datos en comparación con una distribución normal. Una curtosis alta significa una distribución puntiaguda (con colas largas), mientras que una curtosis baja indica una distribución achatada."
   ]
  },
  {
   "cell_type": "markdown",
   "id": "a84f0d3b",
   "metadata": {},
   "source": [
    "# D"
   ]
  },
  {
   "cell_type": "markdown",
   "id": "d11033d1",
   "metadata": {},
   "source": [
    "**DBSCAN (Density-Based Spatial Clustering of Applications with Noise):** Un algoritmo de clustering que agrupa puntos en clusters basados en la densidad y detecta outliers como ruido."
   ]
  },
  {
   "cell_type": "markdown",
   "id": "2db674fa",
   "metadata": {},
   "source": [
    "**DBSCAN Generalizado (GDBSCAN):** Una extensión del algoritmo DBSCAN que permite identificar clusters de formas más complejas y flexibles."
   ]
  },
  {
   "cell_type": "markdown",
   "id": "d937ae00",
   "metadata": {},
   "source": [
    "**Desviación Estándar:** Es una medida de dispersión que indica cuánto varían los valores individuales con respecto a la media. Una desviación estándar mayor indica mayor dispersión."
   ]
  },
  {
   "cell_type": "markdown",
   "id": "bae7ad59",
   "metadata": {},
   "source": [
    "**Diagrama de Caja (Box Plot):** Es un gráfico que muestra la distribución de un conjunto de datos a través de cuartiles, resaltando valores atípicos y la dispersión de los datos."
   ]
  },
  {
   "cell_type": "markdown",
   "id": "5aa1f1e0",
   "metadata": {},
   "source": [
    "**Dimensionalidad:** La cantidad de variables o características en un conjunto de datos."
   ]
  },
  {
   "cell_type": "markdown",
   "id": "9d6e77be",
   "metadata": {},
   "source": [
    "**Distancia Euclidiana:** La distancia más corta entre dos puntos en un espacio Euclidiano, calculada como la raíz cuadrada de la suma de las diferencias al cuadrado en cada dimensión."
   ]
  },
  {
   "cell_type": "markdown",
   "id": "f65e08d2",
   "metadata": {},
   "source": [
    "**Distancia de Manhattan:** La suma de las diferencias absolutas entre las coordenadas de dos puntos en un espacio."
   ]
  },
  {
   "cell_type": "markdown",
   "id": "0f15c434",
   "metadata": {},
   "source": [
    "**Distancia de Minkowski:** Una generalización de las distancias Euclidiana y de Manhattan, controlada por un parámetro p."
   ]
  },
  {
   "cell_type": "markdown",
   "id": "ad9ba640",
   "metadata": {},
   "source": [
    "**Distancia Estadística:** Una medida de la diferencia entre dos distribuciones estadísticas."
   ]
  },
  {
   "cell_type": "markdown",
   "id": "1fd052a1",
   "metadata": {},
   "source": [
    "**Distribución de Poisson:** Modela el número de eventos que ocurren en un intervalo de tiempo o espacio, dado un promedio de eventos y suponiendo que los eventos ocurren de manera independiente."
   ]
  },
  {
   "cell_type": "markdown",
   "id": "a13d745f",
   "metadata": {},
   "source": [
    "**Distribución Exponencial:** Describe el tiempo entre eventos en un proceso de Poisson, donde los eventos ocurren de manera aleatoria y constante en el tiempo."
   ]
  },
  {
   "cell_type": "markdown",
   "id": "7d62ad99",
   "metadata": {},
   "source": [
    "**Distribución Uniforme:** Es aquella en la que todos los valores posibles tienen la misma probabilidad de ocurrir dentro de un intervalo definido."
   ]
  },
  {
   "cell_type": "markdown",
   "id": "c2f0ac63",
   "metadata": {},
   "source": [
    "# E"
   ]
  },
  {
   "cell_type": "markdown",
   "id": "9e55785e",
   "metadata": {},
   "source": [
    "**Ecuación de Regresión Lineal Múltiple:** La ecuación que representa un modelo de regresión lineal con múltiples variables independientes: $y=\\beta_0 + \\beta_1 \\cdot x_1 + \\beta_2 \\cdot x_2 + \\ldots + \\beta_n \\cdot x_n$, donde $\\beta_0$ es la ordenada al origen y $\\beta_0, \\beta_1, \\beta_2, \\ldots, \\beta_n$ son los coeficientes de regresión."
   ]
  },
  {
   "cell_type": "markdown",
   "id": "448f0d51",
   "metadata": {},
   "source": [
    "**Ecuación de Regresión Lineal Simple:** La ecuación que representa la línea recta de regresión para un modelo de regresión lineal simple: $y=\\beta_0 + \\beta_1 \\cdot x $, donde $\\beta_0$ es la ordenada al origen y $\\beta_1$ es la pendiente de la línea."
   ]
  },
  {
   "cell_type": "markdown",
   "id": "9bbe1ada",
   "metadata": {},
   "source": [
    "**Elipsoides de Dispersión:** Representaciones gráficas de la dispersión en múltiples dimensiones, visualizando la forma y orientación de los datos."
   ]
  },
  {
   "cell_type": "markdown",
   "id": "cc34cb08",
   "metadata": {},
   "source": [
    "**Error Estándar de Estimación (SEE):** Una medida de cuánto varían los valores observados de la variable dependiente alrededor de la línea de regresión. Indica cuán precisas son las predicciones del modelo."
   ]
  },
  {
   "cell_type": "markdown",
   "id": "dbfab290",
   "metadata": {},
   "source": [
    "**Esfericidad de Mahalanobis:** Una medida de cómo los ejes de un conjunto de datos se asemejan a una esfera en un espacio de características."
   ]
  },
  {
   "cell_type": "markdown",
   "id": "7c92a9a0",
   "metadata": {},
   "source": [
    "**Estacionalidad:** Patrones recurrentes en una serie de tiempo que ocurren a intervalos regulares, como estaciones del año."
   ]
  },
  {
   "cell_type": "markdown",
   "id": "3dd7e75c",
   "metadata": {},
   "source": [
    "**Estadística:** La estadística es una disciplina que se encarga de recopilar, organizar, analizar e interpretar datos para comprender patrones, tendencias y variabilidad en un conjunto de datos."
   ]
  },
  {
   "cell_type": "markdown",
   "id": "febd57b7",
   "metadata": {},
   "source": [
    "**Estadística Multivariante:** El estudio de la relación entre múltiples variables simultáneamente y cómo interactúan entre sí."
   ]
  },
  {
   "cell_type": "markdown",
   "id": "473f077f",
   "metadata": {},
   "source": [
    "**Estadístico de Durbin-Watson:** Un estadístico utilizado para evaluar la presencia de autocorrelación en los residuales de un modelo de regresión."
   ]
  },
  {
   "cell_type": "markdown",
   "id": "384d49bc",
   "metadata": {},
   "source": [
    "**Estadístico de Jarque-Bera:** Un estadístico utilizado para evaluar si los residuales de un modelo de regresión se distribuyen normalmente."
   ]
  },
  {
   "cell_type": "markdown",
   "id": "7436950f",
   "metadata": {},
   "source": [
    "**Estadístico de Omnibus:** Un estadístico utilizado para evaluar la normalidad de los residuales de un modelo de regresión."
   ]
  },
  {
   "cell_type": "markdown",
   "id": "52bb0557",
   "metadata": {},
   "source": [
    "# F"
   ]
  },
  {
   "cell_type": "markdown",
   "id": "d82a3a70",
   "metadata": {},
   "source": []
  },
  {
   "cell_type": "markdown",
   "id": "96b167d7",
   "metadata": {},
   "source": [
    "# G"
   ]
  },
  {
   "cell_type": "markdown",
   "id": "43ec248c",
   "metadata": {},
   "source": [
    "**Gráficos de Burbuja:** Representaciones gráficas que utilizan burbujas con tamaño y posición variables para mostrar relaciones entre tres o más variables."
   ]
  },
  {
   "cell_type": "markdown",
   "id": "d7b2cd63",
   "metadata": {},
   "source": [
    "**Gráfico Circular (Pie Chart):** Un gráfico circular es una representación de datos categóricos en forma de un círculo dividido en sectores, donde cada sector representa una categoría y su tamaño es proporcional a la frecuencia o proporción de esa categoría."
   ]
  },
  {
   "cell_type": "markdown",
   "id": "ab802742",
   "metadata": {},
   "source": [
    "**Gráfico de Barras:** Un gráfico de barras es una representación visual de datos categóricos usando barras rectangulares para mostrar la cantidad o frecuencia de cada categoría."
   ]
  },
  {
   "cell_type": "markdown",
   "id": "6654f200",
   "metadata": {},
   "source": [
    "**Gráfico de Correlación:** Gráficos que visualizan las relaciones entre las variables de un conjunto de datos, resaltando las correlaciones entre pares de variables."
   ]
  },
  {
   "cell_type": "markdown",
   "id": "df2d7688",
   "metadata": {},
   "source": [
    "**Gráfico de Dispersión (Scatter Plot):** Un gráfico de dispersión muestra la relación entre dos variables mediante puntos individuales en un plano, lo que permite identificar patrones y correlaciones entre ellas."
   ]
  },
  {
   "cell_type": "markdown",
   "id": "ffc5c3b1",
   "metadata": {},
   "source": [
    "**Gráfico de Líneas:** Un gráfico de líneas muestra la relación entre dos variables utilizando puntos conectados por segmentos de línea, lo que facilita la visualización de tendencias a lo largo del tiempo o de otro tipo de secuencia."
   ]
  },
  {
   "cell_type": "markdown",
   "id": "e70d92f5",
   "metadata": {},
   "source": [
    "**Gráficos de Representación de Información:** Son representaciones visuales de los datos que ayudan a comprender patrones y relaciones en los datos. Ejemplos incluyen histogramas, gráficos de barras, gráficos circulares y diagramas de caja."
   ]
  },
  {
   "cell_type": "markdown",
   "id": "e40482b2",
   "metadata": {},
   "source": [
    "**Gráfico Violín:** Un gráfico violín es una representación combinada de un diagrama de caja y un gráfico de densidad, que muestra tanto la distribución de los datos como sus estadísticas resumidas."
   ]
  },
  {
   "cell_type": "markdown",
   "id": "6a70bc6e",
   "metadata": {},
   "source": [
    "# H"
   ]
  },
  {
   "cell_type": "markdown",
   "id": "aedb243a",
   "metadata": {},
   "source": [
    "**Histograma:** Un histograma es un gráfico de barras que muestra la distribución de frecuencias de un conjunto de datos continuos dividiendo los datos en intervalos."
   ]
  },
  {
   "cell_type": "markdown",
   "id": "aea576c1",
   "metadata": {},
   "source": [
    "**Histograma Simétrico:** Un histograma simétrico es aquel en el que la distribución de frecuencias es aproximadamente igual a ambos lados de su centro."
   ]
  },
  {
   "cell_type": "markdown",
   "id": "edce40a5",
   "metadata": {},
   "source": [
    "# I"
   ]
  },
  {
   "cell_type": "markdown",
   "id": "c61b0b95",
   "metadata": {},
   "source": [
    "**Indicadores de Dispersión:** Estos indicadores miden la variabilidad o dispersión de los datos alrededor de una medida de tendencia central. Ejemplos incluyen el rango, la desviación estándar y la varianza."
   ]
  },
  {
   "cell_type": "markdown",
   "id": "70c4622a",
   "metadata": {},
   "source": [
    "**Indicadores de Centralidad:** Estadísticas que describen la ubicación central de los datos en un conjunto, como la media y la mediana multivariante."
   ]
  },
  {
   "cell_type": "markdown",
   "id": "8f6e4a4c",
   "metadata": {},
   "source": [
    "**Indicadores de Dispersión:** Estadísticas que cuantifican cómo los datos se extienden o distribuyen en relación con una medida de centralidad, como la matriz de covarianza."
   ]
  },
  {
   "cell_type": "markdown",
   "id": "880ca305",
   "metadata": {},
   "source": [
    "**Indicadores de Forma:** Estadísticas que caracterizan la forma de la distribución de los datos, como el coeficiente de aplanamiento (kurtosis) y el índice de forma."
   ]
  },
  {
   "cell_type": "markdown",
   "id": "0cdaa688",
   "metadata": {},
   "source": [
    "**Indicadores de Normalidad:** Estos indicadores ayudan a evaluar si un conjunto de datos sigue una distribución normal. Ejemplos incluyen pruebas de normalidad como la prueba de Shapiro-Wilk."
   ]
  },
  {
   "cell_type": "markdown",
   "id": "05b0d0e7",
   "metadata": {},
   "source": [
    "**Intervalos de Confianza:** Los intervalos de confianza son rangos estadísticos que proporcionan un rango estimado en el cual es probable que se encuentre un parámetro poblacional, con cierto nivel de confianza."
   ]
  },
  {
   "cell_type": "markdown",
   "id": "38958c5f",
   "metadata": {},
   "source": [
    "**Intervalos de Confianza para los Coeficientes:** Son rangos dentro de los cuales es probable que se encuentren los verdaderos valores de los coeficientes de regresión con cierto nivel de confianza."
   ]
  },
  {
   "cell_type": "markdown",
   "id": "c8f23027",
   "metadata": {},
   "source": [
    "# J"
   ]
  },
  {
   "cell_type": "markdown",
   "id": "46056872",
   "metadata": {},
   "source": []
  },
  {
   "cell_type": "markdown",
   "id": "72399db4",
   "metadata": {},
   "source": [
    "# K"
   ]
  },
  {
   "cell_type": "markdown",
   "id": "2cc66ecc",
   "metadata": {},
   "source": []
  },
  {
   "cell_type": "markdown",
   "id": "a131df44",
   "metadata": {},
   "source": [
    "# L"
   ]
  },
  {
   "cell_type": "markdown",
   "id": "b51841ca",
   "metadata": {},
   "source": []
  },
  {
   "cell_type": "markdown",
   "id": "17fb2bd7",
   "metadata": {},
   "source": [
    "# M"
   ]
  },
  {
   "cell_type": "markdown",
   "id": "42f53616",
   "metadata": {},
   "source": [
    "**M-Estimadores:** Estimadores que minimizan una función objetivo que combina la suma de los errores absolutos y la suma de los errores cuadráticos."
   ]
  },
  {
   "cell_type": "markdown",
   "id": "f8461a6b",
   "metadata": {},
   "source": [
    "**Mapeo:** La representación visual o numérica de datos en un espacio de menor dimensión, generalmente para mejorar la interpretación o el análisis."
   ]
  },
  {
   "cell_type": "markdown",
   "id": "b9c4dc94",
   "metadata": {},
   "source": [
    "**Matriz de Correlación:** Una matriz que muestra las correlaciones entre todas las combinaciones de variables en un conjunto de datos."
   ]
  },
  {
   "cell_type": "markdown",
   "id": "74a97ed9",
   "metadata": {},
   "source": [
    "**Matriz de Covarianza:** Una matriz que muestra cómo las variables en un conjunto de datos varían juntas."
   ]
  },
  {
   "cell_type": "markdown",
   "id": "f1b00f71",
   "metadata": {},
   "source": [
    "**Matriz de Dispersión:** Una matriz que muestra las varianzas y covarianzas entre las variables de un conjunto de datos."
   ]
  },
  {
   "cell_type": "markdown",
   "id": "79345f07",
   "metadata": {},
   "source": [
    "**Media:** También conocida como promedio, se calcula sumando todos los valores de un conjunto de datos y dividiéndolos entre el número total de valores."
   ]
  },
  {
   "cell_type": "markdown",
   "id": "98e7dd11",
   "metadata": {},
   "source": [
    "**Media Multivariante (Vector de Medias):** Un vector que contiene las medias de las variables en un conjunto de datos multivariado."
   ]
  },
  {
   "cell_type": "markdown",
   "id": "b241ef1a",
   "metadata": {},
   "source": [
    "**Mediana:** Es el valor que se encuentra en el centro de un conjunto de datos ordenado. Divide los datos en dos partes iguales."
   ]
  },
  {
   "cell_type": "markdown",
   "id": "5b37daf3",
   "metadata": {},
   "source": [
    "**Mediana Multivariante:** Un vector que contiene las medianas de las variables en un conjunto de datos multivariado."
   ]
  },
  {
   "cell_type": "markdown",
   "id": "cb5ab992",
   "metadata": {},
   "source": [
    "**Medida de Tendencia Central:** Son estadísticos que proporcionan información sobre el valor central o promedio de un conjunto de datos. Algunos ejemplos son la media, la mediana y la moda."
   ]
  },
  {
   "cell_type": "markdown",
   "id": "180de1d7",
   "metadata": {},
   "source": [
    "**Métodos basados en Aprendizaje Automático:** Técnicas que utilizan algoritmos de aprendizaje automático para realizar análisis estadísticos y encontrar patrones en los datos."
   ]
  },
  {
   "cell_type": "markdown",
   "id": "86734a85",
   "metadata": {},
   "source": [
    "**Método de Envoltura:** Métodos que evalúan diferentes conjuntos de características para seleccionar el mejor conjunto que mejore el rendimiento del modelo."
   ]
  },
  {
   "cell_type": "markdown",
   "id": "7b255370",
   "metadata": {},
   "source": [
    "**Métodos basados en Clustering:** Técnicas que agrupan datos similares en clusters, donde los puntos dentro de un mismo cluster son más similares entre sí que con los puntos de otros clusters."
   ]
  },
  {
   "cell_type": "markdown",
   "id": "de17dd25",
   "metadata": {},
   "source": [
    "**Métodos basados en Densidad:** Técnicas que identifican clusters basados en regiones densas de puntos en el espacio de características."
   ]
  },
  {
   "cell_type": "markdown",
   "id": "45e61710",
   "metadata": {},
   "source": [
    "**Métodos basados en Modelos Estadísticos:** Técnicas que utilizan modelos estadísticos, como modelos de mezcla, para describir la estructura subyacente de los datos."
   ]
  },
  {
   "cell_type": "markdown",
   "id": "544e049e",
   "metadata": {},
   "source": [
    "**Métodos basados en Robustez:** Técnicas que son menos sensibles a valores atípicos y violaciones de supuestos estadísticos."
   ]
  },
  {
   "cell_type": "markdown",
   "id": "8d6172ab",
   "metadata": {},
   "source": [
    "**Métodos de Proyección:** Técnicas que transforman datos de alta dimensión en un espacio de menor dimensión mientras se conserva la estructura de los datos."
   ]
  },
  {
   "cell_type": "markdown",
   "id": "80c2bd35",
   "metadata": {},
   "source": [
    "**Métodos de Selección de Características:** Técnicas utilizadas para seleccionar las características más importantes un conjunto de datos."
   ]
  },
  {
   "cell_type": "markdown",
   "id": "5f31a131",
   "metadata": {},
   "source": [
    "**Métodos de Selección de Características Basados en Filtros:** Método de selección de características que evalúa las características de manera independiente antes de construir el modelo."
   ]
  },
  {
   "cell_type": "markdown",
   "id": "d869c96f",
   "metadata": {},
   "source": [
    "**Métodos de Selección de Características:** Técnicas que seleccionan un subconjunto relevante de características de un conjunto de datos."
   ]
  },
  {
   "cell_type": "markdown",
   "id": "f076e51a",
   "metadata": {},
   "source": [
    "**Métodos de Selección de Características Basados en Filtros:** Métodos de selección de características que evalúan las características de manera independiente antes de construir el modelo."
   ]
  },
  {
   "cell_type": "markdown",
   "id": "6296b551",
   "metadata": {},
   "source": [
    "**Mínimos Cuadrados:** Método utilizado para encontrar la línea de regresión que minimiza la suma de los cuadrados de las diferencias entre los valores observados y los valores predichos."
   ]
  },
  {
   "cell_type": "markdown",
   "id": "2eec0c25",
   "metadata": {},
   "source": [
    "**Moda:** Es el valor que aparece con mayor frecuencia en un conjunto de datos."
   ]
  },
  {
   "cell_type": "markdown",
   "id": "60c999c8",
   "metadata": {},
   "source": [
    "**Modelo de Regresión:** Es una representación matemática o estadística que busca establecer una relación entre una variable dependiente y una o más variables independientes. El objetivo principal de un modelo de regresión es comprender y predecir cómo los cambios en las variables independientes afectan a la variable dependiente. Aunque a menudo se asocia con la regresión lineal, el concepto se aplica a una variedad de relaciones funcionales, no solo a relaciones lineales"
   ]
  },
  {
   "cell_type": "markdown",
   "id": "73761250",
   "metadata": {},
   "source": [
    "**Modelo de Regresión Lineal:** Un modelo estadístico que busca establecer una relación lineal entre una variable dependiente y una o más variables independientes."
   ]
  },
  {
   "cell_type": "markdown",
   "id": "3c623f19",
   "metadata": {},
   "source": [
    "**Modelos de Mezcla:** Modelos estadísticos que representan una distribución de probabilidad como una combinación ponderada de varias distribuciones componentes."
   ]
  },
  {
   "cell_type": "markdown",
   "id": "6355c4bf",
   "metadata": {},
   "source": [
    "**Modelos Probabilísticos:** Son representaciones matemáticas de fenómenos aleatorios. Los modelos probabilísticos describen cómo se distribuyen las probabilidades en diferentes resultados."
   ]
  },
  {
   "cell_type": "markdown",
   "id": "0bd43a4e",
   "metadata": {},
   "source": [
    "**Momentos Estadísticos:** Los momentos estadísticos son valores que describen las características de una distribución. El primer momento es la media, el segundo momento se relaciona con la varianza, el tercer momento se asocia a la asimetría y el cuarto momento se relaciona con la curtosis."
   ]
  },
  {
   "cell_type": "markdown",
   "id": "f5e800e0",
   "metadata": {},
   "source": [
    "**Multidimensional:** Relacionado con datos que tienen más de una dimensión o variable."
   ]
  },
  {
   "cell_type": "markdown",
   "id": "1364f9bc",
   "metadata": {},
   "source": [
    "**Multimodal:** Un conjunto de datos es multimodal cuando tiene más de dos picos en su distribución de frecuencias."
   ]
  },
  {
   "cell_type": "markdown",
   "id": "89a0996e",
   "metadata": {},
   "source": [
    "**Multivariado:** Relacionado con datos que tienen más de una variable, lo que permite analizar interacciones y relaciones entre variables."
   ]
  },
  {
   "cell_type": "markdown",
   "id": "0c397a0c",
   "metadata": {},
   "source": [
    "# N"
   ]
  },
  {
   "cell_type": "markdown",
   "id": "e7e84a4e",
   "metadata": {},
   "source": [
    "**Números Aleatorios:** Son valores generados de manera impredecible, siguiendo una distribución de probabilidad específica. Se utilizan para simular eventos aleatorios en análisis estadísticos y modelado."
   ]
  },
  {
   "cell_type": "markdown",
   "id": "ba7d2a50",
   "metadata": {},
   "source": [
    "# O"
   ]
  },
  {
   "cell_type": "markdown",
   "id": "d6444267",
   "metadata": {},
   "source": [
    "**One-Class SVM (Support Vector Machine):** Un algoritmo de aprendizaje automático que se entrena en una sola clase de datos para identificar valores atípicos."
   ]
  },
  {
   "cell_type": "markdown",
   "id": "26547b46",
   "metadata": {},
   "source": [
    "**Outlier:** Un outlier es un valor atípico que difiere significativamente del resto de los valores en un conjunto de datos."
   ]
  },
  {
   "cell_type": "markdown",
   "id": "3e39c5da",
   "metadata": {},
   "source": [
    "**Outliers Multivariantes:** Valores atípicos que son extremos en varias dimensiones en lugar de una sola."
   ]
  },
  {
   "cell_type": "markdown",
   "id": "3d1c6ee9",
   "metadata": {},
   "source": [
    "# P"
   ]
  },
  {
   "cell_type": "markdown",
   "id": "deeb08f4",
   "metadata": {},
   "source": [
    "**P-valor:** En pruebas estadísticas, el 𝑝-valor es la probabilidad de obtener un resultado tan extremo como el observado, suponiendo que la hipótesis nula es verdadera. Se utiliza para evaluar la significancia estadística."
   ]
  },
  {
   "cell_type": "markdown",
   "id": "8d45ae8b",
   "metadata": {},
   "source": [
    "**Percentil 25, 50 y 75:** Los percentiles dividen un conjunto de datos en partes iguales. El percentil 25 (Q1) es el valor por debajo del cual cae el 25% de los datos, el percentil 50 es la mediana y el percentil 75 (Q3) es el valor por debajo del cual cae el 75% de los datos."
   ]
  },
  {
   "cell_type": "markdown",
   "id": "9cff4018",
   "metadata": {},
   "source": [
    "**Probabilidad:** La probabilidad es la medida numérica de la posibilidad de que ocurra un evento. Se expresa en una escala de 0 a 1, donde 0 significa que el evento es imposible y 1 significa que es seguro que ocurra."
   ]
  },
  {
   "cell_type": "markdown",
   "id": "8da2327e",
   "metadata": {},
   "source": [
    "**Prueba Estadística:** Pruebas utilizadas para tomar decisiones estadísticas basadas en los datos, como pruebas de hipótesis y pruebas de normalidad."
   ]
  },
  {
   "cell_type": "markdown",
   "id": "68b8e45b",
   "metadata": {},
   "source": [
    "**Prueba Chi-Cuadrado:** Una prueba estadística que evalúa la independencia entre dos variables categóricas."
   ]
  },
  {
   "cell_type": "markdown",
   "id": "d4fc61d4",
   "metadata": {},
   "source": [
    "**Prueba de Anderson-Darling:** Es una prueba de normalidad que compara los valores empíricos con los valores esperados de una distribución normal y proporciona una medida de ajuste."
   ]
  },
  {
   "cell_type": "markdown",
   "id": "6cdec4d3",
   "metadata": {},
   "source": [
    "**Prueba de Kruskal-Wallis:** Una prueba no paramétrica que generaliza el ANOVA para comparar las distribuciones de tres o más grupos independientes."
   ]
  },
  {
   "cell_type": "markdown",
   "id": "35002946",
   "metadata": {},
   "source": [
    "**Prueba de Mann-Whitney U:** Una prueba no paramétrica que compara las distribuciones de dos grupos independientes para evaluar si difieren en términos de centralidad."
   ]
  },
  {
   "cell_type": "markdown",
   "id": "e1f1a99d",
   "metadata": {},
   "source": [
    "**Prueba de Shapiro-Wilk:** Es una prueba estadística utilizada para evaluar si un conjunto de datos sigue una distribución normal. Se basa en comparar las desviaciones entre los datos observados y los esperados bajo una distribución normal."
   ]
  },
  {
   "cell_type": "markdown",
   "id": "dabccb22",
   "metadata": {},
   "source": [
    "**Prueba de Wilcoxon:** Una prueba no paramétrica utilizada para comparar las diferencias entre pares de observaciones relacionadas en un mismo grupo."
   ]
  },
  {
   "cell_type": "markdown",
   "id": "7d5127fa",
   "metadata": {},
   "source": [
    "**Prueba t-Student:** Una prueba t-Student es utilizada para determinar si hay una diferencia significativa entre las medias de dos grupos."
   ]
  },
  {
   "cell_type": "markdown",
   "id": "9bb104da",
   "metadata": {},
   "source": [
    "**Pruebas de Hipótesis:** Son procedimientos estadísticos que permiten tomar decisiones sobre afirmaciones o suposiciones relacionadas con un conjunto de datos. Las pruebas pueden ser paramétricas (basadas en parámetros) o no paramétricas (basadas en el orden de los datos)."
   ]
  },
  {
   "cell_type": "markdown",
   "id": "fd46da6d",
   "metadata": {},
   "source": [
    "**Pruebas de Hipótesis Paramétricas:** Estas pruebas se aplican cuando se asumen ciertas propiedades sobre la población subyacente, como la normalidad y la homogeneidad de la varianza. Ejemplos incluyen la prueba t de Student y el análisis de varianza (ANOVA)."
   ]
  },
  {
   "cell_type": "markdown",
   "id": "a8b7be13",
   "metadata": {},
   "source": [
    "**Pruebas de Hipótesis No Paramétricas:** Estas pruebas se utilizan cuando no se cumplen los supuestos paramétricos. No requieren suposiciones específicas sobre la distribución de los datos. Ejemplos incluyen la prueba de Wilcoxon y la prueba de Kruskal-Wallis.**Varianza:** La varianza es el promedio de los cuadrados de las diferencias entre cada valor y la media. Es otra medida de dispersión."
   ]
  },
  {
   "cell_type": "markdown",
   "id": "f477174e",
   "metadata": {},
   "source": [
    "**Pruebas de Normalidad:** Son procedimientos estadísticos utilizados para evaluar si un conjunto de datos sigue una distribución normal, también conocida como distribución gaussiana o distribución en forma de campana"
   ]
  },
  {
   "cell_type": "markdown",
   "id": "0c8a20a0",
   "metadata": {},
   "source": [
    "# Q"
   ]
  },
  {
   "cell_type": "markdown",
   "id": "93321fd5",
   "metadata": {},
   "source": []
  },
  {
   "cell_type": "markdown",
   "id": "edc4eab8",
   "metadata": {},
   "source": [
    "# R"
   ]
  },
  {
   "cell_type": "markdown",
   "id": "004a7456",
   "metadata": {},
   "source": [
    "**Rango Intercuartílico (IQR):** La diferencia entre el tercer cuartil (Q3) y el primer cuartil (Q1), que abarca el 50% central de los datos y se utiliza para detectar outliers."
   ]
  },
  {
   "cell_type": "markdown",
   "id": "160bc127",
   "metadata": {},
   "source": [
    "**Regresión Huber:** Un enfoque que combina características de la regresión de mínimos cuadrados y los M-Estimadores para tratar valores atípicos."
   ]
  },
  {
   "cell_type": "markdown",
   "id": "f54895a3",
   "metadata": {},
   "source": [
    "**Regresión Lineal:** Un método estadístico que busca encontrar la mejor línea recta que se ajuste a un conjunto de datos para predecir o explicar una variable dependiente en función de una o más variables independientes."
   ]
  },
  {
   "cell_type": "markdown",
   "id": "16a1b85d",
   "metadata": {},
   "source": [
    "**Regresión MM (Mínimos Cuadrados Medianamente Ponderados):** Un método que combina las ventajas de la regresión de mínimos cuadrados y los M-Estimadores."
   ]
  },
  {
   "cell_type": "markdown",
   "id": "fba068b5",
   "metadata": {},
   "source": [
    "**Regresión Robusta:** Métodos de regresión que son menos sensibles a valores atípicos y violaciones de supuestos."
   ]
  },
  {
   "cell_type": "markdown",
   "id": "198aa9a8",
   "metadata": {},
   "source": [
    "# S"
   ]
  },
  {
   "cell_type": "markdown",
   "id": "8f14a891",
   "metadata": {},
   "source": [
    "**Selección de Características Basados en Filtros:** Método de selección de características que evalúa las características de manera independiente antes de construir el modelo."
   ]
  },
  {
   "cell_type": "markdown",
   "id": "f64ea1f0",
   "metadata": {},
   "source": [
    "**SelectKBest:** Un método de selección de características que selecciona las 𝑘 mejores características según cierta métrica de puntuación."
   ]
  },
  {
   "cell_type": "markdown",
   "id": "b3125037",
   "metadata": {},
   "source": [
    "**SelectPercentile:** Similar a SelectKBest, pero selecciona un porcentaje de las mejores características."
   ]
  },
  {
   "cell_type": "markdown",
   "id": "e105995e",
   "metadata": {},
   "source": [
    "**Serie de Tiempo:** Una secuencia de observaciones ordenadas en el tiempo, generalmente tomadas en intervalos regulares."
   ]
  },
  {
   "cell_type": "markdown",
   "id": "eba28597",
   "metadata": {},
   "source": [
    "**Similaridad:** Una medida que cuantifica qué tan parecidos son dos conjuntos de datos."
   ]
  },
  {
   "cell_type": "markdown",
   "id": "ad63bdbd",
   "metadata": {},
   "source": [
    "**Similitud del Coseno:** Una medida de similitud que compara la dirección entre dos vectores, independientemente de su magnitud."
   ]
  },
  {
   "cell_type": "markdown",
   "id": "adeeee3f",
   "metadata": {},
   "source": [
    "# T"
   ]
  },
  {
   "cell_type": "markdown",
   "id": "449903cd",
   "metadata": {},
   "source": [
    "**Tendencia:** La dirección general y persistente en la que los valores de una serie de tiempo cambian a lo largo del tiempo."
   ]
  },
  {
   "cell_type": "markdown",
   "id": "c0e03de8",
   "metadata": {},
   "source": [
    "**t-SNE (t-Distributed Stochastic Neighbor Embedding):** Un algoritmo de reducción de dimensionalidad que visualiza datos de alta dimensión en un espacio de menor dimensión, preservando las relaciones entre muestras cercanas."
   ]
  },
  {
   "cell_type": "markdown",
   "id": "d0b8a0a0",
   "metadata": {},
   "source": [
    "# U"
   ]
  },
  {
   "cell_type": "markdown",
   "id": "40bd23a5",
   "metadata": {},
   "source": [
    "**Unimodal:** Un conjunto de datos es unimodal cuando tiene un solo pico prominente en su distribución de frecuencias."
   ]
  },
  {
   "cell_type": "markdown",
   "id": "178d2b99",
   "metadata": {},
   "source": [
    "# V"
   ]
  },
  {
   "cell_type": "markdown",
   "id": "f4f7fa47",
   "metadata": {},
   "source": [
    "**Validación Cruzada:** Una técnica que divide los datos en conjuntos de entrenamiento y prueba múltiples para evaluar el rendimiento del modelo de manera más precisa."
   ]
  },
  {
   "cell_type": "markdown",
   "id": "37e05da2",
   "metadata": {},
   "source": [
    "**Validación y Significancia:** La validación implica probar la capacidad predictiva del modelo en datos no utilizados durante el entrenamiento. La significancia se refiere a la importancia estadística de los coeficientes del modelo."
   ]
  },
  {
   "cell_type": "markdown",
   "id": "04e64aeb",
   "metadata": {},
   "source": [
    "**Valor Máximo y Valor Mínimo:** El valor máximo es el número más grande en un conjunto de datos, mientras que el valor mínimo es el número más pequeño."
   ]
  },
  {
   "cell_type": "markdown",
   "id": "e51baf23",
   "metadata": {},
   "source": [
    "# W"
   ]
  },
  {
   "cell_type": "markdown",
   "id": "c012cdef",
   "metadata": {},
   "source": []
  },
  {
   "cell_type": "markdown",
   "id": "96e770e1",
   "metadata": {},
   "source": [
    "# X"
   ]
  },
  {
   "cell_type": "markdown",
   "id": "4234a059",
   "metadata": {},
   "source": []
  },
  {
   "cell_type": "markdown",
   "id": "b16b65c3",
   "metadata": {},
   "source": [
    "# Y"
   ]
  },
  {
   "cell_type": "markdown",
   "id": "573f722b",
   "metadata": {},
   "source": []
  },
  {
   "cell_type": "markdown",
   "id": "bd06f858",
   "metadata": {},
   "source": [
    "# Z"
   ]
  },
  {
   "cell_type": "markdown",
   "id": "c7e177eb",
   "metadata": {},
   "source": [
    "**Z-Score:** Un valor que indica cuántas desviaciones estándar un punto de datos está del promedio de un conjunto de datos."
   ]
  },
  {
   "cell_type": "markdown",
   "id": "d003660d",
   "metadata": {},
   "source": []
  }
 ],
 "metadata": {
  "kernelspec": {
   "display_name": "Python 3 (ipykernel)",
   "language": "python",
   "name": "python3"
  },
  "language_info": {
   "codemirror_mode": {
    "name": "ipython",
    "version": 3
   },
   "file_extension": ".py",
   "mimetype": "text/x-python",
   "name": "python",
   "nbconvert_exporter": "python",
   "pygments_lexer": "ipython3",
   "version": "3.11.3"
  },
  "toc": {
   "base_numbering": 1,
   "nav_menu": {},
   "number_sections": true,
   "sideBar": true,
   "skip_h1_title": true,
   "title_cell": "Table of Contents",
   "title_sidebar": "Contents",
   "toc_cell": false,
   "toc_position": {
    "height": "calc(100% - 180px)",
    "left": "10px",
    "top": "150px",
    "width": "256px"
   },
   "toc_section_display": true,
   "toc_window_display": false
  }
 },
 "nbformat": 4,
 "nbformat_minor": 5
}
