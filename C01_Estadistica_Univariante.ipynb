{
 "cells": [
  {
   "cell_type": "markdown",
   "id": "2d9048b9",
   "metadata": {},
   "source": [
    "<h1 align=\"center\">Analítica de datos para la toma de decisiones empresariales</h1>\n",
    "<h1 align=\"center\">Estadística Univariante</h1>\n",
    "<h1 align=\"center\">Centro de Educación Continua</h1>\n",
    "<h1 align=\"center\">EAFIT</h1>\n",
    "<h1 align=\"center\">2023</h1>\n",
    "<h1 align=\"center\">MEDELLÍN - COLOMBIA</h1>"
   ]
  },
  {
   "cell_type": "markdown",
   "id": "597a8d9e",
   "metadata": {},
   "source": [
    "*** \n",
    "|![Gmail](https://img.shields.io/badge/Gmail-D14836?style=plastic&logo=gmail&logoColor=white)|<carlosalvarezh@gmail.com>|![Outlook](https://img.shields.io/badge/Microsoft_Outlook-0078D4?style=plastic&logo=microsoft-outlook&logoColor=white)|<calvar52@eafit.edu.co>|\n",
    "|-:|:-|--:|:--|\n",
    "|[![LinkedIn](https://img.shields.io/badge/linkedin-%230077B5.svg?style=plastic&logo=linkedin&logoColor=white)](https://www.linkedin.com/in/carlosalvarez5/)|[![@alvarezhenao](https://img.shields.io/twitter/url/https/twitter.com/alvarezhenao.svg?style=social&label=Follow%20%40alvarezhenao)](https://twitter.com/alvarezhenao)|[![@carlosalvarezh](https://img.shields.io/badge/github-%23121011.svg?style=plastic&logo=github&logoColor=white)](https://github.com/carlosalvarezh)|[![Open In Colab](https://colab.research.google.com/assets/colab-badge.svg)](https://colab.research.google.com/github/carlosalvarezh/Curso_CEC_EAFIT/blob/main/C01_Estadistica_Univariante.ipynb)|\n",
    "\n",
    "<table>\n",
    " <tr align=left><td><img align=left src=\"https://github.com/carlosalvarezh/Curso_CEC_EAFIT/blob/main/images/CCLogoColorPop1.gif?raw=true\" width=\"25\">\n",
    " <td>Text provided under a Creative Commons Attribution license, CC-BY. All code is made available under the FSF-approved MIT license.(c) Carlos Alberto Alvarez Henao</td>\n",
    "</table>\n",
    "\n",
    "***"
   ]
  },
  {
   "cell_type": "markdown",
   "id": "3352bab9",
   "metadata": {},
   "source": [
    "<p float=\"center\">\n",
    "  <img src=\"https://github.com/carlosalvarezh/Curso_CEC_EAFIT/blob/main/images/C02_02_WordCloudStatistics.jpg?raw=true\" width=\"300\" />\n",
    "</p>"
   ]
  },
  {
   "cell_type": "markdown",
   "id": "11f5d061",
   "metadata": {},
   "source": [
    "## Definiciones  y conceptos"
   ]
  },
  {
   "cell_type": "markdown",
   "id": "d2e27708",
   "metadata": {},
   "source": [
    "### Introducción"
   ]
  },
  {
   "cell_type": "markdown",
   "id": "16491ad3",
   "metadata": {},
   "source": [
    "La capacidad de tomar decisiones informadas y estratégicas es esencial en el entorno empresarial actual, y la estadística desempeña un papel fundamental en este proceso. Exploraremos cómo la estadística univariante, en particular el análisis univariante, puede proporcionarnos información valiosa y confiable a partir de los datos, permitiéndonos tomar decisiones más efectivas y fundamentadas. "
   ]
  },
  {
   "cell_type": "markdown",
   "id": "01512dcb",
   "metadata": {},
   "source": [
    "### Qué es la Estadística"
   ]
  },
  {
   "cell_type": "markdown",
   "id": "efc055d3",
   "metadata": {},
   "source": [
    "La [estadística](https://en.wikipedia.org/wiki/Statistics) es la ciencia que nos permite recopilar, organizar, analizar e interpretar [datos](https://en.wikipedia.org/wiki/Data) para tomar decisiones basadas en evidencia. Es un puente crucial entre la información cruda y el conocimiento accionable.\n",
    "\n",
    "Veamos el siguiente conjunto de datos:\n",
    "\n",
    "<p float=\"center\">\n",
    "  <img src=\"https://github.com/carlosalvarezh/Curso_CEC_EAFIT/blob/main/images/C02_01_Tabla.PNG?raw=true\" width=\"750\" />\n",
    "</p>\n",
    "\n",
    "Puede inferir algo de esta tabla?\n",
    "\n",
    "La estadística nos permitirá convertir esos datos \"inconexos\" en información."
   ]
  },
  {
   "cell_type": "markdown",
   "id": "dc6d5140",
   "metadata": {},
   "source": [
    "### Ramas de la estadística"
   ]
  },
  {
   "cell_type": "markdown",
   "id": "08d51e21",
   "metadata": {},
   "source": [
    "La estadística suele ser dividida en dos grandes ramas:"
   ]
  },
  {
   "cell_type": "markdown",
   "id": "815b7d56",
   "metadata": {},
   "source": [
    "#### Estadística descriptiva "
   ]
  },
  {
   "cell_type": "markdown",
   "id": "08ae5ada",
   "metadata": {},
   "source": [
    "La [estadística descriptiva](https://en.wikipedia.org/wiki/Descriptive_statistics) se centra en la recopilación, organización, resumen y presentación de datos de manera informativa. Su objetivo principal es describir las características esenciales de un conjunto de datos sin realizar inferencias o generalizaciones más allá de los datos en sí. Calcula los parámetros estadísticos que describen el conjunto estudiado. Algunos conceptos y técnicas asociadas con la estadística descriptiva incluyen:\n",
    "\n",
    "- ***Medidas de tendencia central:*** como la media, mediana y moda, que resumen la ubicación promedio de los datos.  \n",
    "<p>&nbsp;</p>\n",
    "- ***Medidas de dispersión:*** como la desviación estándar y el rango intercuartílico, que indican cuánto se dispersan los datos alrededor de las medidas de tendencia central.  \n",
    "<p>&nbsp;</p>\n",
    "- ***Gráficos y diagramas:*** como histogramas, gráficos de barras y gráficos de dispersión, que visualizan los patrones y la distribución de los datos.\n"
   ]
  },
  {
   "cell_type": "markdown",
   "id": "f2c33f80",
   "metadata": {},
   "source": [
    "#### Estadistica inferencial"
   ]
  },
  {
   "cell_type": "markdown",
   "id": "ad7cc57f",
   "metadata": {},
   "source": [
    "<p float=\"center\">\n",
    "  <img src=\"https://github.com/carlosalvarezh/Curso_CEC_EAFIT/blob/main/images/PopulationSample.png?raw=true\" width=\"500\" />\n",
    "</p>\n",
    "\n",
    "La [estadística inferencial](https://en.wikipedia.org/wiki/Statistical_inference), también conocida como estadística diferencial, se refiere al proceso de hacer inferencias o conclusiones sobre una población (*Population*) basándose en los datos de una muestra (*Sample*) seleccionada de esa población. Esta rama se utiliza para sacar conclusiones más allá de los datos observados y para tomar decisiones informadas sobre hipótesis y afirmaciones. Algunos conceptos y técnicas asociadas con la estadística inferencial incluyen:\n",
    "\n",
    "- ***Estimación de parámetros:*** Utiliza los datos de la muestra para estimar los parámetros poblacionales desconocidos, como la media o la proporción.\n",
    "<p>&nbsp;</p>\n",
    "\n",
    "- ***Pruebas de hipótesis:*** Evalúa si ciertas afirmaciones sobre la población son compatibles con los datos de la muestra o si deberían rechazarse en favor de otra afirmación.\n",
    "<p>&nbsp;</p>\n",
    "\n",
    "- ***Intervalos de confianza:*** Proporcionan un rango de valores dentro del cual se espera que se encuentre un parámetro poblacional con un cierto nivel de confianza.\n",
    "<p>&nbsp;</p>\n",
    "\n",
    "- ***Regresión y correlación:*** Modelan relaciones entre variables y permiten hacer predicciones y análisis de causalidad."
   ]
  },
  {
   "cell_type": "markdown",
   "id": "acb8b994",
   "metadata": {},
   "source": [
    "### Probabilidad"
   ]
  },
  {
   "cell_type": "markdown",
   "id": "8b5474ee",
   "metadata": {},
   "source": [
    "Mientras que, como se dijo, la estadística se enfoca en la recopilación, organización, análisis e interpretación de datos, la [probabilidad](https://en.wikipedia.org/wiki/Probability) es la medida cuantitativa de la incertidumbre. Se utiliza para cuantificar la posibilidad de que ocurra un evento específico. En esencia, la probabilidad es una forma de asignar un valor numérico a la chance de que un evento suceda, y estos valores generalmente se encuentran en el rango de $0$ (evento imposible) a $1$ (evento seguro). También puede ser visto como un porcentaje ($0\\%$ - $100\\%$). La teoría de la probabilidad se basa en modelos matemáticos que describen cómo se distribuyen las posibilidades en diferentes situaciones. La probabilidad se aplica en diversas áreas, como la toma de decisiones bajo incertidumbre, estadísticas, teoría de juegos, análisis de riesgos y más."
   ]
  },
  {
   "cell_type": "markdown",
   "id": "c3b79e13",
   "metadata": {},
   "source": [
    "En resumen, la probabilidad se relaciona con la cuantificación de la incertidumbre, mientras que la estadística se refiere al análisis y la interpretación de datos para tomar decisiones informadas. Aunque son conceptos distintos, a menudo se interrelacionan en campos como la teoría de la probabilidad, la estadística matemática y la inferencia estadística."
   ]
  },
  {
   "cell_type": "markdown",
   "id": "6d86f37b",
   "metadata": {},
   "source": [
    "### Actividades en un análisis estadístico"
   ]
  },
  {
   "cell_type": "markdown",
   "id": "67dd9b3a",
   "metadata": {},
   "source": [
    "El análisis estadístico implica una serie de actividades fundamentales para comprender, resumir y extraer información útil de los datos. Estas actividades básicas son esenciales para llevar a cabo una investigación o análisis de datos de manera efectiva. Aquí están algunas de las actividades básicas del análisis estadístico:\n",
    "\n",
    "- ***Recopilación de Datos:*** Esta es la fase inicial en la que se reúnen los datos relevantes para el estudio. Los datos pueden ser recolectados a través de encuestas, experimentos, observaciones, registros u otras fuentes.\n",
    "<p>&nbsp;</p>\n",
    "\n",
    "- ***Organización y Limpieza de Datos:*** Los datos recopilados a menudo pueden ser desordenados o contener errores. En esta etapa, los datos se organizan en una forma adecuada para el análisis y se eliminan o corrigen los errores obvios.\n",
    "<p>&nbsp;</p>\n",
    "\n",
    "- ***Descripción de Datos:*** En esta etapa, se utilizan técnicas de estadística descriptiva para resumir y presentar los datos. Esto puede incluir cálculos de medidas de tendencia central (como la media, mediana y moda) y medidas de dispersión (como la desviación estándar y el rango).\n",
    "<p>&nbsp;</p>\n",
    "\n",
    "- ***Visualización de Datos:*** Se crean gráficos para visualizar patrones, distribuciones y relaciones en los datos. Ejemplos de esto son histogramas, diagramas de dispersión y gráficos de barras.\n",
    "<p>&nbsp;</p>\n",
    "\n",
    "- ***Análisis Exploratorio de Datos:*** Esta fase implica explorar más a fondo los datos para identificar patrones interesantes o relaciones. Se pueden utilizar técnicas como análisis de clusters o análisis de componentes principales para encontrar estructuras subyacentes en los datos.\n",
    "<p>&nbsp;</p>\n",
    "\n",
    "- ***Inferencia Estadística:*** En esta etapa, se aplican técnicas de estadística inferencial para hacer generalizaciones sobre una población más amplia basadas en los datos de muestra. Esto incluye la estimación de parámetros poblacionales y la realización de pruebas de hipótesis.\n",
    "<p>&nbsp;</p>\n",
    "\n",
    "- ***Modelado y Predicción:*** Se utilizan modelos matemáticos y estadísticos para describir y predecir relaciones entre variables. Esto puede implicar el uso de regresión, análisis de series temporales u otras técnicas de modelado.\n",
    "<p>&nbsp;</p>\n",
    "\n",
    "- ***Validación y Verificación:*** Se evalúa la confiabilidad y validez de los resultados obtenidos. Esto puede involucrar el uso de técnicas como validación cruzada y pruebas de sensibilidad.\n",
    "<p>&nbsp;</p>\n",
    "\n",
    "- ***Comunicación de Resultados:*** Los resultados y conclusiones del análisis se presentan de manera clara y comprensible para las personas interesadas. Esto puede incluir informes, presentaciones y visualizaciones.\n",
    "<p>&nbsp;</p>\n",
    "\n",
    "- ***Toma de Decisiones:*** Finalmente, los resultados del análisis estadístico se utilizan para tomar decisiones informadas, hacer recomendaciones o llevar a cabo acciones basadas en la comprensión de los datos.\n",
    "<p>&nbsp;</p>\n",
    "\n",
    "Estas actividades básicas no son necesariamente lineales y a menudo se superponen en diferentes etapas del proceso de análisis. El análisis estadístico es un proceso iterativo en el que se pueden ajustar y refinar enfoques a medida que se adquiere una comprensión más profunda de los datos y los resultados."
   ]
  },
  {
   "cell_type": "markdown",
   "id": "3f589b6e",
   "metadata": {},
   "source": [
    "### Rol de la Analítica de Datos en la Toma de Decisiones Empresariales"
   ]
  },
  {
   "cell_type": "markdown",
   "id": "99cd5111",
   "metadata": {},
   "source": [
    "La analítica de datos se ha convertido en una herramienta indispensable para las empresas modernas. Desde la identificación de patrones hasta la detección de tendencias, la analítica de datos nos proporciona una visión profunda y valiosa que influye en las decisiones estratégicas."
   ]
  },
  {
   "cell_type": "markdown",
   "id": "9e27ae7e",
   "metadata": {},
   "source": [
    "### Bibliotecas para tratamiento de datos estadísticos"
   ]
  },
  {
   "cell_type": "markdown",
   "id": "69aed67f",
   "metadata": {},
   "source": [
    "Python tiene una extensa variedad de bibliotecas que ayudan en el trabajo con datos. A continuación se presentará un compendio de las más utilizadas (algunas ya las hemos visto):\n",
    "\n",
    "- ***[matplotlib](https://matplotlib.org/):*** Es la librería más popular en Python para visualizaciones y gráficos. Ella nos va a permitir realizar los gráficos de las distintas distribuciones de datos.\n",
    "<p>&nbsp;</p>\n",
    "\n",
    "- ***[seaborn](https://stanford.edu/~mwaskom/software/seaborn/):*** Esta librería es un complemento ideal de matplotlib para realizar gráficos estadísticos.\n",
    "<p>&nbsp;</p>\n",
    "\n",
    "- ***[numpy](https://www.numpy.org/):*** El popular paquete matemático de Python, se utiliza tanto que mucha gente ya lo considera parte integral del lenguaje. Nos proporciona algunas funciones estadísticas que podemos aplicar fácilmente sobre los arrays de Numpy.\n",
    "<p>&nbsp;</p>\n",
    "\n",
    "- ***[scipy.stats](https://docs.scipy.org/doc/scipy/reference/stats.html#module-scipy.stats):*** Este submodulo del paquete científico Scipy es el complemento perfecto para Numpy, las funciones estadisticas que no encontremos en uno, las podemos encontrar en el otro.\n",
    "<p>&nbsp;</p>\n",
    "\n",
    "- ***[pandas](https://pandas.pydata.org/):*** Esta es la biblioteca más popular para análisis de datos y financieros. Posee algunas funciones muy útiles para realizar estadística descriptiva sobre nuestros datos y nos facilita sobremanera el trabajar con series de tiempo.\n",
    "<p>&nbsp;</p>\n",
    "\n",
    "- ***[statsmodels](https://statsmodels.sourceforge.net/):*** Esta biblioteca nos brinda un gran número de herramientas para explorar datos, estimar modelos estadísticos, realizar pruebas estadísticas y muchas cosas más.\n",
    "<p>&nbsp;</p>\n",
    "\n",
    "- ***[Scikit-Learn](https://scikit-learn.org/stable/index.html) (sklearn):*** Es una de las bibliotecas de aprendizaje automático más utilizadas en Python. Se emplea para una amplia variedad de tareas relacionadas con el aprendizaje automático y la minería de datos. \n",
    "\n",
    "A manera de resumen podríamos indicar:\n",
    "\n",
    "|Library|Arrays|Structured data|Solvers: basic|Solvers: adv|Stats: basic|Stats: adv| ML|\n",
    "|:------|:----:|:-------------:|:------------:|:----------:|:----------:|:--------:|:-:|\n",
    "|Numpy  |  X   |               |      X       |            |            |          |   |\n",
    "|Scipy  |      |               |      X       |      X     |      X     |          |   |\n",
    "|Pandas |      |       X       |              |            |            |          |   |\n",
    "|Statmodels|   |               |              |            |      X     |      X   |   |\n",
    "|Scikitlearn|  |               |              |            |            |          | X |\n",
    "\n",
    "De forma general, al comienzo de cada notebook, se dispondrá de una celda para indicar las diferentes bibliotecas a ser usadas en el desarrollo de los ejemplos y/o ejercicios. A continuación se importarán las bibliotecas más usadas del ecosistema `python`."
   ]
  },
  {
   "cell_type": "code",
   "execution_count": null,
   "id": "1b1945f6",
   "metadata": {},
   "outputs": [],
   "source": [
    "import numpy as np                #biblioteca numérica\n",
    "import pandas as pd               # biblioteca para analítica de datos\n",
    "import seaborn as sns             #biblioteca para graficación\n",
    "import matplotlib.pyplot as plt   #biblioteca para graficación"
   ]
  },
  {
   "cell_type": "markdown",
   "id": "c83eede2",
   "metadata": {},
   "source": [
    "Otras bibliotecas, de uso menos frecuente, se llamarán (importarán), en sus respectivas celdas para facilitar la identificación de las mismas por parte del estudiante."
   ]
  },
  {
   "cell_type": "markdown",
   "id": "9d067050",
   "metadata": {},
   "source": [
    "## Estadística descriptiva"
   ]
  },
  {
   "cell_type": "markdown",
   "id": "4537d0ba",
   "metadata": {},
   "source": [
    "La [estadística descriptiva](https://en.wikipedia.org/wiki/Descriptive_statistics) es una rama fundamental de la estadística que se enfoca en la descripción, resumen y organización de los [datos](https://en.wikipedia.org/wiki/Data) de manera que podamos entender mejor su estructura, patrones y características principales. Su objetivo principal es proporcionar una visión clara y concisa de un conjunto de datos, lo que permite identificar tendencias, patrones, distribuciones y resaltar aspectos clave sin realizar inferencias más allá de los datos presentes. Veamos los componentes esenciales de la estadística descriptiva y cómo se aplican a través de ejemplos."
   ]
  },
  {
   "cell_type": "markdown",
   "id": "6b9bdc5a",
   "metadata": {},
   "source": [
    "### Medidas de Tendencia Central"
   ]
  },
  {
   "cell_type": "markdown",
   "id": "524c4ed8",
   "metadata": {},
   "source": [
    "Las medidas de tendencia central se utilizan para identificar el valor central o típico en un conjunto de datos. Ejemplos de medidas de tendencia central incluyen:"
   ]
  },
  {
   "cell_type": "markdown",
   "id": "59de2ad4",
   "metadata": {},
   "source": [
    "<a id='mean'></a>"
   ]
  },
  {
   "cell_type": "markdown",
   "id": "ad12c187",
   "metadata": {},
   "source": [
    "#### Media aritmética"
   ]
  },
  {
   "cell_type": "markdown",
   "id": "8918a5bf",
   "metadata": {},
   "source": [
    "La [media aritmética](https://en.wikipedia.org/wiki/Arithmetic_mean) es la suma de todos los valores dividida por el número total de valores. Se suele representar con la letra griega $\\mu$ (mu). Si tenemos una muestra de $n$ valores, $x_i$, la *media aritmética*, $\\mu$, es la suma de los valores divididos por el numero de elementos; en otras palabras:\n",
    "\n",
    "$$\\mu = \\frac{1}{n}\\sum_{i=1}^n{x_i}=\\frac{x_1+x_2+x_3+\\ldots+x_n}{n}$$\n",
    "\n",
    "***Ejemplo:*** En un conjunto de calificaciones de estudiantes $(85, 90, 78, 92, 88)$, la media sería \n",
    "\n",
    "$$\\frac{(85 + 90 + 78 + 92 + 88)} {5} = 86.6$$\n",
    "\n",
    "las diferentes bibliotecas del ecosistema Python contienen funciones que permiten el cálculo de muchos de los estadísticos. Para el cálculo de la media usaremos la función [`mean()`](https://numpy.org/doc/stable/reference/generated/numpy.mean.html) de la biblioteca numérica [`Numpy`](https://numpy.org/)."
   ]
  },
  {
   "cell_type": "code",
   "execution_count": null,
   "id": "ef3947a5",
   "metadata": {},
   "outputs": [],
   "source": [
    "data = [85, 90, 78, 92, 88] # dataset a usar\n",
    "media = np.mean(data)\n",
    "print(media)"
   ]
  },
  {
   "cell_type": "markdown",
   "id": "9d8df883",
   "metadata": {},
   "source": [
    "#### Mediana"
   ]
  },
  {
   "cell_type": "markdown",
   "id": "8b235955",
   "metadata": {},
   "source": [
    "La [mediana](https://en.wikipedia.org/wiki/Median) es el valor que divide el conjunto de datos en dos partes iguales. \n",
    "\n",
    "- ***Ejemplo:*** En un conjunto de datos $(85, 90, 78, 92, 88)$, la mediana sería el valor que está en la mitad. Lo primero que hay qué hacer es ordenarlo en forma ascendente: $(78, 85, 88, 90, 92)$, con esto, el valor que se encuentra en la mitad es $88$. Obsérvese que este conjunto de datos tiene una cantidad impar de datos, por lo que el dato que ocupa la mitad es la mediana. Si fuera un conjunto de datos con una cantidad par, por ejemplo $(78, 85, 88, 90, 92, 96)$, la mediana sería el promedio entre los datos $88$ y $90$, es decir: $(88 + 90) / 2 = 89.0$\n",
    "\n",
    "Para el cálculo de la mediana usaremos la función [`median()`](https://numpy.org/doc/stable/reference/generated/numpy.median.html) de la biblioteca numérica [`Numpy`](https://numpy.org/)."
   ]
  },
  {
   "cell_type": "code",
   "execution_count": null,
   "id": "0f4843a2",
   "metadata": {},
   "outputs": [],
   "source": [
    "data = [85,90,78,92,88] #cantidad impar de datos\n",
    "np.median(data)"
   ]
  },
  {
   "cell_type": "code",
   "execution_count": null,
   "id": "d3c4d3f0",
   "metadata": {},
   "outputs": [],
   "source": [
    "data_par = [85,90,96,78,92,88]  #cantidad par de datos\n",
    "np.median(data_par)"
   ]
  },
  {
   "cell_type": "markdown",
   "id": "90052a61",
   "metadata": {},
   "source": [
    "Observe que la función `median()` ordena por defecto los datos."
   ]
  },
  {
   "cell_type": "markdown",
   "id": "552b2fcb",
   "metadata": {},
   "source": [
    "#### Moda"
   ]
  },
  {
   "cell_type": "markdown",
   "id": "af96a045",
   "metadata": {},
   "source": [
    "La [moda](https://en.wikipedia.org/wiki/Mode_(statistics)) es el valor que ocurre con mayor frecuencia en un conjunto de datos. \n",
    "\n",
    "`Numpy` no incluye una función directa para calcular la moda. Para su cálculo, llamaremos a la función [`mode`](https://docs.scipy.org/doc/scipy/reference/generated/scipy.stats.mode.html) de la biblioteca [`scipy`](https://scipy.org/).\n"
   ]
  },
  {
   "cell_type": "code",
   "execution_count": null,
   "id": "6d35bc68",
   "metadata": {
    "scrolled": false
   },
   "outputs": [],
   "source": [
    "from scipy import stats\n",
    "\n",
    "data_moda = [8, 7, 5, 12, 7, 5, 8, 8, 5, 12, 7, 5, 4, 6, 7, 5, 8, 4, 5, 7, 5]\n",
    "\n",
    "moda = stats.mode(data_moda, keepdims = True) \n",
    "print(moda)"
   ]
  },
  {
   "cell_type": "markdown",
   "id": "2368287a",
   "metadata": {},
   "source": [
    "### Indicadores de Dispersión"
   ]
  },
  {
   "cell_type": "markdown",
   "id": "c184a18f",
   "metadata": {},
   "source": [
    "#### Varianza"
   ]
  },
  {
   "cell_type": "markdown",
   "id": "3a4ef1df",
   "metadata": {},
   "source": [
    "La [varianza](https://en.wikipedia.org/wiki/Variance) es una medida de la dispersión o variabilidad de un conjunto de datos. Indica qué tan alejados están los valores individuales del valor promedio (*media*) del conjunto. Una *varianza* más alta indica que los valores están más dispersos, mientras que una *varianza* más baja indica que los valores están más agrupados alrededor de la *media*. Se representa con el símbolo $\\sigma^2$, y su fórmula general para un conjunto de datos es:\n",
    "\n",
    "$$\\sigma^2=\\frac{\\sum \\limits_{i=1}^n \\left(x_i - \\mu \\right)^2}{n}$$\n",
    "\n",
    "Usaremos la función [`var()`](https://numpy.org/doc/stable/reference/generated/numpy.var.html) de `numpy` para su cálculo:"
   ]
  },
  {
   "cell_type": "code",
   "execution_count": null,
   "id": "88b77f8e",
   "metadata": {},
   "outputs": [],
   "source": [
    "#data = [25, 30, 32, 38, 40, 45]\n",
    "#data = [1,2,2,2,1,1,3,2,2,2]\n",
    "#data = [100,101,101,100,103,101,102,101,100,103,100,102,102]\n",
    "#data = [85,90,96,78,92,88]\n",
    "\n",
    "np.var(data)"
   ]
  },
  {
   "cell_type": "markdown",
   "id": "ece86c71",
   "metadata": {},
   "source": [
    "#### Desviación estándar"
   ]
  },
  {
   "cell_type": "markdown",
   "id": "bde5eb8d",
   "metadata": {},
   "source": [
    "La [desviación estándar](https://en.wikipedia.org/wiki/Standard_deviation) es una medida estadística que indica cuánto se desvían los valores individuales de un conjunto de datos con respecto a su media. En otras palabras, mide la dispersión o variabilidad de los valores con respecto a la media. Una desviación estándar mayor indica que los valores están más dispersos, mientras que una desviación estándar menor indica que los valores están más cerca de la media. Matemáticamente, la desviación estándar es la raíz cuadrada de la varianza:\n",
    "\n",
    "$$\\sigma=\\sqrt{\\frac{\\sum \\limits_{i=1}^n \\left(x_i - \\mu \\right)^2}{n}}$$\n",
    "\n",
    "Usaremos la función [`std()`](https://numpy.org/doc/stable/reference/generated/numpy.std.html) de `numpy` para su cálculo:"
   ]
  },
  {
   "cell_type": "code",
   "execution_count": null,
   "id": "8ab495bf",
   "metadata": {},
   "outputs": [],
   "source": [
    "np.std(data)"
   ]
  },
  {
   "cell_type": "markdown",
   "id": "345416ea",
   "metadata": {},
   "source": [
    "#### Desviación Media Absoluta"
   ]
  },
  {
   "cell_type": "markdown",
   "id": "6f34504a",
   "metadata": {},
   "source": [
    "La [desviación media absoluta](https://en.wikipedia.org/wiki/Average_absolute_deviation)(*Mean Absolute Deviation*) es una medida de dispersión que calcula la *media de las diferencias absolutas* entre cada punto de datos y la media del conjunto de datos. A diferencia de la *desviación estándar*, la *desviación media absoluta* no implica elevar al cuadrado las diferencias, lo que la hace menos sensible a los valores atípicos. Esto significa que la *desviación media absoluta* proporciona una medida de dispersión más robusta en presencia de valores atípicos o extremos. Se calcula mediante la siguiente fórmula:\n",
    "\n",
    "$$\n",
    "MAD = \\frac{\\sum_{i=1}^n |x_i-\\mu|}{n}\n",
    "$$\n"
   ]
  },
  {
   "cell_type": "markdown",
   "id": "77c39d9e",
   "metadata": {},
   "source": [
    "#### Conclusión"
   ]
  },
  {
   "cell_type": "markdown",
   "id": "48402c0e",
   "metadata": {},
   "source": [
    "A manera de conclusión, veamos el siguiente ejemplo empleando una animación en python ([`widgets`](https://ipywidgets.readthedocs.io/en/latest/examples/Widget%20Basics.html)) para intentar comprender mejor los efectos al modificar la média ($\\mu$) o la desviación estándar ($\\sigma$)"
   ]
  },
  {
   "cell_type": "code",
   "execution_count": null,
   "id": "4603dc55",
   "metadata": {
    "scrolled": false
   },
   "outputs": [],
   "source": [
    "from ipywidgets import interact, widgets\n",
    "from IPython.display import display, clear_output\n",
    "\n",
    "# Función para graficar la distribución normal\n",
    "def plot_normal_distribution(mu, sigma):\n",
    "    x = np.linspace(-5, 5, 100)\n",
    "    y = 1 / (sigma * np.sqrt(2 * np.pi)) * np.exp(-(x - mu)**2 / (2 * sigma**2))\n",
    "    \n",
    "    plt.figure(figsize=(8, 4))\n",
    "    plt.plot(x, y, label=f'$\\mu$ = {mu:.2f}, $\\sigma$ = {sigma:.2f}')\n",
    "    plt.title('Distribución Normal')\n",
    "    plt.xlabel('X')\n",
    "    plt.ylabel('Densidad de Probabilidad')\n",
    "    plt.legend()\n",
    "    plt.grid(True)\n",
    "    plt.ylim(0, 0.5)  # Ajusta el rango del eje y según tus necesidades\n",
    "    plt.xlim(-5, 5)  # Fija el rango del eje x\n",
    "    plt.show()\n",
    "\n",
    "# Crear controles deslizantes para mu y sigma\n",
    "mu_slider = widgets.FloatSlider(min=-5, max=5, step=0.1, value=0, description='$\\mu$')\n",
    "sigma_slider = widgets.FloatSlider(min=0.1, max=2, step=0.1, value=1, description='$\\sigma$')\n",
    "\n",
    "# Interacción\n",
    "interact(plot_normal_distribution, mu=mu_slider, sigma=sigma_slider)\n"
   ]
  },
  {
   "cell_type": "markdown",
   "id": "aa7c6f41",
   "metadata": {},
   "source": [
    "***¿Son robustos?***\n",
    "\n",
    "Ninguna de las medidas mencionadas anteriormente es robusta ya que se basan en la *media*. La *varianza* y la *Desviación Estándar* son muy sensibles porque utilizan valores al cuadrado en el cálculo. Si necesitamos una estimación sólida, podemos usar una que se base en la *mediana*.\n",
    "\n",
    "La *desviación absoluta mediana* (*MedAD*) es la *mediana de las desviaciones absolutas de la mediana* de los datos. Se calcula igual que la *MAD*, pero en vez de emplear como estadístico de tendencia central a la media, se usa la *mediana*:\n",
    "\n",
    "$$\n",
    "MedAD = \\frac{\\sum_{i=1}^n |x_i-\\text{mediana}|}{n}\n",
    "$$\n",
    "\n",
    "***Un hecho interesante***\n",
    "\n",
    "- El 99,99% de las veces *SD>MAD>MedAD*.\n",
    "\n",
    "***¿Por qué es este el caso?***\n",
    "\n",
    "- Cuando elevas al cuadrado los números en *SD*, se vuelven mayores que las desviaciones absolutas en *MAD* y *MedAD*.\n",
    "<p>&nbsp;</p>\n",
    "\n",
    "- *SD* se ve muy afectado por los valores atípicos porque eleva al cuadrado las desviaciones. *MAD* también se ve afectada, pero en menor medida, mientras que *MedAD* es resistente a los valores atípicos. De modo que el efecto de los valores atípicos también es visible en esta relación.\n",
    "\n",
    "***Ejemplo:*** veamos el siguiente ejemplo para nuestro dataset: data = [85, 90, 78, 92, 88]\n",
    "\n",
    "$$\\mu=86.6$$\n",
    "\n",
    "$$\\text{mediana}=88.0$$\n",
    "\n",
    "$$MAD = \\frac{|85-86.6|+|90-86.6|+|78-86.6|+|92-86.6|+|88-86.6|}{5}=4.08$$\n",
    "\n",
    "$$MedAD = \\frac{|85-88|+|90-88|+|78-88|+|92-88|+|88-88|}{5}=3.0$$\n",
    "\n"
   ]
  },
  {
   "cell_type": "code",
   "execution_count": null,
   "id": "5c32cbce",
   "metadata": {},
   "outputs": [],
   "source": [
    "# Absolute mean deviation \n",
    "MAD = np.mean(abs(data - np.mean(data))).round(2)\n",
    "MAD"
   ]
  },
  {
   "cell_type": "code",
   "execution_count": null,
   "id": "4b9d6a34",
   "metadata": {},
   "outputs": [],
   "source": [
    "# Absolute median deviation \n",
    "MedAD = np.median(abs(data - np.median(data))).round(2)\n",
    "MedAD"
   ]
  },
  {
   "cell_type": "markdown",
   "id": "34a2eade",
   "metadata": {},
   "source": [
    "Se comprueba que: *SD>MAD>MedAD*"
   ]
  },
  {
   "cell_type": "markdown",
   "id": "13769b47",
   "metadata": {},
   "source": [
    "### Indicadores de Forma"
   ]
  },
  {
   "cell_type": "markdown",
   "id": "d882df6e",
   "metadata": {},
   "source": [
    "#### Asimetría (Skewness)"
   ]
  },
  {
   "cell_type": "markdown",
   "id": "c40be242",
   "metadata": {},
   "source": [
    "<p float=\"center\">\n",
    "  <img src=\"https://github.com/carlosalvarezh/Curso_CEC_EAFIT/blob/main/images/Skewness.png?raw=true\" width=\"500\" />\n",
    "</p>\n",
    "\n",
    "Una distribución que no es simétrica se llama sesgada o [asimetrica](https://en.wikipedia.org/wiki/Skewness). Por ejemplo, una distribución puede tener muchos valores pequeños positivos y algunos valores grandes negativos (sesgo negativo) o viceversa (sesgo positivo), y aún así tener una media de $0$. Una distribución simétrica tiene un sesgo de $0$. Las distribuciones unimodales (con un solo modo) sesgadas positivamente tienen la propiedad de que la $\\text{media}> \\text{mediana} > \\text{moda}$. Las distribuciones unimodales sesgadas negativamente son lo opuesto, con la $\\text{media} < \\text{mediana} < \\text{moda}$. Los tres son iguales para una distribución unimodal simétrica.  Hay varios coeficientes de asimetría, pero dos de los más comunes y ampliamente utilizados son:\n",
    "\n",
    "- ***[Coeficiente de Asimetría de Pearson](https://en.wikipedia.org/wiki/Skewness#Pearson's_second_skewness_coefficient_(median_skewness)):*** Es una medida que se basa en la relación entre la media, la mediana y la desviación estándar de una distribución. Mide la dirección y la magnitud de la asimetría en relación con la media. Si el resultado es cero, se considera que la distribución es simétrica en torno a la media. Es útil cuando se asume que los datos siguen una distribución normal o que la distribución es simétrica en relación con la media. Proporciona una medida intuitiva de cómo la distribución se desvía de la simetría.\n",
    "\n",
    "$$Asimetria=\\frac{3 \\left( \\text{Media}-\\text{Mediana}\\right)}{\\text{Desv. Estándar}}=\\frac{3 \\left( \\mu-\\text{Mediana}\\right)}{\\sigma}$$\n",
    "\n",
    "- ***[Coeficiente de Asimetría de Fisher-Pearson](https://en.wikipedia.org/wiki/Skewness#Fisher's_moment_coefficient_of_skewness):*** También conocido como Coeficiente de Asimetría de Momento, es una medida más general de asimetría en una distribución. Se basa en el cálculo de los momentos estadísticos de la distribución y es especialmente útil cuando no se asume que los datos siguen una distribución normal. Este coeficiente se calcula utilizando la tercera potencia de las desviaciones de cada punto de datos con respecto a la media y se escala por la desviación estándar. El signo del coeficiente describe la dirección de la asimetría.\n",
    "\n",
    "$$\n",
    "S_K = \\frac{n}{(n-1)(n-2)} \\frac{\\sum_{i=1}^n (x_i - \\mu)^3}{\\sigma^3}\n",
    "$$\n",
    "\n",
    "La elección entre estos dos coeficientes depende de la naturaleza de los datos y el contexto del análisis.\n",
    "\n",
    "- Un valor positivo de asimetría indica una cola derecha (distribución con valores más bajos extendiéndose hacia la izquierda y valores más altos hacia la derecha).\n",
    "<p>&nbsp;</p>\n",
    "\n",
    "- Un valor negativo de asimetría indica una cola izquierda (distribución con valores más bajos hacia la derecha y valores más altos hacia la izquierda).\n",
    "<p>&nbsp;</p>\n",
    "\n",
    "- Un valor cercano a cero indica una distribución aproximadamente simétrica.\n",
    "\n",
    "***Uso:*** La asimetría es útil para comprender cómo se distribuyen los datos alrededor de la media o mediana. Por ejemplo, en finanzas, la asimetría se utiliza para analizar los rendimientos de inversión y evaluar el riesgo asociado con ellos."
   ]
  },
  {
   "cell_type": "code",
   "execution_count": null,
   "id": "7d0c8737",
   "metadata": {
    "scrolled": false
   },
   "outputs": [],
   "source": [
    "import scipy.stats as stats\n",
    "\n",
    "xs2 = np.linspace(stats.lognorm.ppf(0.01, .7, loc=-.1), stats.lognorm.ppf(0.99, .7, loc=-.1), 150)\n",
    "\n",
    "# Distribución sesgada negativamente\n",
    "plt.figure(figsize=(6, 4))\n",
    "lognormal = stats.lognorm.pdf(xs2, .7)\n",
    "plt.plot(xs2, lognormal, label='Skew < 0')\n",
    "\n",
    "# Distribución sesgada positivamente\n",
    "plt.plot(xs2, lognormal[::-1], label='Skew > 0')\n",
    "plt.legend();"
   ]
  },
  {
   "cell_type": "markdown",
   "id": "e8c1f2cf",
   "metadata": {},
   "source": [
    "#### Curtosis (Kurtosis)"
   ]
  },
  {
   "cell_type": "markdown",
   "id": "84c45144",
   "metadata": {},
   "source": [
    "La [curtosis](https://en.wikipedia.org/wiki/Kurtosis) mide la concentración de los datos en las colas de la distribución en comparación con una distribución normal. Una distribución con alta curtosis tiene colas más pesadas y valores extremos, mientras que una distribución con baja curtosis tiene colas más livianas. Hay varios coeficientes de curtosis que se utilizan en estadística, pero uno de los más comunes es el coeficiente de [curtosis de Fisher](https://www.itl.nist.gov/div898/handbook/eda/section3/eda35b.htm), también conocido como *curtosis de Fisher* o *curtosis de cuarto momento*.\n",
    "\n",
    "El *coeficiente de curtosis de Fisher* se calcula de la siguiente manera:\n",
    "\n",
    "$$\n",
    "K=\\frac{M_4}{\\sigma^4}\n",
    "$$\n",
    "\n",
    "Donde:\n",
    "\n",
    "- $K$ es el coeficiente de curtosis de Fisher.\n",
    "- $M_4$ es el cuarto momento central de la distribución.\n",
    "- $\\sigma$ es la desviación estándar de la distribución.\n",
    "\n",
    "El cuarto momento central, $M_4$, se calcula como la media de los cuartos poderes de las desviaciones de cada valor de la variable aleatoria con respecto a la media elevada a la cuarta potencia. Matemáticamente, se expresa como:\n",
    "\n",
    "$$\n",
    "M_4 = \\frac{1}{N}\\sum_{i=1}^N \\left(x_i-\\mu \\right)^4\n",
    "$$\n",
    "\n",
    "Donde:\n",
    "- $N$ es el número de observaciones.\n",
    "- $x_i$ son los valores individuales de la variable aleatoria\n",
    "- $\\mu$ es la media de la distribución\n",
    "\n",
    "Una vez que hayas calculado $K$, puedes interpretar su valor de la siguiente manera:\n",
    "\n",
    "- ***Kurtosis > 3:*** Colas más pesadas que la distribución normal (distribución leptocúrtica). Esto indica una mayor concentración de datos alrededor de la media.\n",
    "<p>&nbsp;</p>\n",
    "\n",
    "- ***Kurtosis estándar = 3:*** que se resta del valor calculado para ajustar la distribución normal (mesocúrtica).\n",
    "<p>&nbsp;</p>\n",
    "\n",
    "- ***Kurtosis < 3:*** Colas más livianas que la distribución normal (distribución platicúrtica). Esto indica una dispersión de datos más amplia.\n",
    "\n",
    "***Uso:*** La curtosis nos ayuda a identificar la proporción de valores extremos en una distribución. Por ejemplo, en análisis financiero, la curtosis puede utilizarse para evaluar si una inversión es más o menos volátil en comparación con una distribución normal."
   ]
  },
  {
   "cell_type": "code",
   "execution_count": null,
   "id": "80d44d31",
   "metadata": {},
   "outputs": [],
   "source": [
    "xs = np.linspace(-6,6, 300)\n",
    "normal = stats.norm.pdf(xs)\n",
    "\n",
    "# Plot some example distributions\n",
    "plt.figure(figsize=(10, 4))\n",
    "plt.plot(xs,stats.laplace.pdf(xs), label='Leptokurtic')\n",
    "print('Exceso de curtosis de distribución leptocúrtica:', (stats.laplace.stats(moments='k')))\n",
    "plt.plot(xs, normal, label='Mesokurtic (normal)')\n",
    "print('Exceso de curtosis de distribución mesokurtic:', (stats.norm.stats(moments='k')))\n",
    "plt.plot(xs,stats.cosine.pdf(xs), label='Platykurtic')\n",
    "print('Exceso de curtosis de distribución platykurtic:', (stats.cosine.stats(moments='k')))\n",
    "plt.legend();"
   ]
  },
  {
   "cell_type": "markdown",
   "id": "1ecb13dd",
   "metadata": {},
   "source": [
    "Veamos un ejemplo un poco más completo en donde se muestra el histograma de una distribubción, su función de densidad, y los estadísticos media, mediana y los coeficientes de asimetría y curtosis:"
   ]
  },
  {
   "cell_type": "code",
   "execution_count": null,
   "id": "d9c1ce35",
   "metadata": {},
   "outputs": [],
   "source": [
    "from scipy.stats import skew, kurtosis\n",
    "\n",
    "# Crear un conjunto de datos de ejemplo\n",
    "np.random.seed(42)\n",
    "data = np.random.normal(loc=0, scale=1, size=1000)\n",
    "\n",
    "# Crear un DataFrame de Pandas\n",
    "df = pd.DataFrame({'Data': data})\n",
    "\n",
    "# Calcular la asimetría utilizando Pandas y Scipy\n",
    "data_skew = skew(df['Data'])\n",
    "\n",
    "# Calcular la curtosis utilizando Pandas y Scipy\n",
    "data_kurtosis = kurtosis(df['Data'])\n",
    "\n",
    "# Calcular el momento de tercer orden (Skewness Absoluto)\n",
    "skew_abs = np.mean((df['Data'] - df['Data'].mean())**3) / np.power(df['Data'].std(), 3)\n",
    "\n",
    "# Calcular el momento de cuarto orden (Kurtosis Exceso)\n",
    "kurt_excess = np.mean((df['Data'] - df['Data'].mean())**4) / np.power(df['Data'].std(), 4) - 3\n",
    "\n",
    "# Visualizar la distribución y los indicadores\n",
    "sns.set(style=\"whitegrid\")\n",
    "plt.figure(figsize=(10, 4))\n",
    "\n",
    "# Histograma con KDE\n",
    "sns.histplot(data=df['Data'], bins=30, kde=True)\n",
    "\n",
    "# Líneas verticales para los indicadores\n",
    "plt.axvline(df['Data'].mean(), color='r', linestyle='dashed', linewidth=1, label='Media')\n",
    "plt.axvline(np.median(df['Data']), color='g', linestyle='dashed', linewidth=1, label='Mediana')\n",
    "plt.legend()\n",
    "\n",
    "# Anotaciones para los indicadores\n",
    "plt.annotate(f\"Asimetría: {data_skew:.2f}\", xy=(0.05, 0.9), xycoords='axes fraction')\n",
    "plt.annotate(f\"Curtosis: {data_kurtosis:.2f}\", xy=(0.05, 0.85), xycoords='axes fraction')\n",
    "plt.annotate(f\"Skewness Absoluto: {skew_abs:.2f}\", xy=(0.05, 0.8), xycoords='axes fraction')\n",
    "plt.annotate(f\"Kurtosis Exceso: {kurt_excess:.2f}\", xy=(0.05, 0.75), xycoords='axes fraction')\n",
    "\n",
    "plt.xlabel('Valor')\n",
    "plt.ylabel('Frecuencia')\n",
    "plt.title('Distribución de Datos y Indicadores de Forma')\n",
    "plt.show()\n"
   ]
  },
  {
   "cell_type": "markdown",
   "id": "1954f816",
   "metadata": {},
   "source": [
    "De la gráfica y los valores indicados, se puede interpretar lo siguiente:\n",
    "\n",
    "- ***Asimetría (Skewness):*** Con un valor de asimetría de $0.12$, la distribución muestra una ligera asimetría hacia la derecha. Esto significa que la mayoría de los valores se concentran en el lado izquierdo de la distribución, mientras que la cola derecha se extiende más lejos.\n",
    "<p>&nbsp;</p>\n",
    "\n",
    "- ***Curtosis (Kurtosis):*** Un valor de curtosis de $0.07$ indica que la distribución tiene colas más ligeras y menos concentración en los valores extremos en comparación con una distribución normal. Esta distribución es menos puntiaguda en el centro y las colas, lo que sugiere menos probabilidad de valores atípicos.\n",
    "<p>&nbsp;</p>\n",
    "\n",
    "- ***Skewness Absoluto:*** El valor de $0.12$ para el skewness absoluto confirma la ligera asimetría hacia la derecha, similar a lo que se observa en el valor de asimetría.\n",
    "<p>&nbsp;</p>\n",
    "\n",
    "- ***Kurtosis Exceso:*** Con un valor de kurtosis exceso de 0.06, la distribución muestra una ligera cantidad de colas más ligeras que las de la distribución normal. Esto sugiere que la distribución tiene una concentración razonable de valores cerca de la media y colas menos densas.\n",
    "\n",
    "En resumen, la distribución de datos en este caso parece ser relativamente simétrica, con colas más ligeras y menos concentración en los valores extremos. Esto podría indicar que los datos tienden a agruparse en el centro y tienen menos presencia de valores atípicos en comparación con una distribución normal. Es importante recordar que estas interpretaciones se hacen en relación con los valores de referencia (como una distribución normal), y las interpretaciones pueden variar según el contexto del análisis."
   ]
  },
  {
   "cell_type": "markdown",
   "id": "0135e3cc",
   "metadata": {},
   "source": [
    "### Generación de números aleatorios"
   ]
  },
  {
   "cell_type": "markdown",
   "id": "dc860688",
   "metadata": {},
   "source": [
    "Los [números aleatorios](https://en.wikipedia.org/wiki/Random_number_generation) son fundamentales en la simulación, el análisis estadístico y muchas otras aplicaciones en ciencias de datos. NumPy es una biblioteca numérica que nos proporciona herramientas eficientes para generar secuencias de números pseudoaleatorios con diversas distribuciones y propiedades.\n",
    "\n",
    "NumPy proporciona un módulo llamado [`numpy.random`](https://numpy.org/doc/stable/reference/random/index.html) que contiene una variedad de funciones para la generación de números aleatorios. Estos números no son verdaderamente aleatorios, sino que se generan utilizando algoritmos deterministas, lo que los hace pseudoaleatorios. Esto es útil para la reproducibilidad y el control experimental.\n",
    "\n",
    "<div class=\"alert alert alert-info\">\n",
    "En el documento <a href=\"./CrashCourse06_NumerosAleatorios.ipynb\">CrashCourse06_NumerosAleatorios.ipynb</a> encontrará una descripción más detallada que incluye una serie de ejemplos ilustrativos de las funciones más importantes en estadística y analítica de datos para generar datos sintéticos mediante la biblioteca `numpy.random`. Se invita al interesado a revisar este documento.\n",
    "</div>"
   ]
  },
  {
   "cell_type": "markdown",
   "id": "0491fae5",
   "metadata": {},
   "source": [
    "## Descripción gráfica de los datos"
   ]
  },
  {
   "cell_type": "markdown",
   "id": "19cffa2b",
   "metadata": {},
   "source": [
    "### Introducción"
   ]
  },
  {
   "cell_type": "markdown",
   "id": "6cd7fe84",
   "metadata": {},
   "source": [
    "En la estadística descriptiva, una parte fundamental es la capacidad de visualizar y comprender los datos mediante gráficos. Los gráficos nos permiten resumir, analizar y presentar de manera efectiva la información contenida en un conjunto de datos. En esta sesión, exploraremos los gráficos más empleados para la descripción de los datos y cómo interpretarlos correctamente.\n",
    "\n",
    "La descripción gráfica de los datos es esencial para comprender la distribución, patrones y relaciones dentro de un conjunto de datos. Los histogramas, diagramas de barras, gráficos de dispersión, diagramas de caja, gráficos de torta y gráficos de líneas son herramientas valiosas que nos ayudan a visualizar y comunicar la información contenida en los datos de manera efectiva. Cada tipo de gráfico tiene su propia utilidad y puede proporcionar información única sobre los datos que estamos analizando."
   ]
  },
  {
   "cell_type": "markdown",
   "id": "a4f6dd83",
   "metadata": {},
   "source": [
    "### Histograma"
   ]
  },
  {
   "cell_type": "markdown",
   "id": "e6bcb767",
   "metadata": {},
   "source": [
    "#### Introducción"
   ]
  },
  {
   "cell_type": "markdown",
   "id": "42c2012e",
   "metadata": {},
   "source": [
    "El [histograma](https://en.wikipedia.org/wiki/Histogram) es una herramienta esencial para comprender la distribución de los datos en un conjunto. Se utiliza para representar la frecuencia con la que ocurren diferentes valores en un rango de valores continuos. En el eje horizontal se ubican los intervalos (llamados \"clases\") y en el eje vertical se muestra la frecuencia o la densidad de observaciones en cada intervalo.\n",
    "\n",
    "***Interpretación:*** Un histograma puede ayudarnos a identificar si los datos siguen una distribución normal, si presentan sesgos hacia algún extremo o si hay valores atípicos (outliers) presentes."
   ]
  },
  {
   "cell_type": "code",
   "execution_count": null,
   "id": "60c63d60",
   "metadata": {
    "scrolled": false
   },
   "outputs": [],
   "source": [
    "# Genera datos aleatorios para el ejemplo\n",
    "data = np.random.normal(0, 1, 100)\n",
    "\n",
    "# Crear un histograma\n",
    "plt.figure(figsize=(6, 4))\n",
    "plt.hist(data, bins=10, edgecolor='k')\n",
    "plt.title('Histograma')\n",
    "plt.xlabel('Valores')\n",
    "plt.ylabel('Frecuencia')\n",
    "plt.show()"
   ]
  },
  {
   "cell_type": "markdown",
   "id": "981dd4ae",
   "metadata": {},
   "source": [
    "#### Construcción de un Histograma"
   ]
  },
  {
   "cell_type": "markdown",
   "id": "98778bf5",
   "metadata": {},
   "source": [
    "Para crear un histograma, seguimos los siguientes pasos:\n",
    "\n",
    "- ***División en Intervalos:*** Definimos los intervalos o \"bins\" en los cuales agruparemos los datos. Estos intervalos deben ser apropiados para la naturaleza de los datos y la pregunta de investigación. La regla de Sturges es una fórmula comúnmente utilizada para determinar el número de bins, pero también se pueden emplear otros enfoques.\n",
    "<p>&nbsp;</p>\n",
    "\n",
    "\n",
    "- ***Conteo de Frecuencias:*** Contamos cuántas observaciones caen en cada intervalo y representamos esta frecuencia en el eje vertical.\n",
    "<p>&nbsp;</p>\n",
    "\n",
    "\n",
    "- ***Visualización:*** Dibujamos las barras correspondientes a cada intervalo en el gráfico, donde la altura de cada barra representa la frecuencia o proporción de observaciones en ese intervalo."
   ]
  },
  {
   "cell_type": "markdown",
   "id": "654c0e68",
   "metadata": {},
   "source": [
    "#### Interpretación del Histograma"
   ]
  },
  {
   "cell_type": "markdown",
   "id": "cc2db9f8",
   "metadata": {},
   "source": [
    "##### Simétrico y Unimodal"
   ]
  },
  {
   "cell_type": "markdown",
   "id": "5a10c51b",
   "metadata": {},
   "source": [
    "Un histograma es simétrico si una mitad del histograma es un reflejo especular de la otra mitad. Esto indica que los valores tienden a distribuirse de manera uniforme alrededor de un valor central. Si el histograma presenta un solo pico o moda, se dice que es unimodal. Veamos un ejemplo en Python:"
   ]
  },
  {
   "cell_type": "code",
   "execution_count": null,
   "id": "ba5ee686",
   "metadata": {},
   "outputs": [],
   "source": [
    "# Generar datos con distribución normal simétrica\n",
    "data = np.random.normal(loc=0, scale=1, size=1000)\n",
    "\n",
    "# Crear histograma\n",
    "plt.figure(figsize=(6, 4))\n",
    "plt.hist(data, bins=20, color='blue', alpha=0.7, edgecolor='k')\n",
    "plt.title('Histograma Simétrico y Unimodal')\n",
    "plt.xlabel('Valores')\n",
    "plt.ylabel('Frecuencia')\n",
    "plt.show()"
   ]
  },
  {
   "cell_type": "markdown",
   "id": "8fd177f4",
   "metadata": {},
   "source": [
    "##### Asimetría Positiva y Negativa"
   ]
  },
  {
   "cell_type": "markdown",
   "id": "242f2a43",
   "metadata": {},
   "source": [
    "Un histograma tiene asimetría positiva (sesgo a la derecha) cuando la cola derecha es más larga que la izquierda. Por otro lado, tiene asimetría negativa (sesgo a la izquierda) cuando la cola izquierda es más larga que la derecha. Esto indica que la distribución de los datos se inclina hacia un lado."
   ]
  },
  {
   "cell_type": "code",
   "execution_count": null,
   "id": "76b59e53",
   "metadata": {},
   "outputs": [],
   "source": [
    "# Generar datos con asimetría positiva (sesgo a la derecha)\n",
    "data_positive_skew = np.random.gamma(shape=2, scale=1, size=1000)\n",
    "\n",
    "# Generar datos con asimetría negativa (sesgo a la izquierda)\n",
    "data_negative_skew = -np.random.gamma(shape=2, scale=1, size=1000)\n",
    "\n",
    "# Crear histogramas\n",
    "plt.figure(figsize=(6, 4))\n",
    "\n",
    "plt.subplot(1, 2, 2)\n",
    "plt.hist(data_positive_skew, bins=20, color='green', alpha=0.7)\n",
    "plt.title('Histograma Asimetría Positiva')\n",
    "plt.xlabel('Valores')\n",
    "plt.ylabel('Frecuencia')\n",
    "\n",
    "plt.subplot(1, 2, 1)\n",
    "plt.hist(data_negative_skew, bins=20, color='orange', alpha=0.7, edgecolor='k')\n",
    "plt.title('Histograma Asimetría Negativa')\n",
    "plt.xlabel('Valores')\n",
    "plt.ylabel('Frecuencia')\n",
    "\n",
    "plt.tight_layout()\n",
    "plt.show()\n"
   ]
  },
  {
   "cell_type": "markdown",
   "id": "11dc96f5",
   "metadata": {},
   "source": [
    "##### Bimodal y Multimodal"
   ]
  },
  {
   "cell_type": "markdown",
   "id": "66215929",
   "metadata": {},
   "source": [
    "Un histograma es bimodal si presenta dos picos o modas claramente distinguibles. Si tiene más de dos picos, se considera multimodal. Estos casos pueden indicar la presencia de subgrupos o diferentes fenómenos en los datos."
   ]
  },
  {
   "cell_type": "code",
   "execution_count": null,
   "id": "c2c07a8c",
   "metadata": {},
   "outputs": [],
   "source": [
    "# Generar datos bimodales y multimodales\n",
    "data_bimodal = np.concatenate([np.random.normal(loc=-2, scale=1, size=500),\n",
    "                               np.random.normal(loc=2, scale=1, size=500)])\n",
    "data_multimodal = np.concatenate([np.random.normal(loc=-2, scale=1, size=300),\n",
    "                                  np.random.normal(loc=0, scale=1, size=300),\n",
    "                                  np.random.normal(loc=2, scale=1, size=300)])\n",
    "\n",
    "# Crear histogramas\n",
    "plt.figure(figsize=(8, 4))\n",
    "\n",
    "plt.subplot(1, 2, 1)\n",
    "plt.hist(data_bimodal, bins=30, color='purple', alpha=0.7)\n",
    "plt.title('Histograma Bimodal')\n",
    "plt.xlabel('Valores')\n",
    "plt.ylabel('Frecuencia')\n",
    "\n",
    "plt.subplot(1, 2, 2)\n",
    "plt.hist(data_multimodal, bins=30, color='red', alpha=0.7)\n",
    "plt.title('Histograma Multimodal')\n",
    "plt.xlabel('Valores')\n",
    "plt.ylabel('Frecuencia')\n",
    "\n",
    "plt.tight_layout()\n",
    "plt.show()\n"
   ]
  },
  {
   "cell_type": "markdown",
   "id": "2ff86efa",
   "metadata": {},
   "source": [
    "### Diagrama de Barras"
   ]
  },
  {
   "cell_type": "markdown",
   "id": "f39f4ef7",
   "metadata": {},
   "source": [
    "El [diagrama de barras](https://en.wikipedia.org/wiki/Bar_chart) es un gráfico que representa las frecuencias de diferentes categorías o clases. A diferencia del histograma, las categorías en un diagrama de barras no son continuas, sino discretas. Cada categoría se muestra en el eje horizontal, mientras que la altura de la barra representa la frecuencia o la cantidad asociada con esa categoría.\n",
    "\n",
    "- ***Interpretación:*** El diagrama de barras es útil para comparar diferentes categorías y visualizar la distribución de los datos categóricos."
   ]
  },
  {
   "cell_type": "code",
   "execution_count": null,
   "id": "55fa4663",
   "metadata": {},
   "outputs": [],
   "source": [
    "# Crear un DataFrame con datos categóricos\n",
    "data = {'Categoría': ['A', 'B', 'C', 'D'],\n",
    "        'Frecuencia': [25, 40, 15, 30]}\n",
    "df = pd.DataFrame(data)\n",
    "\n",
    "plt.figure(figsize=(6, 4))\n",
    "\n",
    "# Crear el diagrama de barras\n",
    "plt.bar(df['Categoría'], df['Frecuencia'])\n",
    "plt.title('Diagrama de Barras')\n",
    "plt.xlabel('Categoría')\n",
    "plt.ylabel('Frecuencia')\n",
    "plt.show()\n"
   ]
  },
  {
   "cell_type": "markdown",
   "id": "33337eb1",
   "metadata": {},
   "source": [
    "### Gráfico de dispersión"
   ]
  },
  {
   "cell_type": "markdown",
   "id": "1b0484c6",
   "metadata": {},
   "source": [
    "El [gráfico de dispersión](https://en.wikipedia.org/wiki/Scatter_plot) (scatter) es una herramienta valiosa para explorar la relación entre dos variables continuas. Cada punto en el gráfico representa una observación y su posición en los ejes $X$ e $Y$ está determinada por los valores de esas dos variables. Este gráfico nos permite identificar patrones, tendencias y posibles correlaciones entre las variables.\n",
    "\n",
    "- ***Interpretación:*** Al observar un gráfico de dispersión, es posible identificar si existe una relación positiva, negativa o nula entre las variables, así como la presencia de puntos atípicos que podrían indicar valores inusuales o errores en la medición."
   ]
  },
  {
   "cell_type": "code",
   "execution_count": null,
   "id": "587ed456",
   "metadata": {},
   "outputs": [],
   "source": [
    "# Generar datos aleatorios para el ejemplo\n",
    "n = 50\n",
    "x = np.random.rand(n)\n",
    "y = 2 * x + np.random.normal(0, 0.1, n)\n",
    "\n",
    "plt.figure(figsize=(6, 4))\n",
    "\n",
    "# Crear el gráfico de dispersión\n",
    "plt.scatter(x, y)\n",
    "plt.title('Gráfico de Dispersión')\n",
    "plt.xlabel('X')\n",
    "plt.ylabel('Y')\n",
    "plt.show()\n"
   ]
  },
  {
   "cell_type": "markdown",
   "id": "bc8b64fa",
   "metadata": {},
   "source": [
    "### Diagrama de Caja"
   ]
  },
  {
   "cell_type": "markdown",
   "id": "f9fbd148",
   "metadata": {},
   "source": [
    "#### Introducción"
   ]
  },
  {
   "cell_type": "markdown",
   "id": "02f35234",
   "metadata": {},
   "source": [
    "El [diagrama de caja](https://en.wikipedia.org/wiki/Box_plot), o *boxplot*, proporciona una representación visual de la distribución de los datos y resalta información sobre la *mediana*, *cuartiles* y posibles valores atípicos. Consiste en un rectángulo que abarca el *rango intercuartílico* (*IQR*) y *líneas* (*bigotes*) que se extienden hacia los valores mínimo y máximo dentro de ciertos límites.\n",
    "\n",
    "- ***Interpretación:*** El diagrama de caja es excelente para identificar la simetría de la distribución, la presencia de valores atípicos y la concentración de los datos alrededor de la mediana."
   ]
  },
  {
   "cell_type": "markdown",
   "id": "d3e2987b",
   "metadata": {},
   "source": [
    "#### Componentes del Diagrama de Caja"
   ]
  },
  {
   "cell_type": "markdown",
   "id": "21b7198b",
   "metadata": {},
   "source": [
    "<p float=\"center\">\n",
    "  <img src=\"https://github.com/carlosalvarezh/Curso_CEC_EAFIT/blob/main/images/C02_03_BoxPlot1.png?raw=true\" width=\"500\" />\n",
    "</p>\n",
    "\n",
    "- ***Mediana ($Q2$):*** Es el valor que divide a los datos en dos partes iguales. La mitad de los datos están por encima de la mediana y la otra mitad por debajo.\n",
    "<p>&nbsp;</p>\n",
    "\n",
    "- ***Cuartiles ($Q1$ y $Q3$):*** Los cuartiles dividen los datos en cuatro partes iguales. El primer cuartil ($Q1$) es el valor que deja el $25\\%$ de los datos por debajo (*25th percentile*) y el tercer cuartil ($Q3$) es el valor que deja el $75\\%$ de los datos por debajo (*75th percentile*).\n",
    "<p>&nbsp;</p>\n",
    "\n",
    "- ***Rango Intercuartílico ($IQR$):*** Es la diferencia entre el tercer cuartil ($Q3$) y el primer cuartil ($Q1$). Representa el rango en el que se encuentra el $50%$ central de los datos.\n",
    "<p>&nbsp;</p>\n",
    "\n",
    "- ***Bigotes (Whiskers):*** Los bigotes representan el rango de datos considerados \"normales\" y se extienden hasta los valores mínimo y máximo que caen dentro de $1.5$ veces el $IQR$ desde el primer y tercer cuartil respectivamente. Cualquier valor fuera de esta distancia se considera un valor atípico (outlier).\n",
    "<p>&nbsp;</p>\n",
    "\n",
    "- ***Valor mínimo:*** se determina mediante la fórmula $Q1-1.5 \\times IQR$\n",
    "<p>&nbsp;</p>\n",
    "\n",
    "- ***Valor máximo:*** se determina mediante la fórmula $Q3+1.5 \\times IQR$\n",
    "<p>&nbsp;</p>\n",
    "\n",
    "- ***Valores Atípicos (Outliers):*** Son valores que se encuentran significativamente lejos del resto de los datos y pueden indicar situaciones inusuales o errores en la medición.\n",
    "\n",
    "Ahora veamos cómo se genera un diagrama de caja empleando la biblioteca `numpy` de python :"
   ]
  },
  {
   "cell_type": "code",
   "execution_count": null,
   "id": "ba33de7b",
   "metadata": {
    "scrolled": false
   },
   "outputs": [],
   "source": [
    "# Generar datos aleatorios para el ejemplo\n",
    "data = np.random.normal(0, 1, 100)\n",
    "\n",
    "plt.figure(figsize=(6, 4))\n",
    "\n",
    "# Crear el diagrama de caja\n",
    "plt.boxplot(data)\n",
    "plt.title('Diagrama de Caja')\n",
    "plt.ylabel('Valores')\n",
    "plt.show()\n"
   ]
  },
  {
   "cell_type": "markdown",
   "id": "a0f8c33d",
   "metadata": {},
   "source": [
    "El siguiente ejemplo es empleando `DataFrames` de `pandas`"
   ]
  },
  {
   "cell_type": "code",
   "execution_count": null,
   "id": "f05f7c16",
   "metadata": {},
   "outputs": [],
   "source": [
    "# Generar un DataFrame con datos aleatorios\n",
    "np.random.seed(42)\n",
    "data = {\n",
    "    'Grupo A': np.random.normal(60, 10, 100),\n",
    "    'Grupo B': np.random.normal(70, 5, 100),\n",
    "    'Grupo C': np.random.normal(80, 8, 100)\n",
    "}\n",
    "df = pd.DataFrame(data)\n",
    "\n",
    "# Crear un diagrama de caja\n",
    "plt.figure(figsize=(6, 4))\n",
    "df.boxplot()\n",
    "plt.title('Diagrama de Caja - Comparación de Grupos')\n",
    "plt.ylabel('Valores')\n",
    "plt.show()\n"
   ]
  },
  {
   "cell_type": "markdown",
   "id": "26cc898e",
   "metadata": {},
   "source": [
    "En este ejemplo, hemos generado tres grupos de datos ficticios (Grupo A, Grupo B y Grupo C) y los hemos combinado en un DataFrame de Pandas. Luego, hemos creado un diagrama de caja que muestra la comparación de las distribuciones entre los tres grupos.\n",
    "\n",
    "Cada caja representa la distribución de datos en un grupo, mostrando la mediana, cuartiles y el rango intercuartílico (IQR). Los bigotes se extienden hasta los valores mínimo y máximo dentro de 1.5 veces el IQR desde los cuartiles. Cualquier punto fuera de los bigotes se considera un valor atípico.\n",
    "\n",
    "Este ejemplo más complejo ilustra cómo el diagrama de caja puede ser utilizado para comparar múltiples conjuntos de datos y destacar diferencias en sus distribuciones y valores atípicos.\n",
    "\n",
    "Veamos los mismos resultados graficados con la herramienta [`plotly`](https://plotly.com/python/getting-started/)"
   ]
  },
  {
   "cell_type": "code",
   "execution_count": null,
   "id": "6fe9952d",
   "metadata": {},
   "outputs": [],
   "source": [
    "import plotly.express as px\n",
    "\n",
    "plt.figure(figsize=(6, 4))\n",
    "fig = px.box(df)\n",
    "fig.show()"
   ]
  },
  {
   "cell_type": "markdown",
   "id": "86822efc",
   "metadata": {},
   "source": [
    "#### Cuándo usar un Diagrama de Caja"
   ]
  },
  {
   "cell_type": "markdown",
   "id": "aabe7dfc",
   "metadata": {},
   "source": [
    "Un diagrama de caja puede ser útil cuando necesitas más información acerca de un conjunto/distribución de datos que solo las medidas de tendencia central (media, mediana y moda). Los diagramas de caja pueden ilustrar la variabilidad o dispersión de todos los puntos de datos presentes en un conjunto, dando una buena indicación de valores atípicos y qué tan simétricos son los datos.\n",
    "\n",
    "Aunque los diagramas de caja pueden parecer más simples en comparación con un histograma o un gráfico de densidad, tienen la ventaja de ocupar menos espacio, lo cual es útil al comparar distribuciones entre varios grupos o conjuntos de datos.\n",
    "\n",
    "Qué define un valor atípico, \"mínimo\" o \"máximo\" puede no estar claro todavía. La siguiente sección tratará de aclararte ese punto.\""
   ]
  },
  {
   "cell_type": "markdown",
   "id": "1911eebe",
   "metadata": {},
   "source": [
    "#### Comparación entre un diagrama de caja y la distribución normal"
   ]
  },
  {
   "cell_type": "markdown",
   "id": "903a3cf0",
   "metadata": {},
   "source": [
    "<p float=\"center\">\n",
    "  <img src=\"https://github.com/carlosalvarezh/Curso_CEC_EAFIT/blob/main/images/C02_03_BoxPlot03.png?raw=true\" width=\"350\" />\n",
    "</p>\n",
    "\n",
    "La figura superior presenta una comparativa entre un gráfico de caja con intervalos y la [*función de densidad de probabilidad*](https://en.wikipedia.org/wiki/Probability_density_function) (*PDF*) de una distribución casi normal. La razón detrás de esta ilustración radica en el hecho de que la observación de una distribución estadística es más habitual que el análisis de un gráfico de caja. Este enfoque podría contribuir a una mejor comprensión del diagrama de caja.\n",
    "\n",
    "En la siguiente figura se observa la representación mediante el diagrama de caja de la asimetría (skewness)\n",
    "<p float=\"center\">\n",
    "  <img src=\"https://github.com/carlosalvarezh/Curso_CEC_EAFIT/blob/main/images/Skewness-Boxplot.PNG?raw=true\" width=\"350\" />\n",
    "</p>"
   ]
  },
  {
   "cell_type": "markdown",
   "id": "98c9ad58",
   "metadata": {},
   "source": [
    "### Gráfico de Torta"
   ]
  },
  {
   "cell_type": "markdown",
   "id": "3f08cb5f",
   "metadata": {},
   "source": [
    "El [gráfico de torta](https://en.wikipedia.org/wiki/Pie_chart) (*pie chart*) es ideal para representar proporciones y porcentajes dentro de un conjunto de categorías. Cada categoría se muestra como una porción de un círculo, donde el tamaño de cada porción está relacionado con la frecuencia relativa de esa categoría.\n",
    "\n",
    "- ***Interpretación:*** El gráfico de torta es útil para mostrar la composición de un conjunto de datos en términos de porcentajes y comparar proporciones entre categorías."
   ]
  },
  {
   "cell_type": "code",
   "execution_count": null,
   "id": "687e3321",
   "metadata": {},
   "outputs": [],
   "source": [
    "# Datos para el gráfico de torta\n",
    "labels = ['A', 'B', 'C', 'D']\n",
    "sizes = [30, 20, 15, 35]\n",
    "\n",
    "# Crear el gráfico de torta\n",
    "plt.figure(figsize=(6, 4))\n",
    "plt.pie(sizes, labels=labels, autopct='%1.1f%%', startangle=140)\n",
    "plt.title('Gráfico de Torta')\n",
    "plt.axis('equal')  # Equal aspect ratio ensures that pie is drawn as a circle.\n",
    "plt.show()"
   ]
  },
  {
   "cell_type": "markdown",
   "id": "0545fb04",
   "metadata": {},
   "source": [
    "### Gráfico de Líneas"
   ]
  },
  {
   "cell_type": "markdown",
   "id": "9ff85ffd",
   "metadata": {},
   "source": [
    "El [gráfico de líneas](https://en.wikipedia.org/wiki/Line_chart) (*line chart*) se utiliza para representar la evolución de una variable a lo largo del tiempo o algún otro orden secuencial. Conecta puntos de datos con líneas rectas, lo que facilita la observación de tendencias y patrones temporales.\n",
    "\n",
    "- ***Interpretación:*** Un gráfico de líneas nos permite identificar cambios a lo largo del tiempo y evaluar la dirección y la magnitud de las tendencias."
   ]
  },
  {
   "cell_type": "code",
   "execution_count": null,
   "id": "7058ac94",
   "metadata": {},
   "outputs": [],
   "source": [
    "# Generar datos aleatorios para el ejemplo\n",
    "x = np.linspace(0, 10, 100)\n",
    "y = np.sin(x)\n",
    "\n",
    "# Crear el gráfico de líneas\n",
    "plt.figure(figsize=(6, 4))\n",
    "plt.plot(x, y)\n",
    "plt.title('Gráfico de Líneas')\n",
    "plt.xlabel('X')\n",
    "plt.ylabel('Y')\n",
    "plt.show()\n"
   ]
  },
  {
   "cell_type": "markdown",
   "id": "c32491d6",
   "metadata": {},
   "source": [
    "### Gráfico de Violín"
   ]
  },
  {
   "cell_type": "markdown",
   "id": "f831f87e",
   "metadata": {},
   "source": [
    "#### Introducción"
   ]
  },
  {
   "cell_type": "markdown",
   "id": "8af3dd0e",
   "metadata": {},
   "source": [
    "El [gráfico de violín](https://en.wikipedia.org/wiki/Violin_plot) es una herramienta de visualización que combina las características del diagrama de caja y el gráfico de densidad en una sola representación. Proporciona información detallada sobre la distribución de los datos, incluyendo medidas de tendencia central, dispersión y densidad.\n",
    "\n",
    "En comparación con los gráficos mencionados anteriormente, el gráfico de violín ofrece una representación más completa de la distribución de los datos, incluyendo información sobre la forma de la distribución y su densidad. Si bien los otros gráficos son valiosos en sus propios contextos, el gráfico de violín puede proporcionar una perspectiva adicional que puede ser especialmente útil en situaciones en las que se busca una comprensión más detallada de la distribución de los datos."
   ]
  },
  {
   "cell_type": "markdown",
   "id": "703d7d48",
   "metadata": {},
   "source": [
    "#### Usos del gráfico de Violín"
   ]
  },
  {
   "cell_type": "markdown",
   "id": "541bbd7f",
   "metadata": {},
   "source": [
    "- ***Visualización de Distribución:*** Al igual que el diagrama de caja, el gráfico de violín es útil para visualizar la distribución de datos, incluyendo la concentración, simetría y la presencia de valores atípicos.\n",
    "<p>&nbsp;</p>\n",
    "\n",
    "\n",
    "- ***Comparación entre Grupos:*** Puede emplearse para comparar la distribución de múltiples grupos en una sola representación, lo que puede ser más eficiente que crear múltiples gráficos de caja separados.\n",
    "<p>&nbsp;</p>\n",
    "\n",
    "\n",
    "- ***Densidad de Datos:*** El ancho del violín refleja la densidad de datos en diferentes valores, lo que permite obtener una idea de la concentración de los datos en distintas partes de la distribución."
   ]
  },
  {
   "cell_type": "markdown",
   "id": "fd13fad0",
   "metadata": {},
   "source": [
    "#### Componentes del Gráfico de Violín"
   ]
  },
  {
   "cell_type": "markdown",
   "id": "4a9f50f7",
   "metadata": {},
   "source": [
    "- ***Violines Dobles:*** Los violines aparecen en pares, uno para cada categoría o grupo que deseamos comparar en el eje $X$. La forma de cada violín refleja la distribución de datos en ese grupo.\n",
    "<p>&nbsp;</p>\n",
    "\n",
    "- ***Área Rellena:*** El área del violín muestra la densidad de datos en diferentes valores a lo largo del eje $X$. Un violín más ancho indica una mayor densidad de datos en esa región, mientras que uno más estrecho indica menos densidad.\n",
    "<p>&nbsp;</p>\n",
    "\n",
    "- ***Línea Central:*** Una línea en el centro de cada violín representa la mediana, lo que nos proporciona una medida de tendencia central.\n",
    "<p>&nbsp;</p>\n",
    "\n",
    "- ***Puntos o Marcas:*** Algunos gráficos de violín también incluyen puntos o marcas que indican valores individuales, lo que puede ser útil para identificar valores atípicos."
   ]
  },
  {
   "cell_type": "code",
   "execution_count": null,
   "id": "df131d34",
   "metadata": {},
   "outputs": [],
   "source": [
    "# Generar un DataFrame con datos aleatorios\n",
    "np.random.seed(42)\n",
    "data = {\n",
    "    'Grupo A': np.random.normal(60, 10, 100),\n",
    "    'Grupo B': np.random.normal(70, 5, 100),\n",
    "    'Grupo C': np.random.normal(80, 8, 100)\n",
    "}\n",
    "df = pd.DataFrame(data)\n",
    "\n",
    "# Crear un gráfico de violín\n",
    "plt.figure(figsize=(6, 4))\n",
    "\n",
    "plt.subplot(2, 1, 1)\n",
    "sns.violinplot(data=df)\n",
    "plt.title('Comparación Gráfico de Violín - Boxplot')\n",
    "plt.ylabel('Valores')\n",
    "\n",
    "plt.subplot(2, 1, 2)\n",
    "df.boxplot()\n",
    "plt.ylabel('Valores')\n",
    "plt.show()"
   ]
  },
  {
   "cell_type": "markdown",
   "id": "85cc7148",
   "metadata": {},
   "source": [
    "En este ejemplo, hemos utilizado la biblioteca Seaborn para crear un gráfico de violín que muestra la comparación de las distribuciones entre tres grupos ficticios (Grupo A, Grupo B y Grupo C). Cada violín representa la distribución de datos en un grupo, y el área del violín muestra la densidad de los valores a lo largo del eje $X$. La línea central en cada violín representa la mediana."
   ]
  }
 ],
 "metadata": {
  "kernelspec": {
   "display_name": "Python 3 (ipykernel)",
   "language": "python",
   "name": "python3"
  },
  "language_info": {
   "codemirror_mode": {
    "name": "ipython",
    "version": 3
   },
   "file_extension": ".py",
   "mimetype": "text/x-python",
   "name": "python",
   "nbconvert_exporter": "python",
   "pygments_lexer": "ipython3",
   "version": "3.11.3"
  },
  "toc": {
   "base_numbering": 1,
   "nav_menu": {},
   "number_sections": true,
   "sideBar": true,
   "skip_h1_title": true,
   "title_cell": "Table of Contents",
   "title_sidebar": "Contents",
   "toc_cell": false,
   "toc_position": {
    "height": "calc(100% - 180px)",
    "left": "10px",
    "top": "150px",
    "width": "380.4px"
   },
   "toc_section_display": true,
   "toc_window_display": false
  }
 },
 "nbformat": 4,
 "nbformat_minor": 5
}
