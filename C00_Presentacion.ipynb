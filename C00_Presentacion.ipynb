{
 "cells": [
  {
   "cell_type": "markdown",
   "id": "339d7266",
   "metadata": {},
   "source": [
    "<h1 align=\"center\">Analítica de datos para la toma de decisiones empresariales</h1>\n",
    "<h1 align=\"center\">Presentación del curso</h1>\n",
    "<h1 align=\"center\">Centro de Educación Continua</h1>\n",
    "<h1 align=\"center\">EAFIT</h1>\n",
    "<h1 align=\"center\">2023</h1>\n",
    "<h1 align=\"center\">MEDELLÍN - COLOMBIA </h1>"
   ]
  },
  {
   "cell_type": "markdown",
   "id": "60851e67",
   "metadata": {},
   "source": [
    "<table>\n",
    " <tr align=left><td><img align=left src=\"https://github.com/carlosalvarezh/CFD_Applied/blob/master/figs/CC-BY.png?raw=true\">\n",
    " <td>Text provided under a Creative Commons Attribution license, CC-BY. All code is made available under the FSF-approved MIT license.(c) Carlos Alberto Alvarez Henao</td>\n",
    "</table>"
   ]
  },
  {
   "cell_type": "markdown",
   "id": "4204594d",
   "metadata": {},
   "source": [
    "## Objetivo de formación"
   ]
  },
  {
   "cell_type": "markdown",
   "id": "3078fb81",
   "metadata": {},
   "source": [
    "Fortalecer e implementar el razonamiento estadístico en la gestión y análisis de datos a través del uso de Python."
   ]
  },
  {
   "cell_type": "markdown",
   "id": "0d14bf31",
   "metadata": {},
   "source": [
    "## Intensidad"
   ]
  },
  {
   "cell_type": "markdown",
   "id": "67451c8d",
   "metadata": {},
   "source": [
    "40 horas"
   ]
  },
  {
   "cell_type": "markdown",
   "id": "f321d361",
   "metadata": {},
   "source": [
    "## Modalidad"
   ]
  },
  {
   "cell_type": "markdown",
   "id": "37c8f9ed",
   "metadata": {},
   "source": [
    "Esta formación se desarrollará siguiendo la modalidad [E-Learning](https://cognosonline.com/co/blog/que-es-e-learning/), con clases magistrales por parte del tutor con actividades a ser desarrolladas por los asistentes de forma autónoma e independiente."
   ]
  },
  {
   "cell_type": "markdown",
   "id": "fe20a92e",
   "metadata": {},
   "source": [
    "## Contenido"
   ]
  },
  {
   "cell_type": "markdown",
   "id": "86ceaf90",
   "metadata": {},
   "source": [
    "### Módulo 1: Python Crash Course"
   ]
  },
  {
   "cell_type": "markdown",
   "id": "d5331417",
   "metadata": {},
   "source": [
    "- Conceptos básicos de Python: Variables y tipos, Operadores aritméticos, de comparación y lógicos\n",
    "- Cadenas de Caracteres: strings\n",
    "- Estructuras de datos: tuplas, listas y diccionarios\n",
    "- Estructuras de control de flujo: Condicionales y ciclos\n",
    "- Funciones y módulos\n",
    "- Ecosistema Python: Numpy, Matplotlib y Pandas"
   ]
  },
  {
   "cell_type": "markdown",
   "id": "8ee3dd5d",
   "metadata": {},
   "source": [
    "### Módulo 2: Estadística univariante"
   ]
  },
  {
   "cell_type": "markdown",
   "id": "c25f3c13",
   "metadata": {},
   "source": [
    "- Introducción a conceptos básicos de estadística\n",
    "- Descripción gráfica, visual y tabular de los datos\n",
    "- Indicadores de centralidad, dispersión y forma y su interpretación\n",
    "- Análisis de normalidad y de otros modelos explicativos de la incertidumbre detrás de los datos (Modelos Probabilísticos)\n",
    "- Estimación puntal de indicadores (parámetros) y su margen de error (intervalos de confianza)\n",
    "- Validación estadística de conjeturas empresariales (Pruebas de hipótesis paramétricas)\n",
    "- Validaciones estadísticas de conjeturas empresariales en presencia de menos información (Pruebas de hipótesis no paramétricas)\n"
   ]
  },
  {
   "cell_type": "markdown",
   "id": "edb3630e",
   "metadata": {},
   "source": [
    "### Módulo 3: Modelos de predicción y pronóstico"
   ]
  },
  {
   "cell_type": "markdown",
   "id": "64dada67",
   "metadata": {},
   "source": [
    "- Visualización de datos y variables con información compartida (Diagrama de dispersión)\n",
    "- Técnicas estadísticas para la medición de información compartida e indicadores de dependencia (Correlaciones)\n",
    "- Explicación de una variable en términos de otras (Modelo de regresión lineal)\n",
    "- Métodos estadísticos de selección de variables importantes e identificación de información redundante. (validación y significancia)\n",
    "- Modelos generales para pronósticos a corto plazo\n",
    "- Identificación de datos raros (outliers) y métodos explicativos en presencia de datos raros no identificados (Regresión robusta)\n"
   ]
  },
  {
   "cell_type": "markdown",
   "id": "0324f6f5",
   "metadata": {},
   "source": [
    "### Módulo 4: Estadística multivariante"
   ]
  },
  {
   "cell_type": "markdown",
   "id": "80eda3e8",
   "metadata": {},
   "source": [
    "- Visualización de datos multivariantes\n",
    "- Indicadores de centralidad, dispersión y forma\n",
    "- Similaridad de individuos y registros (Distancia estadística)\n",
    "- Técnicas de identificación de registros raros (detección de outliers multivariantes)\n",
    "- Reducción de dimensión y construcción de indicadores (Componentes principales)\n",
    "- Agrupamiento de registros y segmentación (Clustering)\n",
    "- Clasificación supervisada de registros"
   ]
  },
  {
   "cell_type": "markdown",
   "id": "11fe099c",
   "metadata": {},
   "source": [
    "## Sesiones clase a clase"
   ]
  },
  {
   "cell_type": "markdown",
   "id": "b43c5c8c",
   "metadata": {},
   "source": [
    "| Sesión         |                 Módulo                |Horas|\n",
    "|:--------------:|:-------------------------------------|:---:|\n",
    "|  1             | Python: Crash course                  |  4  |\n",
    "|  2             | Estadística Univariante I             |  4  |\n",
    "|  3             | Estadística Univariante II            |  4  |\n",
    "|  4             | *Taller de repaso I*                  |  4  |\n",
    "|  5             | Modelos de Predicción y Pronóstico I  |  4  |\n",
    "|  6             | Modelos de Predicción y Pronóstico II |  4  |\n",
    "|  7             | Estadística multivariante I           |  4  |\n",
    "|  8             | *Taller de repaso II*                 |  4  |\n",
    "|  9             | Estadística multivariante II          |  4  |\n",
    "| 10             | Retroalimentación                     |  4  |\n",
    "|                | ***Total horas***                     |***40***|"
   ]
  },
  {
   "cell_type": "markdown",
   "id": "0ec00054",
   "metadata": {},
   "source": [
    "## Metodología"
   ]
  },
  {
   "cell_type": "markdown",
   "id": "7c009b74",
   "metadata": {},
   "source": [
    "El curso se desarrolla con diferentes estrategias pedagógicas, entre otras:  \n",
    "- Clases Magistrales en modalidad remota (E-learning)\n",
    "- Talleres para desarrollar en diferentes plataformas de trabajo (Python, Jupyter Notebook, Google Colab)  \n",
    "- Exposiciones\n",
    "\n",
    "entre otras"
   ]
  },
  {
   "cell_type": "markdown",
   "id": "d4f6cb42",
   "metadata": {},
   "source": [
    "## Cibergrafía"
   ]
  },
  {
   "cell_type": "markdown",
   "id": "3e96b6e5",
   "metadata": {},
   "source": [
    "- [Python](https://www.python.org/)\n",
    "- [Numpy](https://numpy.org/)\n",
    "- [Matplotlib](https://matplotlib.org/)\n",
    "- [Pandas](https://pandas.pydata.org/)\n",
    "- [Jupyter](https://jupyter.org/)\n",
    "- [Anaconda](https://anaconda.org/)\n",
    "- [Google Colab](https://colab.research.google.com/)\n",
    "- [Github](https://github.com/carlosalvarezh)\n",
    "- [Visual Studio Code](https://code.visualstudio.com/)\n"
   ]
  },
  {
   "cell_type": "code",
   "execution_count": null,
   "id": "83c21b47",
   "metadata": {},
   "outputs": [],
   "source": []
  }
 ],
 "metadata": {
  "kernelspec": {
   "display_name": "Python 3 (ipykernel)",
   "language": "python",
   "name": "python3"
  },
  "language_info": {
   "codemirror_mode": {
    "name": "ipython",
    "version": 3
   },
   "file_extension": ".py",
   "mimetype": "text/x-python",
   "name": "python",
   "nbconvert_exporter": "python",
   "pygments_lexer": "ipython3",
   "version": "3.11.3"
  },
  "toc": {
   "base_numbering": 1,
   "nav_menu": {},
   "number_sections": true,
   "sideBar": true,
   "skip_h1_title": true,
   "title_cell": "Table of Contents",
   "title_sidebar": "Contents",
   "toc_cell": false,
   "toc_position": {
    "height": "calc(100% - 180px)",
    "left": "10px",
    "top": "150px",
    "width": "165px"
   },
   "toc_section_display": true,
   "toc_window_display": true
  }
 },
 "nbformat": 4,
 "nbformat_minor": 5
}
