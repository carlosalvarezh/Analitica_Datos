{
 "cells": [
  {
   "cell_type": "markdown",
   "id": "2f6e1045",
   "metadata": {},
   "source": [
    "<h1 align=\"center\">Analítica de datos para la toma de decisiones empresariales</h1>\n",
    "<h1 align=\"center\">Python: Crash Course</h1>\n",
    "<h1 align=\"center\">Centro de Educación Continua</h1>\n",
    "<h1 align=\"center\">EAFIT</h1>\n",
    "<h1 align=\"center\">2023</h1>\n",
    "<h1 align=\"center\">MEDELLÍN - COLOMBIA </h1>"
   ]
  },
  {
   "cell_type": "markdown",
   "id": "fffa1fa6",
   "metadata": {},
   "source": [
    "<table>\n",
    " <tr align=left><td><img align=left src=\"https://github.com/carlosalvarezh/CFD_Applied/blob/master/figs/CC-BY.png?raw=true\">\n",
    " <td>Text provided under a Creative Commons Attribution license, CC-BY. All code is made available under the FSF-approved MIT license.(c) Carlos Alberto Alvarez Henao</td>\n",
    "</table>"
   ]
  },
  {
   "cell_type": "markdown",
   "id": "f4825729",
   "metadata": {},
   "source": [
    "***Nota:*** Las siguientes notas tienen como objetivo presentar una visión rápida de diferentes funcionalidades del lenguaje Python. En ningún momento debe ser entendido como un curso para aprender python. Son más como una especie de breve guía de referencia para adentrarse en su aplicabilidad."
   ]
  },
  {
   "cell_type": "markdown",
   "id": "9a00a74e",
   "metadata": {
    "toc": true
   },
   "source": [
    "<h1>Tabla de Contenidos<span class=\"tocSkip\"></span></h1>\n",
    "<div class=\"toc\"><ul class=\"toc-item\"><li><span><a href=\"#Conceptos-básicos-de-Python\" data-toc-modified-id=\"Conceptos-básicos-de-Python-1\"><span class=\"toc-item-num\">1&nbsp;&nbsp;</span>Conceptos básicos de Python</a></span><ul class=\"toc-item\"><li><span><a href=\"#Variables-y-tipos\" data-toc-modified-id=\"Variables-y-tipos-1.1\"><span class=\"toc-item-num\">1.1&nbsp;&nbsp;</span>Variables y tipos</a></span></li><li><span><a href=\"#Reglas-para-nombrar-variables\" data-toc-modified-id=\"Reglas-para-nombrar-variables-1.2\"><span class=\"toc-item-num\">1.2&nbsp;&nbsp;</span>Reglas para nombrar variables</a></span></li><li><span><a href=\"#Ayuda\" data-toc-modified-id=\"Ayuda-1.3\"><span class=\"toc-item-num\">1.3&nbsp;&nbsp;</span>Ayuda</a></span></li><li><span><a href=\"#Operadores\" data-toc-modified-id=\"Operadores-1.4\"><span class=\"toc-item-num\">1.4&nbsp;&nbsp;</span>Operadores</a></span></li><li><span><a href=\"#Comparación-(booleanos)\" data-toc-modified-id=\"Comparación-(booleanos)-1.5\"><span class=\"toc-item-num\">1.5&nbsp;&nbsp;</span>Comparación (booleanos)</a></span></li><li><span><a href=\"#Lógicos\" data-toc-modified-id=\"Lógicos-1.6\"><span class=\"toc-item-num\">1.6&nbsp;&nbsp;</span>Lógicos</a></span></li><li><span><a href=\"#Orden-de-las-operaciones\" data-toc-modified-id=\"Orden-de-las-operaciones-1.7\"><span class=\"toc-item-num\">1.7&nbsp;&nbsp;</span>Orden de las operaciones</a></span></li><li><span><a href=\"#Cadenas-de-caracteres-(string)\" data-toc-modified-id=\"Cadenas-de-caracteres-(string)-1.8\"><span class=\"toc-item-num\">1.8&nbsp;&nbsp;</span>Cadenas de caracteres (string)</a></span><ul class=\"toc-item\"><li><span><a href=\"#Operaciones-con-cadenas-de-caracteres\" data-toc-modified-id=\"Operaciones-con-cadenas-de-caracteres-1.8.1\"><span class=\"toc-item-num\">1.8.1&nbsp;&nbsp;</span>Operaciones con cadenas de caracteres</a></span></li><li><span><a href=\"#Indexación\" data-toc-modified-id=\"Indexación-1.8.2\"><span class=\"toc-item-num\">1.8.2&nbsp;&nbsp;</span>Indexación</a></span></li><li><span><a href=\"#Particionado-(slicing)\" data-toc-modified-id=\"Particionado-(slicing)-1.8.3\"><span class=\"toc-item-num\">1.8.3&nbsp;&nbsp;</span>Particionado (slicing)</a></span></li></ul></li><li><span><a href=\"#Entrada/Salida\" data-toc-modified-id=\"Entrada/Salida-1.9\"><span class=\"toc-item-num\">1.9&nbsp;&nbsp;</span>Entrada/Salida</a></span></li><li><span><a href=\"#Listas\" data-toc-modified-id=\"Listas-1.10\"><span class=\"toc-item-num\">1.10&nbsp;&nbsp;</span>Listas</a></span></li><li><span><a href=\"#Diccionarios\" data-toc-modified-id=\"Diccionarios-1.11\"><span class=\"toc-item-num\">1.11&nbsp;&nbsp;</span>Diccionarios</a></span></li><li><span><a href=\"#Estructuras-de-control-de-flujo\" data-toc-modified-id=\"Estructuras-de-control-de-flujo-1.12\"><span class=\"toc-item-num\">1.12&nbsp;&nbsp;</span>Estructuras de control de flujo</a></span><ul class=\"toc-item\"><li><span><a href=\"#Condicional-(if---elif--else)\" data-toc-modified-id=\"Condicional-(if---elif--else)-1.12.1\"><span class=\"toc-item-num\">1.12.1&nbsp;&nbsp;</span>Condicional (if - elif- else)</a></span></li><li><span><a href=\"#Ciclo-while\" data-toc-modified-id=\"Ciclo-while-1.12.2\"><span class=\"toc-item-num\">1.12.2&nbsp;&nbsp;</span>Ciclo while</a></span></li><li><span><a href=\"#Ciclo-for\" data-toc-modified-id=\"Ciclo-for-1.12.3\"><span class=\"toc-item-num\">1.12.3&nbsp;&nbsp;</span>Ciclo for</a></span></li></ul></li><li><span><a href=\"#Funciones\" data-toc-modified-id=\"Funciones-1.13\"><span class=\"toc-item-num\">1.13&nbsp;&nbsp;</span>Funciones</a></span><ul class=\"toc-item\"><li><span><a href=\"#Función-sin-parámetro-y-sin-retorno\" data-toc-modified-id=\"Función-sin-parámetro-y-sin-retorno-1.13.1\"><span class=\"toc-item-num\">1.13.1&nbsp;&nbsp;</span>Función sin parámetro y sin retorno</a></span></li><li><span><a href=\"#Función-con-uno-o-más-parámetros-y-sin-retorno\" data-toc-modified-id=\"Función-con-uno-o-más-parámetros-y-sin-retorno-1.13.2\"><span class=\"toc-item-num\">1.13.2&nbsp;&nbsp;</span>Función con uno o más parámetros y sin retorno</a></span></li><li><span><a href=\"#Retorno-de-valores\" data-toc-modified-id=\"Retorno-de-valores-1.13.3\"><span class=\"toc-item-num\">1.13.3&nbsp;&nbsp;</span>Retorno de valores</a></span></li><li><span><a href=\"#Retorno-de-valores-múltiples\" data-toc-modified-id=\"Retorno-de-valores-múltiples-1.13.4\"><span class=\"toc-item-num\">1.13.4&nbsp;&nbsp;</span>Retorno de valores múltiples</a></span></li></ul></li><li><span><a href=\"#Módulos\" data-toc-modified-id=\"Módulos-1.14\"><span class=\"toc-item-num\">1.14&nbsp;&nbsp;</span>Módulos</a></span><ul class=\"toc-item\"><li><span><a href=\"#Personalizados\" data-toc-modified-id=\"Personalizados-1.14.1\"><span class=\"toc-item-num\">1.14.1&nbsp;&nbsp;</span>Personalizados</a></span></li><li><span><a href=\"#Built---in\" data-toc-modified-id=\"Built---in-1.14.2\"><span class=\"toc-item-num\">1.14.2&nbsp;&nbsp;</span>Built - in</a></span></li></ul></li></ul></li><li><span><a href=\"#Ecosistema-Python\" data-toc-modified-id=\"Ecosistema-Python-2\"><span class=\"toc-item-num\">2&nbsp;&nbsp;</span>Ecosistema Python</a></span><ul class=\"toc-item\"><li><span><a href=\"#Numpy\" data-toc-modified-id=\"Numpy-2.1\"><span class=\"toc-item-num\">2.1&nbsp;&nbsp;</span>Numpy</a></span><ul class=\"toc-item\"><li><span><a href=\"#Qué-es-Numpy?\" data-toc-modified-id=\"Qué-es-Numpy?-2.1.1\"><span class=\"toc-item-num\">2.1.1&nbsp;&nbsp;</span>Qué es <a href=\"https://numpy.org/\" rel=\"nofollow\" target=\"_blank\">Numpy</a>?</a></span></li><li><span><a href=\"#Constantes-y-funciones-matemáticas\" data-toc-modified-id=\"Constantes-y-funciones-matemáticas-2.1.2\"><span class=\"toc-item-num\">2.1.2&nbsp;&nbsp;</span>Constantes y funciones matemáticas</a></span></li><li><span><a href=\"#Indexación\" data-toc-modified-id=\"Indexación-2.1.3\"><span class=\"toc-item-num\">2.1.3&nbsp;&nbsp;</span>Indexación</a></span></li><li><span><a href=\"#generación-automática-de-listas-y-arreglos\" data-toc-modified-id=\"generación-automática-de-listas-y-arreglos-2.1.4\"><span class=\"toc-item-num\">2.1.4&nbsp;&nbsp;</span>generación automática de listas y arreglos</a></span></li><li><span><a href=\"#arreglos-especiales\" data-toc-modified-id=\"arreglos-especiales-2.1.5\"><span class=\"toc-item-num\">2.1.5&nbsp;&nbsp;</span>arreglos especiales</a></span></li><li><span><a href=\"#Operaciones-con-arreglos\" data-toc-modified-id=\"Operaciones-con-arreglos-2.1.6\"><span class=\"toc-item-num\">2.1.6&nbsp;&nbsp;</span>Operaciones con arreglos</a></span></li><li><span><a href=\"#Funciones-de-comparación\" data-toc-modified-id=\"Funciones-de-comparación-2.1.7\"><span class=\"toc-item-num\">2.1.7&nbsp;&nbsp;</span>Funciones de comparación</a></span></li><li><span><a href=\"#Referencias-para-estudio\" data-toc-modified-id=\"Referencias-para-estudio-2.1.8\"><span class=\"toc-item-num\">2.1.8&nbsp;&nbsp;</span>Referencias para estudio</a></span></li></ul></li><li><span><a href=\"#Matplotlib\" data-toc-modified-id=\"Matplotlib-2.2\"><span class=\"toc-item-num\">2.2&nbsp;&nbsp;</span>Matplotlib</a></span><ul class=\"toc-item\"><li><span><a href=\"#Qué-es-matplotlib?\" data-toc-modified-id=\"Qué-es-matplotlib?-2.2.1\"><span class=\"toc-item-num\">2.2.1&nbsp;&nbsp;</span>Qué es matplotlib?</a></span></li><li><span><a href=\"#Gráfica-simple\" data-toc-modified-id=\"Gráfica-simple-2.2.2\"><span class=\"toc-item-num\">2.2.2&nbsp;&nbsp;</span>Gráfica simple</a></span></li><li><span><a href=\"#Gráfica-de-una-función-matemática\" data-toc-modified-id=\"Gráfica-de-una-función-matemática-2.2.3\"><span class=\"toc-item-num\">2.2.3&nbsp;&nbsp;</span>Gráfica de una función matemática</a></span></li><li><span><a href=\"#Scatter\" data-toc-modified-id=\"Scatter-2.2.4\"><span class=\"toc-item-num\">2.2.4&nbsp;&nbsp;</span>Scatter</a></span></li><li><span><a href=\"#Histograma\" data-toc-modified-id=\"Histograma-2.2.5\"><span class=\"toc-item-num\">2.2.5&nbsp;&nbsp;</span>Histograma</a></span></li><li><span><a href=\"#Boxplot\" data-toc-modified-id=\"Boxplot-2.2.6\"><span class=\"toc-item-num\">2.2.6&nbsp;&nbsp;</span>Boxplot</a></span></li><li><span><a href=\"#Error-bar\" data-toc-modified-id=\"Error-bar-2.2.7\"><span class=\"toc-item-num\">2.2.7&nbsp;&nbsp;</span>Error bar</a></span></li><li><span><a href=\"#Violin\" data-toc-modified-id=\"Violin-2.2.8\"><span class=\"toc-item-num\">2.2.8&nbsp;&nbsp;</span>Violin</a></span></li><li><span><a href=\"#pie\" data-toc-modified-id=\"pie-2.2.9\"><span class=\"toc-item-num\">2.2.9&nbsp;&nbsp;</span>pie</a></span></li><li><span><a href=\"#Referencias-para-estudio\" data-toc-modified-id=\"Referencias-para-estudio-2.2.10\"><span class=\"toc-item-num\">2.2.10&nbsp;&nbsp;</span>Referencias para estudio</a></span></li></ul></li><li><span><a href=\"#Pandas\" data-toc-modified-id=\"Pandas-2.3\"><span class=\"toc-item-num\">2.3&nbsp;&nbsp;</span>Pandas</a></span><ul class=\"toc-item\"><li><span><a href=\"#Qué-es-Pandas?\" data-toc-modified-id=\"Qué-es-Pandas?-2.3.1\"><span class=\"toc-item-num\">2.3.1&nbsp;&nbsp;</span>Qué es Pandas?</a></span></li><li><span><a href=\"#Estructuras-de-datos-en-Pandas\" data-toc-modified-id=\"Estructuras-de-datos-en-Pandas-2.3.2\"><span class=\"toc-item-num\">2.3.2&nbsp;&nbsp;</span>Estructuras de datos en <em>Pandas</em></a></span></li><li><span><a href=\"#Series\" data-toc-modified-id=\"Series-2.3.3\"><span class=\"toc-item-num\">2.3.3&nbsp;&nbsp;</span>Series</a></span></li><li><span><a href=\"#DataFrame\" data-toc-modified-id=\"DataFrame-2.3.4\"><span class=\"toc-item-num\">2.3.4&nbsp;&nbsp;</span>DataFrame</a></span></li><li><span><a href=\"#Lectura-/-Escritura-en-Pandas\" data-toc-modified-id=\"Lectura-/-Escritura-en-Pandas-2.3.5\"><span class=\"toc-item-num\">2.3.5&nbsp;&nbsp;</span>Lectura / Escritura en Pandas</a></span></li></ul></li></ul></li></ul></div>"
   ]
  },
  {
   "cell_type": "markdown",
   "id": "60fef0f9",
   "metadata": {},
   "source": [
    "## Conceptos básicos de Python"
   ]
  },
  {
   "cell_type": "markdown",
   "id": "2c207cbf",
   "metadata": {},
   "source": [
    "### Variables y tipos"
   ]
  },
  {
   "cell_type": "markdown",
   "id": "016085a3",
   "metadata": {},
   "source": [
    "Una variable es un nombre que se utiliza para hacer referencia a un valor en la memoria de la computadora. Estos valores pueden ser de diversos tipos, como numéricos ([int / float / complex](https://docs.python.org/3/library/stdtypes.html#numeric-types-int-float-complex)), cadenas de texto([str](https://docs.python.org/3/library/stdtypes.html#text-sequence-type-str)), secuencia ([tuple/list](https://docs.python.org/3/library/stdtypes.html#sequence-types-list-tuple-range)), asignación (mapping) ([dict](https://docs.python.org/3/library/stdtypes.html#mapping-types-dict)), objetos y más. Las variables son fundamentales en la programación ya que permiten almacenar y manipular datos de manera dinámica.\n",
    "\n",
    "En Python, se crea una variable al asignarle un valor usando el operador de asignación (`=`). Por ejemplo:"
   ]
  },
  {
   "cell_type": "code",
   "execution_count": null,
   "id": "04c368a4",
   "metadata": {},
   "outputs": [],
   "source": [
    "entero = 10\n",
    "flotante = 10.5\n",
    "name = 'juan'\n",
    "tupla = (1,2,3,4)\n",
    "lista = [1,2,3,4]\n",
    "dicc = {'Pedro':25, 'Ana':23, 'Maria':21}"
   ]
  },
  {
   "cell_type": "code",
   "execution_count": null,
   "id": "c6841e66",
   "metadata": {},
   "outputs": [],
   "source": [
    "print(entero)"
   ]
  },
  {
   "cell_type": "code",
   "execution_count": null,
   "id": "93d0480a",
   "metadata": {},
   "outputs": [],
   "source": [
    "type(entero)"
   ]
  },
  {
   "cell_type": "code",
   "execution_count": null,
   "id": "85cf0375",
   "metadata": {},
   "outputs": [],
   "source": [
    "print(flotante)"
   ]
  },
  {
   "cell_type": "code",
   "execution_count": null,
   "id": "56e48ed6",
   "metadata": {},
   "outputs": [],
   "source": [
    "type(flotante)"
   ]
  },
  {
   "cell_type": "code",
   "execution_count": null,
   "id": "9cf3788c",
   "metadata": {},
   "outputs": [],
   "source": [
    "print(name)"
   ]
  },
  {
   "cell_type": "code",
   "execution_count": null,
   "id": "31e72cd4",
   "metadata": {},
   "outputs": [],
   "source": [
    "type(name)"
   ]
  },
  {
   "cell_type": "code",
   "execution_count": null,
   "id": "b3404a06",
   "metadata": {},
   "outputs": [],
   "source": [
    "print(tupla)"
   ]
  },
  {
   "cell_type": "code",
   "execution_count": null,
   "id": "e1c28c49",
   "metadata": {},
   "outputs": [],
   "source": [
    "type(tupla)"
   ]
  },
  {
   "cell_type": "code",
   "execution_count": null,
   "id": "af446f0d",
   "metadata": {},
   "outputs": [],
   "source": [
    "print(lista)"
   ]
  },
  {
   "cell_type": "code",
   "execution_count": null,
   "id": "97fef694",
   "metadata": {},
   "outputs": [],
   "source": [
    "type(lista)"
   ]
  },
  {
   "cell_type": "code",
   "execution_count": null,
   "id": "aaca3950",
   "metadata": {},
   "outputs": [],
   "source": [
    "print(dicc)"
   ]
  },
  {
   "cell_type": "code",
   "execution_count": null,
   "id": "2798c6b7",
   "metadata": {},
   "outputs": [],
   "source": [
    "type(dicc)"
   ]
  },
  {
   "cell_type": "markdown",
   "id": "3a9c2ed5",
   "metadata": {},
   "source": [
    "### Reglas para nombrar variables"
   ]
  },
  {
   "cell_type": "markdown",
   "id": "89e64ea4",
   "metadata": {},
   "source": [
    "- No pueden empezar por número"
   ]
  },
  {
   "cell_type": "code",
   "execution_count": null,
   "id": "7ec6dd93",
   "metadata": {},
   "outputs": [],
   "source": [
    "4hola = 'hola'"
   ]
  },
  {
   "cell_type": "markdown",
   "id": "60e57f05",
   "metadata": {},
   "source": [
    "- No pueden estar separadasa por espacio"
   ]
  },
  {
   "cell_type": "code",
   "execution_count": null,
   "id": "fe0c4f4e",
   "metadata": {},
   "outputs": [],
   "source": [
    "hola mundo = \"Hola mundo\""
   ]
  },
  {
   "cell_type": "markdown",
   "id": "b1ed124b",
   "metadata": {},
   "source": [
    "- No pueden usar caracteres especiales"
   ]
  },
  {
   "cell_type": "code",
   "execution_count": null,
   "id": "d6e47b07",
   "metadata": {},
   "outputs": [],
   "source": [
    "p25% = 0.25"
   ]
  },
  {
   "cell_type": "markdown",
   "id": "64f686bc",
   "metadata": {},
   "source": [
    "- No pueden ser palabras reservadas"
   ]
  },
  {
   "cell_type": "code",
   "execution_count": null,
   "id": "1f5b6da9",
   "metadata": {},
   "outputs": [],
   "source": [
    "# Palabras clave\n",
    "\n",
    "import keyword\n",
    "listkw = keyword.kwlist\n",
    "print(listkw)\n",
    "print(len(listkw))"
   ]
  },
  {
   "cell_type": "markdown",
   "id": "1bfe2bc3",
   "metadata": {},
   "source": [
    "Python tiene una [Guía de Estilo - PEP8](https://peps.python.org/) para poner de acuerdo a todos cómo deben hacerse las cosas al estilo python:\n",
    "\n",
    "- ***Camel Case:*** `nombreVariable`\n",
    "- ***Snake Case:*** `nombre_variable`\n",
    "- ***Pascal Case:*** `NombreVariable`\n",
    "\n"
   ]
  },
  {
   "cell_type": "code",
   "execution_count": null,
   "id": "db36c194",
   "metadata": {},
   "outputs": [],
   "source": [
    "# Camel Case\n",
    "holaMundo = \"Hola Mundo\"\n",
    "\n",
    "# Snake Case\n",
    "hola_mundo = \"Hola Mundo\"\n",
    "\n",
    "# Pascal case\n",
    "HolaMundo = \"Hola Mundo\""
   ]
  },
  {
   "cell_type": "markdown",
   "id": "5e013458",
   "metadata": {},
   "source": [
    "### Ayuda"
   ]
  },
  {
   "cell_type": "code",
   "execution_count": null,
   "id": "c5993d31",
   "metadata": {},
   "outputs": [],
   "source": [
    "help(print)"
   ]
  },
  {
   "cell_type": "code",
   "execution_count": null,
   "id": "23e155e8",
   "metadata": {},
   "outputs": [],
   "source": [
    "print?"
   ]
  },
  {
   "cell_type": "markdown",
   "id": "55bf1a4c",
   "metadata": {},
   "source": [
    "### Operadores"
   ]
  },
  {
   "cell_type": "markdown",
   "id": "21b957e7",
   "metadata": {},
   "source": [
    "Los operadores son símbolos especiales que representan cálculos: \n",
    "\n",
    "|Operador|Símbolo|\n",
    "|--------|-------|\n",
    "|Suma| +|\n",
    "|Resta| -|\n",
    "|Multiplicación| *|\n",
    "|División| /|\n",
    "|Potenciación| **|\n",
    "|División entera| //|\n",
    "|Módulo| %|"
   ]
  },
  {
   "cell_type": "code",
   "execution_count": null,
   "id": "65b6fb8c",
   "metadata": {},
   "outputs": [],
   "source": [
    "a = 5\n",
    "b = 3"
   ]
  },
  {
   "cell_type": "code",
   "execution_count": null,
   "id": "dab4e74c",
   "metadata": {},
   "outputs": [],
   "source": [
    "suma = a + b\n",
    "suma"
   ]
  },
  {
   "cell_type": "code",
   "execution_count": null,
   "id": "2e5bc40a",
   "metadata": {},
   "outputs": [],
   "source": [
    "resta = a - b\n",
    "resta"
   ]
  },
  {
   "cell_type": "code",
   "execution_count": null,
   "id": "659e09d1",
   "metadata": {},
   "outputs": [],
   "source": [
    "multip = a * b\n",
    "multip"
   ]
  },
  {
   "cell_type": "code",
   "execution_count": null,
   "id": "e4aec79d",
   "metadata": {},
   "outputs": [],
   "source": [
    "division = a / b\n",
    "division"
   ]
  },
  {
   "cell_type": "code",
   "execution_count": null,
   "id": "d61ab1f3",
   "metadata": {},
   "outputs": [],
   "source": [
    "potencia = a ** b\n",
    "potencia"
   ]
  },
  {
   "cell_type": "code",
   "execution_count": null,
   "id": "78c45ee1",
   "metadata": {},
   "outputs": [],
   "source": [
    "divInt = a // b\n",
    "divInt"
   ]
  },
  {
   "cell_type": "code",
   "execution_count": null,
   "id": "7a82058c",
   "metadata": {},
   "outputs": [],
   "source": [
    "modulo = a%b\n",
    "modulo"
   ]
  },
  {
   "cell_type": "markdown",
   "id": "db554dfc",
   "metadata": {},
   "source": [
    "### Comparación (booleanos)"
   ]
  },
  {
   "cell_type": "markdown",
   "id": "5d065269",
   "metadata": {},
   "source": [
    "Una variable de tipo booleano sólo puede tener uno dedos valores `True` (*verdadero*) o `False` (*falso*).\n",
    "\n",
    "| Operador    | Descripción                   | Ejemplo                   |\n",
    "| -----------:|:-----------------------------:|--------------------------:|\n",
    "| ==          | Son iguales $a$ y $b$?        | r = 5 == 3   # r es False |\n",
    "| !=          | Son distintos $a$ o $b$?      | r = 5 != 3   # r es True  |\n",
    "| <           | $a$ es menor que $b$?         | r = 5 < 3    # r es False |\n",
    "| >           | $a$ es mayor que $b$?         | r = 5 > 3    # r es True  |\n",
    "| <=          | $a$ es menor o igual que $b$? | r = 5 <= 3   # r es False |\n",
    "| >=          | $a$ es mayor o igual que $b$? | r = 5 >= 3   # r es True  |"
   ]
  },
  {
   "cell_type": "code",
   "execution_count": null,
   "id": "bb903a59",
   "metadata": {},
   "outputs": [],
   "source": [
    "a == b"
   ]
  },
  {
   "cell_type": "code",
   "execution_count": null,
   "id": "6685a903",
   "metadata": {},
   "outputs": [],
   "source": [
    "a != b"
   ]
  },
  {
   "cell_type": "code",
   "execution_count": null,
   "id": "67d31838",
   "metadata": {},
   "outputs": [],
   "source": [
    "a < b"
   ]
  },
  {
   "cell_type": "code",
   "execution_count": null,
   "id": "907d1cee",
   "metadata": {},
   "outputs": [],
   "source": [
    "a > b"
   ]
  },
  {
   "cell_type": "code",
   "execution_count": null,
   "id": "df128587",
   "metadata": {},
   "outputs": [],
   "source": [
    "a <= b"
   ]
  },
  {
   "cell_type": "code",
   "execution_count": null,
   "id": "38888a12",
   "metadata": {},
   "outputs": [],
   "source": [
    "a >= b"
   ]
  },
  {
   "cell_type": "markdown",
   "id": "8dd6c8fc",
   "metadata": {},
   "source": [
    "### Lógicos"
   ]
  },
  {
   "cell_type": "markdown",
   "id": "b8caccae",
   "metadata": {},
   "source": [
    "Los operadores lógicos se utilizan normalmente para evaluar si dos o más expresiones son verdaderas o no. Por ejemplo, se pueden usar para determinar si la calificación es aprobatoria y si el estudiante está registrado en el curso, y si ambos casos son verdaderos, se le asignará una calificación al estudiante en el sistema.\n",
    "\n",
    "| Operador    | Descripción           | Ejemplo                         |\n",
    "| -----------:|:---------------------:|--------------------------------:|\n",
    "| and         | Se cumple $a$ y $b$?  | r = True and False # r es False |\n",
    "| or          | Se cumple $a$ o $b$?  | r = True and False # r es true  |\n",
    "| not         | No $a$                | r = not True       # r es False |\n"
   ]
  },
  {
   "cell_type": "code",
   "execution_count": null,
   "id": "163a5374",
   "metadata": {},
   "outputs": [],
   "source": [
    "(a and b) > 4"
   ]
  },
  {
   "cell_type": "code",
   "execution_count": null,
   "id": "9cbdbcfc",
   "metadata": {},
   "outputs": [],
   "source": [
    "(a or b) > 4"
   ]
  },
  {
   "cell_type": "code",
   "execution_count": null,
   "id": "bac2cdb0",
   "metadata": {},
   "outputs": [],
   "source": [
    "valor = True\n",
    "resultado = not valor\n",
    "resultado"
   ]
  },
  {
   "cell_type": "markdown",
   "id": "ec83f9b3",
   "metadata": {},
   "source": [
    "### Orden de las operaciones"
   ]
  },
  {
   "cell_type": "markdown",
   "id": "8cc097d3",
   "metadata": {},
   "source": [
    "Al igual que en matemáticas, el orden de las operaciones es fundamental en programación. Debe respetarse:\n",
    "\n",
    "$$Paréntesis \\rightarrow Exponentes/Potencias/Radicales \\rightarrow Multiplicaciones/Divisiones \\rightarrow Sumas/Restas$$"
   ]
  },
  {
   "cell_type": "code",
   "execution_count": null,
   "id": "81ab93fa",
   "metadata": {},
   "outputs": [],
   "source": [
    "2 + 3 * 5 / 2"
   ]
  },
  {
   "cell_type": "code",
   "execution_count": null,
   "id": "68774465",
   "metadata": {},
   "outputs": [],
   "source": [
    "(2 + 3) * 5 / 2"
   ]
  },
  {
   "cell_type": "markdown",
   "id": "da2d8cd9",
   "metadata": {},
   "source": [
    "### Cadenas de caracteres (string)"
   ]
  },
  {
   "cell_type": "markdown",
   "id": "e54bdec8",
   "metadata": {},
   "source": [
    "#### Operaciones con cadenas de caracteres"
   ]
  },
  {
   "cell_type": "code",
   "execution_count": null,
   "id": "94e1666d",
   "metadata": {},
   "outputs": [],
   "source": [
    "cadena = 'hola'\n",
    "n = 5\n",
    "y = cadena * n\n",
    "\n",
    "print(y)\n",
    "type(y)"
   ]
  },
  {
   "cell_type": "markdown",
   "id": "239c59d2",
   "metadata": {},
   "source": [
    "#### Indexación"
   ]
  },
  {
   "cell_type": "markdown",
   "id": "157c109f",
   "metadata": {},
   "source": [
    "Una cadena de caracteres (string) en `Python` consiste de una serie, o secuencia, de caracteres (letras, números y caracteres especiales). Las cadenas de caracteres pueden indexarse, similar al `C`, en donde el primer caracter tiene índice `0`:\n",
    "\n",
    "<p float=\"center\">\n",
    "  <img src=\"https://github.com/carlosalvarezh/FundamentosProgramacion/blob/main/images/Sem03Img01.png?raw=true\" width=\"750\" />\n",
    "</p>\n"
   ]
  },
  {
   "cell_type": "code",
   "execution_count": null,
   "id": "08391e54",
   "metadata": {},
   "outputs": [],
   "source": [
    "a = \"Hello World\"\n",
    "print(a)"
   ]
  },
  {
   "cell_type": "code",
   "execution_count": null,
   "id": "85925510",
   "metadata": {},
   "outputs": [],
   "source": [
    "longa = len(a)\n",
    "longa"
   ]
  },
  {
   "cell_type": "code",
   "execution_count": null,
   "id": "b1c108f0",
   "metadata": {},
   "outputs": [],
   "source": [
    "a[7]"
   ]
  },
  {
   "cell_type": "code",
   "execution_count": null,
   "id": "055e5d0e",
   "metadata": {},
   "outputs": [],
   "source": [
    "a[-4]"
   ]
  },
  {
   "cell_type": "markdown",
   "id": "da839796",
   "metadata": {},
   "source": [
    "#### Particionado (slicing)"
   ]
  },
  {
   "cell_type": "markdown",
   "id": "43de21a1",
   "metadata": {},
   "source": [
    "$$a[start:stop:step]$$"
   ]
  },
  {
   "cell_type": "code",
   "execution_count": null,
   "id": "8c85c017",
   "metadata": {},
   "outputs": [],
   "source": [
    "a[0:5:1]"
   ]
  },
  {
   "cell_type": "code",
   "execution_count": null,
   "id": "5dfb8892",
   "metadata": {},
   "outputs": [],
   "source": [
    "a[6:11:1]"
   ]
  },
  {
   "cell_type": "markdown",
   "id": "93441f6a",
   "metadata": {},
   "source": [
    "### Entrada/Salida"
   ]
  },
  {
   "cell_type": "code",
   "execution_count": null,
   "id": "3325d9af",
   "metadata": {},
   "outputs": [],
   "source": [
    "a = float(input(\"Ingrese un valor: \"))\n",
    "b = int(input(\"ingrese otro valor: \"))\n",
    "c = a / b\n",
    "print(\"El resultado de dividir a entre b es {0:4.4f}\".format(c))"
   ]
  },
  {
   "cell_type": "markdown",
   "id": "b83f0918",
   "metadata": {},
   "source": [
    "### Listas"
   ]
  },
  {
   "cell_type": "markdown",
   "id": "d5279fe3",
   "metadata": {},
   "source": [
    "Una lista es una colección de objetos a los que se les puede adicionar o quitar elementos. Para definir una lista con elemento simplemente ponemos los elementos dentro de los corchetes separados con comas.\n",
    "\n",
    "\n",
    "```python\n",
    "lista = [1, “dos”, False, [45, “cien”]]\n",
    "```\n",
    "\n",
    "Como podemos ver, una lista puede contener varios elementos de diferente tipo (int, str, bool, list, ...)"
   ]
  },
  {
   "cell_type": "code",
   "execution_count": null,
   "id": "146f3fb0",
   "metadata": {},
   "outputs": [],
   "source": [
    "lista = [\"Carlos\", \"Alvarez\", 52, 1.75, True]"
   ]
  },
  {
   "cell_type": "markdown",
   "id": "300c07dc",
   "metadata": {},
   "source": [
    "Para acceder a las listas, se debe indicar el nombre de la lista y entre corchetes la posición del elemento a consultar. Al igual que las cadenas de caracteres, el índice (posición) empieza en cero (0):"
   ]
  },
  {
   "cell_type": "code",
   "execution_count": null,
   "id": "bd26d8f1",
   "metadata": {},
   "outputs": [],
   "source": [
    "elemento = lista[0]\n",
    "elemento"
   ]
  },
  {
   "cell_type": "markdown",
   "id": "853ee01d",
   "metadata": {},
   "source": [
    "Para determinar la cantidade de elementos de la lista "
   ]
  },
  {
   "cell_type": "code",
   "execution_count": null,
   "id": "87b67f29",
   "metadata": {},
   "outputs": [],
   "source": [
    "n = len(lista)\n",
    "n"
   ]
  },
  {
   "cell_type": "markdown",
   "id": "36b2b44a",
   "metadata": {},
   "source": [
    "Para modificar una lista podemos hacer uso de los siguientes métodos:"
   ]
  },
  {
   "cell_type": "code",
   "execution_count": null,
   "id": "87ffb87e",
   "metadata": {},
   "outputs": [],
   "source": [
    "# Cambiar el valor de un elemento de la lista\n",
    "lista[2] = 53\n",
    "lista"
   ]
  },
  {
   "cell_type": "markdown",
   "id": "fd8ad0fa",
   "metadata": {},
   "source": [
    "Adicionando un elemento (se posicionará después del último elemento de la lista actual)"
   ]
  },
  {
   "cell_type": "code",
   "execution_count": null,
   "id": "551cbdf0",
   "metadata": {},
   "outputs": [],
   "source": [
    "lista.append(\"adicionado\")\n",
    "lista"
   ]
  },
  {
   "cell_type": "markdown",
   "id": "86d3b758",
   "metadata": {},
   "source": [
    "Insertar un elemento en una posición específica"
   ]
  },
  {
   "cell_type": "code",
   "execution_count": null,
   "id": "0bbf5f76",
   "metadata": {},
   "outputs": [],
   "source": [
    "lista.insert(2,\"O-\")\n",
    "lista"
   ]
  },
  {
   "cell_type": "markdown",
   "id": "892e173a",
   "metadata": {},
   "source": [
    "Ahora vamos a eliminar un elemento de la lista dado el índice (posición) del elemento a eliminar"
   ]
  },
  {
   "cell_type": "code",
   "execution_count": null,
   "id": "7189811f",
   "metadata": {},
   "outputs": [],
   "source": [
    "del(lista[-1])\n",
    "lista"
   ]
  },
  {
   "cell_type": "markdown",
   "id": "e5a3ee7f",
   "metadata": {},
   "source": [
    "Ahora eliminaremos un elemento dado su valor"
   ]
  },
  {
   "cell_type": "code",
   "execution_count": null,
   "id": "f94cfe12",
   "metadata": {},
   "outputs": [],
   "source": [
    "lista.remove(53)\n",
    "lista"
   ]
  },
  {
   "cell_type": "markdown",
   "id": "1a92174e",
   "metadata": {},
   "source": [
    "### Diccionarios"
   ]
  },
  {
   "cell_type": "markdown",
   "id": "a4a0d184",
   "metadata": {},
   "source": [
    "Un Diccionario es una estructura de datos y un tipo de dato en `Python`, con características especiales que nos permite almacenar cualquier tipo de valor como: enteros, cadenas, listas e incluso otras funciones. Estos diccionarios nos permiten además identificar cada elemento por una *clave* (`Key`), a diferencia de las tuplas y listas que se hace por un índice.\n",
    "\n",
    "\n",
    "Para definir un diccionario, se encierra el listado de valores entre llaves, `{clave0:valor0, clave1:valor1, clave2:valor1, ...}`. Las parejas de *clave* y *valor* se separan con comas, y la *clave* y el *valor* se separan con dos puntos, (`:`).\n",
    "\n",
    "\n",
    "Los diccionarios (llamados *arrays asociativos* o *tablas de hash* en otros lenguajes), son una estructura de datos muy poderosa, que permite asociar un valor a una clave.\n",
    "\n",
    "\n",
    "- Las claves deben ser de tipo inmutable, los valores pueden ser de cualquier tipo.\n",
    "\n",
    "\n",
    "- Los diccionarios no están ordenados. Si bien se los puede recorrer, el orden en el que se tomarán los elementos no está determinado.\n",
    "\n",
    "Veamos este ejemplo:"
   ]
  },
  {
   "cell_type": "code",
   "execution_count": null,
   "id": "b2a78709",
   "metadata": {},
   "outputs": [],
   "source": [
    "city_populationL = [8550405, 3971883, 2731571, 2720546, 2296224, 1704694, 1239220, 631486, 667137]\n",
    "city_namesL = [\"New York City\", \"Los Angeles\", \"Toronto\", \"Chicago\", \"Houston\", \"Montreal\", \"Calgary\", \"Vancouver\", \"Boston\"]\n",
    "\n",
    "#city_population = [(\"New York City\",8550405), (\"Los Angeles\",3971883), \n",
    "#                   (\"Toronto\",2731571), (\"Chicago\",2720546), (\"Houston\",2296224),\n",
    "#                   (\"Montreal\",1704694), (\"Calgary\",1239220), (\"Vancouver\",631486),\n",
    "#                   (\"Boston\",667137)]\n",
    "\n",
    "value = input(\"Ingrese el nombre de la ciudad: \")\n",
    "\n",
    "p = len(city_namesL)\n",
    "\n",
    "for i in range(p):\n",
    "    if value == city_namesL[i]:\n",
    "        n = i\n",
    "        break\n",
    "\n",
    "print(\"El número de habitantes de la ciudad de {0} es de {1}\".format(value,city_populationL[n]))"
   ]
  },
  {
   "cell_type": "markdown",
   "id": "881d5f82",
   "metadata": {},
   "source": [
    "una mejor opción sería la de crear un diccionario:"
   ]
  },
  {
   "cell_type": "code",
   "execution_count": null,
   "id": "0cd61cd2",
   "metadata": {},
   "outputs": [],
   "source": [
    "city_population = {\"New York City\":8550405, \"Los Angeles\":3971883, \"Toronto\":2731571,\n",
    "                   \"Chicago\":2720546, \"Houston\":2296224, \"Montreal\":1704694, \n",
    "                   \"Calgary\":1239220, \"Vancouver\":631486, \"Boston\":667137}"
   ]
  },
  {
   "cell_type": "code",
   "execution_count": null,
   "id": "4466bfec",
   "metadata": {},
   "outputs": [],
   "source": [
    "value = input(\"Ingrese el nombre de la ciudad: \")\n",
    "print(\"El número de habitantes de la ciudad de {0} es de {1}\".format(value,city_population[value]))"
   ]
  },
  {
   "cell_type": "markdown",
   "id": "b52a99eb",
   "metadata": {},
   "source": [
    "### Estructuras de control de flujo"
   ]
  },
  {
   "cell_type": "markdown",
   "id": "c574f5fc",
   "metadata": {},
   "source": [
    "#### Condicional (if - elif- else)"
   ]
  },
  {
   "cell_type": "markdown",
   "id": "212f8ef3",
   "metadata": {},
   "source": [
    "en `python` la estructura general es, por ejemplo:\n",
    "\n",
    "```python\n",
    "if <condicion 1>:\n",
    "    acción cuando condición 1 es True\n",
    "elif <condición 2>: \n",
    "    acción cuando condición 2 es True\n",
    "else:\n",
    "    acción cuando condición 1  y condición 2 son False\n",
    "```"
   ]
  },
  {
   "cell_type": "code",
   "execution_count": null,
   "id": "251a6636",
   "metadata": {},
   "outputs": [],
   "source": [
    "a = 3\n",
    "b = 5\n",
    "\n",
    "if a > b:\n",
    "    print (\"a es mayor que b\")\n",
    "elif a < b:\n",
    "    print (\"b es mayor que a\") \n",
    "else:\n",
    "    print(\"a y b son iguales\")"
   ]
  },
  {
   "cell_type": "markdown",
   "id": "2c51cf3c",
   "metadata": {},
   "source": [
    "#### Ciclo while"
   ]
  },
  {
   "cell_type": "markdown",
   "id": "1ebe807f",
   "metadata": {},
   "source": [
    "es un condicional que se repite mientras que una condición sea dada"
   ]
  },
  {
   "cell_type": "code",
   "execution_count": null,
   "id": "5c10550a",
   "metadata": {},
   "outputs": [],
   "source": [
    "a = 0\n",
    "\n",
    "while a < 10:\n",
    "    a += 1\n",
    "    print(a)"
   ]
  },
  {
   "cell_type": "markdown",
   "id": "9f6fb6a8",
   "metadata": {},
   "source": [
    "#### Ciclo for"
   ]
  },
  {
   "cell_type": "markdown",
   "id": "69fc8d95",
   "metadata": {},
   "source": [
    "Ejecuta un bloque de instrucciones hasta que se cumpla una condición dada"
   ]
  },
  {
   "cell_type": "code",
   "execution_count": null,
   "id": "55cf90a9",
   "metadata": {},
   "outputs": [],
   "source": [
    "for a in range(10):\n",
    "    a += 1\n",
    "    print(a)"
   ]
  },
  {
   "cell_type": "markdown",
   "id": "9ff1d08b",
   "metadata": {},
   "source": [
    "### Funciones"
   ]
  },
  {
   "cell_type": "markdown",
   "id": "901b7b62",
   "metadata": {},
   "source": [
    "***Función:*** Fragmento de código con un nombre asociado que realiza una serie de tareas y devuelve un valor. \n",
    "\n",
    "- En `Python` las funciones se declaran de la siguiente forma:\n",
    "\n",
    "```python\n",
    "def mi_funcion(lista de parámetros):\n",
    "    sentencias o cuerpo de la función\n",
    "```"
   ]
  },
  {
   "cell_type": "markdown",
   "id": "c6bccf6d",
   "metadata": {},
   "source": [
    "#### Función sin parámetro y sin retorno"
   ]
  },
  {
   "cell_type": "code",
   "execution_count": null,
   "id": "bd1252eb",
   "metadata": {},
   "outputs": [],
   "source": [
    "# defino o creo la función\n",
    "def fbienvenida():\n",
    "    print(\"Hola Mundo!!!\")"
   ]
  },
  {
   "cell_type": "markdown",
   "id": "01bc3cae",
   "metadata": {},
   "source": [
    "#### Función con uno o más parámetros y sin retorno"
   ]
  },
  {
   "cell_type": "code",
   "execution_count": null,
   "id": "05e95a96",
   "metadata": {},
   "outputs": [],
   "source": [
    "def mi_funcion1(param1, param2):\n",
    "    \"\"\"\n",
    "    Esta función también imprime únicamente los valores de los parámetros\n",
    "    requiere de dos parámetros\n",
    "    \n",
    "    Inputs:\n",
    "        param1: ...\n",
    "        param2: ...\n",
    "    \n",
    "    Outputs:\n",
    "        imprime resultado por pantalla\n",
    "    \n",
    "    \"\"\"\n",
    "    print('{0} {1}'.format(param1,param2))"
   ]
  },
  {
   "cell_type": "code",
   "execution_count": null,
   "id": "813466a1",
   "metadata": {},
   "outputs": [],
   "source": [
    "mi_funcion1?"
   ]
  },
  {
   "cell_type": "code",
   "execution_count": null,
   "id": "3d175da2",
   "metadata": {},
   "outputs": [],
   "source": [
    "help(mi_funcion1)"
   ]
  },
  {
   "cell_type": "markdown",
   "id": "7a2150a5",
   "metadata": {},
   "source": [
    "Para llamar a la función (ejecutar su código) se escribiría:"
   ]
  },
  {
   "cell_type": "code",
   "execution_count": null,
   "id": "9ff7c55a",
   "metadata": {},
   "outputs": [],
   "source": [
    "nombre = input(\"Ingrese su nombre: \")\n",
    "edad = int(input(\"Ingrese su edad: \"))\n",
    "\n",
    "mi_funcion1(edad, nombre)"
   ]
  },
  {
   "cell_type": "markdown",
   "id": "7de46996",
   "metadata": {},
   "source": [
    "#### Retorno de valores"
   ]
  },
  {
   "cell_type": "markdown",
   "id": "6e88ec64",
   "metadata": {},
   "source": [
    "Una sentencia de retorno finaliza la ejecución de la función. Si la sentencia de retorno no es una expresión, o no se usa, se retornará el valor especial `None`."
   ]
  },
  {
   "cell_type": "code",
   "execution_count": null,
   "id": "4bd49152",
   "metadata": {},
   "outputs": [],
   "source": [
    "def devolver(x,y):\n",
    "    c = x + y\n",
    "    return c"
   ]
  },
  {
   "cell_type": "code",
   "execution_count": null,
   "id": "58c2fdec",
   "metadata": {},
   "outputs": [],
   "source": [
    "a = 3\n",
    "b = 4\n",
    "\n",
    "q = devolver(a,b)\n",
    "\n",
    "p = 2.5 + q\n",
    "print(p)"
   ]
  },
  {
   "cell_type": "markdown",
   "id": "2c3f0d45",
   "metadata": {},
   "source": [
    "otro ejemplo"
   ]
  },
  {
   "cell_type": "code",
   "execution_count": null,
   "id": "9acb5c59",
   "metadata": {},
   "outputs": [],
   "source": [
    "def tasaCambio():\n",
    "    p = float(input(\"ingrese el valor de la tasa de cambio al día de hoy: \"))\n",
    "    return p\n",
    "\n",
    "def dolorosos(t,q):\n",
    "    \"\"\" Devuelve un valor dado en pesos a dólares\"\"\"\n",
    "    return t / q\n",
    "\n",
    "divisa = tasaCambio()\n",
    "\n",
    "for valorpesos in [2260, 2580, 27300, 29869]:\n",
    "    print('{0} pesos son {1:.2f} dólares'.format(valorpesos,dolorosos(valorpesos, divisa)))"
   ]
  },
  {
   "cell_type": "markdown",
   "id": "31ba266e",
   "metadata": {},
   "source": [
    "#### Retorno de valores múltiples"
   ]
  },
  {
   "cell_type": "code",
   "execution_count": null,
   "id": "69f78394",
   "metadata": {},
   "outputs": [],
   "source": [
    "def fib_intervalo(x):\n",
    "    \"\"\" \n",
    "    Retorna los números de Fibonacci \n",
    "    mayor que x y menor que x\n",
    "    \n",
    "    Input:\n",
    "    \n",
    "    Output:\n",
    "        \n",
    "    \"\"\"\n",
    "    if x < 0:\n",
    "        return -1\n",
    "    (ant,post, lub) = (0,1,0)\n",
    "    while True:\n",
    "        if post < x:\n",
    "            lub = post \n",
    "            (ant,post) = (post,ant+post)\n",
    "        else:\n",
    "            return (ant, post)\n",
    "            \n",
    "while True:\n",
    "    x = int(input(\"Ingrese un número entero >0 (<0 para interrumpir): \"))\n",
    "\n",
    "    if x <= 0:\n",
    "        break #interrumpe el programa si x<0\n",
    "\n",
    "    lub, sup = fib_intervalo(x)\n",
    "    print(\"Mayor número de Fibonacci menor que x: \" + str(lub))\n",
    "    print(\"Menor número de Fibonacci mayor que x: \" + str(sup))"
   ]
  },
  {
   "cell_type": "markdown",
   "id": "84b2b756",
   "metadata": {},
   "source": [
    "### Módulos"
   ]
  },
  {
   "cell_type": "markdown",
   "id": "efe4b1ed",
   "metadata": {},
   "source": [
    "#### Personalizados"
   ]
  },
  {
   "cell_type": "markdown",
   "id": "4c61890e",
   "metadata": {},
   "source": [
    "La programación modular es una técnica de diseño de software para dividir su código en partes separadas. Estas piezas se denominan módulos.\n",
    "\n",
    "Si deseamos realizar operaciones más complejas en python, es necesario llamar al módulo correspondiente que ya contenga dicha funcionalidad. Por ejemplo, si deseamos extraer la raiz cuadrada de un número podemos hacer lo siguiente:"
   ]
  },
  {
   "cell_type": "code",
   "execution_count": null,
   "id": "628b8fc4",
   "metadata": {},
   "outputs": [],
   "source": [
    "raiz = (4)**(1/2)\n",
    "raiz"
   ]
  },
  {
   "cell_type": "markdown",
   "id": "afe13676",
   "metadata": {},
   "source": [
    "pero si ahora quisiéramos trabajar con funciones trigonométricas o estadísticas, más complejas, tendríamos qué programar cada una de ellas y guardarlas en algún lugar para despues ser llamadas a nuestro código. Esto se puede hacer de la siguiente manera:\n",
    "\n",
    "- creamos un archivo plano con extensión `.py` que contenga la o las funciones a ser incorporadas en nuestro código.\n",
    "- importar el módulo y/o las funciones a emplear en el código\n",
    "\n",
    "***obs:*** se debe indicar la ruta en donde se encuentra el módulo guardado. Es aconsejable que el archivo `.py` esté en la misma carpeta donde tenga el código fuente (esto para no complicarse mucho la existencia, por ahora.)"
   ]
  },
  {
   "cell_type": "code",
   "execution_count": null,
   "id": "fc062284",
   "metadata": {},
   "outputs": [],
   "source": [
    "#from modulos import raiz\n",
    "import modulos as mod"
   ]
  },
  {
   "cell_type": "code",
   "execution_count": null,
   "id": "d79b6290",
   "metadata": {},
   "outputs": [],
   "source": [
    "#p = raiz(4)\n",
    "p = mod.raiz(4)\n",
    "p"
   ]
  },
  {
   "cell_type": "markdown",
   "id": "6f997e78",
   "metadata": {},
   "source": [
    "#### Built - in"
   ]
  },
  {
   "cell_type": "markdown",
   "id": "e350f27a",
   "metadata": {},
   "source": [
    "Python dispone de una ámplia biblioteca (libraries) de módulos para una gran variedad de aplicaciones. Para el cálculo de funciones matemáticas sencillas, python dispone del módulo `math`. "
   ]
  },
  {
   "cell_type": "code",
   "execution_count": null,
   "id": "f177657b",
   "metadata": {},
   "outputs": [],
   "source": [
    "import math"
   ]
  },
  {
   "cell_type": "code",
   "execution_count": null,
   "id": "5871aad0",
   "metadata": {},
   "outputs": [],
   "source": [
    "p = math.sqrt(4)\n",
    "p"
   ]
  },
  {
   "cell_type": "markdown",
   "id": "8de6d412",
   "metadata": {},
   "source": [
    "Podemos ver las funciones disponibles en los módulos escribiendo el nombre del módulo (o su alias) seguido del símbolo `.` (punto) y con la tecla tabulador se desplegará un menún contextual con todas las funciones:\n",
    "\n",
    "```python\n",
    "    modulo.\n",
    "```"
   ]
  },
  {
   "cell_type": "code",
   "execution_count": null,
   "id": "cc93e51f",
   "metadata": {},
   "outputs": [],
   "source": [
    "math."
   ]
  },
  {
   "cell_type": "markdown",
   "id": "600112ac",
   "metadata": {},
   "source": [
    "## Ecosistema Python"
   ]
  },
  {
   "cell_type": "markdown",
   "id": "f8988740",
   "metadata": {},
   "source": [
    "### Numpy"
   ]
  },
  {
   "cell_type": "markdown",
   "id": "e50c0e84",
   "metadata": {},
   "source": [
    "#### Qué es [Numpy](https://numpy.org/)?"
   ]
  },
  {
   "cell_type": "markdown",
   "id": "7d6833df",
   "metadata": {},
   "source": [
    "- Una biblioteca para `Python`: `ndarray` + `ufunc`\n",
    "\n",
    "- Los arrays multidimensionales (`ndarray`) nos permiten almacenar datos de manera estructurada\n",
    "\n",
    "- Las funciones universales (`ufunc`) nos permiten operar con esos datos de manera eficiente\n",
    "\n",
    "`Python` está organizado en módulos, que son archivos con extensión `*.py` que contienen funciones, variables y otros objetos, y paquetes, que son conjuntos de módulos. "
   ]
  },
  {
   "cell_type": "code",
   "execution_count": null,
   "id": "ec7da32f",
   "metadata": {},
   "outputs": [],
   "source": [
    "import numpy as np"
   ]
  },
  {
   "cell_type": "code",
   "execution_count": null,
   "id": "72d415c9",
   "metadata": {},
   "outputs": [],
   "source": [
    "np.random.rand()"
   ]
  },
  {
   "cell_type": "markdown",
   "id": "35f13902",
   "metadata": {},
   "source": [
    "#### Constantes y funciones matemáticas"
   ]
  },
  {
   "cell_type": "code",
   "execution_count": null,
   "id": "2c26f14b",
   "metadata": {},
   "outputs": [],
   "source": [
    "np.pi"
   ]
  },
  {
   "cell_type": "code",
   "execution_count": null,
   "id": "414abee1",
   "metadata": {},
   "outputs": [],
   "source": [
    "np.e"
   ]
  },
  {
   "cell_type": "code",
   "execution_count": null,
   "id": "82cbbceb",
   "metadata": {},
   "outputs": [],
   "source": [
    "np.log(2)"
   ]
  },
  {
   "cell_type": "code",
   "execution_count": null,
   "id": "ca9db093",
   "metadata": {},
   "outputs": [],
   "source": [
    "np.log(np.e)"
   ]
  },
  {
   "cell_type": "code",
   "execution_count": null,
   "id": "92cef18a",
   "metadata": {},
   "outputs": [],
   "source": [
    "lista = np.log([-10., np.e, np.e**135, 0])\n",
    "print(lista)"
   ]
  },
  {
   "cell_type": "markdown",
   "id": "e4545eb2",
   "metadata": {},
   "source": [
    "Numpy trabaja con arreglos, que son entidades diferentes a las listas. Veamos el siguiente ejemplo en donde queremos sumar dos arreglos"
   ]
  },
  {
   "cell_type": "code",
   "execution_count": null,
   "id": "ad51213a",
   "metadata": {},
   "outputs": [],
   "source": [
    "lista1 = [1,2,3,4,5]\n",
    "lista2 = [6,7,8,9,10]\n",
    "lista3 = lista1 + lista2\n",
    "print(lista3)\n",
    "print(type(lista3))"
   ]
  },
  {
   "cell_type": "markdown",
   "id": "15dc1544",
   "metadata": {},
   "source": [
    "como se observa, la operación `+` entre dos listas ejecuta la concatenación entre ellos y no su suma. Esto sucede, porque las listas no son entidades matemáticas. Si quisiéramos ejecutar la suma de los elementos de dos listas, tendremos qué hacer ciclos y sumar componente a componente."
   ]
  },
  {
   "cell_type": "code",
   "execution_count": null,
   "id": "990f6ccf",
   "metadata": {},
   "outputs": [],
   "source": [
    "lista3 = []\n",
    "for i in range(len(lista2)):\n",
    "    lista3.append(lista1[i]+lista2[i])\n",
    "print(lista3)"
   ]
  },
  {
   "cell_type": "markdown",
   "id": "d12ede54",
   "metadata": {},
   "source": [
    "Ahora veamos cómo sería empleando arreglos de `numpy`:"
   ]
  },
  {
   "cell_type": "code",
   "execution_count": null,
   "id": "de6f6a41",
   "metadata": {},
   "outputs": [],
   "source": [
    "arreglo1 = np.array(lista1)\n",
    "arreglo2 = np.array(lista2)\n",
    "arreglo3 = arreglo1 + arreglo2\n",
    "print(arreglo3)\n",
    "arreglo3.dtype"
   ]
  },
  {
   "cell_type": "markdown",
   "id": "2aa9db05",
   "metadata": {},
   "source": [
    "#### Indexación"
   ]
  },
  {
   "cell_type": "code",
   "execution_count": null,
   "id": "920bcaae",
   "metadata": {},
   "outputs": [],
   "source": [
    "import numpy as np\n",
    "a = np.array([[1,2,3],[4,5,6],[7,8,9],[10,11,12]])\n",
    "a"
   ]
  },
  {
   "cell_type": "code",
   "execution_count": null,
   "id": "c2684a11",
   "metadata": {},
   "outputs": [],
   "source": [
    "col = np.array([[1],[2],[3]])\n",
    "col"
   ]
  },
  {
   "cell_type": "code",
   "execution_count": null,
   "id": "0fd3c9d8",
   "metadata": {},
   "outputs": [],
   "source": [
    "s = a.shape[:]\n",
    "s"
   ]
  },
  {
   "cell_type": "code",
   "execution_count": null,
   "id": "269b3427",
   "metadata": {},
   "outputs": [],
   "source": [
    "s = a.shape[0]\n",
    "s"
   ]
  },
  {
   "cell_type": "markdown",
   "id": "b5f825c8",
   "metadata": {},
   "source": [
    "#### generación automática de listas y arreglos"
   ]
  },
  {
   "cell_type": "code",
   "execution_count": null,
   "id": "d4e5be3c",
   "metadata": {},
   "outputs": [],
   "source": [
    "p = list(range(0,5,1))\n",
    "p"
   ]
  },
  {
   "cell_type": "code",
   "execution_count": null,
   "id": "d80ad637",
   "metadata": {},
   "outputs": [],
   "source": [
    "print(type(p))"
   ]
  },
  {
   "cell_type": "code",
   "execution_count": null,
   "id": "1e8bddd5",
   "metadata": {},
   "outputs": [],
   "source": [
    "arr = np.array(p)\n",
    "arr"
   ]
  },
  {
   "cell_type": "code",
   "execution_count": null,
   "id": "a24626ca",
   "metadata": {},
   "outputs": [],
   "source": [
    "print(type(arr))"
   ]
  },
  {
   "cell_type": "markdown",
   "id": "fcf987f6",
   "metadata": {},
   "source": [
    "numpy disponde de funciones que se usan para generar secuencias numéricas, veamos algunas: \n",
    "\n",
    "- `arange(start, stop, step)`: Genera una secuencia de valores.\n",
    "\n",
    "- `linspace(start, stop, num=xxx)` devuelve una cierta cantidad de números equiespaciados dentro de un intervalo dado.\n",
    "\n",
    "\n",
    "- `logspace(start, stop, num=xxx, base=10.0)` devuelve números equiespaciados según una escala logarítmica\n",
    "\n",
    "\n",
    "- `meshgrid(x1, x2, ...)` devuelve matrices de n-coordenadas"
   ]
  },
  {
   "cell_type": "code",
   "execution_count": null,
   "id": "dc57fe58",
   "metadata": {},
   "outputs": [],
   "source": [
    "array1 = np.arange(5,10,1)\n",
    "print(array1)"
   ]
  },
  {
   "cell_type": "markdown",
   "id": "75e8da92",
   "metadata": {},
   "source": [
    "los valores por defecto son `START=0` y `STEP=1`. El único argumento obligatorio es STOP."
   ]
  },
  {
   "cell_type": "code",
   "execution_count": null,
   "id": "fcf539b3",
   "metadata": {},
   "outputs": [],
   "source": [
    "array1 = np.arange(10)\n",
    "print(array1)"
   ]
  },
  {
   "cell_type": "code",
   "execution_count": null,
   "id": "07e0400e",
   "metadata": {},
   "outputs": [],
   "source": [
    "array1 = np.arange(0,10,2)\n",
    "print(array1)"
   ]
  },
  {
   "cell_type": "markdown",
   "id": "b9c0ae1b",
   "metadata": {},
   "source": [
    "Ahora veamos como funciona `linspace`"
   ]
  },
  {
   "cell_type": "code",
   "execution_count": null,
   "id": "bad6bef6",
   "metadata": {},
   "outputs": [],
   "source": [
    "array2 = np.linspace(0,100,11)\n",
    "print(array2)"
   ]
  },
  {
   "cell_type": "code",
   "execution_count": null,
   "id": "3876c631",
   "metadata": {},
   "outputs": [],
   "source": [
    "print(type(array2))"
   ]
  },
  {
   "cell_type": "code",
   "execution_count": null,
   "id": "5039fbdf",
   "metadata": {},
   "outputs": [],
   "source": [
    "array2 = np.linspace(-100,100,21)\n",
    "print(array2)"
   ]
  },
  {
   "cell_type": "code",
   "execution_count": null,
   "id": "06bd12bb",
   "metadata": {},
   "outputs": [],
   "source": [
    "array3 = np.logspace(0, 3)\n",
    "print(array3)"
   ]
  },
  {
   "cell_type": "markdown",
   "id": "631fffc4",
   "metadata": {},
   "source": [
    "#### arreglos especiales"
   ]
  },
  {
   "cell_type": "markdown",
   "id": "f92d7f7b",
   "metadata": {},
   "source": [
    "- `empty(shape)` crea un array con «basura», equivalente a no inicializarlo, ligeramente más rápido que `zeros` o `ones`\n",
    "\n",
    "\n",
    "- `eye(N, M=None, k=0)` crea un array con unos en una diagonal y ceros en el resto\n",
    "\n",
    "\n",
    "- `identity(n)` devuelve la matriz identidad\n",
    "\n",
    "\n",
    "- Las funciones `*_like(a)` construyen arrays con el mismo tamaño que uno dado"
   ]
  },
  {
   "cell_type": "code",
   "execution_count": null,
   "id": "2f4c1249",
   "metadata": {},
   "outputs": [],
   "source": [
    "np.identity(5).astype(int)"
   ]
  },
  {
   "cell_type": "code",
   "execution_count": null,
   "id": "acc10dda",
   "metadata": {},
   "outputs": [],
   "source": [
    "np.identity(5).astype(float)"
   ]
  },
  {
   "cell_type": "code",
   "execution_count": null,
   "id": "6cd50261",
   "metadata": {},
   "outputs": [],
   "source": [
    "np.zeros((4, 3))"
   ]
  },
  {
   "cell_type": "code",
   "execution_count": null,
   "id": "5b182622",
   "metadata": {},
   "outputs": [],
   "source": [
    "np.ones((3, 4))"
   ]
  },
  {
   "cell_type": "markdown",
   "id": "b1db57a6",
   "metadata": {},
   "source": [
    "#### Operaciones con arreglos"
   ]
  },
  {
   "cell_type": "markdown",
   "id": "70c27b65",
   "metadata": {},
   "source": [
    "Las **funciones universales** (`ufunc`) operan sobre arrays de NumPy elemento a elemento y siguiendo las reglas de _broadcasting_.\n",
    "\n",
    "- Funciones matemáticas: `sin`, `cos`, `sqrt`, `exp`, ...\n",
    "\n",
    "\n",
    "- Operaciones lógicas: `<`, `~`, ...\n",
    "\n",
    "\n",
    "- Funciones lógicas: `all`, `any`, `isnan`, `allclose`, ..."
   ]
  },
  {
   "cell_type": "code",
   "execution_count": null,
   "id": "df94d2df",
   "metadata": {},
   "outputs": [],
   "source": [
    "a = np.arange(2 * 3).reshape(2, 3)\n",
    "a"
   ]
  },
  {
   "cell_type": "code",
   "execution_count": null,
   "id": "b5f861c3",
   "metadata": {},
   "outputs": [],
   "source": [
    "np.sqrt(a)"
   ]
  },
  {
   "cell_type": "code",
   "execution_count": null,
   "id": "556823ca",
   "metadata": {
    "scrolled": true
   },
   "outputs": [],
   "source": [
    "np.sqrt(np.arange(-3, 3))"
   ]
  },
  {
   "cell_type": "markdown",
   "id": "9cf602d3",
   "metadata": {},
   "source": [
    "#### Funciones de comparación"
   ]
  },
  {
   "cell_type": "markdown",
   "id": "3a9fb867",
   "metadata": {},
   "source": [
    "Las comparaciones devuelven un array de booleanos:"
   ]
  },
  {
   "cell_type": "code",
   "execution_count": null,
   "id": "7ca6e8e4",
   "metadata": {},
   "outputs": [],
   "source": [
    "1 == 1"
   ]
  },
  {
   "cell_type": "code",
   "execution_count": null,
   "id": "13debb81",
   "metadata": {},
   "outputs": [],
   "source": [
    "a = np.arange(6)\n",
    "b = np.ones(6).astype(int)\n",
    "a, b"
   ]
  },
  {
   "cell_type": "code",
   "execution_count": null,
   "id": "6e0bbb14",
   "metadata": {},
   "outputs": [],
   "source": [
    "a < b"
   ]
  },
  {
   "cell_type": "code",
   "execution_count": null,
   "id": "28ee92bf",
   "metadata": {},
   "outputs": [],
   "source": [
    "np.any(a < b)"
   ]
  },
  {
   "cell_type": "code",
   "execution_count": null,
   "id": "6ee94048",
   "metadata": {},
   "outputs": [],
   "source": [
    "np.all(a < b)"
   ]
  },
  {
   "cell_type": "code",
   "execution_count": null,
   "id": "3c38d0ed",
   "metadata": {},
   "outputs": [],
   "source": [
    "6 in a"
   ]
  },
  {
   "cell_type": "code",
   "execution_count": null,
   "id": "9b94c1c9",
   "metadata": {},
   "outputs": [],
   "source": [
    "6 not in a"
   ]
  },
  {
   "cell_type": "markdown",
   "id": "41360d6d",
   "metadata": {},
   "source": [
    "#### Referencias para estudio"
   ]
  },
  {
   "cell_type": "markdown",
   "id": "97d33fc4",
   "metadata": {},
   "source": [
    "* Documentación de NumPy http://docs.scipy.org/doc/numpy\n",
    "* Travis Oliphant, \"Guide to NumPy\" http://csc.ucdavis.edu/~chaos/courses/nlp/Software/NumPyBook.pdf\n",
    "* SciPy Lecture Notes http://scipy-lectures.github.io\n",
    "* Nicolas Rougier, \"100 NumPy exercises\" http://www.loria.fr/~rougier/teaching/numpy.100/index.html\n",
    "* Datacamp, \"Python Numpy Array Tutorial\" https://www.datacamp.com/community/tutorials/python-numpy-tutorial"
   ]
  },
  {
   "cell_type": "markdown",
   "id": "266fe115",
   "metadata": {},
   "source": [
    "### Matplotlib"
   ]
  },
  {
   "cell_type": "markdown",
   "id": "5f274478",
   "metadata": {},
   "source": [
    "#### Qué es matplotlib?"
   ]
  },
  {
   "cell_type": "markdown",
   "id": "d318ede2",
   "metadata": {},
   "source": [
    "[Matplotlib](https://matplotlib.org/) es una biblioteca completa para crear visualizaciones estáticas, animadas e interactivas en Python."
   ]
  },
  {
   "cell_type": "code",
   "execution_count": null,
   "id": "e5b82868",
   "metadata": {},
   "outputs": [],
   "source": [
    "import numpy as np\n",
    "import matplotlib.pyplot as plt"
   ]
  },
  {
   "cell_type": "markdown",
   "id": "8e8199be",
   "metadata": {},
   "source": [
    "#### Gráfica simple"
   ]
  },
  {
   "cell_type": "markdown",
   "id": "f107f447",
   "metadata": {},
   "source": [
    "Una gráfica simple empleando matplotlib"
   ]
  },
  {
   "cell_type": "code",
   "execution_count": null,
   "id": "80fb0498",
   "metadata": {
    "scrolled": true
   },
   "outputs": [],
   "source": [
    "x = [0, 0.1, 0.2, 0.5]\n",
    "y = [1, -1, 0.5, 2]\n",
    "plt.plot(x, y)"
   ]
  },
  {
   "cell_type": "markdown",
   "id": "1e63b8d5",
   "metadata": {},
   "source": [
    "#### Gráfica de una función matemática"
   ]
  },
  {
   "cell_type": "code",
   "execution_count": null,
   "id": "46a1d5db",
   "metadata": {},
   "outputs": [],
   "source": [
    "#GRAFICA SENO\n",
    "\n",
    "# coding=utf-8\n",
    "\n",
    "# Carga los módulos necesarios\n",
    "import numpy as np\n",
    "import matplotlib.pyplot as plt\n",
    "\n",
    "# Crea el arreglo x de cero a cien con cien puntos\n",
    "x = np.linspace(0, 10,100)\n",
    "\n",
    "# Crea el arreglo y con la función indicada\n",
    "ys = np.sin(x)\n",
    "yc = np.cos(x)\n",
    "\n",
    "# Crea una figura\n",
    "plt.figure(figsize=(12, 4))\n",
    "\n",
    "# imprime la figura\n",
    "plt.plot(x,ys,':r',x,yc,'--b')\n",
    "plt.grid(True)\n",
    "\n",
    "# Muestra en pantalla\n",
    "plt.show()"
   ]
  },
  {
   "cell_type": "code",
   "execution_count": null,
   "id": "6227f9e3",
   "metadata": {
    "scrolled": false
   },
   "outputs": [],
   "source": [
    "import numpy as sp\n",
    "import matplotlib.pyplot as plt\n",
    "\n",
    "# Crea el arreglo x de cero a cien con cien puntos\n",
    "x = sp.linspace(0, 10, 100)\n",
    "\n",
    "# Crea el arreglo y con la función indicada\n",
    "ys = sp.sin(x)\n",
    "yc = sp.cos(x)\n",
    "\n",
    "# Crea una figura\n",
    "fig = plt.figure(figsize=(8, 4))\n",
    "plt.title(\"Funciones seno y coseno\")\n",
    "\n",
    "# Grafica de la función seno\n",
    "ax1 = fig.add_subplot(211)\n",
    "plt.plot(x,ys,\"r\", label = \"sin(x)\")\n",
    "plt.legend()\n",
    "plt.grid(True)\n",
    "plt.xlabel(\"x\")\n",
    "plt.ylabel(\"sin(x)\")\n",
    "\n",
    "# Grafica de la función coseno\n",
    "ax2 = fig.add_subplot(212)\n",
    "plt.plot(x,yc,\"g\", label = \"cos(x)\")\n",
    "plt.legend()\n",
    "plt.grid(True)\n",
    "plt.xlabel(\"x\")\n",
    "plt.ylabel(\"cos(x)\")\n",
    "\n",
    "# Muestra en pantalla\n",
    "plt.show()\n",
    "\n",
    "#guarda en un archivo png\n",
    "fig.savefig('seno.png')"
   ]
  },
  {
   "cell_type": "markdown",
   "id": "32e1d2d6",
   "metadata": {},
   "source": [
    "#### Scatter"
   ]
  },
  {
   "cell_type": "code",
   "execution_count": null,
   "id": "55d03665",
   "metadata": {},
   "outputs": [],
   "source": [
    "N = 100\n",
    "x = np.random.randn(N)\n",
    "y = np.random.randn(N)\n",
    "\n",
    "plt.scatter(x, y)"
   ]
  },
  {
   "cell_type": "code",
   "execution_count": null,
   "id": "c4053fee",
   "metadata": {
    "scrolled": true
   },
   "outputs": [],
   "source": [
    "s = 50 + 50 * np.random.randn(N)\n",
    "c = np.random.randn(N)\n",
    "\n",
    "plt.scatter(x, y, s=s, c=c, cmap=plt.cm.rainbow)\n",
    "plt.colorbar()"
   ]
  },
  {
   "cell_type": "markdown",
   "id": "ac0c100e",
   "metadata": {},
   "source": [
    "#### Histograma"
   ]
  },
  {
   "cell_type": "code",
   "execution_count": null,
   "id": "f500228f",
   "metadata": {},
   "outputs": [],
   "source": [
    "import matplotlib.pyplot as plt\n",
    "import numpy as np\n",
    "\n",
    "plt.style.use('_mpl-gallery')\n",
    "\n",
    "# make data\n",
    "np.random.seed(1)\n",
    "x = 4 + np.random.normal(0, 1.5, 200)\n",
    "\n",
    "# plot:\n",
    "fig, ax = plt.subplots()\n",
    "\n",
    "ax.hist(x, bins=8, linewidth=0.5, edgecolor=\"white\")\n",
    "\n",
    "ax.set(xlim=(0, 8), xticks=np.arange(1, 8),\n",
    "       ylim=(0, 56), yticks=np.linspace(0, 56, 9))\n",
    "\n",
    "plt.show()"
   ]
  },
  {
   "cell_type": "markdown",
   "id": "56d453ef",
   "metadata": {},
   "source": [
    "#### Boxplot"
   ]
  },
  {
   "cell_type": "code",
   "execution_count": null,
   "id": "14df6fe7",
   "metadata": {
    "scrolled": true
   },
   "outputs": [],
   "source": [
    "import matplotlib.pyplot as plt\n",
    "import numpy as np\n",
    "\n",
    "plt.style.use('_mpl-gallery')\n",
    "\n",
    "# make data:\n",
    "np.random.seed(10)\n",
    "D = np.random.normal((3, 5, 4), (1.25, 1.00, 1.25), (100, 3))\n",
    "\n",
    "# plot\n",
    "fig, ax = plt.subplots()\n",
    "VP = ax.boxplot(D, positions=[2, 4, 6], widths=1.5, patch_artist=True,\n",
    "                showmeans=False, showfliers=False,\n",
    "                medianprops={\"color\": \"white\", \"linewidth\": 0.5},\n",
    "                boxprops={\"facecolor\": \"C0\", \"edgecolor\": \"white\",\n",
    "                          \"linewidth\": 0.5},\n",
    "                whiskerprops={\"color\": \"C0\", \"linewidth\": 1.5},\n",
    "                capprops={\"color\": \"C0\", \"linewidth\": 1.5})\n",
    "\n",
    "ax.set(xlim=(0, 8), xticks=np.arange(1, 8),\n",
    "       ylim=(0, 8), yticks=np.arange(1, 8))\n",
    "\n",
    "plt.show()"
   ]
  },
  {
   "cell_type": "markdown",
   "id": "2620f70a",
   "metadata": {},
   "source": [
    "#### Error bar"
   ]
  },
  {
   "cell_type": "code",
   "execution_count": null,
   "id": "73a18c8f",
   "metadata": {},
   "outputs": [],
   "source": [
    "import matplotlib.pyplot as plt\n",
    "import numpy as np\n",
    "\n",
    "plt.style.use('_mpl-gallery')\n",
    "\n",
    "# make data:\n",
    "np.random.seed(1)\n",
    "x = [2, 4, 6]\n",
    "y = [3.6, 5, 4.2]\n",
    "yerr = [0.9, 1.2, 0.5]\n",
    "\n",
    "# plot:\n",
    "fig, ax = plt.subplots()\n",
    "\n",
    "ax.errorbar(x, y, yerr, fmt='o', linewidth=2, capsize=6)\n",
    "\n",
    "ax.set(xlim=(0, 8), xticks=np.arange(1, 8),\n",
    "       ylim=(0, 8), yticks=np.arange(1, 8))\n",
    "\n",
    "plt.show()"
   ]
  },
  {
   "cell_type": "markdown",
   "id": "de3575b8",
   "metadata": {},
   "source": [
    "#### Violin"
   ]
  },
  {
   "cell_type": "code",
   "execution_count": null,
   "id": "ba3506f9",
   "metadata": {},
   "outputs": [],
   "source": [
    "import matplotlib.pyplot as plt\n",
    "import numpy as np\n",
    "\n",
    "plt.style.use('_mpl-gallery')\n",
    "\n",
    "# make data:\n",
    "np.random.seed(10)\n",
    "D = np.random.normal((3, 5, 4), (0.75, 1.00, 0.75), (200, 3))\n",
    "\n",
    "# plot:\n",
    "fig, ax = plt.subplots()\n",
    "\n",
    "vp = ax.violinplot(D, [2, 4, 6], widths=2,\n",
    "                   showmeans=False, showmedians=False, showextrema=False)\n",
    "# styling:\n",
    "for body in vp['bodies']:\n",
    "    body.set_alpha(0.9)\n",
    "ax.set(xlim=(0, 8), xticks=np.arange(1, 8),\n",
    "       ylim=(0, 8), yticks=np.arange(1, 8))\n",
    "\n",
    "plt.show()"
   ]
  },
  {
   "cell_type": "markdown",
   "id": "ac150c65",
   "metadata": {},
   "source": [
    "#### pie"
   ]
  },
  {
   "cell_type": "code",
   "execution_count": null,
   "id": "5d5a15c2",
   "metadata": {},
   "outputs": [],
   "source": [
    "import matplotlib.pyplot as plt\n",
    "import numpy as np\n",
    "\n",
    "plt.style.use('_mpl-gallery-nogrid')\n",
    "\n",
    "\n",
    "# make data\n",
    "x = [1, 2, 3, 4]\n",
    "colors = plt.get_cmap('Blues')(np.linspace(0.2, 0.7, len(x)))\n",
    "\n",
    "# plot\n",
    "fig, ax = plt.subplots()\n",
    "ax.pie(x, colors=colors, radius=3, center=(4, 4),\n",
    "       wedgeprops={\"linewidth\": 1, \"edgecolor\": \"white\"}, frame=True)\n",
    "\n",
    "ax.set(xlim=(0, 8), xticks=np.arange(1, 8),\n",
    "       ylim=(0, 8), yticks=np.arange(1, 8))\n",
    "\n",
    "plt.show()"
   ]
  },
  {
   "cell_type": "markdown",
   "id": "0bf3cf6a",
   "metadata": {},
   "source": [
    "#### Referencias para estudio"
   ]
  },
  {
   "cell_type": "markdown",
   "id": "b538599c",
   "metadata": {},
   "source": [
    "- Documentación [Matplotlib](https://matplotlib.org/stable/index.html)"
   ]
  },
  {
   "cell_type": "markdown",
   "id": "7a135d9f",
   "metadata": {},
   "source": [
    "### Pandas"
   ]
  },
  {
   "cell_type": "markdown",
   "id": "c415b08c",
   "metadata": {},
   "source": [
    "#### Qué es Pandas?"
   ]
  },
  {
   "cell_type": "markdown",
   "id": "569a808e",
   "metadata": {},
   "source": [
    "Es un módulo (biblioteca) en *Python* de código abierto (open source) que proporciona estructuras de datos flexibles y permite trabajar con la información de forma eficiente (gran parte de Pandas está implementado usando `C/Cython` para obtener un buen rendimiento).\n",
    "\n",
    "Desde [este enlace](http://pandas.pydata.org \"Pandas\") podrás acceder a la página oficial de Pandas.\n",
    "\n",
    "Antes de *Pandas*, *Python* se utilizó principalmente para la manipulación y preparación de datos. Tenía muy poca contribución al análisis de datos. *Pandas* resolvió este problema. Usando *Pandas*, podemos lograr cinco pasos típicos en el procesamiento y análisis de datos, independientemente del origen de los datos: \n",
    "\n",
    "<br>\n",
    "- cargar, \n",
    "</br>\n",
    "\n",
    "<br>\n",
    "- preparar, \n",
    "</br>\n",
    "\n",
    "<br>\n",
    "- manipular, \n",
    "</br>\n",
    "\n",
    "<br>\n",
    "- modelar, y \n",
    "</br>\n",
    "\n",
    "<br>\n",
    "- analizar.\n",
    "</br>"
   ]
  },
  {
   "cell_type": "markdown",
   "id": "4ae55c4b",
   "metadata": {},
   "source": [
    "#### Estructuras de datos en *Pandas*"
   ]
  },
  {
   "cell_type": "markdown",
   "id": "03d5176f",
   "metadata": {},
   "source": [
    "Ofrece varias estructuras de datos que nos resultarán de mucha utilidad y que vamos a ir viendo poco a poco. Todas las posibles estructuras de datos que ofrece a día de hoy son:\n",
    "\n",
    "\n",
    "- **`Series`:** Son arrays unidimensionales con indexación (arrays con índice o etiquetados), similar a los diccionarios. Pueden generarse a partir de diccionarios o de listas.  \n",
    " \n",
    " \n",
    "- **`DataFrame`:** Similares a las tablas de bases de datos relacionales como `SQL`.\n",
    " \n",
    " \n",
    "- **`Panel`, `Panel4D` y `PanelND`:** Permiten trabajar con más de dos dimensiones. Dado que es algo complejo y poco utilizado trabajar con arrays de más de dos dimensiones no trataremos los paneles en estos tutoriales de introducción a Pandas."
   ]
  },
  {
   "cell_type": "code",
   "execution_count": null,
   "id": "40316cea",
   "metadata": {},
   "outputs": [],
   "source": [
    "import pandas as pd\n",
    "import numpy as np\n",
    "import matplotlib.pyplot as plt"
   ]
  },
  {
   "cell_type": "markdown",
   "id": "3157a39b",
   "metadata": {},
   "source": [
    "#### Series"
   ]
  },
  {
   "cell_type": "code",
   "execution_count": null,
   "id": "12affaa6",
   "metadata": {},
   "outputs": [],
   "source": [
    "data = np.array(['a','b','c','d'])\n",
    "s = pd.Series(data)\n",
    "print(s)"
   ]
  },
  {
   "cell_type": "code",
   "execution_count": null,
   "id": "77c5ab0f",
   "metadata": {},
   "outputs": [],
   "source": [
    "indices = ['a','b','c','d']\n",
    "data = [\"Carlos\",\"Alberto\",\"alvarez\",\"henao\"]\n",
    "#indices = [v for v in range(len(data))]\n",
    "\n",
    "s = pd.Series(data,index=indices)\n",
    "\n",
    "print(s)"
   ]
  },
  {
   "cell_type": "code",
   "execution_count": null,
   "id": "9d26fa00",
   "metadata": {},
   "outputs": [],
   "source": [
    "# serie(serie temporal) con índices que son fechas\n",
    "n = 60\n",
    "serie = pd.Series(np.random.randn(n),\n",
    "                  index = pd.date_range('2001/01/01', periods = n))\n",
    "print('Serie temporal con índices de fechas')\n",
    "print('{}'.format(serie))\n",
    "print(type(serie))"
   ]
  },
  {
   "cell_type": "markdown",
   "id": "88462132",
   "metadata": {},
   "source": [
    "#### DataFrame"
   ]
  },
  {
   "cell_type": "markdown",
   "id": "b59f04a5",
   "metadata": {},
   "source": [
    "Un `DataFrame` es una estructura 2-Dimensional, es decir, los datos se alinean en forma tabular por filas y columnas.\n",
    "\n",
    "```python\n",
    "    pandas.DataFrame(data, index, columns, dtype, copy) \n",
    "```\n",
    "\n",
    "Los parámetros de este constructor son los siguientes:\n",
    "\n",
    "- **`data`:** Pueden ser de diferentes formas como `ndarray`, `Series`, `map`, `lists`, `dict`, constantes o también otro `DataFrame`.\n",
    "\n",
    "- **`index`:** para las etiquetas de fila, el índice que se utilizará para la trama resultante es dado de forma opcional por defecto por `np.arange(n)`, si no se especifica ningún índice.\n",
    "\n",
    "- **`columns`:** para las etiquetas de columnas, la sintaxis por defecto es `np.arange(n)`. Esto es así si no se especifíca ningún índice.\n",
    "\n",
    "- **`dtype`:** tipo de dato para cada columna\n",
    "\n",
    "- **`copy`:*** Es usado para copiar los datos. Por defecto es `False`."
   ]
  },
  {
   "cell_type": "code",
   "execution_count": null,
   "id": "888a3939",
   "metadata": {},
   "outputs": [],
   "source": [
    "data = [[1,2, 3],[4, 5, 6],[7,8,9]]\n",
    "df = pd.DataFrame(data)\n",
    "print(df)"
   ]
  },
  {
   "cell_type": "code",
   "execution_count": null,
   "id": "14ddca57",
   "metadata": {},
   "outputs": [],
   "source": [
    "data = [['Alex',10],['Bob',12],['Clarke',13]]\n",
    "columnas=['Name','Age']\n",
    "df = pd.DataFrame(data,columns = columnas)\n",
    "print(df)"
   ]
  },
  {
   "cell_type": "code",
   "execution_count": null,
   "id": "9c0b5558",
   "metadata": {},
   "outputs": [],
   "source": [
    "df = pd.DataFrame(data,columns=['Name','Age'],dtype=float)\n",
    "print(df)"
   ]
  },
  {
   "cell_type": "code",
   "execution_count": null,
   "id": "16706b02",
   "metadata": {},
   "outputs": [],
   "source": [
    "data = {'Name':['Tom', 'Jack', 'Steve', 'Ricky'],'Age':[28,34,29,42]}\n",
    "df = pd.DataFrame(data)\n",
    "print(df)"
   ]
  },
  {
   "cell_type": "markdown",
   "id": "f5f8995b",
   "metadata": {},
   "source": [
    "#### Lectura / Escritura en Pandas"
   ]
  },
  {
   "cell_type": "markdown",
   "id": "65415200",
   "metadata": {},
   "source": [
    "Una de las grandes capacidades de *`Pandas`* es la potencia que aporta a lo hora de leer y/o escribir archivos de datos.\n",
    "\n",
    "- Pandas es capaz de leer datos de archivos `csv`, `excel`, `HDF5`, `sql`, `json`, `html`,...\n",
    "\n",
    "Si se emplean datos de terceros, que pueden provenir de muy diversas fuentes, una de las partes más tediosas del trabajo será tener los datos listos para empezar a trabajar: Limpiar huecos, poner fechas en formato usable, saltarse cabeceros,...\n",
    "\n",
    "Sin duda, una de las funciones que más se usarán será `read_csv()` que permite una gran flexibilidad a la hora de leer un archivo de texto plano.\n",
    "\n",
    "Veamos el siguiente ejemplo:"
   ]
  },
  {
   "cell_type": "code",
   "execution_count": null,
   "id": "5fb28fd8",
   "metadata": {},
   "outputs": [],
   "source": [
    "# Load users info\n",
    "userHeader = ['ID', 'Sexo', 'Edad', 'Ocupacion', 'PBOX']\n",
    "\n",
    "df_users = pd.read_csv('Data/users.txt', engine='python', sep='::', header=None, names=userHeader)"
   ]
  },
  {
   "cell_type": "markdown",
   "id": "b6ae0931",
   "metadata": {},
   "source": [
    "Existen varias formas de ver el contenido del DataFrame *df_users*:"
   ]
  },
  {
   "cell_type": "code",
   "execution_count": null,
   "id": "1ec79993",
   "metadata": {},
   "outputs": [],
   "source": [
    "df_users"
   ]
  },
  {
   "cell_type": "code",
   "execution_count": null,
   "id": "deaa7afd",
   "metadata": {},
   "outputs": [],
   "source": [
    "df_users.head()"
   ]
  },
  {
   "cell_type": "code",
   "execution_count": null,
   "id": "78b2fe8d",
   "metadata": {},
   "outputs": [],
   "source": [
    "df_users.tail()"
   ]
  },
  {
   "cell_type": "code",
   "execution_count": null,
   "id": "c0008188",
   "metadata": {},
   "outputs": [],
   "source": [
    "df_users.info()"
   ]
  },
  {
   "cell_type": "markdown",
   "id": "183ccc4f",
   "metadata": {},
   "source": [
    "Podemos obtener algunos estadísticos básicos del DataFrame:"
   ]
  },
  {
   "cell_type": "code",
   "execution_count": null,
   "id": "0a73ba6e",
   "metadata": {},
   "outputs": [],
   "source": [
    "print(df_users.Edad.min())"
   ]
  },
  {
   "cell_type": "code",
   "execution_count": null,
   "id": "cf087388",
   "metadata": {},
   "outputs": [],
   "source": [
    "print(df_users.Edad.max())"
   ]
  },
  {
   "cell_type": "code",
   "execution_count": null,
   "id": "36b4fdda",
   "metadata": {},
   "outputs": [],
   "source": [
    "print(df_users.count())"
   ]
  },
  {
   "cell_type": "code",
   "execution_count": null,
   "id": "4c268d68",
   "metadata": {},
   "outputs": [],
   "source": [
    "print(df_users.mean())"
   ]
  },
  {
   "cell_type": "code",
   "execution_count": null,
   "id": "5e91c4b9",
   "metadata": {},
   "outputs": [],
   "source": [
    "print(df_users.quantile())"
   ]
  },
  {
   "cell_type": "markdown",
   "id": "82c6ec9c",
   "metadata": {},
   "source": [
    "O podemos tener una tabla resumen"
   ]
  },
  {
   "cell_type": "code",
   "execution_count": null,
   "id": "8922bdd1",
   "metadata": {},
   "outputs": [],
   "source": [
    "print(df_users.describe())"
   ]
  },
  {
   "cell_type": "code",
   "execution_count": null,
   "id": "62e25dae",
   "metadata": {},
   "outputs": [],
   "source": []
  }
 ],
 "metadata": {
  "kernelspec": {
   "display_name": "Python 3 (ipykernel)",
   "language": "python",
   "name": "python3"
  },
  "language_info": {
   "codemirror_mode": {
    "name": "ipython",
    "version": 3
   },
   "file_extension": ".py",
   "mimetype": "text/x-python",
   "name": "python",
   "nbconvert_exporter": "python",
   "pygments_lexer": "ipython3",
   "version": "3.11.3"
  },
  "toc": {
   "base_numbering": 1,
   "nav_menu": {},
   "number_sections": true,
   "sideBar": true,
   "skip_h1_title": true,
   "title_cell": "Tabla de Contenidos",
   "title_sidebar": "Contenidos",
   "toc_cell": true,
   "toc_position": {
    "height": "calc(100% - 180px)",
    "left": "10px",
    "top": "150px",
    "width": "392px"
   },
   "toc_section_display": true,
   "toc_window_display": true
  }
 },
 "nbformat": 4,
 "nbformat_minor": 5
}
