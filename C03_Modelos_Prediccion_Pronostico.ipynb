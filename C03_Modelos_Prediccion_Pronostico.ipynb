{
 "cells": [
  {
   "cell_type": "markdown",
   "id": "9b795f7e",
   "metadata": {},
   "source": [
    "<h1 align=\"center\">Analítica de datos para la toma de decisiones empresariales</h1>\n",
    "<h1 align=\"center\">Modelos de predicción y pronóstico</h1>\n",
    "<h1 align=\"center\">Centro de Educación Continua</h1>\n",
    "<h1 align=\"center\">EAFIT</h1>\n",
    "<h1 align=\"center\">2023</h1>\n",
    "<h1 align=\"center\">MEDELLÍN - COLOMBIA </h1>"
   ]
  },
  {
   "cell_type": "markdown",
   "id": "3889f408",
   "metadata": {},
   "source": [
    "<table>\n",
    " <tr align=left><td><img align=left src=\"https://github.com/carlosalvarezh/CFD_Applied/blob/master/figs/CC-BY.png?raw=true\">\n",
    " <td>Text provided under a Creative Commons Attribution license, CC-BY. All code is made available under the FSF-approved MIT license.(c) Carlos Alberto Alvarez Henao</td>\n",
    "</table>"
   ]
  },
  {
   "cell_type": "markdown",
   "id": "cc05a1f3",
   "metadata": {},
   "source": [
    "## Visualización de datos y variables con información compartida (Diagrama de dispersión)"
   ]
  },
  {
   "cell_type": "markdown",
   "id": "6d4dd619",
   "metadata": {},
   "source": [
    "### Definición y Conceptos"
   ]
  },
  {
   "cell_type": "markdown",
   "id": "ff339e1f",
   "metadata": {},
   "source": [
    "#### Diagrama de Dispersión"
   ]
  },
  {
   "cell_type": "markdown",
   "id": "b20e1eec",
   "metadata": {},
   "source": [
    "Un diagrama de dispersión, también conocido como gráfico de dispersión o scatter plot, es una representación gráfica que utiliza puntos para mostrar la relación entre dos variables. Cada punto en el gráfico representa una observación en los datos y se coloca en coordenadas definidas por los valores de las dos variables. Esta visualización nos permite identificar patrones, tendencias, correlaciones y posibles valores atípicos en los datos."
   ]
  },
  {
   "cell_type": "markdown",
   "id": "b31585fb",
   "metadata": {},
   "source": [
    "#### Variables"
   ]
  },
  {
   "cell_type": "markdown",
   "id": "affd2aca",
   "metadata": {},
   "source": [
    "Las variables son atributos o características que se miden o registran en un conjunto de datos. En un diagrama de dispersión, tenemos dos tipos de variables:\n",
    "\n",
    "- ***Variable Independiente (X):*** Es la variable que se coloca en el eje horizontal. Es la variable que se supone que causa o influye en los cambios de la otra variable.\n",
    "<p>&nbsp;</p>\n",
    "\n",
    "- ***Variable Dependiente (Y):*** Es la variable que se coloca en el eje vertical. Es la variable que se espera que responda o cambie en función de la variable independiente."
   ]
  },
  {
   "cell_type": "markdown",
   "id": "02354c06",
   "metadata": {},
   "source": [
    "### Uso de Diagramas de Dispersión"
   ]
  },
  {
   "cell_type": "markdown",
   "id": "b31e3843",
   "metadata": {},
   "source": [
    "#### Identificación de Correlación"
   ]
  },
  {
   "cell_type": "markdown",
   "id": "949f1f67",
   "metadata": {},
   "source": [
    "Uno de los principales usos de los diagramas de dispersión es identificar la relación entre las variables. Podemos observar si los puntos tienden a agruparse en una forma particular, como una línea recta, lo que indica una correlación lineal. Esto nos ayuda a comprender si existe una dependencia entre las variables y cómo cambian conjuntamente."
   ]
  },
  {
   "cell_type": "markdown",
   "id": "99c30e96",
   "metadata": {},
   "source": [
    "#### Detección de Valores Atípicos"
   ]
  },
  {
   "cell_type": "markdown",
   "id": "27d92c2d",
   "metadata": {},
   "source": [
    "Los valores atípicos son observaciones que difieren significativamente del resto de los datos. Un diagrama de dispersión puede revelar puntos que se alejan considerablemente de la mayoría, lo que puede ser indicativo de errores en los datos, eventos raros o condiciones especiales que deben tenerse en cuenta en el análisis."
   ]
  },
  {
   "cell_type": "markdown",
   "id": "def01d9c",
   "metadata": {},
   "source": [
    "#### Visualización de Patrones"
   ]
  },
  {
   "cell_type": "markdown",
   "id": "69020dd2",
   "metadata": {},
   "source": [
    "Los diagramas de dispersión también nos permiten identificar patrones o agrupamientos en los datos. Podemos observar si los puntos forman grupos o clusters, lo que puede indicar la presencia de subconjuntos dentro de los datos."
   ]
  },
  {
   "cell_type": "markdown",
   "id": "cbad6bdd",
   "metadata": {},
   "source": [
    "### Ejemplos Prácticos"
   ]
  },
  {
   "cell_type": "markdown",
   "id": "6bde12cc",
   "metadata": {},
   "source": [
    "#### Ejemplo 1: Relación entre Ventas y Gastos de Marketing"
   ]
  },
  {
   "cell_type": "markdown",
   "id": "e6503f8d",
   "metadata": {},
   "source": [
    "Supongamos que tenemos un conjunto de datos de una empresa que registra las ventas mensuales y los gastos en marketing durante un año. Queremos analizar si existe una relación entre los gastos en marketing y las ventas."
   ]
  },
  {
   "cell_type": "code",
   "execution_count": null,
   "id": "d3470765",
   "metadata": {},
   "outputs": [],
   "source": [
    "import numpy as np\n",
    "import pandas as pd\n",
    "import matplotlib.pyplot as plt\n",
    "import seaborn as sns\n",
    "\n",
    "# Generar datos de ejemplo\n",
    "np.random.seed(42)\n",
    "meses = np.arange(1, 13)\n",
    "ventas = np.random.randint(100, 1000, size=12)\n",
    "gastos_marketing = ventas * np.random.uniform(0.1, 0.5, size=12)\n",
    "\n",
    "# Crear un DataFrame\n",
    "data = pd.DataFrame({'Meses': meses, 'Ventas': ventas, 'Gastos de Marketing': gastos_marketing})\n",
    "\n",
    "# Crear el diagrama de dispersión\n",
    "plt.figure(figsize=(5, 3))\n",
    "sns.scatterplot(data=data, x='Gastos de Marketing', y='Ventas', s=100, color='b', alpha=0.7)\n",
    "plt.title('Relación entre Ventas y Gastos de Marketing')\n",
    "plt.xlabel('Gastos de Marketing')\n",
    "plt.ylabel('Ventas')\n",
    "plt.grid(True)\n",
    "plt.show()"
   ]
  },
  {
   "cell_type": "markdown",
   "id": "33b7d8c3",
   "metadata": {},
   "source": [
    "En este ejemplo, podemos ver cómo se distribuyen las ventas en relación con los gastos de marketing. Si los puntos tienden a estar agrupados en una dirección ascendente, podemos inferir que existe una correlación positiva entre los gastos en marketing y las ventas."
   ]
  },
  {
   "cell_type": "markdown",
   "id": "786e4d43",
   "metadata": {},
   "source": [
    "#### Ejemplo 2: Análisis de Rendimiento de Empleados"
   ]
  },
  {
   "cell_type": "markdown",
   "id": "842aea0e",
   "metadata": {},
   "source": [
    "Imaginemos que tenemos datos sobre el rendimiento de los empleados en una empresa, medido en términos de ventas generadas y horas de capacitación recibidas. Queremos analizar si hay alguna relación entre el tiempo de capacitación y el rendimiento de ventas."
   ]
  },
  {
   "cell_type": "code",
   "execution_count": null,
   "id": "66d5030c",
   "metadata": {},
   "outputs": [],
   "source": [
    "import numpy as np\n",
    "import pandas as pd\n",
    "import matplotlib.pyplot as plt\n",
    "import seaborn as sns\n",
    "\n",
    "# Establecer la semilla para reproducibilidad\n",
    "np.random.seed(123)\n",
    "\n",
    "# Generar datos de ejemplo\n",
    "num_empleados = 50\n",
    "ventas_generadas = np.random.randint(1000, 10000, size=num_empleados)\n",
    "horas_capacitacion = np.random.randint(10, 100, size=num_empleados)\n",
    "\n",
    "# Crear un DataFrame\n",
    "employee_data = pd.DataFrame({'Ventas Generadas': ventas_generadas, 'Horas de Capacitación': horas_capacitacion})\n",
    "\n",
    "# Crear el diagrama de dispersión con regresión lineal y intervalo de confianza\n",
    "plt.figure(figsize=(10, 6))\n",
    "sns.regplot(data=employee_data, x='Horas de Capacitación', y='Ventas Generadas', scatter_kws={'s': 70}, line_kws={'color': 'red'})\n",
    "plt.title('Rendimiento de Empleados: Horas de Capacitación vs. Ventas Generadas')\n",
    "plt.xlabel('Horas de Capacitación')\n",
    "plt.ylabel('Ventas Generadas')\n",
    "\n",
    "# Mostrar el diagrama de dispersión con la línea de regresión y el intervalo de confianza\n",
    "plt.grid(True)\n",
    "plt.show()"
   ]
  },
  {
   "cell_type": "markdown",
   "id": "aa30187b",
   "metadata": {},
   "source": [
    "***Análisis de Resultados:***\n",
    "\n",
    "En el diagrama de dispersión generado, observamos puntos dispersos que representan la relación entre las horas de capacitación y las ventas generadas por los empleados. La línea roja representa la regresión lineal ajustada a los datos. Esta línea muestra la tendencia general en la relación entre las dos variables.\n",
    "\n",
    "En el diagrama observamos que la línea de regresión tiene una pendiente muy leve y con tendencia negativa (descendiente). Esto indica una relación muy débil entre las horas de capacitación y las ventas generadas por los empleados. En otras palabras, aunque la línea tiene una pendiente negativa, la relación entre estas dos variables es prácticamente horizontal y casi sin relación aparente.\n",
    "\n",
    "La región sombreada que rodea la línea de regresión es el intervalo de confianza para la regresión. Este intervalo de confianza nos proporciona información sobre la variabilidad y la incertidumbre en las predicciones del modelo. Cuanto más ancho sea el intervalo, mayor será la incertidumbre en las predicciones. Por el contrario, si el intervalo es más estrecho, las predicciones son más precisas y confiables. Debido a la dispersión de los puntos y la débil relación entre las variables, el intervalo de confianza es bastante amplio. Esto indica que hay mucha incertidumbre en cuanto a cómo las ventas generadas pueden variar en función de las horas de capacitación, debido a la falta de una relación clara entre estas variables.\n",
    "\n",
    "Si la línea de regresión fuera ascendente (con pendiente positiva), significaría que existe una correlación positiva entre las horas de capacitación y las ventas generadas. En otras palabras, a medida que las horas de capacitación aumentan, se espera que las ventas generadas también aumenten.\n",
    "\n",
    "En resumen, en este ejemplo, hemos utilizado un diagrama de dispersión con una línea de regresión y un intervalo de confianza para analizar la relación entre las horas de capacitación y las ventas generadas por los empleados. La regresión lineal y el intervalo de confianza nos proporcionan información valiosa sobre la relación entre las variables y la incertidumbre asociada a las predicciones del modelo."
   ]
  },
  {
   "cell_type": "markdown",
   "id": "383ec0a9",
   "metadata": {},
   "source": [
    "#### Ejemplo 3: Análisis de Relación entre Inversión Publicitaria y Ventas Generadas"
   ]
  },
  {
   "cell_type": "markdown",
   "id": "48928aec",
   "metadata": {},
   "source": [
    "Imaginemos que trabajamos para una empresa que desea analizar la efectividad de su estrategia de publicidad en diferentes canales: televisión (TV), radio e internet. El objetivo es comprender cómo la inversión en publicidad en cada canal se relaciona con las ventas generadas por la empresa. Utilizaremos un diagrama de dispersión con colores y tamaños de puntos personalizados para visualizar esta relación y extraer conclusiones útiles para la toma de decisiones.\n",
    "\n",
    "***Datos Generados:***\n",
    "- Se han recopilado datos de inversión publicitaria y ventas generadas durante 12 meses.\n",
    "- Los canales de publicidad incluyen TV, Radio e Internet.\n",
    "- Cada mes se registra la inversión en cada canal y las ventas generadas.\n",
    "\n",
    "\n",
    "***Pregunta de Investigación:*** \n",
    "- ¿Cómo se relaciona la inversión en publicidad en diferentes canales con las ventas generadas por la empresa?\n",
    "\n",
    "***Análisis:***\n",
    "\n",
    "- Utilizaremos un diagrama de dispersión para visualizar la relación entre la inversión en publicidad y las ventas generadas.\n",
    "<p>&nbsp;</p>\n",
    "- Los puntos en el diagrama tendrán diferentes tamaños y colores para representar las inversiones en los canales de Radio e Internet.\n",
    "<p>&nbsp;</p>\n",
    "- Observaremos cómo las ventas generadas varían en función de la inversión en publicidad en los diferentes canales.\n",
    "\n",
    "\n",
    "***Resultados Esperados:***\n",
    "\n",
    "- Esperamos identificar patrones o tendencias en la relación entre inversión en publicidad y ventas generadas.\n",
    "<p>&nbsp;</p>\n",
    "\n",
    "- Los puntos más grandes (mayor inversión en Internet) podrían indicar una posible relación positiva entre inversión en Internet y ventas.\n",
    "<p>&nbsp;</p>\n",
    "\n",
    "- Los colores más oscuros (mayor inversión en Radio) podrían indicar diferentes niveles de efectividad en función de la inversión en Radio.\n",
    "\n",
    "***Acciones Potenciales:***\n",
    "\n",
    "- Si identificamos una fuerte relación positiva entre inversión en Internet y ventas, podríamos considerar aumentar la inversión en publicidad en este canal.\n",
    "<p>&nbsp;</p>\n",
    "\n",
    "- Si la inversión en Radio no parece tener un impacto claro en las ventas, podríamos evaluar la eficacia de esta estrategia y considerar redistribuir el presupuesto.\n",
    "\n",
    "***Conclusión:***\n",
    "\n",
    "Mediante este análisis visual utilizando el diagrama de dispersión con colores y tamaños de puntos personalizados, esperamos obtener información valiosa sobre la relación entre inversión en publicidad y ventas generadas en diferentes canales. Esto permitirá a la empresa tomar decisiones informadas sobre cómo asignar su presupuesto de publicidad de manera efectiva para maximizar el rendimiento empresarial.\n",
    "\n"
   ]
  },
  {
   "cell_type": "code",
   "execution_count": null,
   "id": "64ace290",
   "metadata": {},
   "outputs": [],
   "source": [
    "import numpy as np\n",
    "import pandas as pd\n",
    "import matplotlib.pyplot as plt\n",
    "import seaborn as sns\n",
    "\n",
    "# Establecer la semilla para reproducibilidad\n",
    "np.random.seed(456)\n",
    "\n",
    "# Generar datos de ejemplo\n",
    "num_meses = 12\n",
    "canales = ['TV', 'Radio', 'Internet']\n",
    "inversiones_tv = np.random.randint(5000, 30000, size=num_meses)\n",
    "inversiones_radio = np.random.randint(1000, 8000, size=num_meses)\n",
    "inversiones_internet = np.random.randint(200, 3000, size=num_meses)\n",
    "ventas_generadas = np.random.randint(20000, 80000, size=num_meses)\n",
    "\n",
    "# Crear un DataFrame\n",
    "advertising_data = pd.DataFrame({\n",
    "    'Meses': np.arange(1, num_meses + 1),\n",
    "    'Inversión TV': inversiones_tv,\n",
    "    'Inversión Radio': inversiones_radio,\n",
    "    'Inversión Internet': inversiones_internet,\n",
    "    'Ventas Generadas': ventas_generadas\n",
    "})\n",
    "\n",
    "# Crear el diagrama de dispersión con diferentes tamaños y colores de puntos\n",
    "plt.figure(figsize=(10, 6))\n",
    "sns.scatterplot(\n",
    "    data=advertising_data,\n",
    "    x='Inversión TV', y='Ventas Generadas',\n",
    "    size='Inversión Internet', hue='Inversión Radio', sizes=(50, 300),\n",
    "    palette='viridis', alpha=0.7\n",
    ")\n",
    "plt.title('Relación entre Inversión Publicitaria y Ventas Generadas')\n",
    "plt.xlabel('Inversión en TV')\n",
    "plt.ylabel('Ventas Generadas')\n",
    "\n",
    "# Mostrar el diagrama de dispersión con tamaños y colores de puntos personalizados\n",
    "plt.legend(title='Inversión Radio', loc='upper right', bbox_to_anchor=(1.25, 1))\n",
    "plt.grid(True)\n",
    "plt.show()\n"
   ]
  },
  {
   "cell_type": "markdown",
   "id": "d62c8682",
   "metadata": {},
   "source": [
    "***Análisis de resultados:***\n",
    "\n",
    "En este ejemplo, estamos explorando la relación entre la inversión publicitaria en tres canales diferentes (TV, Radio e Internet) y las ventas generadas por una empresa en un período de tiempo de 12 meses.\n",
    "\n",
    "- Los puntos en el diagrama de dispersión están marcados con diferentes colores, que representan la inversión en publicidad en el canal de Radio. Mientras más oscuro sea el color, mayor es la inversión en Radio.\n",
    "<p>&nbsp;</p>\n",
    "\n",
    "- Los puntos también varían en tamaño, donde el tamaño de los puntos se relaciona con la inversión en Internet. Los puntos más grandes indican una mayor inversión en publicidad en Internet.\n",
    "\n",
    "Al observar el diagrama de dispersión, podemos obtener las siguientes conclusiones preliminares:\n",
    "\n",
    "- Hay una tendencia general de aumento en las ventas generadas a medida que aumenta la inversión en publicidad en la televisión (canal de TV).\n",
    "<p>&nbsp;</p>\n",
    "\n",
    "- La inversión en publicidad en la radio (canal de Radio) parece tener menos influencia en las ventas generadas, ya que los puntos no muestran una relación clara entre inversión en Radio y ventas.\n",
    "<p>&nbsp;</p>\n",
    "\n",
    "- La inversión en publicidad en Internet (canal de Internet) parece estar positivamente relacionada con las ventas generadas, ya que los puntos más grandes (mayor inversión en Internet) tienden a agruparse en regiones con ventas más altas."
   ]
  },
  {
   "cell_type": "markdown",
   "id": "45a48350",
   "metadata": {},
   "source": [
    "En este ejemplo, el uso de diferentes tamaños y colores de puntos en el diagrama de dispersión añade una dimensión adicional a la visualización, permitiéndonos explorar la relación entre variables de manera más detallada y facilitando la identificación de patrones y tendencias en los datos. Esta información puede ser crucial para la toma de decisiones empresariales, como la asignación de presupuestos de publicidad en diferentes canales para maximizar las ventas generadas."
   ]
  },
  {
   "cell_type": "markdown",
   "id": "94a3985d",
   "metadata": {},
   "source": [
    "## Técnicas estadísticas para la medición de información compartida e indicadores de dependencia (Correlaciones)"
   ]
  },
  {
   "cell_type": "markdown",
   "id": "3eb096e0",
   "metadata": {},
   "source": [
    "### Introducción"
   ]
  },
  {
   "cell_type": "markdown",
   "id": "ce564fc3",
   "metadata": {},
   "source": [
    "En este capítulo, exploraremos las técnicas estadísticas esenciales para medir la relación entre variables y comprender cómo se pueden aplicar en el análisis de datos empresariales para la toma de decisiones. Nos enfocaremos en los indicadores de dependencia, específicamente en las correlaciones, que nos permiten cuantificar la relación entre dos o más variables."
   ]
  },
  {
   "cell_type": "markdown",
   "id": "fcef34db",
   "metadata": {},
   "source": [
    "### Definición de Correlación"
   ]
  },
  {
   "cell_type": "markdown",
   "id": "1853f624",
   "metadata": {},
   "source": [
    "La [correlación](https://en.wikipedia.org/wiki/Correlation) es una medida estadística que describe la relación entre dos variables. Indica la fuerza y la dirección de la relación lineal entre las variables. Si dos variables tienen una correlación alta, significa que tienden a cambiar juntas en la misma dirección (positiva) o en direcciones opuestas (negativa). Sin embargo, es importante recordar que [***correlación no implica causalidad***](https://en.wikipedia.org/wiki/Correlation_does_not_imply_causation), es decir, que una variable cause directamente cambios en la otra. [Aquí](https://www.xataka.com/magnet/a-margarina-divorcios-11-divertidos-ejemplos-que-correlacion-no-implica-causalidad) algunos ejemplos \"divertidos\" de esta sentencia."
   ]
  },
  {
   "cell_type": "markdown",
   "id": "a77e22ad",
   "metadata": {},
   "source": [
    "### Indicadores de Correlación"
   ]
  },
  {
   "cell_type": "markdown",
   "id": "54525c54",
   "metadata": {},
   "source": [
    "#### Coeficiente de Correlación de Pearson"
   ]
  },
  {
   "cell_type": "markdown",
   "id": "d6fefbba",
   "metadata": {},
   "source": [
    "El [coeficiente de correlación de Pearson](https://en.wikipedia.org/wiki/Pearson_correlation_coefficient), denotado como $r_{xy}$, mide la relación lineal entre dos variables continuas. Varía entre $-1$ y $1$, donde $-1$ representa una correlación negativa perfecta, $1$ representa una correlación positiva perfecta y $0$ indica que no hay correlación lineal. Tiene dos presentaciones:\n",
    "\n",
    "- ***Para una población***\n",
    "\n",
    "El *coeficiente de correlación de Pearson* cuando se aplica a una población, típicamente se representa por la letra griega \n",
    "$\\rho(rho)$ y se refiere a ella como *coeficiente de correlación poblacional* o *coeficiente de correlación poblacional de Pearson*.\n",
    "\n",
    "Dado un par de variables aleatorias $\\displaystyle(X,Y)$, el *coeficiente de correlación poblacional de Pearson* (también denotado por$\\displaystyle \\rho_{X,Y}$) se define como:\n",
    "\n",
    "$$\\displaystyle \\rho _{X,Y}={\\sigma _{XY} \\over \\sigma _{X}\\sigma _{Y}}={\\frac {\\operatorname {Cov} (X,Y)}{\\sqrt {\\operatorname {Var} (X)\\operatorname {Var} (Y)}}}$$\n",
    "\n",
    "donde\n",
    "\n",
    "- $\\displaystyle \\sigma _{XY}$ es la [covarianza](https://en.wikipedia.org/wiki/Covariance) de $\\displaystyle (X,Y)$\n",
    "- $\\displaystyle \\sigma _{X}$ es la [desviación estándar](https://en.wikipedia.org/wiki/Standard_deviation) de la variable $X$\n",
    "- $\\displaystyle \\sigma _{Y}$ es la desviación estándar de la variable $Y$\n",
    "<p>&nbsp;</p>\n",
    "\n",
    "- ***Para una muestra***\n",
    "\n",
    "El *coeficiente de correlación de Pearson* cuando es aplicado a una muestra, se suele denotar por $\\displaystyle r_{xy}$ y se refiere a este como el *coeficiente de correlación muestral* o el *coeficiente de correlación muestral de Pearson*. Dados $n$ pares de datos $\\displaystyle \\{(x_{i},y_{i})\\}_{i=1}^{n}$, se define el *coeficiente de correlación muestral de Pearson* como:\n",
    "\n",
    "$$r_{xy} = \\frac{\\sum(x_i-\\bar{x})(y_i-\\bar{y})}{\\sqrt{\\sum{(x_i-\\bar{x})^2}\\sum{(y_i-\\bar{y})^2}}}$$"
   ]
  },
  {
   "cell_type": "markdown",
   "id": "4a5059bf",
   "metadata": {},
   "source": [
    "#### Coeficiente de Correlación de Spearman"
   ]
  },
  {
   "cell_type": "markdown",
   "id": "2ae3a123",
   "metadata": {},
   "source": [
    "El [coeficiente de correlación de Spearman](https://en.wikipedia.org/wiki/Spearman%27s_rank_correlation_coefficient), denotado como $\\rho(rho)$, mide la relación entre dos variables, pero no se limita a relaciones lineales. En cambio, se basa en los rangos de los valores en lugar de los valores reales. Es útil cuando la relación entre variables no es estrictamente lineal. El estadístico $\\rho$ viene dado por la expresión:\n",
    "\n",
    "$$\\rho=1-\\frac{6 \\sum D^2}{N\\left(N^2-1\\right)}$$\n",
    "\n",
    "donde $D$ es la diferencia entre los correspondientes estadísticos de orden de $x-y$. $N$ es el número de parejas de datos.\n",
    "\n",
    "Se tiene que considerar la existencia de datos idénticos a la hora de ordenarlos, aunque si estos son pocos, se puede ignorar tal circunstancia\n",
    "\n",
    "Para muestras mayores de $20$ observaciones, podemos utilizar la siguiente aproximación a la distribución *t de Student*\n",
    "\n",
    "$$ t=\\frac{\\rho}{\\sqrt{\\left(1-\\rho^2\\right) /(n-2)}}$$\n",
    "\n",
    "La interpretación del *coeficiente de Spearman* es igual que la del *coeficiente de correlación de Pearson*. Oscila entre $-1$ y $+1$, indicándonos asociaciones negativas o positivas respectivamente, $0$ cero, significa no correlación pero no independencia. "
   ]
  },
  {
   "cell_type": "markdown",
   "id": "84693db4",
   "metadata": {},
   "source": [
    "#### Coeficiente de Correlación de Kendall"
   ]
  },
  {
   "cell_type": "markdown",
   "id": "c556d125",
   "metadata": {},
   "source": [
    "El [coeficiente de correlación de Kendall](https://en.wikipedia.org/wiki/Kendall_rank_correlation_coefficient), $\\tau$, mide la asociación entre dos variables ordinales. Se enfoca en la concordancia o discordancia de los órdenes relativos de los valores en ambas variables. Una prueba $\\tau$ es una prueba de hipótesis no paramétrica para la dependencia estadística basada en el coeficiente $\\tau$."
   ]
  },
  {
   "cell_type": "markdown",
   "id": "a8ca1d88",
   "metadata": {},
   "source": [
    "### Ejemplos de Aplicación"
   ]
  },
  {
   "cell_type": "markdown",
   "id": "1dd21bce",
   "metadata": {},
   "source": [
    "#### Ejemplo 1: Ventas y Gastos de Marketing"
   ]
  },
  {
   "cell_type": "markdown",
   "id": "353166be",
   "metadata": {},
   "source": [
    "Supongamos que tenemos datos de ventas mensuales y gastos de marketing para una empresa durante un año. Queremos determinar si hay alguna relación entre los gastos de marketing y las ventas."
   ]
  },
  {
   "cell_type": "code",
   "execution_count": null,
   "id": "f79affcf",
   "metadata": {},
   "outputs": [],
   "source": [
    "import numpy as np\n",
    "import pandas as pd\n",
    "import matplotlib.pyplot as plt\n",
    "import seaborn as sns\n",
    "\n",
    "np.random.seed(0)\n",
    "\n",
    "months = np.arange(1, 13)\n",
    "sales = np.random.randint(100, 1000, size=12)\n",
    "marketing_expenses = np.random.randint(50, 500, size=12)\n",
    "\n",
    "data = pd.DataFrame({'Month': months, 'Sales': sales, 'Marketing Expenses': marketing_expenses})\n",
    "\n",
    "# Calculating Pearson correlation\n",
    "pearson_corr = data['Sales'].corr(data['Marketing Expenses'])\n",
    "\n",
    "sns.scatterplot(x='Marketing Expenses', y='Sales', data=data)\n",
    "plt.title(f'Correlation: Pearson r = {pearson_corr:.2f}')\n",
    "plt.show()\n",
    "print(\"pearson_corr: \", pearson_corr)"
   ]
  },
  {
   "cell_type": "markdown",
   "id": "0aaec675",
   "metadata": {},
   "source": [
    "En el gráfico de dispersión, podemos observar una tendencia positiva entre los gastos de marketing y las ventas. El coeficiente de correlación de Pearson también confirma esta relación positiva (por ejemplo, $r \\approx 0.73$). Esto sugiere que un aumento en los gastos de marketing se relaciona con un aumento en las ventas, aunque no implica causalidad directa."
   ]
  },
  {
   "cell_type": "markdown",
   "id": "407e8f34",
   "metadata": {},
   "source": [
    "#### Ejemplo 2: Temperatura y Consumo de Helado"
   ]
  },
  {
   "cell_type": "markdown",
   "id": "a32151d3",
   "metadata": {},
   "source": [
    "Imaginemos que tenemos datos mensuales de la temperatura promedio y el consumo de helado en una ciudad. Queremos examinar si existe alguna relación entre la temperatura y el consumo de helado."
   ]
  },
  {
   "cell_type": "code",
   "execution_count": null,
   "id": "86d0840c",
   "metadata": {},
   "outputs": [],
   "source": [
    "temperature = np.random.randint(20, 40, size=12)\n",
    "ice_cream_consumption = np.random.randint(50, 300, size=12)\n",
    "\n",
    "data = pd.DataFrame({'Temperature': temperature, 'Ice Cream Consumption': ice_cream_consumption})\n",
    "\n",
    "# Calculating Spearman correlation\n",
    "spearman_corr = data['Temperature'].corr(data['Ice Cream Consumption'], method='spearman')\n",
    "\n",
    "sns.scatterplot(x='Temperature', y='Ice Cream Consumption', data=data)\n",
    "plt.title(f'Correlation: Spearman ρ = {spearman_corr:.2f}')\n",
    "plt.show()\n",
    "\n",
    "print(\"spearman_corr: \", spearman_corr)"
   ]
  },
  {
   "cell_type": "markdown",
   "id": "ed490808",
   "metadata": {},
   "source": [
    "El gráfico de dispersión sugiere una relación positiva no lineal entre la temperatura y el consumo de helado. Esto se refuerza por el coeficiente de correlación de Spearman (por ejemplo, ρ ≈ 0.60), que es adecuado para capturar relaciones no lineales."
   ]
  },
  {
   "cell_type": "code",
   "execution_count": null,
   "id": "923e8e62",
   "metadata": {},
   "outputs": [],
   "source": [
    "import numpy as np\n",
    "import pandas as pd\n",
    "import matplotlib.pyplot as plt\n",
    "import seaborn as sns\n",
    "\n",
    "np.random.seed(0)\n",
    "\n",
    "temperature = np.random.randint(20, 40, size=12)\n",
    "ice_cream_consumption = np.random.randint(50, 300, size=12)\n",
    "\n",
    "data = pd.DataFrame({'Temperature': temperature, 'Ice Cream Consumption': ice_cream_consumption})\n",
    "\n",
    "# Calculating Spearman correlation\n",
    "spearman_corr = data['Temperature'].corr(data['Ice Cream Consumption'], method='spearman')\n",
    "\n",
    "sns.scatterplot(x='Temperature', y='Ice Cream Consumption', data=data)\n",
    "plt.title(f'Correlation: Spearman ρ = {spearman_corr:.2f}')\n",
    "plt.show()\n"
   ]
  },
  {
   "cell_type": "markdown",
   "id": "902cf2d6",
   "metadata": {},
   "source": [
    "Con un coeficiente de correlación de Spearman cercano a cero ($\\rho \\approx 0.09$), no podemos establecer una relación significativa entre la temperatura y el consumo de helado. Esto indica que los cambios en la temperatura no parecen tener un impacto claro y consistente en el consumo de helado en esta muestra de datos. Es posible que otros factores no considerados estén influyendo en el consumo de helado de manera más predominante. Por lo tanto, en función de estos datos, no se puede afirmar que haya una correlación fuerte o evidente entre la temperatura y el consumo de helado."
   ]
  },
  {
   "cell_type": "markdown",
   "id": "546ab5ae",
   "metadata": {},
   "source": [
    "#### Ejemplo3: Análisis de Empleados y Productividad"
   ]
  },
  {
   "cell_type": "markdown",
   "id": "9cd54d47",
   "metadata": {},
   "source": [
    "Estamos interesados en comprender la relación entre la cantidad de empleados y la productividad mensual de una empresa. Queremos analizar si existe una correlación entre estos dos factores."
   ]
  },
  {
   "cell_type": "code",
   "execution_count": null,
   "id": "2de7ca92",
   "metadata": {},
   "outputs": [],
   "source": [
    "import numpy as np\n",
    "import pandas as pd\n",
    "import matplotlib.pyplot as plt\n",
    "import seaborn as sns\n",
    "\n",
    "np.random.seed(0)\n",
    "\n",
    "months = np.arange(1, 25)  # Representa dos años\n",
    "employees = np.random.randint(50, 200, size=len(months))\n",
    "productivity = np.random.uniform(0.5, 1.5, size=len(months))\n",
    "\n",
    "data = pd.DataFrame({'Month': months, 'Employees': employees, 'Productivity': productivity})\n",
    "\n",
    "# Calculating Pearson correlation\n",
    "pearson_corr = data['Employees'].corr(data['Productivity'])\n",
    "\n",
    "sns.scatterplot(x='Employees', y='Productivity', data=data)\n",
    "plt.title(f'Correlation: Pearson r = {pearson_corr:.2f}')\n",
    "plt.show()\n"
   ]
  },
  {
   "cell_type": "markdown",
   "id": "4640bb04",
   "metadata": {},
   "source": [
    "El coeficiente de correlación de Pearson calculado es $\\rho \\approx 0.09$. El gráfico de dispersión no muestra una tendencia clara, lo que sugiere que no hay una correlación significativa entre la cantidad de empleados y la productividad. Esto indica que, en este conjunto de datos, no hay una relación fuerte entre estos dos factores. Sin embargo, se deben considerar otros factores que podrían influir en la productividad, como la capacitación y las condiciones laborales."
   ]
  },
  {
   "cell_type": "markdown",
   "id": "1b6a9d5c",
   "metadata": {},
   "source": [
    "## Explicación de una variable en términos de otras (Modelo de regresión lineal)"
   ]
  },
  {
   "cell_type": "markdown",
   "id": "75d992c1",
   "metadata": {},
   "source": [
    "### Introducción"
   ]
  },
  {
   "cell_type": "markdown",
   "id": "fed487a5",
   "metadata": {},
   "source": [
    "En esta sección, exploraremos uno de los métodos más fundamentales y poderosos en el análisis de datos: el Modelo de Regresión Lineal. Este modelo nos permite comprender cómo una variable dependiente puede ser explicada en términos de una o más variables independientes. Aprenderemos los conceptos clave, cómo implementar el modelo en Python utilizando bibliotecas como NumPy y Pandas, y cómo interpretar y evaluar los resultados."
   ]
  },
  {
   "cell_type": "markdown",
   "id": "a0a5dfd4",
   "metadata": {},
   "source": [
    "### Definición y Conceptos"
   ]
  },
  {
   "cell_type": "markdown",
   "id": "4d7610b5",
   "metadata": {},
   "source": [
    "#### Regresión Lineal"
   ]
  },
  {
   "cell_type": "markdown",
   "id": "07e108fd",
   "metadata": {},
   "source": [
    "La [regresión lineal](https://en.wikipedia.org/wiki/Linear_regression) es una técnica estadística que busca modelar la relación entre una variable dependiente (también conocida como variable de respuesta) y una o más variables independientes (también conocidas como predictores o covariables) a través de una ecuación lineal. La forma más simple de regresión lineal se llama *regresión lineal simple*, donde hay una sola variable independiente. Cuando hay más de una variable independiente, se habla de *regresión lineal múltiple*."
   ]
  },
  {
   "cell_type": "markdown",
   "id": "a00e0ebc",
   "metadata": {},
   "source": [
    "#### Ecuación de Regresión Lineal Simple:"
   ]
  },
  {
   "cell_type": "markdown",
   "id": "53b24d73",
   "metadata": {},
   "source": [
    "La ecuación básica para un modelo de regresión lineal simple es:\n",
    "\n",
    "$$Y=\\beta_0+\\beta_1 \\cdot X + \\varepsilon$$\n",
    "\n",
    "donde:\n",
    "\n",
    "- $Y$ es la variable dependiente a predecir.\n",
    "- $X$ son las variables predictoras.\n",
    "- $\\beta_0$ es la intersección (ordenada al origen) con el eje $Y$\n",
    "- $\\beta_1$ es la pendiente de la línea de regresión.\n",
    "- $\\varepsilon$ es el término de error\n",
    "\n",
    "El objetivo principal es encontrar los valores de $\\beta_0$ y $\\beta_1$ que minimicen el error total (sumatoria de los errores al cuadrado) entre los valores reales de $Y$ y los valores predichos por el modelo."
   ]
  },
  {
   "cell_type": "markdown",
   "id": "5e8b0eeb",
   "metadata": {},
   "source": [
    "#### Cálculo de los coeficientes estadísticos"
   ]
  },
  {
   "cell_type": "markdown",
   "id": "ddfa88e1",
   "metadata": {},
   "source": [
    "- ***Coeficientes de Regresión:***\n",
    "\n",
    "Los coeficientes de regresión $\\beta_0$ y $\\beta_1$ se calculan mediante las siguientes fórmulas:\n",
    "$$\n",
    "\\begin{aligned}\n",
    "& \\beta_1=\\frac{\\sum_{i-1}^n\\left(X_i - \\bar{X}\\right)\\left(Y_i - \\bar{Y}\\right)}{\\sum_{i-1}^n\\left(X_i-\\bar{X}\\right)^2} \\\\\n",
    "& \\beta_0=\\bar{Y}-\\beta_1 \\cdot \\bar{X}\n",
    "\\end{aligned}\n",
    "$$\n",
    "Donde:\n",
    "- $n$ es el número de observaciones.\n",
    "- $X_i$ y $Y_i$ son los valores de la variable independiente e dependiente respectivamente en la observación $i$.\n",
    "- $\\bar{X}$ y $\\bar{Y}$ son las medias de las variables $X$ e $Y$ respectivamente.\n",
    "<p>&nbsp;</p>\n",
    "\n",
    "- ***Coeficiente de Determinación $\\left(R^2\\right)$:***\n",
    "\n",
    "El coeficiente de determinación $R^2$ mide la proporción de la variabilidad total en la variable dependiente que es explicada por la regresión. Se calcula así:\n",
    "\n",
    "$$R^2=\\frac{S S R}{S S T}$$\n",
    "\n",
    "- $S S R$ es la suma de los cuadrados de la regresión.\n",
    "- $S S T$ es la suma total de los cuadrados.\n",
    "<p>&nbsp;</p>\n",
    "\n",
    "- ***Error Estándar de Estimación (SEE):***\n",
    "\n",
    "EI SEE es una medida de cuánto difieren los valores reales de la variable dependiente de los valores predichos por el modelo. Se calcula como:\n",
    "\n",
    "$$S E E=\\sqrt{\\frac{\\sum_{i=1}^n\\left(Y_i-\\hat{Y}_i\\right)^2}{n-2}}$$\n",
    "\n",
    "Donde:\n",
    "- $Y_i$ son los valores reales de la variable dependiente.\n",
    "- $\\hat{Y}_i$ son los valores predichos por el modelo."
   ]
  },
  {
   "cell_type": "markdown",
   "id": "75d3a298",
   "metadata": {},
   "source": [
    "#### Indicadores de bondad de ajuste:"
   ]
  },
  {
   "cell_type": "markdown",
   "id": "2514657b",
   "metadata": {},
   "source": [
    "Para evaluar la calidad del modelo de regresión lineal, utilizamos varios indicadores:\n",
    "\n",
    "- ***Coeficiente de Determinación ($R^2$):*** Mide la proporción de la variabilidad de la variable dependiente que es explicada por el modelo. $R^2$ varía entre $0$ y $1$, siendo $1$ indicativo de una perfecta predicción.\n",
    "<p>&nbsp;</p>\n",
    "\n",
    "- ***Error Estándar Residual (RSE):*** Estima la dispersión de los residuos (diferencias entre los valores reales y los predichos).\n",
    "<p>&nbsp;</p>\n",
    "\n",
    "- ***$p$-valor:*** Determina la significancia estadística de los coeficientes. Valores pequeños indican que la variable es relevante en el modelo.\n",
    "<p>&nbsp;</p>\n",
    "\n",
    "- ***Intervalos de Confianza para los Coeficientes:*** Ayudan a establecer el rango probable de valores para los coeficientes."
   ]
  },
  {
   "cell_type": "markdown",
   "id": "6e296151",
   "metadata": {},
   "source": [
    "#### Implementación en Python"
   ]
  },
  {
   "cell_type": "markdown",
   "id": "1e39f74c",
   "metadata": {},
   "source": [
    "Vamos a explorar la implementación de un modelo de regresión lineal utilizando Python y su ecosistema de bibliotecas."
   ]
  },
  {
   "cell_type": "code",
   "execution_count": null,
   "id": "7b12e33f",
   "metadata": {},
   "outputs": [],
   "source": [
    "import numpy as np\n",
    "import pandas as pd\n",
    "import matplotlib.pyplot as plt\n",
    "import seaborn as sns\n",
    "from sklearn.linear_model import LinearRegression\n",
    "from sklearn.metrics import mean_squared_error\n",
    "\n",
    "# Generar datos de ejemplo\n",
    "np.random.seed(42)\n",
    "n_samples = 100\n",
    "X = np.random.rand(n_samples) * 10\n",
    "y = 2 * X + 1 + np.random.randn(n_samples)\n",
    "\n",
    "# Crear un DataFrame\n",
    "data = pd.DataFrame({'X': X, 'y': y})\n",
    "\n",
    "# Visualización de datos\n",
    "plt.figure(figsize=(10, 5))\n",
    "\n",
    "plt.subplot(1, 2, 1)\n",
    "sns.scatterplot(x='X', y='y', data=data)\n",
    "plt.title('Datos de Ejemplo')\n",
    "plt.xlabel('X')\n",
    "plt.ylabel('y')\n",
    "#plt.show()\n",
    "\n",
    "# Ajustar el modelo de regresión lineal\n",
    "model = LinearRegression()\n",
    "model.fit(data[['X']], data['y'])\n",
    "\n",
    "# Coeficientes del modelo\n",
    "print('Coeficiente de intersección (beta0):', model.intercept_)\n",
    "print('Coeficiente de pendiente (beta1):', model.coef_[0])\n",
    "\n",
    "# Hacer predicciones\n",
    "data['y_pred'] = model.predict(data[['X']])\n",
    "\n",
    "# Visualización de resultados\n",
    "\n",
    "plt.subplot(1, 2, 2)\n",
    "plt.scatter(data['X'], data['y'], label='Datos reales')\n",
    "plt.plot(data['X'], data['y_pred'], color='red', label='Regresión lineal')\n",
    "plt.title('Modelo de Regresión Lineal')\n",
    "plt.xlabel('X')\n",
    "plt.ylabel('y')\n",
    "plt.legend()\n",
    "plt.show()\n",
    "\n",
    "# Evaluación del modelo\n",
    "mse = mean_squared_error(data['y'], data['y_pred'])\n",
    "print('Error cuadrado medio:', mse)\n"
   ]
  },
  {
   "cell_type": "markdown",
   "id": "4172fee3",
   "metadata": {},
   "source": [
    "### Ejemplos"
   ]
  },
  {
   "cell_type": "markdown",
   "id": "d5d3a018",
   "metadata": {},
   "source": [
    "#### Ejemplo 1: Ventas en función del Gasto en Publicidad"
   ]
  },
  {
   "cell_type": "markdown",
   "id": "ae530b3b",
   "metadata": {},
   "source": [
    "Supongamos que somos consultores de una empresa y queremos entender cómo el gasto en publicidad afecta las ventas de un producto. Tenemos datos históricos de gastos en publicidad (en miles de dólares) y las ventas correspondientes (en unidades).\n",
    "\n",
    "|Gasto en Publicidad (x)|\tVentas (y)|\n",
    "|:---:|:---:|\n",
    "|100  |230|\n",
    "|150  |315|\n",
    "|200  |400|\n",
    "|250  |460|\n",
    "|300  |525|"
   ]
  },
  {
   "cell_type": "code",
   "execution_count": null,
   "id": "64477673",
   "metadata": {},
   "outputs": [],
   "source": [
    "import numpy as np\n",
    "import matplotlib.pyplot as plt\n",
    "\n",
    "X = np.array([100, 150, 200, 250, 300])\n",
    "Y = np.array([230, 315, 400, 460, 525])\n",
    "\n",
    "beta1 = np.sum((X - np.mean(X)) * (Y - np.mean(Y))) / np.sum((X - np.mean(X))**2)\n",
    "beta0 = np.mean(Y) - beta1 * np.mean(X)\n",
    "\n",
    "Y_pred = beta0 + beta1 * X\n",
    "\n",
    "R2 = np.sum((Y_pred - np.mean(Y))**2) / np.sum((Y - np.mean(Y))**2)\n",
    "SEE = np.sqrt(np.sum((Y - Y_pred)**2) / (len(X) - 2))\n",
    "\n",
    "plt.scatter(X, Y, label='Datos reales')\n",
    "plt.plot(X, Y_pred, color='red', label='Regresión lineal')\n",
    "plt.xlabel('Gasto en Publicidad')\n",
    "plt.ylabel('Ventas')\n",
    "plt.title('Regresión Lineal: Gasto en Publicidad vs Ventas')\n",
    "plt.legend()\n",
    "plt.show()\n",
    "\n",
    "print(\"Coeficiente beta0:\", beta0)\n",
    "print(\"Coeficiente beta1:\", beta1)\n",
    "print(\"Coeficiente R2:\", R2)\n",
    "print(\"Error Estándar de Estimación:\", SEE)\n"
   ]
  },
  {
   "cell_type": "markdown",
   "id": "d39e52c3",
   "metadata": {},
   "source": [
    "En este caso, el modelo de regresión lineal muestra una relación positiva fuerte entre el gasto en publicidad y las ventas. El valor alto de $R^2=0.993$ indica que el $99.3\\%$ de la variabilidad en las ventas puede ser explicada por el gasto en publicidad. El bajo valor del SEE (10.76) sugiere que las predicciones del modelo son bastante cercanas a los valores reales."
   ]
  },
  {
   "cell_type": "markdown",
   "id": "69a40ec1",
   "metadata": {},
   "source": [
    "#### Ejemplo 2: Estimación de Tiempo de Entrega basado en la Distancia"
   ]
  },
  {
   "cell_type": "markdown",
   "id": "fde5ab8c",
   "metadata": {},
   "source": [
    "Supongamos que gestionamos una empresa de mensajería y deseamos predecir el tiempo de entrega de paquetes en función de la distancia entre la oficina y el destino. Tenemos los siguientes datos:\n",
    "\n",
    "|Distancia (X)|\tTiempo de Entrega (Y)|\n",
    "|:---:|:---:|\n",
    "|10|5|\n",
    "|15|7|\n",
    "|20|8|\n",
    "|25|10|\n",
    "|30|12|"
   ]
  },
  {
   "cell_type": "code",
   "execution_count": null,
   "id": "b825f7d4",
   "metadata": {},
   "outputs": [],
   "source": [
    "X = np.array([10, 15, 20, 25, 30])\n",
    "Y = np.array([5, 7, 8, 10, 12])\n",
    "\n",
    "beta1 = np.sum((X - np.mean(X)) * (Y - np.mean(Y))) / np.sum((X - np.mean(X))**2)\n",
    "beta0 = np.mean(Y) - beta1 * np.mean(X)\n",
    "\n",
    "Y_pred = beta0 + beta1 * X\n",
    "\n",
    "R2 = np.sum((Y_pred - np.mean(Y))**2) / np.sum((Y - np.mean(Y))**2)\n",
    "SEE = np.sqrt(np.sum((Y - Y_pred)**2) / (len(X) - 2))\n",
    "\n",
    "plt.scatter(X, Y, label='Datos reales')\n",
    "plt.plot(X, Y_pred, color='red', label='Regresión lineal')\n",
    "plt.xlabel('Distancia')\n",
    "plt.ylabel('Tiempo de Entrega')\n",
    "plt.title('Regresión Lineal: Distancia vs Tiempo de Entrega')\n",
    "plt.legend()\n",
    "plt.show()\n",
    "\n",
    "print(\"Coeficiente beta0:\", beta0)\n",
    "print(\"Coeficiente beta1:\", beta1)\n",
    "print(\"Coeficiente R2:\", R2)\n",
    "print(\"Error Estándar de Estimación:\", SEE)\n"
   ]
  },
  {
   "cell_type": "markdown",
   "id": "5b42341c",
   "metadata": {},
   "source": [
    "***Cuál es su conclusión?***"
   ]
  }
 ],
 "metadata": {
  "kernelspec": {
   "display_name": "Python 3 (ipykernel)",
   "language": "python",
   "name": "python3"
  },
  "language_info": {
   "codemirror_mode": {
    "name": "ipython",
    "version": 3
   },
   "file_extension": ".py",
   "mimetype": "text/x-python",
   "name": "python",
   "nbconvert_exporter": "python",
   "pygments_lexer": "ipython3",
   "version": "3.11.3"
  },
  "toc": {
   "base_numbering": 1,
   "nav_menu": {},
   "number_sections": true,
   "sideBar": true,
   "skip_h1_title": true,
   "title_cell": "Table of Contents",
   "title_sidebar": "Contents",
   "toc_cell": false,
   "toc_position": {
    "height": "calc(100% - 180px)",
    "left": "10px",
    "top": "150px",
    "width": "165px"
   },
   "toc_section_display": true,
   "toc_window_display": true
  }
 },
 "nbformat": 4,
 "nbformat_minor": 5
}
